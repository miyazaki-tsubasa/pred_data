{
 "cells": [
  {
   "cell_type": "markdown",
   "id": "e7496df1-721c-445d-b511-a0aaea1feb9f",
   "metadata": {},
   "source": [
    "ライブラリインポート"
   ]
  },
  {
   "cell_type": "code",
   "execution_count": 2,
   "id": "3b8ff766-272c-4322-be05-40058e63e05c",
   "metadata": {},
   "outputs": [],
   "source": [
    "import pandas as pd\n",
    "import numpy as np\n",
    "\n",
    "#import pycaret\n",
    "\n",
    "#setup関数をimport\n",
    "#from pycaret.regression import setup\n",
    "\n",
    "#compare_models関数は、ライブラリ内のすべてのモデルを使って訓練を行い、スコアを評価する。\n",
    "#回帰問題なので'refression'を指定\n",
    "#from pycaret.regression import compare_models\n",
    "\n",
    "#models関数により、すべての使用可能な機械学習モデルを確認できる。\n",
    "#from pycaret.regression import models\n",
    "\n",
    "#ceate_model関数:「交差検証」を用いて個別のモデルの訓練と評価を行う。  \n",
    "#from pycaret.regression import create_model\n",
    "\n",
    "#tune_model関数を用いて、ハイパーパラメータを最適化する。\n",
    "#from pycaret.regression import tune_model\n",
    "\n",
    "#plot_model関数を使い、各特徴量の重要度をプロットする、\n",
    "#from pycaret.regression import plot_model\n",
    "\n",
    "#finalize_model関数により、すべての訓練データを使ってモデルを訓練し、本番用のモデルを作成できるようにする。\n",
    "#from pycaret.regression import finalize_model\n",
    "\n",
    "#from pycaret.regression import predict_model\n",
    "\n",
    "import lightgbm as lgb\n",
    "from sklearn import metrics\n",
    "from scipy.stats import rankdata\n",
    "from sklearn.metrics import f1_score\n",
    "from sklearn.metrics import accuracy_score\n",
    "from sklearn.preprocessing import LabelEncoder\n",
    "from sklearn.metrics import mean_absolute_error\n",
    "from sklearn.model_selection import train_test_split\n",
    "from sklearn.metrics import confusion_matrix, ConfusionMatrixDisplay\n",
    "\n",
    "import warnings\n",
    "warnings.simplefilter('ignore', FutureWarning)\n",
    "\n",
    "import re\n",
    "import pickle\n",
    "import seaborn as sns\n",
    "import lightgbm as lgb\n",
    "#import japanize_matplotlib\n",
    "import matplotlib.pyplot as plt\n",
    "\n",
    "pd.set_option('display.max_columns', 200)\n",
    "pd.set_option('display.max_rows', 200)\n",
    "\n",
    "import copy\n",
    "\n",
    "import statsmodels.api as sm"
   ]
  },
  {
   "cell_type": "markdown",
   "id": "22054366-1500-4864-8098-5b5cb77b4e62",
   "metadata": {},
   "source": [
    "# 検証６"
   ]
  },
  {
   "cell_type": "markdown",
   "id": "a3d78202-c648-4ebc-b1df-0230725f1cc0",
   "metadata": {},
   "source": [
    "lightgbm(simple)"
   ]
  },
  {
   "cell_type": "code",
   "execution_count": 3,
   "id": "f55a75f7-2294-4c62-92a8-da26a755b004",
   "metadata": {},
   "outputs": [],
   "source": [
    "#前処理\n",
    "\n",
    "#trainデータ処理\n",
    "train_df = pd.read_table('train.tsv')\n",
    "#One-Hot Encoding\n",
    "train_df_one_hot_encoded = pd.get_dummies(train_df,columns=['weathersit'])\n",
    "#曜日の'weekday'を土日(0)と平日(1)の2値データする。\n",
    "#新しい変数'weekday2'を作って、全て0(zero)を入れる\n",
    "train_df_one_hot_encoded['weekday2'] = 0\n",
    "#平日を1にしたいので、1にするコードを用意する\n",
    "train_df_one_hot_encoded.loc[train_df_one_hot_encoded['weekday'].isin(list(range(1,6))),'weekday2']=1\n",
    "# 結果の件数を確認する\n",
    "#train_df_one_hot_encoded['weekday2'].value_counts()\n",
    "# id2500以前は、傾向が違うため、カット(運用開始など？)\n",
    "train_df_one_hot_encoded = train_df_one_hot_encoded[train_df_one_hot_encoded['id'] > 2500]\n",
    "\n",
    "\n",
    "#testデータ処理\n",
    "test_df = pd.read_table('test.tsv')\n",
    "#One-Hot Encoding\n",
    "test_df_one_hot_encoded = pd.get_dummies(test_df,columns=['weathersit'])\n",
    "#曜日の'weekday'を土日(0)と平日(1)の2値データする。\n",
    "#新しい変数'weekday2'を作って、全て0(zero)を入れる\n",
    "test_df_one_hot_encoded['weekday2'] = 0\n",
    "#平日を1にしたいので、1にするコードを用意する\n",
    "test_df_one_hot_encoded.loc[test_df_one_hot_encoded['weekday'].isin(list(range(1,6))),'weekday2']=1\n"
   ]
  },
  {
   "cell_type": "code",
   "execution_count": 5,
   "id": "f01a25e9-7743-48e7-ab20-d996fe1611da",
   "metadata": {},
   "outputs": [
    {
     "data": {
      "text/html": [
       "<div>\n",
       "<style scoped>\n",
       "    .dataframe tbody tr th:only-of-type {\n",
       "        vertical-align: middle;\n",
       "    }\n",
       "\n",
       "    .dataframe tbody tr th {\n",
       "        vertical-align: top;\n",
       "    }\n",
       "\n",
       "    .dataframe thead th {\n",
       "        text-align: right;\n",
       "    }\n",
       "</style>\n",
       "<table border=\"1\" class=\"dataframe\">\n",
       "  <thead>\n",
       "    <tr style=\"text-align: right;\">\n",
       "      <th></th>\n",
       "      <th>id</th>\n",
       "      <th>dteday</th>\n",
       "      <th>season</th>\n",
       "      <th>yr</th>\n",
       "      <th>mnth</th>\n",
       "      <th>hr</th>\n",
       "      <th>holiday</th>\n",
       "      <th>weekday</th>\n",
       "      <th>workingday</th>\n",
       "      <th>temp</th>\n",
       "      <th>atemp</th>\n",
       "      <th>hum</th>\n",
       "      <th>windspeed</th>\n",
       "      <th>cnt</th>\n",
       "      <th>weathersit_1</th>\n",
       "      <th>weathersit_2</th>\n",
       "      <th>weathersit_3</th>\n",
       "      <th>weathersit_4</th>\n",
       "      <th>weekday2</th>\n",
       "    </tr>\n",
       "  </thead>\n",
       "  <tbody>\n",
       "    <tr>\n",
       "      <th>2500</th>\n",
       "      <td>2501</td>\n",
       "      <td>2011-04-19</td>\n",
       "      <td>2</td>\n",
       "      <td>0</td>\n",
       "      <td>4</td>\n",
       "      <td>2</td>\n",
       "      <td>0</td>\n",
       "      <td>2</td>\n",
       "      <td>1</td>\n",
       "      <td>0.46</td>\n",
       "      <td>0.4545</td>\n",
       "      <td>0.67</td>\n",
       "      <td>0.2836</td>\n",
       "      <td>13</td>\n",
       "      <td>1</td>\n",
       "      <td>0</td>\n",
       "      <td>0</td>\n",
       "      <td>0</td>\n",
       "      <td>1</td>\n",
       "    </tr>\n",
       "    <tr>\n",
       "      <th>2501</th>\n",
       "      <td>2502</td>\n",
       "      <td>2011-04-19</td>\n",
       "      <td>2</td>\n",
       "      <td>0</td>\n",
       "      <td>4</td>\n",
       "      <td>3</td>\n",
       "      <td>0</td>\n",
       "      <td>2</td>\n",
       "      <td>1</td>\n",
       "      <td>0.48</td>\n",
       "      <td>0.4697</td>\n",
       "      <td>0.63</td>\n",
       "      <td>0.2239</td>\n",
       "      <td>3</td>\n",
       "      <td>1</td>\n",
       "      <td>0</td>\n",
       "      <td>0</td>\n",
       "      <td>0</td>\n",
       "      <td>1</td>\n",
       "    </tr>\n",
       "    <tr>\n",
       "      <th>2502</th>\n",
       "      <td>2503</td>\n",
       "      <td>2011-04-19</td>\n",
       "      <td>2</td>\n",
       "      <td>0</td>\n",
       "      <td>4</td>\n",
       "      <td>4</td>\n",
       "      <td>0</td>\n",
       "      <td>2</td>\n",
       "      <td>1</td>\n",
       "      <td>0.46</td>\n",
       "      <td>0.4545</td>\n",
       "      <td>0.67</td>\n",
       "      <td>0.0896</td>\n",
       "      <td>5</td>\n",
       "      <td>1</td>\n",
       "      <td>0</td>\n",
       "      <td>0</td>\n",
       "      <td>0</td>\n",
       "      <td>1</td>\n",
       "    </tr>\n",
       "    <tr>\n",
       "      <th>2503</th>\n",
       "      <td>2504</td>\n",
       "      <td>2011-04-19</td>\n",
       "      <td>2</td>\n",
       "      <td>0</td>\n",
       "      <td>4</td>\n",
       "      <td>5</td>\n",
       "      <td>0</td>\n",
       "      <td>2</td>\n",
       "      <td>1</td>\n",
       "      <td>0.46</td>\n",
       "      <td>0.4545</td>\n",
       "      <td>0.72</td>\n",
       "      <td>0.1940</td>\n",
       "      <td>18</td>\n",
       "      <td>0</td>\n",
       "      <td>1</td>\n",
       "      <td>0</td>\n",
       "      <td>0</td>\n",
       "      <td>1</td>\n",
       "    </tr>\n",
       "    <tr>\n",
       "      <th>2504</th>\n",
       "      <td>2505</td>\n",
       "      <td>2011-04-19</td>\n",
       "      <td>2</td>\n",
       "      <td>0</td>\n",
       "      <td>4</td>\n",
       "      <td>6</td>\n",
       "      <td>0</td>\n",
       "      <td>2</td>\n",
       "      <td>1</td>\n",
       "      <td>0.48</td>\n",
       "      <td>0.4697</td>\n",
       "      <td>0.67</td>\n",
       "      <td>0.0000</td>\n",
       "      <td>65</td>\n",
       "      <td>0</td>\n",
       "      <td>1</td>\n",
       "      <td>0</td>\n",
       "      <td>0</td>\n",
       "      <td>1</td>\n",
       "    </tr>\n",
       "  </tbody>\n",
       "</table>\n",
       "</div>"
      ],
      "text/plain": [
       "        id      dteday  season  yr  mnth  hr  holiday  weekday  workingday  \\\n",
       "2500  2501  2011-04-19       2   0     4   2        0        2           1   \n",
       "2501  2502  2011-04-19       2   0     4   3        0        2           1   \n",
       "2502  2503  2011-04-19       2   0     4   4        0        2           1   \n",
       "2503  2504  2011-04-19       2   0     4   5        0        2           1   \n",
       "2504  2505  2011-04-19       2   0     4   6        0        2           1   \n",
       "\n",
       "      temp   atemp   hum  windspeed  cnt  weathersit_1  weathersit_2  \\\n",
       "2500  0.46  0.4545  0.67     0.2836   13             1             0   \n",
       "2501  0.48  0.4697  0.63     0.2239    3             1             0   \n",
       "2502  0.46  0.4545  0.67     0.0896    5             1             0   \n",
       "2503  0.46  0.4545  0.72     0.1940   18             0             1   \n",
       "2504  0.48  0.4697  0.67     0.0000   65             0             1   \n",
       "\n",
       "      weathersit_3  weathersit_4  weekday2  \n",
       "2500             0             0         1  \n",
       "2501             0             0         1  \n",
       "2502             0             0         1  \n",
       "2503             0             0         1  \n",
       "2504             0             0         1  "
      ]
     },
     "execution_count": 5,
     "metadata": {},
     "output_type": "execute_result"
    }
   ],
   "source": [
    "train_df_one_hot_encoded.head()"
   ]
  },
  {
   "cell_type": "code",
   "execution_count": 6,
   "id": "2a8be16f-36ad-4f0e-98d2-148c7789d2a8",
   "metadata": {},
   "outputs": [
    {
     "data": {
      "text/html": [
       "<div>\n",
       "<style scoped>\n",
       "    .dataframe tbody tr th:only-of-type {\n",
       "        vertical-align: middle;\n",
       "    }\n",
       "\n",
       "    .dataframe tbody tr th {\n",
       "        vertical-align: top;\n",
       "    }\n",
       "\n",
       "    .dataframe thead th {\n",
       "        text-align: right;\n",
       "    }\n",
       "</style>\n",
       "<table border=\"1\" class=\"dataframe\">\n",
       "  <thead>\n",
       "    <tr style=\"text-align: right;\">\n",
       "      <th></th>\n",
       "      <th>hr</th>\n",
       "      <th>workingday</th>\n",
       "      <th>weekday2</th>\n",
       "      <th>temp</th>\n",
       "      <th>atemp</th>\n",
       "      <th>weathersit_1</th>\n",
       "      <th>weathersit_2</th>\n",
       "      <th>weathersit_3</th>\n",
       "    </tr>\n",
       "  </thead>\n",
       "  <tbody>\n",
       "    <tr>\n",
       "      <th>2500</th>\n",
       "      <td>2</td>\n",
       "      <td>1</td>\n",
       "      <td>1</td>\n",
       "      <td>0.46</td>\n",
       "      <td>0.4545</td>\n",
       "      <td>1</td>\n",
       "      <td>0</td>\n",
       "      <td>0</td>\n",
       "    </tr>\n",
       "    <tr>\n",
       "      <th>2501</th>\n",
       "      <td>3</td>\n",
       "      <td>1</td>\n",
       "      <td>1</td>\n",
       "      <td>0.48</td>\n",
       "      <td>0.4697</td>\n",
       "      <td>1</td>\n",
       "      <td>0</td>\n",
       "      <td>0</td>\n",
       "    </tr>\n",
       "    <tr>\n",
       "      <th>2502</th>\n",
       "      <td>4</td>\n",
       "      <td>1</td>\n",
       "      <td>1</td>\n",
       "      <td>0.46</td>\n",
       "      <td>0.4545</td>\n",
       "      <td>1</td>\n",
       "      <td>0</td>\n",
       "      <td>0</td>\n",
       "    </tr>\n",
       "    <tr>\n",
       "      <th>2503</th>\n",
       "      <td>5</td>\n",
       "      <td>1</td>\n",
       "      <td>1</td>\n",
       "      <td>0.46</td>\n",
       "      <td>0.4545</td>\n",
       "      <td>0</td>\n",
       "      <td>1</td>\n",
       "      <td>0</td>\n",
       "    </tr>\n",
       "    <tr>\n",
       "      <th>2504</th>\n",
       "      <td>6</td>\n",
       "      <td>1</td>\n",
       "      <td>1</td>\n",
       "      <td>0.48</td>\n",
       "      <td>0.4697</td>\n",
       "      <td>0</td>\n",
       "      <td>1</td>\n",
       "      <td>0</td>\n",
       "    </tr>\n",
       "  </tbody>\n",
       "</table>\n",
       "</div>"
      ],
      "text/plain": [
       "      hr  workingday  weekday2  temp   atemp  weathersit_1  weathersit_2  \\\n",
       "2500   2           1         1  0.46  0.4545             1             0   \n",
       "2501   3           1         1  0.48  0.4697             1             0   \n",
       "2502   4           1         1  0.46  0.4545             1             0   \n",
       "2503   5           1         1  0.46  0.4545             0             1   \n",
       "2504   6           1         1  0.48  0.4697             0             1   \n",
       "\n",
       "      weathersit_3  \n",
       "2500             0  \n",
       "2501             0  \n",
       "2502             0  \n",
       "2503             0  \n",
       "2504             0  "
      ]
     },
     "execution_count": 6,
     "metadata": {},
     "output_type": "execute_result"
    }
   ],
   "source": [
    "#必要な説明変数だけをとりだす\n",
    "train_df_x = train_df_one_hot_encoded[['hr','workingday','weekday2','temp','atemp','weathersit_1','weathersit_2','weathersit_3']]\n",
    "train_df_y = train_df_one_hot_encoded['cnt']\n",
    "train_df_x.head()"
   ]
  },
  {
   "cell_type": "code",
   "execution_count": 7,
   "id": "c406ccd6-27b3-43ec-8dc7-130cc43ff57c",
   "metadata": {},
   "outputs": [],
   "source": [
    "# defaultはtrain dataが75%、test dataが25%に分割\n",
    "# また時系列のデータなので、shuffleをFalseにする。\n",
    "train_X, test_X, train_y, test_y = train_test_split(train_df_x, train_df_y, random_state=42, shuffle=False)\n"
   ]
  },
  {
   "cell_type": "code",
   "execution_count": 8,
   "id": "c0f3cbe0-7200-460e-91a5-fdbdbcc81cb1",
   "metadata": {},
   "outputs": [],
   "source": [
    "import lightgbm as lgb #LightGBM"
   ]
  },
  {
   "cell_type": "code",
   "execution_count": 10,
   "id": "553a369d-4f57-47e4-8431-466c03c7ac82",
   "metadata": {},
   "outputs": [],
   "source": [
    "# モデルのインスタンス\n",
    "model_lgb = lgb.LGBMRegressor()"
   ]
  },
  {
   "cell_type": "code",
   "execution_count": 11,
   "id": "8b304a12-90b4-4dd5-a74e-04132987c8f1",
   "metadata": {},
   "outputs": [
    {
     "data": {
      "text/html": [
       "<style>#sk-container-id-1 {color: black;background-color: white;}#sk-container-id-1 pre{padding: 0;}#sk-container-id-1 div.sk-toggleable {background-color: white;}#sk-container-id-1 label.sk-toggleable__label {cursor: pointer;display: block;width: 100%;margin-bottom: 0;padding: 0.3em;box-sizing: border-box;text-align: center;}#sk-container-id-1 label.sk-toggleable__label-arrow:before {content: \"▸\";float: left;margin-right: 0.25em;color: #696969;}#sk-container-id-1 label.sk-toggleable__label-arrow:hover:before {color: black;}#sk-container-id-1 div.sk-estimator:hover label.sk-toggleable__label-arrow:before {color: black;}#sk-container-id-1 div.sk-toggleable__content {max-height: 0;max-width: 0;overflow: hidden;text-align: left;background-color: #f0f8ff;}#sk-container-id-1 div.sk-toggleable__content pre {margin: 0.2em;color: black;border-radius: 0.25em;background-color: #f0f8ff;}#sk-container-id-1 input.sk-toggleable__control:checked~div.sk-toggleable__content {max-height: 200px;max-width: 100%;overflow: auto;}#sk-container-id-1 input.sk-toggleable__control:checked~label.sk-toggleable__label-arrow:before {content: \"▾\";}#sk-container-id-1 div.sk-estimator input.sk-toggleable__control:checked~label.sk-toggleable__label {background-color: #d4ebff;}#sk-container-id-1 div.sk-label input.sk-toggleable__control:checked~label.sk-toggleable__label {background-color: #d4ebff;}#sk-container-id-1 input.sk-hidden--visually {border: 0;clip: rect(1px 1px 1px 1px);clip: rect(1px, 1px, 1px, 1px);height: 1px;margin: -1px;overflow: hidden;padding: 0;position: absolute;width: 1px;}#sk-container-id-1 div.sk-estimator {font-family: monospace;background-color: #f0f8ff;border: 1px dotted black;border-radius: 0.25em;box-sizing: border-box;margin-bottom: 0.5em;}#sk-container-id-1 div.sk-estimator:hover {background-color: #d4ebff;}#sk-container-id-1 div.sk-parallel-item::after {content: \"\";width: 100%;border-bottom: 1px solid gray;flex-grow: 1;}#sk-container-id-1 div.sk-label:hover label.sk-toggleable__label {background-color: #d4ebff;}#sk-container-id-1 div.sk-serial::before {content: \"\";position: absolute;border-left: 1px solid gray;box-sizing: border-box;top: 0;bottom: 0;left: 50%;z-index: 0;}#sk-container-id-1 div.sk-serial {display: flex;flex-direction: column;align-items: center;background-color: white;padding-right: 0.2em;padding-left: 0.2em;position: relative;}#sk-container-id-1 div.sk-item {position: relative;z-index: 1;}#sk-container-id-1 div.sk-parallel {display: flex;align-items: stretch;justify-content: center;background-color: white;position: relative;}#sk-container-id-1 div.sk-item::before, #sk-container-id-1 div.sk-parallel-item::before {content: \"\";position: absolute;border-left: 1px solid gray;box-sizing: border-box;top: 0;bottom: 0;left: 50%;z-index: -1;}#sk-container-id-1 div.sk-parallel-item {display: flex;flex-direction: column;z-index: 1;position: relative;background-color: white;}#sk-container-id-1 div.sk-parallel-item:first-child::after {align-self: flex-end;width: 50%;}#sk-container-id-1 div.sk-parallel-item:last-child::after {align-self: flex-start;width: 50%;}#sk-container-id-1 div.sk-parallel-item:only-child::after {width: 0;}#sk-container-id-1 div.sk-dashed-wrapped {border: 1px dashed gray;margin: 0 0.4em 0.5em 0.4em;box-sizing: border-box;padding-bottom: 0.4em;background-color: white;}#sk-container-id-1 div.sk-label label {font-family: monospace;font-weight: bold;display: inline-block;line-height: 1.2em;}#sk-container-id-1 div.sk-label-container {text-align: center;}#sk-container-id-1 div.sk-container {/* jupyter's `normalize.less` sets `[hidden] { display: none; }` but bootstrap.min.css set `[hidden] { display: none !important; }` so we also need the `!important` here to be able to override the default hidden behavior on the sphinx rendered scikit-learn.org. See: https://github.com/scikit-learn/scikit-learn/issues/21755 */display: inline-block !important;position: relative;}#sk-container-id-1 div.sk-text-repr-fallback {display: none;}</style><div id=\"sk-container-id-1\" class=\"sk-top-container\"><div class=\"sk-text-repr-fallback\"><pre>LGBMRegressor()</pre><b>In a Jupyter environment, please rerun this cell to show the HTML representation or trust the notebook. <br />On GitHub, the HTML representation is unable to render, please try loading this page with nbviewer.org.</b></div><div class=\"sk-container\" hidden><div class=\"sk-item\"><div class=\"sk-estimator sk-toggleable\"><input class=\"sk-toggleable__control sk-hidden--visually\" id=\"sk-estimator-id-1\" type=\"checkbox\" checked><label for=\"sk-estimator-id-1\" class=\"sk-toggleable__label sk-toggleable__label-arrow\">LGBMRegressor</label><div class=\"sk-toggleable__content\"><pre>LGBMRegressor()</pre></div></div></div></div></div>"
      ],
      "text/plain": [
       "LGBMRegressor()"
      ]
     },
     "execution_count": 11,
     "metadata": {},
     "output_type": "execute_result"
    }
   ],
   "source": [
    "# モデルの学習\n",
    "model_lgb.fit(train_X, train_y)"
   ]
  },
  {
   "cell_type": "code",
   "execution_count": 14,
   "id": "8f66b0a7-9435-4e4f-abe4-5acbadc4d8e0",
   "metadata": {},
   "outputs": [],
   "source": [
    "pred_lgb = model_lgb.predict(test_X)"
   ]
  },
  {
   "cell_type": "code",
   "execution_count": 15,
   "id": "6de34115-0700-4e7b-86cb-4e9aac58fe1e",
   "metadata": {},
   "outputs": [
    {
     "data": {
      "text/plain": [
       "array([227.55283571,  50.30834641,   9.07459526, ..., 134.80874393,\n",
       "        95.38747537,  65.97230913])"
      ]
     },
     "execution_count": 15,
     "metadata": {},
     "output_type": "execute_result"
    }
   ],
   "source": [
    "pred_lgb"
   ]
  },
  {
   "cell_type": "code",
   "execution_count": 13,
   "id": "70706b16-229f-48ce-bc48-9f731b973619",
   "metadata": {},
   "outputs": [],
   "source": [
    "# 評価(平均２乗誤差)\n",
    "from sklearn.metrics import mean_squared_error"
   ]
  },
  {
   "cell_type": "code",
   "execution_count": 16,
   "id": "91addf49-8425-4d1e-9e7e-18d799e22a65",
   "metadata": {},
   "outputs": [
    {
     "name": "stdout",
     "output_type": "stream",
     "text": [
      "RMSE : 58.273\n"
     ]
    }
   ],
   "source": [
    "# 訓練データ予測のRMSE計算\n",
    "rmse = np.sqrt(mean_squared_error(test_y, pred_lgb))\n",
    "print('RMSE : {:.3f}'.format(rmse))\n"
   ]
  },
  {
   "cell_type": "markdown",
   "id": "1ba98c98-7084-4926-bb60-79018552529f",
   "metadata": {},
   "source": [
    "lightgbmだけでかなり良い感じ"
   ]
  },
  {
   "cell_type": "markdown",
   "id": "7c287069-eed0-469b-a66a-eb52caefc1e2",
   "metadata": {},
   "source": [
    "未知のtestデータを予測する。"
   ]
  },
  {
   "cell_type": "code",
   "execution_count": 17,
   "id": "c0bb919a-df4e-47bf-ab66-bf52c9d1f7ca",
   "metadata": {},
   "outputs": [
    {
     "data": {
      "text/html": [
       "<div>\n",
       "<style scoped>\n",
       "    .dataframe tbody tr th:only-of-type {\n",
       "        vertical-align: middle;\n",
       "    }\n",
       "\n",
       "    .dataframe tbody tr th {\n",
       "        vertical-align: top;\n",
       "    }\n",
       "\n",
       "    .dataframe thead th {\n",
       "        text-align: right;\n",
       "    }\n",
       "</style>\n",
       "<table border=\"1\" class=\"dataframe\">\n",
       "  <thead>\n",
       "    <tr style=\"text-align: right;\">\n",
       "      <th></th>\n",
       "      <th>hr</th>\n",
       "      <th>workingday</th>\n",
       "      <th>weekday2</th>\n",
       "      <th>temp</th>\n",
       "      <th>atemp</th>\n",
       "      <th>weathersit_1</th>\n",
       "      <th>weathersit_2</th>\n",
       "      <th>weathersit_3</th>\n",
       "    </tr>\n",
       "  </thead>\n",
       "  <tbody>\n",
       "    <tr>\n",
       "      <th>0</th>\n",
       "      <td>0</td>\n",
       "      <td>0</td>\n",
       "      <td>0</td>\n",
       "      <td>0.36</td>\n",
       "      <td>0.3788</td>\n",
       "      <td>1</td>\n",
       "      <td>0</td>\n",
       "      <td>0</td>\n",
       "    </tr>\n",
       "    <tr>\n",
       "      <th>1</th>\n",
       "      <td>1</td>\n",
       "      <td>0</td>\n",
       "      <td>0</td>\n",
       "      <td>0.36</td>\n",
       "      <td>0.3485</td>\n",
       "      <td>1</td>\n",
       "      <td>0</td>\n",
       "      <td>0</td>\n",
       "    </tr>\n",
       "    <tr>\n",
       "      <th>2</th>\n",
       "      <td>2</td>\n",
       "      <td>0</td>\n",
       "      <td>0</td>\n",
       "      <td>0.32</td>\n",
       "      <td>0.3485</td>\n",
       "      <td>1</td>\n",
       "      <td>0</td>\n",
       "      <td>0</td>\n",
       "    </tr>\n",
       "    <tr>\n",
       "      <th>3</th>\n",
       "      <td>3</td>\n",
       "      <td>0</td>\n",
       "      <td>0</td>\n",
       "      <td>0.30</td>\n",
       "      <td>0.3333</td>\n",
       "      <td>1</td>\n",
       "      <td>0</td>\n",
       "      <td>0</td>\n",
       "    </tr>\n",
       "    <tr>\n",
       "      <th>4</th>\n",
       "      <td>4</td>\n",
       "      <td>0</td>\n",
       "      <td>0</td>\n",
       "      <td>0.28</td>\n",
       "      <td>0.3030</td>\n",
       "      <td>1</td>\n",
       "      <td>0</td>\n",
       "      <td>0</td>\n",
       "    </tr>\n",
       "  </tbody>\n",
       "</table>\n",
       "</div>"
      ],
      "text/plain": [
       "   hr  workingday  weekday2  temp   atemp  weathersit_1  weathersit_2  \\\n",
       "0   0           0         0  0.36  0.3788             1             0   \n",
       "1   1           0         0  0.36  0.3485             1             0   \n",
       "2   2           0         0  0.32  0.3485             1             0   \n",
       "3   3           0         0  0.30  0.3333             1             0   \n",
       "4   4           0         0  0.28  0.3030             1             0   \n",
       "\n",
       "   weathersit_3  \n",
       "0             0  \n",
       "1             0  \n",
       "2             0  \n",
       "3             0  \n",
       "4             0  "
      ]
     },
     "execution_count": 17,
     "metadata": {},
     "output_type": "execute_result"
    }
   ],
   "source": [
    "#testデータの必要な変数だけをとりだす\n",
    "test_df_x = test_df_one_hot_encoded[['hr','workingday','weekday2','temp','atemp','weathersit_1','weathersit_2','weathersit_3']]\n",
    "test_df_x.head()"
   ]
  },
  {
   "cell_type": "code",
   "execution_count": 18,
   "id": "feb45173-b4a7-4dfe-b9f1-e4e3722d67d4",
   "metadata": {},
   "outputs": [
    {
     "data": {
      "text/plain": [
       "(8734, 8)"
      ]
     },
     "execution_count": 18,
     "metadata": {},
     "output_type": "execute_result"
    }
   ],
   "source": [
    "test_df_x.shape"
   ]
  },
  {
   "cell_type": "code",
   "execution_count": 21,
   "id": "1a185126-2927-4ec8-9713-392532e09953",
   "metadata": {},
   "outputs": [],
   "source": [
    "# test dataにモデルを適用する\n",
    "Y_test_pred = model_lgb.predict(test_df_x) #X_testデータを使って予測する"
   ]
  },
  {
   "cell_type": "code",
   "execution_count": 22,
   "id": "96b93723-8fab-4e03-b1fd-3736c3d7f56f",
   "metadata": {},
   "outputs": [
    {
     "data": {
      "text/plain": [
       "array([ 95.37698111,  62.87664809,  37.81264076, ..., 104.15462424,\n",
       "        73.15663717,  41.19819616])"
      ]
     },
     "execution_count": 22,
     "metadata": {},
     "output_type": "execute_result"
    }
   ],
   "source": [
    "Y_test_pred"
   ]
  },
  {
   "cell_type": "markdown",
   "id": "2911aed2-53ce-4db9-9d08-c3e2ad57716a",
   "metadata": {},
   "source": [
    "### 提出ファイルの作成"
   ]
  },
  {
   "cell_type": "code",
   "execution_count": 23,
   "id": "d6dec1db-eef3-4046-850e-f87587244bff",
   "metadata": {},
   "outputs": [
    {
     "data": {
      "text/plain": [
       "((8734,), (8734, 14))"
      ]
     },
     "execution_count": 23,
     "metadata": {},
     "output_type": "execute_result"
    }
   ],
   "source": [
    "Y_test_pred.shape,test_df.shape"
   ]
  },
  {
   "cell_type": "code",
   "execution_count": 24,
   "id": "4501f9ac-e2e3-4369-ae87-d187471130a7",
   "metadata": {},
   "outputs": [
    {
     "data": {
      "text/html": [
       "<div>\n",
       "<style scoped>\n",
       "    .dataframe tbody tr th:only-of-type {\n",
       "        vertical-align: middle;\n",
       "    }\n",
       "\n",
       "    .dataframe tbody tr th {\n",
       "        vertical-align: top;\n",
       "    }\n",
       "\n",
       "    .dataframe thead th {\n",
       "        text-align: right;\n",
       "    }\n",
       "</style>\n",
       "<table border=\"1\" class=\"dataframe\">\n",
       "  <thead>\n",
       "    <tr style=\"text-align: right;\">\n",
       "      <th></th>\n",
       "      <th>id</th>\n",
       "      <th>dteday</th>\n",
       "      <th>season</th>\n",
       "      <th>yr</th>\n",
       "      <th>mnth</th>\n",
       "      <th>hr</th>\n",
       "      <th>holiday</th>\n",
       "      <th>weekday</th>\n",
       "      <th>workingday</th>\n",
       "      <th>weathersit</th>\n",
       "      <th>temp</th>\n",
       "      <th>atemp</th>\n",
       "      <th>hum</th>\n",
       "      <th>windspeed</th>\n",
       "      <th>cnt</th>\n",
       "    </tr>\n",
       "  </thead>\n",
       "  <tbody>\n",
       "    <tr>\n",
       "      <th>0</th>\n",
       "      <td>8646</td>\n",
       "      <td>2012-01-01</td>\n",
       "      <td>1</td>\n",
       "      <td>1</td>\n",
       "      <td>1</td>\n",
       "      <td>0</td>\n",
       "      <td>0</td>\n",
       "      <td>0</td>\n",
       "      <td>0</td>\n",
       "      <td>1</td>\n",
       "      <td>0.36</td>\n",
       "      <td>0.3788</td>\n",
       "      <td>0.66</td>\n",
       "      <td>0.0000</td>\n",
       "      <td>95.376981</td>\n",
       "    </tr>\n",
       "    <tr>\n",
       "      <th>1</th>\n",
       "      <td>8647</td>\n",
       "      <td>2012-01-01</td>\n",
       "      <td>1</td>\n",
       "      <td>1</td>\n",
       "      <td>1</td>\n",
       "      <td>1</td>\n",
       "      <td>0</td>\n",
       "      <td>0</td>\n",
       "      <td>0</td>\n",
       "      <td>1</td>\n",
       "      <td>0.36</td>\n",
       "      <td>0.3485</td>\n",
       "      <td>0.66</td>\n",
       "      <td>0.1343</td>\n",
       "      <td>62.876648</td>\n",
       "    </tr>\n",
       "    <tr>\n",
       "      <th>2</th>\n",
       "      <td>8648</td>\n",
       "      <td>2012-01-01</td>\n",
       "      <td>1</td>\n",
       "      <td>1</td>\n",
       "      <td>1</td>\n",
       "      <td>2</td>\n",
       "      <td>0</td>\n",
       "      <td>0</td>\n",
       "      <td>0</td>\n",
       "      <td>1</td>\n",
       "      <td>0.32</td>\n",
       "      <td>0.3485</td>\n",
       "      <td>0.76</td>\n",
       "      <td>0.0000</td>\n",
       "      <td>37.812641</td>\n",
       "    </tr>\n",
       "    <tr>\n",
       "      <th>3</th>\n",
       "      <td>8649</td>\n",
       "      <td>2012-01-01</td>\n",
       "      <td>1</td>\n",
       "      <td>1</td>\n",
       "      <td>1</td>\n",
       "      <td>3</td>\n",
       "      <td>0</td>\n",
       "      <td>0</td>\n",
       "      <td>0</td>\n",
       "      <td>1</td>\n",
       "      <td>0.30</td>\n",
       "      <td>0.3333</td>\n",
       "      <td>0.81</td>\n",
       "      <td>0.0000</td>\n",
       "      <td>18.378247</td>\n",
       "    </tr>\n",
       "    <tr>\n",
       "      <th>4</th>\n",
       "      <td>8650</td>\n",
       "      <td>2012-01-01</td>\n",
       "      <td>1</td>\n",
       "      <td>1</td>\n",
       "      <td>1</td>\n",
       "      <td>4</td>\n",
       "      <td>0</td>\n",
       "      <td>0</td>\n",
       "      <td>0</td>\n",
       "      <td>1</td>\n",
       "      <td>0.28</td>\n",
       "      <td>0.3030</td>\n",
       "      <td>0.81</td>\n",
       "      <td>0.0896</td>\n",
       "      <td>3.826015</td>\n",
       "    </tr>\n",
       "  </tbody>\n",
       "</table>\n",
       "</div>"
      ],
      "text/plain": [
       "     id      dteday  season  yr  mnth  hr  holiday  weekday  workingday  \\\n",
       "0  8646  2012-01-01       1   1     1   0        0        0           0   \n",
       "1  8647  2012-01-01       1   1     1   1        0        0           0   \n",
       "2  8648  2012-01-01       1   1     1   2        0        0           0   \n",
       "3  8649  2012-01-01       1   1     1   3        0        0           0   \n",
       "4  8650  2012-01-01       1   1     1   4        0        0           0   \n",
       "\n",
       "   weathersit  temp   atemp   hum  windspeed        cnt  \n",
       "0           1  0.36  0.3788  0.66     0.0000  95.376981  \n",
       "1           1  0.36  0.3485  0.66     0.1343  62.876648  \n",
       "2           1  0.32  0.3485  0.76     0.0000  37.812641  \n",
       "3           1  0.30  0.3333  0.81     0.0000  18.378247  \n",
       "4           1  0.28  0.3030  0.81     0.0896   3.826015  "
      ]
     },
     "execution_count": 24,
     "metadata": {},
     "output_type": "execute_result"
    }
   ],
   "source": [
    "sub = test_df.copy()\n",
    "sub['cnt'] = Y_test_pred\n",
    "sub.head(5)"
   ]
  },
  {
   "cell_type": "code",
   "execution_count": 25,
   "id": "a3bd7d49-d2d0-4726-bd99-57c75544095e",
   "metadata": {},
   "outputs": [],
   "source": [
    "# 提出ファイル\n",
    "sub[['id','cnt']].to_csv('sample_submit_06.csv', index=False, header = False)"
   ]
  },
  {
   "cell_type": "code",
   "execution_count": 26,
   "id": "012fd87d-8b1c-482e-9161-a8f1b72ddc41",
   "metadata": {},
   "outputs": [
    {
     "data": {
      "text/html": [
       "<div>\n",
       "<style scoped>\n",
       "    .dataframe tbody tr th:only-of-type {\n",
       "        vertical-align: middle;\n",
       "    }\n",
       "\n",
       "    .dataframe tbody tr th {\n",
       "        vertical-align: top;\n",
       "    }\n",
       "\n",
       "    .dataframe thead th {\n",
       "        text-align: right;\n",
       "    }\n",
       "</style>\n",
       "<table border=\"1\" class=\"dataframe\">\n",
       "  <thead>\n",
       "    <tr style=\"text-align: right;\">\n",
       "      <th></th>\n",
       "      <th>8646</th>\n",
       "      <th>95.37698110542098</th>\n",
       "    </tr>\n",
       "  </thead>\n",
       "  <tbody>\n",
       "    <tr>\n",
       "      <th>0</th>\n",
       "      <td>8647</td>\n",
       "      <td>62.876648</td>\n",
       "    </tr>\n",
       "    <tr>\n",
       "      <th>1</th>\n",
       "      <td>8648</td>\n",
       "      <td>37.812641</td>\n",
       "    </tr>\n",
       "    <tr>\n",
       "      <th>2</th>\n",
       "      <td>8649</td>\n",
       "      <td>18.378247</td>\n",
       "    </tr>\n",
       "    <tr>\n",
       "      <th>3</th>\n",
       "      <td>8650</td>\n",
       "      <td>3.826015</td>\n",
       "    </tr>\n",
       "    <tr>\n",
       "      <th>4</th>\n",
       "      <td>8651</td>\n",
       "      <td>5.940500</td>\n",
       "    </tr>\n",
       "  </tbody>\n",
       "</table>\n",
       "</div>"
      ],
      "text/plain": [
       "   8646  95.37698110542098\n",
       "0  8647          62.876648\n",
       "1  8648          37.812641\n",
       "2  8649          18.378247\n",
       "3  8650           3.826015\n",
       "4  8651           5.940500"
      ]
     },
     "execution_count": 26,
     "metadata": {},
     "output_type": "execute_result"
    }
   ],
   "source": [
    "sample_submit_06 = pd.read_csv('sample_submit_06.csv')\n",
    "sample_submit_06.head(5)"
   ]
  },
  {
   "cell_type": "markdown",
   "id": "ea6810f0-7f16-4bfe-a5e5-bcfdd11cab8c",
   "metadata": {},
   "source": [
    "### 評価  \n",
    "RMSE  115.5676928(125/1246位)  \n",
    "精度は高いとは言えない、  \n",
    "XGboostの方が強い。"
   ]
  },
  {
   "cell_type": "markdown",
   "id": "f04be8bd-b5be-450d-a556-ae4159ee30d1",
   "metadata": {},
   "source": [
    "# 検証7"
   ]
  },
  {
   "cell_type": "markdown",
   "id": "5f834dae-8a0d-4d24-b0cf-524e730c49fa",
   "metadata": {},
   "source": [
    "## ランダムフォレスト"
   ]
  },
  {
   "cell_type": "code",
   "execution_count": 27,
   "id": "d11ce4b1-fc80-42f2-8569-15112867509d",
   "metadata": {},
   "outputs": [],
   "source": [
    "from sklearn.ensemble import RandomForestRegressor #ランダムフォレスト "
   ]
  },
  {
   "cell_type": "code",
   "execution_count": 28,
   "id": "c184c9cc-c0f5-4ad9-861c-b77c61401b8f",
   "metadata": {},
   "outputs": [],
   "source": [
    "#前処理\n",
    "\n",
    "#trainデータ処理\n",
    "train_df = pd.read_table('train.tsv')\n",
    "#One-Hot Encoding\n",
    "train_df_one_hot_encoded = pd.get_dummies(train_df,columns=['weathersit'])\n",
    "#曜日の'weekday'を土日(0)と平日(1)の2値データする。\n",
    "#新しい変数'weekday2'を作って、全て0(zero)を入れる\n",
    "train_df_one_hot_encoded['weekday2'] = 0\n",
    "#平日を1にしたいので、1にするコードを用意する\n",
    "train_df_one_hot_encoded.loc[train_df_one_hot_encoded['weekday'].isin(list(range(1,6))),'weekday2']=1\n",
    "# 結果の件数を確認する\n",
    "#train_df_one_hot_encoded['weekday2'].value_counts()\n",
    "# id2500以前は、傾向が違うため、カット(運用開始など？)\n",
    "train_df_one_hot_encoded = train_df_one_hot_encoded[train_df_one_hot_encoded['id'] > 2500]\n",
    "\n",
    "\n",
    "#testデータ処理\n",
    "test_df = pd.read_table('test.tsv')\n",
    "#One-Hot Encoding\n",
    "test_df_one_hot_encoded = pd.get_dummies(test_df,columns=['weathersit'])\n",
    "#曜日の'weekday'を土日(0)と平日(1)の2値データする。\n",
    "#新しい変数'weekday2'を作って、全て0(zero)を入れる\n",
    "test_df_one_hot_encoded['weekday2'] = 0\n",
    "#平日を1にしたいので、1にするコードを用意する\n",
    "test_df_one_hot_encoded.loc[test_df_one_hot_encoded['weekday'].isin(list(range(1,6))),'weekday2']=1\n"
   ]
  },
  {
   "cell_type": "code",
   "execution_count": 29,
   "id": "8feeb195-dfd5-43d4-bc95-90041b829485",
   "metadata": {},
   "outputs": [
    {
     "data": {
      "text/html": [
       "<div>\n",
       "<style scoped>\n",
       "    .dataframe tbody tr th:only-of-type {\n",
       "        vertical-align: middle;\n",
       "    }\n",
       "\n",
       "    .dataframe tbody tr th {\n",
       "        vertical-align: top;\n",
       "    }\n",
       "\n",
       "    .dataframe thead th {\n",
       "        text-align: right;\n",
       "    }\n",
       "</style>\n",
       "<table border=\"1\" class=\"dataframe\">\n",
       "  <thead>\n",
       "    <tr style=\"text-align: right;\">\n",
       "      <th></th>\n",
       "      <th>hr</th>\n",
       "      <th>workingday</th>\n",
       "      <th>weekday2</th>\n",
       "      <th>temp</th>\n",
       "      <th>atemp</th>\n",
       "      <th>weathersit_1</th>\n",
       "      <th>weathersit_2</th>\n",
       "      <th>weathersit_3</th>\n",
       "    </tr>\n",
       "  </thead>\n",
       "  <tbody>\n",
       "    <tr>\n",
       "      <th>2500</th>\n",
       "      <td>2</td>\n",
       "      <td>1</td>\n",
       "      <td>1</td>\n",
       "      <td>0.46</td>\n",
       "      <td>0.4545</td>\n",
       "      <td>1</td>\n",
       "      <td>0</td>\n",
       "      <td>0</td>\n",
       "    </tr>\n",
       "    <tr>\n",
       "      <th>2501</th>\n",
       "      <td>3</td>\n",
       "      <td>1</td>\n",
       "      <td>1</td>\n",
       "      <td>0.48</td>\n",
       "      <td>0.4697</td>\n",
       "      <td>1</td>\n",
       "      <td>0</td>\n",
       "      <td>0</td>\n",
       "    </tr>\n",
       "    <tr>\n",
       "      <th>2502</th>\n",
       "      <td>4</td>\n",
       "      <td>1</td>\n",
       "      <td>1</td>\n",
       "      <td>0.46</td>\n",
       "      <td>0.4545</td>\n",
       "      <td>1</td>\n",
       "      <td>0</td>\n",
       "      <td>0</td>\n",
       "    </tr>\n",
       "    <tr>\n",
       "      <th>2503</th>\n",
       "      <td>5</td>\n",
       "      <td>1</td>\n",
       "      <td>1</td>\n",
       "      <td>0.46</td>\n",
       "      <td>0.4545</td>\n",
       "      <td>0</td>\n",
       "      <td>1</td>\n",
       "      <td>0</td>\n",
       "    </tr>\n",
       "    <tr>\n",
       "      <th>2504</th>\n",
       "      <td>6</td>\n",
       "      <td>1</td>\n",
       "      <td>1</td>\n",
       "      <td>0.48</td>\n",
       "      <td>0.4697</td>\n",
       "      <td>0</td>\n",
       "      <td>1</td>\n",
       "      <td>0</td>\n",
       "    </tr>\n",
       "  </tbody>\n",
       "</table>\n",
       "</div>"
      ],
      "text/plain": [
       "      hr  workingday  weekday2  temp   atemp  weathersit_1  weathersit_2  \\\n",
       "2500   2           1         1  0.46  0.4545             1             0   \n",
       "2501   3           1         1  0.48  0.4697             1             0   \n",
       "2502   4           1         1  0.46  0.4545             1             0   \n",
       "2503   5           1         1  0.46  0.4545             0             1   \n",
       "2504   6           1         1  0.48  0.4697             0             1   \n",
       "\n",
       "      weathersit_3  \n",
       "2500             0  \n",
       "2501             0  \n",
       "2502             0  \n",
       "2503             0  \n",
       "2504             0  "
      ]
     },
     "execution_count": 29,
     "metadata": {},
     "output_type": "execute_result"
    }
   ],
   "source": [
    "#必要な説明変数だけをとりだす\n",
    "train_df_x = train_df_one_hot_encoded[['hr','workingday','weekday2','temp','atemp','weathersit_1','weathersit_2','weathersit_3']]\n",
    "train_df_y = train_df_one_hot_encoded['cnt']\n",
    "train_df_x.head()"
   ]
  },
  {
   "cell_type": "code",
   "execution_count": 30,
   "id": "34435218-5eb9-4fc2-88f0-6bace12e5ecd",
   "metadata": {},
   "outputs": [],
   "source": [
    "# defaultはtrain dataが75%、test dataが25%に分割\n",
    "# また時系列のデータなので、shuffleをFalseにする。\n",
    "train_X, test_X, train_y, test_y = train_test_split(train_df_x, train_df_y, random_state=42, shuffle=False)\n"
   ]
  },
  {
   "cell_type": "code",
   "execution_count": 31,
   "id": "02f17ce0-3686-4b88-a269-db3d9124dfdc",
   "metadata": {},
   "outputs": [],
   "source": [
    "# モデルのインスタンス\n",
    "model_RF = RandomForestRegressor()"
   ]
  },
  {
   "cell_type": "code",
   "execution_count": 32,
   "id": "0d728097-8862-4af3-8cda-bfa014950f48",
   "metadata": {},
   "outputs": [
    {
     "data": {
      "text/html": [
       "<style>#sk-container-id-2 {color: black;background-color: white;}#sk-container-id-2 pre{padding: 0;}#sk-container-id-2 div.sk-toggleable {background-color: white;}#sk-container-id-2 label.sk-toggleable__label {cursor: pointer;display: block;width: 100%;margin-bottom: 0;padding: 0.3em;box-sizing: border-box;text-align: center;}#sk-container-id-2 label.sk-toggleable__label-arrow:before {content: \"▸\";float: left;margin-right: 0.25em;color: #696969;}#sk-container-id-2 label.sk-toggleable__label-arrow:hover:before {color: black;}#sk-container-id-2 div.sk-estimator:hover label.sk-toggleable__label-arrow:before {color: black;}#sk-container-id-2 div.sk-toggleable__content {max-height: 0;max-width: 0;overflow: hidden;text-align: left;background-color: #f0f8ff;}#sk-container-id-2 div.sk-toggleable__content pre {margin: 0.2em;color: black;border-radius: 0.25em;background-color: #f0f8ff;}#sk-container-id-2 input.sk-toggleable__control:checked~div.sk-toggleable__content {max-height: 200px;max-width: 100%;overflow: auto;}#sk-container-id-2 input.sk-toggleable__control:checked~label.sk-toggleable__label-arrow:before {content: \"▾\";}#sk-container-id-2 div.sk-estimator input.sk-toggleable__control:checked~label.sk-toggleable__label {background-color: #d4ebff;}#sk-container-id-2 div.sk-label input.sk-toggleable__control:checked~label.sk-toggleable__label {background-color: #d4ebff;}#sk-container-id-2 input.sk-hidden--visually {border: 0;clip: rect(1px 1px 1px 1px);clip: rect(1px, 1px, 1px, 1px);height: 1px;margin: -1px;overflow: hidden;padding: 0;position: absolute;width: 1px;}#sk-container-id-2 div.sk-estimator {font-family: monospace;background-color: #f0f8ff;border: 1px dotted black;border-radius: 0.25em;box-sizing: border-box;margin-bottom: 0.5em;}#sk-container-id-2 div.sk-estimator:hover {background-color: #d4ebff;}#sk-container-id-2 div.sk-parallel-item::after {content: \"\";width: 100%;border-bottom: 1px solid gray;flex-grow: 1;}#sk-container-id-2 div.sk-label:hover label.sk-toggleable__label {background-color: #d4ebff;}#sk-container-id-2 div.sk-serial::before {content: \"\";position: absolute;border-left: 1px solid gray;box-sizing: border-box;top: 0;bottom: 0;left: 50%;z-index: 0;}#sk-container-id-2 div.sk-serial {display: flex;flex-direction: column;align-items: center;background-color: white;padding-right: 0.2em;padding-left: 0.2em;position: relative;}#sk-container-id-2 div.sk-item {position: relative;z-index: 1;}#sk-container-id-2 div.sk-parallel {display: flex;align-items: stretch;justify-content: center;background-color: white;position: relative;}#sk-container-id-2 div.sk-item::before, #sk-container-id-2 div.sk-parallel-item::before {content: \"\";position: absolute;border-left: 1px solid gray;box-sizing: border-box;top: 0;bottom: 0;left: 50%;z-index: -1;}#sk-container-id-2 div.sk-parallel-item {display: flex;flex-direction: column;z-index: 1;position: relative;background-color: white;}#sk-container-id-2 div.sk-parallel-item:first-child::after {align-self: flex-end;width: 50%;}#sk-container-id-2 div.sk-parallel-item:last-child::after {align-self: flex-start;width: 50%;}#sk-container-id-2 div.sk-parallel-item:only-child::after {width: 0;}#sk-container-id-2 div.sk-dashed-wrapped {border: 1px dashed gray;margin: 0 0.4em 0.5em 0.4em;box-sizing: border-box;padding-bottom: 0.4em;background-color: white;}#sk-container-id-2 div.sk-label label {font-family: monospace;font-weight: bold;display: inline-block;line-height: 1.2em;}#sk-container-id-2 div.sk-label-container {text-align: center;}#sk-container-id-2 div.sk-container {/* jupyter's `normalize.less` sets `[hidden] { display: none; }` but bootstrap.min.css set `[hidden] { display: none !important; }` so we also need the `!important` here to be able to override the default hidden behavior on the sphinx rendered scikit-learn.org. See: https://github.com/scikit-learn/scikit-learn/issues/21755 */display: inline-block !important;position: relative;}#sk-container-id-2 div.sk-text-repr-fallback {display: none;}</style><div id=\"sk-container-id-2\" class=\"sk-top-container\"><div class=\"sk-text-repr-fallback\"><pre>RandomForestRegressor()</pre><b>In a Jupyter environment, please rerun this cell to show the HTML representation or trust the notebook. <br />On GitHub, the HTML representation is unable to render, please try loading this page with nbviewer.org.</b></div><div class=\"sk-container\" hidden><div class=\"sk-item\"><div class=\"sk-estimator sk-toggleable\"><input class=\"sk-toggleable__control sk-hidden--visually\" id=\"sk-estimator-id-2\" type=\"checkbox\" checked><label for=\"sk-estimator-id-2\" class=\"sk-toggleable__label sk-toggleable__label-arrow\">RandomForestRegressor</label><div class=\"sk-toggleable__content\"><pre>RandomForestRegressor()</pre></div></div></div></div></div>"
      ],
      "text/plain": [
       "RandomForestRegressor()"
      ]
     },
     "execution_count": 32,
     "metadata": {},
     "output_type": "execute_result"
    }
   ],
   "source": [
    "# モデルの学習\n",
    "model_RF.fit(train_X, train_y)"
   ]
  },
  {
   "cell_type": "code",
   "execution_count": 33,
   "id": "5a48aedf-6308-4393-b815-1048fd7905ac",
   "metadata": {},
   "outputs": [],
   "source": [
    "pred_RF = model_RF.predict(test_X)"
   ]
  },
  {
   "cell_type": "code",
   "execution_count": 34,
   "id": "feb77905-d4af-4a2a-bf79-067e9556b1b1",
   "metadata": {},
   "outputs": [
    {
     "data": {
      "text/plain": [
       "array([176.50566667,  74.10666667,  46.70833333, ..., 146.85228571,\n",
       "        99.33      ,  64.45333333])"
      ]
     },
     "execution_count": 34,
     "metadata": {},
     "output_type": "execute_result"
    }
   ],
   "source": [
    "pred_RF"
   ]
  },
  {
   "cell_type": "code",
   "execution_count": 35,
   "id": "11773b71-8ae8-4e90-b05e-5b1c56cc121e",
   "metadata": {},
   "outputs": [
    {
     "name": "stdout",
     "output_type": "stream",
     "text": [
      "RMSE : 63.263\n"
     ]
    }
   ],
   "source": [
    "# 訓練データ予測のRMSE計算\n",
    "rmse = np.sqrt(mean_squared_error(test_y, pred_RF))\n",
    "print('RMSE : {:.3f}'.format(rmse))\n"
   ]
  },
  {
   "cell_type": "markdown",
   "id": "7d53ad49-072d-4899-ba0d-6bbdf1d3ad46",
   "metadata": {},
   "source": [
    "lightgbmよりは若干劣る"
   ]
  },
  {
   "cell_type": "markdown",
   "id": "d9913393-bdc4-4201-a075-c0d943434b34",
   "metadata": {},
   "source": [
    "未知のtestデータを予測する。"
   ]
  },
  {
   "cell_type": "code",
   "execution_count": 36,
   "id": "52d16fcd-8693-4449-a58e-7a3632cec94f",
   "metadata": {},
   "outputs": [
    {
     "data": {
      "text/html": [
       "<div>\n",
       "<style scoped>\n",
       "    .dataframe tbody tr th:only-of-type {\n",
       "        vertical-align: middle;\n",
       "    }\n",
       "\n",
       "    .dataframe tbody tr th {\n",
       "        vertical-align: top;\n",
       "    }\n",
       "\n",
       "    .dataframe thead th {\n",
       "        text-align: right;\n",
       "    }\n",
       "</style>\n",
       "<table border=\"1\" class=\"dataframe\">\n",
       "  <thead>\n",
       "    <tr style=\"text-align: right;\">\n",
       "      <th></th>\n",
       "      <th>hr</th>\n",
       "      <th>workingday</th>\n",
       "      <th>weekday2</th>\n",
       "      <th>temp</th>\n",
       "      <th>atemp</th>\n",
       "      <th>weathersit_1</th>\n",
       "      <th>weathersit_2</th>\n",
       "      <th>weathersit_3</th>\n",
       "    </tr>\n",
       "  </thead>\n",
       "  <tbody>\n",
       "    <tr>\n",
       "      <th>0</th>\n",
       "      <td>0</td>\n",
       "      <td>0</td>\n",
       "      <td>0</td>\n",
       "      <td>0.36</td>\n",
       "      <td>0.3788</td>\n",
       "      <td>1</td>\n",
       "      <td>0</td>\n",
       "      <td>0</td>\n",
       "    </tr>\n",
       "    <tr>\n",
       "      <th>1</th>\n",
       "      <td>1</td>\n",
       "      <td>0</td>\n",
       "      <td>0</td>\n",
       "      <td>0.36</td>\n",
       "      <td>0.3485</td>\n",
       "      <td>1</td>\n",
       "      <td>0</td>\n",
       "      <td>0</td>\n",
       "    </tr>\n",
       "    <tr>\n",
       "      <th>2</th>\n",
       "      <td>2</td>\n",
       "      <td>0</td>\n",
       "      <td>0</td>\n",
       "      <td>0.32</td>\n",
       "      <td>0.3485</td>\n",
       "      <td>1</td>\n",
       "      <td>0</td>\n",
       "      <td>0</td>\n",
       "    </tr>\n",
       "    <tr>\n",
       "      <th>3</th>\n",
       "      <td>3</td>\n",
       "      <td>0</td>\n",
       "      <td>0</td>\n",
       "      <td>0.30</td>\n",
       "      <td>0.3333</td>\n",
       "      <td>1</td>\n",
       "      <td>0</td>\n",
       "      <td>0</td>\n",
       "    </tr>\n",
       "    <tr>\n",
       "      <th>4</th>\n",
       "      <td>4</td>\n",
       "      <td>0</td>\n",
       "      <td>0</td>\n",
       "      <td>0.28</td>\n",
       "      <td>0.3030</td>\n",
       "      <td>1</td>\n",
       "      <td>0</td>\n",
       "      <td>0</td>\n",
       "    </tr>\n",
       "  </tbody>\n",
       "</table>\n",
       "</div>"
      ],
      "text/plain": [
       "   hr  workingday  weekday2  temp   atemp  weathersit_1  weathersit_2  \\\n",
       "0   0           0         0  0.36  0.3788             1             0   \n",
       "1   1           0         0  0.36  0.3485             1             0   \n",
       "2   2           0         0  0.32  0.3485             1             0   \n",
       "3   3           0         0  0.30  0.3333             1             0   \n",
       "4   4           0         0  0.28  0.3030             1             0   \n",
       "\n",
       "   weathersit_3  \n",
       "0             0  \n",
       "1             0  \n",
       "2             0  \n",
       "3             0  \n",
       "4             0  "
      ]
     },
     "execution_count": 36,
     "metadata": {},
     "output_type": "execute_result"
    }
   ],
   "source": [
    "#testデータの必要な変数だけをとりだす\n",
    "test_df_x = test_df_one_hot_encoded[['hr','workingday','weekday2','temp','atemp','weathersit_1','weathersit_2','weathersit_3']]\n",
    "test_df_x.head()"
   ]
  },
  {
   "cell_type": "code",
   "execution_count": 37,
   "id": "74dcf5d8-c980-4f3e-b8f2-01c103870503",
   "metadata": {},
   "outputs": [
    {
     "data": {
      "text/plain": [
       "(8734, 8)"
      ]
     },
     "execution_count": 37,
     "metadata": {},
     "output_type": "execute_result"
    }
   ],
   "source": [
    "test_df_x.shape"
   ]
  },
  {
   "cell_type": "code",
   "execution_count": 42,
   "id": "7a8296df-0c19-42c7-b298-d3e9b260795d",
   "metadata": {},
   "outputs": [],
   "source": [
    "# test dataにモデルを適用する\n",
    "Y_test_pred = model_RF.predict(test_df_x) #X_testデータを使って予測する"
   ]
  },
  {
   "cell_type": "code",
   "execution_count": 43,
   "id": "b60d73fc-8099-45fa-aad2-05ba06eb9bfe",
   "metadata": {},
   "outputs": [
    {
     "data": {
      "text/plain": [
       "array([ 85.485     ,  59.87333333,  37.72785714, ..., 120.835     ,\n",
       "       105.403     ,  61.53      ])"
      ]
     },
     "execution_count": 43,
     "metadata": {},
     "output_type": "execute_result"
    }
   ],
   "source": [
    "Y_test_pred"
   ]
  },
  {
   "cell_type": "markdown",
   "id": "e25ffc35-2b18-43bc-8ca9-f2636eb7ab78",
   "metadata": {},
   "source": [
    "### 提出ファイルの作成"
   ]
  },
  {
   "cell_type": "code",
   "execution_count": 44,
   "id": "08bd83f2-96d1-4eef-91d1-faa2e5d0cf77",
   "metadata": {},
   "outputs": [
    {
     "data": {
      "text/plain": [
       "((8734,), (8734, 14))"
      ]
     },
     "execution_count": 44,
     "metadata": {},
     "output_type": "execute_result"
    }
   ],
   "source": [
    "Y_test_pred.shape,test_df.shape"
   ]
  },
  {
   "cell_type": "code",
   "execution_count": 45,
   "id": "5b4134d8-da9d-48e7-97af-ec4f4487ef16",
   "metadata": {},
   "outputs": [
    {
     "data": {
      "text/html": [
       "<div>\n",
       "<style scoped>\n",
       "    .dataframe tbody tr th:only-of-type {\n",
       "        vertical-align: middle;\n",
       "    }\n",
       "\n",
       "    .dataframe tbody tr th {\n",
       "        vertical-align: top;\n",
       "    }\n",
       "\n",
       "    .dataframe thead th {\n",
       "        text-align: right;\n",
       "    }\n",
       "</style>\n",
       "<table border=\"1\" class=\"dataframe\">\n",
       "  <thead>\n",
       "    <tr style=\"text-align: right;\">\n",
       "      <th></th>\n",
       "      <th>id</th>\n",
       "      <th>dteday</th>\n",
       "      <th>season</th>\n",
       "      <th>yr</th>\n",
       "      <th>mnth</th>\n",
       "      <th>hr</th>\n",
       "      <th>holiday</th>\n",
       "      <th>weekday</th>\n",
       "      <th>workingday</th>\n",
       "      <th>weathersit</th>\n",
       "      <th>temp</th>\n",
       "      <th>atemp</th>\n",
       "      <th>hum</th>\n",
       "      <th>windspeed</th>\n",
       "      <th>cnt</th>\n",
       "    </tr>\n",
       "  </thead>\n",
       "  <tbody>\n",
       "    <tr>\n",
       "      <th>0</th>\n",
       "      <td>8646</td>\n",
       "      <td>2012-01-01</td>\n",
       "      <td>1</td>\n",
       "      <td>1</td>\n",
       "      <td>1</td>\n",
       "      <td>0</td>\n",
       "      <td>0</td>\n",
       "      <td>0</td>\n",
       "      <td>0</td>\n",
       "      <td>1</td>\n",
       "      <td>0.36</td>\n",
       "      <td>0.3788</td>\n",
       "      <td>0.66</td>\n",
       "      <td>0.0000</td>\n",
       "      <td>85.485000</td>\n",
       "    </tr>\n",
       "    <tr>\n",
       "      <th>1</th>\n",
       "      <td>8647</td>\n",
       "      <td>2012-01-01</td>\n",
       "      <td>1</td>\n",
       "      <td>1</td>\n",
       "      <td>1</td>\n",
       "      <td>1</td>\n",
       "      <td>0</td>\n",
       "      <td>0</td>\n",
       "      <td>0</td>\n",
       "      <td>1</td>\n",
       "      <td>0.36</td>\n",
       "      <td>0.3485</td>\n",
       "      <td>0.66</td>\n",
       "      <td>0.1343</td>\n",
       "      <td>59.873333</td>\n",
       "    </tr>\n",
       "    <tr>\n",
       "      <th>2</th>\n",
       "      <td>8648</td>\n",
       "      <td>2012-01-01</td>\n",
       "      <td>1</td>\n",
       "      <td>1</td>\n",
       "      <td>1</td>\n",
       "      <td>2</td>\n",
       "      <td>0</td>\n",
       "      <td>0</td>\n",
       "      <td>0</td>\n",
       "      <td>1</td>\n",
       "      <td>0.32</td>\n",
       "      <td>0.3485</td>\n",
       "      <td>0.76</td>\n",
       "      <td>0.0000</td>\n",
       "      <td>37.727857</td>\n",
       "    </tr>\n",
       "    <tr>\n",
       "      <th>3</th>\n",
       "      <td>8649</td>\n",
       "      <td>2012-01-01</td>\n",
       "      <td>1</td>\n",
       "      <td>1</td>\n",
       "      <td>1</td>\n",
       "      <td>3</td>\n",
       "      <td>0</td>\n",
       "      <td>0</td>\n",
       "      <td>0</td>\n",
       "      <td>1</td>\n",
       "      <td>0.30</td>\n",
       "      <td>0.3333</td>\n",
       "      <td>0.81</td>\n",
       "      <td>0.0000</td>\n",
       "      <td>16.238000</td>\n",
       "    </tr>\n",
       "    <tr>\n",
       "      <th>4</th>\n",
       "      <td>8650</td>\n",
       "      <td>2012-01-01</td>\n",
       "      <td>1</td>\n",
       "      <td>1</td>\n",
       "      <td>1</td>\n",
       "      <td>4</td>\n",
       "      <td>0</td>\n",
       "      <td>0</td>\n",
       "      <td>0</td>\n",
       "      <td>1</td>\n",
       "      <td>0.28</td>\n",
       "      <td>0.3030</td>\n",
       "      <td>0.81</td>\n",
       "      <td>0.0896</td>\n",
       "      <td>6.460000</td>\n",
       "    </tr>\n",
       "  </tbody>\n",
       "</table>\n",
       "</div>"
      ],
      "text/plain": [
       "     id      dteday  season  yr  mnth  hr  holiday  weekday  workingday  \\\n",
       "0  8646  2012-01-01       1   1     1   0        0        0           0   \n",
       "1  8647  2012-01-01       1   1     1   1        0        0           0   \n",
       "2  8648  2012-01-01       1   1     1   2        0        0           0   \n",
       "3  8649  2012-01-01       1   1     1   3        0        0           0   \n",
       "4  8650  2012-01-01       1   1     1   4        0        0           0   \n",
       "\n",
       "   weathersit  temp   atemp   hum  windspeed        cnt  \n",
       "0           1  0.36  0.3788  0.66     0.0000  85.485000  \n",
       "1           1  0.36  0.3485  0.66     0.1343  59.873333  \n",
       "2           1  0.32  0.3485  0.76     0.0000  37.727857  \n",
       "3           1  0.30  0.3333  0.81     0.0000  16.238000  \n",
       "4           1  0.28  0.3030  0.81     0.0896   6.460000  "
      ]
     },
     "execution_count": 45,
     "metadata": {},
     "output_type": "execute_result"
    }
   ],
   "source": [
    "sub = test_df.copy()\n",
    "sub['cnt'] = Y_test_pred\n",
    "sub.head(5)"
   ]
  },
  {
   "cell_type": "code",
   "execution_count": 46,
   "id": "65a0c4eb-a53c-4aa8-ba41-211428e64a44",
   "metadata": {},
   "outputs": [],
   "source": [
    "# 提出ファイル\n",
    "sub[['id','cnt']].to_csv('sample_submit_07.csv', index=False, header = False)"
   ]
  },
  {
   "cell_type": "code",
   "execution_count": 47,
   "id": "cf70c0d0-58de-4268-bce4-3db28ea82509",
   "metadata": {},
   "outputs": [
    {
     "data": {
      "text/html": [
       "<div>\n",
       "<style scoped>\n",
       "    .dataframe tbody tr th:only-of-type {\n",
       "        vertical-align: middle;\n",
       "    }\n",
       "\n",
       "    .dataframe tbody tr th {\n",
       "        vertical-align: top;\n",
       "    }\n",
       "\n",
       "    .dataframe thead th {\n",
       "        text-align: right;\n",
       "    }\n",
       "</style>\n",
       "<table border=\"1\" class=\"dataframe\">\n",
       "  <thead>\n",
       "    <tr style=\"text-align: right;\">\n",
       "      <th></th>\n",
       "      <th>8646</th>\n",
       "      <th>85.485</th>\n",
       "    </tr>\n",
       "  </thead>\n",
       "  <tbody>\n",
       "    <tr>\n",
       "      <th>0</th>\n",
       "      <td>8647</td>\n",
       "      <td>59.873333</td>\n",
       "    </tr>\n",
       "    <tr>\n",
       "      <th>1</th>\n",
       "      <td>8648</td>\n",
       "      <td>37.727857</td>\n",
       "    </tr>\n",
       "    <tr>\n",
       "      <th>2</th>\n",
       "      <td>8649</td>\n",
       "      <td>16.238000</td>\n",
       "    </tr>\n",
       "    <tr>\n",
       "      <th>3</th>\n",
       "      <td>8650</td>\n",
       "      <td>6.460000</td>\n",
       "    </tr>\n",
       "    <tr>\n",
       "      <th>4</th>\n",
       "      <td>8651</td>\n",
       "      <td>6.070000</td>\n",
       "    </tr>\n",
       "  </tbody>\n",
       "</table>\n",
       "</div>"
      ],
      "text/plain": [
       "   8646     85.485\n",
       "0  8647  59.873333\n",
       "1  8648  37.727857\n",
       "2  8649  16.238000\n",
       "3  8650   6.460000\n",
       "4  8651   6.070000"
      ]
     },
     "execution_count": 47,
     "metadata": {},
     "output_type": "execute_result"
    }
   ],
   "source": [
    "sample_submit_07 = pd.read_csv('sample_submit_07.csv')\n",
    "sample_submit_07.head(5)"
   ]
  },
  {
   "cell_type": "markdown",
   "id": "3b1e60b9-053c-467b-8b78-edf8c05f7a77",
   "metadata": {},
   "source": [
    "### 評価  \n",
    "RMSE  ?(125/1246位)  \n",
    "精度は高いとは言えない、  \n",
    "特徴量を加えたり、別の学習モデルやアンサンブル学習などいろいろ出来そう。"
   ]
  },
  {
   "cell_type": "markdown",
   "id": "52d76fa4-ee4d-4a67-a67b-131120bb65f3",
   "metadata": {},
   "source": [
    "# 検証8"
   ]
  },
  {
   "cell_type": "markdown",
   "id": "641e71b4-7d64-4407-884e-00937efe0c23",
   "metadata": {},
   "source": [
    "## 重回帰分析(前処理あり)"
   ]
  },
  {
   "cell_type": "code",
   "execution_count": 48,
   "id": "b5d6505c-c613-41f2-9989-280ea0f1e61a",
   "metadata": {},
   "outputs": [],
   "source": [
    "from sklearn.linear_model import LinearRegression #重回帰分析"
   ]
  },
  {
   "cell_type": "code",
   "execution_count": 49,
   "id": "fdcd4640-76c6-4aa9-a238-ab9e6c0676db",
   "metadata": {},
   "outputs": [],
   "source": [
    "#前処理\n",
    "\n",
    "#trainデータ処理\n",
    "train_df = pd.read_table('train.tsv')\n",
    "#One-Hot Encoding\n",
    "train_df_one_hot_encoded = pd.get_dummies(train_df,columns=['weathersit'])\n",
    "#曜日の'weekday'を土日(0)と平日(1)の2値データする。\n",
    "#新しい変数'weekday2'を作って、全て0(zero)を入れる\n",
    "train_df_one_hot_encoded['weekday2'] = 0\n",
    "#平日を1にしたいので、1にするコードを用意する\n",
    "train_df_one_hot_encoded.loc[train_df_one_hot_encoded['weekday'].isin(list(range(1,6))),'weekday2']=1\n",
    "# 結果の件数を確認する\n",
    "#train_df_one_hot_encoded['weekday2'].value_counts()\n",
    "# id2500以前は、傾向が違うため、カット(運用開始など？)\n",
    "train_df_one_hot_encoded = train_df_one_hot_encoded[train_df_one_hot_encoded['id'] > 2500]\n",
    "\n",
    "\n",
    "#testデータ処理\n",
    "test_df = pd.read_table('test.tsv')\n",
    "#One-Hot Encoding\n",
    "test_df_one_hot_encoded = pd.get_dummies(test_df,columns=['weathersit'])\n",
    "#曜日の'weekday'を土日(0)と平日(1)の2値データする。\n",
    "#新しい変数'weekday2'を作って、全て0(zero)を入れる\n",
    "test_df_one_hot_encoded['weekday2'] = 0\n",
    "#平日を1にしたいので、1にするコードを用意する\n",
    "test_df_one_hot_encoded.loc[test_df_one_hot_encoded['weekday'].isin(list(range(1,6))),'weekday2']=1\n"
   ]
  },
  {
   "cell_type": "code",
   "execution_count": 50,
   "id": "193517eb-4726-46f1-b519-a90f9f63bee6",
   "metadata": {},
   "outputs": [
    {
     "data": {
      "text/html": [
       "<div>\n",
       "<style scoped>\n",
       "    .dataframe tbody tr th:only-of-type {\n",
       "        vertical-align: middle;\n",
       "    }\n",
       "\n",
       "    .dataframe tbody tr th {\n",
       "        vertical-align: top;\n",
       "    }\n",
       "\n",
       "    .dataframe thead th {\n",
       "        text-align: right;\n",
       "    }\n",
       "</style>\n",
       "<table border=\"1\" class=\"dataframe\">\n",
       "  <thead>\n",
       "    <tr style=\"text-align: right;\">\n",
       "      <th></th>\n",
       "      <th>hr</th>\n",
       "      <th>workingday</th>\n",
       "      <th>weekday2</th>\n",
       "      <th>temp</th>\n",
       "      <th>atemp</th>\n",
       "      <th>weathersit_1</th>\n",
       "      <th>weathersit_2</th>\n",
       "      <th>weathersit_3</th>\n",
       "    </tr>\n",
       "  </thead>\n",
       "  <tbody>\n",
       "    <tr>\n",
       "      <th>2500</th>\n",
       "      <td>2</td>\n",
       "      <td>1</td>\n",
       "      <td>1</td>\n",
       "      <td>0.46</td>\n",
       "      <td>0.4545</td>\n",
       "      <td>1</td>\n",
       "      <td>0</td>\n",
       "      <td>0</td>\n",
       "    </tr>\n",
       "    <tr>\n",
       "      <th>2501</th>\n",
       "      <td>3</td>\n",
       "      <td>1</td>\n",
       "      <td>1</td>\n",
       "      <td>0.48</td>\n",
       "      <td>0.4697</td>\n",
       "      <td>1</td>\n",
       "      <td>0</td>\n",
       "      <td>0</td>\n",
       "    </tr>\n",
       "    <tr>\n",
       "      <th>2502</th>\n",
       "      <td>4</td>\n",
       "      <td>1</td>\n",
       "      <td>1</td>\n",
       "      <td>0.46</td>\n",
       "      <td>0.4545</td>\n",
       "      <td>1</td>\n",
       "      <td>0</td>\n",
       "      <td>0</td>\n",
       "    </tr>\n",
       "    <tr>\n",
       "      <th>2503</th>\n",
       "      <td>5</td>\n",
       "      <td>1</td>\n",
       "      <td>1</td>\n",
       "      <td>0.46</td>\n",
       "      <td>0.4545</td>\n",
       "      <td>0</td>\n",
       "      <td>1</td>\n",
       "      <td>0</td>\n",
       "    </tr>\n",
       "    <tr>\n",
       "      <th>2504</th>\n",
       "      <td>6</td>\n",
       "      <td>1</td>\n",
       "      <td>1</td>\n",
       "      <td>0.48</td>\n",
       "      <td>0.4697</td>\n",
       "      <td>0</td>\n",
       "      <td>1</td>\n",
       "      <td>0</td>\n",
       "    </tr>\n",
       "  </tbody>\n",
       "</table>\n",
       "</div>"
      ],
      "text/plain": [
       "      hr  workingday  weekday2  temp   atemp  weathersit_1  weathersit_2  \\\n",
       "2500   2           1         1  0.46  0.4545             1             0   \n",
       "2501   3           1         1  0.48  0.4697             1             0   \n",
       "2502   4           1         1  0.46  0.4545             1             0   \n",
       "2503   5           1         1  0.46  0.4545             0             1   \n",
       "2504   6           1         1  0.48  0.4697             0             1   \n",
       "\n",
       "      weathersit_3  \n",
       "2500             0  \n",
       "2501             0  \n",
       "2502             0  \n",
       "2503             0  \n",
       "2504             0  "
      ]
     },
     "execution_count": 50,
     "metadata": {},
     "output_type": "execute_result"
    }
   ],
   "source": [
    "#必要な説明変数だけをとりだす\n",
    "train_df_x = train_df_one_hot_encoded[['hr','workingday','weekday2','temp','atemp','weathersit_1','weathersit_2','weathersit_3']]\n",
    "train_df_y = train_df_one_hot_encoded['cnt']\n",
    "train_df_x.head()"
   ]
  },
  {
   "cell_type": "code",
   "execution_count": 51,
   "id": "8464a508-7eeb-440e-aade-25680ca900fe",
   "metadata": {},
   "outputs": [],
   "source": [
    "# defaultはtrain dataが75%、test dataが25%に分割\n",
    "# また時系列のデータなので、shuffleをFalseにする。\n",
    "train_X, test_X, train_y, test_y = train_test_split(train_df_x, train_df_y, random_state=42, shuffle=False)\n"
   ]
  },
  {
   "cell_type": "code",
   "execution_count": 52,
   "id": "5ac5489e-b154-40f1-b173-61e4cd50b742",
   "metadata": {},
   "outputs": [],
   "source": [
    "# モデルのインスタンス\n",
    "model_LR = LinearRegression()"
   ]
  },
  {
   "cell_type": "code",
   "execution_count": 53,
   "id": "8069771c-7a4f-457a-b505-26b3fcefa934",
   "metadata": {},
   "outputs": [
    {
     "data": {
      "text/html": [
       "<style>#sk-container-id-3 {color: black;background-color: white;}#sk-container-id-3 pre{padding: 0;}#sk-container-id-3 div.sk-toggleable {background-color: white;}#sk-container-id-3 label.sk-toggleable__label {cursor: pointer;display: block;width: 100%;margin-bottom: 0;padding: 0.3em;box-sizing: border-box;text-align: center;}#sk-container-id-3 label.sk-toggleable__label-arrow:before {content: \"▸\";float: left;margin-right: 0.25em;color: #696969;}#sk-container-id-3 label.sk-toggleable__label-arrow:hover:before {color: black;}#sk-container-id-3 div.sk-estimator:hover label.sk-toggleable__label-arrow:before {color: black;}#sk-container-id-3 div.sk-toggleable__content {max-height: 0;max-width: 0;overflow: hidden;text-align: left;background-color: #f0f8ff;}#sk-container-id-3 div.sk-toggleable__content pre {margin: 0.2em;color: black;border-radius: 0.25em;background-color: #f0f8ff;}#sk-container-id-3 input.sk-toggleable__control:checked~div.sk-toggleable__content {max-height: 200px;max-width: 100%;overflow: auto;}#sk-container-id-3 input.sk-toggleable__control:checked~label.sk-toggleable__label-arrow:before {content: \"▾\";}#sk-container-id-3 div.sk-estimator input.sk-toggleable__control:checked~label.sk-toggleable__label {background-color: #d4ebff;}#sk-container-id-3 div.sk-label input.sk-toggleable__control:checked~label.sk-toggleable__label {background-color: #d4ebff;}#sk-container-id-3 input.sk-hidden--visually {border: 0;clip: rect(1px 1px 1px 1px);clip: rect(1px, 1px, 1px, 1px);height: 1px;margin: -1px;overflow: hidden;padding: 0;position: absolute;width: 1px;}#sk-container-id-3 div.sk-estimator {font-family: monospace;background-color: #f0f8ff;border: 1px dotted black;border-radius: 0.25em;box-sizing: border-box;margin-bottom: 0.5em;}#sk-container-id-3 div.sk-estimator:hover {background-color: #d4ebff;}#sk-container-id-3 div.sk-parallel-item::after {content: \"\";width: 100%;border-bottom: 1px solid gray;flex-grow: 1;}#sk-container-id-3 div.sk-label:hover label.sk-toggleable__label {background-color: #d4ebff;}#sk-container-id-3 div.sk-serial::before {content: \"\";position: absolute;border-left: 1px solid gray;box-sizing: border-box;top: 0;bottom: 0;left: 50%;z-index: 0;}#sk-container-id-3 div.sk-serial {display: flex;flex-direction: column;align-items: center;background-color: white;padding-right: 0.2em;padding-left: 0.2em;position: relative;}#sk-container-id-3 div.sk-item {position: relative;z-index: 1;}#sk-container-id-3 div.sk-parallel {display: flex;align-items: stretch;justify-content: center;background-color: white;position: relative;}#sk-container-id-3 div.sk-item::before, #sk-container-id-3 div.sk-parallel-item::before {content: \"\";position: absolute;border-left: 1px solid gray;box-sizing: border-box;top: 0;bottom: 0;left: 50%;z-index: -1;}#sk-container-id-3 div.sk-parallel-item {display: flex;flex-direction: column;z-index: 1;position: relative;background-color: white;}#sk-container-id-3 div.sk-parallel-item:first-child::after {align-self: flex-end;width: 50%;}#sk-container-id-3 div.sk-parallel-item:last-child::after {align-self: flex-start;width: 50%;}#sk-container-id-3 div.sk-parallel-item:only-child::after {width: 0;}#sk-container-id-3 div.sk-dashed-wrapped {border: 1px dashed gray;margin: 0 0.4em 0.5em 0.4em;box-sizing: border-box;padding-bottom: 0.4em;background-color: white;}#sk-container-id-3 div.sk-label label {font-family: monospace;font-weight: bold;display: inline-block;line-height: 1.2em;}#sk-container-id-3 div.sk-label-container {text-align: center;}#sk-container-id-3 div.sk-container {/* jupyter's `normalize.less` sets `[hidden] { display: none; }` but bootstrap.min.css set `[hidden] { display: none !important; }` so we also need the `!important` here to be able to override the default hidden behavior on the sphinx rendered scikit-learn.org. See: https://github.com/scikit-learn/scikit-learn/issues/21755 */display: inline-block !important;position: relative;}#sk-container-id-3 div.sk-text-repr-fallback {display: none;}</style><div id=\"sk-container-id-3\" class=\"sk-top-container\"><div class=\"sk-text-repr-fallback\"><pre>LinearRegression()</pre><b>In a Jupyter environment, please rerun this cell to show the HTML representation or trust the notebook. <br />On GitHub, the HTML representation is unable to render, please try loading this page with nbviewer.org.</b></div><div class=\"sk-container\" hidden><div class=\"sk-item\"><div class=\"sk-estimator sk-toggleable\"><input class=\"sk-toggleable__control sk-hidden--visually\" id=\"sk-estimator-id-3\" type=\"checkbox\" checked><label for=\"sk-estimator-id-3\" class=\"sk-toggleable__label sk-toggleable__label-arrow\">LinearRegression</label><div class=\"sk-toggleable__content\"><pre>LinearRegression()</pre></div></div></div></div></div>"
      ],
      "text/plain": [
       "LinearRegression()"
      ]
     },
     "execution_count": 53,
     "metadata": {},
     "output_type": "execute_result"
    }
   ],
   "source": [
    "# モデルの学習\n",
    "model_LR.fit(train_X, train_y)"
   ]
  },
  {
   "cell_type": "code",
   "execution_count": 54,
   "id": "f59d23da-a9c0-4c8c-add4-b21157f6c2fc",
   "metadata": {},
   "outputs": [],
   "source": [
    "pred_LR = model_LR.predict(test_X)"
   ]
  },
  {
   "cell_type": "code",
   "execution_count": 55,
   "id": "d04494d3-fa7a-4f77-b1ee-974fe07ce051",
   "metadata": {},
   "outputs": [
    {
     "data": {
      "text/plain": [
       "array([190.86700578, 149.57834743, 153.25590258, ..., 234.0675898 ,\n",
       "       238.99319003, 243.91057944])"
      ]
     },
     "execution_count": 55,
     "metadata": {},
     "output_type": "execute_result"
    }
   ],
   "source": [
    "pred_LR"
   ]
  },
  {
   "cell_type": "code",
   "execution_count": 56,
   "id": "24d9c344-52f2-4af3-a273-a35039a93c89",
   "metadata": {},
   "outputs": [
    {
     "name": "stdout",
     "output_type": "stream",
     "text": [
      "RMSE : 106.935\n"
     ]
    }
   ],
   "source": [
    "# 訓練データ予測のRMSE計算\n",
    "rmse = np.sqrt(mean_squared_error(test_y, pred_LR))\n",
    "print('RMSE : {:.3f}'.format(rmse))\n"
   ]
  },
  {
   "cell_type": "markdown",
   "id": "a0034af8-a0f5-4ca9-b329-8f237ef3b803",
   "metadata": {},
   "source": [
    "lightgbm,ランダムフォレストよりは若干劣る"
   ]
  },
  {
   "cell_type": "markdown",
   "id": "ce8b46bd-f1d5-4577-8929-a0554e99a607",
   "metadata": {},
   "source": [
    "未知のtestデータを予測する。"
   ]
  },
  {
   "cell_type": "code",
   "execution_count": 57,
   "id": "e4a7fdf7-11da-4bd8-a501-7c7a60f247f2",
   "metadata": {},
   "outputs": [
    {
     "data": {
      "text/html": [
       "<div>\n",
       "<style scoped>\n",
       "    .dataframe tbody tr th:only-of-type {\n",
       "        vertical-align: middle;\n",
       "    }\n",
       "\n",
       "    .dataframe tbody tr th {\n",
       "        vertical-align: top;\n",
       "    }\n",
       "\n",
       "    .dataframe thead th {\n",
       "        text-align: right;\n",
       "    }\n",
       "</style>\n",
       "<table border=\"1\" class=\"dataframe\">\n",
       "  <thead>\n",
       "    <tr style=\"text-align: right;\">\n",
       "      <th></th>\n",
       "      <th>hr</th>\n",
       "      <th>workingday</th>\n",
       "      <th>weekday2</th>\n",
       "      <th>temp</th>\n",
       "      <th>atemp</th>\n",
       "      <th>weathersit_1</th>\n",
       "      <th>weathersit_2</th>\n",
       "      <th>weathersit_3</th>\n",
       "    </tr>\n",
       "  </thead>\n",
       "  <tbody>\n",
       "    <tr>\n",
       "      <th>0</th>\n",
       "      <td>0</td>\n",
       "      <td>0</td>\n",
       "      <td>0</td>\n",
       "      <td>0.36</td>\n",
       "      <td>0.3788</td>\n",
       "      <td>1</td>\n",
       "      <td>0</td>\n",
       "      <td>0</td>\n",
       "    </tr>\n",
       "    <tr>\n",
       "      <th>1</th>\n",
       "      <td>1</td>\n",
       "      <td>0</td>\n",
       "      <td>0</td>\n",
       "      <td>0.36</td>\n",
       "      <td>0.3485</td>\n",
       "      <td>1</td>\n",
       "      <td>0</td>\n",
       "      <td>0</td>\n",
       "    </tr>\n",
       "    <tr>\n",
       "      <th>2</th>\n",
       "      <td>2</td>\n",
       "      <td>0</td>\n",
       "      <td>0</td>\n",
       "      <td>0.32</td>\n",
       "      <td>0.3485</td>\n",
       "      <td>1</td>\n",
       "      <td>0</td>\n",
       "      <td>0</td>\n",
       "    </tr>\n",
       "    <tr>\n",
       "      <th>3</th>\n",
       "      <td>3</td>\n",
       "      <td>0</td>\n",
       "      <td>0</td>\n",
       "      <td>0.30</td>\n",
       "      <td>0.3333</td>\n",
       "      <td>1</td>\n",
       "      <td>0</td>\n",
       "      <td>0</td>\n",
       "    </tr>\n",
       "    <tr>\n",
       "      <th>4</th>\n",
       "      <td>4</td>\n",
       "      <td>0</td>\n",
       "      <td>0</td>\n",
       "      <td>0.28</td>\n",
       "      <td>0.3030</td>\n",
       "      <td>1</td>\n",
       "      <td>0</td>\n",
       "      <td>0</td>\n",
       "    </tr>\n",
       "  </tbody>\n",
       "</table>\n",
       "</div>"
      ],
      "text/plain": [
       "   hr  workingday  weekday2  temp   atemp  weathersit_1  weathersit_2  \\\n",
       "0   0           0         0  0.36  0.3788             1             0   \n",
       "1   1           0         0  0.36  0.3485             1             0   \n",
       "2   2           0         0  0.32  0.3485             1             0   \n",
       "3   3           0         0  0.30  0.3333             1             0   \n",
       "4   4           0         0  0.28  0.3030             1             0   \n",
       "\n",
       "   weathersit_3  \n",
       "0             0  \n",
       "1             0  \n",
       "2             0  \n",
       "3             0  \n",
       "4             0  "
      ]
     },
     "execution_count": 57,
     "metadata": {},
     "output_type": "execute_result"
    }
   ],
   "source": [
    "#testデータの必要な変数だけをとりだす\n",
    "test_df_x = test_df_one_hot_encoded[['hr','workingday','weekday2','temp','atemp','weathersit_1','weathersit_2','weathersit_3']]\n",
    "test_df_x.head()"
   ]
  },
  {
   "cell_type": "code",
   "execution_count": 58,
   "id": "096a729f-1c3e-4f71-82ee-3e5ef73dc3b5",
   "metadata": {},
   "outputs": [
    {
     "data": {
      "text/plain": [
       "(8734, 8)"
      ]
     },
     "execution_count": 58,
     "metadata": {},
     "output_type": "execute_result"
    }
   ],
   "source": [
    "test_df_x.shape"
   ]
  },
  {
   "cell_type": "code",
   "execution_count": 59,
   "id": "cb06970a-4f47-4eca-aaa1-ca496e9d1950",
   "metadata": {},
   "outputs": [],
   "source": [
    "# test dataにモデルを適用する\n",
    "Y_test_pred = model_LR.predict(test_df_x) #X_testデータを使って予測する"
   ]
  },
  {
   "cell_type": "code",
   "execution_count": 60,
   "id": "38393082-eed6-43d8-b8e2-c4c48e7aa43d",
   "metadata": {},
   "outputs": [
    {
     "data": {
      "text/plain": [
       "array([ 17.62665205,  29.95296302,  27.46964169, ..., 191.71440562,\n",
       "       200.31300298, 210.15143461])"
      ]
     },
     "execution_count": 60,
     "metadata": {},
     "output_type": "execute_result"
    }
   ],
   "source": [
    "Y_test_pred"
   ]
  },
  {
   "cell_type": "markdown",
   "id": "fae83993-64b1-46f9-830e-8cbf096e7b71",
   "metadata": {},
   "source": [
    "### 提出ファイルの作成"
   ]
  },
  {
   "cell_type": "code",
   "execution_count": 61,
   "id": "a789460c-cfe0-45b4-ba13-d74abb13a532",
   "metadata": {},
   "outputs": [
    {
     "data": {
      "text/plain": [
       "((8734,), (8734, 14))"
      ]
     },
     "execution_count": 61,
     "metadata": {},
     "output_type": "execute_result"
    }
   ],
   "source": [
    "Y_test_pred.shape,test_df.shape"
   ]
  },
  {
   "cell_type": "code",
   "execution_count": 62,
   "id": "f6f8d412-308f-4b17-9ef5-ab1e51a027a6",
   "metadata": {},
   "outputs": [
    {
     "data": {
      "text/html": [
       "<div>\n",
       "<style scoped>\n",
       "    .dataframe tbody tr th:only-of-type {\n",
       "        vertical-align: middle;\n",
       "    }\n",
       "\n",
       "    .dataframe tbody tr th {\n",
       "        vertical-align: top;\n",
       "    }\n",
       "\n",
       "    .dataframe thead th {\n",
       "        text-align: right;\n",
       "    }\n",
       "</style>\n",
       "<table border=\"1\" class=\"dataframe\">\n",
       "  <thead>\n",
       "    <tr style=\"text-align: right;\">\n",
       "      <th></th>\n",
       "      <th>id</th>\n",
       "      <th>dteday</th>\n",
       "      <th>season</th>\n",
       "      <th>yr</th>\n",
       "      <th>mnth</th>\n",
       "      <th>hr</th>\n",
       "      <th>holiday</th>\n",
       "      <th>weekday</th>\n",
       "      <th>workingday</th>\n",
       "      <th>weathersit</th>\n",
       "      <th>temp</th>\n",
       "      <th>atemp</th>\n",
       "      <th>hum</th>\n",
       "      <th>windspeed</th>\n",
       "      <th>cnt</th>\n",
       "    </tr>\n",
       "  </thead>\n",
       "  <tbody>\n",
       "    <tr>\n",
       "      <th>0</th>\n",
       "      <td>8646</td>\n",
       "      <td>2012-01-01</td>\n",
       "      <td>1</td>\n",
       "      <td>1</td>\n",
       "      <td>1</td>\n",
       "      <td>0</td>\n",
       "      <td>0</td>\n",
       "      <td>0</td>\n",
       "      <td>0</td>\n",
       "      <td>1</td>\n",
       "      <td>0.36</td>\n",
       "      <td>0.3788</td>\n",
       "      <td>0.66</td>\n",
       "      <td>0.0000</td>\n",
       "      <td>17.626652</td>\n",
       "    </tr>\n",
       "    <tr>\n",
       "      <th>1</th>\n",
       "      <td>8647</td>\n",
       "      <td>2012-01-01</td>\n",
       "      <td>1</td>\n",
       "      <td>1</td>\n",
       "      <td>1</td>\n",
       "      <td>1</td>\n",
       "      <td>0</td>\n",
       "      <td>0</td>\n",
       "      <td>0</td>\n",
       "      <td>1</td>\n",
       "      <td>0.36</td>\n",
       "      <td>0.3485</td>\n",
       "      <td>0.66</td>\n",
       "      <td>0.1343</td>\n",
       "      <td>29.952963</td>\n",
       "    </tr>\n",
       "    <tr>\n",
       "      <th>2</th>\n",
       "      <td>8648</td>\n",
       "      <td>2012-01-01</td>\n",
       "      <td>1</td>\n",
       "      <td>1</td>\n",
       "      <td>1</td>\n",
       "      <td>2</td>\n",
       "      <td>0</td>\n",
       "      <td>0</td>\n",
       "      <td>0</td>\n",
       "      <td>1</td>\n",
       "      <td>0.32</td>\n",
       "      <td>0.3485</td>\n",
       "      <td>0.76</td>\n",
       "      <td>0.0000</td>\n",
       "      <td>27.469642</td>\n",
       "    </tr>\n",
       "    <tr>\n",
       "      <th>3</th>\n",
       "      <td>8649</td>\n",
       "      <td>2012-01-01</td>\n",
       "      <td>1</td>\n",
       "      <td>1</td>\n",
       "      <td>1</td>\n",
       "      <td>3</td>\n",
       "      <td>0</td>\n",
       "      <td>0</td>\n",
       "      <td>0</td>\n",
       "      <td>1</td>\n",
       "      <td>0.30</td>\n",
       "      <td>0.3333</td>\n",
       "      <td>0.81</td>\n",
       "      <td>0.0000</td>\n",
       "      <td>32.395242</td>\n",
       "    </tr>\n",
       "    <tr>\n",
       "      <th>4</th>\n",
       "      <td>8650</td>\n",
       "      <td>2012-01-01</td>\n",
       "      <td>1</td>\n",
       "      <td>1</td>\n",
       "      <td>1</td>\n",
       "      <td>4</td>\n",
       "      <td>0</td>\n",
       "      <td>0</td>\n",
       "      <td>0</td>\n",
       "      <td>1</td>\n",
       "      <td>0.28</td>\n",
       "      <td>0.3030</td>\n",
       "      <td>0.81</td>\n",
       "      <td>0.0896</td>\n",
       "      <td>38.560676</td>\n",
       "    </tr>\n",
       "  </tbody>\n",
       "</table>\n",
       "</div>"
      ],
      "text/plain": [
       "     id      dteday  season  yr  mnth  hr  holiday  weekday  workingday  \\\n",
       "0  8646  2012-01-01       1   1     1   0        0        0           0   \n",
       "1  8647  2012-01-01       1   1     1   1        0        0           0   \n",
       "2  8648  2012-01-01       1   1     1   2        0        0           0   \n",
       "3  8649  2012-01-01       1   1     1   3        0        0           0   \n",
       "4  8650  2012-01-01       1   1     1   4        0        0           0   \n",
       "\n",
       "   weathersit  temp   atemp   hum  windspeed        cnt  \n",
       "0           1  0.36  0.3788  0.66     0.0000  17.626652  \n",
       "1           1  0.36  0.3485  0.66     0.1343  29.952963  \n",
       "2           1  0.32  0.3485  0.76     0.0000  27.469642  \n",
       "3           1  0.30  0.3333  0.81     0.0000  32.395242  \n",
       "4           1  0.28  0.3030  0.81     0.0896  38.560676  "
      ]
     },
     "execution_count": 62,
     "metadata": {},
     "output_type": "execute_result"
    }
   ],
   "source": [
    "sub = test_df.copy()\n",
    "sub['cnt'] = Y_test_pred\n",
    "sub.head(5)"
   ]
  },
  {
   "cell_type": "code",
   "execution_count": 63,
   "id": "67e5c519-92b6-4dad-a61f-900aa27c06cd",
   "metadata": {},
   "outputs": [],
   "source": [
    "# 提出ファイル\n",
    "sub[['id','cnt']].to_csv('sample_submit_08.csv', index=False, header = False)"
   ]
  },
  {
   "cell_type": "code",
   "execution_count": 65,
   "id": "c5ed2233-3a0d-4ef8-be24-aad6f498c048",
   "metadata": {},
   "outputs": [
    {
     "data": {
      "text/html": [
       "<div>\n",
       "<style scoped>\n",
       "    .dataframe tbody tr th:only-of-type {\n",
       "        vertical-align: middle;\n",
       "    }\n",
       "\n",
       "    .dataframe tbody tr th {\n",
       "        vertical-align: top;\n",
       "    }\n",
       "\n",
       "    .dataframe thead th {\n",
       "        text-align: right;\n",
       "    }\n",
       "</style>\n",
       "<table border=\"1\" class=\"dataframe\">\n",
       "  <thead>\n",
       "    <tr style=\"text-align: right;\">\n",
       "      <th></th>\n",
       "      <th>8646</th>\n",
       "      <th>17.62665205468295</th>\n",
       "    </tr>\n",
       "  </thead>\n",
       "  <tbody>\n",
       "    <tr>\n",
       "      <th>0</th>\n",
       "      <td>8647</td>\n",
       "      <td>29.952963</td>\n",
       "    </tr>\n",
       "    <tr>\n",
       "      <th>1</th>\n",
       "      <td>8648</td>\n",
       "      <td>27.469642</td>\n",
       "    </tr>\n",
       "    <tr>\n",
       "      <th>2</th>\n",
       "      <td>8649</td>\n",
       "      <td>32.395242</td>\n",
       "    </tr>\n",
       "    <tr>\n",
       "      <th>3</th>\n",
       "      <td>8650</td>\n",
       "      <td>38.560676</td>\n",
       "    </tr>\n",
       "    <tr>\n",
       "      <th>4</th>\n",
       "      <td>8651</td>\n",
       "      <td>49.638942</td>\n",
       "    </tr>\n",
       "  </tbody>\n",
       "</table>\n",
       "</div>"
      ],
      "text/plain": [
       "   8646  17.62665205468295\n",
       "0  8647          29.952963\n",
       "1  8648          27.469642\n",
       "2  8649          32.395242\n",
       "3  8650          38.560676\n",
       "4  8651          49.638942"
      ]
     },
     "execution_count": 65,
     "metadata": {},
     "output_type": "execute_result"
    }
   ],
   "source": [
    "sample_submit_08 = pd.read_csv('sample_submit_08.csv')\n",
    "sample_submit_08.head()"
   ]
  },
  {
   "cell_type": "markdown",
   "id": "9d3113b5-4290-4f79-9f20-3a629e84394d",
   "metadata": {},
   "source": [
    "### 評価  \n",
    "RMSE  ?(125/1246位)  \n",
    "精度は高いとは言えない、  \n",
    "特徴量を加えたり、別の学習モデルやアンサンブル学習などいろいろ出来そう。"
   ]
  },
  {
   "cell_type": "markdown",
   "id": "5d5aeda3-b315-43fa-884a-a9d63d696ebc",
   "metadata": {},
   "source": [
    "# 検証9"
   ]
  },
  {
   "cell_type": "markdown",
   "id": "455dc439-35f1-426e-9834-a48ee02eabc3",
   "metadata": {},
   "source": [
    "## スタッキング(重回帰分析,ランダムフォレスト,lightgbmの予測値を重回帰分析にかけて最終的な予測をする。)"
   ]
  },
  {
   "cell_type": "code",
   "execution_count": 88,
   "id": "ed79cdfa-d84a-4bbc-8b54-4d76546dee7d",
   "metadata": {},
   "outputs": [],
   "source": [
    "#前処理\n",
    "\n",
    "#trainデータ処理\n",
    "train_df = pd.read_table('train.tsv')\n",
    "#One-Hot Encoding\n",
    "train_df_one_hot_encoded = pd.get_dummies(train_df,columns=['weathersit'])\n",
    "#曜日の'weekday'を土日(0)と平日(1)の2値データする。\n",
    "#新しい変数'weekday2'を作って、全て0(zero)を入れる\n",
    "train_df_one_hot_encoded['weekday2'] = 0\n",
    "#平日を1にしたいので、1にするコードを用意する\n",
    "train_df_one_hot_encoded.loc[train_df_one_hot_encoded['weekday'].isin(list(range(1,6))),'weekday2']=1\n",
    "# 結果の件数を確認する\n",
    "#train_df_one_hot_encoded['weekday2'].value_counts()\n",
    "# id2500以前は、傾向が違うため、カット(運用開始など？)\n",
    "train_df_one_hot_encoded = train_df_one_hot_encoded[train_df_one_hot_encoded['id'] > 2500]\n",
    "\n",
    "\n",
    "#testデータ処理\n",
    "test_df = pd.read_table('test.tsv')\n",
    "#One-Hot Encoding\n",
    "test_df_one_hot_encoded = pd.get_dummies(test_df,columns=['weathersit'])\n",
    "#曜日の'weekday'を土日(0)と平日(1)の2値データする。\n",
    "#新しい変数'weekday2'を作って、全て0(zero)を入れる\n",
    "test_df_one_hot_encoded['weekday2'] = 0\n",
    "#平日を1にしたいので、1にするコードを用意する\n",
    "test_df_one_hot_encoded.loc[test_df_one_hot_encoded['weekday'].isin(list(range(1,6))),'weekday2']=1\n"
   ]
  },
  {
   "cell_type": "code",
   "execution_count": 89,
   "id": "44b1c577-cf48-4586-ad91-1275e1688c93",
   "metadata": {},
   "outputs": [
    {
     "data": {
      "text/html": [
       "<div>\n",
       "<style scoped>\n",
       "    .dataframe tbody tr th:only-of-type {\n",
       "        vertical-align: middle;\n",
       "    }\n",
       "\n",
       "    .dataframe tbody tr th {\n",
       "        vertical-align: top;\n",
       "    }\n",
       "\n",
       "    .dataframe thead th {\n",
       "        text-align: right;\n",
       "    }\n",
       "</style>\n",
       "<table border=\"1\" class=\"dataframe\">\n",
       "  <thead>\n",
       "    <tr style=\"text-align: right;\">\n",
       "      <th></th>\n",
       "      <th>hr</th>\n",
       "      <th>workingday</th>\n",
       "      <th>weekday2</th>\n",
       "      <th>temp</th>\n",
       "      <th>atemp</th>\n",
       "      <th>weathersit_1</th>\n",
       "      <th>weathersit_2</th>\n",
       "      <th>weathersit_3</th>\n",
       "    </tr>\n",
       "  </thead>\n",
       "  <tbody>\n",
       "    <tr>\n",
       "      <th>2500</th>\n",
       "      <td>2</td>\n",
       "      <td>1</td>\n",
       "      <td>1</td>\n",
       "      <td>0.46</td>\n",
       "      <td>0.4545</td>\n",
       "      <td>1</td>\n",
       "      <td>0</td>\n",
       "      <td>0</td>\n",
       "    </tr>\n",
       "    <tr>\n",
       "      <th>2501</th>\n",
       "      <td>3</td>\n",
       "      <td>1</td>\n",
       "      <td>1</td>\n",
       "      <td>0.48</td>\n",
       "      <td>0.4697</td>\n",
       "      <td>1</td>\n",
       "      <td>0</td>\n",
       "      <td>0</td>\n",
       "    </tr>\n",
       "    <tr>\n",
       "      <th>2502</th>\n",
       "      <td>4</td>\n",
       "      <td>1</td>\n",
       "      <td>1</td>\n",
       "      <td>0.46</td>\n",
       "      <td>0.4545</td>\n",
       "      <td>1</td>\n",
       "      <td>0</td>\n",
       "      <td>0</td>\n",
       "    </tr>\n",
       "    <tr>\n",
       "      <th>2503</th>\n",
       "      <td>5</td>\n",
       "      <td>1</td>\n",
       "      <td>1</td>\n",
       "      <td>0.46</td>\n",
       "      <td>0.4545</td>\n",
       "      <td>0</td>\n",
       "      <td>1</td>\n",
       "      <td>0</td>\n",
       "    </tr>\n",
       "    <tr>\n",
       "      <th>2504</th>\n",
       "      <td>6</td>\n",
       "      <td>1</td>\n",
       "      <td>1</td>\n",
       "      <td>0.48</td>\n",
       "      <td>0.4697</td>\n",
       "      <td>0</td>\n",
       "      <td>1</td>\n",
       "      <td>0</td>\n",
       "    </tr>\n",
       "  </tbody>\n",
       "</table>\n",
       "</div>"
      ],
      "text/plain": [
       "      hr  workingday  weekday2  temp   atemp  weathersit_1  weathersit_2  \\\n",
       "2500   2           1         1  0.46  0.4545             1             0   \n",
       "2501   3           1         1  0.48  0.4697             1             0   \n",
       "2502   4           1         1  0.46  0.4545             1             0   \n",
       "2503   5           1         1  0.46  0.4545             0             1   \n",
       "2504   6           1         1  0.48  0.4697             0             1   \n",
       "\n",
       "      weathersit_3  \n",
       "2500             0  \n",
       "2501             0  \n",
       "2502             0  \n",
       "2503             0  \n",
       "2504             0  "
      ]
     },
     "execution_count": 89,
     "metadata": {},
     "output_type": "execute_result"
    }
   ],
   "source": [
    "#必要な説明変数だけをとりだす\n",
    "train_df_x = train_df_one_hot_encoded[['hr','workingday','weekday2','temp','atemp','weathersit_1','weathersit_2','weathersit_3']]\n",
    "train_df_y = train_df_one_hot_encoded['cnt']\n",
    "train_df_x.head()"
   ]
  },
  {
   "cell_type": "markdown",
   "id": "697fc406-d187-4353-bc57-8c0647cb2dd7",
   "metadata": {},
   "source": [
    "第一段階での予測値を利用して、さらに重回帰分析をするので、データを三分割する必要がある。"
   ]
  },
  {
   "cell_type": "code",
   "execution_count": 90,
   "id": "84f6ba4b-6728-4b4c-b9e0-828ba138222c",
   "metadata": {},
   "outputs": [
    {
     "name": "stdout",
     "output_type": "stream",
     "text": [
      "(3932, 8)\n",
      "(984, 8)\n",
      "(1229, 8)\n",
      "(3932,)\n",
      "(984,)\n",
      "(1229,)\n"
     ]
    }
   ],
   "source": [
    "# データを3つに分割\n",
    "X_train,X_test, y_train, y_test = train_test_split(train_df_x, train_df_y, test_size=0.2, random_state=0)\n",
    "X_train, X_valid, y_train, y_valid = train_test_split(X_train, y_train, test_size=0.2, random_state=0)\n",
    "print(X_train.shape)\n",
    "print(X_valid.shape)\n",
    "print(X_test.shape)\n",
    "print(y_train.shape)\n",
    "print(y_valid.shape)\n",
    "print(y_test.shape)"
   ]
  },
  {
   "cell_type": "code",
   "execution_count": 91,
   "id": "f9bd8444-6462-4432-8061-9ab03631f883",
   "metadata": {},
   "outputs": [],
   "source": [
    "# モデルのインスタンス\n",
    "model_1 = LinearRegression()\n",
    "model_2 = RandomForestRegressor()\n",
    "model_3 = lgb.LGBMRegressor()\n",
    "\n",
    "# モデルの学習\n",
    "model_1.fit(X_train, y_train)\n",
    "model_2.fit(X_train, y_train)\n",
    "model_3.fit(X_train, y_train)\n",
    "\n",
    "# 予測値の作成\n",
    "pred_1 = model_1.predict(X_test)\n",
    "pred_2 = model_2.predict(X_test)\n",
    "pred_3 = model_3.predict(X_test)\n"
   ]
  },
  {
   "cell_type": "code",
   "execution_count": 92,
   "id": "5feac7b6-a751-4b3a-8490-3315d98caaa9",
   "metadata": {},
   "outputs": [
    {
     "name": "stdout",
     "output_type": "stream",
     "text": [
      "重回帰分析のRMSE : 122.550\n",
      "ランダムフォレストのRMSE : 49.401\n",
      "LightGBMのRMSE : 43.742\n"
     ]
    }
   ],
   "source": [
    "#　各モデル個別の予測精度をRMSEで確認\n",
    "rmse_1 = np.sqrt(mean_squared_error(y_test, pred_1))\n",
    "print('重回帰分析のRMSE : {:.3f}'.format(rmse_1))\n",
    "\n",
    "rmse_2 = np.sqrt(mean_squared_error(y_test, pred_2))\n",
    "print('ランダムフォレストのRMSE : {:.3f}'.format(rmse_2))\n",
    "\n",
    "rmse_3 = np.sqrt(mean_squared_error(y_test, pred_3))\n",
    "print('LightGBMのRMSE : {:.3f}'.format(rmse_3))\n"
   ]
  },
  {
   "cell_type": "code",
   "execution_count": 93,
   "id": "d8754ae0-1e7f-4283-9916-8ff7c9ef5ce0",
   "metadata": {},
   "outputs": [],
   "source": [
    "# 第一段階の予測値\n",
    "first_pred_1 = model_1.predict(X_valid)\n",
    "first_pred_2 = model_2.predict(X_valid)\n",
    "first_pred_3 = model_3.predict(X_valid)\n",
    "\n",
    "# 第一段階の予測値をまとめる（メタモデルの特徴量）\n",
    "stack_pred = np.column_stack((first_pred_1,first_pred_2,first_pred_3))\n",
    "\n",
    "# メタモデルの作成\n",
    "meta_model = LinearRegression()\n",
    "# 第一段階の予測値の答え = y_valid\n",
    "meta_model.fit(stack_pred, y_valid)\n",
    "\n",
    "# 事前に予測しておいた値でスタッキングの精度を確認する\n",
    "stack_test_pred = np.column_stack((pred_1, pred_2, pred_3))\n",
    "meta_test_pred = meta_model.predict(stack_test_pred)\n"
   ]
  },
  {
   "cell_type": "code",
   "execution_count": 94,
   "id": "d4340711-5700-4863-81b9-0d13886e2621",
   "metadata": {},
   "outputs": [
    {
     "name": "stdout",
     "output_type": "stream",
     "text": [
      "メタモデルのRMSE : 43.829\n"
     ]
    }
   ],
   "source": [
    "#　メタモデルの予測精度をRMSEで確認\n",
    "rmse_4 = np.sqrt(mean_squared_error(y_test, meta_test_pred))\n",
    "print('メタモデルのRMSE : {:.3f}'.format(rmse_4))\n"
   ]
  },
  {
   "cell_type": "markdown",
   "id": "b00827dd-b4e3-41eb-90c9-f336acafa1dd",
   "metadata": {},
   "source": [
    "LightGBM単体のRMSEの方が若干精度は良かった、、"
   ]
  },
  {
   "cell_type": "markdown",
   "id": "e5b1d851-e66a-4ae0-a5ae-de73161e7283",
   "metadata": {},
   "source": [
    "未知のtestデータを予測する。"
   ]
  },
  {
   "cell_type": "code",
   "execution_count": 95,
   "id": "33bcbc47-6c83-474b-866f-ae471bffa51a",
   "metadata": {},
   "outputs": [
    {
     "data": {
      "text/html": [
       "<div>\n",
       "<style scoped>\n",
       "    .dataframe tbody tr th:only-of-type {\n",
       "        vertical-align: middle;\n",
       "    }\n",
       "\n",
       "    .dataframe tbody tr th {\n",
       "        vertical-align: top;\n",
       "    }\n",
       "\n",
       "    .dataframe thead th {\n",
       "        text-align: right;\n",
       "    }\n",
       "</style>\n",
       "<table border=\"1\" class=\"dataframe\">\n",
       "  <thead>\n",
       "    <tr style=\"text-align: right;\">\n",
       "      <th></th>\n",
       "      <th>hr</th>\n",
       "      <th>workingday</th>\n",
       "      <th>weekday2</th>\n",
       "      <th>temp</th>\n",
       "      <th>atemp</th>\n",
       "      <th>weathersit_1</th>\n",
       "      <th>weathersit_2</th>\n",
       "      <th>weathersit_3</th>\n",
       "    </tr>\n",
       "  </thead>\n",
       "  <tbody>\n",
       "    <tr>\n",
       "      <th>0</th>\n",
       "      <td>0</td>\n",
       "      <td>0</td>\n",
       "      <td>0</td>\n",
       "      <td>0.36</td>\n",
       "      <td>0.3788</td>\n",
       "      <td>1</td>\n",
       "      <td>0</td>\n",
       "      <td>0</td>\n",
       "    </tr>\n",
       "    <tr>\n",
       "      <th>1</th>\n",
       "      <td>1</td>\n",
       "      <td>0</td>\n",
       "      <td>0</td>\n",
       "      <td>0.36</td>\n",
       "      <td>0.3485</td>\n",
       "      <td>1</td>\n",
       "      <td>0</td>\n",
       "      <td>0</td>\n",
       "    </tr>\n",
       "    <tr>\n",
       "      <th>2</th>\n",
       "      <td>2</td>\n",
       "      <td>0</td>\n",
       "      <td>0</td>\n",
       "      <td>0.32</td>\n",
       "      <td>0.3485</td>\n",
       "      <td>1</td>\n",
       "      <td>0</td>\n",
       "      <td>0</td>\n",
       "    </tr>\n",
       "    <tr>\n",
       "      <th>3</th>\n",
       "      <td>3</td>\n",
       "      <td>0</td>\n",
       "      <td>0</td>\n",
       "      <td>0.30</td>\n",
       "      <td>0.3333</td>\n",
       "      <td>1</td>\n",
       "      <td>0</td>\n",
       "      <td>0</td>\n",
       "    </tr>\n",
       "    <tr>\n",
       "      <th>4</th>\n",
       "      <td>4</td>\n",
       "      <td>0</td>\n",
       "      <td>0</td>\n",
       "      <td>0.28</td>\n",
       "      <td>0.3030</td>\n",
       "      <td>1</td>\n",
       "      <td>0</td>\n",
       "      <td>0</td>\n",
       "    </tr>\n",
       "  </tbody>\n",
       "</table>\n",
       "</div>"
      ],
      "text/plain": [
       "   hr  workingday  weekday2  temp   atemp  weathersit_1  weathersit_2  \\\n",
       "0   0           0         0  0.36  0.3788             1             0   \n",
       "1   1           0         0  0.36  0.3485             1             0   \n",
       "2   2           0         0  0.32  0.3485             1             0   \n",
       "3   3           0         0  0.30  0.3333             1             0   \n",
       "4   4           0         0  0.28  0.3030             1             0   \n",
       "\n",
       "   weathersit_3  \n",
       "0             0  \n",
       "1             0  \n",
       "2             0  \n",
       "3             0  \n",
       "4             0  "
      ]
     },
     "execution_count": 95,
     "metadata": {},
     "output_type": "execute_result"
    }
   ],
   "source": [
    "#testデータの必要な変数だけをとりだす\n",
    "test_df_x = test_df_one_hot_encoded[['hr','workingday','weekday2','temp','atemp','weathersit_1','weathersit_2','weathersit_3']]\n",
    "test_df_x.head()"
   ]
  },
  {
   "cell_type": "code",
   "execution_count": 96,
   "id": "8729da51-68b6-4c6b-a00d-d576683edcf6",
   "metadata": {},
   "outputs": [
    {
     "data": {
      "text/plain": [
       "(8734, 8)"
      ]
     },
     "execution_count": 96,
     "metadata": {},
     "output_type": "execute_result"
    }
   ],
   "source": [
    "test_df_x.shape"
   ]
  },
  {
   "cell_type": "code",
   "execution_count": 97,
   "id": "64213f67-b127-4531-b182-eb3fda9b52ad",
   "metadata": {},
   "outputs": [],
   "source": [
    "# 未知データの第一予測値の作成\n",
    "pred_1 = model_1.predict(test_df_x)\n",
    "pred_2 = model_2.predict(test_df_x)\n",
    "pred_3 = model_3.predict(test_df_x)\n"
   ]
  },
  {
   "cell_type": "code",
   "execution_count": 98,
   "id": "7d399f87-502e-4a29-919e-c94cf4aba5e0",
   "metadata": {},
   "outputs": [
    {
     "data": {
      "text/plain": [
       "array([ 34.09714076,  44.48768322,  42.77253212, ..., 191.15220733,\n",
       "       199.34632481, 208.2709713 ])"
      ]
     },
     "execution_count": 98,
     "metadata": {},
     "output_type": "execute_result"
    }
   ],
   "source": [
    "pred_1"
   ]
  },
  {
   "cell_type": "code",
   "execution_count": 99,
   "id": "7ce9940d-f89b-41ed-b8d6-4bdd0f93b77e",
   "metadata": {},
   "outputs": [],
   "source": [
    "\n",
    "# 事前に予測しておいた値でスタッキングの精度を確認する\n",
    "stack_test_pred = np.column_stack((pred_1, pred_2, pred_3))\n",
    "meta_test_pred = meta_model.predict(stack_test_pred)\n"
   ]
  },
  {
   "cell_type": "code",
   "execution_count": 100,
   "id": "01aef151-4270-4db8-991a-ee7e0a55f79e",
   "metadata": {},
   "outputs": [
    {
     "data": {
      "text/plain": [
       "array([74.9579971 , 54.04241473, 41.73462372, ..., 98.5883789 ,\n",
       "       80.32123493, 55.57004104])"
      ]
     },
     "execution_count": 100,
     "metadata": {},
     "output_type": "execute_result"
    }
   ],
   "source": [
    "meta_test_pred"
   ]
  },
  {
   "cell_type": "markdown",
   "id": "471bda86-4202-4460-ad4f-43cb9db772cf",
   "metadata": {},
   "source": [
    "### 提出ファイルの作成"
   ]
  },
  {
   "cell_type": "code",
   "execution_count": 101,
   "id": "a5436c7a-b5da-44e9-8e5f-c87c8614c416",
   "metadata": {},
   "outputs": [
    {
     "data": {
      "text/plain": [
       "((8734,), (8734, 14))"
      ]
     },
     "execution_count": 101,
     "metadata": {},
     "output_type": "execute_result"
    }
   ],
   "source": [
    "meta_test_pred.shape,test_df.shape"
   ]
  },
  {
   "cell_type": "code",
   "execution_count": 102,
   "id": "30b803b1-e708-4964-b84d-9f40bde87b09",
   "metadata": {},
   "outputs": [
    {
     "data": {
      "text/html": [
       "<div>\n",
       "<style scoped>\n",
       "    .dataframe tbody tr th:only-of-type {\n",
       "        vertical-align: middle;\n",
       "    }\n",
       "\n",
       "    .dataframe tbody tr th {\n",
       "        vertical-align: top;\n",
       "    }\n",
       "\n",
       "    .dataframe thead th {\n",
       "        text-align: right;\n",
       "    }\n",
       "</style>\n",
       "<table border=\"1\" class=\"dataframe\">\n",
       "  <thead>\n",
       "    <tr style=\"text-align: right;\">\n",
       "      <th></th>\n",
       "      <th>id</th>\n",
       "      <th>dteday</th>\n",
       "      <th>season</th>\n",
       "      <th>yr</th>\n",
       "      <th>mnth</th>\n",
       "      <th>hr</th>\n",
       "      <th>holiday</th>\n",
       "      <th>weekday</th>\n",
       "      <th>workingday</th>\n",
       "      <th>weathersit</th>\n",
       "      <th>temp</th>\n",
       "      <th>atemp</th>\n",
       "      <th>hum</th>\n",
       "      <th>windspeed</th>\n",
       "      <th>cnt</th>\n",
       "    </tr>\n",
       "  </thead>\n",
       "  <tbody>\n",
       "    <tr>\n",
       "      <th>0</th>\n",
       "      <td>8646</td>\n",
       "      <td>2012-01-01</td>\n",
       "      <td>1</td>\n",
       "      <td>1</td>\n",
       "      <td>1</td>\n",
       "      <td>0</td>\n",
       "      <td>0</td>\n",
       "      <td>0</td>\n",
       "      <td>0</td>\n",
       "      <td>1</td>\n",
       "      <td>0.36</td>\n",
       "      <td>0.3788</td>\n",
       "      <td>0.66</td>\n",
       "      <td>0.0000</td>\n",
       "      <td>74.957997</td>\n",
       "    </tr>\n",
       "    <tr>\n",
       "      <th>1</th>\n",
       "      <td>8647</td>\n",
       "      <td>2012-01-01</td>\n",
       "      <td>1</td>\n",
       "      <td>1</td>\n",
       "      <td>1</td>\n",
       "      <td>1</td>\n",
       "      <td>0</td>\n",
       "      <td>0</td>\n",
       "      <td>0</td>\n",
       "      <td>1</td>\n",
       "      <td>0.36</td>\n",
       "      <td>0.3485</td>\n",
       "      <td>0.66</td>\n",
       "      <td>0.1343</td>\n",
       "      <td>54.042415</td>\n",
       "    </tr>\n",
       "    <tr>\n",
       "      <th>2</th>\n",
       "      <td>8648</td>\n",
       "      <td>2012-01-01</td>\n",
       "      <td>1</td>\n",
       "      <td>1</td>\n",
       "      <td>1</td>\n",
       "      <td>2</td>\n",
       "      <td>0</td>\n",
       "      <td>0</td>\n",
       "      <td>0</td>\n",
       "      <td>1</td>\n",
       "      <td>0.32</td>\n",
       "      <td>0.3485</td>\n",
       "      <td>0.76</td>\n",
       "      <td>0.0000</td>\n",
       "      <td>41.734624</td>\n",
       "    </tr>\n",
       "    <tr>\n",
       "      <th>3</th>\n",
       "      <td>8649</td>\n",
       "      <td>2012-01-01</td>\n",
       "      <td>1</td>\n",
       "      <td>1</td>\n",
       "      <td>1</td>\n",
       "      <td>3</td>\n",
       "      <td>0</td>\n",
       "      <td>0</td>\n",
       "      <td>0</td>\n",
       "      <td>1</td>\n",
       "      <td>0.30</td>\n",
       "      <td>0.3333</td>\n",
       "      <td>0.81</td>\n",
       "      <td>0.0000</td>\n",
       "      <td>22.737160</td>\n",
       "    </tr>\n",
       "    <tr>\n",
       "      <th>4</th>\n",
       "      <td>8650</td>\n",
       "      <td>2012-01-01</td>\n",
       "      <td>1</td>\n",
       "      <td>1</td>\n",
       "      <td>1</td>\n",
       "      <td>4</td>\n",
       "      <td>0</td>\n",
       "      <td>0</td>\n",
       "      <td>0</td>\n",
       "      <td>1</td>\n",
       "      <td>0.28</td>\n",
       "      <td>0.3030</td>\n",
       "      <td>0.81</td>\n",
       "      <td>0.0896</td>\n",
       "      <td>16.442751</td>\n",
       "    </tr>\n",
       "  </tbody>\n",
       "</table>\n",
       "</div>"
      ],
      "text/plain": [
       "     id      dteday  season  yr  mnth  hr  holiday  weekday  workingday  \\\n",
       "0  8646  2012-01-01       1   1     1   0        0        0           0   \n",
       "1  8647  2012-01-01       1   1     1   1        0        0           0   \n",
       "2  8648  2012-01-01       1   1     1   2        0        0           0   \n",
       "3  8649  2012-01-01       1   1     1   3        0        0           0   \n",
       "4  8650  2012-01-01       1   1     1   4        0        0           0   \n",
       "\n",
       "   weathersit  temp   atemp   hum  windspeed        cnt  \n",
       "0           1  0.36  0.3788  0.66     0.0000  74.957997  \n",
       "1           1  0.36  0.3485  0.66     0.1343  54.042415  \n",
       "2           1  0.32  0.3485  0.76     0.0000  41.734624  \n",
       "3           1  0.30  0.3333  0.81     0.0000  22.737160  \n",
       "4           1  0.28  0.3030  0.81     0.0896  16.442751  "
      ]
     },
     "execution_count": 102,
     "metadata": {},
     "output_type": "execute_result"
    }
   ],
   "source": [
    "sub = test_df.copy()\n",
    "sub['cnt'] = meta_test_pred\n",
    "sub.head(5)"
   ]
  },
  {
   "cell_type": "code",
   "execution_count": 103,
   "id": "c7bfa4c6-e769-47cf-93a7-9689ccd9869d",
   "metadata": {},
   "outputs": [],
   "source": [
    "# 提出ファイル\n",
    "sub[['id','cnt']].to_csv('sample_submit_09.csv', index=False, header = False)"
   ]
  },
  {
   "cell_type": "code",
   "execution_count": 104,
   "id": "7d671984-79d9-4d50-934a-e288c1f2b26e",
   "metadata": {},
   "outputs": [
    {
     "data": {
      "text/html": [
       "<div>\n",
       "<style scoped>\n",
       "    .dataframe tbody tr th:only-of-type {\n",
       "        vertical-align: middle;\n",
       "    }\n",
       "\n",
       "    .dataframe tbody tr th {\n",
       "        vertical-align: top;\n",
       "    }\n",
       "\n",
       "    .dataframe thead th {\n",
       "        text-align: right;\n",
       "    }\n",
       "</style>\n",
       "<table border=\"1\" class=\"dataframe\">\n",
       "  <thead>\n",
       "    <tr style=\"text-align: right;\">\n",
       "      <th></th>\n",
       "      <th>8646</th>\n",
       "      <th>74.95799709831172</th>\n",
       "    </tr>\n",
       "  </thead>\n",
       "  <tbody>\n",
       "    <tr>\n",
       "      <th>0</th>\n",
       "      <td>8647</td>\n",
       "      <td>54.042415</td>\n",
       "    </tr>\n",
       "    <tr>\n",
       "      <th>1</th>\n",
       "      <td>8648</td>\n",
       "      <td>41.734624</td>\n",
       "    </tr>\n",
       "    <tr>\n",
       "      <th>2</th>\n",
       "      <td>8649</td>\n",
       "      <td>22.737160</td>\n",
       "    </tr>\n",
       "    <tr>\n",
       "      <th>3</th>\n",
       "      <td>8650</td>\n",
       "      <td>16.442751</td>\n",
       "    </tr>\n",
       "    <tr>\n",
       "      <th>4</th>\n",
       "      <td>8651</td>\n",
       "      <td>17.205421</td>\n",
       "    </tr>\n",
       "  </tbody>\n",
       "</table>\n",
       "</div>"
      ],
      "text/plain": [
       "   8646  74.95799709831172\n",
       "0  8647          54.042415\n",
       "1  8648          41.734624\n",
       "2  8649          22.737160\n",
       "3  8650          16.442751\n",
       "4  8651          17.205421"
      ]
     },
     "execution_count": 104,
     "metadata": {},
     "output_type": "execute_result"
    }
   ],
   "source": [
    "sample_submit_09 = pd.read_csv('sample_submit_09.csv')\n",
    "sample_submit_09.head()"
   ]
  },
  {
   "cell_type": "markdown",
   "id": "6205d448-50a6-4fc2-bd59-372b0c476e97",
   "metadata": {},
   "source": [
    "### 評価  \n",
    "RMSE  118.8784134(125/1246位)  \n",
    "精度は高いとは言えない、  \n",
    "単純なXGboostの方が強かった。"
   ]
  },
  {
   "cell_type": "code",
   "execution_count": null,
   "id": "c6672c53-1779-4cdd-9d56-e5d1ef5718ce",
   "metadata": {},
   "outputs": [],
   "source": []
  },
  {
   "cell_type": "code",
   "execution_count": null,
   "id": "212d872c-2527-4b1d-86e2-1f57afa123b6",
   "metadata": {},
   "outputs": [],
   "source": []
  },
  {
   "cell_type": "code",
   "execution_count": null,
   "id": "9654b0fb-94f7-417d-9a3b-f17c47068799",
   "metadata": {},
   "outputs": [],
   "source": []
  }
 ],
 "metadata": {
  "kernelspec": {
   "display_name": "Python 3 (ipykernel)",
   "language": "python",
   "name": "python3"
  },
  "language_info": {
   "codemirror_mode": {
    "name": "ipython",
    "version": 3
   },
   "file_extension": ".py",
   "mimetype": "text/x-python",
   "name": "python",
   "nbconvert_exporter": "python",
   "pygments_lexer": "ipython3",
   "version": "3.8.15"
  }
 },
 "nbformat": 4,
 "nbformat_minor": 5
}
