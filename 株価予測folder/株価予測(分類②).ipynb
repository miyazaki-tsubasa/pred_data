{
 "cells": [
  {
   "cell_type": "markdown",
   "id": "cd05a725-f01c-47dd-832b-fa1e0464adc6",
   "metadata": {},
   "source": [
    "# 株価予測(分類予測)"
   ]
  },
  {
   "cell_type": "markdown",
   "id": "5a5c6814-901a-4a5c-945d-623462413d8b",
   "metadata": {},
   "source": [
    "## 目的  \n",
    "### 30日前までの情報を元に、7日後の始まり値が上がるか下がるかの予測モデルを作成する"
   ]
  },
  {
   "cell_type": "markdown",
   "id": "da1df901-6945-4477-998e-c15c86ebdae8",
   "metadata": {},
   "source": [
    "### 週番号のリストを作成"
   ]
  },
  {
   "cell_type": "code",
   "execution_count": 1,
   "id": "ab2100b8-27b6-447f-a2cd-999e84e5aed3",
   "metadata": {},
   "outputs": [],
   "source": [
    "import pandas as pd"
   ]
  },
  {
   "cell_type": "code",
   "execution_count": 2,
   "id": "54d32da0-fe8b-43b7-a130-dd7ae26a3c48",
   "metadata": {},
   "outputs": [
    {
     "data": {
      "text/html": [
       "<div>\n",
       "<style scoped>\n",
       "    .dataframe tbody tr th:only-of-type {\n",
       "        vertical-align: middle;\n",
       "    }\n",
       "\n",
       "    .dataframe tbody tr th {\n",
       "        vertical-align: top;\n",
       "    }\n",
       "\n",
       "    .dataframe thead th {\n",
       "        text-align: right;\n",
       "    }\n",
       "</style>\n",
       "<table border=\"1\" class=\"dataframe\">\n",
       "  <thead>\n",
       "    <tr style=\"text-align: right;\">\n",
       "      <th></th>\n",
       "      <th>Date</th>\n",
       "      <th>High</th>\n",
       "      <th>Low</th>\n",
       "      <th>Open</th>\n",
       "      <th>Close</th>\n",
       "    </tr>\n",
       "  </thead>\n",
       "  <tbody>\n",
       "    <tr>\n",
       "      <th>13962</th>\n",
       "      <td>2021-10-15</td>\n",
       "      <td>2.690117e+06</td>\n",
       "      <td>2.657175e+06</td>\n",
       "      <td>2.662822e+06</td>\n",
       "      <td>2.688848e+06</td>\n",
       "    </tr>\n",
       "    <tr>\n",
       "      <th>13963</th>\n",
       "      <td>2021-10-18</td>\n",
       "      <td>2.695851e+06</td>\n",
       "      <td>2.675507e+06</td>\n",
       "      <td>2.691178e+06</td>\n",
       "      <td>2.684855e+06</td>\n",
       "    </tr>\n",
       "    <tr>\n",
       "      <th>13964</th>\n",
       "      <td>2021-10-19</td>\n",
       "      <td>2.707705e+06</td>\n",
       "      <td>2.689472e+06</td>\n",
       "      <td>2.693348e+06</td>\n",
       "      <td>2.702436e+06</td>\n",
       "    </tr>\n",
       "    <tr>\n",
       "      <th>13965</th>\n",
       "      <td>2021-10-20</td>\n",
       "      <td>2.727743e+06</td>\n",
       "      <td>2.703065e+06</td>\n",
       "      <td>2.718200e+06</td>\n",
       "      <td>2.706138e+06</td>\n",
       "    </tr>\n",
       "    <tr>\n",
       "      <th>13966</th>\n",
       "      <td>2021-10-21</td>\n",
       "      <td>2.702926e+06</td>\n",
       "      <td>2.658233e+06</td>\n",
       "      <td>2.696628e+06</td>\n",
       "      <td>2.663157e+06</td>\n",
       "    </tr>\n",
       "  </tbody>\n",
       "</table>\n",
       "</div>"
      ],
      "text/plain": [
       "             Date          High           Low          Open         Close\n",
       "13962  2021-10-15  2.690117e+06  2.657175e+06  2.662822e+06  2.688848e+06\n",
       "13963  2021-10-18  2.695851e+06  2.675507e+06  2.691178e+06  2.684855e+06\n",
       "13964  2021-10-19  2.707705e+06  2.689472e+06  2.693348e+06  2.702436e+06\n",
       "13965  2021-10-20  2.727743e+06  2.703065e+06  2.718200e+06  2.706138e+06\n",
       "13966  2021-10-21  2.702926e+06  2.658233e+06  2.696628e+06  2.663157e+06"
      ]
     },
     "execution_count": 2,
     "metadata": {},
     "output_type": "execute_result"
    }
   ],
   "source": [
    "#日経平均株価データ(1965-01-05 ~ 2021-10-21)\n",
    "df = pd.read_csv('finance_dataset.csv')\n",
    "df.tail()"
   ]
  },
  {
   "cell_type": "markdown",
   "id": "ce051f69-534a-4263-aac4-c7bb784e6141",
   "metadata": {},
   "source": [
    "### 週番号  \n",
    "### 曜日  \n",
    "### 目的変数の追加"
   ]
  },
  {
   "cell_type": "code",
   "execution_count": 3,
   "id": "f8b49d1e-e379-4234-8d61-f209c2c7a9a8",
   "metadata": {},
   "outputs": [
    {
     "name": "stdout",
     "output_type": "stream",
     "text": [
      "<class 'pandas.core.frame.DataFrame'>\n",
      "RangeIndex: 13967 entries, 0 to 13966\n",
      "Data columns (total 5 columns):\n",
      " #   Column  Non-Null Count  Dtype  \n",
      "---  ------  --------------  -----  \n",
      " 0   Date    13967 non-null  object \n",
      " 1   High    13967 non-null  float64\n",
      " 2   Low     13967 non-null  float64\n",
      " 3   Open    13967 non-null  float64\n",
      " 4   Close   13967 non-null  float64\n",
      "dtypes: float64(4), object(1)\n",
      "memory usage: 545.7+ KB\n"
     ]
    }
   ],
   "source": [
    "df.info()"
   ]
  },
  {
   "cell_type": "code",
   "execution_count": 4,
   "id": "438fe917-c5f1-4f10-8689-2fac802dd75e",
   "metadata": {},
   "outputs": [
    {
     "name": "stdout",
     "output_type": "stream",
     "text": [
      "<class 'pandas.core.frame.DataFrame'>\n",
      "RangeIndex: 13967 entries, 0 to 13966\n",
      "Data columns (total 5 columns):\n",
      " #   Column  Non-Null Count  Dtype         \n",
      "---  ------  --------------  -----         \n",
      " 0   Date    13967 non-null  datetime64[ns]\n",
      " 1   High    13967 non-null  float64       \n",
      " 2   Low     13967 non-null  float64       \n",
      " 3   Open    13967 non-null  float64       \n",
      " 4   Close   13967 non-null  float64       \n",
      "dtypes: datetime64[ns](1), float64(4)\n",
      "memory usage: 545.7 KB\n"
     ]
    }
   ],
   "source": [
    "df['Date']=pd.to_datetime(df['Date'])\n",
    "df.info()"
   ]
  },
  {
   "cell_type": "code",
   "execution_count": 5,
   "id": "adc241f0-a027-494a-b15a-308e125fb7e9",
   "metadata": {},
   "outputs": [
    {
     "data": {
      "text/html": [
       "<div>\n",
       "<style scoped>\n",
       "    .dataframe tbody tr th:only-of-type {\n",
       "        vertical-align: middle;\n",
       "    }\n",
       "\n",
       "    .dataframe tbody tr th {\n",
       "        vertical-align: top;\n",
       "    }\n",
       "\n",
       "    .dataframe thead th {\n",
       "        text-align: right;\n",
       "    }\n",
       "</style>\n",
       "<table border=\"1\" class=\"dataframe\">\n",
       "  <thead>\n",
       "    <tr style=\"text-align: right;\">\n",
       "      <th></th>\n",
       "      <th>Date</th>\n",
       "      <th>High</th>\n",
       "      <th>Low</th>\n",
       "      <th>Open</th>\n",
       "      <th>Close</th>\n",
       "    </tr>\n",
       "  </thead>\n",
       "  <tbody>\n",
       "    <tr>\n",
       "      <th>0</th>\n",
       "      <td>1965-01-05</td>\n",
       "      <td>116339.097290</td>\n",
       "      <td>116339.097290</td>\n",
       "      <td>116339.097290</td>\n",
       "      <td>116339.097290</td>\n",
       "    </tr>\n",
       "    <tr>\n",
       "      <th>1</th>\n",
       "      <td>1965-01-06</td>\n",
       "      <td>116919.074097</td>\n",
       "      <td>116919.074097</td>\n",
       "      <td>116919.074097</td>\n",
       "      <td>116919.074097</td>\n",
       "    </tr>\n",
       "    <tr>\n",
       "      <th>2</th>\n",
       "      <td>1965-01-07</td>\n",
       "      <td>117869.976807</td>\n",
       "      <td>117869.976807</td>\n",
       "      <td>117869.976807</td>\n",
       "      <td>117869.976807</td>\n",
       "    </tr>\n",
       "    <tr>\n",
       "      <th>3</th>\n",
       "      <td>1965-01-08</td>\n",
       "      <td>118994.779968</td>\n",
       "      <td>118994.779968</td>\n",
       "      <td>118994.779968</td>\n",
       "      <td>118994.779968</td>\n",
       "    </tr>\n",
       "    <tr>\n",
       "      <th>4</th>\n",
       "      <td>1965-01-12</td>\n",
       "      <td>119189.953613</td>\n",
       "      <td>119189.953613</td>\n",
       "      <td>119189.953613</td>\n",
       "      <td>119189.953613</td>\n",
       "    </tr>\n",
       "  </tbody>\n",
       "</table>\n",
       "</div>"
      ],
      "text/plain": [
       "        Date           High            Low           Open          Close\n",
       "0 1965-01-05  116339.097290  116339.097290  116339.097290  116339.097290\n",
       "1 1965-01-06  116919.074097  116919.074097  116919.074097  116919.074097\n",
       "2 1965-01-07  117869.976807  117869.976807  117869.976807  117869.976807\n",
       "3 1965-01-08  118994.779968  118994.779968  118994.779968  118994.779968\n",
       "4 1965-01-12  119189.953613  119189.953613  119189.953613  119189.953613"
      ]
     },
     "execution_count": 5,
     "metadata": {},
     "output_type": "execute_result"
    }
   ],
   "source": [
    "from datetime import datetime\n",
    "from datetime import timedelta\n",
    "start = datetime(1965,1,4)\n",
    "df.head()"
   ]
  },
  {
   "cell_type": "code",
   "execution_count": 6,
   "id": "a40e4427-c4d5-489e-a4d4-a49e7df9f229",
   "metadata": {},
   "outputs": [
    {
     "data": {
      "text/html": [
       "<div>\n",
       "<style scoped>\n",
       "    .dataframe tbody tr th:only-of-type {\n",
       "        vertical-align: middle;\n",
       "    }\n",
       "\n",
       "    .dataframe tbody tr th {\n",
       "        vertical-align: top;\n",
       "    }\n",
       "\n",
       "    .dataframe thead th {\n",
       "        text-align: right;\n",
       "    }\n",
       "</style>\n",
       "<table border=\"1\" class=\"dataframe\">\n",
       "  <thead>\n",
       "    <tr style=\"text-align: right;\">\n",
       "      <th></th>\n",
       "      <th>High</th>\n",
       "      <th>Low</th>\n",
       "      <th>Open</th>\n",
       "      <th>Close</th>\n",
       "    </tr>\n",
       "    <tr>\n",
       "      <th>Date</th>\n",
       "      <th></th>\n",
       "      <th></th>\n",
       "      <th></th>\n",
       "      <th></th>\n",
       "    </tr>\n",
       "  </thead>\n",
       "  <tbody>\n",
       "    <tr>\n",
       "      <th>2021-10-15</th>\n",
       "      <td>2.690117e+06</td>\n",
       "      <td>2.657175e+06</td>\n",
       "      <td>2.662822e+06</td>\n",
       "      <td>2.688848e+06</td>\n",
       "    </tr>\n",
       "    <tr>\n",
       "      <th>2021-10-18</th>\n",
       "      <td>2.695851e+06</td>\n",
       "      <td>2.675507e+06</td>\n",
       "      <td>2.691178e+06</td>\n",
       "      <td>2.684855e+06</td>\n",
       "    </tr>\n",
       "    <tr>\n",
       "      <th>2021-10-19</th>\n",
       "      <td>2.707705e+06</td>\n",
       "      <td>2.689472e+06</td>\n",
       "      <td>2.693348e+06</td>\n",
       "      <td>2.702436e+06</td>\n",
       "    </tr>\n",
       "    <tr>\n",
       "      <th>2021-10-20</th>\n",
       "      <td>2.727743e+06</td>\n",
       "      <td>2.703065e+06</td>\n",
       "      <td>2.718200e+06</td>\n",
       "      <td>2.706138e+06</td>\n",
       "    </tr>\n",
       "    <tr>\n",
       "      <th>2021-10-21</th>\n",
       "      <td>2.702926e+06</td>\n",
       "      <td>2.658233e+06</td>\n",
       "      <td>2.696628e+06</td>\n",
       "      <td>2.663157e+06</td>\n",
       "    </tr>\n",
       "  </tbody>\n",
       "</table>\n",
       "</div>"
      ],
      "text/plain": [
       "                    High           Low          Open         Close\n",
       "Date                                                              \n",
       "2021-10-15  2.690117e+06  2.657175e+06  2.662822e+06  2.688848e+06\n",
       "2021-10-18  2.695851e+06  2.675507e+06  2.691178e+06  2.684855e+06\n",
       "2021-10-19  2.707705e+06  2.689472e+06  2.693348e+06  2.702436e+06\n",
       "2021-10-20  2.727743e+06  2.703065e+06  2.718200e+06  2.706138e+06\n",
       "2021-10-21  2.702926e+06  2.658233e+06  2.696628e+06  2.663157e+06"
      ]
     },
     "execution_count": 6,
     "metadata": {},
     "output_type": "execute_result"
    }
   ],
   "source": [
    "df.set_index(keys='Date',inplace=True)\n",
    "df.tail()"
   ]
  },
  {
   "cell_type": "code",
   "execution_count": 7,
   "id": "39c70074-2b1c-4ad4-a2f5-09a289dc9f49",
   "metadata": {},
   "outputs": [
    {
     "data": {
      "text/html": [
       "<div>\n",
       "<style scoped>\n",
       "    .dataframe tbody tr th:only-of-type {\n",
       "        vertical-align: middle;\n",
       "    }\n",
       "\n",
       "    .dataframe tbody tr th {\n",
       "        vertical-align: top;\n",
       "    }\n",
       "\n",
       "    .dataframe thead th {\n",
       "        text-align: right;\n",
       "    }\n",
       "</style>\n",
       "<table border=\"1\" class=\"dataframe\">\n",
       "  <thead>\n",
       "    <tr style=\"text-align: right;\">\n",
       "      <th></th>\n",
       "      <th>High</th>\n",
       "      <th>Low</th>\n",
       "      <th>Open</th>\n",
       "      <th>Close</th>\n",
       "    </tr>\n",
       "    <tr>\n",
       "      <th>Date</th>\n",
       "      <th></th>\n",
       "      <th></th>\n",
       "      <th></th>\n",
       "      <th></th>\n",
       "    </tr>\n",
       "  </thead>\n",
       "  <tbody>\n",
       "    <tr>\n",
       "      <th>2021-10-08</th>\n",
       "      <td>2.707705e+06</td>\n",
       "      <td>2.689472e+06</td>\n",
       "      <td>2.693348e+06</td>\n",
       "      <td>2.702436e+06</td>\n",
       "    </tr>\n",
       "    <tr>\n",
       "      <th>2021-10-11</th>\n",
       "      <td>2.727743e+06</td>\n",
       "      <td>2.703065e+06</td>\n",
       "      <td>2.718200e+06</td>\n",
       "      <td>2.706138e+06</td>\n",
       "    </tr>\n",
       "    <tr>\n",
       "      <th>2021-10-12</th>\n",
       "      <td>2.702926e+06</td>\n",
       "      <td>2.658233e+06</td>\n",
       "      <td>2.696628e+06</td>\n",
       "      <td>2.663157e+06</td>\n",
       "    </tr>\n",
       "    <tr>\n",
       "      <th>2021-10-13</th>\n",
       "      <td>NaN</td>\n",
       "      <td>NaN</td>\n",
       "      <td>NaN</td>\n",
       "      <td>NaN</td>\n",
       "    </tr>\n",
       "    <tr>\n",
       "      <th>2021-10-14</th>\n",
       "      <td>NaN</td>\n",
       "      <td>NaN</td>\n",
       "      <td>NaN</td>\n",
       "      <td>NaN</td>\n",
       "    </tr>\n",
       "    <tr>\n",
       "      <th>2021-10-15</th>\n",
       "      <td>NaN</td>\n",
       "      <td>NaN</td>\n",
       "      <td>NaN</td>\n",
       "      <td>NaN</td>\n",
       "    </tr>\n",
       "    <tr>\n",
       "      <th>2021-10-18</th>\n",
       "      <td>NaN</td>\n",
       "      <td>NaN</td>\n",
       "      <td>NaN</td>\n",
       "      <td>NaN</td>\n",
       "    </tr>\n",
       "    <tr>\n",
       "      <th>2021-10-19</th>\n",
       "      <td>NaN</td>\n",
       "      <td>NaN</td>\n",
       "      <td>NaN</td>\n",
       "      <td>NaN</td>\n",
       "    </tr>\n",
       "    <tr>\n",
       "      <th>2021-10-20</th>\n",
       "      <td>NaN</td>\n",
       "      <td>NaN</td>\n",
       "      <td>NaN</td>\n",
       "      <td>NaN</td>\n",
       "    </tr>\n",
       "    <tr>\n",
       "      <th>2021-10-21</th>\n",
       "      <td>NaN</td>\n",
       "      <td>NaN</td>\n",
       "      <td>NaN</td>\n",
       "      <td>NaN</td>\n",
       "    </tr>\n",
       "  </tbody>\n",
       "</table>\n",
       "</div>"
      ],
      "text/plain": [
       "                    High           Low          Open         Close\n",
       "Date                                                              \n",
       "2021-10-08  2.707705e+06  2.689472e+06  2.693348e+06  2.702436e+06\n",
       "2021-10-11  2.727743e+06  2.703065e+06  2.718200e+06  2.706138e+06\n",
       "2021-10-12  2.702926e+06  2.658233e+06  2.696628e+06  2.663157e+06\n",
       "2021-10-13           NaN           NaN           NaN           NaN\n",
       "2021-10-14           NaN           NaN           NaN           NaN\n",
       "2021-10-15           NaN           NaN           NaN           NaN\n",
       "2021-10-18           NaN           NaN           NaN           NaN\n",
       "2021-10-19           NaN           NaN           NaN           NaN\n",
       "2021-10-20           NaN           NaN           NaN           NaN\n",
       "2021-10-21           NaN           NaN           NaN           NaN"
      ]
     },
     "execution_count": 7,
     "metadata": {},
     "output_type": "execute_result"
    }
   ],
   "source": [
    "df_shift_7days=df.shift(-7)\n",
    "df_shift_7days.tail(10)"
   ]
  },
  {
   "cell_type": "code",
   "execution_count": 8,
   "id": "92b501d9-b2cf-4aac-95f7-22c64ed0cd19",
   "metadata": {},
   "outputs": [
    {
     "data": {
      "text/html": [
       "<div>\n",
       "<style scoped>\n",
       "    .dataframe tbody tr th:only-of-type {\n",
       "        vertical-align: middle;\n",
       "    }\n",
       "\n",
       "    .dataframe tbody tr th {\n",
       "        vertical-align: top;\n",
       "    }\n",
       "\n",
       "    .dataframe thead th {\n",
       "        text-align: right;\n",
       "    }\n",
       "</style>\n",
       "<table border=\"1\" class=\"dataframe\">\n",
       "  <thead>\n",
       "    <tr style=\"text-align: right;\">\n",
       "      <th></th>\n",
       "      <th>High</th>\n",
       "      <th>Low</th>\n",
       "      <th>Open</th>\n",
       "      <th>Close</th>\n",
       "      <th>delta_Close</th>\n",
       "    </tr>\n",
       "    <tr>\n",
       "      <th>Date</th>\n",
       "      <th></th>\n",
       "      <th></th>\n",
       "      <th></th>\n",
       "      <th></th>\n",
       "      <th></th>\n",
       "    </tr>\n",
       "  </thead>\n",
       "  <tbody>\n",
       "    <tr>\n",
       "      <th>2021-10-08</th>\n",
       "      <td>2.619725e+06</td>\n",
       "      <td>2.591747e+06</td>\n",
       "      <td>2.592902e+06</td>\n",
       "      <td>2.594527e+06</td>\n",
       "      <td>107908.657227</td>\n",
       "    </tr>\n",
       "    <tr>\n",
       "      <th>2021-10-11</th>\n",
       "      <td>2.643776e+06</td>\n",
       "      <td>2.580132e+06</td>\n",
       "      <td>2.587925e+06</td>\n",
       "      <td>2.636083e+06</td>\n",
       "      <td>70055.019531</td>\n",
       "    </tr>\n",
       "    <tr>\n",
       "      <th>2021-10-12</th>\n",
       "      <td>2.633371e+06</td>\n",
       "      <td>2.605390e+06</td>\n",
       "      <td>2.632446e+06</td>\n",
       "      <td>2.611331e+06</td>\n",
       "      <td>51826.015625</td>\n",
       "    </tr>\n",
       "    <tr>\n",
       "      <th>2021-10-13</th>\n",
       "      <td>2.623762e+06</td>\n",
       "      <td>2.589395e+06</td>\n",
       "      <td>2.597903e+06</td>\n",
       "      <td>2.602976e+06</td>\n",
       "      <td>NaN</td>\n",
       "    </tr>\n",
       "    <tr>\n",
       "      <th>2021-10-14</th>\n",
       "      <td>2.643343e+06</td>\n",
       "      <td>2.611646e+06</td>\n",
       "      <td>2.614458e+06</td>\n",
       "      <td>2.640961e+06</td>\n",
       "      <td>NaN</td>\n",
       "    </tr>\n",
       "    <tr>\n",
       "      <th>2021-10-15</th>\n",
       "      <td>2.690117e+06</td>\n",
       "      <td>2.657175e+06</td>\n",
       "      <td>2.662822e+06</td>\n",
       "      <td>2.688848e+06</td>\n",
       "      <td>NaN</td>\n",
       "    </tr>\n",
       "    <tr>\n",
       "      <th>2021-10-18</th>\n",
       "      <td>2.695851e+06</td>\n",
       "      <td>2.675507e+06</td>\n",
       "      <td>2.691178e+06</td>\n",
       "      <td>2.684855e+06</td>\n",
       "      <td>NaN</td>\n",
       "    </tr>\n",
       "    <tr>\n",
       "      <th>2021-10-19</th>\n",
       "      <td>2.707705e+06</td>\n",
       "      <td>2.689472e+06</td>\n",
       "      <td>2.693348e+06</td>\n",
       "      <td>2.702436e+06</td>\n",
       "      <td>NaN</td>\n",
       "    </tr>\n",
       "    <tr>\n",
       "      <th>2021-10-20</th>\n",
       "      <td>2.727743e+06</td>\n",
       "      <td>2.703065e+06</td>\n",
       "      <td>2.718200e+06</td>\n",
       "      <td>2.706138e+06</td>\n",
       "      <td>NaN</td>\n",
       "    </tr>\n",
       "    <tr>\n",
       "      <th>2021-10-21</th>\n",
       "      <td>2.702926e+06</td>\n",
       "      <td>2.658233e+06</td>\n",
       "      <td>2.696628e+06</td>\n",
       "      <td>2.663157e+06</td>\n",
       "      <td>NaN</td>\n",
       "    </tr>\n",
       "  </tbody>\n",
       "</table>\n",
       "</div>"
      ],
      "text/plain": [
       "                    High           Low          Open         Close  \\\n",
       "Date                                                                 \n",
       "2021-10-08  2.619725e+06  2.591747e+06  2.592902e+06  2.594527e+06   \n",
       "2021-10-11  2.643776e+06  2.580132e+06  2.587925e+06  2.636083e+06   \n",
       "2021-10-12  2.633371e+06  2.605390e+06  2.632446e+06  2.611331e+06   \n",
       "2021-10-13  2.623762e+06  2.589395e+06  2.597903e+06  2.602976e+06   \n",
       "2021-10-14  2.643343e+06  2.611646e+06  2.614458e+06  2.640961e+06   \n",
       "2021-10-15  2.690117e+06  2.657175e+06  2.662822e+06  2.688848e+06   \n",
       "2021-10-18  2.695851e+06  2.675507e+06  2.691178e+06  2.684855e+06   \n",
       "2021-10-19  2.707705e+06  2.689472e+06  2.693348e+06  2.702436e+06   \n",
       "2021-10-20  2.727743e+06  2.703065e+06  2.718200e+06  2.706138e+06   \n",
       "2021-10-21  2.702926e+06  2.658233e+06  2.696628e+06  2.663157e+06   \n",
       "\n",
       "              delta_Close  \n",
       "Date                       \n",
       "2021-10-08  107908.657227  \n",
       "2021-10-11   70055.019531  \n",
       "2021-10-12   51826.015625  \n",
       "2021-10-13            NaN  \n",
       "2021-10-14            NaN  \n",
       "2021-10-15            NaN  \n",
       "2021-10-18            NaN  \n",
       "2021-10-19            NaN  \n",
       "2021-10-20            NaN  \n",
       "2021-10-21            NaN  "
      ]
     },
     "execution_count": 8,
     "metadata": {},
     "output_type": "execute_result"
    }
   ],
   "source": [
    "#現在のデータから30日後のデータが上がっているか、下がっているかのカラムを追加\n",
    "df['delta_Close']=df_shift_7days['Close']-df['Close']\n",
    "df.tail(10)"
   ]
  },
  {
   "cell_type": "code",
   "execution_count": 9,
   "id": "1fdd94fc-1c7c-4a50-828d-fd8208317ff4",
   "metadata": {},
   "outputs": [
    {
     "name": "stderr",
     "output_type": "stream",
     "text": [
      "C:\\Users\\Tsubasa\\AppData\\Local\\Temp\\ipykernel_124340\\100578999.py:2: SettingWithCopyWarning: \n",
      "A value is trying to be set on a copy of a slice from a DataFrame\n",
      "\n",
      "See the caveats in the documentation: https://pandas.pydata.org/pandas-docs/stable/user_guide/indexing.html#returning-a-view-versus-a-copy\n",
      "  df['Up'][df['delta_Close']>0]=1\n"
     ]
    },
    {
     "data": {
      "text/html": [
       "<div>\n",
       "<style scoped>\n",
       "    .dataframe tbody tr th:only-of-type {\n",
       "        vertical-align: middle;\n",
       "    }\n",
       "\n",
       "    .dataframe tbody tr th {\n",
       "        vertical-align: top;\n",
       "    }\n",
       "\n",
       "    .dataframe thead th {\n",
       "        text-align: right;\n",
       "    }\n",
       "</style>\n",
       "<table border=\"1\" class=\"dataframe\">\n",
       "  <thead>\n",
       "    <tr style=\"text-align: right;\">\n",
       "      <th></th>\n",
       "      <th>High</th>\n",
       "      <th>Low</th>\n",
       "      <th>Open</th>\n",
       "      <th>Close</th>\n",
       "      <th>Up</th>\n",
       "    </tr>\n",
       "    <tr>\n",
       "      <th>Date</th>\n",
       "      <th></th>\n",
       "      <th></th>\n",
       "      <th></th>\n",
       "      <th></th>\n",
       "      <th></th>\n",
       "    </tr>\n",
       "  </thead>\n",
       "  <tbody>\n",
       "    <tr>\n",
       "      <th>2021-10-08</th>\n",
       "      <td>2.619725e+06</td>\n",
       "      <td>2.591747e+06</td>\n",
       "      <td>2.592902e+06</td>\n",
       "      <td>2.594527e+06</td>\n",
       "      <td>1</td>\n",
       "    </tr>\n",
       "    <tr>\n",
       "      <th>2021-10-11</th>\n",
       "      <td>2.643776e+06</td>\n",
       "      <td>2.580132e+06</td>\n",
       "      <td>2.587925e+06</td>\n",
       "      <td>2.636083e+06</td>\n",
       "      <td>1</td>\n",
       "    </tr>\n",
       "    <tr>\n",
       "      <th>2021-10-12</th>\n",
       "      <td>2.633371e+06</td>\n",
       "      <td>2.605390e+06</td>\n",
       "      <td>2.632446e+06</td>\n",
       "      <td>2.611331e+06</td>\n",
       "      <td>1</td>\n",
       "    </tr>\n",
       "    <tr>\n",
       "      <th>2021-10-13</th>\n",
       "      <td>2.623762e+06</td>\n",
       "      <td>2.589395e+06</td>\n",
       "      <td>2.597903e+06</td>\n",
       "      <td>2.602976e+06</td>\n",
       "      <td>0</td>\n",
       "    </tr>\n",
       "    <tr>\n",
       "      <th>2021-10-14</th>\n",
       "      <td>2.643343e+06</td>\n",
       "      <td>2.611646e+06</td>\n",
       "      <td>2.614458e+06</td>\n",
       "      <td>2.640961e+06</td>\n",
       "      <td>0</td>\n",
       "    </tr>\n",
       "    <tr>\n",
       "      <th>2021-10-15</th>\n",
       "      <td>2.690117e+06</td>\n",
       "      <td>2.657175e+06</td>\n",
       "      <td>2.662822e+06</td>\n",
       "      <td>2.688848e+06</td>\n",
       "      <td>0</td>\n",
       "    </tr>\n",
       "    <tr>\n",
       "      <th>2021-10-18</th>\n",
       "      <td>2.695851e+06</td>\n",
       "      <td>2.675507e+06</td>\n",
       "      <td>2.691178e+06</td>\n",
       "      <td>2.684855e+06</td>\n",
       "      <td>0</td>\n",
       "    </tr>\n",
       "    <tr>\n",
       "      <th>2021-10-19</th>\n",
       "      <td>2.707705e+06</td>\n",
       "      <td>2.689472e+06</td>\n",
       "      <td>2.693348e+06</td>\n",
       "      <td>2.702436e+06</td>\n",
       "      <td>0</td>\n",
       "    </tr>\n",
       "    <tr>\n",
       "      <th>2021-10-20</th>\n",
       "      <td>2.727743e+06</td>\n",
       "      <td>2.703065e+06</td>\n",
       "      <td>2.718200e+06</td>\n",
       "      <td>2.706138e+06</td>\n",
       "      <td>0</td>\n",
       "    </tr>\n",
       "    <tr>\n",
       "      <th>2021-10-21</th>\n",
       "      <td>2.702926e+06</td>\n",
       "      <td>2.658233e+06</td>\n",
       "      <td>2.696628e+06</td>\n",
       "      <td>2.663157e+06</td>\n",
       "      <td>0</td>\n",
       "    </tr>\n",
       "  </tbody>\n",
       "</table>\n",
       "</div>"
      ],
      "text/plain": [
       "                    High           Low          Open         Close  Up\n",
       "Date                                                                  \n",
       "2021-10-08  2.619725e+06  2.591747e+06  2.592902e+06  2.594527e+06   1\n",
       "2021-10-11  2.643776e+06  2.580132e+06  2.587925e+06  2.636083e+06   1\n",
       "2021-10-12  2.633371e+06  2.605390e+06  2.632446e+06  2.611331e+06   1\n",
       "2021-10-13  2.623762e+06  2.589395e+06  2.597903e+06  2.602976e+06   0\n",
       "2021-10-14  2.643343e+06  2.611646e+06  2.614458e+06  2.640961e+06   0\n",
       "2021-10-15  2.690117e+06  2.657175e+06  2.662822e+06  2.688848e+06   0\n",
       "2021-10-18  2.695851e+06  2.675507e+06  2.691178e+06  2.684855e+06   0\n",
       "2021-10-19  2.707705e+06  2.689472e+06  2.693348e+06  2.702436e+06   0\n",
       "2021-10-20  2.727743e+06  2.703065e+06  2.718200e+06  2.706138e+06   0\n",
       "2021-10-21  2.702926e+06  2.658233e+06  2.696628e+06  2.663157e+06   0"
      ]
     },
     "execution_count": 9,
     "metadata": {},
     "output_type": "execute_result"
    }
   ],
   "source": [
    "df['Up']=0\n",
    "df['Up'][df['delta_Close']>0]=1\n",
    "df=df.drop('delta_Close',axis=1)\n",
    "df.tail(10)"
   ]
  },
  {
   "cell_type": "markdown",
   "id": "3f688a5c-7cc2-4a49-9f0d-fe701e0aa0ee",
   "metadata": {},
   "source": [
    "## データの全体像を掴む"
   ]
  },
  {
   "cell_type": "code",
   "execution_count": 10,
   "id": "91f339d9-811f-490e-a712-fa91c292c436",
   "metadata": {},
   "outputs": [
    {
     "data": {
      "text/plain": [
       "<AxesSubplot: xlabel='Date'>"
      ]
     },
     "execution_count": 10,
     "metadata": {},
     "output_type": "execute_result"
    },
    {
     "data": {
      "image/png": "[encoded data removed]",
      "text/plain": [
       "<Figure size 432x288 with 1 Axes>"
      ]
     },
     "metadata": {
      "needs_background": "light"
     },
     "output_type": "display_data"
    }
   ],
   "source": [
    "df_new=df[['Open','High','Low','Close']]\n",
    "\n",
    "from matplotlib import pyplot as plt\n",
    "%matplotlib inline\n",
    "\n",
    "df_new.plot(kind='line')"
   ]
  },
  {
   "cell_type": "markdown",
   "id": "b26ef792-c1c8-4438-92e7-b01c95411d1c",
   "metadata": {},
   "source": [
    "## 特徴量の追加  \n",
    "*  終値の前日比率  \n",
    "*  始値・終値の差分"
   ]
  },
  {
   "cell_type": "code",
   "execution_count": 11,
   "id": "a3b3d338-6025-4bf9-bb3f-c80709466b59",
   "metadata": {},
   "outputs": [
    {
     "data": {
      "text/html": [
       "<div>\n",
       "<style scoped>\n",
       "    .dataframe tbody tr th:only-of-type {\n",
       "        vertical-align: middle;\n",
       "    }\n",
       "\n",
       "    .dataframe tbody tr th {\n",
       "        vertical-align: top;\n",
       "    }\n",
       "\n",
       "    .dataframe thead th {\n",
       "        text-align: right;\n",
       "    }\n",
       "</style>\n",
       "<table border=\"1\" class=\"dataframe\">\n",
       "  <thead>\n",
       "    <tr style=\"text-align: right;\">\n",
       "      <th></th>\n",
       "      <th>High</th>\n",
       "      <th>Low</th>\n",
       "      <th>Open</th>\n",
       "      <th>Close</th>\n",
       "      <th>Up</th>\n",
       "      <th>Close_ratio</th>\n",
       "    </tr>\n",
       "    <tr>\n",
       "      <th>Date</th>\n",
       "      <th></th>\n",
       "      <th></th>\n",
       "      <th></th>\n",
       "      <th></th>\n",
       "      <th></th>\n",
       "      <th></th>\n",
       "    </tr>\n",
       "  </thead>\n",
       "  <tbody>\n",
       "    <tr>\n",
       "      <th>1965-01-05</th>\n",
       "      <td>116339.097290</td>\n",
       "      <td>116339.097290</td>\n",
       "      <td>116339.097290</td>\n",
       "      <td>116339.097290</td>\n",
       "      <td>1</td>\n",
       "      <td>-0.010978</td>\n",
       "    </tr>\n",
       "    <tr>\n",
       "      <th>1965-01-06</th>\n",
       "      <td>116919.074097</td>\n",
       "      <td>116919.074097</td>\n",
       "      <td>116919.074097</td>\n",
       "      <td>116919.074097</td>\n",
       "      <td>1</td>\n",
       "      <td>-0.004999</td>\n",
       "    </tr>\n",
       "    <tr>\n",
       "      <th>1965-01-07</th>\n",
       "      <td>117869.976807</td>\n",
       "      <td>117869.976807</td>\n",
       "      <td>117869.976807</td>\n",
       "      <td>117869.976807</td>\n",
       "      <td>0</td>\n",
       "      <td>0.004248</td>\n",
       "    </tr>\n",
       "    <tr>\n",
       "      <th>1965-01-08</th>\n",
       "      <td>118994.779968</td>\n",
       "      <td>118994.779968</td>\n",
       "      <td>118994.779968</td>\n",
       "      <td>118994.779968</td>\n",
       "      <td>0</td>\n",
       "      <td>0.012570</td>\n",
       "    </tr>\n",
       "    <tr>\n",
       "      <th>1965-01-12</th>\n",
       "      <td>119189.953613</td>\n",
       "      <td>119189.953613</td>\n",
       "      <td>119189.953613</td>\n",
       "      <td>119189.953613</td>\n",
       "      <td>0</td>\n",
       "      <td>0.021168</td>\n",
       "    </tr>\n",
       "  </tbody>\n",
       "</table>\n",
       "</div>"
      ],
      "text/plain": [
       "                     High            Low           Open          Close  Up  \\\n",
       "Date                                                                         \n",
       "1965-01-05  116339.097290  116339.097290  116339.097290  116339.097290   1   \n",
       "1965-01-06  116919.074097  116919.074097  116919.074097  116919.074097   1   \n",
       "1965-01-07  117869.976807  117869.976807  117869.976807  117869.976807   0   \n",
       "1965-01-08  118994.779968  118994.779968  118994.779968  118994.779968   0   \n",
       "1965-01-12  119189.953613  119189.953613  119189.953613  119189.953613   0   \n",
       "\n",
       "            Close_ratio  \n",
       "Date                     \n",
       "1965-01-05    -0.010978  \n",
       "1965-01-06    -0.004999  \n",
       "1965-01-07     0.004248  \n",
       "1965-01-08     0.012570  \n",
       "1965-01-12     0.021168  "
      ]
     },
     "execution_count": 11,
     "metadata": {},
     "output_type": "execute_result"
    }
   ],
   "source": [
    "\n",
    "df['Close_ratio']=(df['Close']-df_shift_7days['Close'])/df_shift_7days['Close']\n",
    "df.head()"
   ]
  },
  {
   "cell_type": "code",
   "execution_count": 12,
   "id": "ce8b9627-4252-4161-b8ea-66189c2dc3d8",
   "metadata": {},
   "outputs": [
    {
     "data": {
      "text/html": [
       "<div>\n",
       "<style scoped>\n",
       "    .dataframe tbody tr th:only-of-type {\n",
       "        vertical-align: middle;\n",
       "    }\n",
       "\n",
       "    .dataframe tbody tr th {\n",
       "        vertical-align: top;\n",
       "    }\n",
       "\n",
       "    .dataframe thead th {\n",
       "        text-align: right;\n",
       "    }\n",
       "</style>\n",
       "<table border=\"1\" class=\"dataframe\">\n",
       "  <thead>\n",
       "    <tr style=\"text-align: right;\">\n",
       "      <th></th>\n",
       "      <th>High</th>\n",
       "      <th>Low</th>\n",
       "      <th>Open</th>\n",
       "      <th>Close</th>\n",
       "      <th>Up</th>\n",
       "      <th>Close_ratio</th>\n",
       "      <th>Body</th>\n",
       "    </tr>\n",
       "    <tr>\n",
       "      <th>Date</th>\n",
       "      <th></th>\n",
       "      <th></th>\n",
       "      <th></th>\n",
       "      <th></th>\n",
       "      <th></th>\n",
       "      <th></th>\n",
       "      <th></th>\n",
       "    </tr>\n",
       "  </thead>\n",
       "  <tbody>\n",
       "    <tr>\n",
       "      <th>2021-10-15</th>\n",
       "      <td>2.690117e+06</td>\n",
       "      <td>2.657175e+06</td>\n",
       "      <td>2.662822e+06</td>\n",
       "      <td>2.688848e+06</td>\n",
       "      <td>0</td>\n",
       "      <td>NaN</td>\n",
       "      <td>-26026.826172</td>\n",
       "    </tr>\n",
       "    <tr>\n",
       "      <th>2021-10-18</th>\n",
       "      <td>2.695851e+06</td>\n",
       "      <td>2.675507e+06</td>\n",
       "      <td>2.691178e+06</td>\n",
       "      <td>2.684855e+06</td>\n",
       "      <td>0</td>\n",
       "      <td>NaN</td>\n",
       "      <td>6323.242188</td>\n",
       "    </tr>\n",
       "    <tr>\n",
       "      <th>2021-10-19</th>\n",
       "      <td>2.707705e+06</td>\n",
       "      <td>2.689472e+06</td>\n",
       "      <td>2.693348e+06</td>\n",
       "      <td>2.702436e+06</td>\n",
       "      <td>0</td>\n",
       "      <td>NaN</td>\n",
       "      <td>-9087.221680</td>\n",
       "    </tr>\n",
       "    <tr>\n",
       "      <th>2021-10-20</th>\n",
       "      <td>2.727743e+06</td>\n",
       "      <td>2.703065e+06</td>\n",
       "      <td>2.718200e+06</td>\n",
       "      <td>2.706138e+06</td>\n",
       "      <td>0</td>\n",
       "      <td>NaN</td>\n",
       "      <td>12061.855469</td>\n",
       "    </tr>\n",
       "    <tr>\n",
       "      <th>2021-10-21</th>\n",
       "      <td>2.702926e+06</td>\n",
       "      <td>2.658233e+06</td>\n",
       "      <td>2.696628e+06</td>\n",
       "      <td>2.663157e+06</td>\n",
       "      <td>0</td>\n",
       "      <td>NaN</td>\n",
       "      <td>33471.088867</td>\n",
       "    </tr>\n",
       "  </tbody>\n",
       "</table>\n",
       "</div>"
      ],
      "text/plain": [
       "                    High           Low          Open         Close  Up  \\\n",
       "Date                                                                     \n",
       "2021-10-15  2.690117e+06  2.657175e+06  2.662822e+06  2.688848e+06   0   \n",
       "2021-10-18  2.695851e+06  2.675507e+06  2.691178e+06  2.684855e+06   0   \n",
       "2021-10-19  2.707705e+06  2.689472e+06  2.693348e+06  2.702436e+06   0   \n",
       "2021-10-20  2.727743e+06  2.703065e+06  2.718200e+06  2.706138e+06   0   \n",
       "2021-10-21  2.702926e+06  2.658233e+06  2.696628e+06  2.663157e+06   0   \n",
       "\n",
       "            Close_ratio          Body  \n",
       "Date                                   \n",
       "2021-10-15          NaN -26026.826172  \n",
       "2021-10-18          NaN   6323.242188  \n",
       "2021-10-19          NaN  -9087.221680  \n",
       "2021-10-20          NaN  12061.855469  \n",
       "2021-10-21          NaN  33471.088867  "
      ]
     },
     "execution_count": 12,
     "metadata": {},
     "output_type": "execute_result"
    }
   ],
   "source": [
    "#始値と終値の差分を追加。\n",
    "df['Body']=df['Open']-df['Close']\n",
    "df.tail()"
   ]
  },
  {
   "cell_type": "markdown",
   "id": "59f1cea6-9c18-4964-a5f2-c7194504c903",
   "metadata": {},
   "source": [
    "### 学習データと検証データに分割"
   ]
  },
  {
   "cell_type": "code",
   "execution_count": 13,
   "id": "eb17f275-b77b-45b5-8bc5-894435ae8616",
   "metadata": {},
   "outputs": [
    {
     "data": {
      "text/html": [
       "<div>\n",
       "<style scoped>\n",
       "    .dataframe tbody tr th:only-of-type {\n",
       "        vertical-align: middle;\n",
       "    }\n",
       "\n",
       "    .dataframe tbody tr th {\n",
       "        vertical-align: top;\n",
       "    }\n",
       "\n",
       "    .dataframe thead th {\n",
       "        text-align: right;\n",
       "    }\n",
       "</style>\n",
       "<table border=\"1\" class=\"dataframe\">\n",
       "  <thead>\n",
       "    <tr style=\"text-align: right;\">\n",
       "      <th></th>\n",
       "      <th>High</th>\n",
       "      <th>Low</th>\n",
       "      <th>Open</th>\n",
       "      <th>Close</th>\n",
       "      <th>Up</th>\n",
       "      <th>Close_ratio</th>\n",
       "      <th>Body</th>\n",
       "    </tr>\n",
       "    <tr>\n",
       "      <th>Date</th>\n",
       "      <th></th>\n",
       "      <th></th>\n",
       "      <th></th>\n",
       "      <th></th>\n",
       "      <th></th>\n",
       "      <th></th>\n",
       "      <th></th>\n",
       "    </tr>\n",
       "  </thead>\n",
       "  <tbody>\n",
       "    <tr>\n",
       "      <th>1965-01-05</th>\n",
       "      <td>116339.097290</td>\n",
       "      <td>116339.097290</td>\n",
       "      <td>116339.097290</td>\n",
       "      <td>116339.097290</td>\n",
       "      <td>1</td>\n",
       "      <td>-0.010978</td>\n",
       "      <td>0.0</td>\n",
       "    </tr>\n",
       "    <tr>\n",
       "      <th>1965-01-06</th>\n",
       "      <td>116919.074097</td>\n",
       "      <td>116919.074097</td>\n",
       "      <td>116919.074097</td>\n",
       "      <td>116919.074097</td>\n",
       "      <td>1</td>\n",
       "      <td>-0.004999</td>\n",
       "      <td>0.0</td>\n",
       "    </tr>\n",
       "    <tr>\n",
       "      <th>1965-01-07</th>\n",
       "      <td>117869.976807</td>\n",
       "      <td>117869.976807</td>\n",
       "      <td>117869.976807</td>\n",
       "      <td>117869.976807</td>\n",
       "      <td>0</td>\n",
       "      <td>0.004248</td>\n",
       "      <td>0.0</td>\n",
       "    </tr>\n",
       "    <tr>\n",
       "      <th>1965-01-08</th>\n",
       "      <td>118994.779968</td>\n",
       "      <td>118994.779968</td>\n",
       "      <td>118994.779968</td>\n",
       "      <td>118994.779968</td>\n",
       "      <td>0</td>\n",
       "      <td>0.012570</td>\n",
       "      <td>0.0</td>\n",
       "    </tr>\n",
       "    <tr>\n",
       "      <th>1965-01-12</th>\n",
       "      <td>119189.953613</td>\n",
       "      <td>119189.953613</td>\n",
       "      <td>119189.953613</td>\n",
       "      <td>119189.953613</td>\n",
       "      <td>0</td>\n",
       "      <td>0.021168</td>\n",
       "      <td>0.0</td>\n",
       "    </tr>\n",
       "  </tbody>\n",
       "</table>\n",
       "</div>"
      ],
      "text/plain": [
       "                     High            Low           Open          Close  Up  \\\n",
       "Date                                                                         \n",
       "1965-01-05  116339.097290  116339.097290  116339.097290  116339.097290   1   \n",
       "1965-01-06  116919.074097  116919.074097  116919.074097  116919.074097   1   \n",
       "1965-01-07  117869.976807  117869.976807  117869.976807  117869.976807   0   \n",
       "1965-01-08  118994.779968  118994.779968  118994.779968  118994.779968   0   \n",
       "1965-01-12  119189.953613  119189.953613  119189.953613  119189.953613   0   \n",
       "\n",
       "            Close_ratio  Body  \n",
       "Date                           \n",
       "1965-01-05    -0.010978   0.0  \n",
       "1965-01-06    -0.004999   0.0  \n",
       "1965-01-07     0.004248   0.0  \n",
       "1965-01-08     0.012570   0.0  \n",
       "1965-01-12     0.021168   0.0  "
      ]
     },
     "execution_count": 13,
     "metadata": {},
     "output_type": "execute_result"
    }
   ],
   "source": [
    "df_train=df['1965-01-05':'2020-12-31']\n",
    "df_train.head()"
   ]
  },
  {
   "cell_type": "code",
   "execution_count": 14,
   "id": "5cabfadf-5611-4062-bf3f-1fac4507cf64",
   "metadata": {},
   "outputs": [
    {
     "data": {
      "text/html": [
       "<div>\n",
       "<style scoped>\n",
       "    .dataframe tbody tr th:only-of-type {\n",
       "        vertical-align: middle;\n",
       "    }\n",
       "\n",
       "    .dataframe tbody tr th {\n",
       "        vertical-align: top;\n",
       "    }\n",
       "\n",
       "    .dataframe thead th {\n",
       "        text-align: right;\n",
       "    }\n",
       "</style>\n",
       "<table border=\"1\" class=\"dataframe\">\n",
       "  <thead>\n",
       "    <tr style=\"text-align: right;\">\n",
       "      <th></th>\n",
       "      <th>High</th>\n",
       "      <th>Low</th>\n",
       "      <th>Open</th>\n",
       "      <th>Close</th>\n",
       "      <th>Up</th>\n",
       "      <th>Close_ratio</th>\n",
       "      <th>Body</th>\n",
       "    </tr>\n",
       "    <tr>\n",
       "      <th>Date</th>\n",
       "      <th></th>\n",
       "      <th></th>\n",
       "      <th></th>\n",
       "      <th></th>\n",
       "      <th></th>\n",
       "      <th></th>\n",
       "      <th></th>\n",
       "    </tr>\n",
       "  </thead>\n",
       "  <tbody>\n",
       "    <tr>\n",
       "      <th>2021-10-15</th>\n",
       "      <td>2.690117e+06</td>\n",
       "      <td>2.657175e+06</td>\n",
       "      <td>2.662822e+06</td>\n",
       "      <td>2.688848e+06</td>\n",
       "      <td>0</td>\n",
       "      <td>NaN</td>\n",
       "      <td>-26026.826172</td>\n",
       "    </tr>\n",
       "    <tr>\n",
       "      <th>2021-10-18</th>\n",
       "      <td>2.695851e+06</td>\n",
       "      <td>2.675507e+06</td>\n",
       "      <td>2.691178e+06</td>\n",
       "      <td>2.684855e+06</td>\n",
       "      <td>0</td>\n",
       "      <td>NaN</td>\n",
       "      <td>6323.242188</td>\n",
       "    </tr>\n",
       "    <tr>\n",
       "      <th>2021-10-19</th>\n",
       "      <td>2.707705e+06</td>\n",
       "      <td>2.689472e+06</td>\n",
       "      <td>2.693348e+06</td>\n",
       "      <td>2.702436e+06</td>\n",
       "      <td>0</td>\n",
       "      <td>NaN</td>\n",
       "      <td>-9087.221680</td>\n",
       "    </tr>\n",
       "    <tr>\n",
       "      <th>2021-10-20</th>\n",
       "      <td>2.727743e+06</td>\n",
       "      <td>2.703065e+06</td>\n",
       "      <td>2.718200e+06</td>\n",
       "      <td>2.706138e+06</td>\n",
       "      <td>0</td>\n",
       "      <td>NaN</td>\n",
       "      <td>12061.855469</td>\n",
       "    </tr>\n",
       "    <tr>\n",
       "      <th>2021-10-21</th>\n",
       "      <td>2.702926e+06</td>\n",
       "      <td>2.658233e+06</td>\n",
       "      <td>2.696628e+06</td>\n",
       "      <td>2.663157e+06</td>\n",
       "      <td>0</td>\n",
       "      <td>NaN</td>\n",
       "      <td>33471.088867</td>\n",
       "    </tr>\n",
       "  </tbody>\n",
       "</table>\n",
       "</div>"
      ],
      "text/plain": [
       "                    High           Low          Open         Close  Up  \\\n",
       "Date                                                                     \n",
       "2021-10-15  2.690117e+06  2.657175e+06  2.662822e+06  2.688848e+06   0   \n",
       "2021-10-18  2.695851e+06  2.675507e+06  2.691178e+06  2.684855e+06   0   \n",
       "2021-10-19  2.707705e+06  2.689472e+06  2.693348e+06  2.702436e+06   0   \n",
       "2021-10-20  2.727743e+06  2.703065e+06  2.718200e+06  2.706138e+06   0   \n",
       "2021-10-21  2.702926e+06  2.658233e+06  2.696628e+06  2.663157e+06   0   \n",
       "\n",
       "            Close_ratio          Body  \n",
       "Date                                   \n",
       "2021-10-15          NaN -26026.826172  \n",
       "2021-10-18          NaN   6323.242188  \n",
       "2021-10-19          NaN  -9087.221680  \n",
       "2021-10-20          NaN  12061.855469  \n",
       "2021-10-21          NaN  33471.088867  "
      ]
     },
     "execution_count": 14,
     "metadata": {},
     "output_type": "execute_result"
    }
   ],
   "source": [
    "df_val=df['2021-01-01':]\n",
    "df_val.tail()"
   ]
  },
  {
   "cell_type": "code",
   "execution_count": 15,
   "id": "f02840d8-034e-4935-96a5-a6aaa8347abd",
   "metadata": {},
   "outputs": [],
   "source": [
    "x_train=df_train[['High','Low','Open','Close','Close_ratio','Body']]\n",
    "y_train=df_train['Up']"
   ]
  },
  {
   "cell_type": "code",
   "execution_count": 16,
   "id": "974ba762-63a1-4b01-90b8-aff856aa38cc",
   "metadata": {},
   "outputs": [
    {
     "name": "stdout",
     "output_type": "stream",
     "text": [
      "                    High           Low          Open         Close  \\\n",
      "Date                                                                 \n",
      "2021-01-04  2.553195e+06  2.501415e+06  2.550740e+06  2.521400e+06   \n",
      "2021-01-05  2.523380e+06  2.504295e+06  2.511503e+06  2.512173e+06   \n",
      "2021-01-06  2.515667e+06  2.497702e+06  2.507014e+06  2.502674e+06   \n",
      "2021-01-07  2.555288e+06  2.528993e+06  2.528993e+06  2.542837e+06   \n",
      "2021-01-08  2.602860e+06  2.559267e+06  2.564113e+06  2.602860e+06   \n",
      "...                  ...           ...           ...           ...   \n",
      "2021-10-15  2.690117e+06  2.657175e+06  2.662822e+06  2.688848e+06   \n",
      "2021-10-18  2.695851e+06  2.675507e+06  2.691178e+06  2.684855e+06   \n",
      "2021-10-19  2.707705e+06  2.689472e+06  2.693348e+06  2.702436e+06   \n",
      "2021-10-20  2.727743e+06  2.703065e+06  2.718200e+06  2.706138e+06   \n",
      "2021-10-21  2.702926e+06  2.658233e+06  2.696628e+06  2.663157e+06   \n",
      "\n",
      "            Close_ratio          Body  \n",
      "Date                                   \n",
      "2021-01-04    -0.050173  29340.024414  \n",
      "2021-01-05    -0.047706   -670.625000  \n",
      "2021-01-06    -0.042003   4339.189453  \n",
      "2021-01-07    -0.039930 -13844.467773  \n",
      "2021-01-08    -0.013471 -38747.202148  \n",
      "...                 ...           ...  \n",
      "2021-10-15          NaN -26026.826172  \n",
      "2021-10-18          NaN   6323.242188  \n",
      "2021-10-19          NaN  -9087.221680  \n",
      "2021-10-20          NaN  12061.855469  \n",
      "2021-10-21          NaN  33471.088867  \n",
      "\n",
      "[197 rows x 6 columns]\n"
     ]
    }
   ],
   "source": [
    "x_val=df_val[['High','Low','Open','Close','Close_ratio','Body']]\n",
    "y_val=df_val['Up']\n",
    "\n",
    "print(x_val)\n",
    "#print(y_val)"
   ]
  },
  {
   "cell_type": "code",
   "execution_count": 17,
   "id": "2f42d1a4-1f99-414a-8e1c-e35599a71aef",
   "metadata": {},
   "outputs": [
    {
     "data": {
      "image/png": "[encoded data removed]",
      "text/plain": [
       "<Figure size 432x288 with 1 Axes>"
      ]
     },
     "metadata": {
      "needs_background": "light"
     },
     "output_type": "display_data"
    }
   ],
   "source": [
    "x_train['Close'].plot(kind='line')\n",
    "x_val['Close'].plot(kind='line')\n",
    "\n",
    "plt.legend(['x_train','x_val'])\n",
    "\n",
    "plt.show()"
   ]
  },
  {
   "cell_type": "markdown",
   "id": "e55ac5ec-1d3e-4bcb-b5ae-a2f7b165eebe",
   "metadata": {},
   "source": [
    "### データを整える"
   ]
  },
  {
   "cell_type": "code",
   "execution_count": 18,
   "id": "f629b463-7390-4906-8368-5d52d16ced42",
   "metadata": {},
   "outputs": [],
   "source": [
    "from sklearn.preprocessing import StandardScaler\n",
    "\n",
    "import numpy as np\n",
    "\n",
    "def std_to_np(df):\n",
    "    df_list=[]\n",
    "    df=np.array(df)\n",
    "    for i in range(0,len(df)-3,7):\n",
    "        df_s=df[i:i+7]\n",
    "        scl=StandardScaler()\n",
    "        df_std=scl.fit_transform(df_s)\n",
    "        df_list.append(df_std)\n",
    "    return np.array(df_list)"
   ]
  },
  {
   "cell_type": "code",
   "execution_count": 19,
   "id": "f8f89aca-6627-4a10-a4c4-5ea72107da9c",
   "metadata": {},
   "outputs": [],
   "source": [
    "#!pip install tensorflow"
   ]
  },
  {
   "cell_type": "code",
   "execution_count": 20,
   "id": "9d255443-d005-4493-a9e8-7ee225e63694",
   "metadata": {},
   "outputs": [
    {
     "name": "stdout",
     "output_type": "stream",
     "text": [
      "(1967, 7, 6)\n",
      "(28, 7, 6)\n"
     ]
    }
   ],
   "source": [
    "x_train_np_array=std_to_np(x_train)\n",
    "x_val_np_array=std_to_np(x_val)\n",
    "\n",
    "print(x_train_np_array.shape)\n",
    "print(x_val_np_array.shape)"
   ]
  },
  {
   "cell_type": "code",
   "execution_count": 21,
   "id": "dd47dcd9-7f3e-456a-8972-0b6834773e13",
   "metadata": {},
   "outputs": [
    {
     "name": "stdout",
     "output_type": "stream",
     "text": [
      "(13770,)\n",
      "(197,)\n"
     ]
    }
   ],
   "source": [
    "print(y_train.shape)\n",
    "print(y_val.shape)"
   ]
  },
  {
   "cell_type": "code",
   "execution_count": 22,
   "id": "678f59fa-fe03-4944-bf08-a0d295dec301",
   "metadata": {},
   "outputs": [
    {
     "name": "stdout",
     "output_type": "stream",
     "text": [
      "1967\n",
      "28\n"
     ]
    }
   ],
   "source": [
    "y_train_new=y_train[3::7]\n",
    "y_val_new=y_val[3::7]\n",
    "\n",
    "print(len(y_train_new))\n",
    "print(len(y_val_new))"
   ]
  },
  {
   "cell_type": "markdown",
   "id": "90dfac2e-acbc-4736-aa56-90438ff7d8d9",
   "metadata": {},
   "source": [
    "### 予測モデルの作成"
   ]
  },
  {
   "cell_type": "code",
   "execution_count": 23,
   "id": "faf80fcf-cb22-4d5c-b7db-750645771157",
   "metadata": {},
   "outputs": [],
   "source": [
    "#!pip install tensorflow"
   ]
  },
  {
   "cell_type": "code",
   "execution_count": 24,
   "id": "4af9bb32-6fec-4e0a-9382-699af0733dca",
   "metadata": {},
   "outputs": [],
   "source": [
    "from keras.models import Sequential\n",
    "from keras.layers import Dense,LSTM\n",
    "from keras.layers import Dropout"
   ]
  },
  {
   "cell_type": "code",
   "execution_count": 25,
   "id": "3333ce1a-e993-4001-bbe3-86b08b7cf3a1",
   "metadata": {},
   "outputs": [],
   "source": [
    "# LSTM構築とコンパイル関数\n",
    "def lstm_comp(df):\n",
    "    # 入力層/中間層/出力層のネットワークを構築\n",
    "    model = Sequential()\n",
    "    model.add(LSTM(256, activation='relu', batch_input_shape=(None, df.shape[1], df.shape[2])))\n",
    "    model.add(Dropout(0.2))\n",
    "    model.add(Dense(256, activation='relu'))\n",
    "    model.add(Dropout(0.2))\n",
    "    model.add(Dense(1, activation='sigmoid'))\n",
    "\n",
    "    # ネットワークのコンパイル\n",
    "    model.compile(loss='binary_crossentropy', optimizer='adam', metrics=['accuracy'])\n",
    "\n",
    "    return model"
   ]
  },
  {
   "cell_type": "markdown",
   "id": "75f7352b-66a9-4b44-ad4c-db180e51085a",
   "metadata": {},
   "source": [
    "### 交差検証  \n",
    "予測モデルが使用できるかの確認"
   ]
  },
  {
   "cell_type": "code",
   "execution_count": 26,
   "id": "0aa7d6b8-7978-43a1-9637-89c172d8d285",
   "metadata": {},
   "outputs": [],
   "source": [
    "from sklearn.model_selection import TimeSeriesSplit\n",
    "from sklearn.metrics import accuracy_score"
   ]
  },
  {
   "cell_type": "code",
   "execution_count": 27,
   "id": "b9168a63-6424-4dc8-ada1-fb868da710d3",
   "metadata": {},
   "outputs": [
    {
     "name": "stdout",
     "output_type": "stream",
     "text": [
      "Epoch 1/10\n",
      "7/7 [==============================] - 3s 25ms/step - loss: 0.6523 - accuracy: 0.5873\n",
      "Epoch 2/10\n",
      "7/7 [==============================] - 0s 24ms/step - loss: 0.5858 - accuracy: 0.7215\n",
      "Epoch 3/10\n",
      "7/7 [==============================] - 0s 26ms/step - loss: 0.5545 - accuracy: 0.7316\n",
      "Epoch 4/10\n",
      "7/7 [==============================] - 0s 27ms/step - loss: 0.5346 - accuracy: 0.7443\n",
      "Epoch 5/10\n",
      "7/7 [==============================] - 0s 26ms/step - loss: 0.5143 - accuracy: 0.7544\n",
      "Epoch 6/10\n",
      "7/7 [==============================] - 0s 27ms/step - loss: 0.5222 - accuracy: 0.7443\n",
      "Epoch 7/10\n",
      "7/7 [==============================] - 0s 28ms/step - loss: 0.4950 - accuracy: 0.7544\n",
      "Epoch 8/10\n",
      "7/7 [==============================] - 0s 27ms/step - loss: 0.4872 - accuracy: 0.7722\n",
      "Epoch 9/10\n",
      "7/7 [==============================] - 0s 29ms/step - loss: 0.4824 - accuracy: 0.7519\n",
      "Epoch 10/10\n",
      "7/7 [==============================] - 0s 29ms/step - loss: 0.4583 - accuracy: 0.7924\n",
      "13/13 [==============================] - 0s 10ms/step\n",
      "fold0MAE:0.7633587786259542\n",
      "Epoch 1/10\n",
      "13/13 [==============================] - 3s 27ms/step - loss: 0.6421 - accuracy: 0.6168\n",
      "Epoch 2/10\n",
      "13/13 [==============================] - 0s 28ms/step - loss: 0.5598 - accuracy: 0.7119\n",
      "Epoch 3/10\n",
      "13/13 [==============================] - 0s 28ms/step - loss: 0.5246 - accuracy: 0.7195\n",
      "Epoch 4/10\n",
      "13/13 [==============================] - 0s 27ms/step - loss: 0.4961 - accuracy: 0.7487\n",
      "Epoch 5/10\n",
      "13/13 [==============================] - 0s 28ms/step - loss: 0.4650 - accuracy: 0.7728\n",
      "Epoch 6/10\n",
      "13/13 [==============================] - 0s 28ms/step - loss: 0.4235 - accuracy: 0.7970\n",
      "Epoch 7/10\n",
      "13/13 [==============================] - 0s 26ms/step - loss: 0.4107 - accuracy: 0.7944\n",
      "Epoch 8/10\n",
      "13/13 [==============================] - 0s 27ms/step - loss: 0.3958 - accuracy: 0.8046\n",
      "Epoch 9/10\n",
      "13/13 [==============================] - 0s 25ms/step - loss: 0.3935 - accuracy: 0.8008\n",
      "Epoch 10/10\n",
      "13/13 [==============================] - 0s 26ms/step - loss: 0.3975 - accuracy: 0.8236\n",
      "13/13 [==============================] - 1s 11ms/step\n",
      "fold1MAE:0.7760814249363868\n",
      "Epoch 1/10\n",
      "19/19 [==============================] - 3s 28ms/step - loss: 0.6219 - accuracy: 0.6638\n",
      "Epoch 2/10\n",
      "19/19 [==============================] - 1s 31ms/step - loss: 0.5528 - accuracy: 0.7240\n",
      "Epoch 3/10\n",
      "19/19 [==============================] - 1s 28ms/step - loss: 0.5170 - accuracy: 0.7468\n",
      "Epoch 4/10\n",
      "19/19 [==============================] - 1s 27ms/step - loss: 0.4393 - accuracy: 0.7883\n",
      "Epoch 5/10\n",
      "19/19 [==============================] - 1s 29ms/step - loss: 0.4216 - accuracy: 0.7985\n",
      "Epoch 6/10\n",
      "19/19 [==============================] - 1s 26ms/step - loss: 0.4104 - accuracy: 0.7993\n",
      "Epoch 7/10\n",
      "19/19 [==============================] - 1s 29ms/step - loss: 0.4081 - accuracy: 0.8061\n",
      "Epoch 8/10\n",
      "19/19 [==============================] - 1s 28ms/step - loss: 0.4082 - accuracy: 0.8069\n",
      "Epoch 9/10\n",
      "19/19 [==============================] - 1s 27ms/step - loss: 0.3896 - accuracy: 0.8120\n",
      "Epoch 10/10\n",
      "19/19 [==============================] - 0s 26ms/step - loss: 0.3744 - accuracy: 0.8247\n",
      "13/13 [==============================] - 0s 11ms/step\n",
      "fold2MAE:0.8193384223918575\n",
      "Epoch 1/10\n",
      "25/25 [==============================] - 4s 30ms/step - loss: 0.6144 - accuracy: 0.6766\n",
      "Epoch 2/10\n",
      "25/25 [==============================] - 1s 30ms/step - loss: 0.5402 - accuracy: 0.7294\n",
      "Epoch 3/10\n",
      "25/25 [==============================] - 1s 34ms/step - loss: 0.4676 - accuracy: 0.7694\n",
      "Epoch 4/10\n",
      "25/25 [==============================] - 1s 29ms/step - loss: 0.4324 - accuracy: 0.7929\n",
      "Epoch 5/10\n",
      "25/25 [==============================] - 1s 29ms/step - loss: 0.4072 - accuracy: 0.8062\n",
      "Epoch 6/10\n",
      "25/25 [==============================] - 1s 30ms/step - loss: 0.3909 - accuracy: 0.8170\n",
      "Epoch 7/10\n",
      "25/25 [==============================] - 1s 29ms/step - loss: 0.3971 - accuracy: 0.8069\n",
      "Epoch 8/10\n",
      "25/25 [==============================] - 1s 32ms/step - loss: 0.4080 - accuracy: 0.8024\n",
      "Epoch 9/10\n",
      "25/25 [==============================] - 1s 30ms/step - loss: 0.3813 - accuracy: 0.8240\n",
      "Epoch 10/10\n",
      "25/25 [==============================] - 1s 29ms/step - loss: 0.3684 - accuracy: 0.8253\n",
      "13/13 [==============================] - 1s 11ms/step\n",
      "fold3MAE:0.7837150127226463\n",
      "valid_scores:[0.7633587786259542, 0.7760814249363868, 0.8193384223918575, 0.7837150127226463]\n",
      "CV score:0.7856234096692113\n"
     ]
    }
   ],
   "source": [
    "valid_scores=[]\n",
    "tscv=TimeSeriesSplit(n_splits=4)\n",
    "\n",
    "for fold,(train_indices,valid_indices) in enumerate(tscv.split(x_train_np_array)):\n",
    "    x_train,x_valid=x_train_np_array[train_indices],x_train_np_array[valid_indices]\n",
    "    y_train,y_valid=y_train_new[train_indices],y_train_new[valid_indices]\n",
    "    \n",
    "    model=lstm_comp(x_train)\n",
    "    \n",
    "    model.fit(x_train,y_train,epochs=10,batch_size=64)\n",
    "    \n",
    "    y_valid_pred=model.predict(x_valid)\n",
    "    \n",
    "    y_valid_pred=np.where(y_valid_pred<0.5,0,1)\n",
    "    \n",
    "    score=accuracy_score(y_valid,y_valid_pred)\n",
    "    print(f'fold{fold}MAE:{score}')\n",
    "    \n",
    "    valid_scores.append(score)\n",
    "\n",
    "print(f'valid_scores:{valid_scores}')\n",
    "cv_score=np.mean(valid_scores)\n",
    "print(f'CV score:{cv_score}')"
   ]
  },
  {
   "cell_type": "markdown",
   "id": "51d98cde-a151-4c24-84fe-22ff4fd7cd4a",
   "metadata": {},
   "source": [
    "精度が0.774と高いので使用できるモデルであると確認。"
   ]
  },
  {
   "cell_type": "markdown",
   "id": "dfcfdef2-e3bf-4145-b35b-49fff5245366",
   "metadata": {},
   "source": [
    "#### モデルを用いた予測"
   ]
  },
  {
   "cell_type": "code",
   "execution_count": 28,
   "id": "3b554936-c382-40ba-9df5-78d4ec5bae9d",
   "metadata": {},
   "outputs": [],
   "source": [
    "model=lstm_comp(x_train_np_array)"
   ]
  },
  {
   "cell_type": "code",
   "execution_count": 29,
   "id": "358ad3b3-3d54-4c93-a338-e72bcdc875ef",
   "metadata": {},
   "outputs": [
    {
     "name": "stdout",
     "output_type": "stream",
     "text": [
      "Epoch 1/10\n",
      "31/31 [==============================] - 4s 30ms/step - loss: 0.6141 - accuracy: 0.6614\n",
      "Epoch 2/10\n",
      "31/31 [==============================] - 1s 28ms/step - loss: 0.5238 - accuracy: 0.7321\n",
      "Epoch 3/10\n",
      "31/31 [==============================] - 1s 29ms/step - loss: 0.4545 - accuracy: 0.7768\n",
      "Epoch 4/10\n",
      "31/31 [==============================] - 1s 30ms/step - loss: 0.4185 - accuracy: 0.7972\n",
      "Epoch 5/10\n",
      "31/31 [==============================] - 1s 28ms/step - loss: 0.4001 - accuracy: 0.8078\n",
      "Epoch 6/10\n",
      "31/31 [==============================] - 1s 30ms/step - loss: 0.4007 - accuracy: 0.8094\n",
      "Epoch 7/10\n",
      "31/31 [==============================] - 1s 29ms/step - loss: 0.3981 - accuracy: 0.8165\n",
      "Epoch 8/10\n",
      "31/31 [==============================] - 1s 30ms/step - loss: 0.3880 - accuracy: 0.8190\n",
      "Epoch 9/10\n",
      "31/31 [==============================] - 1s 31ms/step - loss: 0.3823 - accuracy: 0.8221\n",
      "Epoch 10/10\n",
      "31/31 [==============================] - 1s 29ms/step - loss: 0.3832 - accuracy: 0.8226\n"
     ]
    }
   ],
   "source": [
    "result=model.fit(x_train_np_array,y_train_new,epochs=10,batch_size=64)"
   ]
  },
  {
   "cell_type": "code",
   "execution_count": 30,
   "id": "d43a2e58-d6a2-485f-b65f-045e46428a02",
   "metadata": {},
   "outputs": [
    {
     "name": "stdout",
     "output_type": "stream",
     "text": [
      "1/1 [==============================] - 0s 371ms/step\n"
     ]
    },
    {
     "data": {
      "text/plain": [
       "array([[0.97271013],\n",
       "       [0.341631  ],\n",
       "       [0.89105064],\n",
       "       [0.88435477],\n",
       "       [0.06564662],\n",
       "       [0.53454643],\n",
       "       [0.97344804],\n",
       "       [0.2227942 ],\n",
       "       [0.9878581 ],\n",
       "       [0.05422333]], dtype=float32)"
      ]
     },
     "execution_count": 30,
     "metadata": {},
     "output_type": "execute_result"
    }
   ],
   "source": [
    "pred=model.predict(x_val_np_array)\n",
    "pred[:10]"
   ]
  },
  {
   "cell_type": "code",
   "execution_count": 31,
   "id": "32a107bf-7faf-4b28-89f6-587bbf308072",
   "metadata": {},
   "outputs": [
    {
     "data": {
      "text/plain": [
       "array([[1],\n",
       "       [0],\n",
       "       [1],\n",
       "       [1],\n",
       "       [0],\n",
       "       [1],\n",
       "       [1],\n",
       "       [0],\n",
       "       [1],\n",
       "       [0]])"
      ]
     },
     "execution_count": 31,
     "metadata": {},
     "output_type": "execute_result"
    }
   ],
   "source": [
    "pred=np.where(pred<0.5,0,1)\n",
    "pred[:10]"
   ]
  },
  {
   "cell_type": "code",
   "execution_count": 32,
   "id": "b3b31eb4-13dc-4627-b9a5-5ceb98371190",
   "metadata": {},
   "outputs": [
    {
     "name": "stdout",
     "output_type": "stream",
     "text": [
      "accuracy= 0.6071428571428571\n"
     ]
    }
   ],
   "source": [
    "print('accuracy=',accuracy_score(y_true=y_val_new,y_pred=pred))"
   ]
  },
  {
   "cell_type": "markdown",
   "id": "1428ff6a-61a7-4f2b-b9d3-6be0cdc69d2a",
   "metadata": {},
   "source": [
    "精度は0.607とまずまずの結果"
   ]
  },
  {
   "cell_type": "code",
   "execution_count": 33,
   "id": "126a010d-2875-4d1f-92b9-375e41bf916e",
   "metadata": {},
   "outputs": [],
   "source": [
    "from sklearn.metrics import confusion_matrix,ConfusionMatrixDisplay"
   ]
  },
  {
   "cell_type": "code",
   "execution_count": 34,
   "id": "aeca5d4f-6e01-4cc3-bfdc-f9afeebba4eb",
   "metadata": {},
   "outputs": [
    {
     "data": {
      "text/plain": [
       "<sklearn.metrics._plot.confusion_matrix.ConfusionMatrixDisplay at 0x21615066a90>"
      ]
     },
     "execution_count": 34,
     "metadata": {},
     "output_type": "execute_result"
    },
    {
     "data": {
      "image/png": "[encoded data removed]",
      "text/plain": [
       "<Figure size 432x288 with 2 Axes>"
      ]
     },
     "metadata": {
      "needs_background": "light"
     },
     "output_type": "display_data"
    }
   ],
   "source": [
    "cm=confusion_matrix(y_val_new,pred)\n",
    "cmp=ConfusionMatrixDisplay(cm)\n",
    "cmp.plot(cmap=plt.cm.Reds)"
   ]
  },
  {
   "cell_type": "markdown",
   "id": "25a92b85-ea27-46fe-b53d-38621ddd9ab4",
   "metadata": {},
   "source": [
    "### 考察  \n",
    "そもそも7日後の予測をするのは難しいのではないか。  \n",
    "特徴量にBodyを加えた程度では、予測は難しいのではないか  "
   ]
  },
  {
   "cell_type": "markdown",
   "id": "5d215d34-c64f-4d8c-b930-de2a0c5cd4a1",
   "metadata": {},
   "source": [
    "### データに対して、次の日の終値を予測してみる。"
   ]
  },
  {
   "cell_type": "code",
   "execution_count": 35,
   "id": "94675cda-acd2-4524-af89-5640ebd1282f",
   "metadata": {},
   "outputs": [
    {
     "data": {
      "text/html": [
       "<div>\n",
       "<style scoped>\n",
       "    .dataframe tbody tr th:only-of-type {\n",
       "        vertical-align: middle;\n",
       "    }\n",
       "\n",
       "    .dataframe tbody tr th {\n",
       "        vertical-align: top;\n",
       "    }\n",
       "\n",
       "    .dataframe thead th {\n",
       "        text-align: right;\n",
       "    }\n",
       "</style>\n",
       "<table border=\"1\" class=\"dataframe\">\n",
       "  <thead>\n",
       "    <tr style=\"text-align: right;\">\n",
       "      <th></th>\n",
       "      <th>High</th>\n",
       "      <th>Low</th>\n",
       "      <th>Open</th>\n",
       "      <th>Close</th>\n",
       "      <th>Up</th>\n",
       "      <th>Close_ratio</th>\n",
       "      <th>Body</th>\n",
       "    </tr>\n",
       "    <tr>\n",
       "      <th>Date</th>\n",
       "      <th></th>\n",
       "      <th></th>\n",
       "      <th></th>\n",
       "      <th></th>\n",
       "      <th></th>\n",
       "      <th></th>\n",
       "      <th></th>\n",
       "    </tr>\n",
       "  </thead>\n",
       "  <tbody>\n",
       "    <tr>\n",
       "      <th>2021-10-15</th>\n",
       "      <td>2.695851e+06</td>\n",
       "      <td>2.675507e+06</td>\n",
       "      <td>2.691178e+06</td>\n",
       "      <td>2.684855e+06</td>\n",
       "      <td>0.0</td>\n",
       "      <td>NaN</td>\n",
       "      <td>6323.242188</td>\n",
       "    </tr>\n",
       "    <tr>\n",
       "      <th>2021-10-18</th>\n",
       "      <td>2.707705e+06</td>\n",
       "      <td>2.689472e+06</td>\n",
       "      <td>2.693348e+06</td>\n",
       "      <td>2.702436e+06</td>\n",
       "      <td>0.0</td>\n",
       "      <td>NaN</td>\n",
       "      <td>-9087.221680</td>\n",
       "    </tr>\n",
       "    <tr>\n",
       "      <th>2021-10-19</th>\n",
       "      <td>2.727743e+06</td>\n",
       "      <td>2.703065e+06</td>\n",
       "      <td>2.718200e+06</td>\n",
       "      <td>2.706138e+06</td>\n",
       "      <td>0.0</td>\n",
       "      <td>NaN</td>\n",
       "      <td>12061.855469</td>\n",
       "    </tr>\n",
       "    <tr>\n",
       "      <th>2021-10-20</th>\n",
       "      <td>2.702926e+06</td>\n",
       "      <td>2.658233e+06</td>\n",
       "      <td>2.696628e+06</td>\n",
       "      <td>2.663157e+06</td>\n",
       "      <td>0.0</td>\n",
       "      <td>NaN</td>\n",
       "      <td>33471.088867</td>\n",
       "    </tr>\n",
       "    <tr>\n",
       "      <th>2021-10-21</th>\n",
       "      <td>NaN</td>\n",
       "      <td>NaN</td>\n",
       "      <td>NaN</td>\n",
       "      <td>NaN</td>\n",
       "      <td>NaN</td>\n",
       "      <td>NaN</td>\n",
       "      <td>NaN</td>\n",
       "    </tr>\n",
       "  </tbody>\n",
       "</table>\n",
       "</div>"
      ],
      "text/plain": [
       "                    High           Low          Open         Close   Up  \\\n",
       "Date                                                                      \n",
       "2021-10-15  2.695851e+06  2.675507e+06  2.691178e+06  2.684855e+06  0.0   \n",
       "2021-10-18  2.707705e+06  2.689472e+06  2.693348e+06  2.702436e+06  0.0   \n",
       "2021-10-19  2.727743e+06  2.703065e+06  2.718200e+06  2.706138e+06  0.0   \n",
       "2021-10-20  2.702926e+06  2.658233e+06  2.696628e+06  2.663157e+06  0.0   \n",
       "2021-10-21           NaN           NaN           NaN           NaN  NaN   \n",
       "\n",
       "            Close_ratio          Body  \n",
       "Date                                   \n",
       "2021-10-15          NaN   6323.242188  \n",
       "2021-10-18          NaN  -9087.221680  \n",
       "2021-10-19          NaN  12061.855469  \n",
       "2021-10-20          NaN  33471.088867  \n",
       "2021-10-21          NaN           NaN  "
      ]
     },
     "execution_count": 35,
     "metadata": {},
     "output_type": "execute_result"
    }
   ],
   "source": [
    "df_shift_1days=df.shift(-1)\n",
    "df_shift_1days.tail(5)"
   ]
  },
  {
   "cell_type": "code",
   "execution_count": 36,
   "id": "82507296-ced2-4f2b-a8ae-a2725739a6c2",
   "metadata": {},
   "outputs": [
    {
     "data": {
      "text/html": [
       "<div>\n",
       "<style scoped>\n",
       "    .dataframe tbody tr th:only-of-type {\n",
       "        vertical-align: middle;\n",
       "    }\n",
       "\n",
       "    .dataframe tbody tr th {\n",
       "        vertical-align: top;\n",
       "    }\n",
       "\n",
       "    .dataframe thead th {\n",
       "        text-align: right;\n",
       "    }\n",
       "</style>\n",
       "<table border=\"1\" class=\"dataframe\">\n",
       "  <thead>\n",
       "    <tr style=\"text-align: right;\">\n",
       "      <th></th>\n",
       "      <th>High</th>\n",
       "      <th>Low</th>\n",
       "      <th>Open</th>\n",
       "      <th>Close</th>\n",
       "      <th>Up</th>\n",
       "      <th>Close_ratio</th>\n",
       "      <th>Body</th>\n",
       "      <th>delta_Close</th>\n",
       "    </tr>\n",
       "    <tr>\n",
       "      <th>Date</th>\n",
       "      <th></th>\n",
       "      <th></th>\n",
       "      <th></th>\n",
       "      <th></th>\n",
       "      <th></th>\n",
       "      <th></th>\n",
       "      <th></th>\n",
       "      <th></th>\n",
       "    </tr>\n",
       "  </thead>\n",
       "  <tbody>\n",
       "    <tr>\n",
       "      <th>2021-10-15</th>\n",
       "      <td>2.690117e+06</td>\n",
       "      <td>2.657175e+06</td>\n",
       "      <td>2.662822e+06</td>\n",
       "      <td>2.688848e+06</td>\n",
       "      <td>0</td>\n",
       "      <td>NaN</td>\n",
       "      <td>-26026.826172</td>\n",
       "      <td>-3993.217773</td>\n",
       "    </tr>\n",
       "    <tr>\n",
       "      <th>2021-10-18</th>\n",
       "      <td>2.695851e+06</td>\n",
       "      <td>2.675507e+06</td>\n",
       "      <td>2.691178e+06</td>\n",
       "      <td>2.684855e+06</td>\n",
       "      <td>0</td>\n",
       "      <td>NaN</td>\n",
       "      <td>6323.242188</td>\n",
       "      <td>17580.419922</td>\n",
       "    </tr>\n",
       "    <tr>\n",
       "      <th>2021-10-19</th>\n",
       "      <td>2.707705e+06</td>\n",
       "      <td>2.689472e+06</td>\n",
       "      <td>2.693348e+06</td>\n",
       "      <td>2.702436e+06</td>\n",
       "      <td>0</td>\n",
       "      <td>NaN</td>\n",
       "      <td>-9087.221680</td>\n",
       "      <td>3702.890625</td>\n",
       "    </tr>\n",
       "    <tr>\n",
       "      <th>2021-10-20</th>\n",
       "      <td>2.727743e+06</td>\n",
       "      <td>2.703065e+06</td>\n",
       "      <td>2.718200e+06</td>\n",
       "      <td>2.706138e+06</td>\n",
       "      <td>0</td>\n",
       "      <td>NaN</td>\n",
       "      <td>12061.855469</td>\n",
       "      <td>-42981.064453</td>\n",
       "    </tr>\n",
       "    <tr>\n",
       "      <th>2021-10-21</th>\n",
       "      <td>2.702926e+06</td>\n",
       "      <td>2.658233e+06</td>\n",
       "      <td>2.696628e+06</td>\n",
       "      <td>2.663157e+06</td>\n",
       "      <td>0</td>\n",
       "      <td>NaN</td>\n",
       "      <td>33471.088867</td>\n",
       "      <td>NaN</td>\n",
       "    </tr>\n",
       "  </tbody>\n",
       "</table>\n",
       "</div>"
      ],
      "text/plain": [
       "                    High           Low          Open         Close  Up  \\\n",
       "Date                                                                     \n",
       "2021-10-15  2.690117e+06  2.657175e+06  2.662822e+06  2.688848e+06   0   \n",
       "2021-10-18  2.695851e+06  2.675507e+06  2.691178e+06  2.684855e+06   0   \n",
       "2021-10-19  2.707705e+06  2.689472e+06  2.693348e+06  2.702436e+06   0   \n",
       "2021-10-20  2.727743e+06  2.703065e+06  2.718200e+06  2.706138e+06   0   \n",
       "2021-10-21  2.702926e+06  2.658233e+06  2.696628e+06  2.663157e+06   0   \n",
       "\n",
       "            Close_ratio          Body   delta_Close  \n",
       "Date                                                 \n",
       "2021-10-15          NaN -26026.826172  -3993.217773  \n",
       "2021-10-18          NaN   6323.242188  17580.419922  \n",
       "2021-10-19          NaN  -9087.221680   3702.890625  \n",
       "2021-10-20          NaN  12061.855469 -42981.064453  \n",
       "2021-10-21          NaN  33471.088867           NaN  "
      ]
     },
     "execution_count": 36,
     "metadata": {},
     "output_type": "execute_result"
    }
   ],
   "source": [
    "#現在のデータから30日後のデータが上がっているか、下がっているかのカラムを追加\n",
    "df['delta_Close']=df_shift_1days['Close']-df['Close']\n",
    "df.tail(5)"
   ]
  },
  {
   "cell_type": "code",
   "execution_count": 37,
   "id": "1d77aa5d-7c67-46c9-9c87-35e16e943a0e",
   "metadata": {},
   "outputs": [
    {
     "name": "stderr",
     "output_type": "stream",
     "text": [
      "C:\\Users\\Tsubasa\\AppData\\Local\\Temp\\ipykernel_124340\\100578999.py:2: SettingWithCopyWarning: \n",
      "A value is trying to be set on a copy of a slice from a DataFrame\n",
      "\n",
      "See the caveats in the documentation: https://pandas.pydata.org/pandas-docs/stable/user_guide/indexing.html#returning-a-view-versus-a-copy\n",
      "  df['Up'][df['delta_Close']>0]=1\n"
     ]
    },
    {
     "data": {
      "text/html": [
       "<div>\n",
       "<style scoped>\n",
       "    .dataframe tbody tr th:only-of-type {\n",
       "        vertical-align: middle;\n",
       "    }\n",
       "\n",
       "    .dataframe tbody tr th {\n",
       "        vertical-align: top;\n",
       "    }\n",
       "\n",
       "    .dataframe thead th {\n",
       "        text-align: right;\n",
       "    }\n",
       "</style>\n",
       "<table border=\"1\" class=\"dataframe\">\n",
       "  <thead>\n",
       "    <tr style=\"text-align: right;\">\n",
       "      <th></th>\n",
       "      <th>High</th>\n",
       "      <th>Low</th>\n",
       "      <th>Open</th>\n",
       "      <th>Close</th>\n",
       "      <th>Up</th>\n",
       "      <th>Close_ratio</th>\n",
       "      <th>Body</th>\n",
       "    </tr>\n",
       "    <tr>\n",
       "      <th>Date</th>\n",
       "      <th></th>\n",
       "      <th></th>\n",
       "      <th></th>\n",
       "      <th></th>\n",
       "      <th></th>\n",
       "      <th></th>\n",
       "      <th></th>\n",
       "    </tr>\n",
       "  </thead>\n",
       "  <tbody>\n",
       "    <tr>\n",
       "      <th>2021-10-08</th>\n",
       "      <td>2.619725e+06</td>\n",
       "      <td>2.591747e+06</td>\n",
       "      <td>2.592902e+06</td>\n",
       "      <td>2.594527e+06</td>\n",
       "      <td>1</td>\n",
       "      <td>-0.039930</td>\n",
       "      <td>-1625.253906</td>\n",
       "    </tr>\n",
       "    <tr>\n",
       "      <th>2021-10-11</th>\n",
       "      <td>2.643776e+06</td>\n",
       "      <td>2.580132e+06</td>\n",
       "      <td>2.587925e+06</td>\n",
       "      <td>2.636083e+06</td>\n",
       "      <td>0</td>\n",
       "      <td>-0.025887</td>\n",
       "      <td>-48158.173828</td>\n",
       "    </tr>\n",
       "    <tr>\n",
       "      <th>2021-10-12</th>\n",
       "      <td>2.633371e+06</td>\n",
       "      <td>2.605390e+06</td>\n",
       "      <td>2.632446e+06</td>\n",
       "      <td>2.611331e+06</td>\n",
       "      <td>0</td>\n",
       "      <td>-0.019460</td>\n",
       "      <td>21115.112305</td>\n",
       "    </tr>\n",
       "    <tr>\n",
       "      <th>2021-10-13</th>\n",
       "      <td>2.623762e+06</td>\n",
       "      <td>2.589395e+06</td>\n",
       "      <td>2.597903e+06</td>\n",
       "      <td>2.602976e+06</td>\n",
       "      <td>1</td>\n",
       "      <td>NaN</td>\n",
       "      <td>-5072.685547</td>\n",
       "    </tr>\n",
       "    <tr>\n",
       "      <th>2021-10-14</th>\n",
       "      <td>2.643343e+06</td>\n",
       "      <td>2.611646e+06</td>\n",
       "      <td>2.614458e+06</td>\n",
       "      <td>2.640961e+06</td>\n",
       "      <td>1</td>\n",
       "      <td>NaN</td>\n",
       "      <td>-26503.056641</td>\n",
       "    </tr>\n",
       "    <tr>\n",
       "      <th>2021-10-15</th>\n",
       "      <td>2.690117e+06</td>\n",
       "      <td>2.657175e+06</td>\n",
       "      <td>2.662822e+06</td>\n",
       "      <td>2.688848e+06</td>\n",
       "      <td>0</td>\n",
       "      <td>NaN</td>\n",
       "      <td>-26026.826172</td>\n",
       "    </tr>\n",
       "    <tr>\n",
       "      <th>2021-10-18</th>\n",
       "      <td>2.695851e+06</td>\n",
       "      <td>2.675507e+06</td>\n",
       "      <td>2.691178e+06</td>\n",
       "      <td>2.684855e+06</td>\n",
       "      <td>1</td>\n",
       "      <td>NaN</td>\n",
       "      <td>6323.242188</td>\n",
       "    </tr>\n",
       "    <tr>\n",
       "      <th>2021-10-19</th>\n",
       "      <td>2.707705e+06</td>\n",
       "      <td>2.689472e+06</td>\n",
       "      <td>2.693348e+06</td>\n",
       "      <td>2.702436e+06</td>\n",
       "      <td>1</td>\n",
       "      <td>NaN</td>\n",
       "      <td>-9087.221680</td>\n",
       "    </tr>\n",
       "    <tr>\n",
       "      <th>2021-10-20</th>\n",
       "      <td>2.727743e+06</td>\n",
       "      <td>2.703065e+06</td>\n",
       "      <td>2.718200e+06</td>\n",
       "      <td>2.706138e+06</td>\n",
       "      <td>0</td>\n",
       "      <td>NaN</td>\n",
       "      <td>12061.855469</td>\n",
       "    </tr>\n",
       "    <tr>\n",
       "      <th>2021-10-21</th>\n",
       "      <td>2.702926e+06</td>\n",
       "      <td>2.658233e+06</td>\n",
       "      <td>2.696628e+06</td>\n",
       "      <td>2.663157e+06</td>\n",
       "      <td>0</td>\n",
       "      <td>NaN</td>\n",
       "      <td>33471.088867</td>\n",
       "    </tr>\n",
       "  </tbody>\n",
       "</table>\n",
       "</div>"
      ],
      "text/plain": [
       "                    High           Low          Open         Close  Up  \\\n",
       "Date                                                                     \n",
       "2021-10-08  2.619725e+06  2.591747e+06  2.592902e+06  2.594527e+06   1   \n",
       "2021-10-11  2.643776e+06  2.580132e+06  2.587925e+06  2.636083e+06   0   \n",
       "2021-10-12  2.633371e+06  2.605390e+06  2.632446e+06  2.611331e+06   0   \n",
       "2021-10-13  2.623762e+06  2.589395e+06  2.597903e+06  2.602976e+06   1   \n",
       "2021-10-14  2.643343e+06  2.611646e+06  2.614458e+06  2.640961e+06   1   \n",
       "2021-10-15  2.690117e+06  2.657175e+06  2.662822e+06  2.688848e+06   0   \n",
       "2021-10-18  2.695851e+06  2.675507e+06  2.691178e+06  2.684855e+06   1   \n",
       "2021-10-19  2.707705e+06  2.689472e+06  2.693348e+06  2.702436e+06   1   \n",
       "2021-10-20  2.727743e+06  2.703065e+06  2.718200e+06  2.706138e+06   0   \n",
       "2021-10-21  2.702926e+06  2.658233e+06  2.696628e+06  2.663157e+06   0   \n",
       "\n",
       "            Close_ratio          Body  \n",
       "Date                                   \n",
       "2021-10-08    -0.039930  -1625.253906  \n",
       "2021-10-11    -0.025887 -48158.173828  \n",
       "2021-10-12    -0.019460  21115.112305  \n",
       "2021-10-13          NaN  -5072.685547  \n",
       "2021-10-14          NaN -26503.056641  \n",
       "2021-10-15          NaN -26026.826172  \n",
       "2021-10-18          NaN   6323.242188  \n",
       "2021-10-19          NaN  -9087.221680  \n",
       "2021-10-20          NaN  12061.855469  \n",
       "2021-10-21          NaN  33471.088867  "
      ]
     },
     "execution_count": 37,
     "metadata": {},
     "output_type": "execute_result"
    }
   ],
   "source": [
    "df['Up']=0\n",
    "df['Up'][df['delta_Close']>0]=1\n",
    "df=df.drop('delta_Close',axis=1)\n",
    "df.tail(10)"
   ]
  },
  {
   "cell_type": "markdown",
   "id": "a68a75d5-79c5-41dd-99dc-8250e1d10f12",
   "metadata": {},
   "source": [
    "## 特徴量の追加  \n",
    "*  終値の前日比率  \n",
    "*  始値・終値の差分"
   ]
  },
  {
   "cell_type": "code",
   "execution_count": 38,
   "id": "99155241-2b40-40a6-84da-004613eece89",
   "metadata": {},
   "outputs": [
    {
     "data": {
      "text/html": [
       "<div>\n",
       "<style scoped>\n",
       "    .dataframe tbody tr th:only-of-type {\n",
       "        vertical-align: middle;\n",
       "    }\n",
       "\n",
       "    .dataframe tbody tr th {\n",
       "        vertical-align: top;\n",
       "    }\n",
       "\n",
       "    .dataframe thead th {\n",
       "        text-align: right;\n",
       "    }\n",
       "</style>\n",
       "<table border=\"1\" class=\"dataframe\">\n",
       "  <thead>\n",
       "    <tr style=\"text-align: right;\">\n",
       "      <th></th>\n",
       "      <th>High</th>\n",
       "      <th>Low</th>\n",
       "      <th>Open</th>\n",
       "      <th>Close</th>\n",
       "      <th>Up</th>\n",
       "      <th>Close_ratio</th>\n",
       "      <th>Body</th>\n",
       "    </tr>\n",
       "    <tr>\n",
       "      <th>Date</th>\n",
       "      <th></th>\n",
       "      <th></th>\n",
       "      <th></th>\n",
       "      <th></th>\n",
       "      <th></th>\n",
       "      <th></th>\n",
       "      <th></th>\n",
       "    </tr>\n",
       "  </thead>\n",
       "  <tbody>\n",
       "    <tr>\n",
       "      <th>1965-01-05</th>\n",
       "      <td>116339.097290</td>\n",
       "      <td>116339.097290</td>\n",
       "      <td>116339.097290</td>\n",
       "      <td>116339.097290</td>\n",
       "      <td>1</td>\n",
       "      <td>-0.004960</td>\n",
       "      <td>0.0</td>\n",
       "    </tr>\n",
       "    <tr>\n",
       "      <th>1965-01-06</th>\n",
       "      <td>116919.074097</td>\n",
       "      <td>116919.074097</td>\n",
       "      <td>116919.074097</td>\n",
       "      <td>116919.074097</td>\n",
       "      <td>1</td>\n",
       "      <td>-0.008067</td>\n",
       "      <td>0.0</td>\n",
       "    </tr>\n",
       "    <tr>\n",
       "      <th>1965-01-07</th>\n",
       "      <td>117869.976807</td>\n",
       "      <td>117869.976807</td>\n",
       "      <td>117869.976807</td>\n",
       "      <td>117869.976807</td>\n",
       "      <td>1</td>\n",
       "      <td>-0.009453</td>\n",
       "      <td>0.0</td>\n",
       "    </tr>\n",
       "    <tr>\n",
       "      <th>1965-01-08</th>\n",
       "      <td>118994.779968</td>\n",
       "      <td>118994.779968</td>\n",
       "      <td>118994.779968</td>\n",
       "      <td>118994.779968</td>\n",
       "      <td>1</td>\n",
       "      <td>-0.001638</td>\n",
       "      <td>0.0</td>\n",
       "    </tr>\n",
       "    <tr>\n",
       "      <th>1965-01-12</th>\n",
       "      <td>119189.953613</td>\n",
       "      <td>119189.953613</td>\n",
       "      <td>119189.953613</td>\n",
       "      <td>119189.953613</td>\n",
       "      <td>0</td>\n",
       "      <td>0.005360</td>\n",
       "      <td>0.0</td>\n",
       "    </tr>\n",
       "  </tbody>\n",
       "</table>\n",
       "</div>"
      ],
      "text/plain": [
       "                     High            Low           Open          Close  Up  \\\n",
       "Date                                                                         \n",
       "1965-01-05  116339.097290  116339.097290  116339.097290  116339.097290   1   \n",
       "1965-01-06  116919.074097  116919.074097  116919.074097  116919.074097   1   \n",
       "1965-01-07  117869.976807  117869.976807  117869.976807  117869.976807   1   \n",
       "1965-01-08  118994.779968  118994.779968  118994.779968  118994.779968   1   \n",
       "1965-01-12  119189.953613  119189.953613  119189.953613  119189.953613   0   \n",
       "\n",
       "            Close_ratio  Body  \n",
       "Date                           \n",
       "1965-01-05    -0.004960   0.0  \n",
       "1965-01-06    -0.008067   0.0  \n",
       "1965-01-07    -0.009453   0.0  \n",
       "1965-01-08    -0.001638   0.0  \n",
       "1965-01-12     0.005360   0.0  "
      ]
     },
     "execution_count": 38,
     "metadata": {},
     "output_type": "execute_result"
    }
   ],
   "source": [
    "\n",
    "df['Close_ratio']=(df['Close']-df_shift_1days['Close'])/df_shift_1days['Close']\n",
    "df.head()"
   ]
  },
  {
   "cell_type": "code",
   "execution_count": 39,
   "id": "db86d5f3-39d7-4da8-8ea7-3ecd1382fa96",
   "metadata": {},
   "outputs": [
    {
     "data": {
      "text/html": [
       "<div>\n",
       "<style scoped>\n",
       "    .dataframe tbody tr th:only-of-type {\n",
       "        vertical-align: middle;\n",
       "    }\n",
       "\n",
       "    .dataframe tbody tr th {\n",
       "        vertical-align: top;\n",
       "    }\n",
       "\n",
       "    .dataframe thead th {\n",
       "        text-align: right;\n",
       "    }\n",
       "</style>\n",
       "<table border=\"1\" class=\"dataframe\">\n",
       "  <thead>\n",
       "    <tr style=\"text-align: right;\">\n",
       "      <th></th>\n",
       "      <th>High</th>\n",
       "      <th>Low</th>\n",
       "      <th>Open</th>\n",
       "      <th>Close</th>\n",
       "      <th>Up</th>\n",
       "      <th>Close_ratio</th>\n",
       "      <th>Body</th>\n",
       "    </tr>\n",
       "    <tr>\n",
       "      <th>Date</th>\n",
       "      <th></th>\n",
       "      <th></th>\n",
       "      <th></th>\n",
       "      <th></th>\n",
       "      <th></th>\n",
       "      <th></th>\n",
       "      <th></th>\n",
       "    </tr>\n",
       "  </thead>\n",
       "  <tbody>\n",
       "    <tr>\n",
       "      <th>2021-10-15</th>\n",
       "      <td>2.690117e+06</td>\n",
       "      <td>2.657175e+06</td>\n",
       "      <td>2.662822e+06</td>\n",
       "      <td>2.688848e+06</td>\n",
       "      <td>0</td>\n",
       "      <td>0.001487</td>\n",
       "      <td>-26026.826172</td>\n",
       "    </tr>\n",
       "    <tr>\n",
       "      <th>2021-10-18</th>\n",
       "      <td>2.695851e+06</td>\n",
       "      <td>2.675507e+06</td>\n",
       "      <td>2.691178e+06</td>\n",
       "      <td>2.684855e+06</td>\n",
       "      <td>1</td>\n",
       "      <td>-0.006505</td>\n",
       "      <td>6323.242188</td>\n",
       "    </tr>\n",
       "    <tr>\n",
       "      <th>2021-10-19</th>\n",
       "      <td>2.707705e+06</td>\n",
       "      <td>2.689472e+06</td>\n",
       "      <td>2.693348e+06</td>\n",
       "      <td>2.702436e+06</td>\n",
       "      <td>1</td>\n",
       "      <td>-0.001368</td>\n",
       "      <td>-9087.221680</td>\n",
       "    </tr>\n",
       "    <tr>\n",
       "      <th>2021-10-20</th>\n",
       "      <td>2.727743e+06</td>\n",
       "      <td>2.703065e+06</td>\n",
       "      <td>2.718200e+06</td>\n",
       "      <td>2.706138e+06</td>\n",
       "      <td>0</td>\n",
       "      <td>0.016139</td>\n",
       "      <td>12061.855469</td>\n",
       "    </tr>\n",
       "    <tr>\n",
       "      <th>2021-10-21</th>\n",
       "      <td>2.702926e+06</td>\n",
       "      <td>2.658233e+06</td>\n",
       "      <td>2.696628e+06</td>\n",
       "      <td>2.663157e+06</td>\n",
       "      <td>0</td>\n",
       "      <td>NaN</td>\n",
       "      <td>33471.088867</td>\n",
       "    </tr>\n",
       "  </tbody>\n",
       "</table>\n",
       "</div>"
      ],
      "text/plain": [
       "                    High           Low          Open         Close  Up  \\\n",
       "Date                                                                     \n",
       "2021-10-15  2.690117e+06  2.657175e+06  2.662822e+06  2.688848e+06   0   \n",
       "2021-10-18  2.695851e+06  2.675507e+06  2.691178e+06  2.684855e+06   1   \n",
       "2021-10-19  2.707705e+06  2.689472e+06  2.693348e+06  2.702436e+06   1   \n",
       "2021-10-20  2.727743e+06  2.703065e+06  2.718200e+06  2.706138e+06   0   \n",
       "2021-10-21  2.702926e+06  2.658233e+06  2.696628e+06  2.663157e+06   0   \n",
       "\n",
       "            Close_ratio          Body  \n",
       "Date                                   \n",
       "2021-10-15     0.001487 -26026.826172  \n",
       "2021-10-18    -0.006505   6323.242188  \n",
       "2021-10-19    -0.001368  -9087.221680  \n",
       "2021-10-20     0.016139  12061.855469  \n",
       "2021-10-21          NaN  33471.088867  "
      ]
     },
     "execution_count": 39,
     "metadata": {},
     "output_type": "execute_result"
    }
   ],
   "source": [
    "#始値と終値の差分を追加。\n",
    "df['Body']=df['Open']-df['Close']\n",
    "df.tail()"
   ]
  },
  {
   "cell_type": "markdown",
   "id": "1af2f0ab-a217-49be-9cb7-3401b8a21c63",
   "metadata": {},
   "source": [
    "### 学習データと検証データに分割"
   ]
  },
  {
   "cell_type": "code",
   "execution_count": 40,
   "id": "c75f3aa7-f203-4acd-b835-3c506a71af4d",
   "metadata": {},
   "outputs": [
    {
     "data": {
      "text/html": [
       "<div>\n",
       "<style scoped>\n",
       "    .dataframe tbody tr th:only-of-type {\n",
       "        vertical-align: middle;\n",
       "    }\n",
       "\n",
       "    .dataframe tbody tr th {\n",
       "        vertical-align: top;\n",
       "    }\n",
       "\n",
       "    .dataframe thead th {\n",
       "        text-align: right;\n",
       "    }\n",
       "</style>\n",
       "<table border=\"1\" class=\"dataframe\">\n",
       "  <thead>\n",
       "    <tr style=\"text-align: right;\">\n",
       "      <th></th>\n",
       "      <th>High</th>\n",
       "      <th>Low</th>\n",
       "      <th>Open</th>\n",
       "      <th>Close</th>\n",
       "      <th>Up</th>\n",
       "      <th>Close_ratio</th>\n",
       "      <th>Body</th>\n",
       "    </tr>\n",
       "    <tr>\n",
       "      <th>Date</th>\n",
       "      <th></th>\n",
       "      <th></th>\n",
       "      <th></th>\n",
       "      <th></th>\n",
       "      <th></th>\n",
       "      <th></th>\n",
       "      <th></th>\n",
       "    </tr>\n",
       "  </thead>\n",
       "  <tbody>\n",
       "    <tr>\n",
       "      <th>2020-12-24</th>\n",
       "      <td>2.475719e+06</td>\n",
       "      <td>2.460987e+06</td>\n",
       "      <td>2.463748e+06</td>\n",
       "      <td>2.466822e+06</td>\n",
       "      <td>0</td>\n",
       "      <td>0.000440</td>\n",
       "      <td>-3074.721680</td>\n",
       "    </tr>\n",
       "    <tr>\n",
       "      <th>2020-12-25</th>\n",
       "      <td>2.471286e+06</td>\n",
       "      <td>2.464041e+06</td>\n",
       "      <td>2.470499e+06</td>\n",
       "      <td>2.465736e+06</td>\n",
       "      <td>1</td>\n",
       "      <td>-0.007352</td>\n",
       "      <td>4762.846680</td>\n",
       "    </tr>\n",
       "    <tr>\n",
       "      <th>2020-12-28</th>\n",
       "      <td>2.483998e+06</td>\n",
       "      <td>2.466475e+06</td>\n",
       "      <td>2.468944e+06</td>\n",
       "      <td>2.483998e+06</td>\n",
       "      <td>1</td>\n",
       "      <td>-0.025904</td>\n",
       "      <td>-15053.471680</td>\n",
       "    </tr>\n",
       "    <tr>\n",
       "      <th>2020-12-29</th>\n",
       "      <td>2.553233e+06</td>\n",
       "      <td>2.490206e+06</td>\n",
       "      <td>2.491615e+06</td>\n",
       "      <td>2.550054e+06</td>\n",
       "      <td>0</td>\n",
       "      <td>0.004518</td>\n",
       "      <td>-58438.681641</td>\n",
       "    </tr>\n",
       "    <tr>\n",
       "      <th>2020-12-30</th>\n",
       "      <td>2.550463e+06</td>\n",
       "      <td>2.528817e+06</td>\n",
       "      <td>2.549217e+06</td>\n",
       "      <td>2.538586e+06</td>\n",
       "      <td>0</td>\n",
       "      <td>0.006816</td>\n",
       "      <td>10630.996094</td>\n",
       "    </tr>\n",
       "  </tbody>\n",
       "</table>\n",
       "</div>"
      ],
      "text/plain": [
       "                    High           Low          Open         Close  Up  \\\n",
       "Date                                                                     \n",
       "2020-12-24  2.475719e+06  2.460987e+06  2.463748e+06  2.466822e+06   0   \n",
       "2020-12-25  2.471286e+06  2.464041e+06  2.470499e+06  2.465736e+06   1   \n",
       "2020-12-28  2.483998e+06  2.466475e+06  2.468944e+06  2.483998e+06   1   \n",
       "2020-12-29  2.553233e+06  2.490206e+06  2.491615e+06  2.550054e+06   0   \n",
       "2020-12-30  2.550463e+06  2.528817e+06  2.549217e+06  2.538586e+06   0   \n",
       "\n",
       "            Close_ratio          Body  \n",
       "Date                                   \n",
       "2020-12-24     0.000440  -3074.721680  \n",
       "2020-12-25    -0.007352   4762.846680  \n",
       "2020-12-28    -0.025904 -15053.471680  \n",
       "2020-12-29     0.004518 -58438.681641  \n",
       "2020-12-30     0.006816  10630.996094  "
      ]
     },
     "execution_count": 40,
     "metadata": {},
     "output_type": "execute_result"
    }
   ],
   "source": [
    "df_train=df['1965-01-05':'2020-12-31']\n",
    "df_train.tail()"
   ]
  },
  {
   "cell_type": "code",
   "execution_count": 41,
   "id": "c533f35b-2ca7-4753-bc0e-296095888310",
   "metadata": {},
   "outputs": [
    {
     "data": {
      "text/html": [
       "<div>\n",
       "<style scoped>\n",
       "    .dataframe tbody tr th:only-of-type {\n",
       "        vertical-align: middle;\n",
       "    }\n",
       "\n",
       "    .dataframe tbody tr th {\n",
       "        vertical-align: top;\n",
       "    }\n",
       "\n",
       "    .dataframe thead th {\n",
       "        text-align: right;\n",
       "    }\n",
       "</style>\n",
       "<table border=\"1\" class=\"dataframe\">\n",
       "  <thead>\n",
       "    <tr style=\"text-align: right;\">\n",
       "      <th></th>\n",
       "      <th>High</th>\n",
       "      <th>Low</th>\n",
       "      <th>Open</th>\n",
       "      <th>Close</th>\n",
       "      <th>Up</th>\n",
       "      <th>Close_ratio</th>\n",
       "      <th>Body</th>\n",
       "    </tr>\n",
       "    <tr>\n",
       "      <th>Date</th>\n",
       "      <th></th>\n",
       "      <th></th>\n",
       "      <th></th>\n",
       "      <th></th>\n",
       "      <th></th>\n",
       "      <th></th>\n",
       "      <th></th>\n",
       "    </tr>\n",
       "  </thead>\n",
       "  <tbody>\n",
       "    <tr>\n",
       "      <th>2021-10-15</th>\n",
       "      <td>2.690117e+06</td>\n",
       "      <td>2.657175e+06</td>\n",
       "      <td>2.662822e+06</td>\n",
       "      <td>2.688848e+06</td>\n",
       "      <td>0</td>\n",
       "      <td>0.001487</td>\n",
       "      <td>-26026.826172</td>\n",
       "    </tr>\n",
       "    <tr>\n",
       "      <th>2021-10-18</th>\n",
       "      <td>2.695851e+06</td>\n",
       "      <td>2.675507e+06</td>\n",
       "      <td>2.691178e+06</td>\n",
       "      <td>2.684855e+06</td>\n",
       "      <td>1</td>\n",
       "      <td>-0.006505</td>\n",
       "      <td>6323.242188</td>\n",
       "    </tr>\n",
       "    <tr>\n",
       "      <th>2021-10-19</th>\n",
       "      <td>2.707705e+06</td>\n",
       "      <td>2.689472e+06</td>\n",
       "      <td>2.693348e+06</td>\n",
       "      <td>2.702436e+06</td>\n",
       "      <td>1</td>\n",
       "      <td>-0.001368</td>\n",
       "      <td>-9087.221680</td>\n",
       "    </tr>\n",
       "    <tr>\n",
       "      <th>2021-10-20</th>\n",
       "      <td>2.727743e+06</td>\n",
       "      <td>2.703065e+06</td>\n",
       "      <td>2.718200e+06</td>\n",
       "      <td>2.706138e+06</td>\n",
       "      <td>0</td>\n",
       "      <td>0.016139</td>\n",
       "      <td>12061.855469</td>\n",
       "    </tr>\n",
       "    <tr>\n",
       "      <th>2021-10-21</th>\n",
       "      <td>2.702926e+06</td>\n",
       "      <td>2.658233e+06</td>\n",
       "      <td>2.696628e+06</td>\n",
       "      <td>2.663157e+06</td>\n",
       "      <td>0</td>\n",
       "      <td>NaN</td>\n",
       "      <td>33471.088867</td>\n",
       "    </tr>\n",
       "  </tbody>\n",
       "</table>\n",
       "</div>"
      ],
      "text/plain": [
       "                    High           Low          Open         Close  Up  \\\n",
       "Date                                                                     \n",
       "2021-10-15  2.690117e+06  2.657175e+06  2.662822e+06  2.688848e+06   0   \n",
       "2021-10-18  2.695851e+06  2.675507e+06  2.691178e+06  2.684855e+06   1   \n",
       "2021-10-19  2.707705e+06  2.689472e+06  2.693348e+06  2.702436e+06   1   \n",
       "2021-10-20  2.727743e+06  2.703065e+06  2.718200e+06  2.706138e+06   0   \n",
       "2021-10-21  2.702926e+06  2.658233e+06  2.696628e+06  2.663157e+06   0   \n",
       "\n",
       "            Close_ratio          Body  \n",
       "Date                                   \n",
       "2021-10-15     0.001487 -26026.826172  \n",
       "2021-10-18    -0.006505   6323.242188  \n",
       "2021-10-19    -0.001368  -9087.221680  \n",
       "2021-10-20     0.016139  12061.855469  \n",
       "2021-10-21          NaN  33471.088867  "
      ]
     },
     "execution_count": 41,
     "metadata": {},
     "output_type": "execute_result"
    }
   ],
   "source": [
    "df_val=df['2021-01-01':]\n",
    "df_val.tail()"
   ]
  },
  {
   "cell_type": "code",
   "execution_count": 42,
   "id": "57006f25-c5fb-47f5-b07c-789de7fe0c6e",
   "metadata": {},
   "outputs": [],
   "source": [
    "x_train=df_train[['High','Low','Open','Close','Close_ratio','Body']]\n",
    "y_train=df_train['Up']"
   ]
  },
  {
   "cell_type": "code",
   "execution_count": 43,
   "id": "92c7de88-6ad6-48bd-8b7a-ccf748d2f3d3",
   "metadata": {},
   "outputs": [
    {
     "name": "stdout",
     "output_type": "stream",
     "text": [
      "                    High           Low          Open         Close  \\\n",
      "Date                                                                 \n",
      "2021-01-04  2.553195e+06  2.501415e+06  2.550740e+06  2.521400e+06   \n",
      "2021-01-05  2.523380e+06  2.504295e+06  2.511503e+06  2.512173e+06   \n",
      "2021-01-06  2.515667e+06  2.497702e+06  2.507014e+06  2.502674e+06   \n",
      "2021-01-07  2.555288e+06  2.528993e+06  2.528993e+06  2.542837e+06   \n",
      "2021-01-08  2.602860e+06  2.559267e+06  2.564113e+06  2.602860e+06   \n",
      "...                  ...           ...           ...           ...   \n",
      "2021-10-15  2.690117e+06  2.657175e+06  2.662822e+06  2.688848e+06   \n",
      "2021-10-18  2.695851e+06  2.675507e+06  2.691178e+06  2.684855e+06   \n",
      "2021-10-19  2.707705e+06  2.689472e+06  2.693348e+06  2.702436e+06   \n",
      "2021-10-20  2.727743e+06  2.703065e+06  2.718200e+06  2.706138e+06   \n",
      "2021-10-21  2.702926e+06  2.658233e+06  2.696628e+06  2.663157e+06   \n",
      "\n",
      "            Close_ratio          Body  \n",
      "Date                                   \n",
      "2021-01-04     0.003673  29340.024414  \n",
      "2021-01-05     0.003796   -670.625000  \n",
      "2021-01-06    -0.015794   4339.189453  \n",
      "2021-01-07    -0.023060 -13844.467773  \n",
      "2021-01-08    -0.000899 -38747.202148  \n",
      "...                 ...           ...  \n",
      "2021-10-15     0.001487 -26026.826172  \n",
      "2021-10-18    -0.006505   6323.242188  \n",
      "2021-10-19    -0.001368  -9087.221680  \n",
      "2021-10-20     0.016139  12061.855469  \n",
      "2021-10-21          NaN  33471.088867  \n",
      "\n",
      "[197 rows x 6 columns]\n"
     ]
    }
   ],
   "source": [
    "x_val=df_val[['High','Low','Open','Close','Close_ratio','Body']]\n",
    "y_val=df_val['Up']\n",
    "\n",
    "print(x_val)\n",
    "#print(y_val)"
   ]
  },
  {
   "cell_type": "code",
   "execution_count": 44,
   "id": "c41d2735-1cc1-46cd-9a3e-4ec02abf95bd",
   "metadata": {},
   "outputs": [
    {
     "data": {
      "image/png": "[encoded data removed]",
      "text/plain": [
       "<Figure size 432x288 with 1 Axes>"
      ]
     },
     "metadata": {
      "needs_background": "light"
     },
     "output_type": "display_data"
    }
   ],
   "source": [
    "x_train['Close'].plot(kind='line')\n",
    "x_val['Close'].plot(kind='line')\n",
    "\n",
    "plt.legend(['x_train','x_val'])\n",
    "\n",
    "plt.show()"
   ]
  },
  {
   "cell_type": "markdown",
   "id": "4005029c-7c9b-4461-af6f-6f115b2fc825",
   "metadata": {},
   "source": [
    "### データを整える"
   ]
  },
  {
   "cell_type": "code",
   "execution_count": 45,
   "id": "7bc15028-aff7-49bf-859d-92758716a191",
   "metadata": {},
   "outputs": [],
   "source": [
    "from sklearn.preprocessing import StandardScaler\n",
    "\n",
    "import numpy as np\n",
    "\n",
    "def std_to_np(df):\n",
    "    df_list=[]\n",
    "    df=np.array(df)\n",
    "    for i in range(0,len(df)-3,1):  #range(start,stop,step)\n",
    "        df_s=df[i:i+1]\n",
    "        scl=StandardScaler()\n",
    "        df_std=scl.fit_transform(df_s)\n",
    "        df_list.append(df_std)\n",
    "    return np.array(df_list)"
   ]
  },
  {
   "cell_type": "code",
   "execution_count": 46,
   "id": "d5f9bf1d-6ef7-47b2-889d-b96046ab58cb",
   "metadata": {},
   "outputs": [],
   "source": [
    "#!pip install tensorflow"
   ]
  },
  {
   "cell_type": "code",
   "execution_count": 47,
   "id": "60bd794c-cdd5-4adb-85a4-df076115caf4",
   "metadata": {},
   "outputs": [
    {
     "name": "stdout",
     "output_type": "stream",
     "text": [
      "(13767, 1, 6)\n",
      "(194, 1, 6)\n"
     ]
    }
   ],
   "source": [
    "x_train_np_array=std_to_np(x_train)\n",
    "x_val_np_array=std_to_np(x_val)\n",
    "\n",
    "print(x_train_np_array.shape)\n",
    "print(x_val_np_array.shape)"
   ]
  },
  {
   "cell_type": "code",
   "execution_count": 48,
   "id": "acc70c17-5f47-418a-9725-c13be5e27823",
   "metadata": {},
   "outputs": [
    {
     "data": {
      "text/plain": [
       "array([[[0., 0., 0., 0., 0., 0.]],\n",
       "\n",
       "       [[0., 0., 0., 0., 0., 0.]],\n",
       "\n",
       "       [[0., 0., 0., 0., 0., 0.]],\n",
       "\n",
       "       ...,\n",
       "\n",
       "       [[0., 0., 0., 0., 0., 0.]],\n",
       "\n",
       "       [[0., 0., 0., 0., 0., 0.]],\n",
       "\n",
       "       [[0., 0., 0., 0., 0., 0.]]])"
      ]
     },
     "execution_count": 48,
     "metadata": {},
     "output_type": "execute_result"
    }
   ],
   "source": [
    "x_train_np_array"
   ]
  },
  {
   "cell_type": "code",
   "execution_count": 49,
   "id": "08f21827-976c-431a-bddc-f30db3d003c2",
   "metadata": {},
   "outputs": [
    {
     "name": "stdout",
     "output_type": "stream",
     "text": [
      "(13770,)\n",
      "(197,)\n"
     ]
    }
   ],
   "source": [
    "print(y_train.shape)\n",
    "print(y_val.shape)"
   ]
  },
  {
   "cell_type": "code",
   "execution_count": 50,
   "id": "0071112f-a8e0-4f6d-a8b9-9378c29d259b",
   "metadata": {},
   "outputs": [
    {
     "name": "stdout",
     "output_type": "stream",
     "text": [
      "13767\n",
      "194\n"
     ]
    }
   ],
   "source": [
    "y_train_new=y_train[3::1]\n",
    "y_val_new=y_val[3::1]\n",
    "\n",
    "print(len(y_train_new))\n",
    "print(len(y_val_new))"
   ]
  },
  {
   "cell_type": "markdown",
   "id": "8de03218-91b7-4414-891f-a4ccbe2d852e",
   "metadata": {},
   "source": [
    "### 予測モデルの作成"
   ]
  },
  {
   "cell_type": "code",
   "execution_count": 51,
   "id": "e6777ce6-8e79-4d95-b02b-19bdd78564c3",
   "metadata": {},
   "outputs": [],
   "source": [
    "#!pip install tensorflow"
   ]
  },
  {
   "cell_type": "code",
   "execution_count": 52,
   "id": "c8621143-aa29-4ed0-b483-e6d102237418",
   "metadata": {},
   "outputs": [],
   "source": [
    "from keras.models import Sequential\n",
    "from keras.layers import Dense,LSTM\n",
    "from keras.layers import Dropout"
   ]
  },
  {
   "cell_type": "code",
   "execution_count": 53,
   "id": "5d77fa6e-2e88-4cf4-bedd-1e1a825b0a34",
   "metadata": {},
   "outputs": [],
   "source": [
    "# LSTM構築とコンパイル関数\n",
    "def lstm_comp(df):\n",
    "    # 入力層/中間層/出力層のネットワークを構築\n",
    "    model = Sequential()\n",
    "    model.add(LSTM(256, activation='relu', batch_input_shape=(None, df.shape[1], df.shape[2])))\n",
    "    model.add(Dropout(0.2))\n",
    "    model.add(Dense(256, activation='relu'))\n",
    "    model.add(Dropout(0.2))\n",
    "    model.add(Dense(1, activation='sigmoid'))\n",
    "\n",
    "    # ネットワークのコンパイル\n",
    "    model.compile(loss='binary_crossentropy', optimizer='adam', metrics=['accuracy'])\n",
    "\n",
    "    return model"
   ]
  },
  {
   "cell_type": "markdown",
   "id": "4133cb99-f90d-4c23-9580-0debd6d94fb2",
   "metadata": {},
   "source": [
    "### 交差検証  \n",
    "予測モデルが使用できるかの確認"
   ]
  },
  {
   "cell_type": "code",
   "execution_count": 54,
   "id": "1a1cd717-e607-48f2-9357-0d8d370f64c8",
   "metadata": {},
   "outputs": [],
   "source": [
    "from sklearn.model_selection import TimeSeriesSplit\n",
    "from sklearn.metrics import accuracy_score"
   ]
  },
  {
   "cell_type": "code",
   "execution_count": 55,
   "id": "cb2d3d28-2611-48fe-b775-d7d0156cd637",
   "metadata": {},
   "outputs": [
    {
     "name": "stdout",
     "output_type": "stream",
     "text": [
      "Epoch 1/10\n",
      "44/44 [==============================] - 3s 10ms/step - loss: 0.6931 - accuracy: 0.5082\n",
      "Epoch 2/10\n",
      "44/44 [==============================] - 0s 11ms/step - loss: 0.6930 - accuracy: 0.5183\n",
      "Epoch 3/10\n",
      "44/44 [==============================] - 0s 10ms/step - loss: 0.6928 - accuracy: 0.5183\n",
      "Epoch 4/10\n",
      "44/44 [==============================] - 1s 11ms/step - loss: 0.6927 - accuracy: 0.5183\n",
      "Epoch 5/10\n",
      "44/44 [==============================] - 0s 11ms/step - loss: 0.6926 - accuracy: 0.5183\n",
      "Epoch 6/10\n",
      "44/44 [==============================] - 0s 11ms/step - loss: 0.6925 - accuracy: 0.5183\n",
      "Epoch 7/10\n",
      "44/44 [==============================] - 0s 11ms/step - loss: 0.6925 - accuracy: 0.5183\n",
      "Epoch 8/10\n",
      "44/44 [==============================] - 1s 12ms/step - loss: 0.6925 - accuracy: 0.5183\n",
      "Epoch 9/10\n",
      "44/44 [==============================] - 0s 11ms/step - loss: 0.6925 - accuracy: 0.5183\n",
      "Epoch 10/10\n",
      "44/44 [==============================] - 0s 11ms/step - loss: 0.6925 - accuracy: 0.5183\n",
      "87/87 [==============================] - 1s 5ms/step\n",
      "fold0MAE:0.5408645114420632\n",
      "Epoch 1/10\n",
      "87/87 [==============================] - 4s 11ms/step - loss: 0.6927 - accuracy: 0.5289\n",
      "Epoch 2/10\n",
      "87/87 [==============================] - 1s 10ms/step - loss: 0.6921 - accuracy: 0.5296\n",
      "Epoch 3/10\n",
      "87/87 [==============================] - 1s 10ms/step - loss: 0.6917 - accuracy: 0.5296\n",
      "Epoch 4/10\n",
      "87/87 [==============================] - 1s 11ms/step - loss: 0.6916 - accuracy: 0.5296\n",
      "Epoch 5/10\n",
      "87/87 [==============================] - 1s 11ms/step - loss: 0.6915 - accuracy: 0.5296\n",
      "Epoch 6/10\n",
      "87/87 [==============================] - 1s 10ms/step - loss: 0.6915 - accuracy: 0.5296\n",
      "Epoch 7/10\n",
      "87/87 [==============================] - 1s 10ms/step - loss: 0.6914 - accuracy: 0.5296\n",
      "Epoch 8/10\n",
      "87/87 [==============================] - 1s 9ms/step - loss: 0.6914 - accuracy: 0.5296\n",
      "Epoch 9/10\n",
      "87/87 [==============================] - 1s 11ms/step - loss: 0.6914 - accuracy: 0.5296\n",
      "Epoch 10/10\n",
      "87/87 [==============================] - 1s 11ms/step - loss: 0.6914 - accuracy: 0.5296\n",
      "87/87 [==============================] - 1s 6ms/step\n",
      "fold1MAE:0.5045405012713403\n",
      "Epoch 1/10\n",
      "130/130 [==============================] - 4s 10ms/step - loss: 0.6928 - accuracy: 0.5200\n",
      "Epoch 2/10\n",
      "130/130 [==============================] - 1s 11ms/step - loss: 0.6924 - accuracy: 0.5212\n",
      "Epoch 3/10\n",
      "130/130 [==============================] - 1s 11ms/step - loss: 0.6923 - accuracy: 0.5212\n",
      "Epoch 4/10\n",
      "130/130 [==============================] - 1s 11ms/step - loss: 0.6923 - accuracy: 0.5212\n",
      "Epoch 5/10\n",
      "130/130 [==============================] - 1s 11ms/step - loss: 0.6923 - accuracy: 0.5212\n",
      "Epoch 6/10\n",
      "130/130 [==============================] - 1s 11ms/step - loss: 0.6923 - accuracy: 0.5212\n",
      "Epoch 7/10\n",
      "130/130 [==============================] - 1s 11ms/step - loss: 0.6923 - accuracy: 0.5212\n",
      "Epoch 8/10\n",
      "130/130 [==============================] - 1s 10ms/step - loss: 0.6923 - accuracy: 0.5212\n",
      "Epoch 9/10\n",
      "130/130 [==============================] - 1s 11ms/step - loss: 0.6923 - accuracy: 0.5212\n",
      "Epoch 10/10\n",
      "130/130 [==============================] - 1s 11ms/step - loss: 0.6923 - accuracy: 0.5212\n",
      "87/87 [==============================] - 1s 5ms/step\n",
      "fold2MAE:0.5019978205593898\n",
      "Epoch 1/10\n",
      "173/173 [==============================] - 4s 9ms/step - loss: 0.6929 - accuracy: 0.5157\n",
      "Epoch 2/10\n",
      "173/173 [==============================] - 1s 9ms/step - loss: 0.6927 - accuracy: 0.5164\n",
      "Epoch 3/10\n",
      "173/173 [==============================] - 1s 9ms/step - loss: 0.6926 - accuracy: 0.5164\n",
      "Epoch 4/10\n",
      "173/173 [==============================] - 2s 9ms/step - loss: 0.6926 - accuracy: 0.5164\n",
      "Epoch 5/10\n",
      "173/173 [==============================] - 2s 9ms/step - loss: 0.6926 - accuracy: 0.5164\n",
      "Epoch 6/10\n",
      "173/173 [==============================] - 2s 10ms/step - loss: 0.6926 - accuracy: 0.5164\n",
      "Epoch 7/10\n",
      "173/173 [==============================] - 2s 10ms/step - loss: 0.6926 - accuracy: 0.5164\n",
      "Epoch 8/10\n",
      "173/173 [==============================] - 2s 10ms/step - loss: 0.6926 - accuracy: 0.5164\n",
      "Epoch 9/10\n",
      "173/173 [==============================] - 2s 10ms/step - loss: 0.6926 - accuracy: 0.5164\n",
      "Epoch 10/10\n",
      "173/173 [==============================] - 2s 9ms/step - loss: 0.6926 - accuracy: 0.5164\n",
      "87/87 [==============================] - 1s 4ms/step\n",
      "fold3MAE:0.5285143479840174\n",
      "valid_scores:[0.5408645114420632, 0.5045405012713403, 0.5019978205593898, 0.5285143479840174]\n",
      "CV score:0.5189792953142026\n"
     ]
    }
   ],
   "source": [
    "valid_scores=[]\n",
    "tscv=TimeSeriesSplit(n_splits=4)\n",
    "\n",
    "for fold,(train_indices,valid_indices) in enumerate(tscv.split(x_train_np_array)):\n",
    "    x_train,x_valid=x_train_np_array[train_indices],x_train_np_array[valid_indices]\n",
    "    y_train,y_valid=y_train_new[train_indices],y_train_new[valid_indices]\n",
    "    \n",
    "    model=lstm_comp(x_train)\n",
    "    \n",
    "    model.fit(x_train,y_train,epochs=10,batch_size=64)\n",
    "    \n",
    "    y_valid_pred=model.predict(x_valid)\n",
    "    \n",
    "    y_valid_pred=np.where(y_valid_pred<0.5,0,1)\n",
    "    \n",
    "    score=accuracy_score(y_valid,y_valid_pred)\n",
    "    print(f'fold{fold}MAE:{score}')\n",
    "    \n",
    "    valid_scores.append(score)\n",
    "\n",
    "print(f'valid_scores:{valid_scores}')\n",
    "cv_score=np.mean(valid_scores)\n",
    "print(f'CV score:{cv_score}')"
   ]
  },
  {
   "cell_type": "markdown",
   "id": "8ab08ed7-7d88-41ad-b0b9-a3131684823d",
   "metadata": {},
   "source": [
    "モデル精度は0.518とイマイチ"
   ]
  },
  {
   "cell_type": "markdown",
   "id": "1594e619-2717-46c7-9921-3774d8d4b29d",
   "metadata": {},
   "source": [
    "#### モデルを用いた予測"
   ]
  },
  {
   "cell_type": "code",
   "execution_count": 56,
   "id": "a98f428d-7bd9-4de2-94a0-700203314401",
   "metadata": {},
   "outputs": [],
   "source": [
    "model=lstm_comp(x_train_np_array)"
   ]
  },
  {
   "cell_type": "code",
   "execution_count": 57,
   "id": "316abe43-aa1b-4841-adb8-cfba7e14480d",
   "metadata": {},
   "outputs": [
    {
     "name": "stdout",
     "output_type": "stream",
     "text": [
      "Epoch 1/10\n",
      "216/216 [==============================] - 4s 10ms/step - loss: 0.6929 - accuracy: 0.5173\n",
      "Epoch 2/10\n",
      "216/216 [==============================] - 2s 10ms/step - loss: 0.6925 - accuracy: 0.5188\n",
      "Epoch 3/10\n",
      "216/216 [==============================] - 2s 11ms/step - loss: 0.6925 - accuracy: 0.5188\n",
      "Epoch 4/10\n",
      "216/216 [==============================] - 2s 11ms/step - loss: 0.6925 - accuracy: 0.5188\n",
      "Epoch 5/10\n",
      "216/216 [==============================] - 2s 10ms/step - loss: 0.6925 - accuracy: 0.5188\n",
      "Epoch 6/10\n",
      "216/216 [==============================] - 2s 10ms/step - loss: 0.6925 - accuracy: 0.5188\n",
      "Epoch 7/10\n",
      "216/216 [==============================] - 2s 10ms/step - loss: 0.6925 - accuracy: 0.5188\n",
      "Epoch 8/10\n",
      "216/216 [==============================] - 2s 10ms/step - loss: 0.6925 - accuracy: 0.5188\n",
      "Epoch 9/10\n",
      "216/216 [==============================] - 2s 11ms/step - loss: 0.6925 - accuracy: 0.5188\n",
      "Epoch 10/10\n",
      "216/216 [==============================] - 2s 11ms/step - loss: 0.6925 - accuracy: 0.5188\n"
     ]
    }
   ],
   "source": [
    "result=model.fit(x_train_np_array,y_train_new,epochs=10,batch_size=64)"
   ]
  },
  {
   "cell_type": "code",
   "execution_count": 58,
   "id": "b457e586-2fc2-4195-b5ea-5a0daff39517",
   "metadata": {},
   "outputs": [
    {
     "name": "stdout",
     "output_type": "stream",
     "text": [
      "7/7 [==============================] - 0s 4ms/step\n"
     ]
    },
    {
     "data": {
      "text/plain": [
       "array([[0.5184627],\n",
       "       [0.5184627],\n",
       "       [0.5184627],\n",
       "       [0.5184627],\n",
       "       [0.5184627],\n",
       "       [0.5184627],\n",
       "       [0.5184627],\n",
       "       [0.5184627],\n",
       "       [0.5184627],\n",
       "       [0.5184627]], dtype=float32)"
      ]
     },
     "execution_count": 58,
     "metadata": {},
     "output_type": "execute_result"
    }
   ],
   "source": [
    "pred=model.predict(x_val_np_array)\n",
    "pred[:10]"
   ]
  },
  {
   "cell_type": "code",
   "execution_count": 59,
   "id": "0d27df0c-0009-4057-9178-ebe537374d03",
   "metadata": {},
   "outputs": [
    {
     "data": {
      "text/plain": [
       "array([[[0., 0., 0., 0., 0., 0.]],\n",
       "\n",
       "       [[0., 0., 0., 0., 0., 0.]],\n",
       "\n",
       "       [[0., 0., 0., 0., 0., 0.]],\n",
       "\n",
       "       ...,\n",
       "\n",
       "       [[0., 0., 0., 0., 0., 0.]],\n",
       "\n",
       "       [[0., 0., 0., 0., 0., 0.]],\n",
       "\n",
       "       [[0., 0., 0., 0., 0., 0.]]])"
      ]
     },
     "execution_count": 59,
     "metadata": {},
     "output_type": "execute_result"
    }
   ],
   "source": [
    "x_val_np_array"
   ]
  },
  {
   "cell_type": "code",
   "execution_count": 60,
   "id": "de253137-68aa-442d-a4a5-40cc012383c8",
   "metadata": {},
   "outputs": [
    {
     "data": {
      "text/plain": [
       "array([[1],\n",
       "       [1],\n",
       "       [1],\n",
       "       [1],\n",
       "       [1],\n",
       "       [1],\n",
       "       [1],\n",
       "       [1],\n",
       "       [1],\n",
       "       [1]])"
      ]
     },
     "execution_count": 60,
     "metadata": {},
     "output_type": "execute_result"
    }
   ],
   "source": [
    "pred=np.where(pred<0.5,0,1)\n",
    "pred[:10]"
   ]
  },
  {
   "cell_type": "code",
   "execution_count": 61,
   "id": "00f748cb-7399-44e3-b49c-f847db476356",
   "metadata": {},
   "outputs": [
    {
     "name": "stdout",
     "output_type": "stream",
     "text": [
      "accuracy= 0.520618556701031\n"
     ]
    }
   ],
   "source": [
    "print('accuracy=',accuracy_score(y_true=y_val_new,y_pred=pred))"
   ]
  },
  {
   "cell_type": "markdown",
   "id": "ea816bdb-ec46-4b1f-afbd-59ec5478caa7",
   "metadata": {},
   "source": [
    "testデータの精度は0.52なので最終的には使えるレベル"
   ]
  },
  {
   "cell_type": "code",
   "execution_count": 62,
   "id": "43825fc3-b257-44bc-a263-b8db5fd0b39d",
   "metadata": {},
   "outputs": [],
   "source": [
    "from sklearn.metrics import confusion_matrix,ConfusionMatrixDisplay"
   ]
  },
  {
   "cell_type": "code",
   "execution_count": 63,
   "id": "e74182fa-8cbf-49bf-9074-101fb28169fe",
   "metadata": {},
   "outputs": [
    {
     "data": {
      "text/plain": [
       "<sklearn.metrics._plot.confusion_matrix.ConfusionMatrixDisplay at 0x21613b195b0>"
      ]
     },
     "execution_count": 63,
     "metadata": {},
     "output_type": "execute_result"
    },
    {
     "data": {
      "image/png": "[encoded data removed]",
      "text/plain": [
       "<Figure size 432x288 with 2 Axes>"
      ]
     },
     "metadata": {
      "needs_background": "light"
     },
     "output_type": "display_data"
    }
   ],
   "source": [
    "cm=confusion_matrix(y_val_new,pred)\n",
    "cmp=ConfusionMatrixDisplay(cm)\n",
    "cmp.plot(cmap=plt.cm.Reds)"
   ]
  },
  {
   "cell_type": "markdown",
   "id": "d41ab6eb-0464-4935-8163-e081b676a000",
   "metadata": {},
   "source": [
    "### 考察  \n",
    "なぜか次の日の予測をした方が7日後の予測よりも精度が落ちてしまった。  \n",
    "特徴量が不十分の可能性あり  \n",
    "予測がすべて1になっている。"
   ]
  },
  {
   "cell_type": "markdown",
   "id": "d2cc0dd5-5695-4927-bc27-55232b113253",
   "metadata": {},
   "source": [
    "特徴量を加えて学習させてみる。"
   ]
  },
  {
   "cell_type": "code",
   "execution_count": 64,
   "id": "f908655e-41db-4003-a19f-7b93b5bbdbfa",
   "metadata": {},
   "outputs": [
    {
     "data": {
      "text/html": [
       "<div>\n",
       "<style scoped>\n",
       "    .dataframe tbody tr th:only-of-type {\n",
       "        vertical-align: middle;\n",
       "    }\n",
       "\n",
       "    .dataframe tbody tr th {\n",
       "        vertical-align: top;\n",
       "    }\n",
       "\n",
       "    .dataframe thead th {\n",
       "        text-align: right;\n",
       "    }\n",
       "</style>\n",
       "<table border=\"1\" class=\"dataframe\">\n",
       "  <thead>\n",
       "    <tr style=\"text-align: right;\">\n",
       "      <th></th>\n",
       "      <th>High</th>\n",
       "      <th>Low</th>\n",
       "      <th>Open</th>\n",
       "      <th>Close</th>\n",
       "      <th>Up</th>\n",
       "      <th>Close_ratio</th>\n",
       "      <th>Body</th>\n",
       "    </tr>\n",
       "    <tr>\n",
       "      <th>Date</th>\n",
       "      <th></th>\n",
       "      <th></th>\n",
       "      <th></th>\n",
       "      <th></th>\n",
       "      <th></th>\n",
       "      <th></th>\n",
       "      <th></th>\n",
       "    </tr>\n",
       "  </thead>\n",
       "  <tbody>\n",
       "    <tr>\n",
       "      <th>1965-01-05</th>\n",
       "      <td>1.163391e+05</td>\n",
       "      <td>1.163391e+05</td>\n",
       "      <td>1.163391e+05</td>\n",
       "      <td>1.163391e+05</td>\n",
       "      <td>1</td>\n",
       "      <td>-0.004960</td>\n",
       "      <td>0.000000</td>\n",
       "    </tr>\n",
       "    <tr>\n",
       "      <th>1965-01-06</th>\n",
       "      <td>1.169191e+05</td>\n",
       "      <td>1.169191e+05</td>\n",
       "      <td>1.169191e+05</td>\n",
       "      <td>1.169191e+05</td>\n",
       "      <td>1</td>\n",
       "      <td>-0.008067</td>\n",
       "      <td>0.000000</td>\n",
       "    </tr>\n",
       "    <tr>\n",
       "      <th>1965-01-07</th>\n",
       "      <td>1.178700e+05</td>\n",
       "      <td>1.178700e+05</td>\n",
       "      <td>1.178700e+05</td>\n",
       "      <td>1.178700e+05</td>\n",
       "      <td>1</td>\n",
       "      <td>-0.009453</td>\n",
       "      <td>0.000000</td>\n",
       "    </tr>\n",
       "    <tr>\n",
       "      <th>1965-01-08</th>\n",
       "      <td>1.189948e+05</td>\n",
       "      <td>1.189948e+05</td>\n",
       "      <td>1.189948e+05</td>\n",
       "      <td>1.189948e+05</td>\n",
       "      <td>1</td>\n",
       "      <td>-0.001638</td>\n",
       "      <td>0.000000</td>\n",
       "    </tr>\n",
       "    <tr>\n",
       "      <th>1965-01-12</th>\n",
       "      <td>1.191900e+05</td>\n",
       "      <td>1.191900e+05</td>\n",
       "      <td>1.191900e+05</td>\n",
       "      <td>1.191900e+05</td>\n",
       "      <td>0</td>\n",
       "      <td>0.005360</td>\n",
       "      <td>0.000000</td>\n",
       "    </tr>\n",
       "    <tr>\n",
       "      <th>...</th>\n",
       "      <td>...</td>\n",
       "      <td>...</td>\n",
       "      <td>...</td>\n",
       "      <td>...</td>\n",
       "      <td>...</td>\n",
       "      <td>...</td>\n",
       "      <td>...</td>\n",
       "    </tr>\n",
       "    <tr>\n",
       "      <th>2021-10-15</th>\n",
       "      <td>2.690117e+06</td>\n",
       "      <td>2.657175e+06</td>\n",
       "      <td>2.662822e+06</td>\n",
       "      <td>2.688848e+06</td>\n",
       "      <td>0</td>\n",
       "      <td>0.001487</td>\n",
       "      <td>-26026.826172</td>\n",
       "    </tr>\n",
       "    <tr>\n",
       "      <th>2021-10-18</th>\n",
       "      <td>2.695851e+06</td>\n",
       "      <td>2.675507e+06</td>\n",
       "      <td>2.691178e+06</td>\n",
       "      <td>2.684855e+06</td>\n",
       "      <td>1</td>\n",
       "      <td>-0.006505</td>\n",
       "      <td>6323.242188</td>\n",
       "    </tr>\n",
       "    <tr>\n",
       "      <th>2021-10-19</th>\n",
       "      <td>2.707705e+06</td>\n",
       "      <td>2.689472e+06</td>\n",
       "      <td>2.693348e+06</td>\n",
       "      <td>2.702436e+06</td>\n",
       "      <td>1</td>\n",
       "      <td>-0.001368</td>\n",
       "      <td>-9087.221680</td>\n",
       "    </tr>\n",
       "    <tr>\n",
       "      <th>2021-10-20</th>\n",
       "      <td>2.727743e+06</td>\n",
       "      <td>2.703065e+06</td>\n",
       "      <td>2.718200e+06</td>\n",
       "      <td>2.706138e+06</td>\n",
       "      <td>0</td>\n",
       "      <td>0.016139</td>\n",
       "      <td>12061.855469</td>\n",
       "    </tr>\n",
       "    <tr>\n",
       "      <th>2021-10-21</th>\n",
       "      <td>2.702926e+06</td>\n",
       "      <td>2.658233e+06</td>\n",
       "      <td>2.696628e+06</td>\n",
       "      <td>2.663157e+06</td>\n",
       "      <td>0</td>\n",
       "      <td>NaN</td>\n",
       "      <td>33471.088867</td>\n",
       "    </tr>\n",
       "  </tbody>\n",
       "</table>\n",
       "<p>13967 rows × 7 columns</p>\n",
       "</div>"
      ],
      "text/plain": [
       "                    High           Low          Open         Close  Up  \\\n",
       "Date                                                                     \n",
       "1965-01-05  1.163391e+05  1.163391e+05  1.163391e+05  1.163391e+05   1   \n",
       "1965-01-06  1.169191e+05  1.169191e+05  1.169191e+05  1.169191e+05   1   \n",
       "1965-01-07  1.178700e+05  1.178700e+05  1.178700e+05  1.178700e+05   1   \n",
       "1965-01-08  1.189948e+05  1.189948e+05  1.189948e+05  1.189948e+05   1   \n",
       "1965-01-12  1.191900e+05  1.191900e+05  1.191900e+05  1.191900e+05   0   \n",
       "...                  ...           ...           ...           ...  ..   \n",
       "2021-10-15  2.690117e+06  2.657175e+06  2.662822e+06  2.688848e+06   0   \n",
       "2021-10-18  2.695851e+06  2.675507e+06  2.691178e+06  2.684855e+06   1   \n",
       "2021-10-19  2.707705e+06  2.689472e+06  2.693348e+06  2.702436e+06   1   \n",
       "2021-10-20  2.727743e+06  2.703065e+06  2.718200e+06  2.706138e+06   0   \n",
       "2021-10-21  2.702926e+06  2.658233e+06  2.696628e+06  2.663157e+06   0   \n",
       "\n",
       "            Close_ratio          Body  \n",
       "Date                                   \n",
       "1965-01-05    -0.004960      0.000000  \n",
       "1965-01-06    -0.008067      0.000000  \n",
       "1965-01-07    -0.009453      0.000000  \n",
       "1965-01-08    -0.001638      0.000000  \n",
       "1965-01-12     0.005360      0.000000  \n",
       "...                 ...           ...  \n",
       "2021-10-15     0.001487 -26026.826172  \n",
       "2021-10-18    -0.006505   6323.242188  \n",
       "2021-10-19    -0.001368  -9087.221680  \n",
       "2021-10-20     0.016139  12061.855469  \n",
       "2021-10-21          NaN  33471.088867  \n",
       "\n",
       "[13967 rows x 7 columns]"
      ]
     },
     "execution_count": 64,
     "metadata": {},
     "output_type": "execute_result"
    }
   ],
   "source": [
    "df"
   ]
  },
  {
   "cell_type": "code",
   "execution_count": 65,
   "id": "aa12e0a0-bf34-4055-9f3a-f50d5d0fe2ca",
   "metadata": {},
   "outputs": [],
   "source": [
    "df_technical=df.copy()"
   ]
  },
  {
   "cell_type": "code",
   "execution_count": 66,
   "id": "4bc1ec6d-a2b6-4e82-b3ed-444acc6ed9fd",
   "metadata": {},
   "outputs": [],
   "source": [
    "#移動平均の追加(特徴量)\n",
    "sma1=5\n",
    "sma2=10\n",
    "sma3=15\n",
    "\n",
    "df_technical['sma1']=df_technical['Close'].rolling(sma1).mean()\n",
    "df_technical['sma2']=df_technical['Close'].rolling(sma2).mean()\n",
    "df_technical['sma3']=df_technical['Close'].rolling(sma3).mean()\n"
   ]
  },
  {
   "cell_type": "code",
   "execution_count": 67,
   "id": "d4af1069-44b0-4868-b9a2-adecb9af44a7",
   "metadata": {},
   "outputs": [
    {
     "data": {
      "image/png": "[encoded data removed]",
      "text/plain": [
       "<Figure size 720x432 with 1 Axes>"
      ]
     },
     "metadata": {
      "needs_background": "light"
     },
     "output_type": "display_data"
    }
   ],
   "source": [
    "plt.figure(figsize=(10,6))\n",
    "\n",
    "plt.plot(df_technical['Close'],label='Close',color='orange')\n",
    "plt.plot(df_technical['sma1'],label='sma1',color='red')\n",
    "plt.plot(df_technical['sma2'],label='sma2',color='blue')\n",
    "plt.plot(df_technical['sma3'],label='sma3',color='green')\n",
    "plt.xlabel('Date')\n",
    "plt.ylabel('JPY')\n",
    "plt.legend()\n",
    "xmin=datetime(1965,1,5)\n",
    "xmax=datetime(2021,10,21)\n",
    "plt.xlim([xmin,xmax])\n",
    "plt.show()"
   ]
  },
  {
   "cell_type": "code",
   "execution_count": 68,
   "id": "44e98e3a-2194-4897-932f-fc182e90616c",
   "metadata": {},
   "outputs": [
    {
     "data": {
      "text/html": [
       "<div>\n",
       "<style scoped>\n",
       "    .dataframe tbody tr th:only-of-type {\n",
       "        vertical-align: middle;\n",
       "    }\n",
       "\n",
       "    .dataframe tbody tr th {\n",
       "        vertical-align: top;\n",
       "    }\n",
       "\n",
       "    .dataframe thead th {\n",
       "        text-align: right;\n",
       "    }\n",
       "</style>\n",
       "<table border=\"1\" class=\"dataframe\">\n",
       "  <thead>\n",
       "    <tr style=\"text-align: right;\">\n",
       "      <th></th>\n",
       "      <th>High</th>\n",
       "      <th>Low</th>\n",
       "      <th>Open</th>\n",
       "      <th>Close</th>\n",
       "      <th>Up</th>\n",
       "      <th>Close_ratio</th>\n",
       "      <th>Body</th>\n",
       "      <th>sma1</th>\n",
       "      <th>sma2</th>\n",
       "      <th>sma3</th>\n",
       "    </tr>\n",
       "    <tr>\n",
       "      <th>Date</th>\n",
       "      <th></th>\n",
       "      <th></th>\n",
       "      <th></th>\n",
       "      <th></th>\n",
       "      <th></th>\n",
       "      <th></th>\n",
       "      <th></th>\n",
       "      <th></th>\n",
       "      <th></th>\n",
       "      <th></th>\n",
       "    </tr>\n",
       "  </thead>\n",
       "  <tbody>\n",
       "    <tr>\n",
       "      <th>1965-01-05</th>\n",
       "      <td>116339.097290</td>\n",
       "      <td>116339.097290</td>\n",
       "      <td>116339.097290</td>\n",
       "      <td>116339.097290</td>\n",
       "      <td>1</td>\n",
       "      <td>-0.004960</td>\n",
       "      <td>0.0</td>\n",
       "      <td>NaN</td>\n",
       "      <td>NaN</td>\n",
       "      <td>NaN</td>\n",
       "    </tr>\n",
       "    <tr>\n",
       "      <th>1965-01-06</th>\n",
       "      <td>116919.074097</td>\n",
       "      <td>116919.074097</td>\n",
       "      <td>116919.074097</td>\n",
       "      <td>116919.074097</td>\n",
       "      <td>1</td>\n",
       "      <td>-0.008067</td>\n",
       "      <td>0.0</td>\n",
       "      <td>NaN</td>\n",
       "      <td>NaN</td>\n",
       "      <td>NaN</td>\n",
       "    </tr>\n",
       "    <tr>\n",
       "      <th>1965-01-07</th>\n",
       "      <td>117869.976807</td>\n",
       "      <td>117869.976807</td>\n",
       "      <td>117869.976807</td>\n",
       "      <td>117869.976807</td>\n",
       "      <td>1</td>\n",
       "      <td>-0.009453</td>\n",
       "      <td>0.0</td>\n",
       "      <td>NaN</td>\n",
       "      <td>NaN</td>\n",
       "      <td>NaN</td>\n",
       "    </tr>\n",
       "    <tr>\n",
       "      <th>1965-01-08</th>\n",
       "      <td>118994.779968</td>\n",
       "      <td>118994.779968</td>\n",
       "      <td>118994.779968</td>\n",
       "      <td>118994.779968</td>\n",
       "      <td>1</td>\n",
       "      <td>-0.001638</td>\n",
       "      <td>0.0</td>\n",
       "      <td>NaN</td>\n",
       "      <td>NaN</td>\n",
       "      <td>NaN</td>\n",
       "    </tr>\n",
       "    <tr>\n",
       "      <th>1965-01-12</th>\n",
       "      <td>119189.953613</td>\n",
       "      <td>119189.953613</td>\n",
       "      <td>119189.953613</td>\n",
       "      <td>119189.953613</td>\n",
       "      <td>0</td>\n",
       "      <td>0.005360</td>\n",
       "      <td>0.0</td>\n",
       "      <td>117862.576355</td>\n",
       "      <td>NaN</td>\n",
       "      <td>NaN</td>\n",
       "    </tr>\n",
       "  </tbody>\n",
       "</table>\n",
       "</div>"
      ],
      "text/plain": [
       "                     High            Low           Open          Close  Up  \\\n",
       "Date                                                                         \n",
       "1965-01-05  116339.097290  116339.097290  116339.097290  116339.097290   1   \n",
       "1965-01-06  116919.074097  116919.074097  116919.074097  116919.074097   1   \n",
       "1965-01-07  117869.976807  117869.976807  117869.976807  117869.976807   1   \n",
       "1965-01-08  118994.779968  118994.779968  118994.779968  118994.779968   1   \n",
       "1965-01-12  119189.953613  119189.953613  119189.953613  119189.953613   0   \n",
       "\n",
       "            Close_ratio  Body           sma1  sma2  sma3  \n",
       "Date                                                      \n",
       "1965-01-05    -0.004960   0.0            NaN   NaN   NaN  \n",
       "1965-01-06    -0.008067   0.0            NaN   NaN   NaN  \n",
       "1965-01-07    -0.009453   0.0            NaN   NaN   NaN  \n",
       "1965-01-08    -0.001638   0.0            NaN   NaN   NaN  \n",
       "1965-01-12     0.005360   0.0  117862.576355   NaN   NaN  "
      ]
     },
     "execution_count": 68,
     "metadata": {},
     "output_type": "execute_result"
    }
   ],
   "source": [
    "df_technical.head()"
   ]
  },
  {
   "cell_type": "code",
   "execution_count": 69,
   "id": "f2ee88e6-72e0-4799-8896-6063c89f5f5a",
   "metadata": {},
   "outputs": [
    {
     "data": {
      "text/html": [
       "<div>\n",
       "<style scoped>\n",
       "    .dataframe tbody tr th:only-of-type {\n",
       "        vertical-align: middle;\n",
       "    }\n",
       "\n",
       "    .dataframe tbody tr th {\n",
       "        vertical-align: top;\n",
       "    }\n",
       "\n",
       "    .dataframe thead th {\n",
       "        text-align: right;\n",
       "    }\n",
       "</style>\n",
       "<table border=\"1\" class=\"dataframe\">\n",
       "  <thead>\n",
       "    <tr style=\"text-align: right;\">\n",
       "      <th></th>\n",
       "      <th>High</th>\n",
       "      <th>Low</th>\n",
       "      <th>Open</th>\n",
       "      <th>Close</th>\n",
       "      <th>Up</th>\n",
       "      <th>Close_ratio</th>\n",
       "      <th>Body</th>\n",
       "      <th>sma1</th>\n",
       "      <th>sma2</th>\n",
       "      <th>sma3</th>\n",
       "    </tr>\n",
       "    <tr>\n",
       "      <th>Date</th>\n",
       "      <th></th>\n",
       "      <th></th>\n",
       "      <th></th>\n",
       "      <th></th>\n",
       "      <th></th>\n",
       "      <th></th>\n",
       "      <th></th>\n",
       "      <th></th>\n",
       "      <th></th>\n",
       "      <th></th>\n",
       "    </tr>\n",
       "  </thead>\n",
       "  <tbody>\n",
       "    <tr>\n",
       "      <th>1965-01-27</th>\n",
       "      <td>116384.421387</td>\n",
       "      <td>116384.421387</td>\n",
       "      <td>116384.421387</td>\n",
       "      <td>116384.421387</td>\n",
       "      <td>0</td>\n",
       "      <td>0.008828</td>\n",
       "      <td>0.0</td>\n",
       "      <td>116332.993103</td>\n",
       "      <td>117200.644684</td>\n",
       "      <td>117421.288574</td>\n",
       "    </tr>\n",
       "    <tr>\n",
       "      <th>1965-01-28</th>\n",
       "      <td>115365.995483</td>\n",
       "      <td>115365.995483</td>\n",
       "      <td>115365.995483</td>\n",
       "      <td>115365.995483</td>\n",
       "      <td>0</td>\n",
       "      <td>0.003968</td>\n",
       "      <td>0.0</td>\n",
       "      <td>115902.682922</td>\n",
       "      <td>116881.796326</td>\n",
       "      <td>117356.415120</td>\n",
       "    </tr>\n",
       "    <tr>\n",
       "      <th>1965-01-29</th>\n",
       "      <td>114909.976807</td>\n",
       "      <td>114909.976807</td>\n",
       "      <td>114909.976807</td>\n",
       "      <td>114909.976807</td>\n",
       "      <td>1</td>\n",
       "      <td>-0.000451</td>\n",
       "      <td>0.0</td>\n",
       "      <td>115540.824097</td>\n",
       "      <td>116444.919006</td>\n",
       "      <td>117222.475301</td>\n",
       "    </tr>\n",
       "    <tr>\n",
       "      <th>1965-02-01</th>\n",
       "      <td>114961.770935</td>\n",
       "      <td>114961.770935</td>\n",
       "      <td>114961.770935</td>\n",
       "      <td>114961.770935</td>\n",
       "      <td>0</td>\n",
       "      <td>0.003294</td>\n",
       "      <td>0.0</td>\n",
       "      <td>115413.358826</td>\n",
       "      <td>116178.055603</td>\n",
       "      <td>117028.594910</td>\n",
       "    </tr>\n",
       "    <tr>\n",
       "      <th>1965-02-02</th>\n",
       "      <td>114584.375000</td>\n",
       "      <td>114584.375000</td>\n",
       "      <td>114584.375000</td>\n",
       "      <td>114584.375000</td>\n",
       "      <td>1</td>\n",
       "      <td>-0.007436</td>\n",
       "      <td>0.0</td>\n",
       "      <td>115241.307922</td>\n",
       "      <td>115885.848419</td>\n",
       "      <td>116734.567912</td>\n",
       "    </tr>\n",
       "  </tbody>\n",
       "</table>\n",
       "</div>"
      ],
      "text/plain": [
       "                     High            Low           Open          Close  Up  \\\n",
       "Date                                                                         \n",
       "1965-01-27  116384.421387  116384.421387  116384.421387  116384.421387   0   \n",
       "1965-01-28  115365.995483  115365.995483  115365.995483  115365.995483   0   \n",
       "1965-01-29  114909.976807  114909.976807  114909.976807  114909.976807   1   \n",
       "1965-02-01  114961.770935  114961.770935  114961.770935  114961.770935   0   \n",
       "1965-02-02  114584.375000  114584.375000  114584.375000  114584.375000   1   \n",
       "\n",
       "            Close_ratio  Body           sma1           sma2           sma3  \n",
       "Date                                                                        \n",
       "1965-01-27     0.008828   0.0  116332.993103  117200.644684  117421.288574  \n",
       "1965-01-28     0.003968   0.0  115902.682922  116881.796326  117356.415120  \n",
       "1965-01-29    -0.000451   0.0  115540.824097  116444.919006  117222.475301  \n",
       "1965-02-01     0.003294   0.0  115413.358826  116178.055603  117028.594910  \n",
       "1965-02-02    -0.007436   0.0  115241.307922  115885.848419  116734.567912  "
      ]
     },
     "execution_count": 69,
     "metadata": {},
     "output_type": "execute_result"
    }
   ],
   "source": [
    "#欠損値を含む日を削除する。\n",
    "df_technical=df_technical.dropna(how='any')\n",
    "df_technical.head()"
   ]
  },
  {
   "cell_type": "markdown",
   "id": "fd2a1905-6e57-43da-b434-0584df2df129",
   "metadata": {},
   "source": [
    "新たに移動平均を加えたデータでモデルを作成する。"
   ]
  },
  {
   "cell_type": "code",
   "execution_count": null,
   "id": "c3745be6-6477-49f6-9008-c031d5621fc7",
   "metadata": {},
   "outputs": [],
   "source": []
  },
  {
   "cell_type": "code",
   "execution_count": 70,
   "id": "9963445d-db71-4ce1-ad47-f89b7700a7b8",
   "metadata": {},
   "outputs": [
    {
     "data": {
      "text/html": [
       "<div>\n",
       "<style scoped>\n",
       "    .dataframe tbody tr th:only-of-type {\n",
       "        vertical-align: middle;\n",
       "    }\n",
       "\n",
       "    .dataframe tbody tr th {\n",
       "        vertical-align: top;\n",
       "    }\n",
       "\n",
       "    .dataframe thead th {\n",
       "        text-align: right;\n",
       "    }\n",
       "</style>\n",
       "<table border=\"1\" class=\"dataframe\">\n",
       "  <thead>\n",
       "    <tr style=\"text-align: right;\">\n",
       "      <th></th>\n",
       "      <th>High</th>\n",
       "      <th>Low</th>\n",
       "      <th>Open</th>\n",
       "      <th>Close</th>\n",
       "      <th>Up</th>\n",
       "      <th>Close_ratio</th>\n",
       "      <th>Body</th>\n",
       "      <th>sma1</th>\n",
       "      <th>sma2</th>\n",
       "      <th>sma3</th>\n",
       "    </tr>\n",
       "    <tr>\n",
       "      <th>Date</th>\n",
       "      <th></th>\n",
       "      <th></th>\n",
       "      <th></th>\n",
       "      <th></th>\n",
       "      <th></th>\n",
       "      <th></th>\n",
       "      <th></th>\n",
       "      <th></th>\n",
       "      <th></th>\n",
       "      <th></th>\n",
       "    </tr>\n",
       "  </thead>\n",
       "  <tbody>\n",
       "    <tr>\n",
       "      <th>2020-12-24</th>\n",
       "      <td>2.475719e+06</td>\n",
       "      <td>2.460987e+06</td>\n",
       "      <td>2.463748e+06</td>\n",
       "      <td>2.466822e+06</td>\n",
       "      <td>0</td>\n",
       "      <td>0.000440</td>\n",
       "      <td>-3074.721680</td>\n",
       "      <td>2.462486e+06</td>\n",
       "      <td>2.467384e+06</td>\n",
       "      <td>2.467186e+06</td>\n",
       "    </tr>\n",
       "    <tr>\n",
       "      <th>2020-12-25</th>\n",
       "      <td>2.471286e+06</td>\n",
       "      <td>2.464041e+06</td>\n",
       "      <td>2.470499e+06</td>\n",
       "      <td>2.465736e+06</td>\n",
       "      <td>1</td>\n",
       "      <td>-0.007352</td>\n",
       "      <td>4762.846680</td>\n",
       "      <td>2.460510e+06</td>\n",
       "      <td>2.467422e+06</td>\n",
       "      <td>2.466602e+06</td>\n",
       "    </tr>\n",
       "    <tr>\n",
       "      <th>2020-12-28</th>\n",
       "      <td>2.483998e+06</td>\n",
       "      <td>2.466475e+06</td>\n",
       "      <td>2.468944e+06</td>\n",
       "      <td>2.483998e+06</td>\n",
       "      <td>1</td>\n",
       "      <td>-0.025904</td>\n",
       "      <td>-15053.471680</td>\n",
       "      <td>2.463093e+06</td>\n",
       "      <td>2.468546e+06</td>\n",
       "      <td>2.468493e+06</td>\n",
       "    </tr>\n",
       "    <tr>\n",
       "      <th>2020-12-29</th>\n",
       "      <td>2.553233e+06</td>\n",
       "      <td>2.490206e+06</td>\n",
       "      <td>2.491615e+06</td>\n",
       "      <td>2.550054e+06</td>\n",
       "      <td>0</td>\n",
       "      <td>0.004518</td>\n",
       "      <td>-58438.681641</td>\n",
       "      <td>2.484031e+06</td>\n",
       "      <td>2.476689e+06</td>\n",
       "      <td>2.475283e+06</td>\n",
       "    </tr>\n",
       "    <tr>\n",
       "      <th>2020-12-30</th>\n",
       "      <td>2.550463e+06</td>\n",
       "      <td>2.528817e+06</td>\n",
       "      <td>2.549217e+06</td>\n",
       "      <td>2.538586e+06</td>\n",
       "      <td>0</td>\n",
       "      <td>0.006816</td>\n",
       "      <td>10630.996094</td>\n",
       "      <td>2.501039e+06</td>\n",
       "      <td>2.483042e+06</td>\n",
       "      <td>2.479144e+06</td>\n",
       "    </tr>\n",
       "  </tbody>\n",
       "</table>\n",
       "</div>"
      ],
      "text/plain": [
       "                    High           Low          Open         Close  Up  \\\n",
       "Date                                                                     \n",
       "2020-12-24  2.475719e+06  2.460987e+06  2.463748e+06  2.466822e+06   0   \n",
       "2020-12-25  2.471286e+06  2.464041e+06  2.470499e+06  2.465736e+06   1   \n",
       "2020-12-28  2.483998e+06  2.466475e+06  2.468944e+06  2.483998e+06   1   \n",
       "2020-12-29  2.553233e+06  2.490206e+06  2.491615e+06  2.550054e+06   0   \n",
       "2020-12-30  2.550463e+06  2.528817e+06  2.549217e+06  2.538586e+06   0   \n",
       "\n",
       "            Close_ratio          Body          sma1          sma2  \\\n",
       "Date                                                                \n",
       "2020-12-24     0.000440  -3074.721680  2.462486e+06  2.467384e+06   \n",
       "2020-12-25    -0.007352   4762.846680  2.460510e+06  2.467422e+06   \n",
       "2020-12-28    -0.025904 -15053.471680  2.463093e+06  2.468546e+06   \n",
       "2020-12-29     0.004518 -58438.681641  2.484031e+06  2.476689e+06   \n",
       "2020-12-30     0.006816  10630.996094  2.501039e+06  2.483042e+06   \n",
       "\n",
       "                    sma3  \n",
       "Date                      \n",
       "2020-12-24  2.467186e+06  \n",
       "2020-12-25  2.466602e+06  \n",
       "2020-12-28  2.468493e+06  \n",
       "2020-12-29  2.475283e+06  \n",
       "2020-12-30  2.479144e+06  "
      ]
     },
     "execution_count": 70,
     "metadata": {},
     "output_type": "execute_result"
    }
   ],
   "source": [
    "df_train=df_technical['1965-01-05':'2020-12-31']\n",
    "df_train.tail()"
   ]
  },
  {
   "cell_type": "code",
   "execution_count": 71,
   "id": "9b3f7b00-fd85-40bb-8d8c-fa3cae961c6f",
   "metadata": {},
   "outputs": [
    {
     "data": {
      "text/html": [
       "<div>\n",
       "<style scoped>\n",
       "    .dataframe tbody tr th:only-of-type {\n",
       "        vertical-align: middle;\n",
       "    }\n",
       "\n",
       "    .dataframe tbody tr th {\n",
       "        vertical-align: top;\n",
       "    }\n",
       "\n",
       "    .dataframe thead th {\n",
       "        text-align: right;\n",
       "    }\n",
       "</style>\n",
       "<table border=\"1\" class=\"dataframe\">\n",
       "  <thead>\n",
       "    <tr style=\"text-align: right;\">\n",
       "      <th></th>\n",
       "      <th>High</th>\n",
       "      <th>Low</th>\n",
       "      <th>Open</th>\n",
       "      <th>Close</th>\n",
       "      <th>Up</th>\n",
       "      <th>Close_ratio</th>\n",
       "      <th>Body</th>\n",
       "      <th>sma1</th>\n",
       "      <th>sma2</th>\n",
       "      <th>sma3</th>\n",
       "    </tr>\n",
       "    <tr>\n",
       "      <th>Date</th>\n",
       "      <th></th>\n",
       "      <th></th>\n",
       "      <th></th>\n",
       "      <th></th>\n",
       "      <th></th>\n",
       "      <th></th>\n",
       "      <th></th>\n",
       "      <th></th>\n",
       "      <th></th>\n",
       "      <th></th>\n",
       "    </tr>\n",
       "  </thead>\n",
       "  <tbody>\n",
       "    <tr>\n",
       "      <th>2021-10-14</th>\n",
       "      <td>2.643343e+06</td>\n",
       "      <td>2.611646e+06</td>\n",
       "      <td>2.614458e+06</td>\n",
       "      <td>2.640961e+06</td>\n",
       "      <td>1</td>\n",
       "      <td>-0.017810</td>\n",
       "      <td>-26503.056641</td>\n",
       "      <td>2.617176e+06</td>\n",
       "      <td>2.605856e+06</td>\n",
       "      <td>2.660201e+06</td>\n",
       "    </tr>\n",
       "    <tr>\n",
       "      <th>2021-10-15</th>\n",
       "      <td>2.690117e+06</td>\n",
       "      <td>2.657175e+06</td>\n",
       "      <td>2.662822e+06</td>\n",
       "      <td>2.688848e+06</td>\n",
       "      <td>0</td>\n",
       "      <td>0.001487</td>\n",
       "      <td>-26026.826172</td>\n",
       "      <td>2.636040e+06</td>\n",
       "      <td>2.608608e+06</td>\n",
       "      <td>2.652923e+06</td>\n",
       "    </tr>\n",
       "    <tr>\n",
       "      <th>2021-10-18</th>\n",
       "      <td>2.695851e+06</td>\n",
       "      <td>2.675507e+06</td>\n",
       "      <td>2.691178e+06</td>\n",
       "      <td>2.684855e+06</td>\n",
       "      <td>1</td>\n",
       "      <td>-0.006505</td>\n",
       "      <td>6323.242188</td>\n",
       "      <td>2.645794e+06</td>\n",
       "      <td>2.613978e+06</td>\n",
       "      <td>2.645433e+06</td>\n",
       "    </tr>\n",
       "    <tr>\n",
       "      <th>2021-10-19</th>\n",
       "      <td>2.707705e+06</td>\n",
       "      <td>2.689472e+06</td>\n",
       "      <td>2.693348e+06</td>\n",
       "      <td>2.702436e+06</td>\n",
       "      <td>1</td>\n",
       "      <td>-0.001368</td>\n",
       "      <td>-9087.221680</td>\n",
       "      <td>2.664015e+06</td>\n",
       "      <td>2.626867e+06</td>\n",
       "      <td>2.639461e+06</td>\n",
       "    </tr>\n",
       "    <tr>\n",
       "      <th>2021-10-20</th>\n",
       "      <td>2.727743e+06</td>\n",
       "      <td>2.703065e+06</td>\n",
       "      <td>2.718200e+06</td>\n",
       "      <td>2.706138e+06</td>\n",
       "      <td>0</td>\n",
       "      <td>0.016139</td>\n",
       "      <td>12061.855469</td>\n",
       "      <td>2.684648e+06</td>\n",
       "      <td>2.642839e+06</td>\n",
       "      <td>2.637680e+06</td>\n",
       "    </tr>\n",
       "  </tbody>\n",
       "</table>\n",
       "</div>"
      ],
      "text/plain": [
       "                    High           Low          Open         Close  Up  \\\n",
       "Date                                                                     \n",
       "2021-10-14  2.643343e+06  2.611646e+06  2.614458e+06  2.640961e+06   1   \n",
       "2021-10-15  2.690117e+06  2.657175e+06  2.662822e+06  2.688848e+06   0   \n",
       "2021-10-18  2.695851e+06  2.675507e+06  2.691178e+06  2.684855e+06   1   \n",
       "2021-10-19  2.707705e+06  2.689472e+06  2.693348e+06  2.702436e+06   1   \n",
       "2021-10-20  2.727743e+06  2.703065e+06  2.718200e+06  2.706138e+06   0   \n",
       "\n",
       "            Close_ratio          Body          sma1          sma2  \\\n",
       "Date                                                                \n",
       "2021-10-14    -0.017810 -26503.056641  2.617176e+06  2.605856e+06   \n",
       "2021-10-15     0.001487 -26026.826172  2.636040e+06  2.608608e+06   \n",
       "2021-10-18    -0.006505   6323.242188  2.645794e+06  2.613978e+06   \n",
       "2021-10-19    -0.001368  -9087.221680  2.664015e+06  2.626867e+06   \n",
       "2021-10-20     0.016139  12061.855469  2.684648e+06  2.642839e+06   \n",
       "\n",
       "                    sma3  \n",
       "Date                      \n",
       "2021-10-14  2.660201e+06  \n",
       "2021-10-15  2.652923e+06  \n",
       "2021-10-18  2.645433e+06  \n",
       "2021-10-19  2.639461e+06  \n",
       "2021-10-20  2.637680e+06  "
      ]
     },
     "execution_count": 71,
     "metadata": {},
     "output_type": "execute_result"
    }
   ],
   "source": [
    "df_val=df_technical['2021-01-01':]\n",
    "df_val.tail()"
   ]
  },
  {
   "cell_type": "code",
   "execution_count": 72,
   "id": "7e37c839-6d4b-4260-a219-f2576b4f4dda",
   "metadata": {},
   "outputs": [],
   "source": [
    "x_train=df_train[['High','Low','Open','Close','Close_ratio','Body','sma1','sma2','sma3']]\n",
    "y_train=df_train['Up']"
   ]
  },
  {
   "cell_type": "code",
   "execution_count": 73,
   "id": "7c84ac91-42c4-443b-ac90-040f3ab4bc3d",
   "metadata": {},
   "outputs": [
    {
     "name": "stdout",
     "output_type": "stream",
     "text": [
      "                    High           Low          Open         Close  \\\n",
      "Date                                                                 \n",
      "2021-01-04  2.553195e+06  2.501415e+06  2.550740e+06  2.521400e+06   \n",
      "2021-01-05  2.523380e+06  2.504295e+06  2.511503e+06  2.512173e+06   \n",
      "2021-01-06  2.515667e+06  2.497702e+06  2.507014e+06  2.502674e+06   \n",
      "2021-01-07  2.555288e+06  2.528993e+06  2.528993e+06  2.542837e+06   \n",
      "2021-01-08  2.602860e+06  2.559267e+06  2.564113e+06  2.602860e+06   \n",
      "...                  ...           ...           ...           ...   \n",
      "2021-10-14  2.643343e+06  2.611646e+06  2.614458e+06  2.640961e+06   \n",
      "2021-10-15  2.690117e+06  2.657175e+06  2.662822e+06  2.688848e+06   \n",
      "2021-10-18  2.695851e+06  2.675507e+06  2.691178e+06  2.684855e+06   \n",
      "2021-10-19  2.707705e+06  2.689472e+06  2.693348e+06  2.702436e+06   \n",
      "2021-10-20  2.727743e+06  2.703065e+06  2.718200e+06  2.706138e+06   \n",
      "\n",
      "            Close_ratio          Body          sma1          sma2  \\\n",
      "Date                                                                \n",
      "2021-01-04     0.003673  29340.024414  2.511955e+06  2.487220e+06   \n",
      "2021-01-05     0.003796   -670.625000  2.521242e+06  2.490876e+06   \n",
      "2021-01-06    -0.015794   4339.189453  2.524978e+06  2.494035e+06   \n",
      "2021-01-07    -0.023060 -13844.467773  2.523534e+06  2.503782e+06   \n",
      "2021-01-08    -0.000899 -38747.202148  2.536389e+06  2.518714e+06   \n",
      "...                 ...           ...           ...           ...   \n",
      "2021-10-14    -0.017810 -26503.056641  2.617176e+06  2.605856e+06   \n",
      "2021-10-15     0.001487 -26026.826172  2.636040e+06  2.608608e+06   \n",
      "2021-10-18    -0.006505   6323.242188  2.645794e+06  2.613978e+06   \n",
      "2021-10-19    -0.001368  -9087.221680  2.664015e+06  2.626867e+06   \n",
      "2021-10-20     0.016139  12061.855469  2.684648e+06  2.642839e+06   \n",
      "\n",
      "                    sma3  \n",
      "Date                      \n",
      "2021-01-04  2.482241e+06  \n",
      "2021-01-05  2.485362e+06  \n",
      "2021-01-06  2.487357e+06  \n",
      "2021-01-07  2.492304e+06  \n",
      "2021-01-08  2.500824e+06  \n",
      "...                  ...  \n",
      "2021-10-14  2.660201e+06  \n",
      "2021-10-15  2.652923e+06  \n",
      "2021-10-18  2.645433e+06  \n",
      "2021-10-19  2.639461e+06  \n",
      "2021-10-20  2.637680e+06  \n",
      "\n",
      "[196 rows x 9 columns]\n"
     ]
    }
   ],
   "source": [
    "x_val=df_val[['High','Low','Open','Close','Close_ratio','Body','sma1','sma2','sma3']]\n",
    "y_val=df_val['Up']\n",
    "\n",
    "print(x_val)\n",
    "#print(y_val)"
   ]
  },
  {
   "cell_type": "code",
   "execution_count": 74,
   "id": "bdb4d678-6751-4679-ac48-82d694b564ce",
   "metadata": {},
   "outputs": [
    {
     "data": {
      "image/png": "[encoded data removed]",
      "text/plain": [
       "<Figure size 432x288 with 1 Axes>"
      ]
     },
     "metadata": {
      "needs_background": "light"
     },
     "output_type": "display_data"
    }
   ],
   "source": [
    "x_train['Close'].plot(kind='line')\n",
    "x_val['Close'].plot(kind='line')\n",
    "\n",
    "plt.legend(['x_train','x_val'])\n",
    "\n",
    "plt.show()"
   ]
  },
  {
   "cell_type": "markdown",
   "id": "4022c202-5613-4616-b87e-3cb7ed12c640",
   "metadata": {},
   "source": [
    "### データを整える"
   ]
  },
  {
   "cell_type": "code",
   "execution_count": 75,
   "id": "518d16b0-0ce2-4d85-b34d-067c028e4930",
   "metadata": {},
   "outputs": [],
   "source": [
    "from sklearn.preprocessing import StandardScaler\n",
    "\n",
    "import numpy as np\n",
    "\n",
    "def std_to_np(df):\n",
    "    df_list=[]\n",
    "    df=np.array(df)\n",
    "    for i in range(0,len(df)-3,7):\n",
    "        df_s=df[i:i+7]\n",
    "        scl=StandardScaler()\n",
    "        df_std=scl.fit_transform(df_s)\n",
    "        df_list.append(df_std)\n",
    "    return np.array(df_list)"
   ]
  },
  {
   "cell_type": "code",
   "execution_count": 76,
   "id": "48261da7-d1ea-42aa-b27a-301de73c39f0",
   "metadata": {},
   "outputs": [],
   "source": [
    "#!pip install tensorflow"
   ]
  },
  {
   "cell_type": "code",
   "execution_count": 77,
   "id": "7fc6ee65-6b49-44fc-812a-5f3970d69a07",
   "metadata": {},
   "outputs": [
    {
     "name": "stdout",
     "output_type": "stream",
     "text": [
      "(1965, 7, 9)\n",
      "(28, 7, 9)\n"
     ]
    }
   ],
   "source": [
    "x_train_np_array=std_to_np(x_train)\n",
    "x_val_np_array=std_to_np(x_val)\n",
    "\n",
    "print(x_train_np_array.shape)\n",
    "print(x_val_np_array.shape)"
   ]
  },
  {
   "cell_type": "code",
   "execution_count": 78,
   "id": "f2798644-5f52-492d-a12b-9cc73c0b4572",
   "metadata": {},
   "outputs": [
    {
     "name": "stdout",
     "output_type": "stream",
     "text": [
      "(13756,)\n",
      "(196,)\n"
     ]
    }
   ],
   "source": [
    "print(y_train.shape)\n",
    "print(y_val.shape)"
   ]
  },
  {
   "cell_type": "code",
   "execution_count": 79,
   "id": "001a67a9-a6f9-496e-9dd2-a39f45068d32",
   "metadata": {},
   "outputs": [
    {
     "name": "stdout",
     "output_type": "stream",
     "text": [
      "1965\n",
      "28\n"
     ]
    }
   ],
   "source": [
    "y_train_new=y_train[3::7]\n",
    "y_val_new=y_val[3::7]\n",
    "\n",
    "print(len(y_train_new))\n",
    "print(len(y_val_new))"
   ]
  },
  {
   "cell_type": "markdown",
   "id": "b0a17032-bf67-4b71-86a2-349838d604ee",
   "metadata": {},
   "source": [
    "### 予測モデルの作成"
   ]
  },
  {
   "cell_type": "code",
   "execution_count": 80,
   "id": "c34aa9ca-b457-47c1-83ba-5f1a336e62e3",
   "metadata": {},
   "outputs": [],
   "source": [
    "#!pip install tensorflow"
   ]
  },
  {
   "cell_type": "code",
   "execution_count": 81,
   "id": "471997b1-415c-42d4-a707-d6ed509172d9",
   "metadata": {},
   "outputs": [],
   "source": [
    "from keras.models import Sequential\n",
    "from keras.layers import Dense,LSTM\n",
    "from keras.layers import Dropout"
   ]
  },
  {
   "cell_type": "code",
   "execution_count": 82,
   "id": "e29b59f7-3737-4dbe-93bc-6c6d6e461bcb",
   "metadata": {},
   "outputs": [],
   "source": [
    "# LSTM構築とコンパイル関数\n",
    "def lstm_comp(df):\n",
    "    # 入力層/中間層/出力層のネットワークを構築\n",
    "    model = Sequential()\n",
    "    model.add(LSTM(256, activation='relu', batch_input_shape=(None, df.shape[1], df.shape[2])))\n",
    "    model.add(Dropout(0.2))\n",
    "    model.add(Dense(256, activation='relu'))\n",
    "    model.add(Dropout(0.2))\n",
    "    model.add(Dense(1, activation='sigmoid'))\n",
    "\n",
    "    # ネットワークのコンパイル\n",
    "    model.compile(loss='binary_crossentropy', optimizer='adam', metrics=['accuracy'])\n",
    "\n",
    "    return model"
   ]
  },
  {
   "cell_type": "markdown",
   "id": "8df9206c-ab5e-4175-812e-9bc33b1a22b6",
   "metadata": {},
   "source": [
    "### 交差検証  \n",
    "予測モデルが使用できるかの確認"
   ]
  },
  {
   "cell_type": "code",
   "execution_count": 83,
   "id": "330053bd-024e-432b-8014-1696dc04cbba",
   "metadata": {},
   "outputs": [],
   "source": [
    "from sklearn.model_selection import TimeSeriesSplit\n",
    "from sklearn.metrics import accuracy_score"
   ]
  },
  {
   "cell_type": "code",
   "execution_count": 84,
   "id": "d2a332b8-936c-4ca9-89e9-32b55b548f54",
   "metadata": {},
   "outputs": [
    {
     "name": "stdout",
     "output_type": "stream",
     "text": [
      "Epoch 1/10\n",
      "7/7 [==============================] - 3s 29ms/step - loss: 0.6685 - accuracy: 0.6590\n",
      "Epoch 2/10\n",
      "7/7 [==============================] - 0s 31ms/step - loss: 0.6336 - accuracy: 0.6921\n",
      "Epoch 3/10\n",
      "7/7 [==============================] - 0s 32ms/step - loss: 0.6063 - accuracy: 0.7099\n",
      "Epoch 4/10\n",
      "7/7 [==============================] - 0s 33ms/step - loss: 0.5997 - accuracy: 0.6997\n",
      "Epoch 5/10\n",
      "7/7 [==============================] - 0s 32ms/step - loss: 0.5865 - accuracy: 0.7023\n",
      "Epoch 6/10\n",
      "7/7 [==============================] - 0s 31ms/step - loss: 0.5823 - accuracy: 0.7023\n",
      "Epoch 7/10\n",
      "7/7 [==============================] - 0s 29ms/step - loss: 0.5696 - accuracy: 0.7099\n",
      "Epoch 8/10\n",
      "7/7 [==============================] - 0s 34ms/step - loss: 0.5716 - accuracy: 0.7226\n",
      "Epoch 9/10\n",
      "7/7 [==============================] - 0s 39ms/step - loss: 0.5477 - accuracy: 0.7226\n",
      "Epoch 10/10\n",
      "7/7 [==============================] - 0s 37ms/step - loss: 0.5466 - accuracy: 0.7277\n",
      "13/13 [==============================] - 1s 13ms/step\n",
      "fold0MAE:0.7379134860050891\n",
      "Epoch 1/10\n",
      "13/13 [==============================] - 4s 40ms/step - loss: 0.6492 - accuracy: 0.6425\n",
      "Epoch 2/10\n",
      "13/13 [==============================] - 1s 41ms/step - loss: 0.6135 - accuracy: 0.6858\n",
      "Epoch 3/10\n",
      "13/13 [==============================] - 1s 40ms/step - loss: 0.5934 - accuracy: 0.6985\n",
      "Epoch 4/10\n",
      "13/13 [==============================] - 1s 38ms/step - loss: 0.5782 - accuracy: 0.7099\n",
      "Epoch 5/10\n",
      "13/13 [==============================] - 0s 37ms/step - loss: 0.5716 - accuracy: 0.7163\n",
      "Epoch 6/10\n",
      "13/13 [==============================] - 1s 40ms/step - loss: 0.5615 - accuracy: 0.7176\n",
      "Epoch 7/10\n",
      "13/13 [==============================] - 1s 40ms/step - loss: 0.5446 - accuracy: 0.7354\n",
      "Epoch 8/10\n",
      "13/13 [==============================] - 0s 35ms/step - loss: 0.5218 - accuracy: 0.7468\n",
      "Epoch 9/10\n",
      "13/13 [==============================] - 0s 38ms/step - loss: 0.4945 - accuracy: 0.7570\n",
      "Epoch 10/10\n",
      "13/13 [==============================] - 1s 40ms/step - loss: 0.4913 - accuracy: 0.7710\n",
      "13/13 [==============================] - 1s 13ms/step\n",
      "fold1MAE:0.7251908396946565\n",
      "Epoch 1/10\n",
      "19/19 [==============================] - 3s 31ms/step - loss: 0.6446 - accuracy: 0.6412\n",
      "Epoch 2/10\n",
      "19/19 [==============================] - 1s 36ms/step - loss: 0.5986 - accuracy: 0.6913\n",
      "Epoch 3/10\n",
      "19/19 [==============================] - 1s 35ms/step - loss: 0.5857 - accuracy: 0.7023\n",
      "Epoch 4/10\n",
      "19/19 [==============================] - 1s 33ms/step - loss: 0.5640 - accuracy: 0.7074\n",
      "Epoch 5/10\n",
      "19/19 [==============================] - 1s 38ms/step - loss: 0.5368 - accuracy: 0.7405\n",
      "Epoch 6/10\n",
      "19/19 [==============================] - 1s 30ms/step - loss: 0.5162 - accuracy: 0.7481\n",
      "Epoch 7/10\n",
      "19/19 [==============================] - 1s 38ms/step - loss: 0.4867 - accuracy: 0.7566\n",
      "Epoch 8/10\n",
      "19/19 [==============================] - 1s 38ms/step - loss: 0.4302 - accuracy: 0.7947\n",
      "Epoch 9/10\n",
      "19/19 [==============================] - 1s 39ms/step - loss: 0.3936 - accuracy: 0.8202\n",
      "Epoch 10/10\n",
      "19/19 [==============================] - 1s 41ms/step - loss: 0.3291 - accuracy: 0.8490\n",
      "13/13 [==============================] - 1s 15ms/step\n",
      "fold2MAE:0.8702290076335878\n",
      "Epoch 1/10\n",
      "25/25 [==============================] - 4s 37ms/step - loss: 0.6263 - accuracy: 0.6527\n",
      "Epoch 2/10\n",
      "25/25 [==============================] - 1s 36ms/step - loss: 0.6000 - accuracy: 0.6908\n",
      "Epoch 3/10\n",
      "25/25 [==============================] - 1s 36ms/step - loss: 0.5728 - accuracy: 0.7131\n",
      "Epoch 4/10\n",
      "25/25 [==============================] - 1s 34ms/step - loss: 0.5503 - accuracy: 0.7316\n",
      "Epoch 5/10\n",
      "25/25 [==============================] - 1s 36ms/step - loss: 0.5188 - accuracy: 0.7354\n",
      "Epoch 6/10\n",
      "25/25 [==============================] - 1s 40ms/step - loss: 0.4462 - accuracy: 0.7844\n",
      "Epoch 7/10\n",
      "25/25 [==============================] - 1s 37ms/step - loss: 0.4276 - accuracy: 0.8003\n",
      "Epoch 8/10\n",
      "25/25 [==============================] - 1s 35ms/step - loss: 0.3656 - accuracy: 0.8352\n",
      "Epoch 9/10\n",
      "25/25 [==============================] - 1s 30ms/step - loss: 0.2795 - accuracy: 0.8639\n",
      "Epoch 10/10\n",
      "25/25 [==============================] - 1s 33ms/step - loss: 0.1858 - accuracy: 0.9160\n",
      "13/13 [==============================] - 0s 10ms/step\n",
      "fold3MAE:0.9287531806615776\n",
      "valid_scores:[0.7379134860050891, 0.7251908396946565, 0.8702290076335878, 0.9287531806615776]\n",
      "CV score:0.8155216284987278\n"
     ]
    }
   ],
   "source": [
    "valid_scores=[]\n",
    "tscv=TimeSeriesSplit(n_splits=4)\n",
    "\n",
    "for fold,(train_indices,valid_indices) in enumerate(tscv.split(x_train_np_array)):\n",
    "    x_train,x_valid=x_train_np_array[train_indices],x_train_np_array[valid_indices]\n",
    "    y_train,y_valid=y_train_new[train_indices],y_train_new[valid_indices]\n",
    "    \n",
    "    model=lstm_comp(x_train)\n",
    "    \n",
    "    model.fit(x_train,y_train,epochs=10,batch_size=64)\n",
    "    \n",
    "    y_valid_pred=model.predict(x_valid)\n",
    "    \n",
    "    y_valid_pred=np.where(y_valid_pred<0.5,0,1)\n",
    "    \n",
    "    score=accuracy_score(y_valid,y_valid_pred)\n",
    "    print(f'fold{fold}MAE:{score}')\n",
    "    \n",
    "    valid_scores.append(score)\n",
    "\n",
    "print(f'valid_scores:{valid_scores}')\n",
    "cv_score=np.mean(valid_scores)\n",
    "print(f'CV score:{cv_score}')"
   ]
  },
  {
   "cell_type": "markdown",
   "id": "66bd2cc6-d893-4b6f-b757-09e51873fc42",
   "metadata": {},
   "source": [
    "精度が0.80と高いので使用できるモデルであると確認。"
   ]
  },
  {
   "cell_type": "markdown",
   "id": "2aae3689-2b06-4d3f-8f51-d6758e499c04",
   "metadata": {},
   "source": [
    "#### モデルを用いた予測"
   ]
  },
  {
   "cell_type": "code",
   "execution_count": 85,
   "id": "2a4d6645-c7e6-4c44-bb4c-a880455b4e79",
   "metadata": {},
   "outputs": [],
   "source": [
    "model=lstm_comp(x_train_np_array)"
   ]
  },
  {
   "cell_type": "code",
   "execution_count": 86,
   "id": "3302e733-03b6-4660-ac77-8531661c574f",
   "metadata": {},
   "outputs": [
    {
     "name": "stdout",
     "output_type": "stream",
     "text": [
      "Epoch 1/10\n",
      "31/31 [==============================] - 4s 42ms/step - loss: 0.6299 - accuracy: 0.6621\n",
      "Epoch 2/10\n",
      "31/31 [==============================] - 1s 35ms/step - loss: 0.5874 - accuracy: 0.7003\n",
      "Epoch 3/10\n",
      "31/31 [==============================] - 1s 35ms/step - loss: 0.5434 - accuracy: 0.7247\n",
      "Epoch 4/10\n",
      "31/31 [==============================] - 1s 37ms/step - loss: 0.4752 - accuracy: 0.7812\n",
      "Epoch 5/10\n",
      "31/31 [==============================] - 1s 38ms/step - loss: 0.4096 - accuracy: 0.8076\n",
      "Epoch 6/10\n",
      "31/31 [==============================] - 1s 37ms/step - loss: 0.3247 - accuracy: 0.8555\n",
      "Epoch 7/10\n",
      "31/31 [==============================] - 1s 34ms/step - loss: 0.2349 - accuracy: 0.9003\n",
      "Epoch 8/10\n",
      "31/31 [==============================] - 1s 34ms/step - loss: 0.1527 - accuracy: 0.9313\n",
      "Epoch 9/10\n",
      "31/31 [==============================] - 1s 34ms/step - loss: 0.1178 - accuracy: 0.9476\n",
      "Epoch 10/10\n",
      "31/31 [==============================] - 1s 31ms/step - loss: 0.1115 - accuracy: 0.9527\n"
     ]
    }
   ],
   "source": [
    "result=model.fit(x_train_np_array,y_train_new,epochs=10,batch_size=64)"
   ]
  },
  {
   "cell_type": "code",
   "execution_count": 87,
   "id": "8c3c367f-12ff-4c26-b6aa-05d0b1e126b6",
   "metadata": {},
   "outputs": [
    {
     "name": "stdout",
     "output_type": "stream",
     "text": [
      "1/1 [==============================] - 0s 254ms/step\n"
     ]
    },
    {
     "data": {
      "text/plain": [
       "array([[9.9999988e-01],\n",
       "       [4.4383106e-04],\n",
       "       [2.8776560e-08],\n",
       "       [9.4724238e-01],\n",
       "       [5.3010586e-05],\n",
       "       [2.6736131e-01],\n",
       "       [9.9999994e-01],\n",
       "       [6.4885110e-04],\n",
       "       [9.8211253e-01],\n",
       "       [1.0500696e-06]], dtype=float32)"
      ]
     },
     "execution_count": 87,
     "metadata": {},
     "output_type": "execute_result"
    }
   ],
   "source": [
    "pred=model.predict(x_val_np_array)\n",
    "pred[:10]"
   ]
  },
  {
   "cell_type": "code",
   "execution_count": 88,
   "id": "04465587-0a98-486d-b165-b6c18100a777",
   "metadata": {},
   "outputs": [
    {
     "data": {
      "text/plain": [
       "array([[1],\n",
       "       [0],\n",
       "       [0],\n",
       "       [1],\n",
       "       [0],\n",
       "       [0],\n",
       "       [1],\n",
       "       [0],\n",
       "       [1],\n",
       "       [0]])"
      ]
     },
     "execution_count": 88,
     "metadata": {},
     "output_type": "execute_result"
    }
   ],
   "source": [
    "pred=np.where(pred<0.5,0,1)\n",
    "pred[:10]"
   ]
  },
  {
   "cell_type": "code",
   "execution_count": 89,
   "id": "8e930267-1547-4df3-a4ee-12b4c438bfc8",
   "metadata": {},
   "outputs": [
    {
     "name": "stdout",
     "output_type": "stream",
     "text": [
      "accuracy= 0.8928571428571429\n"
     ]
    }
   ],
   "source": [
    "print('accuracy=',accuracy_score(y_true=y_val_new,y_pred=pred))"
   ]
  },
  {
   "cell_type": "markdown",
   "id": "19f1ca40-b716-4698-8cbe-a99e5ea22a8c",
   "metadata": {},
   "source": [
    "精度は0.928と精度がかなり上がった。"
   ]
  },
  {
   "cell_type": "code",
   "execution_count": 90,
   "id": "84975d18-31bc-42e5-b9b6-f1152d45025c",
   "metadata": {},
   "outputs": [],
   "source": [
    "from sklearn.metrics import confusion_matrix,ConfusionMatrixDisplay"
   ]
  },
  {
   "cell_type": "code",
   "execution_count": 91,
   "id": "e81385f7-f043-4d35-befa-91d2fb9b89ee",
   "metadata": {},
   "outputs": [
    {
     "data": {
      "text/plain": [
       "<sklearn.metrics._plot.confusion_matrix.ConfusionMatrixDisplay at 0x2161c20cee0>"
      ]
     },
     "execution_count": 91,
     "metadata": {},
     "output_type": "execute_result"
    },
    {
     "data": {
      "image/png": "[encoded data removed]",
      "text/plain": [
       "<Figure size 432x288 with 2 Axes>"
      ]
     },
     "metadata": {
      "needs_background": "light"
     },
     "output_type": "display_data"
    }
   ],
   "source": [
    "cm=confusion_matrix(y_val_new,pred)\n",
    "cmp=ConfusionMatrixDisplay(cm)\n",
    "cmp.plot(cmap=plt.cm.Reds)"
   ]
  },
  {
   "cell_type": "markdown",
   "id": "6876cd39-187b-4e75-84f1-3f88147370fe",
   "metadata": {},
   "source": [
    "精度がかなり上がった。"
   ]
  },
  {
   "cell_type": "markdown",
   "id": "9d398f03-8006-4578-bee7-04c0379674be",
   "metadata": {},
   "source": [
    "### 考察  \n",
    "株価の予測にしては異常に精度が高いので、どこか間違えている可能性"
   ]
  },
  {
   "cell_type": "code",
   "execution_count": null,
   "id": "dac0e14b-5005-4d58-842a-7ed81ebb3531",
   "metadata": {},
   "outputs": [],
   "source": []
  }
 ],
 "metadata": {
  "kernelspec": {
   "display_name": "Python 3 (ipykernel)",
   "language": "python",
   "name": "python3"
  },
  "language_info": {
   "codemirror_mode": {
    "name": "ipython",
    "version": 3
   },
   "file_extension": ".py",
   "mimetype": "text/x-python",
   "name": "python",
   "nbconvert_exporter": "python",
   "pygments_lexer": "ipython3",
   "version": "3.9.12"
  }
 },
 "nbformat": 4,
 "nbformat_minor": 5
}
