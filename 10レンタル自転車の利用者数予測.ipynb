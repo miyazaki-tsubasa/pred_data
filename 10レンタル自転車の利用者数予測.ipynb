{
 "cells": [
  {
   "cell_type": "markdown",
   "id": "df64cb56-54cf-455e-ae9d-2a212a2d4ee2",
   "metadata": {},
   "source": [
    "### 検証10  \n",
    "lightbgmの精度が良かったので、lightbgmでoputunaを回して分析する。"
   ]
  },
  {
   "cell_type": "markdown",
   "id": "4f648711-d5aa-4e40-a20c-bcbb065580b1",
   "metadata": {},
   "source": [
    "ライブラリのインストール"
   ]
  },
  {
   "cell_type": "code",
   "execution_count": 20,
   "id": "04f18385-6950-481c-b184-bcf11765282e",
   "metadata": {},
   "outputs": [],
   "source": [
    "import lightgbm as lgb\n",
    "from sklearn import datasets\n",
    "from sklearn.model_selection import train_test_split\n",
    "import numpy as np\n",
    "import pandas as pd\n",
    "pd.set_option('display.max_rows', 100)\n",
    "from sklearn import metrics\n",
    "import matplotlib.pyplot as plt\n",
    "%matplotlib inline\n",
    "\n",
    "#optunaインポート\n",
    "import optuna.integration.lightgbm as lgb\n",
    "import optuna\n",
    "import optuna.integration.lightgbm as opt_lgb\n",
    "from sklearn.metrics import roc_auc_score\n",
    "\n",
    "from sklearn.model_selection import train_test_split\n",
    "import sklearn.datasets\n",
    "\n",
    "# 警告(worning)の非表示化\n",
    "import warnings\n",
    "warnings.filterwarnings('ignore')"
   ]
  },
  {
   "cell_type": "code",
   "execution_count": 21,
   "id": "b896cffc-497f-4e28-9745-07c73aad0bfc",
   "metadata": {},
   "outputs": [],
   "source": [
    "#前処理\n",
    "\n",
    "#trainデータ処理\n",
    "train_df = pd.read_table('train.tsv')\n",
    "#One-Hot Encoding\n",
    "train_df_one_hot_encoded = pd.get_dummies(train_df,columns=['weathersit'])\n",
    "#曜日の'weekday'を土日(0)と平日(1)の2値データする。\n",
    "#新しい変数'weekday2'を作って、全て0(zero)を入れる\n",
    "train_df_one_hot_encoded['weekday2'] = 0\n",
    "#平日を1にしたいので、1にするコードを用意する\n",
    "train_df_one_hot_encoded.loc[train_df_one_hot_encoded['weekday'].isin(list(range(1,6))),'weekday2']=1\n",
    "# 結果の件数を確認する\n",
    "#train_df_one_hot_encoded['weekday2'].value_counts()\n",
    "# id2500以前は、傾向が違うため、カット(運用開始など？)\n",
    "train_df_one_hot_encoded = train_df_one_hot_encoded[train_df_one_hot_encoded['id'] > 2500]\n",
    "\n",
    "\n",
    "#testデータ処理\n",
    "test_df = pd.read_table('test.tsv')\n",
    "#One-Hot Encoding\n",
    "test_df_one_hot_encoded = pd.get_dummies(test_df,columns=['weathersit'])\n",
    "#曜日の'weekday'を土日(0)と平日(1)の2値データする。\n",
    "#新しい変数'weekday2'を作って、全て0(zero)を入れる\n",
    "test_df_one_hot_encoded['weekday2'] = 0\n",
    "#平日を1にしたいので、1にするコードを用意する\n",
    "test_df_one_hot_encoded.loc[test_df_one_hot_encoded['weekday'].isin(list(range(1,6))),'weekday2']=1\n"
   ]
  },
  {
   "cell_type": "code",
   "execution_count": 22,
   "id": "dbd685f9-0d48-4a13-8ef4-0fa7abffa2a0",
   "metadata": {},
   "outputs": [
    {
     "data": {
      "text/html": [
       "<div>\n",
       "<style scoped>\n",
       "    .dataframe tbody tr th:only-of-type {\n",
       "        vertical-align: middle;\n",
       "    }\n",
       "\n",
       "    .dataframe tbody tr th {\n",
       "        vertical-align: top;\n",
       "    }\n",
       "\n",
       "    .dataframe thead th {\n",
       "        text-align: right;\n",
       "    }\n",
       "</style>\n",
       "<table border=\"1\" class=\"dataframe\">\n",
       "  <thead>\n",
       "    <tr style=\"text-align: right;\">\n",
       "      <th></th>\n",
       "      <th>hr</th>\n",
       "      <th>workingday</th>\n",
       "      <th>weekday2</th>\n",
       "      <th>temp</th>\n",
       "      <th>atemp</th>\n",
       "      <th>weathersit_1</th>\n",
       "      <th>weathersit_2</th>\n",
       "      <th>weathersit_3</th>\n",
       "    </tr>\n",
       "  </thead>\n",
       "  <tbody>\n",
       "    <tr>\n",
       "      <th>2500</th>\n",
       "      <td>2</td>\n",
       "      <td>1</td>\n",
       "      <td>1</td>\n",
       "      <td>0.46</td>\n",
       "      <td>0.4545</td>\n",
       "      <td>1</td>\n",
       "      <td>0</td>\n",
       "      <td>0</td>\n",
       "    </tr>\n",
       "    <tr>\n",
       "      <th>2501</th>\n",
       "      <td>3</td>\n",
       "      <td>1</td>\n",
       "      <td>1</td>\n",
       "      <td>0.48</td>\n",
       "      <td>0.4697</td>\n",
       "      <td>1</td>\n",
       "      <td>0</td>\n",
       "      <td>0</td>\n",
       "    </tr>\n",
       "    <tr>\n",
       "      <th>2502</th>\n",
       "      <td>4</td>\n",
       "      <td>1</td>\n",
       "      <td>1</td>\n",
       "      <td>0.46</td>\n",
       "      <td>0.4545</td>\n",
       "      <td>1</td>\n",
       "      <td>0</td>\n",
       "      <td>0</td>\n",
       "    </tr>\n",
       "    <tr>\n",
       "      <th>2503</th>\n",
       "      <td>5</td>\n",
       "      <td>1</td>\n",
       "      <td>1</td>\n",
       "      <td>0.46</td>\n",
       "      <td>0.4545</td>\n",
       "      <td>0</td>\n",
       "      <td>1</td>\n",
       "      <td>0</td>\n",
       "    </tr>\n",
       "    <tr>\n",
       "      <th>2504</th>\n",
       "      <td>6</td>\n",
       "      <td>1</td>\n",
       "      <td>1</td>\n",
       "      <td>0.48</td>\n",
       "      <td>0.4697</td>\n",
       "      <td>0</td>\n",
       "      <td>1</td>\n",
       "      <td>0</td>\n",
       "    </tr>\n",
       "  </tbody>\n",
       "</table>\n",
       "</div>"
      ],
      "text/plain": [
       "      hr  workingday  weekday2  temp   atemp  weathersit_1  weathersit_2  \\\n",
       "2500   2           1         1  0.46  0.4545             1             0   \n",
       "2501   3           1         1  0.48  0.4697             1             0   \n",
       "2502   4           1         1  0.46  0.4545             1             0   \n",
       "2503   5           1         1  0.46  0.4545             0             1   \n",
       "2504   6           1         1  0.48  0.4697             0             1   \n",
       "\n",
       "      weathersit_3  \n",
       "2500             0  \n",
       "2501             0  \n",
       "2502             0  \n",
       "2503             0  \n",
       "2504             0  "
      ]
     },
     "execution_count": 22,
     "metadata": {},
     "output_type": "execute_result"
    }
   ],
   "source": [
    "#必要な説明変数だけをとりだす\n",
    "train_df_x = train_df_one_hot_encoded[['hr','workingday','weekday2','temp','atemp','weathersit_1','weathersit_2','weathersit_3']]\n",
    "train_df_y = train_df_one_hot_encoded['cnt']\n",
    "train_df_x.head()"
   ]
  },
  {
   "cell_type": "code",
   "execution_count": 25,
   "id": "bea16040-bcb9-490b-83da-67d7cae49285",
   "metadata": {},
   "outputs": [],
   "source": [
    "# defaultはtrain dataが75%、test dataが25%に分割\n",
    "# また時系列のデータなので、shuffleをFalseにする。\n",
    "X_train, X_test, y_train, y_test = train_test_split(train_df_x, train_df_y, random_state=42, shuffle=False)\n"
   ]
  },
  {
   "cell_type": "code",
   "execution_count": 31,
   "id": "068936cb-4ed0-473d-b1c1-5fc0d9f6e0ff",
   "metadata": {},
   "outputs": [
    {
     "name": "stderr",
     "output_type": "stream",
     "text": [
      "\u001b[32m[I 2022-12-02 12:14:44,335]\u001b[0m A new study created in memory with name: no-name-abb182ec-dcca-47e9-ac53-d0336f5394ac\u001b[0m\n",
      "feature_fraction, val_score: inf:   0%|          | 0/7 [00:00<?, ?it/s]"
     ]
    },
    {
     "name": "stdout",
     "output_type": "stream",
     "text": [
      "[LightGBM] [Warning] min_data_in_leaf is set=19, min_child_samples=20 will be ignored. Current value: min_data_in_leaf=19\n",
      "Training until validation scores don't improve for 100 rounds\n",
      "[100]\tvalid_0's l1: 70.525\tvalid_1's l1: 66.6716\n",
      "[200]\tvalid_0's l1: 47.6013\tvalid_1's l1: 52.2089\n",
      "[300]\tvalid_0's l1: 34.1028\tvalid_1's l1: 43.9463\n",
      "[400]\tvalid_0's l1: 27.9194\tvalid_1's l1: 41.2159\n",
      "[500]\tvalid_0's l1: 25.4624\tvalid_1's l1: 40.6137\n",
      "[600]\tvalid_0's l1: 24.0637\tvalid_1's l1: 40.0975\n",
      "[700]\tvalid_0's l1: 23.3243\tvalid_1's l1: 39.9752\n"
     ]
    },
    {
     "name": "stderr",
     "output_type": "stream",
     "text": [
      "feature_fraction, val_score: 39.956334:  14%|#4        | 1/7 [00:04<00:25,  4.23s/it]\u001b[32m[I 2022-12-02 12:14:48,583]\u001b[0m Trial 0 finished with value: 39.956333773123866 and parameters: {'feature_fraction': 0.8999999999999999}. Best is trial 0 with value: 39.956333773123866.\u001b[0m\n",
      "feature_fraction, val_score: 39.956334:  14%|#4        | 1/7 [00:04<00:25,  4.23s/it]"
     ]
    },
    {
     "name": "stdout",
     "output_type": "stream",
     "text": [
      "[800]\tvalid_0's l1: 22.8188\tvalid_1's l1: 40.056\n",
      "Early stopping, best iteration is:\n",
      "[704]\tvalid_0's l1: 23.3009\tvalid_1's l1: 39.9563\n",
      "Training until validation scores don't improve for 100 rounds\n",
      "[100]\tvalid_0's l1: 73.6048\tvalid_1's l1: 66.3647\n",
      "[200]\tvalid_0's l1: 50.3551\tvalid_1's l1: 50.4224\n",
      "[300]\tvalid_0's l1: 37.8571\tvalid_1's l1: 43.5101\n",
      "[400]\tvalid_0's l1: 31.6647\tvalid_1's l1: 40.7348\n",
      "[500]\tvalid_0's l1: 28.6341\tvalid_1's l1: 39.6459\n",
      "[600]\tvalid_0's l1: 26.0975\tvalid_1's l1: 38.7375\n",
      "[700]\tvalid_0's l1: 24.922\tvalid_1's l1: 38.499\n",
      "[800]\tvalid_0's l1: 24.115\tvalid_1's l1: 38.4494\n",
      "[900]\tvalid_0's l1: 23.454\tvalid_1's l1: 38.4348\n",
      "Early stopping, best iteration is:\n",
      "[828]\tvalid_0's l1: 23.9166\tvalid_1's l1: 38.3936\n"
     ]
    },
    {
     "name": "stderr",
     "output_type": "stream",
     "text": [
      "feature_fraction, val_score: 38.393634:  29%|##8       | 2/7 [00:08<00:20,  4.05s/it]\u001b[32m[I 2022-12-02 12:14:52,506]\u001b[0m Trial 1 finished with value: 38.39363443928886 and parameters: {'feature_fraction': 0.7}. Best is trial 1 with value: 38.39363443928886.\u001b[0m\n",
      "feature_fraction, val_score: 38.393634:  29%|##8       | 2/7 [00:08<00:20,  4.05s/it]"
     ]
    },
    {
     "name": "stdout",
     "output_type": "stream",
     "text": [
      "Training until validation scores don't improve for 100 rounds\n",
      "[100]\tvalid_0's l1: 67.1504\tvalid_1's l1: 67.1664\n",
      "[200]\tvalid_0's l1: 43.4331\tvalid_1's l1: 52.8815\n",
      "[300]\tvalid_0's l1: 31.2245\tvalid_1's l1: 44.2009\n",
      "[400]\tvalid_0's l1: 25.9279\tvalid_1's l1: 40.7258\n",
      "[500]\tvalid_0's l1: 24.0875\tvalid_1's l1: 39.5512\n",
      "[600]\tvalid_0's l1: 23.2714\tvalid_1's l1: 38.9951\n",
      "[700]\tvalid_0's l1: 22.7328\tvalid_1's l1: 38.8384\n",
      "[800]\tvalid_0's l1: 22.2615\tvalid_1's l1: 38.7937\n",
      "[900]\tvalid_0's l1: 21.9217\tvalid_1's l1: 38.7675\n"
     ]
    },
    {
     "name": "stderr",
     "output_type": "stream",
     "text": [
      "feature_fraction, val_score: 38.393634:  43%|####2     | 3/7 [00:14<00:20,  5.00s/it]\u001b[32m[I 2022-12-02 12:14:58,733]\u001b[0m Trial 2 finished with value: 38.74251063056212 and parameters: {'feature_fraction': 1.0}. Best is trial 1 with value: 38.39363443928886.\u001b[0m\n",
      "feature_fraction, val_score: 38.393634:  43%|####2     | 3/7 [00:14<00:20,  5.00s/it]"
     ]
    },
    {
     "name": "stdout",
     "output_type": "stream",
     "text": [
      "Early stopping, best iteration is:\n",
      "[878]\tvalid_0's l1: 21.9901\tvalid_1's l1: 38.7425\n",
      "Training until validation scores don't improve for 100 rounds\n",
      "[100]\tvalid_0's l1: 78.2829\tvalid_1's l1: 67.7129\n",
      "[200]\tvalid_0's l1: 54.4526\tvalid_1's l1: 50.0084\n",
      "[300]\tvalid_0's l1: 41.2873\tvalid_1's l1: 43.2594\n",
      "[400]\tvalid_0's l1: 33.7439\tvalid_1's l1: 39.8683\n",
      "[500]\tvalid_0's l1: 30.1361\tvalid_1's l1: 38.9779\n",
      "[600]\tvalid_0's l1: 27.5163\tvalid_1's l1: 38.4747\n",
      "[700]\tvalid_0's l1: 25.907\tvalid_1's l1: 38.1858\n",
      "[800]\tvalid_0's l1: 24.8604\tvalid_1's l1: 38.0265\n",
      "[900]\tvalid_0's l1: 24.2229\tvalid_1's l1: 38.0009\n"
     ]
    },
    {
     "name": "stderr",
     "output_type": "stream",
     "text": [
      "feature_fraction, val_score: 37.987238:  57%|#####7    | 4/7 [00:20<00:16,  5.45s/it]\u001b[32m[I 2022-12-02 12:15:04,778]\u001b[0m Trial 3 finished with value: 37.987238278010224 and parameters: {'feature_fraction': 0.6}. Best is trial 3 with value: 37.987238278010224.\u001b[0m\n",
      "feature_fraction, val_score: 37.987238:  57%|#####7    | 4/7 [00:20<00:16,  5.45s/it]"
     ]
    },
    {
     "name": "stdout",
     "output_type": "stream",
     "text": [
      "Early stopping, best iteration is:\n",
      "[883]\tvalid_0's l1: 24.3412\tvalid_1's l1: 37.9872\n",
      "Training until validation scores don't improve for 100 rounds\n",
      "[100]\tvalid_0's l1: 74.0005\tvalid_1's l1: 66.9537\n",
      "[200]\tvalid_0's l1: 50.5642\tvalid_1's l1: 50.2408\n",
      "[300]\tvalid_0's l1: 39.0824\tvalid_1's l1: 42.8675\n",
      "[400]\tvalid_0's l1: 32.5596\tvalid_1's l1: 39.447\n",
      "[500]\tvalid_0's l1: 29.4189\tvalid_1's l1: 38.2843\n",
      "[600]\tvalid_0's l1: 27.374\tvalid_1's l1: 37.6818\n",
      "[700]\tvalid_0's l1: 25.9625\tvalid_1's l1: 37.3175\n",
      "[800]\tvalid_0's l1: 25.1076\tvalid_1's l1: 37.2628\n",
      "[900]\tvalid_0's l1: 24.4927\tvalid_1's l1: 37.2244\n"
     ]
    },
    {
     "name": "stderr",
     "output_type": "stream",
     "text": [
      "feature_fraction, val_score: 37.218267:  71%|#######1  | 5/7 [00:25<00:10,  5.16s/it]\u001b[32m[I 2022-12-02 12:15:09,433]\u001b[0m Trial 4 finished with value: 37.21826683121242 and parameters: {'feature_fraction': 0.5}. Best is trial 4 with value: 37.21826683121242.\u001b[0m\n",
      "feature_fraction, val_score: 37.218267:  71%|#######1  | 5/7 [00:25<00:10,  5.16s/it]"
     ]
    },
    {
     "name": "stdout",
     "output_type": "stream",
     "text": [
      "Early stopping, best iteration is:\n",
      "[894]\tvalid_0's l1: 24.521\tvalid_1's l1: 37.2183\n",
      "Training until validation scores don't improve for 100 rounds\n",
      "[100]\tvalid_0's l1: 73.6048\tvalid_1's l1: 66.3647\n",
      "[200]\tvalid_0's l1: 50.3551\tvalid_1's l1: 50.4224\n",
      "[300]\tvalid_0's l1: 37.8571\tvalid_1's l1: 43.5101\n",
      "[400]\tvalid_0's l1: 31.6647\tvalid_1's l1: 40.7348\n",
      "[500]\tvalid_0's l1: 28.6341\tvalid_1's l1: 39.6459\n",
      "[600]\tvalid_0's l1: 26.0975\tvalid_1's l1: 38.7375\n",
      "[700]\tvalid_0's l1: 24.922\tvalid_1's l1: 38.499\n",
      "[800]\tvalid_0's l1: 24.115\tvalid_1's l1: 38.4494\n"
     ]
    },
    {
     "name": "stderr",
     "output_type": "stream",
     "text": [
      "feature_fraction, val_score: 37.218267:  86%|########5 | 6/7 [00:29<00:04,  4.98s/it]"
     ]
    },
    {
     "name": "stdout",
     "output_type": "stream",
     "text": [
      "[900]\tvalid_0's l1: 23.454\tvalid_1's l1: 38.4348\n",
      "Early stopping, best iteration is:\n",
      "[828]\tvalid_0's l1: 23.9166\tvalid_1's l1: 38.3936\n"
     ]
    },
    {
     "name": "stderr",
     "output_type": "stream",
     "text": [
      "\u001b[32m[I 2022-12-02 12:15:14,108]\u001b[0m Trial 5 finished with value: 38.39363443928886 and parameters: {'feature_fraction': 0.8}. Best is trial 4 with value: 37.21826683121242.\u001b[0m\n",
      "feature_fraction, val_score: 37.218267:  86%|########5 | 6/7 [00:29<00:04,  4.98s/it]"
     ]
    },
    {
     "name": "stdout",
     "output_type": "stream",
     "text": [
      "Training until validation scores don't improve for 100 rounds\n",
      "[100]\tvalid_0's l1: 89.8258\tvalid_1's l1: 73.8015\n",
      "[200]\tvalid_0's l1: 73.9881\tvalid_1's l1: 60.4452\n",
      "[300]\tvalid_0's l1: 61.7249\tvalid_1's l1: 52.5222\n",
      "[400]\tvalid_0's l1: 53.6968\tvalid_1's l1: 48.3141\n",
      "[500]\tvalid_0's l1: 48.19\tvalid_1's l1: 46.0934\n",
      "[600]\tvalid_0's l1: 43.3439\tvalid_1's l1: 44.1832\n",
      "[700]\tvalid_0's l1: 40.3648\tvalid_1's l1: 42.7064\n",
      "[800]\tvalid_0's l1: 36.8404\tvalid_1's l1: 40.9476\n",
      "[900]\tvalid_0's l1: 34.0528\tvalid_1's l1: 39.6108\n",
      "[1000]\tvalid_0's l1: 32.1032\tvalid_1's l1: 38.8217\n",
      "[1100]\tvalid_0's l1: 30.7633\tvalid_1's l1: 38.3238\n",
      "[1200]\tvalid_0's l1: 29.7742\tvalid_1's l1: 38.0991\n",
      "[1300]\tvalid_0's l1: 28.8849\tvalid_1's l1: 37.9359\n",
      "[1400]\tvalid_0's l1: 28.0941\tvalid_1's l1: 37.6935\n",
      "[1500]\tvalid_0's l1: 27.4135\tvalid_1's l1: 37.5507\n",
      "[1600]\tvalid_0's l1: 26.844\tvalid_1's l1: 37.4126\n",
      "[1700]\tvalid_0's l1: 26.3917\tvalid_1's l1: 37.3087\n"
     ]
    },
    {
     "name": "stderr",
     "output_type": "stream",
     "text": [
      "feature_fraction, val_score: 37.218267: 100%|##########| 7/7 [00:37<00:00,  6.00s/it]\u001b[32m[I 2022-12-02 12:15:22,300]\u001b[0m Trial 6 finished with value: 37.29074832645713 and parameters: {'feature_fraction': 0.4}. Best is trial 4 with value: 37.21826683121242.\u001b[0m\n",
      "feature_fraction, val_score: 37.218267: 100%|##########| 7/7 [00:37<00:00,  5.42s/it]\n"
     ]
    },
    {
     "name": "stdout",
     "output_type": "stream",
     "text": [
      "Early stopping, best iteration is:\n",
      "[1685]\tvalid_0's l1: 26.438\tvalid_1's l1: 37.2907\n"
     ]
    },
    {
     "name": "stderr",
     "output_type": "stream",
     "text": [
      "num_leaves, val_score: 37.218267:   0%|          | 0/20 [00:00<?, ?it/s]"
     ]
    },
    {
     "name": "stdout",
     "output_type": "stream",
     "text": [
      "Training until validation scores don't improve for 100 rounds\n",
      "[100]\tvalid_0's l1: 74.0005\tvalid_1's l1: 66.9537\n",
      "[200]\tvalid_0's l1: 50.5642\tvalid_1's l1: 50.2408\n",
      "[300]\tvalid_0's l1: 39.0824\tvalid_1's l1: 42.8675\n",
      "[400]\tvalid_0's l1: 32.5596\tvalid_1's l1: 39.447\n",
      "[500]\tvalid_0's l1: 29.419\tvalid_1's l1: 38.2843\n",
      "[600]\tvalid_0's l1: 27.2737\tvalid_1's l1: 37.6426\n",
      "[700]\tvalid_0's l1: 25.8882\tvalid_1's l1: 37.3015\n",
      "[800]\tvalid_0's l1: 25.076\tvalid_1's l1: 37.2899\n",
      "[900]\tvalid_0's l1: 24.47\tvalid_1's l1: 37.272\n"
     ]
    },
    {
     "name": "stderr",
     "output_type": "stream",
     "text": [
      "num_leaves, val_score: 37.218267:   5%|5         | 1/20 [00:03<01:07,  3.53s/it]\u001b[32m[I 2022-12-02 12:15:25,869]\u001b[0m Trial 7 finished with value: 37.25560136519628 and parameters: {'num_leaves': 115}. Best is trial 7 with value: 37.25560136519628.\u001b[0m\n",
      "num_leaves, val_score: 37.218267:   5%|5         | 1/20 [00:03<01:07,  3.53s/it]"
     ]
    },
    {
     "name": "stdout",
     "output_type": "stream",
     "text": [
      "Early stopping, best iteration is:\n",
      "[895]\tvalid_0's l1: 24.4934\tvalid_1's l1: 37.2556\n",
      "Training until validation scores don't improve for 100 rounds\n",
      "[100]\tvalid_0's l1: 74.0005\tvalid_1's l1: 66.9537\n",
      "[200]\tvalid_0's l1: 50.5971\tvalid_1's l1: 50.2418\n",
      "[300]\tvalid_0's l1: 39.4785\tvalid_1's l1: 42.9909\n",
      "[400]\tvalid_0's l1: 33.4891\tvalid_1's l1: 39.8251\n",
      "[500]\tvalid_0's l1: 30.36\tvalid_1's l1: 38.5704\n",
      "[600]\tvalid_0's l1: 27.9242\tvalid_1's l1: 37.7841\n",
      "[700]\tvalid_0's l1: 26.4455\tvalid_1's l1: 37.3479\n",
      "[800]\tvalid_0's l1: 25.5952\tvalid_1's l1: 37.1708\n"
     ]
    },
    {
     "name": "stderr",
     "output_type": "stream",
     "text": [
      "num_leaves, val_score: 37.134760:  10%|#         | 2/20 [00:05<00:48,  2.68s/it]\u001b[32m[I 2022-12-02 12:15:27,945]\u001b[0m Trial 8 finished with value: 37.134759687779194 and parameters: {'num_leaves': 55}. Best is trial 8 with value: 37.134759687779194.\u001b[0m\n",
      "num_leaves, val_score: 37.134760:  10%|#         | 2/20 [00:05<00:48,  2.68s/it]"
     ]
    },
    {
     "name": "stdout",
     "output_type": "stream",
     "text": [
      "[900]\tvalid_0's l1: 24.9377\tvalid_1's l1: 37.1656\n",
      "Early stopping, best iteration is:\n",
      "[809]\tvalid_0's l1: 25.4997\tvalid_1's l1: 37.1348\n",
      "Training until validation scores don't improve for 100 rounds\n",
      "[100]\tvalid_0's l1: 74.0005\tvalid_1's l1: 66.9537\n",
      "[200]\tvalid_0's l1: 50.5587\tvalid_1's l1: 50.2197\n",
      "[300]\tvalid_0's l1: 39.4088\tvalid_1's l1: 43.0809\n",
      "[400]\tvalid_0's l1: 33.0659\tvalid_1's l1: 39.8019\n",
      "[500]\tvalid_0's l1: 30.0059\tvalid_1's l1: 38.5257\n",
      "[600]\tvalid_0's l1: 27.7627\tvalid_1's l1: 37.8469\n",
      "[700]\tvalid_0's l1: 26.3654\tvalid_1's l1: 37.4446\n",
      "[800]\tvalid_0's l1: 25.489\tvalid_1's l1: 37.3213\n"
     ]
    },
    {
     "name": "stderr",
     "output_type": "stream",
     "text": [
      "num_leaves, val_score: 37.134760:  15%|#5        | 3/20 [00:07<00:41,  2.43s/it]\u001b[32m[I 2022-12-02 12:15:30,087]\u001b[0m Trial 9 finished with value: 37.27859559104773 and parameters: {'num_leaves': 62}. Best is trial 8 with value: 37.134759687779194.\u001b[0m\n",
      "num_leaves, val_score: 37.134760:  15%|#5        | 3/20 [00:07<00:41,  2.43s/it]"
     ]
    },
    {
     "name": "stdout",
     "output_type": "stream",
     "text": [
      "[900]\tvalid_0's l1: 24.8579\tvalid_1's l1: 37.3002\n",
      "Early stopping, best iteration is:\n",
      "[883]\tvalid_0's l1: 24.9356\tvalid_1's l1: 37.2786\n",
      "Training until validation scores don't improve for 100 rounds\n",
      "[100]\tvalid_0's l1: 74.2881\tvalid_1's l1: 67.0041\n",
      "[200]\tvalid_0's l1: 51.3139\tvalid_1's l1: 50.3093\n",
      "[300]\tvalid_0's l1: 39.9691\tvalid_1's l1: 43.0419\n",
      "[400]\tvalid_0's l1: 34.7346\tvalid_1's l1: 40.2519\n",
      "[500]\tvalid_0's l1: 31.568\tvalid_1's l1: 38.979\n",
      "[600]\tvalid_0's l1: 29.3478\tvalid_1's l1: 38.0675\n",
      "[700]\tvalid_0's l1: 27.9897\tvalid_1's l1: 37.5567\n",
      "[800]\tvalid_0's l1: 27.1459\tvalid_1's l1: 37.42\n",
      "[900]\tvalid_0's l1: 26.4688\tvalid_1's l1: 37.2299\n",
      "[1000]\tvalid_0's l1: 25.8849\tvalid_1's l1: 37.1763\n"
     ]
    },
    {
     "name": "stderr",
     "output_type": "stream",
     "text": [
      "num_leaves, val_score: 37.134760:  20%|##        | 4/20 [00:09<00:35,  2.21s/it]\u001b[32m[I 2022-12-02 12:15:31,955]\u001b[0m Trial 10 finished with value: 37.13696677274714 and parameters: {'num_leaves': 25}. Best is trial 8 with value: 37.134759687779194.\u001b[0m\n",
      "num_leaves, val_score: 37.134760:  20%|##        | 4/20 [00:09<00:35,  2.21s/it]"
     ]
    },
    {
     "name": "stdout",
     "output_type": "stream",
     "text": [
      "[1100]\tvalid_0's l1: 25.5316\tvalid_1's l1: 37.2002\n",
      "Early stopping, best iteration is:\n",
      "[1036]\tvalid_0's l1: 25.7399\tvalid_1's l1: 37.137\n",
      "Training until validation scores don't improve for 100 rounds\n",
      "[100]\tvalid_0's l1: 74.0005\tvalid_1's l1: 66.9537\n",
      "[200]\tvalid_0's l1: 50.5642\tvalid_1's l1: 50.2408\n",
      "[300]\tvalid_0's l1: 39.0824\tvalid_1's l1: 42.8675\n",
      "[400]\tvalid_0's l1: 32.5596\tvalid_1's l1: 39.447\n",
      "[500]\tvalid_0's l1: 29.4189\tvalid_1's l1: 38.2843\n",
      "[600]\tvalid_0's l1: 27.374\tvalid_1's l1: 37.6818\n",
      "[700]\tvalid_0's l1: 25.9737\tvalid_1's l1: 37.3152\n",
      "[800]\tvalid_0's l1: 25.0895\tvalid_1's l1: 37.264\n"
     ]
    },
    {
     "name": "stderr",
     "output_type": "stream",
     "text": [
      "num_leaves, val_score: 37.134760:  25%|##5       | 5/20 [00:12<00:38,  2.59s/it]\u001b[32m[I 2022-12-02 12:15:35,215]\u001b[0m Trial 11 finished with value: 37.24857635776472 and parameters: {'num_leaves': 117}. Best is trial 8 with value: 37.134759687779194.\u001b[0m\n",
      "num_leaves, val_score: 37.134760:  25%|##5       | 5/20 [00:12<00:38,  2.59s/it]"
     ]
    },
    {
     "name": "stdout",
     "output_type": "stream",
     "text": [
      "[900]\tvalid_0's l1: 24.4831\tvalid_1's l1: 37.3189\n",
      "Early stopping, best iteration is:\n",
      "[809]\tvalid_0's l1: 25.014\tvalid_1's l1: 37.2486\n",
      "Training until validation scores don't improve for 100 rounds\n",
      "[100]\tvalid_0's l1: 74.0081\tvalid_1's l1: 66.9457\n",
      "[200]\tvalid_0's l1: 50.7167\tvalid_1's l1: 50.2778\n",
      "[300]\tvalid_0's l1: 40.2418\tvalid_1's l1: 43.5367\n",
      "[400]\tvalid_0's l1: 33.7402\tvalid_1's l1: 39.9218\n",
      "[500]\tvalid_0's l1: 30.8518\tvalid_1's l1: 39.0019\n",
      "[600]\tvalid_0's l1: 28.5244\tvalid_1's l1: 38.1438\n",
      "[700]\tvalid_0's l1: 26.9956\tvalid_1's l1: 37.6964\n",
      "[800]\tvalid_0's l1: 26.0211\tvalid_1's l1: 37.3952\n",
      "[900]\tvalid_0's l1: 25.3442\tvalid_1's l1: 37.3014\n"
     ]
    },
    {
     "name": "stderr",
     "output_type": "stream",
     "text": [
      "num_leaves, val_score: 37.134760:  30%|###       | 6/20 [00:15<00:36,  2.58s/it]\u001b[32m[I 2022-12-02 12:15:37,787]\u001b[0m Trial 12 finished with value: 37.277680495298355 and parameters: {'num_leaves': 46}. Best is trial 8 with value: 37.134759687779194.\u001b[0m\n",
      "num_leaves, val_score: 37.134760:  30%|###       | 6/20 [00:15<00:36,  2.58s/it]"
     ]
    },
    {
     "name": "stdout",
     "output_type": "stream",
     "text": [
      "[1000]\tvalid_0's l1: 24.8521\tvalid_1's l1: 37.3056\n",
      "Early stopping, best iteration is:\n",
      "[932]\tvalid_0's l1: 25.1574\tvalid_1's l1: 37.2777\n",
      "Training until validation scores don't improve for 100 rounds\n",
      "[100]\tvalid_0's l1: 74.0005\tvalid_1's l1: 66.9537\n",
      "[200]\tvalid_0's l1: 50.6601\tvalid_1's l1: 50.2604\n",
      "[300]\tvalid_0's l1: 40.116\tvalid_1's l1: 43.5804\n",
      "[400]\tvalid_0's l1: 33.8785\tvalid_1's l1: 40.2687\n",
      "[500]\tvalid_0's l1: 30.599\tvalid_1's l1: 38.9224\n",
      "[600]\tvalid_0's l1: 28.3693\tvalid_1's l1: 38.1706\n",
      "[700]\tvalid_0's l1: 26.7787\tvalid_1's l1: 37.6918\n",
      "[800]\tvalid_0's l1: 25.7537\tvalid_1's l1: 37.503\n"
     ]
    },
    {
     "name": "stderr",
     "output_type": "stream",
     "text": [
      "num_leaves, val_score: 37.134760:  35%|###5      | 7/20 [00:18<00:33,  2.57s/it]\u001b[32m[I 2022-12-02 12:15:40,344]\u001b[0m Trial 13 finished with value: 37.44799232040403 and parameters: {'num_leaves': 54}. Best is trial 8 with value: 37.134759687779194.\u001b[0m\n",
      "num_leaves, val_score: 37.134760:  35%|###5      | 7/20 [00:18<00:33,  2.57s/it]"
     ]
    },
    {
     "name": "stdout",
     "output_type": "stream",
     "text": [
      "[900]\tvalid_0's l1: 25.0912\tvalid_1's l1: 37.4677\n",
      "Early stopping, best iteration is:\n",
      "[871]\tvalid_0's l1: 25.2645\tvalid_1's l1: 37.448\n",
      "Training until validation scores don't improve for 100 rounds\n",
      "[100]\tvalid_0's l1: 74.0005\tvalid_1's l1: 66.9537\n",
      "[200]\tvalid_0's l1: 50.5642\tvalid_1's l1: 50.2408\n",
      "[300]\tvalid_0's l1: 39.0824\tvalid_1's l1: 42.8675\n",
      "[400]\tvalid_0's l1: 32.5596\tvalid_1's l1: 39.447\n",
      "[500]\tvalid_0's l1: 29.4189\tvalid_1's l1: 38.2843\n",
      "[600]\tvalid_0's l1: 27.374\tvalid_1's l1: 37.6818\n",
      "[700]\tvalid_0's l1: 25.9625\tvalid_1's l1: 37.3175\n",
      "[800]\tvalid_0's l1: 25.1076\tvalid_1's l1: 37.2628\n",
      "[900]\tvalid_0's l1: 24.4927\tvalid_1's l1: 37.2244\n"
     ]
    },
    {
     "name": "stderr",
     "output_type": "stream",
     "text": [
      "num_leaves, val_score: 37.134760:  40%|####      | 8/20 [00:20<00:31,  2.59s/it]\u001b[32m[I 2022-12-02 12:15:42,978]\u001b[0m Trial 14 finished with value: 37.21826683121242 and parameters: {'num_leaves': 186}. Best is trial 8 with value: 37.134759687779194.\u001b[0m\n",
      "num_leaves, val_score: 37.134760:  40%|####      | 8/20 [00:20<00:31,  2.59s/it]"
     ]
    },
    {
     "name": "stdout",
     "output_type": "stream",
     "text": [
      "Early stopping, best iteration is:\n",
      "[894]\tvalid_0's l1: 24.521\tvalid_1's l1: 37.2183\n",
      "Training until validation scores don't improve for 100 rounds\n",
      "[100]\tvalid_0's l1: 74.0005\tvalid_1's l1: 66.9537\n",
      "[200]\tvalid_0's l1: 50.5642\tvalid_1's l1: 50.2408\n",
      "[300]\tvalid_0's l1: 39.2183\tvalid_1's l1: 42.9617\n",
      "[400]\tvalid_0's l1: 32.5306\tvalid_1's l1: 39.4521\n",
      "[500]\tvalid_0's l1: 29.1938\tvalid_1's l1: 38.2637\n",
      "[600]\tvalid_0's l1: 27.2009\tvalid_1's l1: 37.6877\n",
      "[700]\tvalid_0's l1: 25.8661\tvalid_1's l1: 37.3651\n",
      "[800]\tvalid_0's l1: 25.1032\tvalid_1's l1: 37.3106\n",
      "[900]\tvalid_0's l1: 24.5608\tvalid_1's l1: 37.2733\n"
     ]
    },
    {
     "name": "stderr",
     "output_type": "stream",
     "text": [
      "num_leaves, val_score: 37.134760:  45%|####5     | 9/20 [00:22<00:26,  2.39s/it]\u001b[32m[I 2022-12-02 12:15:44,933]\u001b[0m Trial 15 finished with value: 37.25224845362523 and parameters: {'num_leaves': 82}. Best is trial 8 with value: 37.134759687779194.\u001b[0m\n",
      "num_leaves, val_score: 37.134760:  45%|####5     | 9/20 [00:22<00:26,  2.39s/it]"
     ]
    },
    {
     "name": "stdout",
     "output_type": "stream",
     "text": [
      "[1000]\tvalid_0's l1: 24.0963\tvalid_1's l1: 37.2647\n",
      "Early stopping, best iteration is:\n",
      "[938]\tvalid_0's l1: 24.3464\tvalid_1's l1: 37.2522\n",
      "Training until validation scores don't improve for 100 rounds\n",
      "[100]\tvalid_0's l1: 74.0005\tvalid_1's l1: 66.9537\n",
      "[200]\tvalid_0's l1: 50.6256\tvalid_1's l1: 50.2475\n",
      "[300]\tvalid_0's l1: 39.4071\tvalid_1's l1: 42.9653\n",
      "[400]\tvalid_0's l1: 32.8213\tvalid_1's l1: 39.5493\n",
      "[500]\tvalid_0's l1: 29.8656\tvalid_1's l1: 38.498\n",
      "[600]\tvalid_0's l1: 27.8532\tvalid_1's l1: 37.8326\n",
      "[700]\tvalid_0's l1: 26.4017\tvalid_1's l1: 37.399\n",
      "[800]\tvalid_0's l1: 25.591\tvalid_1's l1: 37.257\n",
      "[900]\tvalid_0's l1: 24.9617\tvalid_1's l1: 37.217\n",
      "[1000]\tvalid_0's l1: 24.5119\tvalid_1's l1: 37.2181\n",
      "Early stopping, best iteration is:\n",
      "[919]\tvalid_0's l1: 24.8643\tvalid_1's l1: 37.1974\n"
     ]
    },
    {
     "name": "stderr",
     "output_type": "stream",
     "text": [
      "num_leaves, val_score: 37.134760:  50%|#####     | 10/20 [00:24<00:22,  2.23s/it]\u001b[32m[I 2022-12-02 12:15:46,797]\u001b[0m Trial 16 finished with value: 37.197438649927896 and parameters: {'num_leaves': 59}. Best is trial 8 with value: 37.134759687779194.\u001b[0m\n",
      "num_leaves, val_score: 37.134760:  50%|#####     | 10/20 [00:24<00:22,  2.23s/it]"
     ]
    },
    {
     "name": "stdout",
     "output_type": "stream",
     "text": [
      "Training until validation scores don't improve for 100 rounds\n",
      "[100]\tvalid_0's l1: 74.0005\tvalid_1's l1: 66.9537\n",
      "[200]\tvalid_0's l1: 50.5642\tvalid_1's l1: 50.2408\n",
      "[300]\tvalid_0's l1: 39.0824\tvalid_1's l1: 42.8675\n",
      "[400]\tvalid_0's l1: 32.5596\tvalid_1's l1: 39.447\n",
      "[500]\tvalid_0's l1: 29.4189\tvalid_1's l1: 38.2843\n",
      "[600]\tvalid_0's l1: 27.374\tvalid_1's l1: 37.6818\n",
      "[700]\tvalid_0's l1: 25.9625\tvalid_1's l1: 37.3175\n",
      "[800]\tvalid_0's l1: 25.1076\tvalid_1's l1: 37.2628\n",
      "[900]\tvalid_0's l1: 24.4927\tvalid_1's l1: 37.2244\n"
     ]
    },
    {
     "name": "stderr",
     "output_type": "stream",
     "text": [
      "num_leaves, val_score: 37.134760:  55%|#####5    | 11/20 [00:27<00:22,  2.55s/it]\u001b[32m[I 2022-12-02 12:15:50,065]\u001b[0m Trial 17 finished with value: 37.21826683121242 and parameters: {'num_leaves': 249}. Best is trial 8 with value: 37.134759687779194.\u001b[0m\n",
      "num_leaves, val_score: 37.134760:  55%|#####5    | 11/20 [00:27<00:22,  2.55s/it]"
     ]
    },
    {
     "name": "stdout",
     "output_type": "stream",
     "text": [
      "Early stopping, best iteration is:\n",
      "[894]\tvalid_0's l1: 24.521\tvalid_1's l1: 37.2183\n",
      "Training until validation scores don't improve for 100 rounds\n",
      "[100]\tvalid_0's l1: 79.4434\tvalid_1's l1: 71.068\n",
      "[200]\tvalid_0's l1: 66.1008\tvalid_1's l1: 61.9713\n",
      "[300]\tvalid_0's l1: 61.1335\tvalid_1's l1: 59.4573\n",
      "[400]\tvalid_0's l1: 58.6309\tvalid_1's l1: 59.0733\n",
      "[500]\tvalid_0's l1: 56.0806\tvalid_1's l1: 58.4695\n",
      "[600]\tvalid_0's l1: 52.5167\tvalid_1's l1: 57.6709\n",
      "[700]\tvalid_0's l1: 50.5628\tvalid_1's l1: 57.151\n",
      "[800]\tvalid_0's l1: 48.6791\tvalid_1's l1: 56.8486\n",
      "[900]\tvalid_0's l1: 47.0709\tvalid_1's l1: 56.5136\n",
      "[1000]\tvalid_0's l1: 46.0162\tvalid_1's l1: 56.4176\n",
      "[1100]\tvalid_0's l1: 45.0055\tvalid_1's l1: 56.0973\n",
      "[1200]\tvalid_0's l1: 43.7156\tvalid_1's l1: 55.226\n",
      "[1300]\tvalid_0's l1: 42.758\tvalid_1's l1: 54.4373\n",
      "[1400]\tvalid_0's l1: 41.8815\tvalid_1's l1: 53.5463\n",
      "[1500]\tvalid_0's l1: 40.8442\tvalid_1's l1: 52.8104\n",
      "[1600]\tvalid_0's l1: 39.4119\tvalid_1's l1: 51.1663\n",
      "[1700]\tvalid_0's l1: 38.2366\tvalid_1's l1: 49.9058\n",
      "[1800]\tvalid_0's l1: 37.2613\tvalid_1's l1: 48.8175\n",
      "[1900]\tvalid_0's l1: 36.3326\tvalid_1's l1: 47.8709\n",
      "[2000]\tvalid_0's l1: 35.7652\tvalid_1's l1: 47.3048\n",
      "[2100]\tvalid_0's l1: 35.1234\tvalid_1's l1: 46.7305\n",
      "[2200]\tvalid_0's l1: 34.5192\tvalid_1's l1: 46.0053\n",
      "[2300]\tvalid_0's l1: 33.7708\tvalid_1's l1: 45.3375\n",
      "[2400]\tvalid_0's l1: 32.9809\tvalid_1's l1: 44.6377\n",
      "[2500]\tvalid_0's l1: 32.4455\tvalid_1's l1: 44.1351\n",
      "[2600]\tvalid_0's l1: 31.9949\tvalid_1's l1: 43.7075\n",
      "[2700]\tvalid_0's l1: 31.6737\tvalid_1's l1: 43.3846\n",
      "[2800]\tvalid_0's l1: 31.3854\tvalid_1's l1: 43.041\n",
      "[2900]\tvalid_0's l1: 31.0185\tvalid_1's l1: 42.658\n",
      "[3000]\tvalid_0's l1: 30.6921\tvalid_1's l1: 42.4385\n",
      "[3100]\tvalid_0's l1: 30.4083\tvalid_1's l1: 42.1486\n",
      "[3200]\tvalid_0's l1: 30.1751\tvalid_1's l1: 41.8999\n",
      "[3300]\tvalid_0's l1: 29.9739\tvalid_1's l1: 41.7499\n",
      "[3400]\tvalid_0's l1: 29.751\tvalid_1's l1: 41.5352\n",
      "[3500]\tvalid_0's l1: 29.5372\tvalid_1's l1: 41.3177\n",
      "[3600]\tvalid_0's l1: 29.3339\tvalid_1's l1: 41.0609\n",
      "[3700]\tvalid_0's l1: 29.1271\tvalid_1's l1: 40.7777\n",
      "[3800]\tvalid_0's l1: 28.9805\tvalid_1's l1: 40.5421\n",
      "[3900]\tvalid_0's l1: 28.8318\tvalid_1's l1: 40.4242\n",
      "[4000]\tvalid_0's l1: 28.7115\tvalid_1's l1: 40.2315\n",
      "[4100]\tvalid_0's l1: 28.5641\tvalid_1's l1: 40.1265\n",
      "[4200]\tvalid_0's l1: 28.4397\tvalid_1's l1: 39.9696\n",
      "[4300]\tvalid_0's l1: 28.2582\tvalid_1's l1: 39.7993\n",
      "[4400]\tvalid_0's l1: 28.1071\tvalid_1's l1: 39.7094\n",
      "[4500]\tvalid_0's l1: 27.9853\tvalid_1's l1: 39.5637\n",
      "[4600]\tvalid_0's l1: 27.8511\tvalid_1's l1: 39.4203\n",
      "[4700]\tvalid_0's l1: 27.7079\tvalid_1's l1: 39.2389\n",
      "[4800]\tvalid_0's l1: 27.6131\tvalid_1's l1: 39.247\n",
      "[4900]\tvalid_0's l1: 27.5271\tvalid_1's l1: 39.1263\n",
      "[5000]\tvalid_0's l1: 27.4545\tvalid_1's l1: 39.0713\n",
      "[5100]\tvalid_0's l1: 27.3673\tvalid_1's l1: 38.9048\n",
      "[5200]\tvalid_0's l1: 27.2892\tvalid_1's l1: 38.8568\n",
      "[5300]\tvalid_0's l1: 27.2297\tvalid_1's l1: 38.7306\n",
      "[5400]\tvalid_0's l1: 27.1583\tvalid_1's l1: 38.6988\n",
      "[5500]\tvalid_0's l1: 27.0844\tvalid_1's l1: 38.627\n",
      "[5600]\tvalid_0's l1: 27.0242\tvalid_1's l1: 38.5199\n",
      "[5700]\tvalid_0's l1: 26.9779\tvalid_1's l1: 38.4515\n",
      "[5800]\tvalid_0's l1: 26.9186\tvalid_1's l1: 38.4189\n",
      "[5900]\tvalid_0's l1: 26.8669\tvalid_1's l1: 38.4037\n",
      "[6000]\tvalid_0's l1: 26.8078\tvalid_1's l1: 38.377\n"
     ]
    },
    {
     "name": "stderr",
     "output_type": "stream",
     "text": [
      "num_leaves, val_score: 37.134760:  60%|######    | 12/20 [00:31<00:24,  3.00s/it]\u001b[32m[I 2022-12-02 12:15:54,107]\u001b[0m Trial 18 finished with value: 38.37601880581571 and parameters: {'num_leaves': 5}. Best is trial 8 with value: 37.134759687779194.\u001b[0m\n",
      "num_leaves, val_score: 37.134760:  60%|######    | 12/20 [00:31<00:24,  3.00s/it]"
     ]
    },
    {
     "name": "stdout",
     "output_type": "stream",
     "text": [
      "[6100]\tvalid_0's l1: 26.7591\tvalid_1's l1: 38.4082\n",
      "Early stopping, best iteration is:\n",
      "[6036]\tvalid_0's l1: 26.7922\tvalid_1's l1: 38.376\n",
      "Training until validation scores don't improve for 100 rounds\n",
      "[100]\tvalid_0's l1: 77.9195\tvalid_1's l1: 69.8736\n",
      "[200]\tvalid_0's l1: 63.1084\tvalid_1's l1: 60.1706\n",
      "[300]\tvalid_0's l1: 57.3779\tvalid_1's l1: 57.6295\n",
      "[400]\tvalid_0's l1: 53.4302\tvalid_1's l1: 56.333\n",
      "[500]\tvalid_0's l1: 50.4024\tvalid_1's l1: 55.1911\n",
      "[600]\tvalid_0's l1: 47.411\tvalid_1's l1: 53.6956\n",
      "[700]\tvalid_0's l1: 44.9182\tvalid_1's l1: 52.5426\n",
      "[800]\tvalid_0's l1: 42.3484\tvalid_1's l1: 51.0691\n",
      "[900]\tvalid_0's l1: 40.1605\tvalid_1's l1: 49.9001\n",
      "[1000]\tvalid_0's l1: 38.138\tvalid_1's l1: 48.2518\n",
      "[1100]\tvalid_0's l1: 36.4086\tvalid_1's l1: 47.2798\n",
      "[1200]\tvalid_0's l1: 34.8962\tvalid_1's l1: 46.3373\n",
      "[1300]\tvalid_0's l1: 33.3397\tvalid_1's l1: 45.2493\n",
      "[1400]\tvalid_0's l1: 32.4416\tvalid_1's l1: 44.704\n",
      "[1500]\tvalid_0's l1: 31.4961\tvalid_1's l1: 44.0769\n",
      "[1600]\tvalid_0's l1: 30.8864\tvalid_1's l1: 43.6005\n",
      "[1700]\tvalid_0's l1: 30.3218\tvalid_1's l1: 42.9424\n",
      "[1800]\tvalid_0's l1: 29.8616\tvalid_1's l1: 42.5019\n",
      "[1900]\tvalid_0's l1: 29.436\tvalid_1's l1: 41.8529\n",
      "[2000]\tvalid_0's l1: 28.9947\tvalid_1's l1: 41.4837\n",
      "[2100]\tvalid_0's l1: 28.6545\tvalid_1's l1: 41.0707\n",
      "[2200]\tvalid_0's l1: 28.3515\tvalid_1's l1: 40.61\n",
      "[2300]\tvalid_0's l1: 28.0995\tvalid_1's l1: 40.2872\n",
      "[2400]\tvalid_0's l1: 27.899\tvalid_1's l1: 40.0787\n",
      "[2500]\tvalid_0's l1: 27.7134\tvalid_1's l1: 39.7658\n",
      "[2600]\tvalid_0's l1: 27.5492\tvalid_1's l1: 39.5477\n",
      "[2700]\tvalid_0's l1: 27.4124\tvalid_1's l1: 39.3891\n",
      "[2800]\tvalid_0's l1: 27.25\tvalid_1's l1: 39.1424\n",
      "[2900]\tvalid_0's l1: 27.1093\tvalid_1's l1: 39.0205\n",
      "[3000]\tvalid_0's l1: 26.9754\tvalid_1's l1: 38.886\n",
      "[3100]\tvalid_0's l1: 26.863\tvalid_1's l1: 38.7579\n",
      "[3200]\tvalid_0's l1: 26.7678\tvalid_1's l1: 38.7311\n",
      "[3300]\tvalid_0's l1: 26.6798\tvalid_1's l1: 38.6325\n",
      "[3400]\tvalid_0's l1: 26.5809\tvalid_1's l1: 38.5434\n",
      "[3500]\tvalid_0's l1: 26.5125\tvalid_1's l1: 38.4715\n",
      "[3600]\tvalid_0's l1: 26.4294\tvalid_1's l1: 38.3847\n",
      "[3700]\tvalid_0's l1: 26.3533\tvalid_1's l1: 38.3113\n",
      "[3800]\tvalid_0's l1: 26.287\tvalid_1's l1: 38.2402\n",
      "[3900]\tvalid_0's l1: 26.2265\tvalid_1's l1: 38.146\n",
      "[4000]\tvalid_0's l1: 26.1713\tvalid_1's l1: 38.0862\n"
     ]
    },
    {
     "name": "stderr",
     "output_type": "stream",
     "text": [
      "num_leaves, val_score: 37.134760:  65%|######5   | 13/20 [00:34<00:21,  3.04s/it]\u001b[32m[I 2022-12-02 12:15:57,245]\u001b[0m Trial 19 finished with value: 38.01746419421357 and parameters: {'num_leaves': 7}. Best is trial 8 with value: 37.134759687779194.\u001b[0m\n",
      "num_leaves, val_score: 37.134760:  65%|######5   | 13/20 [00:34<00:21,  3.04s/it]"
     ]
    },
    {
     "name": "stdout",
     "output_type": "stream",
     "text": [
      "[4100]\tvalid_0's l1: 26.1146\tvalid_1's l1: 38.0434\n",
      "Early stopping, best iteration is:\n",
      "[4050]\tvalid_0's l1: 26.1421\tvalid_1's l1: 38.0175\n",
      "Training until validation scores don't improve for 100 rounds\n",
      "[100]\tvalid_0's l1: 74.0005\tvalid_1's l1: 66.9537\n",
      "[200]\tvalid_0's l1: 50.5642\tvalid_1's l1: 50.2408\n",
      "[300]\tvalid_0's l1: 39.0824\tvalid_1's l1: 42.8675\n",
      "[400]\tvalid_0's l1: 32.5596\tvalid_1's l1: 39.447\n",
      "[500]\tvalid_0's l1: 29.4189\tvalid_1's l1: 38.2843\n",
      "[600]\tvalid_0's l1: 27.374\tvalid_1's l1: 37.6818\n",
      "[700]\tvalid_0's l1: 25.9625\tvalid_1's l1: 37.3175\n",
      "[800]\tvalid_0's l1: 25.1076\tvalid_1's l1: 37.2628\n",
      "[900]\tvalid_0's l1: 24.4927\tvalid_1's l1: 37.2244\n"
     ]
    },
    {
     "name": "stderr",
     "output_type": "stream",
     "text": [
      "num_leaves, val_score: 37.134760:  70%|#######   | 14/20 [00:37<00:16,  2.81s/it]\u001b[32m[I 2022-12-02 12:15:59,500]\u001b[0m Trial 20 finished with value: 37.21826683121242 and parameters: {'num_leaves': 185}. Best is trial 8 with value: 37.134759687779194.\u001b[0m\n",
      "num_leaves, val_score: 37.134760:  70%|#######   | 14/20 [00:37<00:16,  2.81s/it]"
     ]
    },
    {
     "name": "stdout",
     "output_type": "stream",
     "text": [
      "Early stopping, best iteration is:\n",
      "[894]\tvalid_0's l1: 24.521\tvalid_1's l1: 37.2183\n",
      "Training until validation scores don't improve for 100 rounds\n",
      "[100]\tvalid_0's l1: 74.2881\tvalid_1's l1: 67.0041\n",
      "[200]\tvalid_0's l1: 51.3139\tvalid_1's l1: 50.3093\n",
      "[300]\tvalid_0's l1: 39.9691\tvalid_1's l1: 43.0419\n",
      "[400]\tvalid_0's l1: 34.7346\tvalid_1's l1: 40.2519\n",
      "[500]\tvalid_0's l1: 31.568\tvalid_1's l1: 38.979\n",
      "[600]\tvalid_0's l1: 29.3478\tvalid_1's l1: 38.0675\n",
      "[700]\tvalid_0's l1: 27.9897\tvalid_1's l1: 37.5567\n",
      "[800]\tvalid_0's l1: 27.1459\tvalid_1's l1: 37.42\n",
      "[900]\tvalid_0's l1: 26.4688\tvalid_1's l1: 37.2299\n"
     ]
    },
    {
     "name": "stderr",
     "output_type": "stream",
     "text": [
      "num_leaves, val_score: 37.134760:  75%|#######5  | 15/20 [00:38<00:12,  2.41s/it]\u001b[32m[I 2022-12-02 12:16:00,998]\u001b[0m Trial 21 finished with value: 37.13696677274714 and parameters: {'num_leaves': 25}. Best is trial 8 with value: 37.134759687779194.\u001b[0m\n",
      "num_leaves, val_score: 37.134760:  75%|#######5  | 15/20 [00:38<00:12,  2.41s/it]"
     ]
    },
    {
     "name": "stdout",
     "output_type": "stream",
     "text": [
      "[1000]\tvalid_0's l1: 25.8849\tvalid_1's l1: 37.1763\n",
      "[1100]\tvalid_0's l1: 25.5316\tvalid_1's l1: 37.2002\n",
      "Early stopping, best iteration is:\n",
      "[1036]\tvalid_0's l1: 25.7399\tvalid_1's l1: 37.137\n",
      "Training until validation scores don't improve for 100 rounds\n",
      "[100]\tvalid_0's l1: 74.0005\tvalid_1's l1: 66.9537\n",
      "[200]\tvalid_0's l1: 50.5642\tvalid_1's l1: 50.2408\n",
      "[300]\tvalid_0's l1: 39.0824\tvalid_1's l1: 42.8675\n",
      "[400]\tvalid_0's l1: 32.5565\tvalid_1's l1: 39.4392\n",
      "[500]\tvalid_0's l1: 29.4048\tvalid_1's l1: 38.2375\n",
      "[600]\tvalid_0's l1: 27.3025\tvalid_1's l1: 37.578\n",
      "[700]\tvalid_0's l1: 25.9455\tvalid_1's l1: 37.2382\n"
     ]
    },
    {
     "name": "stderr",
     "output_type": "stream",
     "text": [
      "num_leaves, val_score: 37.134760:  80%|########  | 16/20 [00:40<00:08,  2.18s/it]\u001b[32m[I 2022-12-02 12:16:02,649]\u001b[0m Trial 22 finished with value: 37.23631827977919 and parameters: {'num_leaves': 99}. Best is trial 8 with value: 37.134759687779194.\u001b[0m\n",
      "num_leaves, val_score: 37.134760:  80%|########  | 16/20 [00:40<00:08,  2.18s/it]"
     ]
    },
    {
     "name": "stdout",
     "output_type": "stream",
     "text": [
      "[800]\tvalid_0's l1: 25.1407\tvalid_1's l1: 37.2609\n",
      "Early stopping, best iteration is:\n",
      "[744]\tvalid_0's l1: 25.5906\tvalid_1's l1: 37.2363\n",
      "Training until validation scores don't improve for 100 rounds\n",
      "[100]\tvalid_0's l1: 74.0005\tvalid_1's l1: 66.9537\n",
      "[200]\tvalid_0's l1: 50.5642\tvalid_1's l1: 50.2408\n",
      "[300]\tvalid_0's l1: 39.0824\tvalid_1's l1: 42.8675\n",
      "[400]\tvalid_0's l1: 32.5596\tvalid_1's l1: 39.447\n",
      "[500]\tvalid_0's l1: 29.4189\tvalid_1's l1: 38.2843\n",
      "[600]\tvalid_0's l1: 27.374\tvalid_1's l1: 37.6818\n",
      "[700]\tvalid_0's l1: 25.9625\tvalid_1's l1: 37.3175\n",
      "[800]\tvalid_0's l1: 25.1076\tvalid_1's l1: 37.2628\n",
      "[900]\tvalid_0's l1: 24.4927\tvalid_1's l1: 37.2244\n"
     ]
    },
    {
     "name": "stderr",
     "output_type": "stream",
     "text": [
      "num_leaves, val_score: 37.134760:  85%|########5 | 17/20 [00:43<00:07,  2.46s/it]\u001b[32m[I 2022-12-02 12:16:05,744]\u001b[0m Trial 23 finished with value: 37.21826683121242 and parameters: {'num_leaves': 158}. Best is trial 8 with value: 37.134759687779194.\u001b[0m\n",
      "num_leaves, val_score: 37.134760:  85%|########5 | 17/20 [00:43<00:07,  2.46s/it]"
     ]
    },
    {
     "name": "stdout",
     "output_type": "stream",
     "text": [
      "Early stopping, best iteration is:\n",
      "[894]\tvalid_0's l1: 24.521\tvalid_1's l1: 37.2183\n",
      "Training until validation scores don't improve for 100 rounds\n",
      "[100]\tvalid_0's l1: 74.1533\tvalid_1's l1: 66.9317\n",
      "[200]\tvalid_0's l1: 50.8904\tvalid_1's l1: 50.0362\n",
      "[300]\tvalid_0's l1: 40.2463\tvalid_1's l1: 43.2133\n",
      "[400]\tvalid_0's l1: 34.5347\tvalid_1's l1: 39.9958\n",
      "[500]\tvalid_0's l1: 31.3784\tvalid_1's l1: 38.6061\n",
      "[600]\tvalid_0's l1: 29.179\tvalid_1's l1: 37.8142\n",
      "[700]\tvalid_0's l1: 27.6587\tvalid_1's l1: 37.3487\n",
      "[800]\tvalid_0's l1: 26.6733\tvalid_1's l1: 37.185\n",
      "[900]\tvalid_0's l1: 25.9951\tvalid_1's l1: 37.0795\n"
     ]
    },
    {
     "name": "stderr",
     "output_type": "stream",
     "text": [
      "num_leaves, val_score: 37.029213:  90%|######### | 18/20 [00:45<00:04,  2.24s/it]\u001b[32m[I 2022-12-02 12:16:07,489]\u001b[0m Trial 24 finished with value: 37.029212525249314 and parameters: {'num_leaves': 31}. Best is trial 24 with value: 37.029212525249314.\u001b[0m\n",
      "num_leaves, val_score: 37.029213:  90%|######### | 18/20 [00:45<00:04,  2.24s/it]"
     ]
    },
    {
     "name": "stdout",
     "output_type": "stream",
     "text": [
      "[1000]\tvalid_0's l1: 25.4497\tvalid_1's l1: 37.0295\n",
      "Early stopping, best iteration is:\n",
      "[988]\tvalid_0's l1: 25.4923\tvalid_1's l1: 37.0292\n",
      "Training until validation scores don't improve for 100 rounds\n",
      "[100]\tvalid_0's l1: 74.0005\tvalid_1's l1: 66.9537\n",
      "[200]\tvalid_0's l1: 50.5642\tvalid_1's l1: 50.2408\n",
      "[300]\tvalid_0's l1: 39.0834\tvalid_1's l1: 42.8676\n",
      "[400]\tvalid_0's l1: 32.6884\tvalid_1's l1: 39.5617\n",
      "[500]\tvalid_0's l1: 29.4807\tvalid_1's l1: 38.4439\n",
      "[600]\tvalid_0's l1: 27.4552\tvalid_1's l1: 37.8066\n",
      "[700]\tvalid_0's l1: 25.9562\tvalid_1's l1: 37.4103\n",
      "[800]\tvalid_0's l1: 25.1722\tvalid_1's l1: 37.293\n"
     ]
    },
    {
     "name": "stderr",
     "output_type": "stream",
     "text": [
      "num_leaves, val_score: 37.029213:  95%|#########5| 19/20 [00:47<00:02,  2.13s/it]\u001b[32m[I 2022-12-02 12:16:09,359]\u001b[0m Trial 25 finished with value: 37.260335625532846 and parameters: {'num_leaves': 84}. Best is trial 24 with value: 37.029212525249314.\u001b[0m\n",
      "num_leaves, val_score: 37.029213:  95%|#########5| 19/20 [00:47<00:02,  2.13s/it]"
     ]
    },
    {
     "name": "stdout",
     "output_type": "stream",
     "text": [
      "[900]\tvalid_0's l1: 24.6288\tvalid_1's l1: 37.306\n",
      "Early stopping, best iteration is:\n",
      "[852]\tvalid_0's l1: 24.8598\tvalid_1's l1: 37.2603\n",
      "Training until validation scores don't improve for 100 rounds\n",
      "[100]\tvalid_0's l1: 74.0005\tvalid_1's l1: 66.9537\n",
      "[200]\tvalid_0's l1: 50.5642\tvalid_1's l1: 50.2408\n",
      "[300]\tvalid_0's l1: 39.0824\tvalid_1's l1: 42.8675\n",
      "[400]\tvalid_0's l1: 32.5596\tvalid_1's l1: 39.447\n",
      "[500]\tvalid_0's l1: 29.4189\tvalid_1's l1: 38.2843\n",
      "[600]\tvalid_0's l1: 27.374\tvalid_1's l1: 37.6818\n",
      "[700]\tvalid_0's l1: 25.9625\tvalid_1's l1: 37.3175\n",
      "[800]\tvalid_0's l1: 25.1076\tvalid_1's l1: 37.2628\n",
      "[900]\tvalid_0's l1: 24.4927\tvalid_1's l1: 37.2244\n"
     ]
    },
    {
     "name": "stderr",
     "output_type": "stream",
     "text": [
      "num_leaves, val_score: 37.029213: 100%|##########| 20/20 [00:49<00:00,  2.14s/it]\u001b[32m[I 2022-12-02 12:16:11,523]\u001b[0m Trial 26 finished with value: 37.21826683121242 and parameters: {'num_leaves': 145}. Best is trial 24 with value: 37.029212525249314.\u001b[0m\n",
      "num_leaves, val_score: 37.029213: 100%|##########| 20/20 [00:49<00:00,  2.46s/it]\n"
     ]
    },
    {
     "name": "stdout",
     "output_type": "stream",
     "text": [
      "Early stopping, best iteration is:\n",
      "[894]\tvalid_0's l1: 24.521\tvalid_1's l1: 37.2183\n"
     ]
    },
    {
     "name": "stderr",
     "output_type": "stream",
     "text": [
      "bagging, val_score: 37.029213:   0%|          | 0/10 [00:00<?, ?it/s]"
     ]
    },
    {
     "name": "stdout",
     "output_type": "stream",
     "text": [
      "Training until validation scores don't improve for 100 rounds\n",
      "[100]\tvalid_0's l1: 73.653\tvalid_1's l1: 66.5551\n",
      "[200]\tvalid_0's l1: 53.4779\tvalid_1's l1: 52.0944\n",
      "[300]\tvalid_0's l1: 41.9191\tvalid_1's l1: 44.9197\n",
      "[400]\tvalid_0's l1: 35.5417\tvalid_1's l1: 41.2824\n",
      "[500]\tvalid_0's l1: 32.153\tvalid_1's l1: 39.4644\n",
      "[600]\tvalid_0's l1: 30.1641\tvalid_1's l1: 38.6008\n",
      "[700]\tvalid_0's l1: 28.3858\tvalid_1's l1: 37.8368\n",
      "[800]\tvalid_0's l1: 27.4741\tvalid_1's l1: 37.5145\n",
      "[900]\tvalid_0's l1: 26.7197\tvalid_1's l1: 37.4666\n"
     ]
    },
    {
     "name": "stderr",
     "output_type": "stream",
     "text": [
      "bagging, val_score: 37.029213:  10%|#         | 1/10 [00:01<00:11,  1.24s/it]\u001b[32m[I 2022-12-02 12:16:12,858]\u001b[0m Trial 27 finished with value: 37.40765899442504 and parameters: {'bagging_fraction': 0.4873463794040993, 'bagging_freq': 5}. Best is trial 27 with value: 37.40765899442504.\u001b[0m\n",
      "bagging, val_score: 37.029213:  10%|#         | 1/10 [00:01<00:11,  1.24s/it]"
     ]
    },
    {
     "name": "stdout",
     "output_type": "stream",
     "text": [
      "Early stopping, best iteration is:\n",
      "[891]\tvalid_0's l1: 26.7976\tvalid_1's l1: 37.4077\n",
      "Training until validation scores don't improve for 100 rounds\n",
      "[100]\tvalid_0's l1: 73.8097\tvalid_1's l1: 66.7038\n",
      "[200]\tvalid_0's l1: 53.3346\tvalid_1's l1: 52.0781\n",
      "[300]\tvalid_0's l1: 41.4246\tvalid_1's l1: 44.3961\n",
      "[400]\tvalid_0's l1: 34.5868\tvalid_1's l1: 40.7896\n",
      "[500]\tvalid_0's l1: 31.3768\tvalid_1's l1: 39.053\n",
      "[600]\tvalid_0's l1: 29.2461\tvalid_1's l1: 38.0805\n",
      "[700]\tvalid_0's l1: 28.0391\tvalid_1's l1: 37.6311\n",
      "[800]\tvalid_0's l1: 27.261\tvalid_1's l1: 37.2373\n",
      "[900]\tvalid_0's l1: 26.6132\tvalid_1's l1: 37.1826\n",
      "[1000]\tvalid_0's l1: 26.1773\tvalid_1's l1: 37.1838\n",
      "[1100]\tvalid_0's l1: 25.7978\tvalid_1's l1: 37.1878\n",
      "[1200]\tvalid_0's l1: 25.5317\tvalid_1's l1: 37.0448\n",
      "[1300]\tvalid_0's l1: 25.3068\tvalid_1's l1: 36.9377\n",
      "[1400]\tvalid_0's l1: 25.1266\tvalid_1's l1: 36.8333\n"
     ]
    },
    {
     "name": "stderr",
     "output_type": "stream",
     "text": [
      "bagging, val_score: 36.827132:  20%|##        | 2/10 [00:03<00:12,  1.55s/it]\u001b[32m[I 2022-12-02 12:16:14,631]\u001b[0m Trial 28 finished with value: 36.82713164657622 and parameters: {'bagging_fraction': 0.5011667566981977, 'bagging_freq': 5}. Best is trial 28 with value: 36.82713164657622.\u001b[0m\n",
      "bagging, val_score: 36.827132:  20%|##        | 2/10 [00:03<00:12,  1.55s/it]"
     ]
    },
    {
     "name": "stdout",
     "output_type": "stream",
     "text": [
      "Early stopping, best iteration is:\n",
      "[1374]\tvalid_0's l1: 25.1634\tvalid_1's l1: 36.8271\n",
      "Training until validation scores don't improve for 100 rounds\n",
      "[100]\tvalid_0's l1: 74.522\tvalid_1's l1: 67.4243\n",
      "[200]\tvalid_0's l1: 51.0257\tvalid_1's l1: 50.389\n",
      "[300]\tvalid_0's l1: 40.3548\tvalid_1's l1: 43.664\n",
      "[400]\tvalid_0's l1: 34.1006\tvalid_1's l1: 40.2951\n",
      "[500]\tvalid_0's l1: 30.7112\tvalid_1's l1: 38.8285\n",
      "[600]\tvalid_0's l1: 28.8731\tvalid_1's l1: 38.2407\n",
      "[700]\tvalid_0's l1: 27.5219\tvalid_1's l1: 37.7418\n",
      "[800]\tvalid_0's l1: 26.7224\tvalid_1's l1: 37.4135\n",
      "[900]\tvalid_0's l1: 26.1965\tvalid_1's l1: 37.0799\n",
      "[1000]\tvalid_0's l1: 25.6927\tvalid_1's l1: 36.9152\n",
      "[1100]\tvalid_0's l1: 25.3918\tvalid_1's l1: 36.8074\n",
      "[1200]\tvalid_0's l1: 25.1377\tvalid_1's l1: 36.7494\n"
     ]
    },
    {
     "name": "stderr",
     "output_type": "stream",
     "text": [
      "bagging, val_score: 36.734121:  30%|###       | 3/10 [00:04<00:11,  1.60s/it]\u001b[32m[I 2022-12-02 12:16:16,289]\u001b[0m Trial 29 finished with value: 36.734121287731014 and parameters: {'bagging_fraction': 0.6667256562898355, 'bagging_freq': 3}. Best is trial 29 with value: 36.734121287731014.\u001b[0m\n",
      "bagging, val_score: 36.734121:  30%|###       | 3/10 [00:04<00:11,  1.60s/it]"
     ]
    },
    {
     "name": "stdout",
     "output_type": "stream",
     "text": [
      "[1300]\tvalid_0's l1: 24.9148\tvalid_1's l1: 36.8204\n",
      "Early stopping, best iteration is:\n",
      "[1206]\tvalid_0's l1: 25.1193\tvalid_1's l1: 36.7341\n",
      "Training until validation scores don't improve for 100 rounds\n",
      "[100]\tvalid_0's l1: 73.7307\tvalid_1's l1: 66.4972\n",
      "[200]\tvalid_0's l1: 52.7961\tvalid_1's l1: 51.3953\n",
      "[300]\tvalid_0's l1: 41.0261\tvalid_1's l1: 44.017\n",
      "[400]\tvalid_0's l1: 34.4107\tvalid_1's l1: 40.6594\n",
      "[500]\tvalid_0's l1: 31.0698\tvalid_1's l1: 38.9149\n",
      "[600]\tvalid_0's l1: 29.3104\tvalid_1's l1: 38.1037\n",
      "[700]\tvalid_0's l1: 28.1764\tvalid_1's l1: 37.7421\n",
      "[800]\tvalid_0's l1: 27.2353\tvalid_1's l1: 37.2388\n"
     ]
    },
    {
     "name": "stderr",
     "output_type": "stream",
     "text": [
      "bagging, val_score: 36.734121:  40%|####      | 4/10 [00:05<00:08,  1.42s/it]\u001b[32m[I 2022-12-02 12:16:17,443]\u001b[0m Trial 30 finished with value: 37.199192382276564 and parameters: {'bagging_fraction': 0.4993188058103102, 'bagging_freq': 5}. Best is trial 29 with value: 36.734121287731014.\u001b[0m\n",
      "bagging, val_score: 36.734121:  40%|####      | 4/10 [00:05<00:08,  1.42s/it]"
     ]
    },
    {
     "name": "stdout",
     "output_type": "stream",
     "text": [
      "[900]\tvalid_0's l1: 26.6167\tvalid_1's l1: 37.2383\n",
      "Early stopping, best iteration is:\n",
      "[815]\tvalid_0's l1: 27.1266\tvalid_1's l1: 37.1992\n",
      "Training until validation scores don't improve for 100 rounds\n",
      "[100]\tvalid_0's l1: 73.9972\tvalid_1's l1: 66.429\n",
      "[200]\tvalid_0's l1: 51.1805\tvalid_1's l1: 50.1669\n",
      "[300]\tvalid_0's l1: 40.5134\tvalid_1's l1: 43.5582\n",
      "[400]\tvalid_0's l1: 33.9151\tvalid_1's l1: 39.6786\n",
      "[500]\tvalid_0's l1: 30.617\tvalid_1's l1: 38.0696\n",
      "[600]\tvalid_0's l1: 28.8376\tvalid_1's l1: 37.5447\n",
      "[700]\tvalid_0's l1: 27.6951\tvalid_1's l1: 37.3047\n",
      "[800]\tvalid_0's l1: 26.9239\tvalid_1's l1: 37.1902\n",
      "[900]\tvalid_0's l1: 26.3149\tvalid_1's l1: 37.0027\n",
      "[1000]\tvalid_0's l1: 25.8072\tvalid_1's l1: 36.9424\n",
      "Early stopping, best iteration is:\n",
      "[960]\tvalid_0's l1: 25.9697\tvalid_1's l1: 36.9189\n"
     ]
    },
    {
     "name": "stderr",
     "output_type": "stream",
     "text": [
      "bagging, val_score: 36.734121:  50%|#####     | 5/10 [00:07<00:06,  1.39s/it]\u001b[32m[I 2022-12-02 12:16:18,783]\u001b[0m Trial 31 finished with value: 36.91893593993148 and parameters: {'bagging_fraction': 0.5318780688935527, 'bagging_freq': 3}. Best is trial 29 with value: 36.734121287731014.\u001b[0m\n",
      "bagging, val_score: 36.734121:  50%|#####     | 5/10 [00:07<00:06,  1.39s/it]"
     ]
    },
    {
     "name": "stdout",
     "output_type": "stream",
     "text": [
      "Training until validation scores don't improve for 100 rounds\n",
      "[100]\tvalid_0's l1: 74.5151\tvalid_1's l1: 66.8951\n",
      "[200]\tvalid_0's l1: 53.3826\tvalid_1's l1: 51.7867\n",
      "[300]\tvalid_0's l1: 42.1584\tvalid_1's l1: 44.6603\n",
      "[400]\tvalid_0's l1: 35.4509\tvalid_1's l1: 41.0608\n",
      "[500]\tvalid_0's l1: 31.954\tvalid_1's l1: 39.4626\n",
      "[600]\tvalid_0's l1: 29.5224\tvalid_1's l1: 38.0785\n",
      "[700]\tvalid_0's l1: 28.2678\tvalid_1's l1: 37.6728\n",
      "[800]\tvalid_0's l1: 27.6201\tvalid_1's l1: 37.535\n",
      "[900]\tvalid_0's l1: 27.0198\tvalid_1's l1: 37.3112\n",
      "[1000]\tvalid_0's l1: 26.4\tvalid_1's l1: 37.0215\n"
     ]
    },
    {
     "name": "stderr",
     "output_type": "stream",
     "text": [
      "bagging, val_score: 36.734121:  60%|######    | 6/10 [00:09<00:06,  1.67s/it]\u001b[32m[I 2022-12-02 12:16:20,980]\u001b[0m Trial 32 finished with value: 36.98940865455205 and parameters: {'bagging_fraction': 0.4464585235143675, 'bagging_freq': 6}. Best is trial 29 with value: 36.734121287731014.\u001b[0m\n",
      "bagging, val_score: 36.734121:  60%|######    | 6/10 [00:09<00:06,  1.67s/it]"
     ]
    },
    {
     "name": "stdout",
     "output_type": "stream",
     "text": [
      "Early stopping, best iteration is:\n",
      "[990]\tvalid_0's l1: 26.4739\tvalid_1's l1: 36.9894\n",
      "Training until validation scores don't improve for 100 rounds\n",
      "[100]\tvalid_0's l1: 74.2111\tvalid_1's l1: 66.8492\n",
      "[200]\tvalid_0's l1: 50.8657\tvalid_1's l1: 50.023\n",
      "[300]\tvalid_0's l1: 40.073\tvalid_1's l1: 43.2316\n",
      "[400]\tvalid_0's l1: 33.8977\tvalid_1's l1: 40.2025\n",
      "[500]\tvalid_0's l1: 30.8611\tvalid_1's l1: 38.8283\n",
      "[600]\tvalid_0's l1: 28.6397\tvalid_1's l1: 37.9906\n",
      "[700]\tvalid_0's l1: 27.284\tvalid_1's l1: 37.5007\n",
      "[800]\tvalid_0's l1: 26.5024\tvalid_1's l1: 37.3912\n"
     ]
    },
    {
     "name": "stderr",
     "output_type": "stream",
     "text": [
      "bagging, val_score: 36.734121:  70%|#######   | 7/10 [00:11<00:05,  1.70s/it]\u001b[32m[I 2022-12-02 12:16:22,737]\u001b[0m Trial 33 finished with value: 37.318352472174574 and parameters: {'bagging_fraction': 0.7944964429918289, 'bagging_freq': 2}. Best is trial 29 with value: 36.734121287731014.\u001b[0m\n",
      "bagging, val_score: 36.734121:  70%|#######   | 7/10 [00:11<00:05,  1.70s/it]"
     ]
    },
    {
     "name": "stdout",
     "output_type": "stream",
     "text": [
      "[900]\tvalid_0's l1: 25.9145\tvalid_1's l1: 37.3948\n",
      "Early stopping, best iteration is:\n",
      "[831]\tvalid_0's l1: 26.2799\tvalid_1's l1: 37.3184\n",
      "Training until validation scores don't improve for 100 rounds\n",
      "[100]\tvalid_0's l1: 74.3227\tvalid_1's l1: 66.9013\n",
      "[200]\tvalid_0's l1: 51.6829\tvalid_1's l1: 50.7157\n",
      "[300]\tvalid_0's l1: 40.678\tvalid_1's l1: 43.649\n",
      "[400]\tvalid_0's l1: 33.224\tvalid_1's l1: 39.832\n",
      "[500]\tvalid_0's l1: 29.9686\tvalid_1's l1: 38.7216\n",
      "[600]\tvalid_0's l1: 27.9432\tvalid_1's l1: 37.9356\n",
      "[700]\tvalid_0's l1: 27.01\tvalid_1's l1: 37.6731\n",
      "[800]\tvalid_0's l1: 26.2818\tvalid_1's l1: 37.502\n",
      "[900]\tvalid_0's l1: 25.7892\tvalid_1's l1: 37.4634\n",
      "[1000]\tvalid_0's l1: 25.429\tvalid_1's l1: 37.1892\n",
      "[1100]\tvalid_0's l1: 25.136\tvalid_1's l1: 37.2322\n"
     ]
    },
    {
     "name": "stderr",
     "output_type": "stream",
     "text": [
      "bagging, val_score: 36.734121:  80%|########  | 8/10 [00:12<00:03,  1.62s/it]\u001b[32m[I 2022-12-02 12:16:24,206]\u001b[0m Trial 34 finished with value: 37.14346036040808 and parameters: {'bagging_fraction': 0.7186855707582758, 'bagging_freq': 6}. Best is trial 29 with value: 36.734121287731014.\u001b[0m\n",
      "bagging, val_score: 36.734121:  80%|########  | 8/10 [00:12<00:03,  1.62s/it]"
     ]
    },
    {
     "name": "stdout",
     "output_type": "stream",
     "text": [
      "Early stopping, best iteration is:\n",
      "[1070]\tvalid_0's l1: 25.2295\tvalid_1's l1: 37.1435\n",
      "Training until validation scores don't improve for 100 rounds\n",
      "[100]\tvalid_0's l1: 74.6494\tvalid_1's l1: 67.4872\n",
      "[200]\tvalid_0's l1: 53.5597\tvalid_1's l1: 51.9022\n",
      "[300]\tvalid_0's l1: 41.7556\tvalid_1's l1: 44.5258\n",
      "[400]\tvalid_0's l1: 35.1402\tvalid_1's l1: 40.9759\n",
      "[500]\tvalid_0's l1: 31.554\tvalid_1's l1: 39.1388\n",
      "[600]\tvalid_0's l1: 28.922\tvalid_1's l1: 37.8013\n",
      "[700]\tvalid_0's l1: 27.6037\tvalid_1's l1: 37.1165\n",
      "[800]\tvalid_0's l1: 27.024\tvalid_1's l1: 37.0427\n",
      "[900]\tvalid_0's l1: 26.4685\tvalid_1's l1: 36.886\n",
      "[1000]\tvalid_0's l1: 26.0469\tvalid_1's l1: 36.6557\n",
      "[1100]\tvalid_0's l1: 25.7667\tvalid_1's l1: 36.5936\n"
     ]
    },
    {
     "name": "stderr",
     "output_type": "stream",
     "text": [
      "bagging, val_score: 36.497670:  90%|######### | 9/10 [00:14<00:01,  1.61s/it]\u001b[32m[I 2022-12-02 12:16:25,783]\u001b[0m Trial 35 finished with value: 36.497669769644894 and parameters: {'bagging_fraction': 0.5493454354029733, 'bagging_freq': 7}. Best is trial 35 with value: 36.497669769644894.\u001b[0m\n",
      "bagging, val_score: 36.497670:  90%|######### | 9/10 [00:14<00:01,  1.61s/it]"
     ]
    },
    {
     "name": "stdout",
     "output_type": "stream",
     "text": [
      "[1200]\tvalid_0's l1: 25.4741\tvalid_1's l1: 36.5357\n",
      "[1300]\tvalid_0's l1: 25.2747\tvalid_1's l1: 36.6025\n",
      "Early stopping, best iteration is:\n",
      "[1209]\tvalid_0's l1: 25.4509\tvalid_1's l1: 36.4977\n",
      "Training until validation scores don't improve for 100 rounds\n",
      "[100]\tvalid_0's l1: 74.3826\tvalid_1's l1: 66.9987\n",
      "[200]\tvalid_0's l1: 50.7426\tvalid_1's l1: 49.574\n",
      "[300]\tvalid_0's l1: 39.4544\tvalid_1's l1: 42.5987\n",
      "[400]\tvalid_0's l1: 33.5344\tvalid_1's l1: 39.9534\n",
      "[500]\tvalid_0's l1: 30.133\tvalid_1's l1: 38.5751\n",
      "[600]\tvalid_0's l1: 28.1284\tvalid_1's l1: 37.9191\n",
      "[700]\tvalid_0's l1: 26.9939\tvalid_1's l1: 37.5687\n",
      "[800]\tvalid_0's l1: 26.3152\tvalid_1's l1: 37.2663\n"
     ]
    },
    {
     "name": "stderr",
     "output_type": "stream",
     "text": [
      "bagging, val_score: 36.497670: 100%|##########| 10/10 [00:15<00:00,  1.50s/it]\u001b[32m[I 2022-12-02 12:16:27,035]\u001b[0m Trial 36 finished with value: 37.19044322778655 and parameters: {'bagging_fraction': 0.7995251701040056, 'bagging_freq': 5}. Best is trial 35 with value: 36.497669769644894.\u001b[0m\n",
      "bagging, val_score: 36.497670: 100%|##########| 10/10 [00:15<00:00,  1.54s/it]\n"
     ]
    },
    {
     "name": "stdout",
     "output_type": "stream",
     "text": [
      "[900]\tvalid_0's l1: 25.7468\tvalid_1's l1: 37.2113\n",
      "Early stopping, best iteration is:\n",
      "[861]\tvalid_0's l1: 25.9417\tvalid_1's l1: 37.1904\n"
     ]
    },
    {
     "name": "stderr",
     "output_type": "stream",
     "text": [
      "feature_fraction_stage2, val_score: 36.497670:   0%|          | 0/6 [00:00<?, ?it/s]"
     ]
    },
    {
     "name": "stdout",
     "output_type": "stream",
     "text": [
      "Training until validation scores don't improve for 100 rounds\n",
      "[100]\tvalid_0's l1: 74.6494\tvalid_1's l1: 67.4872\n",
      "[200]\tvalid_0's l1: 53.5597\tvalid_1's l1: 51.9022\n",
      "[300]\tvalid_0's l1: 41.7556\tvalid_1's l1: 44.5258\n",
      "[400]\tvalid_0's l1: 35.1402\tvalid_1's l1: 40.9759\n",
      "[500]\tvalid_0's l1: 31.554\tvalid_1's l1: 39.1388\n",
      "[600]\tvalid_0's l1: 28.922\tvalid_1's l1: 37.8013\n",
      "[700]\tvalid_0's l1: 27.6037\tvalid_1's l1: 37.1165\n",
      "[800]\tvalid_0's l1: 27.024\tvalid_1's l1: 37.0427\n",
      "[900]\tvalid_0's l1: 26.4685\tvalid_1's l1: 36.886\n",
      "[1000]\tvalid_0's l1: 26.0469\tvalid_1's l1: 36.6557\n",
      "[1100]\tvalid_0's l1: 25.7667\tvalid_1's l1: 36.5936\n",
      "[1200]\tvalid_0's l1: 25.4741\tvalid_1's l1: 36.5357\n"
     ]
    },
    {
     "name": "stderr",
     "output_type": "stream",
     "text": [
      "feature_fraction_stage2, val_score: 36.497670:  17%|#6        | 1/6 [00:01<00:08,  1.60s/it]\u001b[32m[I 2022-12-02 12:16:28,667]\u001b[0m Trial 37 finished with value: 36.497669769644894 and parameters: {'feature_fraction': 0.516}. Best is trial 37 with value: 36.497669769644894.\u001b[0m\n",
      "feature_fraction_stage2, val_score: 36.497670:  17%|#6        | 1/6 [00:01<00:08,  1.60s/it]"
     ]
    },
    {
     "name": "stdout",
     "output_type": "stream",
     "text": [
      "[1300]\tvalid_0's l1: 25.2747\tvalid_1's l1: 36.6025\n",
      "Early stopping, best iteration is:\n",
      "[1209]\tvalid_0's l1: 25.4509\tvalid_1's l1: 36.4977\n",
      "Training until validation scores don't improve for 100 rounds\n",
      "[100]\tvalid_0's l1: 90.3178\tvalid_1's l1: 74.3568\n",
      "[200]\tvalid_0's l1: 74.4676\tvalid_1's l1: 60.4094\n",
      "[300]\tvalid_0's l1: 62.5623\tvalid_1's l1: 52.1075\n",
      "[400]\tvalid_0's l1: 55.8808\tvalid_1's l1: 48.9058\n",
      "[500]\tvalid_0's l1: 50.0197\tvalid_1's l1: 46.496\n",
      "[600]\tvalid_0's l1: 44.6119\tvalid_1's l1: 44.2641\n",
      "[700]\tvalid_0's l1: 41.6474\tvalid_1's l1: 42.8472\n",
      "[800]\tvalid_0's l1: 38.1098\tvalid_1's l1: 41.0418\n",
      "[900]\tvalid_0's l1: 35.4323\tvalid_1's l1: 40.037\n",
      "[1000]\tvalid_0's l1: 33.4771\tvalid_1's l1: 39.4068\n",
      "[1100]\tvalid_0's l1: 32.2456\tvalid_1's l1: 38.9762\n",
      "[1200]\tvalid_0's l1: 31.3077\tvalid_1's l1: 38.7601\n",
      "[1300]\tvalid_0's l1: 30.4726\tvalid_1's l1: 38.5429\n",
      "[1400]\tvalid_0's l1: 29.7735\tvalid_1's l1: 38.4437\n",
      "[1500]\tvalid_0's l1: 29.0839\tvalid_1's l1: 38.1711\n",
      "[1600]\tvalid_0's l1: 28.5375\tvalid_1's l1: 38.12\n",
      "[1700]\tvalid_0's l1: 28.0923\tvalid_1's l1: 38.0393\n",
      "[1800]\tvalid_0's l1: 27.737\tvalid_1's l1: 37.8408\n",
      "[1900]\tvalid_0's l1: 27.4328\tvalid_1's l1: 37.8195\n",
      "[2000]\tvalid_0's l1: 27.1277\tvalid_1's l1: 37.7654\n",
      "[2100]\tvalid_0's l1: 26.849\tvalid_1's l1: 37.66\n"
     ]
    },
    {
     "name": "stderr",
     "output_type": "stream",
     "text": [
      "feature_fraction_stage2, val_score: 36.497670:  33%|###3      | 2/6 [00:04<00:08,  2.12s/it]\u001b[32m[I 2022-12-02 12:16:31,151]\u001b[0m Trial 38 finished with value: 37.65985741385714 and parameters: {'feature_fraction': 0.42}. Best is trial 37 with value: 36.497669769644894.\u001b[0m\n",
      "feature_fraction_stage2, val_score: 36.497670:  33%|###3      | 2/6 [00:04<00:08,  2.12s/it]"
     ]
    },
    {
     "name": "stdout",
     "output_type": "stream",
     "text": [
      "[2200]\tvalid_0's l1: 26.6104\tvalid_1's l1: 37.7097\n",
      "Early stopping, best iteration is:\n",
      "[2102]\tvalid_0's l1: 26.8409\tvalid_1's l1: 37.6599\n",
      "Training until validation scores don't improve for 100 rounds\n",
      "[100]\tvalid_0's l1: 74.6494\tvalid_1's l1: 67.4872\n",
      "[200]\tvalid_0's l1: 53.5597\tvalid_1's l1: 51.9022\n",
      "[300]\tvalid_0's l1: 41.7556\tvalid_1's l1: 44.5258\n",
      "[400]\tvalid_0's l1: 35.1402\tvalid_1's l1: 40.9759\n",
      "[500]\tvalid_0's l1: 31.554\tvalid_1's l1: 39.1388\n",
      "[600]\tvalid_0's l1: 28.922\tvalid_1's l1: 37.8013\n",
      "[700]\tvalid_0's l1: 27.6037\tvalid_1's l1: 37.1165\n",
      "[800]\tvalid_0's l1: 27.024\tvalid_1's l1: 37.0427\n",
      "[900]\tvalid_0's l1: 26.4685\tvalid_1's l1: 36.886\n",
      "[1000]\tvalid_0's l1: 26.0469\tvalid_1's l1: 36.6557\n",
      "[1100]\tvalid_0's l1: 25.7667\tvalid_1's l1: 36.5936\n"
     ]
    },
    {
     "name": "stderr",
     "output_type": "stream",
     "text": [
      "feature_fraction_stage2, val_score: 36.497670:  50%|#####     | 3/6 [00:05<00:05,  1.99s/it]\u001b[32m[I 2022-12-02 12:16:32,982]\u001b[0m Trial 39 finished with value: 36.497669769644894 and parameters: {'feature_fraction': 0.5479999999999999}. Best is trial 37 with value: 36.497669769644894.\u001b[0m\n",
      "feature_fraction_stage2, val_score: 36.497670:  50%|#####     | 3/6 [00:05<00:05,  1.99s/it]"
     ]
    },
    {
     "name": "stdout",
     "output_type": "stream",
     "text": [
      "[1200]\tvalid_0's l1: 25.4741\tvalid_1's l1: 36.5357\n",
      "[1300]\tvalid_0's l1: 25.2747\tvalid_1's l1: 36.6025\n",
      "Early stopping, best iteration is:\n",
      "[1209]\tvalid_0's l1: 25.4509\tvalid_1's l1: 36.4977\n",
      "Training until validation scores don't improve for 100 rounds\n",
      "[100]\tvalid_0's l1: 74.6494\tvalid_1's l1: 67.4872\n",
      "[200]\tvalid_0's l1: 53.5597\tvalid_1's l1: 51.9022\n",
      "[300]\tvalid_0's l1: 41.7556\tvalid_1's l1: 44.5258\n",
      "[400]\tvalid_0's l1: 35.1402\tvalid_1's l1: 40.9759\n",
      "[500]\tvalid_0's l1: 31.554\tvalid_1's l1: 39.1388\n",
      "[600]\tvalid_0's l1: 28.922\tvalid_1's l1: 37.8013\n",
      "[700]\tvalid_0's l1: 27.6037\tvalid_1's l1: 37.1165\n",
      "[800]\tvalid_0's l1: 27.024\tvalid_1's l1: 37.0427\n",
      "[900]\tvalid_0's l1: 26.4685\tvalid_1's l1: 36.886\n",
      "[1000]\tvalid_0's l1: 26.0469\tvalid_1's l1: 36.6557\n",
      "[1100]\tvalid_0's l1: 25.7667\tvalid_1's l1: 36.5936\n",
      "[1200]\tvalid_0's l1: 25.4741\tvalid_1's l1: 36.5357\n"
     ]
    },
    {
     "name": "stderr",
     "output_type": "stream",
     "text": [
      "feature_fraction_stage2, val_score: 36.497670:  67%|######6   | 4/6 [00:07<00:03,  1.88s/it]\u001b[32m[I 2022-12-02 12:16:34,683]\u001b[0m Trial 40 finished with value: 36.497669769644894 and parameters: {'feature_fraction': 0.45199999999999996}. Best is trial 37 with value: 36.497669769644894.\u001b[0m\n",
      "feature_fraction_stage2, val_score: 36.497670:  67%|######6   | 4/6 [00:07<00:03,  1.88s/it]"
     ]
    },
    {
     "name": "stdout",
     "output_type": "stream",
     "text": [
      "[1300]\tvalid_0's l1: 25.2747\tvalid_1's l1: 36.6025\n",
      "Early stopping, best iteration is:\n",
      "[1209]\tvalid_0's l1: 25.4509\tvalid_1's l1: 36.4977\n",
      "Training until validation scores don't improve for 100 rounds\n",
      "[100]\tvalid_0's l1: 74.6494\tvalid_1's l1: 67.4872\n",
      "[200]\tvalid_0's l1: 53.5597\tvalid_1's l1: 51.9022\n",
      "[300]\tvalid_0's l1: 41.7556\tvalid_1's l1: 44.5258\n",
      "[400]\tvalid_0's l1: 35.1402\tvalid_1's l1: 40.9759\n",
      "[500]\tvalid_0's l1: 31.554\tvalid_1's l1: 39.1388\n",
      "[600]\tvalid_0's l1: 28.922\tvalid_1's l1: 37.8013\n",
      "[700]\tvalid_0's l1: 27.6037\tvalid_1's l1: 37.1165\n",
      "[800]\tvalid_0's l1: 27.024\tvalid_1's l1: 37.0427\n",
      "[900]\tvalid_0's l1: 26.4685\tvalid_1's l1: 36.886\n",
      "[1000]\tvalid_0's l1: 26.0469\tvalid_1's l1: 36.6557\n",
      "[1100]\tvalid_0's l1: 25.7667\tvalid_1's l1: 36.5936\n",
      "[1200]\tvalid_0's l1: 25.4741\tvalid_1's l1: 36.5357\n"
     ]
    },
    {
     "name": "stderr",
     "output_type": "stream",
     "text": [
      "feature_fraction_stage2, val_score: 36.497670:  83%|########3 | 5/6 [00:10<00:02,  2.16s/it]\u001b[32m[I 2022-12-02 12:16:37,346]\u001b[0m Trial 41 finished with value: 36.497669769644894 and parameters: {'feature_fraction': 0.484}. Best is trial 37 with value: 36.497669769644894.\u001b[0m\n",
      "feature_fraction_stage2, val_score: 36.497670:  83%|########3 | 5/6 [00:10<00:02,  2.16s/it]"
     ]
    },
    {
     "name": "stdout",
     "output_type": "stream",
     "text": [
      "[1300]\tvalid_0's l1: 25.2747\tvalid_1's l1: 36.6025\n",
      "Early stopping, best iteration is:\n",
      "[1209]\tvalid_0's l1: 25.4509\tvalid_1's l1: 36.4977\n",
      "Training until validation scores don't improve for 100 rounds\n",
      "[100]\tvalid_0's l1: 78.2969\tvalid_1's l1: 67.772\n",
      "[200]\tvalid_0's l1: 55.4549\tvalid_1's l1: 50.1419\n",
      "[300]\tvalid_0's l1: 42.9682\tvalid_1's l1: 43.5852\n",
      "[400]\tvalid_0's l1: 35.8013\tvalid_1's l1: 40.0546\n",
      "[500]\tvalid_0's l1: 31.9011\tvalid_1's l1: 38.8019\n",
      "[600]\tvalid_0's l1: 29.4358\tvalid_1's l1: 38.2038\n",
      "[700]\tvalid_0's l1: 27.9565\tvalid_1's l1: 37.7055\n",
      "[800]\tvalid_0's l1: 26.9923\tvalid_1's l1: 37.5246\n"
     ]
    },
    {
     "name": "stderr",
     "output_type": "stream",
     "text": [
      "feature_fraction_stage2, val_score: 36.497670: 100%|##########| 6/6 [00:11<00:00,  1.99s/it]\u001b[32m[I 2022-12-02 12:16:38,997]\u001b[0m Trial 42 finished with value: 37.34503694139814 and parameters: {'feature_fraction': 0.58}. Best is trial 37 with value: 36.497669769644894.\u001b[0m\n",
      "feature_fraction_stage2, val_score: 36.497670: 100%|##########| 6/6 [00:11<00:00,  1.99s/it]\n"
     ]
    },
    {
     "name": "stdout",
     "output_type": "stream",
     "text": [
      "[900]\tvalid_0's l1: 26.3987\tvalid_1's l1: 37.4455\n",
      "Early stopping, best iteration is:\n",
      "[882]\tvalid_0's l1: 26.4809\tvalid_1's l1: 37.345\n"
     ]
    },
    {
     "name": "stderr",
     "output_type": "stream",
     "text": [
      "regularization_factors, val_score: 36.497670:   0%|          | 0/20 [00:00<?, ?it/s]"
     ]
    },
    {
     "name": "stdout",
     "output_type": "stream",
     "text": [
      "Training until validation scores don't improve for 100 rounds\n",
      "[100]\tvalid_0's l1: 66.3855\tvalid_1's l1: 60.1787\n",
      "[200]\tvalid_0's l1: 43.679\tvalid_1's l1: 44.3148\n",
      "[300]\tvalid_0's l1: 34.0417\tvalid_1's l1: 39.1553\n",
      "[400]\tvalid_0's l1: 29.3884\tvalid_1's l1: 37.9721\n",
      "[500]\tvalid_0's l1: 27.6775\tvalid_1's l1: 37.5541\n",
      "[600]\tvalid_0's l1: 26.652\tvalid_1's l1: 37.3221\n",
      "[700]\tvalid_0's l1: 26.1214\tvalid_1's l1: 37.0704\n"
     ]
    },
    {
     "name": "stderr",
     "output_type": "stream",
     "text": [
      "regularization_factors, val_score: 36.497670:   5%|5         | 1/20 [00:01<00:19,  1.03s/it]\u001b[32m[I 2022-12-02 12:16:40,048]\u001b[0m Trial 43 finished with value: 37.02504418847309 and parameters: {'lambda_l1': 2.9167011360259178e-06, 'lambda_l2': 0.006551835513456369}. Best is trial 43 with value: 37.02504418847309.\u001b[0m\n",
      "regularization_factors, val_score: 36.497670:   5%|5         | 1/20 [00:01<00:19,  1.03s/it]"
     ]
    },
    {
     "name": "stdout",
     "output_type": "stream",
     "text": [
      "Early stopping, best iteration is:\n",
      "[684]\tvalid_0's l1: 26.1852\tvalid_1's l1: 37.025\n",
      "Training until validation scores don't improve for 100 rounds\n",
      "[100]\tvalid_0's l1: 66.2756\tvalid_1's l1: 60.0629\n",
      "[200]\tvalid_0's l1: 43.6346\tvalid_1's l1: 44.346\n",
      "[300]\tvalid_0's l1: 34.0571\tvalid_1's l1: 38.9584\n",
      "[400]\tvalid_0's l1: 29.361\tvalid_1's l1: 37.6797\n",
      "[500]\tvalid_0's l1: 27.6508\tvalid_1's l1: 37.4484\n",
      "[600]\tvalid_0's l1: 26.671\tvalid_1's l1: 37.1369\n",
      "[700]\tvalid_0's l1: 26.1407\tvalid_1's l1: 36.859\n",
      "[800]\tvalid_0's l1: 25.7833\tvalid_1's l1: 36.8991\n",
      "[900]\tvalid_0's l1: 25.5134\tvalid_1's l1: 36.6933\n",
      "[1000]\tvalid_0's l1: 25.2805\tvalid_1's l1: 36.653\n",
      "[1100]\tvalid_0's l1: 25.0889\tvalid_1's l1: 36.4967\n"
     ]
    },
    {
     "name": "stderr",
     "output_type": "stream",
     "text": [
      "regularization_factors, val_score: 36.462902:  10%|#         | 2/20 [00:02<00:23,  1.31s/it]\u001b[32m[I 2022-12-02 12:16:41,541]\u001b[0m Trial 44 finished with value: 36.462902222952906 and parameters: {'lambda_l1': 0.0006698917579797913, 'lambda_l2': 1.6527776818658272e-06}. Best is trial 44 with value: 36.462902222952906.\u001b[0m\n",
      "regularization_factors, val_score: 36.462902:  10%|#         | 2/20 [00:02<00:23,  1.31s/it]"
     ]
    },
    {
     "name": "stdout",
     "output_type": "stream",
     "text": [
      "Early stopping, best iteration is:\n",
      "[1080]\tvalid_0's l1: 25.1271\tvalid_1's l1: 36.4629\n",
      "Training until validation scores don't improve for 100 rounds\n",
      "[100]\tvalid_0's l1: 66.3234\tvalid_1's l1: 60.1047\n",
      "[200]\tvalid_0's l1: 43.4892\tvalid_1's l1: 44.1047\n",
      "[300]\tvalid_0's l1: 33.9283\tvalid_1's l1: 38.8766\n",
      "[400]\tvalid_0's l1: 29.3252\tvalid_1's l1: 37.6091\n",
      "[500]\tvalid_0's l1: 27.61\tvalid_1's l1: 37.3075\n",
      "[600]\tvalid_0's l1: 26.6599\tvalid_1's l1: 37.1997\n",
      "[700]\tvalid_0's l1: 26.1079\tvalid_1's l1: 36.9985\n",
      "[800]\tvalid_0's l1: 25.7626\tvalid_1's l1: 36.9653\n",
      "[900]\tvalid_0's l1: 25.4957\tvalid_1's l1: 36.7038\n"
     ]
    },
    {
     "name": "stderr",
     "output_type": "stream",
     "text": [
      "regularization_factors, val_score: 36.462902:  15%|#5        | 3/20 [00:03<00:22,  1.30s/it]\u001b[32m[I 2022-12-02 12:16:42,831]\u001b[0m Trial 45 finished with value: 36.66363623094385 and parameters: {'lambda_l1': 4.298150941405824e-08, 'lambda_l2': 2.6086559235701057e-06}. Best is trial 44 with value: 36.462902222952906.\u001b[0m\n",
      "regularization_factors, val_score: 36.462902:  15%|#5        | 3/20 [00:03<00:22,  1.30s/it]"
     ]
    },
    {
     "name": "stdout",
     "output_type": "stream",
     "text": [
      "Early stopping, best iteration is:\n",
      "[891]\tvalid_0's l1: 25.5195\tvalid_1's l1: 36.6636\n",
      "Training until validation scores don't improve for 100 rounds\n",
      "[100]\tvalid_0's l1: 66.3234\tvalid_1's l1: 60.1047\n",
      "[200]\tvalid_0's l1: 43.4892\tvalid_1's l1: 44.1047\n",
      "[300]\tvalid_0's l1: 33.9283\tvalid_1's l1: 38.8766\n",
      "[400]\tvalid_0's l1: 29.3252\tvalid_1's l1: 37.6091\n",
      "[500]\tvalid_0's l1: 27.61\tvalid_1's l1: 37.3075\n",
      "[600]\tvalid_0's l1: 26.6599\tvalid_1's l1: 37.1997\n",
      "[700]\tvalid_0's l1: 26.1079\tvalid_1's l1: 36.9985\n",
      "[800]\tvalid_0's l1: 25.7626\tvalid_1's l1: 36.9653\n",
      "[900]\tvalid_0's l1: 25.4957\tvalid_1's l1: 36.7038\n"
     ]
    },
    {
     "name": "stderr",
     "output_type": "stream",
     "text": [
      "regularization_factors, val_score: 36.462902:  20%|##        | 4/20 [00:05<00:20,  1.29s/it]\u001b[32m[I 2022-12-02 12:16:44,112]\u001b[0m Trial 46 finished with value: 36.66363623094385 and parameters: {'lambda_l1': 9.594524453500588e-08, 'lambda_l2': 2.1188972091719563e-05}. Best is trial 44 with value: 36.462902222952906.\u001b[0m\n",
      "regularization_factors, val_score: 36.462902:  20%|##        | 4/20 [00:05<00:20,  1.29s/it]"
     ]
    },
    {
     "name": "stdout",
     "output_type": "stream",
     "text": [
      "Early stopping, best iteration is:\n",
      "[891]\tvalid_0's l1: 25.5195\tvalid_1's l1: 36.6636\n",
      "Training until validation scores don't improve for 100 rounds\n",
      "[100]\tvalid_0's l1: 74.3613\tvalid_1's l1: 67.1684\n",
      "[200]\tvalid_0's l1: 53.6932\tvalid_1's l1: 52.1701\n",
      "[300]\tvalid_0's l1: 42.2797\tvalid_1's l1: 45.1474\n",
      "[400]\tvalid_0's l1: 36.4898\tvalid_1's l1: 42.1494\n",
      "[500]\tvalid_0's l1: 33.2138\tvalid_1's l1: 40.3094\n",
      "[600]\tvalid_0's l1: 30.5764\tvalid_1's l1: 38.8481\n",
      "[700]\tvalid_0's l1: 28.6948\tvalid_1's l1: 37.8055\n",
      "[800]\tvalid_0's l1: 27.7817\tvalid_1's l1: 37.3536\n",
      "[900]\tvalid_0's l1: 27.0765\tvalid_1's l1: 37.0628\n",
      "[1000]\tvalid_0's l1: 26.6097\tvalid_1's l1: 36.9625\n",
      "[1100]\tvalid_0's l1: 26.2777\tvalid_1's l1: 36.8091\n"
     ]
    },
    {
     "name": "stderr",
     "output_type": "stream",
     "text": [
      "regularization_factors, val_score: 36.462902:  25%|##5       | 5/20 [00:06<00:21,  1.41s/it]\u001b[32m[I 2022-12-02 12:16:45,732]\u001b[0m Trial 47 finished with value: 36.735902483981654 and parameters: {'lambda_l1': 3.3938472012021004, 'lambda_l2': 2.447838790122346e-06}. Best is trial 44 with value: 36.462902222952906.\u001b[0m\n",
      "regularization_factors, val_score: 36.462902:  25%|##5       | 5/20 [00:06<00:21,  1.41s/it]"
     ]
    },
    {
     "name": "stdout",
     "output_type": "stream",
     "text": [
      "[1200]\tvalid_0's l1: 25.9576\tvalid_1's l1: 36.7693\n",
      "[1300]\tvalid_0's l1: 25.7429\tvalid_1's l1: 36.8183\n",
      "Early stopping, best iteration is:\n",
      "[1213]\tvalid_0's l1: 25.9235\tvalid_1's l1: 36.7359\n",
      "Training until validation scores don't improve for 100 rounds\n",
      "[100]\tvalid_0's l1: 66.3211\tvalid_1's l1: 60.1019\n",
      "[200]\tvalid_0's l1: 43.5133\tvalid_1's l1: 44.222\n",
      "[300]\tvalid_0's l1: 33.9608\tvalid_1's l1: 38.9807\n",
      "[400]\tvalid_0's l1: 29.3639\tvalid_1's l1: 37.5005\n",
      "[500]\tvalid_0's l1: 27.6237\tvalid_1's l1: 37.2578\n",
      "[600]\tvalid_0's l1: 26.6425\tvalid_1's l1: 37.0174\n"
     ]
    },
    {
     "name": "stderr",
     "output_type": "stream",
     "text": [
      "regularization_factors, val_score: 36.462902:  30%|###       | 6/20 [00:07<00:17,  1.28s/it]\u001b[32m[I 2022-12-02 12:16:46,758]\u001b[0m Trial 48 finished with value: 36.76483676683574 and parameters: {'lambda_l1': 9.914041352836542e-05, 'lambda_l2': 0.0004815355373363767}. Best is trial 44 with value: 36.462902222952906.\u001b[0m\n",
      "regularization_factors, val_score: 36.462902:  30%|###       | 6/20 [00:07<00:17,  1.28s/it]"
     ]
    },
    {
     "name": "stdout",
     "output_type": "stream",
     "text": [
      "[700]\tvalid_0's l1: 26.1045\tvalid_1's l1: 36.8167\n",
      "[800]\tvalid_0's l1: 25.7741\tvalid_1's l1: 36.8946\n",
      "Early stopping, best iteration is:\n",
      "[714]\tvalid_0's l1: 26.0514\tvalid_1's l1: 36.7648\n",
      "Training until validation scores don't improve for 100 rounds\n",
      "[100]\tvalid_0's l1: 66.3855\tvalid_1's l1: 60.1787\n",
      "[200]\tvalid_0's l1: 43.6788\tvalid_1's l1: 44.3897\n",
      "[300]\tvalid_0's l1: 34.1414\tvalid_1's l1: 39.4144\n",
      "[400]\tvalid_0's l1: 29.4054\tvalid_1's l1: 38.0572\n",
      "[500]\tvalid_0's l1: 27.7032\tvalid_1's l1: 37.5975\n",
      "[600]\tvalid_0's l1: 26.6956\tvalid_1's l1: 37.367\n"
     ]
    },
    {
     "name": "stderr",
     "output_type": "stream",
     "text": [
      "regularization_factors, val_score: 36.462902:  35%|###5      | 7/20 [00:08<00:15,  1.18s/it]\u001b[32m[I 2022-12-02 12:16:47,721]\u001b[0m Trial 49 finished with value: 37.0580407488742 and parameters: {'lambda_l1': 2.3300314049742897e-05, 'lambda_l2': 0.004991526946323931}. Best is trial 44 with value: 36.462902222952906.\u001b[0m\n",
      "regularization_factors, val_score: 36.462902:  35%|###5      | 7/20 [00:08<00:15,  1.18s/it]"
     ]
    },
    {
     "name": "stdout",
     "output_type": "stream",
     "text": [
      "[700]\tvalid_0's l1: 26.1395\tvalid_1's l1: 37.1032\n",
      "Early stopping, best iteration is:\n",
      "[658]\tvalid_0's l1: 26.3262\tvalid_1's l1: 37.058\n",
      "Training until validation scores don't improve for 100 rounds\n",
      "[100]\tvalid_0's l1: 74.2512\tvalid_1's l1: 67.1461\n",
      "[200]\tvalid_0's l1: 53.3925\tvalid_1's l1: 52.0567\n",
      "[300]\tvalid_0's l1: 41.6641\tvalid_1's l1: 44.5709\n",
      "[400]\tvalid_0's l1: 35.5229\tvalid_1's l1: 41.4732\n",
      "[500]\tvalid_0's l1: 32.3159\tvalid_1's l1: 39.7275\n",
      "[600]\tvalid_0's l1: 29.7125\tvalid_1's l1: 38.5721\n",
      "[700]\tvalid_0's l1: 28.3375\tvalid_1's l1: 37.6745\n",
      "[800]\tvalid_0's l1: 27.58\tvalid_1's l1: 37.3476\n",
      "[900]\tvalid_0's l1: 26.9738\tvalid_1's l1: 37.1888\n",
      "[1000]\tvalid_0's l1: 26.3936\tvalid_1's l1: 37.0224\n"
     ]
    },
    {
     "name": "stderr",
     "output_type": "stream",
     "text": [
      "regularization_factors, val_score: 36.462902:  40%|####      | 8/20 [00:10<00:14,  1.25s/it]\u001b[32m[I 2022-12-02 12:16:49,118]\u001b[0m Trial 50 finished with value: 36.75476466384272 and parameters: {'lambda_l1': 2.8974084065346055, 'lambda_l2': 0.0032124670580806797}. Best is trial 44 with value: 36.462902222952906.\u001b[0m\n",
      "regularization_factors, val_score: 36.462902:  40%|####      | 8/20 [00:10<00:14,  1.25s/it]"
     ]
    },
    {
     "name": "stdout",
     "output_type": "stream",
     "text": [
      "[1100]\tvalid_0's l1: 26.0794\tvalid_1's l1: 36.7572\n",
      "Early stopping, best iteration is:\n",
      "[1085]\tvalid_0's l1: 26.1424\tvalid_1's l1: 36.7548\n",
      "Training until validation scores don't improve for 100 rounds\n",
      "[100]\tvalid_0's l1: 67.9589\tvalid_1's l1: 61.586\n",
      "[200]\tvalid_0's l1: 45.8584\tvalid_1's l1: 45.9915\n",
      "[300]\tvalid_0's l1: 35.9558\tvalid_1's l1: 40.2028\n",
      "[400]\tvalid_0's l1: 30.2207\tvalid_1's l1: 37.8585\n",
      "[500]\tvalid_0's l1: 28.1458\tvalid_1's l1: 37.3797\n",
      "[600]\tvalid_0's l1: 26.9918\tvalid_1's l1: 37.062\n",
      "[700]\tvalid_0's l1: 26.3648\tvalid_1's l1: 36.7619\n",
      "[800]\tvalid_0's l1: 25.9764\tvalid_1's l1: 36.7164\n"
     ]
    },
    {
     "name": "stderr",
     "output_type": "stream",
     "text": [
      "regularization_factors, val_score: 36.462902:  45%|####5     | 9/20 [00:11<00:13,  1.24s/it]\u001b[32m[I 2022-12-02 12:16:50,327]\u001b[0m Trial 51 finished with value: 36.476147289711506 and parameters: {'lambda_l1': 0.01063487862913754, 'lambda_l2': 0.7692050480763917}. Best is trial 44 with value: 36.462902222952906.\u001b[0m\n",
      "regularization_factors, val_score: 36.462902:  45%|####5     | 9/20 [00:11<00:13,  1.24s/it]"
     ]
    },
    {
     "name": "stdout",
     "output_type": "stream",
     "text": [
      "[900]\tvalid_0's l1: 25.6694\tvalid_1's l1: 36.5229\n",
      "Early stopping, best iteration is:\n",
      "[882]\tvalid_0's l1: 25.7134\tvalid_1's l1: 36.4761\n",
      "Training until validation scores don't improve for 100 rounds\n",
      "[100]\tvalid_0's l1: 70.6704\tvalid_1's l1: 64.1469\n",
      "[200]\tvalid_0's l1: 48.5461\tvalid_1's l1: 48.1692\n",
      "[300]\tvalid_0's l1: 38.1916\tvalid_1's l1: 41.9244\n",
      "[400]\tvalid_0's l1: 31.476\tvalid_1's l1: 38.6213\n",
      "[500]\tvalid_0's l1: 28.9673\tvalid_1's l1: 37.8827\n",
      "[600]\tvalid_0's l1: 27.4441\tvalid_1's l1: 37.3235\n",
      "[700]\tvalid_0's l1: 26.6751\tvalid_1's l1: 37.0798\n",
      "[800]\tvalid_0's l1: 26.1655\tvalid_1's l1: 36.9361\n"
     ]
    },
    {
     "name": "stderr",
     "output_type": "stream",
     "text": [
      "regularization_factors, val_score: 36.462902:  50%|#####     | 10/20 [00:12<00:13,  1.36s/it]\u001b[32m[I 2022-12-02 12:16:51,963]\u001b[0m Trial 52 finished with value: 36.690542692607906 and parameters: {'lambda_l1': 3.72867598419827e-08, 'lambda_l2': 3.374558442221301}. Best is trial 44 with value: 36.462902222952906.\u001b[0m\n",
      "regularization_factors, val_score: 36.462902:  50%|#####     | 10/20 [00:12<00:13,  1.36s/it]"
     ]
    },
    {
     "name": "stdout",
     "output_type": "stream",
     "text": [
      "[900]\tvalid_0's l1: 25.8102\tvalid_1's l1: 36.8075\n",
      "Early stopping, best iteration is:\n",
      "[882]\tvalid_0's l1: 25.8582\tvalid_1's l1: 36.6905\n",
      "Training until validation scores don't improve for 100 rounds\n",
      "[100]\tvalid_0's l1: 66.8493\tvalid_1's l1: 60.5718\n",
      "[200]\tvalid_0's l1: 44.2802\tvalid_1's l1: 44.8339\n",
      "[300]\tvalid_0's l1: 34.503\tvalid_1's l1: 39.4299\n",
      "[400]\tvalid_0's l1: 29.5456\tvalid_1's l1: 37.8895\n",
      "[500]\tvalid_0's l1: 27.7275\tvalid_1's l1: 37.2469\n",
      "[600]\tvalid_0's l1: 26.7292\tvalid_1's l1: 36.946\n",
      "[700]\tvalid_0's l1: 26.1485\tvalid_1's l1: 36.7063\n"
     ]
    },
    {
     "name": "stderr",
     "output_type": "stream",
     "text": [
      "regularization_factors, val_score: 36.462902:  55%|#####5    | 11/20 [00:14<00:13,  1.46s/it]\u001b[32m[I 2022-12-02 12:16:53,665]\u001b[0m Trial 53 finished with value: 36.67564837882435 and parameters: {'lambda_l1': 0.0063897046234417405, 'lambda_l2': 1.1707751270228484e-08}. Best is trial 44 with value: 36.462902222952906.\u001b[0m\n",
      "regularization_factors, val_score: 36.462902:  55%|#####5    | 11/20 [00:14<00:13,  1.46s/it]"
     ]
    },
    {
     "name": "stdout",
     "output_type": "stream",
     "text": [
      "[800]\tvalid_0's l1: 25.7893\tvalid_1's l1: 36.8139\n",
      "Early stopping, best iteration is:\n",
      "[711]\tvalid_0's l1: 26.1043\tvalid_1's l1: 36.6756\n",
      "Training until validation scores don't improve for 100 rounds\n",
      "[100]\tvalid_0's l1: 72.4496\tvalid_1's l1: 65.6858\n",
      "[200]\tvalid_0's l1: 50.9683\tvalid_1's l1: 49.9196\n",
      "[300]\tvalid_0's l1: 39.6626\tvalid_1's l1: 42.8362\n",
      "[400]\tvalid_0's l1: 33.0815\tvalid_1's l1: 39.4225\n",
      "[500]\tvalid_0's l1: 30.1632\tvalid_1's l1: 38.2954\n",
      "[600]\tvalid_0's l1: 28.0984\tvalid_1's l1: 37.672\n",
      "[700]\tvalid_0's l1: 27.0792\tvalid_1's l1: 37.3365\n",
      "[800]\tvalid_0's l1: 26.4816\tvalid_1's l1: 37.2051\n",
      "[900]\tvalid_0's l1: 26.0458\tvalid_1's l1: 36.9909\n",
      "[1000]\tvalid_0's l1: 25.7081\tvalid_1's l1: 36.9031\n",
      "[1100]\tvalid_0's l1: 25.467\tvalid_1's l1: 36.6896\n",
      "[1200]\tvalid_0's l1: 25.2347\tvalid_1's l1: 36.6168\n"
     ]
    },
    {
     "name": "stderr",
     "output_type": "stream",
     "text": [
      "regularization_factors, val_score: 36.462902:  60%|######    | 12/20 [00:16<00:12,  1.59s/it]\u001b[32m[I 2022-12-02 12:16:55,535]\u001b[0m Trial 54 finished with value: 36.565553315420864 and parameters: {'lambda_l1': 0.020843869813267094, 'lambda_l2': 7.404893748655778}. Best is trial 44 with value: 36.462902222952906.\u001b[0m\n",
      "regularization_factors, val_score: 36.462902:  60%|######    | 12/20 [00:16<00:12,  1.59s/it]"
     ]
    },
    {
     "name": "stdout",
     "output_type": "stream",
     "text": [
      "[1300]\tvalid_0's l1: 25.047\tvalid_1's l1: 36.6933\n",
      "Early stopping, best iteration is:\n",
      "[1210]\tvalid_0's l1: 25.2157\tvalid_1's l1: 36.5656\n",
      "Training until validation scores don't improve for 100 rounds\n",
      "[100]\tvalid_0's l1: 67.3535\tvalid_1's l1: 61.0301\n",
      "[200]\tvalid_0's l1: 45.1629\tvalid_1's l1: 45.397\n",
      "[300]\tvalid_0's l1: 35.2174\tvalid_1's l1: 39.5942\n",
      "[400]\tvalid_0's l1: 29.8702\tvalid_1's l1: 37.5933\n",
      "[500]\tvalid_0's l1: 27.9373\tvalid_1's l1: 37.0034\n",
      "[600]\tvalid_0's l1: 26.8883\tvalid_1's l1: 36.5765\n",
      "[700]\tvalid_0's l1: 26.2643\tvalid_1's l1: 36.3788\n"
     ]
    },
    {
     "name": "stderr",
     "output_type": "stream",
     "text": [
      "regularization_factors, val_score: 36.328514:  65%|######5   | 13/20 [00:17<00:09,  1.42s/it]\u001b[32m[I 2022-12-02 12:16:56,572]\u001b[0m Trial 55 finished with value: 36.328513872388 and parameters: {'lambda_l1': 0.009269724808298716, 'lambda_l2': 0.24342630851088223}. Best is trial 55 with value: 36.328513872388.\u001b[0m\n",
      "regularization_factors, val_score: 36.328514:  65%|######5   | 13/20 [00:17<00:09,  1.42s/it]"
     ]
    },
    {
     "name": "stdout",
     "output_type": "stream",
     "text": [
      "[800]\tvalid_0's l1: 25.8792\tvalid_1's l1: 36.4142\n",
      "Early stopping, best iteration is:\n",
      "[714]\tvalid_0's l1: 26.2051\tvalid_1's l1: 36.3285\n",
      "Training until validation scores don't improve for 100 rounds\n",
      "[100]\tvalid_0's l1: 66.3816\tvalid_1's l1: 60.1843\n",
      "[200]\tvalid_0's l1: 43.8157\tvalid_1's l1: 44.4385\n",
      "[300]\tvalid_0's l1: 34.2445\tvalid_1's l1: 39.2846\n",
      "[400]\tvalid_0's l1: 29.4141\tvalid_1's l1: 37.9629\n",
      "[500]\tvalid_0's l1: 27.6995\tvalid_1's l1: 37.5269\n",
      "[600]\tvalid_0's l1: 26.6908\tvalid_1's l1: 37.3214\n"
     ]
    },
    {
     "name": "stderr",
     "output_type": "stream",
     "text": [
      "regularization_factors, val_score: 36.328514:  70%|#######   | 14/20 [00:18<00:08,  1.35s/it]\u001b[32m[I 2022-12-02 12:16:57,769]\u001b[0m Trial 56 finished with value: 36.985974524392475 and parameters: {'lambda_l1': 0.0009485330045609636, 'lambda_l2': 2.8866653193590533e-08}. Best is trial 55 with value: 36.328513872388.\u001b[0m\n",
      "regularization_factors, val_score: 36.328514:  70%|#######   | 14/20 [00:18<00:08,  1.35s/it]"
     ]
    },
    {
     "name": "stdout",
     "output_type": "stream",
     "text": [
      "[700]\tvalid_0's l1: 26.1428\tvalid_1's l1: 37.0417\n",
      "[800]\tvalid_0's l1: 25.7778\tvalid_1's l1: 37.0967\n",
      "Early stopping, best iteration is:\n",
      "[714]\tvalid_0's l1: 26.0879\tvalid_1's l1: 36.986\n",
      "Training until validation scores don't improve for 100 rounds\n",
      "[100]\tvalid_0's l1: 67.9538\tvalid_1's l1: 61.5438\n",
      "[200]\tvalid_0's l1: 46.0602\tvalid_1's l1: 46.0454\n",
      "[300]\tvalid_0's l1: 36.7094\tvalid_1's l1: 40.6093\n",
      "[400]\tvalid_0's l1: 31.1813\tvalid_1's l1: 38.1459\n",
      "[500]\tvalid_0's l1: 28.7314\tvalid_1's l1: 37.3215\n",
      "[600]\tvalid_0's l1: 27.3698\tvalid_1's l1: 36.8934\n",
      "[700]\tvalid_0's l1: 26.6122\tvalid_1's l1: 36.5026\n",
      "[800]\tvalid_0's l1: 26.1673\tvalid_1's l1: 36.5277\n",
      "[900]\tvalid_0's l1: 25.8304\tvalid_1's l1: 36.3512\n",
      "[1000]\tvalid_0's l1: 25.5685\tvalid_1's l1: 36.2848\n"
     ]
    },
    {
     "name": "stderr",
     "output_type": "stream",
     "text": [
      "regularization_factors, val_score: 36.132934:  75%|#######5  | 15/20 [00:20<00:06,  1.39s/it]\u001b[32m[I 2022-12-02 12:16:59,247]\u001b[0m Trial 57 finished with value: 36.132933897472185 and parameters: {'lambda_l1': 0.1578786400783016, 'lambda_l2': 0.1034889833980175}. Best is trial 57 with value: 36.132933897472185.\u001b[0m\n",
      "regularization_factors, val_score: 36.132934:  75%|#######5  | 15/20 [00:20<00:06,  1.39s/it]"
     ]
    },
    {
     "name": "stdout",
     "output_type": "stream",
     "text": [
      "[1100]\tvalid_0's l1: 25.3297\tvalid_1's l1: 36.1484\n",
      "Early stopping, best iteration is:\n",
      "[1080]\tvalid_0's l1: 25.3734\tvalid_1's l1: 36.1329\n",
      "Training until validation scores don't improve for 100 rounds\n",
      "[100]\tvalid_0's l1: 68.7905\tvalid_1's l1: 62.5147\n",
      "[200]\tvalid_0's l1: 46.5354\tvalid_1's l1: 46.6795\n",
      "[300]\tvalid_0's l1: 37.4031\tvalid_1's l1: 41.5171\n",
      "[400]\tvalid_0's l1: 31.3873\tvalid_1's l1: 38.774\n",
      "[500]\tvalid_0's l1: 28.9627\tvalid_1's l1: 37.9477\n",
      "[600]\tvalid_0's l1: 27.5828\tvalid_1's l1: 37.4466\n",
      "[700]\tvalid_0's l1: 26.7002\tvalid_1's l1: 37.0948\n",
      "[800]\tvalid_0's l1: 26.2576\tvalid_1's l1: 36.8728\n",
      "[900]\tvalid_0's l1: 25.8744\tvalid_1's l1: 36.7092\n",
      "[1000]\tvalid_0's l1: 25.5936\tvalid_1's l1: 36.5449\n"
     ]
    },
    {
     "name": "stderr",
     "output_type": "stream",
     "text": [
      "regularization_factors, val_score: 36.132934:  80%|########  | 16/20 [00:21<00:05,  1.46s/it]\u001b[32m[I 2022-12-02 12:17:00,887]\u001b[0m Trial 58 finished with value: 36.28443002396613 and parameters: {'lambda_l1': 0.2602213328019374, 'lambda_l2': 0.10994836614133396}. Best is trial 57 with value: 36.132933897472185.\u001b[0m\n",
      "regularization_factors, val_score: 36.132934:  80%|########  | 16/20 [00:21<00:05,  1.46s/it]"
     ]
    },
    {
     "name": "stdout",
     "output_type": "stream",
     "text": [
      "[1100]\tvalid_0's l1: 25.3735\tvalid_1's l1: 36.3206\n",
      "Early stopping, best iteration is:\n",
      "[1085]\tvalid_0's l1: 25.4041\tvalid_1's l1: 36.2844\n",
      "Training until validation scores don't improve for 100 rounds\n",
      "[100]\tvalid_0's l1: 69.1613\tvalid_1's l1: 62.7684\n",
      "[200]\tvalid_0's l1: 47.3122\tvalid_1's l1: 47.1601\n",
      "[300]\tvalid_0's l1: 37.8333\tvalid_1's l1: 41.7296\n",
      "[400]\tvalid_0's l1: 31.5737\tvalid_1's l1: 38.6945\n",
      "[500]\tvalid_0's l1: 29.1597\tvalid_1's l1: 37.7952\n",
      "[600]\tvalid_0's l1: 27.6722\tvalid_1's l1: 37.2777\n",
      "[700]\tvalid_0's l1: 26.738\tvalid_1's l1: 37.0541\n",
      "[800]\tvalid_0's l1: 26.2387\tvalid_1's l1: 37.0482\n",
      "[900]\tvalid_0's l1: 25.8662\tvalid_1's l1: 36.7871\n",
      "[1000]\tvalid_0's l1: 25.6024\tvalid_1's l1: 36.7035\n",
      "[1100]\tvalid_0's l1: 25.3977\tvalid_1's l1: 36.4571\n"
     ]
    },
    {
     "name": "stderr",
     "output_type": "stream",
     "text": [
      "regularization_factors, val_score: 36.132934:  85%|########5 | 17/20 [00:23<00:04,  1.51s/it]\u001b[32m[I 2022-12-02 12:17:02,497]\u001b[0m Trial 59 finished with value: 36.42810035220837 and parameters: {'lambda_l1': 0.3136687854265537, 'lambda_l2': 0.07764358197865974}. Best is trial 57 with value: 36.132933897472185.\u001b[0m\n",
      "regularization_factors, val_score: 36.132934:  85%|########5 | 17/20 [00:23<00:04,  1.51s/it]"
     ]
    },
    {
     "name": "stdout",
     "output_type": "stream",
     "text": [
      "[1200]\tvalid_0's l1: 25.1881\tvalid_1's l1: 36.6033\n",
      "Early stopping, best iteration is:\n",
      "[1106]\tvalid_0's l1: 25.3864\tvalid_1's l1: 36.4281\n",
      "Training until validation scores don't improve for 100 rounds\n",
      "[100]\tvalid_0's l1: 70.1566\tvalid_1's l1: 63.7793\n",
      "[200]\tvalid_0's l1: 48.7002\tvalid_1's l1: 48.3748\n",
      "[300]\tvalid_0's l1: 38.4856\tvalid_1's l1: 42.0227\n",
      "[400]\tvalid_0's l1: 32.0554\tvalid_1's l1: 39.0255\n",
      "[500]\tvalid_0's l1: 29.6976\tvalid_1's l1: 38.2625\n",
      "[600]\tvalid_0's l1: 27.8301\tvalid_1's l1: 37.7054\n",
      "[700]\tvalid_0's l1: 26.9446\tvalid_1's l1: 37.2574\n",
      "[800]\tvalid_0's l1: 26.4622\tvalid_1's l1: 37.2176\n",
      "[900]\tvalid_0's l1: 26.0277\tvalid_1's l1: 36.9509\n"
     ]
    },
    {
     "name": "stderr",
     "output_type": "stream",
     "text": [
      "regularization_factors, val_score: 36.132934:  90%|######### | 18/20 [00:24<00:02,  1.45s/it]\u001b[32m[I 2022-12-02 12:17:03,824]\u001b[0m Trial 60 finished with value: 36.77576430665572 and parameters: {'lambda_l1': 0.5645173000312697, 'lambda_l2': 0.0494666999597085}. Best is trial 57 with value: 36.132933897472185.\u001b[0m\n",
      "regularization_factors, val_score: 36.132934:  90%|######### | 18/20 [00:24<00:02,  1.45s/it]"
     ]
    },
    {
     "name": "stdout",
     "output_type": "stream",
     "text": [
      "[1000]\tvalid_0's l1: 25.7008\tvalid_1's l1: 36.8703\n",
      "Early stopping, best iteration is:\n",
      "[943]\tvalid_0's l1: 25.9065\tvalid_1's l1: 36.7758\n",
      "Training until validation scores don't improve for 100 rounds\n",
      "[100]\tvalid_0's l1: 68.1808\tvalid_1's l1: 61.8264\n",
      "[200]\tvalid_0's l1: 46.1627\tvalid_1's l1: 46.1472\n",
      "[300]\tvalid_0's l1: 36.7914\tvalid_1's l1: 40.7661\n",
      "[400]\tvalid_0's l1: 30.8134\tvalid_1's l1: 38.0783\n",
      "[500]\tvalid_0's l1: 28.594\tvalid_1's l1: 37.5262\n",
      "[600]\tvalid_0's l1: 27.3222\tvalid_1's l1: 37.1779\n",
      "[700]\tvalid_0's l1: 26.5323\tvalid_1's l1: 36.7788\n",
      "[800]\tvalid_0's l1: 26.1025\tvalid_1's l1: 36.7372\n"
     ]
    },
    {
     "name": "stderr",
     "output_type": "stream",
     "text": [
      "regularization_factors, val_score: 36.132934:  95%|#########5| 19/20 [00:26<00:01,  1.40s/it]\u001b[32m[I 2022-12-02 12:17:05,085]\u001b[0m Trial 61 finished with value: 36.40759409861073 and parameters: {'lambda_l1': 0.14833576451416133, 'lambda_l2': 0.0001637102991934552}. Best is trial 57 with value: 36.132933897472185.\u001b[0m\n",
      "regularization_factors, val_score: 36.132934:  95%|#########5| 19/20 [00:26<00:01,  1.40s/it]"
     ]
    },
    {
     "name": "stdout",
     "output_type": "stream",
     "text": [
      "[900]\tvalid_0's l1: 25.7686\tvalid_1's l1: 36.5245\n",
      "[1000]\tvalid_0's l1: 25.5144\tvalid_1's l1: 36.5194\n",
      "Early stopping, best iteration is:\n",
      "[920]\tvalid_0's l1: 25.7188\tvalid_1's l1: 36.4076\n",
      "Training until validation scores don't improve for 100 rounds\n",
      "[100]\tvalid_0's l1: 67.4213\tvalid_1's l1: 61.0466\n",
      "[200]\tvalid_0's l1: 45.8336\tvalid_1's l1: 45.8563\n",
      "[300]\tvalid_0's l1: 36.3843\tvalid_1's l1: 40.1231\n",
      "[400]\tvalid_0's l1: 30.4475\tvalid_1's l1: 37.5755\n",
      "[500]\tvalid_0's l1: 28.24\tvalid_1's l1: 37.0653\n",
      "[600]\tvalid_0's l1: 27.0352\tvalid_1's l1: 36.7132\n"
     ]
    },
    {
     "name": "stderr",
     "output_type": "stream",
     "text": [
      "regularization_factors, val_score: 36.132934: 100%|##########| 20/20 [00:27<00:00,  1.29s/it]\u001b[32m[I 2022-12-02 12:17:06,122]\u001b[0m Trial 62 finished with value: 36.44154946416917 and parameters: {'lambda_l1': 0.08601097706412139, 'lambda_l2': 0.027922839354213178}. Best is trial 57 with value: 36.132933897472185.\u001b[0m\n",
      "regularization_factors, val_score: 36.132934: 100%|##########| 20/20 [00:27<00:00,  1.36s/it]\n"
     ]
    },
    {
     "name": "stdout",
     "output_type": "stream",
     "text": [
      "[700]\tvalid_0's l1: 26.3738\tvalid_1's l1: 36.4728\n",
      "[800]\tvalid_0's l1: 25.9653\tvalid_1's l1: 36.5002\n",
      "Early stopping, best iteration is:\n",
      "[714]\tvalid_0's l1: 26.3099\tvalid_1's l1: 36.4415\n"
     ]
    },
    {
     "name": "stderr",
     "output_type": "stream",
     "text": [
      "min_data_in_leaf, val_score: 36.132934:   0%|          | 0/5 [00:00<?, ?it/s]"
     ]
    },
    {
     "name": "stdout",
     "output_type": "stream",
     "text": [
      "Training until validation scores don't improve for 100 rounds\n",
      "[100]\tvalid_0's l1: 67.9538\tvalid_1's l1: 61.5438\n",
      "[200]\tvalid_0's l1: 46.0602\tvalid_1's l1: 46.0454\n",
      "[300]\tvalid_0's l1: 36.7094\tvalid_1's l1: 40.6093\n",
      "[400]\tvalid_0's l1: 31.1813\tvalid_1's l1: 38.1459\n",
      "[500]\tvalid_0's l1: 28.7314\tvalid_1's l1: 37.3215\n",
      "[600]\tvalid_0's l1: 27.3698\tvalid_1's l1: 36.8934\n",
      "[700]\tvalid_0's l1: 26.6122\tvalid_1's l1: 36.5026\n",
      "[800]\tvalid_0's l1: 26.1673\tvalid_1's l1: 36.5277\n",
      "[900]\tvalid_0's l1: 25.8304\tvalid_1's l1: 36.3512\n",
      "[1000]\tvalid_0's l1: 25.5685\tvalid_1's l1: 36.2848\n"
     ]
    },
    {
     "name": "stderr",
     "output_type": "stream",
     "text": [
      "min_data_in_leaf, val_score: 36.132934:  20%|##        | 1/5 [00:01<00:07,  1.90s/it]\u001b[32m[I 2022-12-02 12:17:08,043]\u001b[0m Trial 63 finished with value: 36.132933897472185 and parameters: {'min_child_samples': 25}. Best is trial 63 with value: 36.132933897472185.\u001b[0m\n",
      "min_data_in_leaf, val_score: 36.132934:  20%|##        | 1/5 [00:01<00:07,  1.90s/it]"
     ]
    },
    {
     "name": "stdout",
     "output_type": "stream",
     "text": [
      "[1100]\tvalid_0's l1: 25.3297\tvalid_1's l1: 36.1484\n",
      "Early stopping, best iteration is:\n",
      "[1080]\tvalid_0's l1: 25.3734\tvalid_1's l1: 36.1329\n",
      "Training until validation scores don't improve for 100 rounds\n",
      "[100]\tvalid_0's l1: 67.9538\tvalid_1's l1: 61.5438\n",
      "[200]\tvalid_0's l1: 46.0602\tvalid_1's l1: 46.0454\n",
      "[300]\tvalid_0's l1: 36.7094\tvalid_1's l1: 40.6093\n",
      "[400]\tvalid_0's l1: 31.1813\tvalid_1's l1: 38.1459\n",
      "[500]\tvalid_0's l1: 28.7314\tvalid_1's l1: 37.3215\n",
      "[600]\tvalid_0's l1: 27.3698\tvalid_1's l1: 36.8934\n",
      "[700]\tvalid_0's l1: 26.6122\tvalid_1's l1: 36.5026\n",
      "[800]\tvalid_0's l1: 26.1673\tvalid_1's l1: 36.5277\n",
      "[900]\tvalid_0's l1: 25.8304\tvalid_1's l1: 36.3512\n",
      "[1000]\tvalid_0's l1: 25.5685\tvalid_1's l1: 36.2848\n"
     ]
    },
    {
     "name": "stderr",
     "output_type": "stream",
     "text": [
      "min_data_in_leaf, val_score: 36.132934:  40%|####      | 2/5 [00:04<00:06,  2.16s/it]\u001b[32m[I 2022-12-02 12:17:10,383]\u001b[0m Trial 64 finished with value: 36.132933897472185 and parameters: {'min_child_samples': 50}. Best is trial 63 with value: 36.132933897472185.\u001b[0m\n",
      "min_data_in_leaf, val_score: 36.132934:  40%|####      | 2/5 [00:04<00:06,  2.16s/it]"
     ]
    },
    {
     "name": "stdout",
     "output_type": "stream",
     "text": [
      "[1100]\tvalid_0's l1: 25.3297\tvalid_1's l1: 36.1484\n",
      "Early stopping, best iteration is:\n",
      "[1080]\tvalid_0's l1: 25.3734\tvalid_1's l1: 36.1329\n",
      "Training until validation scores don't improve for 100 rounds\n",
      "[100]\tvalid_0's l1: 67.9538\tvalid_1's l1: 61.5438\n",
      "[200]\tvalid_0's l1: 46.0602\tvalid_1's l1: 46.0454\n",
      "[300]\tvalid_0's l1: 36.7094\tvalid_1's l1: 40.6093\n",
      "[400]\tvalid_0's l1: 31.1813\tvalid_1's l1: 38.1459\n",
      "[500]\tvalid_0's l1: 28.7314\tvalid_1's l1: 37.3215\n",
      "[600]\tvalid_0's l1: 27.3698\tvalid_1's l1: 36.8934\n",
      "[700]\tvalid_0's l1: 26.6122\tvalid_1's l1: 36.5026\n",
      "[800]\tvalid_0's l1: 26.1673\tvalid_1's l1: 36.5277\n",
      "[900]\tvalid_0's l1: 25.8304\tvalid_1's l1: 36.3512\n",
      "[1000]\tvalid_0's l1: 25.5685\tvalid_1's l1: 36.2848\n",
      "[1100]\tvalid_0's l1: 25.3297\tvalid_1's l1: 36.1484\n"
     ]
    },
    {
     "name": "stderr",
     "output_type": "stream",
     "text": [
      "min_data_in_leaf, val_score: 36.132934:  60%|######    | 3/5 [00:05<00:03,  1.91s/it]\u001b[32m[I 2022-12-02 12:17:11,987]\u001b[0m Trial 65 finished with value: 36.132933897472185 and parameters: {'min_child_samples': 100}. Best is trial 63 with value: 36.132933897472185.\u001b[0m\n",
      "min_data_in_leaf, val_score: 36.132934:  60%|######    | 3/5 [00:05<00:03,  1.91s/it]"
     ]
    },
    {
     "name": "stdout",
     "output_type": "stream",
     "text": [
      "Early stopping, best iteration is:\n",
      "[1080]\tvalid_0's l1: 25.3734\tvalid_1's l1: 36.1329\n",
      "Training until validation scores don't improve for 100 rounds\n",
      "[100]\tvalid_0's l1: 67.9538\tvalid_1's l1: 61.5438\n",
      "[200]\tvalid_0's l1: 46.0602\tvalid_1's l1: 46.0454\n",
      "[300]\tvalid_0's l1: 36.7094\tvalid_1's l1: 40.6093\n",
      "[400]\tvalid_0's l1: 31.1813\tvalid_1's l1: 38.1459\n",
      "[500]\tvalid_0's l1: 28.7314\tvalid_1's l1: 37.3215\n",
      "[600]\tvalid_0's l1: 27.3698\tvalid_1's l1: 36.8934\n",
      "[700]\tvalid_0's l1: 26.6122\tvalid_1's l1: 36.5026\n",
      "[800]\tvalid_0's l1: 26.1673\tvalid_1's l1: 36.5277\n",
      "[900]\tvalid_0's l1: 25.8304\tvalid_1's l1: 36.3512\n",
      "[1000]\tvalid_0's l1: 25.5685\tvalid_1's l1: 36.2848\n",
      "[1100]\tvalid_0's l1: 25.3297\tvalid_1's l1: 36.1484\n"
     ]
    },
    {
     "name": "stderr",
     "output_type": "stream",
     "text": [
      "min_data_in_leaf, val_score: 36.132934:  80%|########  | 4/5 [00:07<00:01,  1.72s/it]\u001b[32m[I 2022-12-02 12:17:13,419]\u001b[0m Trial 66 finished with value: 36.132933897472185 and parameters: {'min_child_samples': 10}. Best is trial 63 with value: 36.132933897472185.\u001b[0m\n",
      "min_data_in_leaf, val_score: 36.132934:  80%|########  | 4/5 [00:07<00:01,  1.72s/it]"
     ]
    },
    {
     "name": "stdout",
     "output_type": "stream",
     "text": [
      "Early stopping, best iteration is:\n",
      "[1080]\tvalid_0's l1: 25.3734\tvalid_1's l1: 36.1329\n",
      "Training until validation scores don't improve for 100 rounds\n",
      "[100]\tvalid_0's l1: 67.9538\tvalid_1's l1: 61.5438\n",
      "[200]\tvalid_0's l1: 46.0602\tvalid_1's l1: 46.0454\n",
      "[300]\tvalid_0's l1: 36.7094\tvalid_1's l1: 40.6093\n",
      "[400]\tvalid_0's l1: 31.1813\tvalid_1's l1: 38.1459\n",
      "[500]\tvalid_0's l1: 28.7314\tvalid_1's l1: 37.3215\n",
      "[600]\tvalid_0's l1: 27.3698\tvalid_1's l1: 36.8934\n",
      "[700]\tvalid_0's l1: 26.6122\tvalid_1's l1: 36.5026\n",
      "[800]\tvalid_0's l1: 26.1673\tvalid_1's l1: 36.5277\n",
      "[900]\tvalid_0's l1: 25.8304\tvalid_1's l1: 36.3512\n",
      "[1000]\tvalid_0's l1: 25.5685\tvalid_1's l1: 36.2848\n",
      "[1100]\tvalid_0's l1: 25.3297\tvalid_1's l1: 36.1484\n",
      "Early stopping, best iteration is:\n",
      "[1080]\tvalid_0's l1: 25.3734\tvalid_1's l1: 36.1329\n"
     ]
    },
    {
     "name": "stderr",
     "output_type": "stream",
     "text": [
      "min_data_in_leaf, val_score: 36.132934: 100%|##########| 5/5 [00:08<00:00,  1.62s/it]\u001b[32m[I 2022-12-02 12:17:14,873]\u001b[0m Trial 67 finished with value: 36.132933897472185 and parameters: {'min_child_samples': 5}. Best is trial 63 with value: 36.132933897472185.\u001b[0m\n",
      "min_data_in_leaf, val_score: 36.132934: 100%|##########| 5/5 [00:08<00:00,  1.75s/it]\n"
     ]
    }
   ],
   "source": [
    "#モデル構築\n",
    "trains = lgb.Dataset(train_X, train_y)\n",
    "valids = lgb.Dataset(test_X, test_y)\n",
    "\n",
    "params = {\n",
    "    'objective': 'regression_l1',\n",
    "    'metric': 'mae',\n",
    "    'max_depth': -1,\n",
    "    'subsample_freq': 1,\n",
    "    'learning_rate': 0.01,\n",
    "    \"boosting\": \"gbdt\",\n",
    "    \"verbosity\": -1,\n",
    "    \"random_state\": 42,\n",
    "    \"num_boost_round\":7000,\n",
    "    \"early_stopping_rounds\": 100,\n",
    "    'num_leaves': 3471,\n",
    "    'feature_fraction': 0.5718461362837146,\n",
    "    'bagging_fraction': 0.877025059209037,\n",
    "    'min_data_in_leaf': 19,\n",
    "    'lambda_l1': 0.4623075278206704,\n",
    "    'lambda_l2': 11.471777121126554\n",
    "}\n",
    "\n",
    "model = lgb.train(params, trains,  valid_sets = [trains, valids], keep_training_booster = True, verbose_eval =100)\n"
   ]
  },
  {
   "cell_type": "code",
   "execution_count": 33,
   "id": "33b06b04-2517-4c94-9983-f086c1ee8f2e",
   "metadata": {},
   "outputs": [],
   "source": [
    "#予測値の計算\n",
    "train_pred = model.predict(train_X, num_iteration=model.best_iteration)\n",
    "eval_pred = model.predict(test_X, num_iteration=model.best_iteration)"
   ]
  },
  {
   "cell_type": "code",
   "execution_count": 34,
   "id": "87aa94cb-c82f-424a-a868-77a32e7a287c",
   "metadata": {},
   "outputs": [
    {
     "data": {
      "text/plain": [
       "array([ 10.94177696,   2.80076485,   5.51054041, ..., 217.29270621,\n",
       "       391.10682887, 367.22596365])"
      ]
     },
     "execution_count": 34,
     "metadata": {},
     "output_type": "execute_result"
    }
   ],
   "source": [
    "train_pred"
   ]
  },
  {
   "cell_type": "code",
   "execution_count": 35,
   "id": "7ae63f69-6148-44f2-a223-3cfbb511d76c",
   "metadata": {},
   "outputs": [
    {
     "data": {
      "text/plain": [
       "array([243.94658535,  78.54882303,  48.61058519, ..., 126.34626179,\n",
       "       103.49484879,  80.35388663])"
      ]
     },
     "execution_count": 35,
     "metadata": {},
     "output_type": "execute_result"
    }
   ],
   "source": [
    "eval_pred"
   ]
  },
  {
   "cell_type": "code",
   "execution_count": 36,
   "id": "86113d3b-5456-4a2c-8783-943841117e00",
   "metadata": {},
   "outputs": [],
   "source": [
    "# 評価(平均２乗誤差)\n",
    "from sklearn.metrics import mean_squared_error"
   ]
  },
  {
   "cell_type": "code",
   "execution_count": 37,
   "id": "f2ea6e0e-ec4b-4c8f-b737-834bdc4f44ac",
   "metadata": {},
   "outputs": [
    {
     "name": "stdout",
     "output_type": "stream",
     "text": [
      "RMSE : 59.105\n"
     ]
    }
   ],
   "source": [
    "# 訓練データ予測のRMSE計算\n",
    "rmse = np.sqrt(mean_squared_error(test_y, eval_pred))\n",
    "print('RMSE : {:.3f}'.format(rmse))\n"
   ]
  },
  {
   "cell_type": "code",
   "execution_count": 39,
   "id": "bc1062db-f5f4-47f1-aace-e1e7ab879bd6",
   "metadata": {},
   "outputs": [
    {
     "data": {
      "text/html": [
       "<div>\n",
       "<style scoped>\n",
       "    .dataframe tbody tr th:only-of-type {\n",
       "        vertical-align: middle;\n",
       "    }\n",
       "\n",
       "    .dataframe tbody tr th {\n",
       "        vertical-align: top;\n",
       "    }\n",
       "\n",
       "    .dataframe thead th {\n",
       "        text-align: right;\n",
       "    }\n",
       "</style>\n",
       "<table border=\"1\" class=\"dataframe\">\n",
       "  <thead>\n",
       "    <tr style=\"text-align: right;\">\n",
       "      <th></th>\n",
       "      <th>importance</th>\n",
       "    </tr>\n",
       "  </thead>\n",
       "  <tbody>\n",
       "    <tr>\n",
       "      <th>hr</th>\n",
       "      <td>252038.144073</td>\n",
       "    </tr>\n",
       "    <tr>\n",
       "      <th>atemp</th>\n",
       "      <td>45788.237659</td>\n",
       "    </tr>\n",
       "    <tr>\n",
       "      <th>weekday2</th>\n",
       "      <td>17849.099156</td>\n",
       "    </tr>\n",
       "    <tr>\n",
       "      <th>temp</th>\n",
       "      <td>14363.877577</td>\n",
       "    </tr>\n",
       "    <tr>\n",
       "      <th>workingday</th>\n",
       "      <td>9848.402487</td>\n",
       "    </tr>\n",
       "    <tr>\n",
       "      <th>weathersit_3</th>\n",
       "      <td>6099.780024</td>\n",
       "    </tr>\n",
       "    <tr>\n",
       "      <th>weathersit_1</th>\n",
       "      <td>3483.105049</td>\n",
       "    </tr>\n",
       "    <tr>\n",
       "      <th>weathersit_2</th>\n",
       "      <td>1915.491505</td>\n",
       "    </tr>\n",
       "  </tbody>\n",
       "</table>\n",
       "</div>"
      ],
      "text/plain": [
       "                 importance\n",
       "hr            252038.144073\n",
       "atemp          45788.237659\n",
       "weekday2       17849.099156\n",
       "temp           14363.877577\n",
       "workingday      9848.402487\n",
       "weathersit_3    6099.780024\n",
       "weathersit_1    3483.105049\n",
       "weathersit_2    1915.491505"
      ]
     },
     "metadata": {},
     "output_type": "display_data"
    }
   ],
   "source": [
    "#特徴量の寄与率\n",
    "importance = pd.DataFrame(model.feature_importance(importance_type='gain'), index=train_X.columns, columns=['importance'])\n",
    "importance = importance.sort_values('importance', ascending=False)\n",
    "display(importance)"
   ]
  },
  {
   "cell_type": "code",
   "execution_count": 40,
   "id": "7e88552d-f1fc-488d-acc1-471d8336a4bd",
   "metadata": {},
   "outputs": [
    {
     "data": {
      "text/plain": [
       "<AxesSubplot:title={'center':'Feature importance'}, xlabel='Feature importance', ylabel='Features'>"
      ]
     },
     "execution_count": 40,
     "metadata": {},
     "output_type": "execute_result"
    },
    {
     "data": {
      "image/png": "[encoded data removed]",
      "text/plain": [
       "<Figure size 800x400 with 1 Axes>"
      ]
     },
     "metadata": {},
     "output_type": "display_data"
    }
   ],
   "source": [
    "#特徴量重要度の可視化\n",
    "lgb.plot_importance(model, figsize=(8,4), max_num_features=10, importance_type='gain')\n"
   ]
  },
  {
   "cell_type": "markdown",
   "id": "b14e66f0-ba41-4087-821b-645d2ebe3b54",
   "metadata": {},
   "source": [
    "### パラメータ探索   \n",
    "・実行に掛かる時間、およびPCスペックの都合より、部分探索を実行  \n",
    "・同じ訓練データやモデルにおいて、num_leavesの範囲を変更し、複数のモデルを作成"
   ]
  },
  {
   "cell_type": "code",
   "execution_count": 45,
   "id": "744ae4d6-929b-47cb-a3ff-a701b165906f",
   "metadata": {},
   "outputs": [
    {
     "name": "stderr",
     "output_type": "stream",
     "text": [
      "\u001b[32m[I 2022-12-02 14:03:39,202]\u001b[0m A new study created in memory with name: no-name-c73f9e8d-858b-4e99-a691-efa812139032\u001b[0m\n",
      "\u001b[32m[I 2022-12-02 14:03:39,208]\u001b[0m A new study created in memory with name: no-name-ea1513e5-47ad-46ce-a470-ff199b0f88ba\u001b[0m\n",
      "feature_fraction, val_score: inf:   0%|          | 0/7 [00:00<?, ?it/s]"
     ]
    },
    {
     "name": "stdout",
     "output_type": "stream",
     "text": [
      "[LightGBM] [Warning] min_data_in_leaf is set=17, min_child_samples=20 will be ignored. Current value: min_data_in_leaf=17\n",
      "Training until validation scores don't improve for 20 rounds\n",
      "[100]\tvalid_0's l1: 77.8089\tvalid_1's l1: 67.5089\n",
      "[200]\tvalid_0's l1: 53.1429\tvalid_1's l1: 49.6251\n",
      "[300]\tvalid_0's l1: 38.8927\tvalid_1's l1: 42.0635\n",
      "[400]\tvalid_0's l1: 33.0474\tvalid_1's l1: 40.0705\n",
      "[500]\tvalid_0's l1: 29.4081\tvalid_1's l1: 39.216\n",
      "[600]\tvalid_0's l1: 26.8479\tvalid_1's l1: 38.6659\n",
      "[700]\tvalid_0's l1: 25.2616\tvalid_1's l1: 38.3288\n",
      "Early stopping, best iteration is:\n",
      "[694]\tvalid_0's l1: 25.3205\tvalid_1's l1: 38.3012\n"
     ]
    },
    {
     "name": "stderr",
     "output_type": "stream",
     "text": [
      "feature_fraction, val_score: 38.301195:  14%|#4        | 1/7 [00:03<00:18,  3.02s/it]\u001b[32m[I 2022-12-02 14:03:42,239]\u001b[0m Trial 0 finished with value: 38.3011952105743 and parameters: {'feature_fraction': 0.6}. Best is trial 0 with value: 38.3011952105743.\u001b[0m\n",
      "feature_fraction, val_score: 38.301195:  14%|#4        | 1/7 [00:03<00:18,  3.02s/it]"
     ]
    },
    {
     "name": "stdout",
     "output_type": "stream",
     "text": [
      "Training until validation scores don't improve for 20 rounds\n",
      "[100]\tvalid_0's l1: 73.3165\tvalid_1's l1: 66.599\n",
      "[200]\tvalid_0's l1: 48.8989\tvalid_1's l1: 49.1232\n",
      "[300]\tvalid_0's l1: 36.8587\tvalid_1's l1: 41.8216\n",
      "[400]\tvalid_0's l1: 30.5465\tvalid_1's l1: 39.2295\n",
      "[500]\tvalid_0's l1: 27.6023\tvalid_1's l1: 38.2385\n",
      "[600]\tvalid_0's l1: 25.9455\tvalid_1's l1: 37.9344\n",
      "Early stopping, best iteration is:\n",
      "[665]\tvalid_0's l1: 25.2016\tvalid_1's l1: 37.813\n"
     ]
    },
    {
     "name": "stderr",
     "output_type": "stream",
     "text": [
      "feature_fraction, val_score: 37.813005:  29%|##8       | 2/7 [00:05<00:14,  2.94s/it]\u001b[32m[I 2022-12-02 14:03:45,119]\u001b[0m Trial 1 finished with value: 37.81300463343705 and parameters: {'feature_fraction': 0.5}. Best is trial 1 with value: 37.81300463343705.\u001b[0m\n",
      "feature_fraction, val_score: 37.813005:  29%|##8       | 2/7 [00:05<00:14,  2.94s/it]"
     ]
    },
    {
     "name": "stdout",
     "output_type": "stream",
     "text": [
      "Training until validation scores don't improve for 20 rounds\n",
      "[100]\tvalid_0's l1: 64.8025\tvalid_1's l1: 65.3203\n",
      "[200]\tvalid_0's l1: 42.3549\tvalid_1's l1: 51.6632\n",
      "[300]\tvalid_0's l1: 30.0339\tvalid_1's l1: 43.3103\n",
      "[400]\tvalid_0's l1: 25.3406\tvalid_1's l1: 40.4902\n",
      "[500]\tvalid_0's l1: 23.5398\tvalid_1's l1: 39.55\n",
      "[600]\tvalid_0's l1: 22.6218\tvalid_1's l1: 39.2498\n",
      "Early stopping, best iteration is:\n",
      "[646]\tvalid_0's l1: 22.3042\tvalid_1's l1: 39.1468\n"
     ]
    },
    {
     "name": "stderr",
     "output_type": "stream",
     "text": [
      "feature_fraction, val_score: 37.813005:  43%|####2     | 3/7 [00:09<00:13,  3.36s/it]\u001b[32m[I 2022-12-02 14:03:48,975]\u001b[0m Trial 2 finished with value: 39.14683742636952 and parameters: {'feature_fraction': 1.0}. Best is trial 1 with value: 37.81300463343705.\u001b[0m\n",
      "feature_fraction, val_score: 37.813005:  43%|####2     | 3/7 [00:09<00:13,  3.36s/it]"
     ]
    },
    {
     "name": "stdout",
     "output_type": "stream",
     "text": [
      "Training until validation scores don't improve for 20 rounds\n",
      "[100]\tvalid_0's l1: 73.0421\tvalid_1's l1: 66.1609\n",
      "[200]\tvalid_0's l1: 47.9911\tvalid_1's l1: 48.5586\n",
      "[300]\tvalid_0's l1: 36.7211\tvalid_1's l1: 42.7178\n",
      "[400]\tvalid_0's l1: 30.4812\tvalid_1's l1: 40.1931\n",
      "[500]\tvalid_0's l1: 27.3242\tvalid_1's l1: 39.3376\n",
      "[600]\tvalid_0's l1: 25.1504\tvalid_1's l1: 38.8049\n",
      "[700]\tvalid_0's l1: 24.0369\tvalid_1's l1: 38.6618\n",
      "Early stopping, best iteration is:\n",
      "[692]\tvalid_0's l1: 24.1208\tvalid_1's l1: 38.6439\n"
     ]
    },
    {
     "name": "stderr",
     "output_type": "stream",
     "text": [
      "feature_fraction, val_score: 37.813005:  57%|#####7    | 4/7 [00:14<00:11,  3.74s/it]\u001b[32m[I 2022-12-02 14:03:53,309]\u001b[0m Trial 3 finished with value: 38.64387356732846 and parameters: {'feature_fraction': 0.7}. Best is trial 1 with value: 37.81300463343705.\u001b[0m\n",
      "feature_fraction, val_score: 37.813005:  57%|#####7    | 4/7 [00:14<00:11,  3.74s/it]"
     ]
    },
    {
     "name": "stdout",
     "output_type": "stream",
     "text": [
      "Training until validation scores don't improve for 20 rounds\n",
      "[100]\tvalid_0's l1: 73.0421\tvalid_1's l1: 66.1609\n",
      "[200]\tvalid_0's l1: 47.9911\tvalid_1's l1: 48.5586\n",
      "[300]\tvalid_0's l1: 36.7211\tvalid_1's l1: 42.7178\n",
      "[400]\tvalid_0's l1: 30.4812\tvalid_1's l1: 40.1931\n",
      "[500]\tvalid_0's l1: 27.3242\tvalid_1's l1: 39.3376\n",
      "[600]\tvalid_0's l1: 25.1504\tvalid_1's l1: 38.8049\n",
      "[700]\tvalid_0's l1: 24.0369\tvalid_1's l1: 38.6618\n",
      "Early stopping, best iteration is:\n",
      "[692]\tvalid_0's l1: 24.1208\tvalid_1's l1: 38.6439\n"
     ]
    },
    {
     "name": "stderr",
     "output_type": "stream",
     "text": [
      "feature_fraction, val_score: 37.813005:  71%|#######1  | 5/7 [00:18<00:07,  3.93s/it]\u001b[32m[I 2022-12-02 14:03:57,567]\u001b[0m Trial 4 finished with value: 38.64387356732846 and parameters: {'feature_fraction': 0.8}. Best is trial 1 with value: 37.81300463343705.\u001b[0m\n",
      "feature_fraction, val_score: 37.813005:  71%|#######1  | 5/7 [00:18<00:07,  3.93s/it]"
     ]
    },
    {
     "name": "stdout",
     "output_type": "stream",
     "text": [
      "Training until validation scores don't improve for 20 rounds\n",
      "[100]\tvalid_0's l1: 89.464\tvalid_1's l1: 73.2962\n",
      "[200]\tvalid_0's l1: 73.371\tvalid_1's l1: 60.2041\n",
      "[300]\tvalid_0's l1: 61.1932\tvalid_1's l1: 52.457\n",
      "[400]\tvalid_0's l1: 53.0069\tvalid_1's l1: 48.1856\n",
      "[500]\tvalid_0's l1: 47.0018\tvalid_1's l1: 45.6072\n",
      "[600]\tvalid_0's l1: 42.2268\tvalid_1's l1: 43.7051\n",
      "[700]\tvalid_0's l1: 39.5997\tvalid_1's l1: 42.4718\n",
      "[800]\tvalid_0's l1: 36.4135\tvalid_1's l1: 41.0738\n",
      "[900]\tvalid_0's l1: 33.71\tvalid_1's l1: 39.8367\n",
      "[1000]\tvalid_0's l1: 31.973\tvalid_1's l1: 39.1422\n",
      "[1100]\tvalid_0's l1: 30.6797\tvalid_1's l1: 38.595\n",
      "Early stopping, best iteration is:\n",
      "[1133]\tvalid_0's l1: 30.0448\tvalid_1's l1: 38.3911\n"
     ]
    },
    {
     "name": "stderr",
     "output_type": "stream",
     "text": [
      "feature_fraction, val_score: 37.813005:  86%|########5 | 6/7 [00:22<00:03,  3.97s/it]\u001b[32m[I 2022-12-02 14:04:01,604]\u001b[0m Trial 5 finished with value: 38.39106431581842 and parameters: {'feature_fraction': 0.4}. Best is trial 1 with value: 37.81300463343705.\u001b[0m\n",
      "feature_fraction, val_score: 37.813005:  86%|########5 | 6/7 [00:22<00:03,  3.97s/it]"
     ]
    },
    {
     "name": "stdout",
     "output_type": "stream",
     "text": [
      "Training until validation scores don't improve for 20 rounds\n",
      "[100]\tvalid_0's l1: 69.7606\tvalid_1's l1: 66.0077\n",
      "[200]\tvalid_0's l1: 45.2466\tvalid_1's l1: 49.8949\n",
      "[300]\tvalid_0's l1: 31.95\tvalid_1's l1: 41.893\n",
      "[400]\tvalid_0's l1: 26.729\tvalid_1's l1: 39.7965\n",
      "[500]\tvalid_0's l1: 24.5132\tvalid_1's l1: 39.1323\n",
      "Early stopping, best iteration is:\n",
      "[569]\tvalid_0's l1: 23.5616\tvalid_1's l1: 38.9955\n"
     ]
    },
    {
     "name": "stderr",
     "output_type": "stream",
     "text": [
      "feature_fraction, val_score: 37.813005: 100%|##########| 7/7 [00:25<00:00,  3.80s/it]\u001b[32m[I 2022-12-02 14:04:05,069]\u001b[0m Trial 6 finished with value: 38.995457687815154 and parameters: {'feature_fraction': 0.8999999999999999}. Best is trial 1 with value: 37.81300463343705.\u001b[0m\n",
      "feature_fraction, val_score: 37.813005: 100%|##########| 7/7 [00:25<00:00,  3.69s/it]\n",
      "num_leaves, val_score: 37.813005:   0%|          | 0/20 [00:00<?, ?it/s]"
     ]
    },
    {
     "name": "stdout",
     "output_type": "stream",
     "text": [
      "Training until validation scores don't improve for 20 rounds\n",
      "[100]\tvalid_0's l1: 73.3165\tvalid_1's l1: 66.599\n",
      "[200]\tvalid_0's l1: 48.8989\tvalid_1's l1: 49.1232\n",
      "[300]\tvalid_0's l1: 36.8587\tvalid_1's l1: 41.8216\n",
      "[400]\tvalid_0's l1: 30.6103\tvalid_1's l1: 39.3283\n",
      "[500]\tvalid_0's l1: 27.6637\tvalid_1's l1: 38.2436\n",
      "[600]\tvalid_0's l1: 25.9507\tvalid_1's l1: 37.8673\n",
      "Early stopping, best iteration is:\n",
      "[672]\tvalid_0's l1: 25.1611\tvalid_1's l1: 37.7401\n"
     ]
    },
    {
     "name": "stderr",
     "output_type": "stream",
     "text": [
      "num_leaves, val_score: 37.740121:   5%|5         | 1/20 [00:02<00:51,  2.70s/it]\u001b[32m[I 2022-12-02 14:04:07,781]\u001b[0m Trial 7 finished with value: 37.740121032517514 and parameters: {'num_leaves': 122}. Best is trial 7 with value: 37.740121032517514.\u001b[0m\n",
      "num_leaves, val_score: 37.740121:   5%|5         | 1/20 [00:02<00:51,  2.70s/it]"
     ]
    },
    {
     "name": "stdout",
     "output_type": "stream",
     "text": [
      "Training until validation scores don't improve for 20 rounds\n",
      "[100]\tvalid_0's l1: 73.3165\tvalid_1's l1: 66.599\n",
      "[200]\tvalid_0's l1: 48.899\tvalid_1's l1: 49.1232\n",
      "[300]\tvalid_0's l1: 36.9455\tvalid_1's l1: 41.8401\n",
      "[400]\tvalid_0's l1: 30.7235\tvalid_1's l1: 39.2024\n",
      "[500]\tvalid_0's l1: 27.7775\tvalid_1's l1: 38.2389\n",
      "[600]\tvalid_0's l1: 26.1366\tvalid_1's l1: 37.9791\n",
      "Early stopping, best iteration is:\n",
      "[662]\tvalid_0's l1: 25.3833\tvalid_1's l1: 37.8277\n"
     ]
    },
    {
     "name": "stderr",
     "output_type": "stream",
     "text": [
      "num_leaves, val_score: 37.740121:  10%|#         | 2/20 [00:04<00:39,  2.17s/it]\u001b[32m[I 2022-12-02 14:04:09,591]\u001b[0m Trial 8 finished with value: 37.827695991608735 and parameters: {'num_leaves': 96}. Best is trial 7 with value: 37.740121032517514.\u001b[0m\n",
      "num_leaves, val_score: 37.740121:  10%|#         | 2/20 [00:04<00:39,  2.17s/it]"
     ]
    },
    {
     "name": "stdout",
     "output_type": "stream",
     "text": [
      "Training until validation scores don't improve for 20 rounds\n",
      "[100]\tvalid_0's l1: 73.3165\tvalid_1's l1: 66.599\n",
      "[200]\tvalid_0's l1: 48.8989\tvalid_1's l1: 49.1232\n",
      "[300]\tvalid_0's l1: 36.8587\tvalid_1's l1: 41.8216\n",
      "[400]\tvalid_0's l1: 30.5465\tvalid_1's l1: 39.2295\n",
      "[500]\tvalid_0's l1: 27.6023\tvalid_1's l1: 38.2385\n",
      "[600]\tvalid_0's l1: 25.9455\tvalid_1's l1: 37.9344\n",
      "Early stopping, best iteration is:\n",
      "[665]\tvalid_0's l1: 25.2016\tvalid_1's l1: 37.813\n"
     ]
    },
    {
     "name": "stderr",
     "output_type": "stream",
     "text": [
      "num_leaves, val_score: 37.740121:  15%|#5        | 3/20 [00:06<00:34,  2.03s/it]\u001b[32m[I 2022-12-02 14:04:11,451]\u001b[0m Trial 9 finished with value: 37.81300463343705 and parameters: {'num_leaves': 167}. Best is trial 7 with value: 37.740121032517514.\u001b[0m\n",
      "num_leaves, val_score: 37.740121:  15%|#5        | 3/20 [00:06<00:34,  2.03s/it]"
     ]
    },
    {
     "name": "stdout",
     "output_type": "stream",
     "text": [
      "Training until validation scores don't improve for 20 rounds\n",
      "[100]\tvalid_0's l1: 73.3165\tvalid_1's l1: 66.599\n",
      "[200]\tvalid_0's l1: 48.8989\tvalid_1's l1: 49.1232\n",
      "[300]\tvalid_0's l1: 36.8587\tvalid_1's l1: 41.8216\n",
      "[400]\tvalid_0's l1: 30.5465\tvalid_1's l1: 39.2295\n",
      "[500]\tvalid_0's l1: 27.6023\tvalid_1's l1: 38.2385\n",
      "[600]\tvalid_0's l1: 25.9455\tvalid_1's l1: 37.9344\n",
      "Early stopping, best iteration is:\n",
      "[665]\tvalid_0's l1: 25.2016\tvalid_1's l1: 37.813\n"
     ]
    },
    {
     "name": "stderr",
     "output_type": "stream",
     "text": [
      "num_leaves, val_score: 37.740121:  20%|##        | 4/20 [00:08<00:31,  1.99s/it]\u001b[32m[I 2022-12-02 14:04:13,381]\u001b[0m Trial 10 finished with value: 37.81300463343705 and parameters: {'num_leaves': 195}. Best is trial 7 with value: 37.740121032517514.\u001b[0m\n",
      "num_leaves, val_score: 37.740121:  20%|##        | 4/20 [00:08<00:31,  1.99s/it]"
     ]
    },
    {
     "name": "stdout",
     "output_type": "stream",
     "text": [
      "Training until validation scores don't improve for 20 rounds\n",
      "[100]\tvalid_0's l1: 73.3165\tvalid_1's l1: 66.599\n",
      "[200]\tvalid_0's l1: 48.8989\tvalid_1's l1: 49.1232\n",
      "[300]\tvalid_0's l1: 36.8587\tvalid_1's l1: 41.8216\n",
      "[400]\tvalid_0's l1: 30.5465\tvalid_1's l1: 39.2295\n",
      "[500]\tvalid_0's l1: 27.6023\tvalid_1's l1: 38.2385\n",
      "[600]\tvalid_0's l1: 25.9455\tvalid_1's l1: 37.9344\n",
      "Early stopping, best iteration is:\n",
      "[665]\tvalid_0's l1: 25.2016\tvalid_1's l1: 37.813\n"
     ]
    },
    {
     "name": "stderr",
     "output_type": "stream",
     "text": [
      "num_leaves, val_score: 37.740121:  25%|##5       | 5/20 [00:10<00:28,  1.92s/it]\u001b[32m[I 2022-12-02 14:04:15,162]\u001b[0m Trial 11 finished with value: 37.81300463343705 and parameters: {'num_leaves': 205}. Best is trial 7 with value: 37.740121032517514.\u001b[0m\n",
      "num_leaves, val_score: 37.740121:  25%|##5       | 5/20 [00:10<00:28,  1.92s/it]"
     ]
    },
    {
     "name": "stdout",
     "output_type": "stream",
     "text": [
      "Training until validation scores don't improve for 20 rounds\n",
      "[100]\tvalid_0's l1: 73.3165\tvalid_1's l1: 66.599\n",
      "[200]\tvalid_0's l1: 48.8989\tvalid_1's l1: 49.1232\n",
      "[300]\tvalid_0's l1: 36.8587\tvalid_1's l1: 41.8216\n",
      "[400]\tvalid_0's l1: 30.5465\tvalid_1's l1: 39.2295\n",
      "[500]\tvalid_0's l1: 27.6023\tvalid_1's l1: 38.2385\n",
      "[600]\tvalid_0's l1: 25.9455\tvalid_1's l1: 37.9344\n",
      "Early stopping, best iteration is:\n",
      "[665]\tvalid_0's l1: 25.2016\tvalid_1's l1: 37.813\n"
     ]
    },
    {
     "name": "stderr",
     "output_type": "stream",
     "text": [
      "num_leaves, val_score: 37.740121:  30%|###       | 6/20 [00:12<00:26,  1.92s/it]\u001b[32m[I 2022-12-02 14:04:17,095]\u001b[0m Trial 12 finished with value: 37.81300463343705 and parameters: {'num_leaves': 236}. Best is trial 7 with value: 37.740121032517514.\u001b[0m\n",
      "num_leaves, val_score: 37.740121:  30%|###       | 6/20 [00:12<00:26,  1.92s/it]"
     ]
    },
    {
     "name": "stdout",
     "output_type": "stream",
     "text": [
      "Training until validation scores don't improve for 20 rounds\n",
      "[100]\tvalid_0's l1: 73.3165\tvalid_1's l1: 66.599\n",
      "[200]\tvalid_0's l1: 48.8989\tvalid_1's l1: 49.1232\n",
      "[300]\tvalid_0's l1: 36.8587\tvalid_1's l1: 41.8216\n",
      "[400]\tvalid_0's l1: 30.5465\tvalid_1's l1: 39.2295\n",
      "[500]\tvalid_0's l1: 27.6023\tvalid_1's l1: 38.2385\n",
      "[600]\tvalid_0's l1: 25.9455\tvalid_1's l1: 37.9344\n",
      "Early stopping, best iteration is:\n",
      "[665]\tvalid_0's l1: 25.2016\tvalid_1's l1: 37.813\n"
     ]
    },
    {
     "name": "stderr",
     "output_type": "stream",
     "text": [
      "num_leaves, val_score: 37.740121:  35%|###5      | 7/20 [00:14<00:25,  1.95s/it]\u001b[32m[I 2022-12-02 14:04:19,094]\u001b[0m Trial 13 finished with value: 37.81300463343705 and parameters: {'num_leaves': 193}. Best is trial 7 with value: 37.740121032517514.\u001b[0m\n",
      "num_leaves, val_score: 37.740121:  35%|###5      | 7/20 [00:14<00:25,  1.95s/it]"
     ]
    },
    {
     "name": "stdout",
     "output_type": "stream",
     "text": [
      "Training until validation scores don't improve for 20 rounds\n",
      "[100]\tvalid_0's l1: 73.3165\tvalid_1's l1: 66.599\n",
      "[200]\tvalid_0's l1: 48.8989\tvalid_1's l1: 49.1232\n",
      "[300]\tvalid_0's l1: 36.8587\tvalid_1's l1: 41.8216\n",
      "[400]\tvalid_0's l1: 30.5465\tvalid_1's l1: 39.2295\n",
      "[500]\tvalid_0's l1: 27.6023\tvalid_1's l1: 38.2385\n",
      "[600]\tvalid_0's l1: 25.9455\tvalid_1's l1: 37.9344\n",
      "Early stopping, best iteration is:\n",
      "[665]\tvalid_0's l1: 25.2016\tvalid_1's l1: 37.813\n"
     ]
    },
    {
     "name": "stderr",
     "output_type": "stream",
     "text": [
      "num_leaves, val_score: 37.740121:  40%|####      | 8/20 [00:15<00:23,  1.94s/it]\u001b[32m[I 2022-12-02 14:04:21,032]\u001b[0m Trial 14 finished with value: 37.81300463343705 and parameters: {'num_leaves': 165}. Best is trial 7 with value: 37.740121032517514.\u001b[0m\n",
      "num_leaves, val_score: 37.740121:  40%|####      | 8/20 [00:15<00:23,  1.94s/it]"
     ]
    },
    {
     "name": "stdout",
     "output_type": "stream",
     "text": [
      "Training until validation scores don't improve for 20 rounds\n",
      "[100]\tvalid_0's l1: 77.9648\tvalid_1's l1: 69.9758\n",
      "[200]\tvalid_0's l1: 63.2458\tvalid_1's l1: 60.397\n",
      "[300]\tvalid_0's l1: 57.4948\tvalid_1's l1: 57.8162\n",
      "[400]\tvalid_0's l1: 53.3008\tvalid_1's l1: 56.3828\n"
     ]
    },
    {
     "name": "stderr",
     "output_type": "stream",
     "text": [
      "num_leaves, val_score: 37.740121:  45%|####5     | 9/20 [00:16<00:16,  1.51s/it]\u001b[32m[I 2022-12-02 14:04:21,601]\u001b[0m Trial 15 finished with value: 55.415792024364904 and parameters: {'num_leaves': 7}. Best is trial 7 with value: 37.740121032517514.\u001b[0m\n",
      "num_leaves, val_score: 37.740121:  45%|####5     | 9/20 [00:16<00:16,  1.51s/it]"
     ]
    },
    {
     "name": "stdout",
     "output_type": "stream",
     "text": [
      "Early stopping, best iteration is:\n",
      "[469]\tvalid_0's l1: 51.0008\tvalid_1's l1: 55.4158\n",
      "Training until validation scores don't improve for 20 rounds\n",
      "[100]\tvalid_0's l1: 73.3165\tvalid_1's l1: 66.599\n",
      "[200]\tvalid_0's l1: 48.8989\tvalid_1's l1: 49.1232\n",
      "[300]\tvalid_0's l1: 36.8587\tvalid_1's l1: 41.8216\n",
      "[400]\tvalid_0's l1: 30.5465\tvalid_1's l1: 39.2295\n",
      "[500]\tvalid_0's l1: 27.6023\tvalid_1's l1: 38.2385\n",
      "[600]\tvalid_0's l1: 25.9455\tvalid_1's l1: 37.9344\n",
      "Early stopping, best iteration is:\n",
      "[665]\tvalid_0's l1: 25.2016\tvalid_1's l1: 37.813\n"
     ]
    },
    {
     "name": "stderr",
     "output_type": "stream",
     "text": [
      "num_leaves, val_score: 37.740121:  50%|#####     | 10/20 [00:19<00:20,  2.06s/it]\u001b[32m[I 2022-12-02 14:04:24,884]\u001b[0m Trial 16 finished with value: 37.81300463343705 and parameters: {'num_leaves': 197}. Best is trial 7 with value: 37.740121032517514.\u001b[0m\n",
      "num_leaves, val_score: 37.740121:  50%|#####     | 10/20 [00:19<00:20,  2.06s/it]"
     ]
    },
    {
     "name": "stdout",
     "output_type": "stream",
     "text": [
      "Training until validation scores don't improve for 20 rounds\n",
      "[100]\tvalid_0's l1: 73.3165\tvalid_1's l1: 66.599\n",
      "[200]\tvalid_0's l1: 48.907\tvalid_1's l1: 49.1225\n",
      "[300]\tvalid_0's l1: 37.2848\tvalid_1's l1: 42.0348\n",
      "[400]\tvalid_0's l1: 31.089\tvalid_1's l1: 39.2286\n",
      "[500]\tvalid_0's l1: 27.9399\tvalid_1's l1: 38.1743\n",
      "[600]\tvalid_0's l1: 26.1684\tvalid_1's l1: 37.7719\n",
      "[700]\tvalid_0's l1: 25.1985\tvalid_1's l1: 37.5798\n",
      "Early stopping, best iteration is:\n",
      "[708]\tvalid_0's l1: 25.1448\tvalid_1's l1: 37.5712\n"
     ]
    },
    {
     "name": "stderr",
     "output_type": "stream",
     "text": [
      "num_leaves, val_score: 37.571152:  55%|#####5    | 11/20 [00:22<00:19,  2.11s/it]\u001b[32m[I 2022-12-02 14:04:27,111]\u001b[0m Trial 17 finished with value: 37.571151527726144 and parameters: {'num_leaves': 84}. Best is trial 17 with value: 37.571151527726144.\u001b[0m\n",
      "num_leaves, val_score: 37.571152:  55%|#####5    | 11/20 [00:22<00:19,  2.11s/it]"
     ]
    },
    {
     "name": "stdout",
     "output_type": "stream",
     "text": [
      "Training until validation scores don't improve for 20 rounds\n",
      "[100]\tvalid_0's l1: 73.3165\tvalid_1's l1: 66.599\n",
      "[200]\tvalid_0's l1: 48.9077\tvalid_1's l1: 49.1232\n",
      "[300]\tvalid_0's l1: 36.9228\tvalid_1's l1: 41.8779\n",
      "[400]\tvalid_0's l1: 30.7793\tvalid_1's l1: 39.2295\n",
      "[500]\tvalid_0's l1: 28.0122\tvalid_1's l1: 38.1607\n",
      "[600]\tvalid_0's l1: 26.1729\tvalid_1's l1: 37.8212\n",
      "[700]\tvalid_0's l1: 25.178\tvalid_1's l1: 37.5723\n",
      "Early stopping, best iteration is:\n",
      "[739]\tvalid_0's l1: 24.9225\tvalid_1's l1: 37.5559\n"
     ]
    },
    {
     "name": "stderr",
     "output_type": "stream",
     "text": [
      "num_leaves, val_score: 37.555864:  60%|######    | 12/20 [00:23<00:16,  2.06s/it]\u001b[32m[I 2022-12-02 14:04:29,063]\u001b[0m Trial 18 finished with value: 37.55586408650772 and parameters: {'num_leaves': 83}. Best is trial 18 with value: 37.55586408650772.\u001b[0m\n",
      "num_leaves, val_score: 37.555864:  60%|######    | 12/20 [00:23<00:16,  2.06s/it]"
     ]
    },
    {
     "name": "stdout",
     "output_type": "stream",
     "text": [
      "Training until validation scores don't improve for 20 rounds\n",
      "[100]\tvalid_0's l1: 73.3169\tvalid_1's l1: 66.6024\n",
      "[200]\tvalid_0's l1: 48.9811\tvalid_1's l1: 49.1626\n",
      "[300]\tvalid_0's l1: 37.2897\tvalid_1's l1: 41.9519\n",
      "[400]\tvalid_0's l1: 31.3139\tvalid_1's l1: 39.4132\n",
      "[500]\tvalid_0's l1: 28.2324\tvalid_1's l1: 38.2764\n",
      "[600]\tvalid_0's l1: 26.529\tvalid_1's l1: 37.8351\n",
      "Early stopping, best iteration is:\n",
      "[665]\tvalid_0's l1: 25.7319\tvalid_1's l1: 37.6312\n"
     ]
    },
    {
     "name": "stderr",
     "output_type": "stream",
     "text": [
      "num_leaves, val_score: 37.555864:  65%|######5   | 13/20 [00:25<00:13,  1.92s/it]\u001b[32m[I 2022-12-02 14:04:30,652]\u001b[0m Trial 19 finished with value: 37.63117893825588 and parameters: {'num_leaves': 65}. Best is trial 18 with value: 37.55586408650772.\u001b[0m\n",
      "num_leaves, val_score: 37.555864:  65%|######5   | 13/20 [00:25<00:13,  1.92s/it]"
     ]
    },
    {
     "name": "stdout",
     "output_type": "stream",
     "text": [
      "Training until validation scores don't improve for 20 rounds\n",
      "[100]\tvalid_0's l1: 73.3432\tvalid_1's l1: 66.5927\n",
      "[200]\tvalid_0's l1: 49.0948\tvalid_1's l1: 49.1877\n",
      "[300]\tvalid_0's l1: 38.0067\tvalid_1's l1: 42.3329\n",
      "[400]\tvalid_0's l1: 32.2194\tvalid_1's l1: 39.5782\n",
      "[500]\tvalid_0's l1: 28.6407\tvalid_1's l1: 38.228\n",
      "[600]\tvalid_0's l1: 26.8936\tvalid_1's l1: 37.7549\n",
      "[700]\tvalid_0's l1: 25.8493\tvalid_1's l1: 37.4392\n",
      "Early stopping, best iteration is:\n",
      "[742]\tvalid_0's l1: 25.5722\tvalid_1's l1: 37.3644\n"
     ]
    },
    {
     "name": "stderr",
     "output_type": "stream",
     "text": [
      "num_leaves, val_score: 37.364427:  70%|#######   | 14/20 [00:27<00:11,  1.86s/it]\u001b[32m[I 2022-12-02 14:04:32,385]\u001b[0m Trial 20 finished with value: 37.36442680498564 and parameters: {'num_leaves': 53}. Best is trial 20 with value: 37.36442680498564.\u001b[0m\n",
      "num_leaves, val_score: 37.364427:  70%|#######   | 14/20 [00:27<00:11,  1.86s/it]"
     ]
    },
    {
     "name": "stdout",
     "output_type": "stream",
     "text": [
      "Training until validation scores don't improve for 20 rounds\n",
      "[100]\tvalid_0's l1: 74.3316\tvalid_1's l1: 66.8633\n",
      "[200]\tvalid_0's l1: 51.8299\tvalid_1's l1: 50.6634\n",
      "[300]\tvalid_0's l1: 40.531\tvalid_1's l1: 43.247\n",
      "[400]\tvalid_0's l1: 35.4088\tvalid_1's l1: 40.6861\n",
      "[500]\tvalid_0's l1: 32.0665\tvalid_1's l1: 39.2177\n",
      "[600]\tvalid_0's l1: 29.9524\tvalid_1's l1: 38.2933\n",
      "[700]\tvalid_0's l1: 28.7356\tvalid_1's l1: 37.991\n",
      "[800]\tvalid_0's l1: 27.7728\tvalid_1's l1: 37.7916\n",
      "Early stopping, best iteration is:\n",
      "[867]\tvalid_0's l1: 27.208\tvalid_1's l1: 37.7184\n"
     ]
    },
    {
     "name": "stderr",
     "output_type": "stream",
     "text": [
      "num_leaves, val_score: 37.364427:  75%|#######5  | 15/20 [00:28<00:08,  1.68s/it]\u001b[32m[I 2022-12-02 14:04:33,654]\u001b[0m Trial 21 finished with value: 37.71843001774795 and parameters: {'num_leaves': 21}. Best is trial 20 with value: 37.36442680498564.\u001b[0m\n",
      "num_leaves, val_score: 37.364427:  75%|#######5  | 15/20 [00:28<00:08,  1.68s/it]"
     ]
    },
    {
     "name": "stdout",
     "output_type": "stream",
     "text": [
      "Training until validation scores don't improve for 20 rounds\n",
      "[100]\tvalid_0's l1: 73.483\tvalid_1's l1: 66.6436\n",
      "[200]\tvalid_0's l1: 49.5468\tvalid_1's l1: 49.2625\n",
      "[300]\tvalid_0's l1: 38.4849\tvalid_1's l1: 42.4969\n",
      "[400]\tvalid_0's l1: 32.8621\tvalid_1's l1: 39.8159\n",
      "[500]\tvalid_0's l1: 29.9014\tvalid_1's l1: 38.8128\n",
      "[600]\tvalid_0's l1: 27.4961\tvalid_1's l1: 38.0893\n"
     ]
    },
    {
     "name": "stderr",
     "output_type": "stream",
     "text": [
      "num_leaves, val_score: 37.364427:  80%|########  | 16/20 [00:29<00:06,  1.55s/it]\u001b[32m[I 2022-12-02 14:04:34,903]\u001b[0m Trial 22 finished with value: 37.71402672783673 and parameters: {'num_leaves': 41}. Best is trial 20 with value: 37.36442680498564.\u001b[0m\n",
      "num_leaves, val_score: 37.364427:  80%|########  | 16/20 [00:29<00:06,  1.55s/it]"
     ]
    },
    {
     "name": "stdout",
     "output_type": "stream",
     "text": [
      "Early stopping, best iteration is:\n",
      "[663]\tvalid_0's l1: 26.7371\tvalid_1's l1: 37.714\n",
      "Training until validation scores don't improve for 20 rounds\n",
      "[100]\tvalid_0's l1: 73.3432\tvalid_1's l1: 66.5927\n",
      "[200]\tvalid_0's l1: 49.0948\tvalid_1's l1: 49.1877\n",
      "[300]\tvalid_0's l1: 38.0067\tvalid_1's l1: 42.3329\n",
      "[400]\tvalid_0's l1: 32.2194\tvalid_1's l1: 39.5782\n",
      "[500]\tvalid_0's l1: 28.6407\tvalid_1's l1: 38.228\n",
      "[600]\tvalid_0's l1: 26.8936\tvalid_1's l1: 37.7549\n",
      "[700]\tvalid_0's l1: 25.8493\tvalid_1's l1: 37.4392\n",
      "Early stopping, best iteration is:\n",
      "[742]\tvalid_0's l1: 25.5722\tvalid_1's l1: 37.3644\n"
     ]
    },
    {
     "name": "stderr",
     "output_type": "stream",
     "text": [
      "num_leaves, val_score: 37.364427:  85%|########5 | 17/20 [00:31<00:05,  1.72s/it]\u001b[32m[I 2022-12-02 14:04:37,002]\u001b[0m Trial 23 finished with value: 37.36442680498564 and parameters: {'num_leaves': 53}. Best is trial 20 with value: 37.36442680498564.\u001b[0m\n",
      "num_leaves, val_score: 37.364427:  85%|########5 | 17/20 [00:31<00:05,  1.72s/it]"
     ]
    },
    {
     "name": "stdout",
     "output_type": "stream",
     "text": [
      "Training until validation scores don't improve for 20 rounds\n",
      "[100]\tvalid_0's l1: 73.407\tvalid_1's l1: 66.6424\n",
      "[200]\tvalid_0's l1: 49.7113\tvalid_1's l1: 49.4136\n",
      "[300]\tvalid_0's l1: 38.1584\tvalid_1's l1: 42.2087\n",
      "[400]\tvalid_0's l1: 32.434\tvalid_1's l1: 39.6587\n",
      "[500]\tvalid_0's l1: 28.8485\tvalid_1's l1: 38.254\n",
      "[600]\tvalid_0's l1: 26.9501\tvalid_1's l1: 37.7401\n",
      "Early stopping, best iteration is:\n",
      "[665]\tvalid_0's l1: 26.2642\tvalid_1's l1: 37.5725\n"
     ]
    },
    {
     "name": "stderr",
     "output_type": "stream",
     "text": [
      "num_leaves, val_score: 37.364427:  90%|######### | 18/20 [00:34<00:03,  1.87s/it]\u001b[32m[I 2022-12-02 14:04:39,237]\u001b[0m Trial 24 finished with value: 37.572515101649614 and parameters: {'num_leaves': 47}. Best is trial 20 with value: 37.36442680498564.\u001b[0m\n",
      "num_leaves, val_score: 37.364427:  90%|######### | 18/20 [00:34<00:03,  1.87s/it]"
     ]
    },
    {
     "name": "stdout",
     "output_type": "stream",
     "text": [
      "Training until validation scores don't improve for 20 rounds\n",
      "[100]\tvalid_0's l1: 73.3165\tvalid_1's l1: 66.599\n",
      "[200]\tvalid_0's l1: 48.8989\tvalid_1's l1: 49.1232\n",
      "[300]\tvalid_0's l1: 36.8587\tvalid_1's l1: 41.8216\n",
      "[400]\tvalid_0's l1: 30.535\tvalid_1's l1: 39.2165\n",
      "[500]\tvalid_0's l1: 27.5797\tvalid_1's l1: 38.1159\n",
      "[600]\tvalid_0's l1: 26.0004\tvalid_1's l1: 37.8149\n",
      "Early stopping, best iteration is:\n",
      "[663]\tvalid_0's l1: 25.2949\tvalid_1's l1: 37.6943\n"
     ]
    },
    {
     "name": "stderr",
     "output_type": "stream",
     "text": [
      "num_leaves, val_score: 37.364427:  95%|#########5| 19/20 [00:36<00:02,  2.07s/it]\u001b[32m[I 2022-12-02 14:04:41,766]\u001b[0m Trial 25 finished with value: 37.69428738288791 and parameters: {'num_leaves': 123}. Best is trial 20 with value: 37.36442680498564.\u001b[0m\n",
      "num_leaves, val_score: 37.364427:  95%|#########5| 19/20 [00:36<00:02,  2.07s/it]"
     ]
    },
    {
     "name": "stdout",
     "output_type": "stream",
     "text": [
      "Training until validation scores don't improve for 20 rounds\n",
      "[100]\tvalid_0's l1: 73.6737\tvalid_1's l1: 66.6318\n",
      "[200]\tvalid_0's l1: 50.3378\tvalid_1's l1: 49.8438\n",
      "[300]\tvalid_0's l1: 39.6592\tvalid_1's l1: 43.1789\n",
      "[400]\tvalid_0's l1: 34.2566\tvalid_1's l1: 40.5465\n",
      "[500]\tvalid_0's l1: 31.2142\tvalid_1's l1: 39.3521\n",
      "[600]\tvalid_0's l1: 28.611\tvalid_1's l1: 38.2192\n",
      "[700]\tvalid_0's l1: 27.1377\tvalid_1's l1: 37.7855\n"
     ]
    },
    {
     "name": "stderr",
     "output_type": "stream",
     "text": [
      "num_leaves, val_score: 37.364427: 100%|##########| 20/20 [00:38<00:00,  1.85s/it]\u001b[32m[I 2022-12-02 14:04:43,106]\u001b[0m Trial 26 finished with value: 37.69022258065032 and parameters: {'num_leaves': 34}. Best is trial 20 with value: 37.36442680498564.\u001b[0m\n",
      "num_leaves, val_score: 37.364427: 100%|##########| 20/20 [00:38<00:00,  1.90s/it]\n"
     ]
    },
    {
     "name": "stdout",
     "output_type": "stream",
     "text": [
      "Early stopping, best iteration is:\n",
      "[743]\tvalid_0's l1: 26.7306\tvalid_1's l1: 37.6902\n"
     ]
    },
    {
     "name": "stderr",
     "output_type": "stream",
     "text": [
      "bagging, val_score: 37.364427:   0%|          | 0/10 [00:00<?, ?it/s]"
     ]
    },
    {
     "name": "stdout",
     "output_type": "stream",
     "text": [
      "Training until validation scores don't improve for 20 rounds\n",
      "[100]\tvalid_0's l1: 73.3789\tvalid_1's l1: 66.4075\n",
      "[200]\tvalid_0's l1: 50.057\tvalid_1's l1: 49.7256\n",
      "[300]\tvalid_0's l1: 38.3503\tvalid_1's l1: 42.6527\n",
      "[400]\tvalid_0's l1: 31.7678\tvalid_1's l1: 39.5056\n",
      "[500]\tvalid_0's l1: 28.6967\tvalid_1's l1: 38.5393\n"
     ]
    },
    {
     "name": "stderr",
     "output_type": "stream",
     "text": [
      "bagging, val_score: 37.364427:  10%|#         | 1/10 [00:01<00:09,  1.10s/it]\u001b[32m[I 2022-12-02 14:04:44,220]\u001b[0m Trial 27 finished with value: 38.19251245513494 and parameters: {'bagging_fraction': 0.7017075297888551, 'bagging_freq': 7}. Best is trial 27 with value: 38.19251245513494.\u001b[0m\n",
      "bagging, val_score: 37.364427:  10%|#         | 1/10 [00:01<00:09,  1.10s/it]"
     ]
    },
    {
     "name": "stdout",
     "output_type": "stream",
     "text": [
      "Early stopping, best iteration is:\n",
      "[552]\tvalid_0's l1: 27.8929\tvalid_1's l1: 38.1925\n",
      "Training until validation scores don't improve for 20 rounds\n",
      "[100]\tvalid_0's l1: 73.7231\tvalid_1's l1: 66.6369\n",
      "[200]\tvalid_0's l1: 50.0743\tvalid_1's l1: 49.7117\n",
      "[300]\tvalid_0's l1: 38.4294\tvalid_1's l1: 42.5606\n",
      "[400]\tvalid_0's l1: 32.2818\tvalid_1's l1: 39.705\n",
      "[500]\tvalid_0's l1: 29.2785\tvalid_1's l1: 38.4012\n",
      "[600]\tvalid_0's l1: 27.2676\tvalid_1's l1: 37.8436\n",
      "Early stopping, best iteration is:\n",
      "[636]\tvalid_0's l1: 26.677\tvalid_1's l1: 37.673\n"
     ]
    },
    {
     "name": "stderr",
     "output_type": "stream",
     "text": [
      "bagging, val_score: 37.364427:  20%|##        | 2/10 [00:02<00:12,  1.52s/it]\u001b[32m[I 2022-12-02 14:04:46,034]\u001b[0m Trial 28 finished with value: 37.67299206776965 and parameters: {'bagging_fraction': 0.7538733190761706, 'bagging_freq': 4}. Best is trial 28 with value: 37.67299206776965.\u001b[0m\n",
      "bagging, val_score: 37.364427:  20%|##        | 2/10 [00:02<00:12,  1.52s/it]"
     ]
    },
    {
     "name": "stdout",
     "output_type": "stream",
     "text": [
      "Training until validation scores don't improve for 20 rounds\n",
      "[100]\tvalid_0's l1: 73.6753\tvalid_1's l1: 66.1346\n",
      "[200]\tvalid_0's l1: 52.4246\tvalid_1's l1: 50.9374\n",
      "[300]\tvalid_0's l1: 40.3219\tvalid_1's l1: 43.4445\n",
      "[400]\tvalid_0's l1: 33.9802\tvalid_1's l1: 40.3532\n",
      "[500]\tvalid_0's l1: 30.4639\tvalid_1's l1: 38.6484\n",
      "[600]\tvalid_0's l1: 28.2795\tvalid_1's l1: 37.5515\n",
      "[700]\tvalid_0's l1: 27.2183\tvalid_1's l1: 37.1347\n",
      "Early stopping, best iteration is:\n",
      "[696]\tvalid_0's l1: 27.246\tvalid_1's l1: 37.092\n"
     ]
    },
    {
     "name": "stderr",
     "output_type": "stream",
     "text": [
      "bagging, val_score: 37.091980:  30%|###       | 3/10 [00:04<00:10,  1.47s/it]\u001b[32m[I 2022-12-02 14:04:47,450]\u001b[0m Trial 29 finished with value: 37.09198029533778 and parameters: {'bagging_fraction': 0.42687560411759956, 'bagging_freq': 6}. Best is trial 29 with value: 37.09198029533778.\u001b[0m\n",
      "bagging, val_score: 37.091980:  30%|###       | 3/10 [00:04<00:10,  1.47s/it]"
     ]
    },
    {
     "name": "stdout",
     "output_type": "stream",
     "text": [
      "Training until validation scores don't improve for 20 rounds\n",
      "[100]\tvalid_0's l1: 73.6557\tvalid_1's l1: 66.592\n",
      "[200]\tvalid_0's l1: 49.4233\tvalid_1's l1: 49.131\n",
      "[300]\tvalid_0's l1: 38.2108\tvalid_1's l1: 42.4867\n",
      "[400]\tvalid_0's l1: 32.7536\tvalid_1's l1: 39.9709\n",
      "[500]\tvalid_0's l1: 29.6442\tvalid_1's l1: 38.8606\n",
      "[600]\tvalid_0's l1: 27.297\tvalid_1's l1: 38.0744\n",
      "[700]\tvalid_0's l1: 26.1138\tvalid_1's l1: 37.7987\n",
      "Early stopping, best iteration is:\n",
      "[747]\tvalid_0's l1: 25.7639\tvalid_1's l1: 37.6984\n"
     ]
    },
    {
     "name": "stderr",
     "output_type": "stream",
     "text": [
      "bagging, val_score: 37.091980:  40%|####      | 4/10 [00:05<00:09,  1.50s/it]\u001b[32m[I 2022-12-02 14:04:49,004]\u001b[0m Trial 30 finished with value: 37.6984494746263 and parameters: {'bagging_fraction': 0.8860047114507246, 'bagging_freq': 4}. Best is trial 29 with value: 37.09198029533778.\u001b[0m\n",
      "bagging, val_score: 37.091980:  40%|####      | 4/10 [00:05<00:09,  1.50s/it]"
     ]
    },
    {
     "name": "stdout",
     "output_type": "stream",
     "text": [
      "Training until validation scores don't improve for 20 rounds\n",
      "[100]\tvalid_0's l1: 73.6895\tvalid_1's l1: 66.5702\n",
      "[200]\tvalid_0's l1: 50.4869\tvalid_1's l1: 49.8974\n",
      "[300]\tvalid_0's l1: 38.1212\tvalid_1's l1: 41.9991\n",
      "[400]\tvalid_0's l1: 31.4591\tvalid_1's l1: 38.9972\n",
      "[500]\tvalid_0's l1: 28.6556\tvalid_1's l1: 37.7987\n",
      "[600]\tvalid_0's l1: 26.8065\tvalid_1's l1: 37.2352\n",
      "[700]\tvalid_0's l1: 25.8721\tvalid_1's l1: 36.9594\n",
      "[800]\tvalid_0's l1: 25.2244\tvalid_1's l1: 36.8217\n",
      "Early stopping, best iteration is:\n",
      "[796]\tvalid_0's l1: 25.2556\tvalid_1's l1: 36.8045\n"
     ]
    },
    {
     "name": "stderr",
     "output_type": "stream",
     "text": [
      "bagging, val_score: 36.804472:  50%|#####     | 5/10 [00:08<00:08,  1.75s/it]\u001b[32m[I 2022-12-02 14:04:51,197]\u001b[0m Trial 31 finished with value: 36.80447230032501 and parameters: {'bagging_fraction': 0.7984526570255088, 'bagging_freq': 5}. Best is trial 31 with value: 36.80447230032501.\u001b[0m\n",
      "bagging, val_score: 36.804472:  50%|#####     | 5/10 [00:08<00:08,  1.75s/it]"
     ]
    },
    {
     "name": "stdout",
     "output_type": "stream",
     "text": [
      "Training until validation scores don't improve for 20 rounds\n",
      "[100]\tvalid_0's l1: 73.8756\tvalid_1's l1: 67.1781\n",
      "[200]\tvalid_0's l1: 49.944\tvalid_1's l1: 49.7849\n",
      "[300]\tvalid_0's l1: 38.7265\tvalid_1's l1: 42.5898\n",
      "[400]\tvalid_0's l1: 32.227\tvalid_1's l1: 39.5945\n",
      "[500]\tvalid_0's l1: 28.9569\tvalid_1's l1: 38.4743\n",
      "[600]\tvalid_0's l1: 27.1635\tvalid_1's l1: 37.9812\n",
      "[700]\tvalid_0's l1: 26.1666\tvalid_1's l1: 37.5932\n",
      "Early stopping, best iteration is:\n",
      "[681]\tvalid_0's l1: 26.3108\tvalid_1's l1: 37.5668\n"
     ]
    },
    {
     "name": "stderr",
     "output_type": "stream",
     "text": [
      "bagging, val_score: 36.804472:  60%|######    | 6/10 [00:09<00:06,  1.62s/it]\u001b[32m[I 2022-12-02 14:04:52,558]\u001b[0m Trial 32 finished with value: 37.566766887113005 and parameters: {'bagging_fraction': 0.6975919744220704, 'bagging_freq': 3}. Best is trial 31 with value: 36.80447230032501.\u001b[0m\n",
      "bagging, val_score: 36.804472:  60%|######    | 6/10 [00:09<00:06,  1.62s/it]"
     ]
    },
    {
     "name": "stdout",
     "output_type": "stream",
     "text": [
      "Training until validation scores don't improve for 20 rounds\n",
      "[100]\tvalid_0's l1: 73.6331\tvalid_1's l1: 66.7088\n",
      "[200]\tvalid_0's l1: 49.5071\tvalid_1's l1: 49.2591\n",
      "[300]\tvalid_0's l1: 37.625\tvalid_1's l1: 41.7427\n",
      "[400]\tvalid_0's l1: 31.5282\tvalid_1's l1: 39.1352\n",
      "[500]\tvalid_0's l1: 28.4384\tvalid_1's l1: 37.8926\n",
      "[600]\tvalid_0's l1: 26.8139\tvalid_1's l1: 37.5311\n",
      "[700]\tvalid_0's l1: 25.7861\tvalid_1's l1: 37.1942\n",
      "Early stopping, best iteration is:\n",
      "[741]\tvalid_0's l1: 25.5186\tvalid_1's l1: 37.0699\n"
     ]
    },
    {
     "name": "stderr",
     "output_type": "stream",
     "text": [
      "bagging, val_score: 36.804472:  70%|#######   | 7/10 [00:11<00:05,  1.90s/it]\u001b[32m[I 2022-12-02 14:04:55,030]\u001b[0m Trial 33 finished with value: 37.069945751202035 and parameters: {'bagging_fraction': 0.8204048542668194, 'bagging_freq': 3}. Best is trial 31 with value: 36.80447230032501.\u001b[0m\n",
      "bagging, val_score: 36.804472:  70%|#######   | 7/10 [00:11<00:05,  1.90s/it]"
     ]
    },
    {
     "name": "stdout",
     "output_type": "stream",
     "text": [
      "Training until validation scores don't improve for 20 rounds\n",
      "[100]\tvalid_0's l1: 73.7622\tvalid_1's l1: 66.774\n",
      "[200]\tvalid_0's l1: 49.7181\tvalid_1's l1: 49.436\n",
      "[300]\tvalid_0's l1: 38.1654\tvalid_1's l1: 42.0817\n",
      "[400]\tvalid_0's l1: 31.9556\tvalid_1's l1: 39.3928\n",
      "[500]\tvalid_0's l1: 29.1577\tvalid_1's l1: 38.1632\n",
      "[600]\tvalid_0's l1: 27.1708\tvalid_1's l1: 37.3826\n",
      "[700]\tvalid_0's l1: 26.098\tvalid_1's l1: 36.9945\n",
      "[800]\tvalid_0's l1: 25.4312\tvalid_1's l1: 36.841\n",
      "Early stopping, best iteration is:\n",
      "[818]\tvalid_0's l1: 25.3207\tvalid_1's l1: 36.7691\n"
     ]
    },
    {
     "name": "stderr",
     "output_type": "stream",
     "text": [
      "bagging, val_score: 36.769070:  80%|########  | 8/10 [00:14<00:04,  2.12s/it]\u001b[32m[I 2022-12-02 14:04:57,623]\u001b[0m Trial 34 finished with value: 36.769069583316536 and parameters: {'bagging_fraction': 0.6717229682667449, 'bagging_freq': 2}. Best is trial 34 with value: 36.769069583316536.\u001b[0m\n",
      "bagging, val_score: 36.769070:  80%|########  | 8/10 [00:14<00:04,  2.12s/it]"
     ]
    },
    {
     "name": "stdout",
     "output_type": "stream",
     "text": [
      "Training until validation scores don't improve for 20 rounds\n",
      "[100]\tvalid_0's l1: 73.4411\tvalid_1's l1: 66.2527\n",
      "[200]\tvalid_0's l1: 52.0998\tvalid_1's l1: 50.3616\n",
      "[300]\tvalid_0's l1: 39.8609\tvalid_1's l1: 42.906\n",
      "[400]\tvalid_0's l1: 33.1926\tvalid_1's l1: 39.6358\n",
      "[500]\tvalid_0's l1: 30.0657\tvalid_1's l1: 38.4231\n",
      "[600]\tvalid_0's l1: 28.0164\tvalid_1's l1: 37.6274\n",
      "[700]\tvalid_0's l1: 26.9217\tvalid_1's l1: 37.1232\n",
      "Early stopping, best iteration is:\n",
      "[712]\tvalid_0's l1: 26.8366\tvalid_1's l1: 37.062\n"
     ]
    },
    {
     "name": "stderr",
     "output_type": "stream",
     "text": [
      "bagging, val_score: 36.769070:  90%|######### | 9/10 [00:15<00:01,  1.86s/it]\u001b[32m[I 2022-12-02 14:04:58,925]\u001b[0m Trial 35 finished with value: 37.06201993793912 and parameters: {'bagging_fraction': 0.44487246298461, 'bagging_freq': 7}. Best is trial 34 with value: 36.769069583316536.\u001b[0m\n",
      "bagging, val_score: 36.769070:  90%|######### | 9/10 [00:15<00:01,  1.86s/it]"
     ]
    },
    {
     "name": "stdout",
     "output_type": "stream",
     "text": [
      "Training until validation scores don't improve for 20 rounds\n",
      "[100]\tvalid_0's l1: 73.2803\tvalid_1's l1: 65.8105\n",
      "[200]\tvalid_0's l1: 51.3733\tvalid_1's l1: 50.5882\n",
      "[300]\tvalid_0's l1: 40.3957\tvalid_1's l1: 43.5721\n",
      "[400]\tvalid_0's l1: 33.212\tvalid_1's l1: 39.7088\n",
      "[500]\tvalid_0's l1: 29.9461\tvalid_1's l1: 38.2917\n",
      "[600]\tvalid_0's l1: 28.2828\tvalid_1's l1: 37.9013\n",
      "[700]\tvalid_0's l1: 27.2212\tvalid_1's l1: 37.4787\n",
      "[800]\tvalid_0's l1: 26.4735\tvalid_1's l1: 37.1197\n",
      "Early stopping, best iteration is:\n",
      "[834]\tvalid_0's l1: 26.2515\tvalid_1's l1: 37.0116\n"
     ]
    },
    {
     "name": "stderr",
     "output_type": "stream",
     "text": [
      "bagging, val_score: 36.769070: 100%|##########| 10/10 [00:17<00:00,  1.75s/it]\u001b[32m[I 2022-12-02 14:05:00,418]\u001b[0m Trial 36 finished with value: 37.011606560093746 and parameters: {'bagging_fraction': 0.42565561200834084, 'bagging_freq': 3}. Best is trial 34 with value: 36.769069583316536.\u001b[0m\n",
      "bagging, val_score: 36.769070: 100%|##########| 10/10 [00:17<00:00,  1.73s/it]\n",
      "feature_fraction_stage2, val_score: 36.769070:   0%|          | 0/6 [00:00<?, ?it/s]"
     ]
    },
    {
     "name": "stdout",
     "output_type": "stream",
     "text": [
      "Training until validation scores don't improve for 20 rounds\n",
      "[100]\tvalid_0's l1: 73.7622\tvalid_1's l1: 66.774\n",
      "[200]\tvalid_0's l1: 49.7181\tvalid_1's l1: 49.436\n",
      "[300]\tvalid_0's l1: 38.1654\tvalid_1's l1: 42.0817\n",
      "[400]\tvalid_0's l1: 31.9556\tvalid_1's l1: 39.3928\n",
      "[500]\tvalid_0's l1: 29.1577\tvalid_1's l1: 38.1632\n",
      "[600]\tvalid_0's l1: 27.1708\tvalid_1's l1: 37.3826\n",
      "[700]\tvalid_0's l1: 26.098\tvalid_1's l1: 36.9945\n",
      "[800]\tvalid_0's l1: 25.4312\tvalid_1's l1: 36.841\n",
      "Early stopping, best iteration is:\n",
      "[818]\tvalid_0's l1: 25.3207\tvalid_1's l1: 36.7691\n"
     ]
    },
    {
     "name": "stderr",
     "output_type": "stream",
     "text": [
      "feature_fraction_stage2, val_score: 36.769070:  17%|#6        | 1/6 [00:01<00:08,  1.65s/it]\u001b[32m[I 2022-12-02 14:05:02,089]\u001b[0m Trial 37 finished with value: 36.769069583316536 and parameters: {'feature_fraction': 0.484}. Best is trial 37 with value: 36.769069583316536.\u001b[0m\n",
      "feature_fraction_stage2, val_score: 36.769070:  17%|#6        | 1/6 [00:01<00:08,  1.65s/it]"
     ]
    },
    {
     "name": "stdout",
     "output_type": "stream",
     "text": [
      "Training until validation scores don't improve for 20 rounds\n",
      "[100]\tvalid_0's l1: 78.4724\tvalid_1's l1: 67.9758\n",
      "[200]\tvalid_0's l1: 54.7975\tvalid_1's l1: 50.3407\n",
      "[300]\tvalid_0's l1: 40.1983\tvalid_1's l1: 41.9687\n",
      "[400]\tvalid_0's l1: 33.7419\tvalid_1's l1: 39.4836\n",
      "[500]\tvalid_0's l1: 30.0269\tvalid_1's l1: 38.4378\n",
      "[600]\tvalid_0's l1: 27.7372\tvalid_1's l1: 37.8753\n",
      "Early stopping, best iteration is:\n",
      "[673]\tvalid_0's l1: 26.7178\tvalid_1's l1: 37.6948\n"
     ]
    },
    {
     "name": "stderr",
     "output_type": "stream",
     "text": [
      "feature_fraction_stage2, val_score: 36.769070:  33%|###3      | 2/6 [00:03<00:06,  1.64s/it]\u001b[32m[I 2022-12-02 14:05:03,721]\u001b[0m Trial 38 finished with value: 37.694796058335996 and parameters: {'feature_fraction': 0.58}. Best is trial 37 with value: 36.769069583316536.\u001b[0m\n",
      "feature_fraction_stage2, val_score: 36.769070:  33%|###3      | 2/6 [00:03<00:06,  1.64s/it]"
     ]
    },
    {
     "name": "stdout",
     "output_type": "stream",
     "text": [
      "Training until validation scores don't improve for 20 rounds\n",
      "[100]\tvalid_0's l1: 73.7622\tvalid_1's l1: 66.774\n",
      "[200]\tvalid_0's l1: 49.7181\tvalid_1's l1: 49.436\n",
      "[300]\tvalid_0's l1: 38.1654\tvalid_1's l1: 42.0817\n",
      "[400]\tvalid_0's l1: 31.9556\tvalid_1's l1: 39.3928\n",
      "[500]\tvalid_0's l1: 29.1577\tvalid_1's l1: 38.1632\n",
      "[600]\tvalid_0's l1: 27.1708\tvalid_1's l1: 37.3826\n",
      "[700]\tvalid_0's l1: 26.098\tvalid_1's l1: 36.9945\n",
      "[800]\tvalid_0's l1: 25.4312\tvalid_1's l1: 36.841\n",
      "Early stopping, best iteration is:\n",
      "[818]\tvalid_0's l1: 25.3207\tvalid_1's l1: 36.7691\n"
     ]
    },
    {
     "name": "stderr",
     "output_type": "stream",
     "text": [
      "feature_fraction_stage2, val_score: 36.769070:  50%|#####     | 3/6 [00:05<00:05,  1.76s/it]\u001b[32m[I 2022-12-02 14:05:05,613]\u001b[0m Trial 39 finished with value: 36.769069583316536 and parameters: {'feature_fraction': 0.5479999999999999}. Best is trial 37 with value: 36.769069583316536.\u001b[0m\n",
      "feature_fraction_stage2, val_score: 36.769070:  50%|#####     | 3/6 [00:05<00:05,  1.76s/it]"
     ]
    },
    {
     "name": "stdout",
     "output_type": "stream",
     "text": [
      "Training until validation scores don't improve for 20 rounds\n",
      "[100]\tvalid_0's l1: 89.6233\tvalid_1's l1: 73.6115\n",
      "[200]\tvalid_0's l1: 73.3911\tvalid_1's l1: 59.9895\n",
      "[300]\tvalid_0's l1: 61.2977\tvalid_1's l1: 52.026\n",
      "[400]\tvalid_0's l1: 53.8732\tvalid_1's l1: 48.3994\n",
      "[500]\tvalid_0's l1: 48.1847\tvalid_1's l1: 46.0487\n",
      "[600]\tvalid_0's l1: 42.7824\tvalid_1's l1: 43.5103\n",
      "[700]\tvalid_0's l1: 39.85\tvalid_1's l1: 42.0998\n",
      "[800]\tvalid_0's l1: 36.5138\tvalid_1's l1: 40.5596\n",
      "Early stopping, best iteration is:\n",
      "[820]\tvalid_0's l1: 35.9139\tvalid_1's l1: 40.3693\n"
     ]
    },
    {
     "name": "stderr",
     "output_type": "stream",
     "text": [
      "feature_fraction_stage2, val_score: 36.769070:  67%|######6   | 4/6 [00:06<00:03,  1.60s/it]\u001b[32m[I 2022-12-02 14:05:06,976]\u001b[0m Trial 40 finished with value: 40.36933838854633 and parameters: {'feature_fraction': 0.42}. Best is trial 37 with value: 36.769069583316536.\u001b[0m\n",
      "feature_fraction_stage2, val_score: 36.769070:  67%|######6   | 4/6 [00:06<00:03,  1.60s/it]"
     ]
    },
    {
     "name": "stdout",
     "output_type": "stream",
     "text": [
      "Training until validation scores don't improve for 20 rounds\n",
      "[100]\tvalid_0's l1: 73.7622\tvalid_1's l1: 66.774\n",
      "[200]\tvalid_0's l1: 49.7181\tvalid_1's l1: 49.436\n",
      "[300]\tvalid_0's l1: 38.1654\tvalid_1's l1: 42.0817\n",
      "[400]\tvalid_0's l1: 31.9556\tvalid_1's l1: 39.3928\n",
      "[500]\tvalid_0's l1: 29.1577\tvalid_1's l1: 38.1632\n",
      "[600]\tvalid_0's l1: 27.1708\tvalid_1's l1: 37.3826\n",
      "[700]\tvalid_0's l1: 26.098\tvalid_1's l1: 36.9945\n",
      "[800]\tvalid_0's l1: 25.4312\tvalid_1's l1: 36.841\n",
      "Early stopping, best iteration is:\n",
      "[818]\tvalid_0's l1: 25.3207\tvalid_1's l1: 36.7691\n"
     ]
    },
    {
     "name": "stderr",
     "output_type": "stream",
     "text": [
      "feature_fraction_stage2, val_score: 36.769070:  83%|########3 | 5/6 [00:09<00:01,  1.94s/it]\u001b[32m[I 2022-12-02 14:05:09,513]\u001b[0m Trial 41 finished with value: 36.769069583316536 and parameters: {'feature_fraction': 0.516}. Best is trial 37 with value: 36.769069583316536.\u001b[0m\n",
      "feature_fraction_stage2, val_score: 36.769070:  83%|########3 | 5/6 [00:09<00:01,  1.94s/it]"
     ]
    },
    {
     "name": "stdout",
     "output_type": "stream",
     "text": [
      "Training until validation scores don't improve for 20 rounds\n",
      "[100]\tvalid_0's l1: 73.7622\tvalid_1's l1: 66.774\n",
      "[200]\tvalid_0's l1: 49.7181\tvalid_1's l1: 49.436\n",
      "[300]\tvalid_0's l1: 38.1654\tvalid_1's l1: 42.0817\n",
      "[400]\tvalid_0's l1: 31.9556\tvalid_1's l1: 39.3928\n",
      "[500]\tvalid_0's l1: 29.1577\tvalid_1's l1: 38.1632\n",
      "[600]\tvalid_0's l1: 27.1708\tvalid_1's l1: 37.3826\n",
      "[700]\tvalid_0's l1: 26.098\tvalid_1's l1: 36.9945\n",
      "[800]\tvalid_0's l1: 25.4312\tvalid_1's l1: 36.841\n",
      "Early stopping, best iteration is:\n",
      "[818]\tvalid_0's l1: 25.3207\tvalid_1's l1: 36.7691\n"
     ]
    },
    {
     "name": "stderr",
     "output_type": "stream",
     "text": [
      "feature_fraction_stage2, val_score: 36.769070: 100%|##########| 6/6 [00:11<00:00,  2.12s/it]\u001b[32m[I 2022-12-02 14:05:11,992]\u001b[0m Trial 42 finished with value: 36.769069583316536 and parameters: {'feature_fraction': 0.45199999999999996}. Best is trial 37 with value: 36.769069583316536.\u001b[0m\n",
      "feature_fraction_stage2, val_score: 36.769070: 100%|##########| 6/6 [00:11<00:00,  1.93s/it]\n",
      "regularization_factors, val_score: 36.769070:   0%|          | 0/20 [00:00<?, ?it/s]"
     ]
    },
    {
     "name": "stdout",
     "output_type": "stream",
     "text": [
      "Training until validation scores don't improve for 20 rounds\n",
      "[100]\tvalid_0's l1: 66.6708\tvalid_1's l1: 60.5613\n",
      "[200]\tvalid_0's l1: 43.5888\tvalid_1's l1: 44.3554\n",
      "[300]\tvalid_0's l1: 33.708\tvalid_1's l1: 38.7651\n",
      "[400]\tvalid_0's l1: 28.8368\tvalid_1's l1: 37.3647\n",
      "[500]\tvalid_0's l1: 26.83\tvalid_1's l1: 36.8889\n"
     ]
    },
    {
     "name": "stderr",
     "output_type": "stream",
     "text": [
      "regularization_factors, val_score: 36.558595:   5%|5         | 1/20 [00:01<00:27,  1.44s/it]\u001b[32m[I 2022-12-02 14:05:13,445]\u001b[0m Trial 43 finished with value: 36.55859466016817 and parameters: {'lambda_l1': 0.04475769927556453, 'lambda_l2': 0.021161187770439478}. Best is trial 43 with value: 36.55859466016817.\u001b[0m\n",
      "regularization_factors, val_score: 36.558595:   5%|5         | 1/20 [00:01<00:27,  1.44s/it]"
     ]
    },
    {
     "name": "stdout",
     "output_type": "stream",
     "text": [
      "Early stopping, best iteration is:\n",
      "[561]\tvalid_0's l1: 26.0832\tvalid_1's l1: 36.5586\n",
      "Training until validation scores don't improve for 20 rounds\n",
      "[100]\tvalid_0's l1: 64.6072\tvalid_1's l1: 58.9785\n",
      "[200]\tvalid_0's l1: 41.6324\tvalid_1's l1: 43.2063\n",
      "[300]\tvalid_0's l1: 32.2262\tvalid_1's l1: 38.2338\n",
      "[400]\tvalid_0's l1: 28.0353\tvalid_1's l1: 37.0693\n",
      "[500]\tvalid_0's l1: 26.3465\tvalid_1's l1: 36.5834\n"
     ]
    },
    {
     "name": "stderr",
     "output_type": "stream",
     "text": [
      "regularization_factors, val_score: 36.251410:  10%|#         | 2/20 [00:03<00:28,  1.59s/it]\u001b[32m[I 2022-12-02 14:05:15,145]\u001b[0m Trial 44 finished with value: 36.251409592744444 and parameters: {'lambda_l1': 5.826663119018263e-05, 'lambda_l2': 2.869339023381981e-05}. Best is trial 44 with value: 36.251409592744444.\u001b[0m\n",
      "regularization_factors, val_score: 36.251410:  10%|#         | 2/20 [00:03<00:28,  1.59s/it]"
     ]
    },
    {
     "name": "stdout",
     "output_type": "stream",
     "text": [
      "Early stopping, best iteration is:\n",
      "[577]\tvalid_0's l1: 25.6033\tvalid_1's l1: 36.2514\n",
      "Training until validation scores don't improve for 20 rounds\n",
      "[100]\tvalid_0's l1: 64.6005\tvalid_1's l1: 58.9891\n",
      "[200]\tvalid_0's l1: 41.533\tvalid_1's l1: 43.1277\n",
      "[300]\tvalid_0's l1: 32.2159\tvalid_1's l1: 38.0887\n",
      "[400]\tvalid_0's l1: 27.9761\tvalid_1's l1: 36.9277\n",
      "[500]\tvalid_0's l1: 26.3283\tvalid_1's l1: 36.5815\n"
     ]
    },
    {
     "name": "stderr",
     "output_type": "stream",
     "text": [
      "regularization_factors, val_score: 36.251410:  15%|#5        | 3/20 [00:04<00:26,  1.56s/it]\u001b[32m[I 2022-12-02 14:05:16,677]\u001b[0m Trial 45 finished with value: 36.30298887227236 and parameters: {'lambda_l1': 2.2389883203839173e-08, 'lambda_l2': 6.0203473311970346e-05}. Best is trial 44 with value: 36.251409592744444.\u001b[0m\n",
      "regularization_factors, val_score: 36.251410:  15%|#5        | 3/20 [00:04<00:26,  1.56s/it]"
     ]
    },
    {
     "name": "stdout",
     "output_type": "stream",
     "text": [
      "Early stopping, best iteration is:\n",
      "[577]\tvalid_0's l1: 25.5908\tvalid_1's l1: 36.303\n",
      "Training until validation scores don't improve for 20 rounds\n",
      "[100]\tvalid_0's l1: 64.6005\tvalid_1's l1: 58.9891\n",
      "[200]\tvalid_0's l1: 41.533\tvalid_1's l1: 43.1277\n",
      "[300]\tvalid_0's l1: 32.2159\tvalid_1's l1: 38.0887\n",
      "[400]\tvalid_0's l1: 27.9761\tvalid_1's l1: 36.9277\n",
      "[500]\tvalid_0's l1: 26.3283\tvalid_1's l1: 36.5815\n",
      "Early stopping, best iteration is:\n",
      "[577]\tvalid_0's l1: 25.5908\tvalid_1's l1: 36.303\n"
     ]
    },
    {
     "name": "stderr",
     "output_type": "stream",
     "text": [
      "regularization_factors, val_score: 36.251410:  20%|##        | 4/20 [00:06<00:24,  1.52s/it]\u001b[32m[I 2022-12-02 14:05:18,128]\u001b[0m Trial 46 finished with value: 36.30298887227236 and parameters: {'lambda_l1': 7.761038194443987e-06, 'lambda_l2': 1.3665945728419441e-05}. Best is trial 44 with value: 36.251409592744444.\u001b[0m\n",
      "regularization_factors, val_score: 36.251410:  20%|##        | 4/20 [00:06<00:24,  1.52s/it]"
     ]
    },
    {
     "name": "stdout",
     "output_type": "stream",
     "text": [
      "Training until validation scores don't improve for 20 rounds\n",
      "[100]\tvalid_0's l1: 67.8014\tvalid_1's l1: 61.4435\n",
      "[200]\tvalid_0's l1: 44.3098\tvalid_1's l1: 44.9132\n",
      "[300]\tvalid_0's l1: 33.8221\tvalid_1's l1: 38.8209\n",
      "[400]\tvalid_0's l1: 28.8411\tvalid_1's l1: 37.4345\n",
      "[500]\tvalid_0's l1: 26.7974\tvalid_1's l1: 37.0328\n",
      "[600]\tvalid_0's l1: 25.6782\tvalid_1's l1: 36.6358\n",
      "Early stopping, best iteration is:\n",
      "[612]\tvalid_0's l1: 25.5747\tvalid_1's l1: 36.586\n"
     ]
    },
    {
     "name": "stderr",
     "output_type": "stream",
     "text": [
      "regularization_factors, val_score: 36.251410:  25%|##5       | 5/20 [00:07<00:22,  1.50s/it]\u001b[32m[I 2022-12-02 14:05:19,595]\u001b[0m Trial 47 finished with value: 36.58596000212633 and parameters: {'lambda_l1': 8.331315945249144e-08, 'lambda_l2': 0.514091892726429}. Best is trial 44 with value: 36.251409592744444.\u001b[0m\n",
      "regularization_factors, val_score: 36.251410:  25%|##5       | 5/20 [00:07<00:22,  1.50s/it]"
     ]
    },
    {
     "name": "stdout",
     "output_type": "stream",
     "text": [
      "Training until validation scores don't improve for 20 rounds\n",
      "[100]\tvalid_0's l1: 64.6249\tvalid_1's l1: 59.0703\n",
      "[200]\tvalid_0's l1: 41.8394\tvalid_1's l1: 43.3668\n",
      "[300]\tvalid_0's l1: 32.4384\tvalid_1's l1: 38.2887\n",
      "[400]\tvalid_0's l1: 28.137\tvalid_1's l1: 37.1474\n",
      "[500]\tvalid_0's l1: 26.4663\tvalid_1's l1: 36.7973\n",
      "Early stopping, best iteration is:\n",
      "[576]\tvalid_0's l1: 25.6857\tvalid_1's l1: 36.4485\n"
     ]
    },
    {
     "name": "stderr",
     "output_type": "stream",
     "text": [
      "regularization_factors, val_score: 36.251410:  30%|###       | 6/20 [00:09<00:22,  1.63s/it]\u001b[32m[I 2022-12-02 14:05:21,465]\u001b[0m Trial 48 finished with value: 36.44849736351687 and parameters: {'lambda_l1': 0.0008328771747403323, 'lambda_l2': 6.97577941847838e-08}. Best is trial 44 with value: 36.251409592744444.\u001b[0m\n",
      "regularization_factors, val_score: 36.251410:  30%|###       | 6/20 [00:09<00:22,  1.63s/it]"
     ]
    },
    {
     "name": "stdout",
     "output_type": "stream",
     "text": [
      "Training until validation scores don't improve for 20 rounds\n",
      "[100]\tvalid_0's l1: 64.6247\tvalid_1's l1: 59.0703\n",
      "[200]\tvalid_0's l1: 41.8492\tvalid_1's l1: 43.3706\n",
      "[300]\tvalid_0's l1: 32.4632\tvalid_1's l1: 38.2572\n",
      "[400]\tvalid_0's l1: 28.117\tvalid_1's l1: 37.1575\n",
      "[500]\tvalid_0's l1: 26.3998\tvalid_1's l1: 36.781\n"
     ]
    },
    {
     "name": "stderr",
     "output_type": "stream",
     "text": [
      "regularization_factors, val_score: 36.251410:  35%|###5      | 7/20 [00:11<00:21,  1.68s/it]\u001b[32m[I 2022-12-02 14:05:23,256]\u001b[0m Trial 49 finished with value: 36.501987130438124 and parameters: {'lambda_l1': 0.000794693983951186, 'lambda_l2': 0.00014244186334592618}. Best is trial 44 with value: 36.251409592744444.\u001b[0m\n",
      "regularization_factors, val_score: 36.251410:  35%|###5      | 7/20 [00:11<00:21,  1.68s/it]"
     ]
    },
    {
     "name": "stdout",
     "output_type": "stream",
     "text": [
      "[600]\tvalid_0's l1: 25.4679\tvalid_1's l1: 36.5187\n",
      "Early stopping, best iteration is:\n",
      "[581]\tvalid_0's l1: 25.6067\tvalid_1's l1: 36.502\n",
      "Training until validation scores don't improve for 20 rounds\n",
      "[100]\tvalid_0's l1: 66.3655\tvalid_1's l1: 60.4087\n",
      "[200]\tvalid_0's l1: 43.2358\tvalid_1's l1: 44.1478\n",
      "[300]\tvalid_0's l1: 33.2437\tvalid_1's l1: 38.6632\n",
      "[400]\tvalid_0's l1: 28.5551\tvalid_1's l1: 37.2572\n",
      "[500]\tvalid_0's l1: 26.6541\tvalid_1's l1: 36.8575\n",
      "Early stopping, best iteration is:\n",
      "[576]\tvalid_0's l1: 25.8201\tvalid_1's l1: 36.514\n"
     ]
    },
    {
     "name": "stderr",
     "output_type": "stream",
     "text": [
      "regularization_factors, val_score: 36.251410:  40%|####      | 8/20 [00:13<00:22,  1.85s/it]\u001b[32m[I 2022-12-02 14:05:25,476]\u001b[0m Trial 50 finished with value: 36.51396282063008 and parameters: {'lambda_l1': 1.0365962140298136e-06, 'lambda_l2': 0.14720397206549748}. Best is trial 44 with value: 36.251409592744444.\u001b[0m\n",
      "regularization_factors, val_score: 36.251410:  40%|####      | 8/20 [00:13<00:22,  1.85s/it]"
     ]
    },
    {
     "name": "stdout",
     "output_type": "stream",
     "text": [
      "Training until validation scores don't improve for 20 rounds\n",
      "[100]\tvalid_0's l1: 68.3836\tvalid_1's l1: 62.0753\n",
      "[200]\tvalid_0's l1: 45.0896\tvalid_1's l1: 45.3914\n",
      "[300]\tvalid_0's l1: 34.2755\tvalid_1's l1: 39.175\n",
      "[400]\tvalid_0's l1: 29.0542\tvalid_1's l1: 37.5859\n",
      "[500]\tvalid_0's l1: 26.917\tvalid_1's l1: 37.0698\n"
     ]
    },
    {
     "name": "stderr",
     "output_type": "stream",
     "text": [
      "regularization_factors, val_score: 36.251410:  45%|####5     | 9/20 [00:15<00:22,  2.06s/it]\u001b[32m[I 2022-12-02 14:05:27,984]\u001b[0m Trial 51 finished with value: 36.794611219891245 and parameters: {'lambda_l1': 0.0009104183145806109, 'lambda_l2': 0.6784232575975614}. Best is trial 44 with value: 36.251409592744444.\u001b[0m\n",
      "regularization_factors, val_score: 36.251410:  45%|####5     | 9/20 [00:15<00:22,  2.06s/it]"
     ]
    },
    {
     "name": "stdout",
     "output_type": "stream",
     "text": [
      "Early stopping, best iteration is:\n",
      "[577]\tvalid_0's l1: 25.9614\tvalid_1's l1: 36.7946\n",
      "Training until validation scores don't improve for 20 rounds\n",
      "[100]\tvalid_0's l1: 68.6104\tvalid_1's l1: 62.2271\n",
      "[200]\tvalid_0's l1: 46.0362\tvalid_1's l1: 45.9184\n",
      "[300]\tvalid_0's l1: 35.1028\tvalid_1's l1: 39.5889\n",
      "[400]\tvalid_0's l1: 29.6832\tvalid_1's l1: 37.9546\n",
      "[500]\tvalid_0's l1: 27.4762\tvalid_1's l1: 37.3192\n",
      "[600]\tvalid_0's l1: 26.2111\tvalid_1's l1: 36.7338\n",
      "Early stopping, best iteration is:\n",
      "[612]\tvalid_0's l1: 26.0962\tvalid_1's l1: 36.6654\n"
     ]
    },
    {
     "name": "stderr",
     "output_type": "stream",
     "text": [
      "regularization_factors, val_score: 36.251410:  50%|#####     | 10/20 [00:17<00:19,  1.91s/it]\u001b[32m[I 2022-12-02 14:05:29,550]\u001b[0m Trial 52 finished with value: 36.66537314484791 and parameters: {'lambda_l1': 0.22504745320333386, 'lambda_l2': 2.4699364264016034e-07}. Best is trial 44 with value: 36.251409592744444.\u001b[0m\n",
      "regularization_factors, val_score: 36.251410:  50%|#####     | 10/20 [00:17<00:19,  1.91s/it]"
     ]
    },
    {
     "name": "stdout",
     "output_type": "stream",
     "text": [
      "Training until validation scores don't improve for 20 rounds\n",
      "[100]\tvalid_0's l1: 64.9089\tvalid_1's l1: 59.2617\n",
      "[200]\tvalid_0's l1: 41.8481\tvalid_1's l1: 43.3894\n",
      "[300]\tvalid_0's l1: 32.405\tvalid_1's l1: 38.3183\n",
      "[400]\tvalid_0's l1: 28.0943\tvalid_1's l1: 37.0225\n",
      "[500]\tvalid_0's l1: 26.3856\tvalid_1's l1: 36.7125\n",
      "Early stopping, best iteration is:\n",
      "[577]\tvalid_0's l1: 25.6199\tvalid_1's l1: 36.3656\n"
     ]
    },
    {
     "name": "stderr",
     "output_type": "stream",
     "text": [
      "regularization_factors, val_score: 36.251410:  55%|#####5    | 11/20 [00:18<00:15,  1.72s/it]\u001b[32m[I 2022-12-02 14:05:30,856]\u001b[0m Trial 53 finished with value: 36.365629337838456 and parameters: {'lambda_l1': 1.8100426843447587e-05, 'lambda_l2': 0.004271069687144041}. Best is trial 44 with value: 36.251409592744444.\u001b[0m\n",
      "regularization_factors, val_score: 36.251410:  55%|#####5    | 11/20 [00:18<00:15,  1.72s/it]"
     ]
    },
    {
     "name": "stdout",
     "output_type": "stream",
     "text": [
      "Training until validation scores don't improve for 20 rounds\n",
      "[100]\tvalid_0's l1: 64.6008\tvalid_1's l1: 58.9896\n",
      "[200]\tvalid_0's l1: 41.5319\tvalid_1's l1: 43.1228\n",
      "[300]\tvalid_0's l1: 32.1583\tvalid_1's l1: 38.0563\n",
      "[400]\tvalid_0's l1: 27.9587\tvalid_1's l1: 36.921\n",
      "[500]\tvalid_0's l1: 26.3256\tvalid_1's l1: 36.5632\n"
     ]
    },
    {
     "name": "stderr",
     "output_type": "stream",
     "text": [
      "regularization_factors, val_score: 36.251410:  60%|######    | 12/20 [00:20<00:13,  1.68s/it]\u001b[32m[I 2022-12-02 14:05:32,431]\u001b[0m Trial 54 finished with value: 36.26555330364296 and parameters: {'lambda_l1': 1.4633498684311892e-08, 'lambda_l2': 5.573974323818579e-06}. Best is trial 44 with value: 36.251409592744444.\u001b[0m\n",
      "regularization_factors, val_score: 36.251410:  60%|######    | 12/20 [00:20<00:13,  1.68s/it]"
     ]
    },
    {
     "name": "stdout",
     "output_type": "stream",
     "text": [
      "Early stopping, best iteration is:\n",
      "[577]\tvalid_0's l1: 25.5817\tvalid_1's l1: 36.2656\n",
      "Training until validation scores don't improve for 20 rounds\n",
      "[100]\tvalid_0's l1: 75.4629\tvalid_1's l1: 67.3912\n",
      "[200]\tvalid_0's l1: 55.964\tvalid_1's l1: 54.0353\n",
      "[300]\tvalid_0's l1: 43.5014\tvalid_1's l1: 45.8675\n",
      "[400]\tvalid_0's l1: 37.7271\tvalid_1's l1: 42.8273\n",
      "[500]\tvalid_0's l1: 34.1861\tvalid_1's l1: 40.7413\n",
      "[600]\tvalid_0's l1: 31.5356\tvalid_1's l1: 39.0895\n",
      "[700]\tvalid_0's l1: 30.1058\tvalid_1's l1: 38.2721\n",
      "[800]\tvalid_0's l1: 29.156\tvalid_1's l1: 37.8718\n",
      "[900]\tvalid_0's l1: 28.2943\tvalid_1's l1: 37.4095\n",
      "Early stopping, best iteration is:\n",
      "[971]\tvalid_0's l1: 27.6753\tvalid_1's l1: 37.2163\n"
     ]
    },
    {
     "name": "stderr",
     "output_type": "stream",
     "text": [
      "regularization_factors, val_score: 36.251410:  65%|######5   | 13/20 [00:21<00:11,  1.64s/it]\u001b[32m[I 2022-12-02 14:05:34,001]\u001b[0m Trial 55 finished with value: 37.21628646413402 and parameters: {'lambda_l1': 8.016788455273394, 'lambda_l2': 2.985132611601065e-06}. Best is trial 44 with value: 36.251409592744444.\u001b[0m\n",
      "regularization_factors, val_score: 36.251410:  65%|######5   | 13/20 [00:22<00:11,  1.64s/it]"
     ]
    },
    {
     "name": "stdout",
     "output_type": "stream",
     "text": [
      "Training until validation scores don't improve for 20 rounds\n",
      "[100]\tvalid_0's l1: 64.6008\tvalid_1's l1: 58.9896\n",
      "[200]\tvalid_0's l1: 41.532\tvalid_1's l1: 43.1231\n",
      "[300]\tvalid_0's l1: 32.197\tvalid_1's l1: 38.1055\n",
      "[400]\tvalid_0's l1: 27.9687\tvalid_1's l1: 36.9665\n",
      "[500]\tvalid_0's l1: 26.3132\tvalid_1's l1: 36.6085\n",
      "Early stopping, best iteration is:\n",
      "[577]\tvalid_0's l1: 25.5745\tvalid_1's l1: 36.379\n"
     ]
    },
    {
     "name": "stderr",
     "output_type": "stream",
     "text": [
      "regularization_factors, val_score: 36.251410:  70%|#######   | 14/20 [00:23<00:09,  1.61s/it]\u001b[32m[I 2022-12-02 14:05:35,539]\u001b[0m Trial 56 finished with value: 36.37898869763018 and parameters: {'lambda_l1': 3.952678606406953e-07, 'lambda_l2': 1.0289913006460754e-08}. Best is trial 44 with value: 36.251409592744444.\u001b[0m\n",
      "regularization_factors, val_score: 36.251410:  70%|#######   | 14/20 [00:23<00:09,  1.61s/it]"
     ]
    },
    {
     "name": "stdout",
     "output_type": "stream",
     "text": [
      "Training until validation scores don't improve for 20 rounds\n",
      "[100]\tvalid_0's l1: 64.6938\tvalid_1's l1: 59.056\n",
      "[200]\tvalid_0's l1: 41.821\tvalid_1's l1: 43.3237\n",
      "[300]\tvalid_0's l1: 32.3447\tvalid_1's l1: 38.092\n",
      "[400]\tvalid_0's l1: 28.0721\tvalid_1's l1: 36.9068\n",
      "[500]\tvalid_0's l1: 26.3807\tvalid_1's l1: 36.4426\n",
      "Early stopping, best iteration is:\n",
      "[577]\tvalid_0's l1: 25.6276\tvalid_1's l1: 36.0486\n"
     ]
    },
    {
     "name": "stderr",
     "output_type": "stream",
     "text": [
      "regularization_factors, val_score: 36.048572:  75%|#######5  | 15/20 [00:24<00:07,  1.52s/it]\u001b[32m[I 2022-12-02 14:05:36,845]\u001b[0m Trial 57 finished with value: 36.048572334759136 and parameters: {'lambda_l1': 4.013598225380703e-05, 'lambda_l2': 0.0015365418884763496}. Best is trial 57 with value: 36.048572334759136.\u001b[0m\n",
      "regularization_factors, val_score: 36.048572:  75%|#######5  | 15/20 [00:24<00:07,  1.52s/it]"
     ]
    },
    {
     "name": "stdout",
     "output_type": "stream",
     "text": [
      "Training until validation scores don't improve for 20 rounds\n",
      "[100]\tvalid_0's l1: 64.6889\tvalid_1's l1: 59.0191\n",
      "[200]\tvalid_0's l1: 41.6507\tvalid_1's l1: 43.2149\n",
      "[300]\tvalid_0's l1: 32.2739\tvalid_1's l1: 38.216\n",
      "[400]\tvalid_0's l1: 27.9831\tvalid_1's l1: 37.0529\n",
      "[500]\tvalid_0's l1: 26.3257\tvalid_1's l1: 36.6335\n"
     ]
    },
    {
     "name": "stderr",
     "output_type": "stream",
     "text": [
      "regularization_factors, val_score: 36.048572:  80%|########  | 16/20 [00:26<00:05,  1.42s/it]\u001b[32m[I 2022-12-02 14:05:38,033]\u001b[0m Trial 58 finished with value: 36.5357578937681 and parameters: {'lambda_l1': 2.3709336164034658e-05, 'lambda_l2': 0.0012951999763160162}. Best is trial 57 with value: 36.048572334759136.\u001b[0m\n",
      "regularization_factors, val_score: 36.048572:  80%|########  | 16/20 [00:26<00:05,  1.42s/it]"
     ]
    },
    {
     "name": "stdout",
     "output_type": "stream",
     "text": [
      "Early stopping, best iteration is:\n",
      "[516]\tvalid_0's l1: 26.136\tvalid_1's l1: 36.5358\n",
      "Training until validation scores don't improve for 20 rounds\n",
      "[100]\tvalid_0's l1: 73.4306\tvalid_1's l1: 66.3641\n",
      "[200]\tvalid_0's l1: 49.6356\tvalid_1's l1: 49.4249\n",
      "[300]\tvalid_0's l1: 37.8824\tvalid_1's l1: 41.8933\n",
      "[400]\tvalid_0's l1: 31.2601\tvalid_1's l1: 38.9398\n",
      "[500]\tvalid_0's l1: 28.449\tvalid_1's l1: 37.9771\n",
      "[600]\tvalid_0's l1: 26.7385\tvalid_1's l1: 37.3188\n",
      "[700]\tvalid_0's l1: 25.8076\tvalid_1's l1: 36.9773\n",
      "Early stopping, best iteration is:\n",
      "[742]\tvalid_0's l1: 25.5311\tvalid_1's l1: 36.8808\n"
     ]
    },
    {
     "name": "stderr",
     "output_type": "stream",
     "text": [
      "regularization_factors, val_score: 36.048572:  85%|########5 | 17/20 [00:27<00:04,  1.45s/it]\u001b[32m[I 2022-12-02 14:05:39,564]\u001b[0m Trial 59 finished with value: 36.8807565195814 and parameters: {'lambda_l1': 9.544680532513594e-05, 'lambda_l2': 7.42492300949791}. Best is trial 57 with value: 36.048572334759136.\u001b[0m\n",
      "regularization_factors, val_score: 36.048572:  85%|########5 | 17/20 [00:27<00:04,  1.45s/it]"
     ]
    },
    {
     "name": "stdout",
     "output_type": "stream",
     "text": [
      "Training until validation scores don't improve for 20 rounds\n",
      "[100]\tvalid_0's l1: 66.5444\tvalid_1's l1: 60.4123\n",
      "[200]\tvalid_0's l1: 43.4099\tvalid_1's l1: 44.116\n",
      "[300]\tvalid_0's l1: 33.4986\tvalid_1's l1: 38.7835\n",
      "[400]\tvalid_0's l1: 28.6147\tvalid_1's l1: 37.3532\n",
      "[500]\tvalid_0's l1: 26.704\tvalid_1's l1: 36.9367\n",
      "[600]\tvalid_0's l1: 25.6481\tvalid_1's l1: 36.5452\n",
      "Early stopping, best iteration is:\n",
      "[612]\tvalid_0's l1: 25.5552\tvalid_1's l1: 36.5216\n"
     ]
    },
    {
     "name": "stderr",
     "output_type": "stream",
     "text": [
      "regularization_factors, val_score: 36.048572:  90%|######### | 18/20 [00:28<00:02,  1.44s/it]\u001b[32m[I 2022-12-02 14:05:40,972]\u001b[0m Trial 60 finished with value: 36.52155626558747 and parameters: {'lambda_l1': 0.02920858400005589, 'lambda_l2': 0.002579326474105078}. Best is trial 57 with value: 36.048572334759136.\u001b[0m\n",
      "regularization_factors, val_score: 36.048572:  90%|######### | 18/20 [00:28<00:02,  1.44s/it]"
     ]
    },
    {
     "name": "stdout",
     "output_type": "stream",
     "text": [
      "Training until validation scores don't improve for 20 rounds\n",
      "[100]\tvalid_0's l1: 64.5827\tvalid_1's l1: 58.9541\n",
      "[200]\tvalid_0's l1: 41.5435\tvalid_1's l1: 43.1322\n",
      "[300]\tvalid_0's l1: 32.2068\tvalid_1's l1: 38.13\n",
      "[400]\tvalid_0's l1: 27.966\tvalid_1's l1: 36.966\n",
      "[500]\tvalid_0's l1: 26.331\tvalid_1's l1: 36.5931\n"
     ]
    },
    {
     "name": "stderr",
     "output_type": "stream",
     "text": [
      "regularization_factors, val_score: 36.048572:  95%|#########5| 19/20 [00:30<00:01,  1.61s/it]\u001b[32m[I 2022-12-02 14:05:42,977]\u001b[0m Trial 61 finished with value: 36.302449618125685 and parameters: {'lambda_l1': 2.3441278993645806e-06, 'lambda_l2': 0.0003393756661929879}. Best is trial 57 with value: 36.048572334759136.\u001b[0m\n",
      "regularization_factors, val_score: 36.048572:  95%|#########5| 19/20 [00:30<00:01,  1.61s/it]"
     ]
    },
    {
     "name": "stdout",
     "output_type": "stream",
     "text": [
      "Early stopping, best iteration is:\n",
      "[576]\tvalid_0's l1: 25.5956\tvalid_1's l1: 36.3024\n",
      "Training until validation scores don't improve for 20 rounds\n",
      "[100]\tvalid_0's l1: 64.6714\tvalid_1's l1: 58.9982\n",
      "[200]\tvalid_0's l1: 41.6993\tvalid_1's l1: 43.2556\n",
      "[300]\tvalid_0's l1: 32.2984\tvalid_1's l1: 38.1933\n",
      "[400]\tvalid_0's l1: 28.043\tvalid_1's l1: 37.01\n",
      "Early stopping, best iteration is:\n",
      "[454]\tvalid_0's l1: 26.9446\tvalid_1's l1: 36.7428\n"
     ]
    },
    {
     "name": "stderr",
     "output_type": "stream",
     "text": [
      "regularization_factors, val_score: 36.048572: 100%|##########| 20/20 [00:32<00:00,  1.64s/it]\u001b[32m[I 2022-12-02 14:05:44,693]\u001b[0m Trial 62 finished with value: 36.742781828913316 and parameters: {'lambda_l1': 0.00014205077906262977, 'lambda_l2': 1.2962438321316583e-06}. Best is trial 57 with value: 36.048572334759136.\u001b[0m\n",
      "regularization_factors, val_score: 36.048572: 100%|##########| 20/20 [00:32<00:00,  1.63s/it]\n",
      "min_data_in_leaf, val_score: 36.048572:   0%|          | 0/5 [00:00<?, ?it/s]"
     ]
    },
    {
     "name": "stdout",
     "output_type": "stream",
     "text": [
      "Training until validation scores don't improve for 20 rounds\n",
      "[100]\tvalid_0's l1: 64.6938\tvalid_1's l1: 59.056\n",
      "[200]\tvalid_0's l1: 41.821\tvalid_1's l1: 43.3237\n",
      "[300]\tvalid_0's l1: 32.3447\tvalid_1's l1: 38.092\n",
      "[400]\tvalid_0's l1: 28.0721\tvalid_1's l1: 36.9068\n",
      "[500]\tvalid_0's l1: 26.3807\tvalid_1's l1: 36.4426\n",
      "Early stopping, best iteration is:\n",
      "[577]\tvalid_0's l1: 25.6276\tvalid_1's l1: 36.0486\n"
     ]
    },
    {
     "name": "stderr",
     "output_type": "stream",
     "text": [
      "min_data_in_leaf, val_score: 36.048572:  20%|##        | 1/5 [00:01<00:06,  1.67s/it]\u001b[32m[I 2022-12-02 14:05:46,382]\u001b[0m Trial 63 finished with value: 36.048572334759136 and parameters: {'min_child_samples': 10}. Best is trial 63 with value: 36.048572334759136.\u001b[0m\n",
      "min_data_in_leaf, val_score: 36.048572:  20%|##        | 1/5 [00:01<00:06,  1.67s/it]"
     ]
    },
    {
     "name": "stdout",
     "output_type": "stream",
     "text": [
      "Training until validation scores don't improve for 20 rounds\n",
      "[100]\tvalid_0's l1: 64.6938\tvalid_1's l1: 59.056\n",
      "[200]\tvalid_0's l1: 41.821\tvalid_1's l1: 43.3237\n",
      "[300]\tvalid_0's l1: 32.3447\tvalid_1's l1: 38.092\n",
      "[400]\tvalid_0's l1: 28.0721\tvalid_1's l1: 36.9068\n",
      "[500]\tvalid_0's l1: 26.3807\tvalid_1's l1: 36.4426\n",
      "Early stopping, best iteration is:\n",
      "[577]\tvalid_0's l1: 25.6276\tvalid_1's l1: 36.0486\n"
     ]
    },
    {
     "name": "stderr",
     "output_type": "stream",
     "text": [
      "min_data_in_leaf, val_score: 36.048572:  40%|####      | 2/5 [00:03<00:05,  1.81s/it]\u001b[32m[I 2022-12-02 14:05:48,295]\u001b[0m Trial 64 finished with value: 36.048572334759136 and parameters: {'min_child_samples': 5}. Best is trial 63 with value: 36.048572334759136.\u001b[0m\n",
      "min_data_in_leaf, val_score: 36.048572:  40%|####      | 2/5 [00:03<00:05,  1.81s/it]"
     ]
    },
    {
     "name": "stdout",
     "output_type": "stream",
     "text": [
      "Training until validation scores don't improve for 20 rounds\n",
      "[100]\tvalid_0's l1: 64.6938\tvalid_1's l1: 59.056\n",
      "[200]\tvalid_0's l1: 41.821\tvalid_1's l1: 43.3237\n",
      "[300]\tvalid_0's l1: 32.3447\tvalid_1's l1: 38.092\n",
      "[400]\tvalid_0's l1: 28.0721\tvalid_1's l1: 36.9068\n",
      "[500]\tvalid_0's l1: 26.3807\tvalid_1's l1: 36.4426\n",
      "Early stopping, best iteration is:\n",
      "[577]\tvalid_0's l1: 25.6276\tvalid_1's l1: 36.0486\n"
     ]
    },
    {
     "name": "stderr",
     "output_type": "stream",
     "text": [
      "min_data_in_leaf, val_score: 36.048572:  60%|######    | 3/5 [00:05<00:03,  1.65s/it]\u001b[32m[I 2022-12-02 14:05:49,742]\u001b[0m Trial 65 finished with value: 36.048572334759136 and parameters: {'min_child_samples': 100}. Best is trial 63 with value: 36.048572334759136.\u001b[0m\n",
      "min_data_in_leaf, val_score: 36.048572:  60%|######    | 3/5 [00:05<00:03,  1.65s/it]"
     ]
    },
    {
     "name": "stdout",
     "output_type": "stream",
     "text": [
      "Training until validation scores don't improve for 20 rounds\n",
      "[100]\tvalid_0's l1: 64.6938\tvalid_1's l1: 59.056\n",
      "[200]\tvalid_0's l1: 41.821\tvalid_1's l1: 43.3237\n",
      "[300]\tvalid_0's l1: 32.3447\tvalid_1's l1: 38.092\n",
      "[400]\tvalid_0's l1: 28.0721\tvalid_1's l1: 36.9068\n",
      "[500]\tvalid_0's l1: 26.3807\tvalid_1's l1: 36.4426\n",
      "Early stopping, best iteration is:\n",
      "[577]\tvalid_0's l1: 25.6276\tvalid_1's l1: 36.0486\n"
     ]
    },
    {
     "name": "stderr",
     "output_type": "stream",
     "text": [
      "min_data_in_leaf, val_score: 36.048572:  80%|########  | 4/5 [00:06<00:01,  1.57s/it]\u001b[32m[I 2022-12-02 14:05:51,200]\u001b[0m Trial 66 finished with value: 36.048572334759136 and parameters: {'min_child_samples': 25}. Best is trial 63 with value: 36.048572334759136.\u001b[0m\n",
      "min_data_in_leaf, val_score: 36.048572:  80%|########  | 4/5 [00:06<00:01,  1.57s/it]"
     ]
    },
    {
     "name": "stdout",
     "output_type": "stream",
     "text": [
      "Training until validation scores don't improve for 20 rounds\n",
      "[100]\tvalid_0's l1: 64.6938\tvalid_1's l1: 59.056\n",
      "[200]\tvalid_0's l1: 41.821\tvalid_1's l1: 43.3237\n",
      "[300]\tvalid_0's l1: 32.3447\tvalid_1's l1: 38.092\n",
      "[400]\tvalid_0's l1: 28.0721\tvalid_1's l1: 36.9068\n",
      "[500]\tvalid_0's l1: 26.3807\tvalid_1's l1: 36.4426\n",
      "Early stopping, best iteration is:\n",
      "[577]\tvalid_0's l1: 25.6276\tvalid_1's l1: 36.0486\n"
     ]
    },
    {
     "name": "stderr",
     "output_type": "stream",
     "text": [
      "min_data_in_leaf, val_score: 36.048572: 100%|##########| 5/5 [00:08<00:00,  1.63s/it]\u001b[32m[I 2022-12-02 14:05:52,930]\u001b[0m Trial 67 finished with value: 36.048572334759136 and parameters: {'min_child_samples': 50}. Best is trial 63 with value: 36.048572334759136.\u001b[0m\n",
      "min_data_in_leaf, val_score: 36.048572: 100%|##########| 5/5 [00:08<00:00,  1.64s/it]\n",
      "\u001b[32m[I 2022-12-02 14:05:53,018]\u001b[0m Trial 0 finished with value: 58.479701070828625 and parameters: {'num_leaves': 3394, 'feature_fraction': 0.5586069342743915, 'bagging_fraction': 0.9429590943252636, 'min_data_in_leaf': 17, 'lambda_l1': 0.21487324082301312, 'lambda_l2': 8.480695275793423}. Best is trial 0 with value: 58.479701070828625.\u001b[0m\n",
      "\u001b[32m[I 2022-12-02 14:05:53,023]\u001b[0m A new study created in memory with name: no-name-d4625c77-8215-4106-92f8-f2575528f1c3\u001b[0m\n",
      "feature_fraction, val_score: inf:   0%|          | 0/7 [00:00<?, ?it/s]"
     ]
    },
    {
     "name": "stdout",
     "output_type": "stream",
     "text": [
      "[LightGBM] [Warning] min_data_in_leaf is set=4, min_child_samples=20 will be ignored. Current value: min_data_in_leaf=4\n",
      "Training until validation scores don't improve for 20 rounds\n",
      "[100]\tvalid_0's l1: 67.1939\tvalid_1's l1: 64.8323\n",
      "[200]\tvalid_0's l1: 42.2116\tvalid_1's l1: 48.3731\n",
      "[300]\tvalid_0's l1: 30.8744\tvalid_1's l1: 43.2623\n",
      "[400]\tvalid_0's l1: 25.4121\tvalid_1's l1: 41.9155\n",
      "[500]\tvalid_0's l1: 22.892\tvalid_1's l1: 41.7349\n",
      "Early stopping, best iteration is:\n",
      "[480]\tvalid_0's l1: 23.2902\tvalid_1's l1: 41.7193\n"
     ]
    },
    {
     "name": "stderr",
     "output_type": "stream",
     "text": [
      "feature_fraction, val_score: 41.719303:  14%|#4        | 1/7 [00:06<00:40,  6.72s/it]\u001b[32m[I 2022-12-02 14:05:59,752]\u001b[0m Trial 0 finished with value: 41.71930342812265 and parameters: {'feature_fraction': 0.7}. Best is trial 0 with value: 41.71930342812265.\u001b[0m\n",
      "feature_fraction, val_score: 41.719303:  14%|#4        | 1/7 [00:06<00:40,  6.72s/it]"
     ]
    },
    {
     "name": "stdout",
     "output_type": "stream",
     "text": [
      "Training until validation scores don't improve for 20 rounds\n",
      "[100]\tvalid_0's l1: 62.1008\tvalid_1's l1: 63.1992\n",
      "[200]\tvalid_0's l1: 36.7596\tvalid_1's l1: 47.6243\n",
      "[300]\tvalid_0's l1: 26.3645\tvalid_1's l1: 42.91\n",
      "Early stopping, best iteration is:\n",
      "[363]\tvalid_0's l1: 23.3607\tvalid_1's l1: 42.2746\n"
     ]
    },
    {
     "name": "stderr",
     "output_type": "stream",
     "text": [
      "feature_fraction, val_score: 41.719303:  29%|##8       | 2/7 [00:12<00:29,  5.89s/it]\u001b[32m[I 2022-12-02 14:06:05,065]\u001b[0m Trial 1 finished with value: 42.27457970833568 and parameters: {'feature_fraction': 0.8999999999999999}. Best is trial 0 with value: 41.71930342812265.\u001b[0m\n",
      "feature_fraction, val_score: 41.719303:  29%|##8       | 2/7 [00:12<00:29,  5.89s/it]"
     ]
    },
    {
     "name": "stdout",
     "output_type": "stream",
     "text": [
      "Training until validation scores don't improve for 20 rounds\n",
      "[100]\tvalid_0's l1: 56.611\tvalid_1's l1: 61.4202\n",
      "[200]\tvalid_0's l1: 33.3998\tvalid_1's l1: 48.6948\n",
      "[300]\tvalid_0's l1: 23.9421\tvalid_1's l1: 44.1999\n",
      "[400]\tvalid_0's l1: 20.429\tvalid_1's l1: 42.7663\n",
      "Early stopping, best iteration is:\n",
      "[470]\tvalid_0's l1: 19.5125\tvalid_1's l1: 42.4495\n"
     ]
    },
    {
     "name": "stderr",
     "output_type": "stream",
     "text": [
      "feature_fraction, val_score: 41.719303:  43%|####2     | 3/7 [00:20<00:27,  6.91s/it]\u001b[32m[I 2022-12-02 14:06:13,194]\u001b[0m Trial 2 finished with value: 42.449497836658054 and parameters: {'feature_fraction': 1.0}. Best is trial 0 with value: 41.71930342812265.\u001b[0m\n",
      "feature_fraction, val_score: 41.719303:  43%|####2     | 3/7 [00:20<00:27,  6.91s/it]"
     ]
    },
    {
     "name": "stdout",
     "output_type": "stream",
     "text": [
      "Training until validation scores don't improve for 20 rounds\n",
      "[100]\tvalid_0's l1: 67.1939\tvalid_1's l1: 64.8323\n",
      "[200]\tvalid_0's l1: 42.2116\tvalid_1's l1: 48.3731\n",
      "[300]\tvalid_0's l1: 30.8744\tvalid_1's l1: 43.2623\n",
      "[400]\tvalid_0's l1: 25.4121\tvalid_1's l1: 41.9155\n",
      "[500]\tvalid_0's l1: 22.892\tvalid_1's l1: 41.7349\n",
      "Early stopping, best iteration is:\n",
      "[480]\tvalid_0's l1: 23.2902\tvalid_1's l1: 41.7193\n"
     ]
    },
    {
     "name": "stderr",
     "output_type": "stream",
     "text": [
      "feature_fraction, val_score: 41.719303:  57%|#####7    | 4/7 [00:26<00:19,  6.62s/it]\u001b[32m[I 2022-12-02 14:06:19,368]\u001b[0m Trial 3 finished with value: 41.71930342812265 and parameters: {'feature_fraction': 0.8}. Best is trial 0 with value: 41.71930342812265.\u001b[0m\n",
      "feature_fraction, val_score: 41.719303:  57%|#####7    | 4/7 [00:26<00:19,  6.62s/it]"
     ]
    },
    {
     "name": "stdout",
     "output_type": "stream",
     "text": [
      "Training until validation scores don't improve for 20 rounds\n",
      "[100]\tvalid_0's l1: 87.5567\tvalid_1's l1: 74.1434\n",
      "[200]\tvalid_0's l1: 70.0941\tvalid_1's l1: 60.8275\n",
      "[300]\tvalid_0's l1: 57.212\tvalid_1's l1: 52.4696\n",
      "[400]\tvalid_0's l1: 49.6247\tvalid_1's l1: 48.9914\n",
      "[500]\tvalid_0's l1: 44.1289\tvalid_1's l1: 47.0929\n",
      "[600]\tvalid_0's l1: 39.4075\tvalid_1's l1: 45.8603\n",
      "[700]\tvalid_0's l1: 36.7481\tvalid_1's l1: 44.8857\n",
      "[800]\tvalid_0's l1: 34.2147\tvalid_1's l1: 44.1481\n",
      "Early stopping, best iteration is:\n",
      "[790]\tvalid_0's l1: 34.2967\tvalid_1's l1: 44.1356\n"
     ]
    },
    {
     "name": "stderr",
     "output_type": "stream",
     "text": [
      "feature_fraction, val_score: 41.719303:  71%|#######1  | 5/7 [00:29<00:10,  5.42s/it]\u001b[32m[I 2022-12-02 14:06:22,653]\u001b[0m Trial 4 finished with value: 44.13560135794528 and parameters: {'feature_fraction': 0.4}. Best is trial 0 with value: 41.71930342812265.\u001b[0m\n",
      "feature_fraction, val_score: 41.719303:  71%|#######1  | 5/7 [00:29<00:10,  5.42s/it]"
     ]
    },
    {
     "name": "stdout",
     "output_type": "stream",
     "text": [
      "Training until validation scores don't improve for 20 rounds\n",
      "[100]\tvalid_0's l1: 74.824\tvalid_1's l1: 68.4267\n",
      "[200]\tvalid_0's l1: 49.7911\tvalid_1's l1: 51.7746\n",
      "[300]\tvalid_0's l1: 37.0693\tvalid_1's l1: 45.7599\n",
      "[400]\tvalid_0's l1: 29.5011\tvalid_1's l1: 42.9162\n",
      "[500]\tvalid_0's l1: 25.6051\tvalid_1's l1: 41.8664\n",
      "Early stopping, best iteration is:\n",
      "[516]\tvalid_0's l1: 25.2046\tvalid_1's l1: 41.7861\n"
     ]
    },
    {
     "name": "stderr",
     "output_type": "stream",
     "text": [
      "feature_fraction, val_score: 41.719303:  86%|########5 | 6/7 [00:34<00:05,  5.07s/it]\u001b[32m[I 2022-12-02 14:06:27,057]\u001b[0m Trial 5 finished with value: 41.78605618232218 and parameters: {'feature_fraction': 0.6}. Best is trial 0 with value: 41.71930342812265.\u001b[0m\n",
      "feature_fraction, val_score: 41.719303:  86%|########5 | 6/7 [00:34<00:05,  5.07s/it]"
     ]
    },
    {
     "name": "stdout",
     "output_type": "stream",
     "text": [
      "Training until validation scores don't improve for 20 rounds\n",
      "[100]\tvalid_0's l1: 69.84\tvalid_1's l1: 66.6715\n",
      "[200]\tvalid_0's l1: 46.3482\tvalid_1's l1: 50.9071\n",
      "[300]\tvalid_0's l1: 33.8601\tvalid_1's l1: 43.8737\n",
      "[400]\tvalid_0's l1: 27.3767\tvalid_1's l1: 42.0862\n",
      "Early stopping, best iteration is:\n",
      "[470]\tvalid_0's l1: 24.9236\tvalid_1's l1: 41.6643\n"
     ]
    },
    {
     "name": "stderr",
     "output_type": "stream",
     "text": [
      "feature_fraction, val_score: 41.664298: 100%|##########| 7/7 [00:39<00:00,  5.18s/it]\u001b[32m[I 2022-12-02 14:06:32,452]\u001b[0m Trial 6 finished with value: 41.66429812291151 and parameters: {'feature_fraction': 0.5}. Best is trial 6 with value: 41.66429812291151.\u001b[0m\n",
      "feature_fraction, val_score: 41.664298: 100%|##########| 7/7 [00:39<00:00,  5.63s/it]\n",
      "num_leaves, val_score: 41.664298:   0%|          | 0/20 [00:00<?, ?it/s]"
     ]
    },
    {
     "name": "stdout",
     "output_type": "stream",
     "text": [
      "Training until validation scores don't improve for 20 rounds\n",
      "[100]\tvalid_0's l1: 72.2466\tvalid_1's l1: 67.8023\n",
      "[200]\tvalid_0's l1: 47.6224\tvalid_1's l1: 50.1023\n",
      "[300]\tvalid_0's l1: 36.1394\tvalid_1's l1: 42.6107\n",
      "[400]\tvalid_0's l1: 30.9206\tvalid_1's l1: 40.5162\n",
      "[500]\tvalid_0's l1: 28.1712\tvalid_1's l1: 39.7045\n",
      "[600]\tvalid_0's l1: 26.6419\tvalid_1's l1: 39.3513\n",
      "[700]\tvalid_0's l1: 25.628\tvalid_1's l1: 39.0652\n",
      "Early stopping, best iteration is:\n",
      "[714]\tvalid_0's l1: 25.5087\tvalid_1's l1: 39.0455\n"
     ]
    },
    {
     "name": "stderr",
     "output_type": "stream",
     "text": [
      "num_leaves, val_score: 39.045493:   5%|5         | 1/20 [00:01<00:29,  1.54s/it]\u001b[32m[I 2022-12-02 14:06:34,006]\u001b[0m Trial 7 finished with value: 39.04549309764831 and parameters: {'num_leaves': 49}. Best is trial 7 with value: 39.04549309764831.\u001b[0m\n",
      "num_leaves, val_score: 39.045493:   5%|5         | 1/20 [00:01<00:29,  1.54s/it]"
     ]
    },
    {
     "name": "stdout",
     "output_type": "stream",
     "text": [
      "Training until validation scores don't improve for 20 rounds\n",
      "[100]\tvalid_0's l1: 72.3915\tvalid_1's l1: 67.6404\n",
      "[200]\tvalid_0's l1: 48.3027\tvalid_1's l1: 50.1214\n",
      "[300]\tvalid_0's l1: 36.651\tvalid_1's l1: 42.6101\n",
      "[400]\tvalid_0's l1: 31.7658\tvalid_1's l1: 40.5164\n",
      "[500]\tvalid_0's l1: 28.9749\tvalid_1's l1: 39.6545\n",
      "[600]\tvalid_0's l1: 27.1149\tvalid_1's l1: 39.0956\n",
      "[700]\tvalid_0's l1: 25.9996\tvalid_1's l1: 38.7792\n",
      "Early stopping, best iteration is:\n",
      "[709]\tvalid_0's l1: 25.9077\tvalid_1's l1: 38.7445\n"
     ]
    },
    {
     "name": "stderr",
     "output_type": "stream",
     "text": [
      "num_leaves, val_score: 38.744478:  10%|#         | 2/20 [00:03<00:28,  1.56s/it]\u001b[32m[I 2022-12-02 14:06:35,576]\u001b[0m Trial 8 finished with value: 38.744477563758196 and parameters: {'num_leaves': 44}. Best is trial 8 with value: 38.744477563758196.\u001b[0m\n",
      "num_leaves, val_score: 38.744478:  10%|#         | 2/20 [00:03<00:28,  1.56s/it]"
     ]
    },
    {
     "name": "stdout",
     "output_type": "stream",
     "text": [
      "Training until validation scores don't improve for 20 rounds\n",
      "[100]\tvalid_0's l1: 72.6521\tvalid_1's l1: 67.6428\n",
      "[200]\tvalid_0's l1: 48.2831\tvalid_1's l1: 49.9274\n",
      "[300]\tvalid_0's l1: 37.0926\tvalid_1's l1: 42.6578\n",
      "[400]\tvalid_0's l1: 32.2245\tvalid_1's l1: 40.4026\n",
      "[500]\tvalid_0's l1: 29.0259\tvalid_1's l1: 39.1914\n",
      "[600]\tvalid_0's l1: 27.3532\tvalid_1's l1: 38.5324\n",
      "[700]\tvalid_0's l1: 26.3714\tvalid_1's l1: 38.2963\n",
      "[800]\tvalid_0's l1: 25.5291\tvalid_1's l1: 38.1151\n"
     ]
    },
    {
     "name": "stderr",
     "output_type": "stream",
     "text": [
      "num_leaves, val_score: 38.086378:  15%|#5        | 3/20 [00:04<00:27,  1.64s/it]\u001b[32m[I 2022-12-02 14:06:37,306]\u001b[0m Trial 9 finished with value: 38.086378312437766 and parameters: {'num_leaves': 39}. Best is trial 9 with value: 38.086378312437766.\u001b[0m\n",
      "num_leaves, val_score: 38.086378:  15%|#5        | 3/20 [00:04<00:27,  1.64s/it]"
     ]
    },
    {
     "name": "stdout",
     "output_type": "stream",
     "text": [
      "Early stopping, best iteration is:\n",
      "[828]\tvalid_0's l1: 25.3662\tvalid_1's l1: 38.0864\n",
      "Training until validation scores don't improve for 20 rounds\n",
      "[100]\tvalid_0's l1: 69.8421\tvalid_1's l1: 66.6667\n",
      "[200]\tvalid_0's l1: 45.7403\tvalid_1's l1: 50.2471\n",
      "[300]\tvalid_0's l1: 33.6109\tvalid_1's l1: 43.4775\n",
      "[400]\tvalid_0's l1: 27.7109\tvalid_1's l1: 41.8104\n",
      "Early stopping, best iteration is:\n",
      "[469]\tvalid_0's l1: 25.4671\tvalid_1's l1: 41.3822\n"
     ]
    },
    {
     "name": "stderr",
     "output_type": "stream",
     "text": [
      "num_leaves, val_score: 38.086378:  20%|##        | 4/20 [00:06<00:29,  1.82s/it]\u001b[32m[I 2022-12-02 14:06:39,402]\u001b[0m Trial 10 finished with value: 41.38222646055376 and parameters: {'num_leaves': 171}. Best is trial 9 with value: 38.086378312437766.\u001b[0m\n",
      "num_leaves, val_score: 38.086378:  20%|##        | 4/20 [00:06<00:29,  1.82s/it]"
     ]
    },
    {
     "name": "stdout",
     "output_type": "stream",
     "text": [
      "Training until validation scores don't improve for 20 rounds\n",
      "[100]\tvalid_0's l1: 69.8401\tvalid_1's l1: 66.6715\n",
      "[200]\tvalid_0's l1: 45.87\tvalid_1's l1: 50.3328\n",
      "[300]\tvalid_0's l1: 33.9804\tvalid_1's l1: 43.7391\n",
      "[400]\tvalid_0's l1: 27.9357\tvalid_1's l1: 42.0312\n",
      "Early stopping, best iteration is:\n",
      "[469]\tvalid_0's l1: 25.5002\tvalid_1's l1: 41.5443\n"
     ]
    },
    {
     "name": "stderr",
     "output_type": "stream",
     "text": [
      "num_leaves, val_score: 38.086378:  25%|##5       | 5/20 [00:09<00:29,  1.94s/it]\u001b[32m[I 2022-12-02 14:06:41,559]\u001b[0m Trial 11 finished with value: 41.54430102440691 and parameters: {'num_leaves': 185}. Best is trial 9 with value: 38.086378312437766.\u001b[0m\n",
      "num_leaves, val_score: 38.086378:  25%|##5       | 5/20 [00:09<00:29,  1.94s/it]"
     ]
    },
    {
     "name": "stdout",
     "output_type": "stream",
     "text": [
      "Training until validation scores don't improve for 20 rounds\n",
      "[100]\tvalid_0's l1: 70.309\tvalid_1's l1: 67.009\n",
      "[200]\tvalid_0's l1: 46.4483\tvalid_1's l1: 50.2945\n",
      "[300]\tvalid_0's l1: 34.836\tvalid_1's l1: 43.474\n",
      "[400]\tvalid_0's l1: 29.1186\tvalid_1's l1: 41.6225\n",
      "[500]\tvalid_0's l1: 26.2276\tvalid_1's l1: 40.9463\n",
      "Early stopping, best iteration is:\n",
      "[558]\tvalid_0's l1: 25.1504\tvalid_1's l1: 40.7445\n"
     ]
    },
    {
     "name": "stderr",
     "output_type": "stream",
     "text": [
      "num_leaves, val_score: 38.086378:  30%|###       | 6/20 [00:11<00:27,  1.94s/it]\u001b[32m[I 2022-12-02 14:06:43,504]\u001b[0m Trial 12 finished with value: 40.74454326446173 and parameters: {'num_leaves': 105}. Best is trial 9 with value: 38.086378312437766.\u001b[0m\n",
      "num_leaves, val_score: 38.086378:  30%|###       | 6/20 [00:11<00:27,  1.94s/it]"
     ]
    },
    {
     "name": "stdout",
     "output_type": "stream",
     "text": [
      "Training until validation scores don't improve for 20 rounds\n",
      "[100]\tvalid_0's l1: 75.3222\tvalid_1's l1: 67.0747\n",
      "[200]\tvalid_0's l1: 54.5413\tvalid_1's l1: 51.8083\n",
      "[300]\tvalid_0's l1: 44.5791\tvalid_1's l1: 45.3282\n",
      "[400]\tvalid_0's l1: 39.9155\tvalid_1's l1: 43.2575\n",
      "[500]\tvalid_0's l1: 36.5012\tvalid_1's l1: 42.0345\n",
      "[600]\tvalid_0's l1: 33.8466\tvalid_1's l1: 40.9378\n",
      "[700]\tvalid_0's l1: 31.4274\tvalid_1's l1: 39.6055\n",
      "[800]\tvalid_0's l1: 29.9368\tvalid_1's l1: 38.8768\n",
      "[900]\tvalid_0's l1: 28.8901\tvalid_1's l1: 38.3474\n",
      "[1000]\tvalid_0's l1: 27.9403\tvalid_1's l1: 37.9282\n",
      "Early stopping, best iteration is:\n",
      "[1051]\tvalid_0's l1: 27.6637\tvalid_1's l1: 37.7519\n"
     ]
    },
    {
     "name": "stderr",
     "output_type": "stream",
     "text": [
      "num_leaves, val_score: 37.751946:  35%|###5      | 7/20 [00:12<00:22,  1.70s/it]\u001b[32m[I 2022-12-02 14:06:44,691]\u001b[0m Trial 13 finished with value: 37.751945897466726 and parameters: {'num_leaves': 14}. Best is trial 13 with value: 37.751945897466726.\u001b[0m\n",
      "num_leaves, val_score: 37.751946:  35%|###5      | 7/20 [00:12<00:22,  1.70s/it]"
     ]
    },
    {
     "name": "stdout",
     "output_type": "stream",
     "text": [
      "Training until validation scores don't improve for 20 rounds\n",
      "[100]\tvalid_0's l1: 72.2902\tvalid_1's l1: 67.6772\n",
      "[200]\tvalid_0's l1: 48.0369\tvalid_1's l1: 50.1152\n",
      "[300]\tvalid_0's l1: 36.6942\tvalid_1's l1: 42.8418\n",
      "[400]\tvalid_0's l1: 31.5481\tvalid_1's l1: 40.6058\n",
      "[500]\tvalid_0's l1: 28.6874\tvalid_1's l1: 39.7578\n",
      "[600]\tvalid_0's l1: 26.8634\tvalid_1's l1: 39.1888\n",
      "[700]\tvalid_0's l1: 25.9936\tvalid_1's l1: 38.9502\n",
      "Early stopping, best iteration is:\n",
      "[737]\tvalid_0's l1: 25.716\tvalid_1's l1: 38.8767\n"
     ]
    },
    {
     "name": "stderr",
     "output_type": "stream",
     "text": [
      "num_leaves, val_score: 37.751946:  40%|####      | 8/20 [00:14<00:22,  1.84s/it]\u001b[32m[I 2022-12-02 14:06:46,855]\u001b[0m Trial 14 finished with value: 38.876711772138634 and parameters: {'num_leaves': 46}. Best is trial 13 with value: 37.751945897466726.\u001b[0m\n",
      "num_leaves, val_score: 37.751946:  40%|####      | 8/20 [00:14<00:22,  1.84s/it]"
     ]
    },
    {
     "name": "stdout",
     "output_type": "stream",
     "text": [
      "Training until validation scores don't improve for 20 rounds\n",
      "[100]\tvalid_0's l1: 70.2152\tvalid_1's l1: 67.0189\n",
      "[200]\tvalid_0's l1: 46.4439\tvalid_1's l1: 50.7328\n",
      "[300]\tvalid_0's l1: 34.4428\tvalid_1's l1: 43.7463\n",
      "[400]\tvalid_0's l1: 28.5869\tvalid_1's l1: 41.8356\n",
      "[500]\tvalid_0's l1: 25.7622\tvalid_1's l1: 41.1994\n",
      "Early stopping, best iteration is:\n",
      "[533]\tvalid_0's l1: 25.2017\tvalid_1's l1: 41.1133\n"
     ]
    },
    {
     "name": "stderr",
     "output_type": "stream",
     "text": [
      "num_leaves, val_score: 37.751946:  45%|####5     | 9/20 [00:17<00:23,  2.14s/it]\u001b[32m[I 2022-12-02 14:06:49,647]\u001b[0m Trial 15 finished with value: 41.113316052242084 and parameters: {'num_leaves': 130}. Best is trial 13 with value: 37.751945897466726.\u001b[0m\n",
      "num_leaves, val_score: 37.751946:  45%|####5     | 9/20 [00:17<00:23,  2.14s/it]"
     ]
    },
    {
     "name": "stdout",
     "output_type": "stream",
     "text": [
      "Training until validation scores don't improve for 20 rounds\n",
      "[100]\tvalid_0's l1: 70.1315\tvalid_1's l1: 66.8423\n",
      "[200]\tvalid_0's l1: 46.1268\tvalid_1's l1: 50.0771\n",
      "[300]\tvalid_0's l1: 34.4131\tvalid_1's l1: 43.4513\n",
      "[400]\tvalid_0's l1: 29.0561\tvalid_1's l1: 41.7047\n",
      "Early stopping, best iteration is:\n",
      "[469]\tvalid_0's l1: 26.5854\tvalid_1's l1: 41.0498\n"
     ]
    },
    {
     "name": "stderr",
     "output_type": "stream",
     "text": [
      "num_leaves, val_score: 37.751946:  50%|#####     | 10/20 [00:18<00:19,  1.96s/it]\u001b[32m[I 2022-12-02 14:06:51,202]\u001b[0m Trial 16 finished with value: 41.04980562257625 and parameters: {'num_leaves': 113}. Best is trial 13 with value: 37.751945897466726.\u001b[0m\n",
      "num_leaves, val_score: 37.751946:  50%|#####     | 10/20 [00:18<00:19,  1.96s/it]"
     ]
    },
    {
     "name": "stdout",
     "output_type": "stream",
     "text": [
      "Training until validation scores don't improve for 20 rounds\n",
      "[100]\tvalid_0's l1: 69.84\tvalid_1's l1: 66.6715\n",
      "[200]\tvalid_0's l1: 46.3513\tvalid_1's l1: 50.9069\n",
      "[300]\tvalid_0's l1: 33.8201\tvalid_1's l1: 43.9223\n",
      "[400]\tvalid_0's l1: 27.6207\tvalid_1's l1: 42.1136\n",
      "Early stopping, best iteration is:\n",
      "[470]\tvalid_0's l1: 25.1467\tvalid_1's l1: 41.66\n"
     ]
    },
    {
     "name": "stderr",
     "output_type": "stream",
     "text": [
      "num_leaves, val_score: 37.751946:  55%|#####5    | 11/20 [00:21<00:18,  2.08s/it]\u001b[32m[I 2022-12-02 14:06:53,543]\u001b[0m Trial 17 finished with value: 41.660042008064586 and parameters: {'num_leaves': 251}. Best is trial 13 with value: 37.751945897466726.\u001b[0m\n",
      "num_leaves, val_score: 37.751946:  55%|#####5    | 11/20 [00:21<00:18,  2.08s/it]"
     ]
    },
    {
     "name": "stdout",
     "output_type": "stream",
     "text": [
      "Training until validation scores don't improve for 20 rounds\n",
      "[100]\tvalid_0's l1: 81.7235\tvalid_1's l1: 72.6364\n",
      "[200]\tvalid_0's l1: 67.9562\tvalid_1's l1: 63.7482\n",
      "[300]\tvalid_0's l1: 63.5687\tvalid_1's l1: 60.9225\n"
     ]
    },
    {
     "name": "stderr",
     "output_type": "stream",
     "text": [
      "num_leaves, val_score: 37.751946:  60%|######    | 12/20 [00:21<00:12,  1.54s/it]\u001b[32m[I 2022-12-02 14:06:53,860]\u001b[0m Trial 18 finished with value: 60.39608962663996 and parameters: {'num_leaves': 4}. Best is trial 13 with value: 37.751945897466726.\u001b[0m\n",
      "num_leaves, val_score: 37.751946:  60%|######    | 12/20 [00:21<00:12,  1.54s/it]"
     ]
    },
    {
     "name": "stdout",
     "output_type": "stream",
     "text": [
      "[400]\tvalid_0's l1: 61.8094\tvalid_1's l1: 60.411\n",
      "Early stopping, best iteration is:\n",
      "[414]\tvalid_0's l1: 61.6417\tvalid_1's l1: 60.3961\n",
      "Training until validation scores don't improve for 20 rounds\n",
      "[100]\tvalid_0's l1: 79.3057\tvalid_1's l1: 70.9922\n"
     ]
    },
    {
     "name": "stderr",
     "output_type": "stream",
     "text": [
      "num_leaves, val_score: 37.751946:  65%|######5   | 13/20 [00:21<00:08,  1.17s/it]\u001b[32m[I 2022-12-02 14:06:54,166]\u001b[0m Trial 19 finished with value: 59.123109157675195 and parameters: {'num_leaves': 5}. Best is trial 13 with value: 37.751945897466726.\u001b[0m\n",
      "num_leaves, val_score: 37.751946:  65%|######5   | 13/20 [00:21<00:08,  1.17s/it]"
     ]
    },
    {
     "name": "stdout",
     "output_type": "stream",
     "text": [
      "[200]\tvalid_0's l1: 66.0929\tvalid_1's l1: 61.9461\n",
      "[300]\tvalid_0's l1: 61.0228\tvalid_1's l1: 59.4217\n",
      "[400]\tvalid_0's l1: 58.912\tvalid_1's l1: 59.1557\n",
      "Early stopping, best iteration is:\n",
      "[383]\tvalid_0's l1: 59.2148\tvalid_1's l1: 59.1231\n",
      "Training until validation scores don't improve for 20 rounds\n",
      "[100]\tvalid_0's l1: 71.3708\tvalid_1's l1: 67.56\n",
      "[200]\tvalid_0's l1: 46.862\tvalid_1's l1: 50.1758\n",
      "[300]\tvalid_0's l1: 35.6979\tvalid_1's l1: 43.4099\n",
      "[400]\tvalid_0's l1: 30.1919\tvalid_1's l1: 41.2856\n",
      "[500]\tvalid_0's l1: 27.3862\tvalid_1's l1: 40.5243\n",
      "[600]\tvalid_0's l1: 25.6808\tvalid_1's l1: 40.204\n",
      "[700]\tvalid_0's l1: 24.5573\tvalid_1's l1: 40.0254\n",
      "Early stopping, best iteration is:\n",
      "[742]\tvalid_0's l1: 24.2296\tvalid_1's l1: 39.9709\n"
     ]
    },
    {
     "name": "stderr",
     "output_type": "stream",
     "text": [
      "num_leaves, val_score: 37.751946:  70%|#######   | 14/20 [00:23<00:08,  1.48s/it]\u001b[32m[I 2022-12-02 14:06:56,387]\u001b[0m Trial 20 finished with value: 39.97094020650126 and parameters: {'num_leaves': 76}. Best is trial 13 with value: 37.751945897466726.\u001b[0m\n",
      "num_leaves, val_score: 37.751946:  70%|#######   | 14/20 [00:23<00:08,  1.48s/it]"
     ]
    },
    {
     "name": "stdout",
     "output_type": "stream",
     "text": [
      "Training until validation scores don't improve for 20 rounds\n",
      "[100]\tvalid_0's l1: 73.6055\tvalid_1's l1: 66.7941\n",
      "[200]\tvalid_0's l1: 50.7307\tvalid_1's l1: 49.9303\n",
      "[300]\tvalid_0's l1: 39.8961\tvalid_1's l1: 42.508\n",
      "[400]\tvalid_0's l1: 34.7382\tvalid_1's l1: 39.6733\n",
      "[500]\tvalid_0's l1: 31.4736\tvalid_1's l1: 38.2465\n",
      "[600]\tvalid_0's l1: 29.3056\tvalid_1's l1: 37.4607\n",
      "[700]\tvalid_0's l1: 28.142\tvalid_1's l1: 37.2349\n",
      "[800]\tvalid_0's l1: 27.1735\tvalid_1's l1: 37.0768\n",
      "[900]\tvalid_0's l1: 26.5097\tvalid_1's l1: 36.9416\n",
      "Early stopping, best iteration is:\n",
      "[907]\tvalid_0's l1: 26.4801\tvalid_1's l1: 36.9377\n"
     ]
    },
    {
     "name": "stderr",
     "output_type": "stream",
     "text": [
      "num_leaves, val_score: 36.937732:  75%|#######5  | 15/20 [00:25<00:07,  1.44s/it]\u001b[32m[I 2022-12-02 14:06:57,710]\u001b[0m Trial 21 finished with value: 36.93773176716734 and parameters: {'num_leaves': 23}. Best is trial 21 with value: 36.93773176716734.\u001b[0m\n",
      "num_leaves, val_score: 36.937732:  75%|#######5  | 15/20 [00:25<00:07,  1.44s/it]"
     ]
    },
    {
     "name": "stdout",
     "output_type": "stream",
     "text": [
      "Training until validation scores don't improve for 20 rounds\n",
      "[100]\tvalid_0's l1: 70.8822\tvalid_1's l1: 67.2932\n",
      "[200]\tvalid_0's l1: 46.2343\tvalid_1's l1: 49.9824\n",
      "[300]\tvalid_0's l1: 34.9338\tvalid_1's l1: 43.2503\n",
      "[400]\tvalid_0's l1: 29.5745\tvalid_1's l1: 41.4881\n",
      "[500]\tvalid_0's l1: 26.7202\tvalid_1's l1: 40.7811\n",
      "Early stopping, best iteration is:\n",
      "[500]\tvalid_0's l1: 26.7202\tvalid_1's l1: 40.7811\n"
     ]
    },
    {
     "name": "stderr",
     "output_type": "stream",
     "text": [
      "num_leaves, val_score: 36.937732:  80%|########  | 16/20 [00:26<00:06,  1.52s/it]\u001b[32m[I 2022-12-02 14:06:59,413]\u001b[0m Trial 22 finished with value: 40.781058475165494 and parameters: {'num_leaves': 86}. Best is trial 21 with value: 36.93773176716734.\u001b[0m\n",
      "num_leaves, val_score: 36.937732:  80%|########  | 16/20 [00:26<00:06,  1.52s/it]"
     ]
    },
    {
     "name": "stdout",
     "output_type": "stream",
     "text": [
      "Training until validation scores don't improve for 20 rounds\n",
      "[100]\tvalid_0's l1: 91.8308\tvalid_1's l1: 78.9889\n",
      "[200]\tvalid_0's l1: 83.1888\tvalid_1's l1: 71.731\n",
      "[300]\tvalid_0's l1: 79.5998\tvalid_1's l1: 68.7474\n",
      "[400]\tvalid_0's l1: 76.5854\tvalid_1's l1: 67.1337\n",
      "[500]\tvalid_0's l1: 74.0515\tvalid_1's l1: 66.0197\n",
      "[600]\tvalid_0's l1: 72.1124\tvalid_1's l1: 65.2635\n",
      "[700]\tvalid_0's l1: 70.5812\tvalid_1's l1: 64.6647\n"
     ]
    },
    {
     "name": "stderr",
     "output_type": "stream",
     "text": [
      "num_leaves, val_score: 36.937732:  85%|########5 | 17/20 [00:27<00:03,  1.22s/it]\u001b[32m[I 2022-12-02 14:06:59,955]\u001b[0m Trial 23 finished with value: 64.1209809610527 and parameters: {'num_leaves': 2}. Best is trial 21 with value: 36.93773176716734.\u001b[0m\n",
      "num_leaves, val_score: 36.937732:  85%|########5 | 17/20 [00:27<00:03,  1.22s/it]"
     ]
    },
    {
     "name": "stdout",
     "output_type": "stream",
     "text": [
      "[800]\tvalid_0's l1: 69.3466\tvalid_1's l1: 64.1635\n",
      "Early stopping, best iteration is:\n",
      "[806]\tvalid_0's l1: 69.2756\tvalid_1's l1: 64.121\n",
      "Training until validation scores don't improve for 20 rounds\n",
      "[100]\tvalid_0's l1: 69.9497\tvalid_1's l1: 66.799\n",
      "[200]\tvalid_0's l1: 46.4906\tvalid_1's l1: 50.9755\n",
      "[300]\tvalid_0's l1: 34.1514\tvalid_1's l1: 43.9431\n",
      "[400]\tvalid_0's l1: 28.1736\tvalid_1's l1: 42.0954\n",
      "Early stopping, best iteration is:\n",
      "[470]\tvalid_0's l1: 25.7982\tvalid_1's l1: 41.6053\n"
     ]
    },
    {
     "name": "stderr",
     "output_type": "stream",
     "text": [
      "num_leaves, val_score: 36.937732:  90%|######### | 18/20 [00:29<00:03,  1.60s/it]\u001b[32m[I 2022-12-02 14:07:02,443]\u001b[0m Trial 24 finished with value: 41.605275096199286 and parameters: {'num_leaves': 151}. Best is trial 21 with value: 36.93773176716734.\u001b[0m\n",
      "num_leaves, val_score: 36.937732:  90%|######### | 18/20 [00:29<00:03,  1.60s/it]"
     ]
    },
    {
     "name": "stdout",
     "output_type": "stream",
     "text": [
      "Training until validation scores don't improve for 20 rounds\n",
      "[100]\tvalid_0's l1: 69.84\tvalid_1's l1: 66.6715\n",
      "[200]\tvalid_0's l1: 45.7997\tvalid_1's l1: 50.2299\n",
      "[300]\tvalid_0's l1: 33.5917\tvalid_1's l1: 43.48\n",
      "[400]\tvalid_0's l1: 27.529\tvalid_1's l1: 41.816\n",
      "Early stopping, best iteration is:\n",
      "[470]\tvalid_0's l1: 25.1972\tvalid_1's l1: 41.4248\n"
     ]
    },
    {
     "name": "stderr",
     "output_type": "stream",
     "text": [
      "num_leaves, val_score: 36.937732:  95%|#########5| 19/20 [00:33<00:02,  2.03s/it]\u001b[32m[I 2022-12-02 14:07:05,470]\u001b[0m Trial 25 finished with value: 41.424779518031166 and parameters: {'num_leaves': 218}. Best is trial 21 with value: 36.93773176716734.\u001b[0m\n",
      "num_leaves, val_score: 36.937732:  95%|#########5| 19/20 [00:33<00:02,  2.03s/it]"
     ]
    },
    {
     "name": "stdout",
     "output_type": "stream",
     "text": [
      "Training until validation scores don't improve for 20 rounds\n",
      "[100]\tvalid_0's l1: 70.929\tvalid_1's l1: 67.2533\n",
      "[200]\tvalid_0's l1: 46.3445\tvalid_1's l1: 50.0172\n",
      "[300]\tvalid_0's l1: 34.8036\tvalid_1's l1: 43.0261\n",
      "[400]\tvalid_0's l1: 29.4363\tvalid_1's l1: 41.165\n",
      "[500]\tvalid_0's l1: 26.7992\tvalid_1's l1: 40.6666\n",
      "Early stopping, best iteration is:\n",
      "[494]\tvalid_0's l1: 26.8628\tvalid_1's l1: 40.654\n"
     ]
    },
    {
     "name": "stderr",
     "output_type": "stream",
     "text": [
      "num_leaves, val_score: 36.937732: 100%|##########| 20/20 [00:34<00:00,  1.89s/it]\u001b[32m[I 2022-12-02 14:07:07,046]\u001b[0m Trial 26 finished with value: 40.65400918231779 and parameters: {'num_leaves': 83}. Best is trial 21 with value: 36.93773176716734.\u001b[0m\n",
      "num_leaves, val_score: 36.937732: 100%|##########| 20/20 [00:34<00:00,  1.73s/it]\n",
      "bagging, val_score: 36.937732:   0%|          | 0/10 [00:00<?, ?it/s]"
     ]
    },
    {
     "name": "stdout",
     "output_type": "stream",
     "text": [
      "Training until validation scores don't improve for 20 rounds\n",
      "[100]\tvalid_0's l1: 72.8408\tvalid_1's l1: 65.7461\n",
      "[200]\tvalid_0's l1: 50.205\tvalid_1's l1: 49.1538\n",
      "[300]\tvalid_0's l1: 40.0595\tvalid_1's l1: 42.1798\n",
      "[400]\tvalid_0's l1: 34.3623\tvalid_1's l1: 38.9111\n",
      "[500]\tvalid_0's l1: 31.359\tvalid_1's l1: 37.6296\n",
      "[600]\tvalid_0's l1: 29.5935\tvalid_1's l1: 36.9549\n",
      "Early stopping, best iteration is:\n",
      "[606]\tvalid_0's l1: 29.5247\tvalid_1's l1: 36.922\n"
     ]
    },
    {
     "name": "stderr",
     "output_type": "stream",
     "text": [
      "bagging, val_score: 36.921958:  10%|#         | 1/10 [00:01<00:09,  1.05s/it]\u001b[32m[I 2022-12-02 14:07:08,140]\u001b[0m Trial 27 finished with value: 36.92195782493943 and parameters: {'bagging_fraction': 0.8716237398008502, 'bagging_freq': 4}. Best is trial 27 with value: 36.92195782493943.\u001b[0m\n",
      "bagging, val_score: 36.921958:  10%|#         | 1/10 [00:01<00:09,  1.05s/it]"
     ]
    },
    {
     "name": "stdout",
     "output_type": "stream",
     "text": [
      "Training until validation scores don't improve for 20 rounds\n",
      "[100]\tvalid_0's l1: 72.9322\tvalid_1's l1: 65.9387\n",
      "[200]\tvalid_0's l1: 50.3465\tvalid_1's l1: 49.3665\n",
      "[300]\tvalid_0's l1: 39.3017\tvalid_1's l1: 41.6928\n",
      "[400]\tvalid_0's l1: 33.8865\tvalid_1's l1: 38.9465\n",
      "[500]\tvalid_0's l1: 30.83\tvalid_1's l1: 37.3762\n"
     ]
    },
    {
     "name": "stderr",
     "output_type": "stream",
     "text": [
      "bagging, val_score: 36.148153:  20%|##        | 2/10 [00:02<00:08,  1.02s/it]\u001b[32m[I 2022-12-02 14:07:09,136]\u001b[0m Trial 28 finished with value: 36.14815260431438 and parameters: {'bagging_fraction': 0.5993040029885757, 'bagging_freq': 2}. Best is trial 28 with value: 36.14815260431438.\u001b[0m\n",
      "bagging, val_score: 36.148153:  20%|##        | 2/10 [00:02<00:08,  1.02s/it]"
     ]
    },
    {
     "name": "stdout",
     "output_type": "stream",
     "text": [
      "[600]\tvalid_0's l1: 28.9032\tvalid_1's l1: 36.4116\n",
      "Early stopping, best iteration is:\n",
      "[643]\tvalid_0's l1: 28.2252\tvalid_1's l1: 36.1482\n",
      "Training until validation scores don't improve for 20 rounds\n",
      "[100]\tvalid_0's l1: 71.595\tvalid_1's l1: 64.5289\n",
      "[200]\tvalid_0's l1: 49.8005\tvalid_1's l1: 48.1934\n",
      "[300]\tvalid_0's l1: 40.6314\tvalid_1's l1: 42.0033\n",
      "[400]\tvalid_0's l1: 34.4559\tvalid_1's l1: 38.7202\n",
      "[500]\tvalid_0's l1: 30.9061\tvalid_1's l1: 37.1155\n",
      "[600]\tvalid_0's l1: 28.8559\tvalid_1's l1: 36.4597\n"
     ]
    },
    {
     "name": "stderr",
     "output_type": "stream",
     "text": [
      "bagging, val_score: 36.008902:  30%|###       | 3/10 [00:02<00:06,  1.03it/s]\u001b[32m[I 2022-12-02 14:07:10,057]\u001b[0m Trial 29 finished with value: 36.00890176821902 and parameters: {'bagging_fraction': 0.529669202985435, 'bagging_freq': 7}. Best is trial 29 with value: 36.00890176821902.\u001b[0m\n",
      "bagging, val_score: 36.008902:  30%|###       | 3/10 [00:02<00:06,  1.03it/s]"
     ]
    },
    {
     "name": "stdout",
     "output_type": "stream",
     "text": [
      "[700]\tvalid_0's l1: 27.6137\tvalid_1's l1: 36.0425\n",
      "Early stopping, best iteration is:\n",
      "[693]\tvalid_0's l1: 27.6579\tvalid_1's l1: 36.0089\n",
      "Training until validation scores don't improve for 20 rounds\n",
      "[100]\tvalid_0's l1: 72.1795\tvalid_1's l1: 65.2022\n",
      "[200]\tvalid_0's l1: 49.3875\tvalid_1's l1: 48.4104\n",
      "[300]\tvalid_0's l1: 39.278\tvalid_1's l1: 41.6023\n",
      "[400]\tvalid_0's l1: 32.6336\tvalid_1's l1: 37.8548\n",
      "[500]\tvalid_0's l1: 29.946\tvalid_1's l1: 36.7562\n",
      "[600]\tvalid_0's l1: 28.4704\tvalid_1's l1: 36.2438\n",
      "[700]\tvalid_0's l1: 27.5029\tvalid_1's l1: 36.0422\n"
     ]
    },
    {
     "name": "stderr",
     "output_type": "stream",
     "text": [
      "bagging, val_score: 36.007083:  40%|####      | 4/10 [00:04<00:06,  1.00s/it]\u001b[32m[I 2022-12-02 14:07:11,102]\u001b[0m Trial 30 finished with value: 36.007082524918275 and parameters: {'bagging_fraction': 0.7086715487662234, 'bagging_freq': 7}. Best is trial 30 with value: 36.007082524918275.\u001b[0m\n",
      "bagging, val_score: 36.007083:  40%|####      | 4/10 [00:04<00:06,  1.00s/it]"
     ]
    },
    {
     "name": "stdout",
     "output_type": "stream",
     "text": [
      "Early stopping, best iteration is:\n",
      "[686]\tvalid_0's l1: 27.6233\tvalid_1's l1: 36.0071\n",
      "Training until validation scores don't improve for 20 rounds\n",
      "[100]\tvalid_0's l1: 73.0878\tvalid_1's l1: 65.9425\n",
      "[200]\tvalid_0's l1: 49.8269\tvalid_1's l1: 49.1766\n",
      "[300]\tvalid_0's l1: 38.9682\tvalid_1's l1: 41.8263\n",
      "[400]\tvalid_0's l1: 33.2774\tvalid_1's l1: 38.7406\n",
      "[500]\tvalid_0's l1: 30.6374\tvalid_1's l1: 37.698\n",
      "[600]\tvalid_0's l1: 28.9752\tvalid_1's l1: 36.9828\n"
     ]
    },
    {
     "name": "stderr",
     "output_type": "stream",
     "text": [
      "bagging, val_score: 36.007083:  50%|#####     | 5/10 [00:05<00:05,  1.05s/it]\u001b[32m[I 2022-12-02 14:07:12,234]\u001b[0m Trial 31 finished with value: 36.628846536048435 and parameters: {'bagging_fraction': 0.8568384259925832, 'bagging_freq': 4}. Best is trial 30 with value: 36.007082524918275.\u001b[0m\n",
      "bagging, val_score: 36.007083:  50%|#####     | 5/10 [00:05<00:05,  1.05s/it]"
     ]
    },
    {
     "name": "stdout",
     "output_type": "stream",
     "text": [
      "[700]\tvalid_0's l1: 27.9181\tvalid_1's l1: 36.7202\n",
      "Early stopping, best iteration is:\n",
      "[741]\tvalid_0's l1: 27.5908\tvalid_1's l1: 36.6288\n",
      "Training until validation scores don't improve for 20 rounds\n",
      "[100]\tvalid_0's l1: 73.1343\tvalid_1's l1: 66.2058\n",
      "[200]\tvalid_0's l1: 49.379\tvalid_1's l1: 48.7526\n",
      "[300]\tvalid_0's l1: 38.7321\tvalid_1's l1: 41.4308\n",
      "[400]\tvalid_0's l1: 33.4527\tvalid_1's l1: 38.7101\n",
      "[500]\tvalid_0's l1: 30.6149\tvalid_1's l1: 37.5805\n",
      "[600]\tvalid_0's l1: 28.8423\tvalid_1's l1: 37.0271\n"
     ]
    },
    {
     "name": "stderr",
     "output_type": "stream",
     "text": [
      "bagging, val_score: 36.007083:  60%|######    | 6/10 [00:06<00:04,  1.05s/it]\u001b[32m[I 2022-12-02 14:07:13,299]\u001b[0m Trial 32 finished with value: 36.648394701799724 and parameters: {'bagging_fraction': 0.7616983581963545, 'bagging_freq': 4}. Best is trial 30 with value: 36.007082524918275.\u001b[0m\n",
      "bagging, val_score: 36.007083:  60%|######    | 6/10 [00:06<00:04,  1.05s/it]"
     ]
    },
    {
     "name": "stdout",
     "output_type": "stream",
     "text": [
      "[700]\tvalid_0's l1: 27.7316\tvalid_1's l1: 36.6931\n",
      "Early stopping, best iteration is:\n",
      "[713]\tvalid_0's l1: 27.6516\tvalid_1's l1: 36.6484\n",
      "Training until validation scores don't improve for 20 rounds\n",
      "[100]\tvalid_0's l1: 72.9692\tvalid_1's l1: 65.9871\n",
      "[200]\tvalid_0's l1: 50.935\tvalid_1's l1: 49.7541\n",
      "[300]\tvalid_0's l1: 39.8625\tvalid_1's l1: 42.2207\n",
      "[400]\tvalid_0's l1: 33.619\tvalid_1's l1: 38.5858\n",
      "[500]\tvalid_0's l1: 30.6644\tvalid_1's l1: 37.3349\n",
      "[600]\tvalid_0's l1: 28.8498\tvalid_1's l1: 36.8169\n",
      "Early stopping, best iteration is:\n",
      "[649]\tvalid_0's l1: 28.1456\tvalid_1's l1: 36.6856\n"
     ]
    },
    {
     "name": "stderr",
     "output_type": "stream",
     "text": [
      "bagging, val_score: 36.007083:  70%|#######   | 7/10 [00:07<00:03,  1.04s/it]\u001b[32m[I 2022-12-02 14:07:14,316]\u001b[0m Trial 33 finished with value: 36.68563190819967 and parameters: {'bagging_fraction': 0.9053984261276016, 'bagging_freq': 6}. Best is trial 30 with value: 36.007082524918275.\u001b[0m\n",
      "bagging, val_score: 36.007083:  70%|#######   | 7/10 [00:07<00:03,  1.04s/it]"
     ]
    },
    {
     "name": "stdout",
     "output_type": "stream",
     "text": [
      "Training until validation scores don't improve for 20 rounds\n",
      "[100]\tvalid_0's l1: 72.8201\tvalid_1's l1: 66.2942\n",
      "[200]\tvalid_0's l1: 49.931\tvalid_1's l1: 49.7297\n",
      "[300]\tvalid_0's l1: 39.468\tvalid_1's l1: 42.1863\n",
      "[400]\tvalid_0's l1: 34.0127\tvalid_1's l1: 39.2006\n",
      "[500]\tvalid_0's l1: 30.7999\tvalid_1's l1: 37.7952\n",
      "[600]\tvalid_0's l1: 28.8317\tvalid_1's l1: 37.274\n",
      "[700]\tvalid_0's l1: 27.8472\tvalid_1's l1: 37.0357\n",
      "Early stopping, best iteration is:\n",
      "[708]\tvalid_0's l1: 27.7852\tvalid_1's l1: 36.9998\n"
     ]
    },
    {
     "name": "stderr",
     "output_type": "stream",
     "text": [
      "bagging, val_score: 36.007083:  80%|########  | 8/10 [00:08<00:02,  1.03s/it]\u001b[32m[I 2022-12-02 14:07:15,335]\u001b[0m Trial 34 finished with value: 36.99984885969936 and parameters: {'bagging_fraction': 0.8850997775949423, 'bagging_freq': 3}. Best is trial 30 with value: 36.007082524918275.\u001b[0m\n",
      "bagging, val_score: 36.007083:  80%|########  | 8/10 [00:08<00:02,  1.03s/it]"
     ]
    },
    {
     "name": "stdout",
     "output_type": "stream",
     "text": [
      "Training until validation scores don't improve for 20 rounds\n",
      "[100]\tvalid_0's l1: 72.2362\tvalid_1's l1: 65.2351\n",
      "[200]\tvalid_0's l1: 50.9671\tvalid_1's l1: 49.2607\n",
      "[300]\tvalid_0's l1: 40.3723\tvalid_1's l1: 42.2759\n",
      "[400]\tvalid_0's l1: 34.2575\tvalid_1's l1: 38.7496\n",
      "[500]\tvalid_0's l1: 30.9679\tvalid_1's l1: 37.2121\n",
      "[600]\tvalid_0's l1: 29.065\tvalid_1's l1: 36.5\n",
      "Early stopping, best iteration is:\n",
      "[655]\tvalid_0's l1: 28.2249\tvalid_1's l1: 36.2222\n"
     ]
    },
    {
     "name": "stderr",
     "output_type": "stream",
     "text": [
      "bagging, val_score: 36.007083:  90%|######### | 9/10 [00:09<00:01,  1.03s/it]\u001b[32m[I 2022-12-02 14:07:16,343]\u001b[0m Trial 35 finished with value: 36.22218613267032 and parameters: {'bagging_fraction': 0.6256051352748613, 'bagging_freq': 5}. Best is trial 30 with value: 36.007082524918275.\u001b[0m\n",
      "bagging, val_score: 36.007083:  90%|######### | 9/10 [00:09<00:01,  1.03s/it]"
     ]
    },
    {
     "name": "stdout",
     "output_type": "stream",
     "text": [
      "Training until validation scores don't improve for 20 rounds\n",
      "[100]\tvalid_0's l1: 72.8933\tvalid_1's l1: 66.2015\n",
      "[200]\tvalid_0's l1: 51.3126\tvalid_1's l1: 50.3262\n",
      "[300]\tvalid_0's l1: 39.6553\tvalid_1's l1: 42.1605\n",
      "[400]\tvalid_0's l1: 34.1127\tvalid_1's l1: 39.3318\n",
      "[500]\tvalid_0's l1: 30.9515\tvalid_1's l1: 37.8095\n"
     ]
    },
    {
     "name": "stderr",
     "output_type": "stream",
     "text": [
      "bagging, val_score: 36.007083: 100%|##########| 10/10 [00:10<00:00,  1.08s/it]\u001b[32m[I 2022-12-02 14:07:17,529]\u001b[0m Trial 36 finished with value: 37.086687011598514 and parameters: {'bagging_fraction': 0.916185987180421, 'bagging_freq': 6}. Best is trial 30 with value: 36.007082524918275.\u001b[0m\n",
      "bagging, val_score: 36.007083: 100%|##########| 10/10 [00:10<00:00,  1.04s/it]\n"
     ]
    },
    {
     "name": "stdout",
     "output_type": "stream",
     "text": [
      "[600]\tvalid_0's l1: 28.7637\tvalid_1's l1: 37.1215\n",
      "Early stopping, best iteration is:\n",
      "[607]\tvalid_0's l1: 28.6523\tvalid_1's l1: 37.0867\n"
     ]
    },
    {
     "name": "stderr",
     "output_type": "stream",
     "text": [
      "feature_fraction_stage2, val_score: 36.007083:   0%|          | 0/6 [00:00<?, ?it/s]"
     ]
    },
    {
     "name": "stdout",
     "output_type": "stream",
     "text": [
      "Training until validation scores don't improve for 20 rounds\n",
      "[100]\tvalid_0's l1: 72.1795\tvalid_1's l1: 65.2022\n",
      "[200]\tvalid_0's l1: 49.3875\tvalid_1's l1: 48.4104\n",
      "[300]\tvalid_0's l1: 39.278\tvalid_1's l1: 41.6023\n",
      "[400]\tvalid_0's l1: 32.6336\tvalid_1's l1: 37.8548\n",
      "[500]\tvalid_0's l1: 29.946\tvalid_1's l1: 36.7562\n",
      "[600]\tvalid_0's l1: 28.4704\tvalid_1's l1: 36.2438\n",
      "[700]\tvalid_0's l1: 27.5029\tvalid_1's l1: 36.0422\n",
      "Early stopping, best iteration is:\n",
      "[686]\tvalid_0's l1: 27.6233\tvalid_1's l1: 36.0071\n"
     ]
    },
    {
     "name": "stderr",
     "output_type": "stream",
     "text": [
      "feature_fraction_stage2, val_score: 36.007083:  17%|#6        | 1/6 [00:01<00:06,  1.38s/it]\u001b[32m[I 2022-12-02 14:07:18,924]\u001b[0m Trial 37 finished with value: 36.007082524918275 and parameters: {'feature_fraction': 0.516}. Best is trial 37 with value: 36.007082524918275.\u001b[0m\n",
      "feature_fraction_stage2, val_score: 36.007083:  17%|#6        | 1/6 [00:01<00:06,  1.38s/it]"
     ]
    },
    {
     "name": "stdout",
     "output_type": "stream",
     "text": [
      "Training until validation scores don't improve for 20 rounds\n",
      "[100]\tvalid_0's l1: 89.0534\tvalid_1's l1: 73.5587\n",
      "[200]\tvalid_0's l1: 72.9614\tvalid_1's l1: 61.0086\n",
      "[300]\tvalid_0's l1: 61.7574\tvalid_1's l1: 54.3306\n",
      "[400]\tvalid_0's l1: 54.6883\tvalid_1's l1: 50.2899\n",
      "[500]\tvalid_0's l1: 48.688\tvalid_1's l1: 47.0876\n",
      "[600]\tvalid_0's l1: 44.0495\tvalid_1's l1: 45.098\n",
      "[700]\tvalid_0's l1: 40.7362\tvalid_1's l1: 43.2566\n",
      "[800]\tvalid_0's l1: 37.318\tvalid_1's l1: 41.5865\n",
      "[900]\tvalid_0's l1: 34.775\tvalid_1's l1: 40.4489\n",
      "[1000]\tvalid_0's l1: 32.9835\tvalid_1's l1: 39.6296\n",
      "[1100]\tvalid_0's l1: 31.6712\tvalid_1's l1: 39.0123\n",
      "Early stopping, best iteration is:\n",
      "[1146]\tvalid_0's l1: 31.2634\tvalid_1's l1: 38.909\n"
     ]
    },
    {
     "name": "stderr",
     "output_type": "stream",
     "text": [
      "feature_fraction_stage2, val_score: 36.007083:  33%|###3      | 2/6 [00:03<00:06,  1.64s/it]\u001b[32m[I 2022-12-02 14:07:20,758]\u001b[0m Trial 38 finished with value: 38.90901204161206 and parameters: {'feature_fraction': 0.42}. Best is trial 37 with value: 36.007082524918275.\u001b[0m\n",
      "feature_fraction_stage2, val_score: 36.007083:  33%|###3      | 2/6 [00:03<00:06,  1.64s/it]"
     ]
    },
    {
     "name": "stdout",
     "output_type": "stream",
     "text": [
      "Training until validation scores don't improve for 20 rounds\n",
      "[100]\tvalid_0's l1: 72.1795\tvalid_1's l1: 65.2022\n",
      "[200]\tvalid_0's l1: 49.3875\tvalid_1's l1: 48.4104\n",
      "[300]\tvalid_0's l1: 39.278\tvalid_1's l1: 41.6023\n",
      "[400]\tvalid_0's l1: 32.6336\tvalid_1's l1: 37.8548\n",
      "[500]\tvalid_0's l1: 29.946\tvalid_1's l1: 36.7562\n",
      "[600]\tvalid_0's l1: 28.4704\tvalid_1's l1: 36.2438\n",
      "[700]\tvalid_0's l1: 27.5029\tvalid_1's l1: 36.0422\n"
     ]
    },
    {
     "name": "stderr",
     "output_type": "stream",
     "text": [
      "feature_fraction_stage2, val_score: 36.007083:  50%|#####     | 3/6 [00:04<00:04,  1.34s/it]\u001b[32m[I 2022-12-02 14:07:21,728]\u001b[0m Trial 39 finished with value: 36.007082524918275 and parameters: {'feature_fraction': 0.484}. Best is trial 37 with value: 36.007082524918275.\u001b[0m\n",
      "feature_fraction_stage2, val_score: 36.007083:  50%|#####     | 3/6 [00:04<00:04,  1.34s/it]"
     ]
    },
    {
     "name": "stdout",
     "output_type": "stream",
     "text": [
      "Early stopping, best iteration is:\n",
      "[686]\tvalid_0's l1: 27.6233\tvalid_1's l1: 36.0071\n",
      "Training until validation scores don't improve for 20 rounds\n",
      "[100]\tvalid_0's l1: 76.3094\tvalid_1's l1: 66.0053\n",
      "[200]\tvalid_0's l1: 54.268\tvalid_1's l1: 49.764\n",
      "[300]\tvalid_0's l1: 42.6751\tvalid_1's l1: 43.5953\n",
      "[400]\tvalid_0's l1: 35.7491\tvalid_1's l1: 39.9074\n",
      "[500]\tvalid_0's l1: 31.9158\tvalid_1's l1: 38.647\n",
      "[600]\tvalid_0's l1: 29.417\tvalid_1's l1: 37.9982\n"
     ]
    },
    {
     "name": "stderr",
     "output_type": "stream",
     "text": [
      "feature_fraction_stage2, val_score: 36.007083:  67%|######6   | 4/6 [00:05<00:02,  1.15s/it]\u001b[32m[I 2022-12-02 14:07:22,591]\u001b[0m Trial 40 finished with value: 37.662094261351506 and parameters: {'feature_fraction': 0.58}. Best is trial 37 with value: 36.007082524918275.\u001b[0m\n",
      "feature_fraction_stage2, val_score: 36.007083:  67%|######6   | 4/6 [00:05<00:02,  1.15s/it]"
     ]
    },
    {
     "name": "stdout",
     "output_type": "stream",
     "text": [
      "Early stopping, best iteration is:\n",
      "[656]\tvalid_0's l1: 28.4846\tvalid_1's l1: 37.6621\n",
      "Training until validation scores don't improve for 20 rounds\n",
      "[100]\tvalid_0's l1: 72.1795\tvalid_1's l1: 65.2022\n",
      "[200]\tvalid_0's l1: 49.3875\tvalid_1's l1: 48.4104\n",
      "[300]\tvalid_0's l1: 39.278\tvalid_1's l1: 41.6023\n",
      "[400]\tvalid_0's l1: 32.6336\tvalid_1's l1: 37.8548\n",
      "[500]\tvalid_0's l1: 29.946\tvalid_1's l1: 36.7562\n",
      "[600]\tvalid_0's l1: 28.4704\tvalid_1's l1: 36.2438\n"
     ]
    },
    {
     "name": "stderr",
     "output_type": "stream",
     "text": [
      "feature_fraction_stage2, val_score: 36.007083:  83%|########3 | 5/6 [00:06<00:01,  1.09s/it]\u001b[32m[I 2022-12-02 14:07:23,568]\u001b[0m Trial 41 finished with value: 36.007082524918275 and parameters: {'feature_fraction': 0.45199999999999996}. Best is trial 37 with value: 36.007082524918275.\u001b[0m\n",
      "feature_fraction_stage2, val_score: 36.007083:  83%|########3 | 5/6 [00:06<00:01,  1.09s/it]"
     ]
    },
    {
     "name": "stdout",
     "output_type": "stream",
     "text": [
      "[700]\tvalid_0's l1: 27.5029\tvalid_1's l1: 36.0422\n",
      "Early stopping, best iteration is:\n",
      "[686]\tvalid_0's l1: 27.6233\tvalid_1's l1: 36.0071\n",
      "Training until validation scores don't improve for 20 rounds\n",
      "[100]\tvalid_0's l1: 72.1795\tvalid_1's l1: 65.2022\n",
      "[200]\tvalid_0's l1: 49.3875\tvalid_1's l1: 48.4104\n",
      "[300]\tvalid_0's l1: 39.278\tvalid_1's l1: 41.6023\n",
      "[400]\tvalid_0's l1: 32.6336\tvalid_1's l1: 37.8548\n",
      "[500]\tvalid_0's l1: 29.946\tvalid_1's l1: 36.7562\n",
      "[600]\tvalid_0's l1: 28.4704\tvalid_1's l1: 36.2438\n"
     ]
    },
    {
     "name": "stderr",
     "output_type": "stream",
     "text": [
      "feature_fraction_stage2, val_score: 36.007083: 100%|##########| 6/6 [00:06<00:00,  1.05s/it]\u001b[32m[I 2022-12-02 14:07:24,540]\u001b[0m Trial 42 finished with value: 36.007082524918275 and parameters: {'feature_fraction': 0.5479999999999999}. Best is trial 37 with value: 36.007082524918275.\u001b[0m\n",
      "feature_fraction_stage2, val_score: 36.007083: 100%|##########| 6/6 [00:07<00:00,  1.17s/it]\n"
     ]
    },
    {
     "name": "stdout",
     "output_type": "stream",
     "text": [
      "[700]\tvalid_0's l1: 27.5029\tvalid_1's l1: 36.0422\n",
      "Early stopping, best iteration is:\n",
      "[686]\tvalid_0's l1: 27.6233\tvalid_1's l1: 36.0071\n"
     ]
    },
    {
     "name": "stderr",
     "output_type": "stream",
     "text": [
      "regularization_factors, val_score: 36.007083:   0%|          | 0/20 [00:00<?, ?it/s]"
     ]
    },
    {
     "name": "stdout",
     "output_type": "stream",
     "text": [
      "Training until validation scores don't improve for 20 rounds\n",
      "[100]\tvalid_0's l1: 67.487\tvalid_1's l1: 61.054\n",
      "[200]\tvalid_0's l1: 45.0881\tvalid_1's l1: 45.0678\n",
      "[300]\tvalid_0's l1: 35.0717\tvalid_1's l1: 38.805\n",
      "[400]\tvalid_0's l1: 30.251\tvalid_1's l1: 36.8146\n",
      "[500]\tvalid_0's l1: 28.1375\tvalid_1's l1: 36.2275\n",
      "Early stopping, best iteration is:\n",
      "[567]\tvalid_0's l1: 27.4886\tvalid_1's l1: 36.0552\n"
     ]
    },
    {
     "name": "stderr",
     "output_type": "stream",
     "text": [
      "regularization_factors, val_score: 36.007083:   5%|5         | 1/20 [00:00<00:17,  1.11it/s]\u001b[32m[I 2022-12-02 14:07:25,453]\u001b[0m Trial 43 finished with value: 36.055178124817814 and parameters: {'lambda_l1': 5.446051860489687e-08, 'lambda_l2': 0.00015397671043032669}. Best is trial 43 with value: 36.055178124817814.\u001b[0m\n",
      "regularization_factors, val_score: 36.007083:   5%|5         | 1/20 [00:00<00:17,  1.11it/s]"
     ]
    },
    {
     "name": "stdout",
     "output_type": "stream",
     "text": [
      "Training until validation scores don't improve for 20 rounds\n",
      "[100]\tvalid_0's l1: 67.5999\tvalid_1's l1: 60.9287\n",
      "[200]\tvalid_0's l1: 44.9871\tvalid_1's l1: 44.9316\n",
      "[300]\tvalid_0's l1: 35.0507\tvalid_1's l1: 38.7489\n",
      "[400]\tvalid_0's l1: 30.3105\tvalid_1's l1: 36.8115\n",
      "[500]\tvalid_0's l1: 28.2376\tvalid_1's l1: 36.2513\n",
      "Early stopping, best iteration is:\n",
      "[539]\tvalid_0's l1: 27.7653\tvalid_1's l1: 36.1134\n"
     ]
    },
    {
     "name": "stderr",
     "output_type": "stream",
     "text": [
      "regularization_factors, val_score: 36.007083:  10%|#         | 2/20 [00:01<00:16,  1.11it/s]\u001b[32m[I 2022-12-02 14:07:26,349]\u001b[0m Trial 44 finished with value: 36.11340200217118 and parameters: {'lambda_l1': 0.0006951736615988479, 'lambda_l2': 2.7980963630974885e-07}. Best is trial 43 with value: 36.055178124817814.\u001b[0m\n",
      "regularization_factors, val_score: 36.007083:  10%|#         | 2/20 [00:01<00:16,  1.11it/s]"
     ]
    },
    {
     "name": "stdout",
     "output_type": "stream",
     "text": [
      "Training until validation scores don't improve for 20 rounds\n",
      "[100]\tvalid_0's l1: 68.7542\tvalid_1's l1: 61.7506\n",
      "[200]\tvalid_0's l1: 46.0734\tvalid_1's l1: 45.4225\n",
      "[300]\tvalid_0's l1: 35.8925\tvalid_1's l1: 39.1521\n",
      "[400]\tvalid_0's l1: 30.7347\tvalid_1's l1: 36.9382\n",
      "[500]\tvalid_0's l1: 28.4443\tvalid_1's l1: 36.3484\n",
      "Early stopping, best iteration is:\n",
      "[567]\tvalid_0's l1: 27.7317\tvalid_1's l1: 36.1989\n"
     ]
    },
    {
     "name": "stderr",
     "output_type": "stream",
     "text": [
      "regularization_factors, val_score: 36.007083:  15%|#5        | 3/20 [00:02<00:14,  1.16it/s]\u001b[32m[I 2022-12-02 14:07:27,168]\u001b[0m Trial 45 finished with value: 36.19894250461157 and parameters: {'lambda_l1': 0.0006162367859335853, 'lambda_l2': 0.14614502742266194}. Best is trial 43 with value: 36.055178124817814.\u001b[0m\n",
      "regularization_factors, val_score: 36.007083:  15%|#5        | 3/20 [00:02<00:14,  1.16it/s]"
     ]
    },
    {
     "name": "stdout",
     "output_type": "stream",
     "text": [
      "Training until validation scores don't improve for 20 rounds\n",
      "[100]\tvalid_0's l1: 69.601\tvalid_1's l1: 62.613\n",
      "[200]\tvalid_0's l1: 47.2641\tvalid_1's l1: 46.5162\n",
      "[300]\tvalid_0's l1: 36.8911\tvalid_1's l1: 40.014\n",
      "[400]\tvalid_0's l1: 31.4439\tvalid_1's l1: 37.4348\n",
      "[500]\tvalid_0's l1: 28.8733\tvalid_1's l1: 36.5727\n"
     ]
    },
    {
     "name": "stderr",
     "output_type": "stream",
     "text": [
      "regularization_factors, val_score: 36.007083:  20%|##        | 4/20 [00:03<00:13,  1.17it/s]\u001b[32m[I 2022-12-02 14:07:28,015]\u001b[0m Trial 46 finished with value: 36.29657733458726 and parameters: {'lambda_l1': 0.009607435379434518, 'lambda_l2': 0.43371270984430177}. Best is trial 43 with value: 36.055178124817814.\u001b[0m\n",
      "regularization_factors, val_score: 36.007083:  20%|##        | 4/20 [00:03<00:13,  1.17it/s]"
     ]
    },
    {
     "name": "stdout",
     "output_type": "stream",
     "text": [
      "Early stopping, best iteration is:\n",
      "[563]\tvalid_0's l1: 28.0395\tvalid_1's l1: 36.2966\n",
      "Training until validation scores don't improve for 20 rounds\n",
      "[100]\tvalid_0's l1: 69.9705\tvalid_1's l1: 62.9534\n",
      "[200]\tvalid_0's l1: 47.2525\tvalid_1's l1: 46.4408\n",
      "[300]\tvalid_0's l1: 36.9833\tvalid_1's l1: 39.8321\n",
      "[400]\tvalid_0's l1: 31.2855\tvalid_1's l1: 37.3719\n",
      "[500]\tvalid_0's l1: 28.7068\tvalid_1's l1: 36.6815\n",
      "Early stopping, best iteration is:\n",
      "[555]\tvalid_0's l1: 27.9483\tvalid_1's l1: 36.4792\n"
     ]
    },
    {
     "name": "stderr",
     "output_type": "stream",
     "text": [
      "regularization_factors, val_score: 36.007083:  25%|##5       | 5/20 [00:04<00:13,  1.14it/s]\u001b[32m[I 2022-12-02 14:07:28,937]\u001b[0m Trial 47 finished with value: 36.47917425909969 and parameters: {'lambda_l1': 1.813239775304368e-07, 'lambda_l2': 0.9088629488102915}. Best is trial 43 with value: 36.055178124817814.\u001b[0m\n",
      "regularization_factors, val_score: 36.007083:  25%|##5       | 5/20 [00:04<00:13,  1.14it/s]"
     ]
    },
    {
     "name": "stdout",
     "output_type": "stream",
     "text": [
      "Training until validation scores don't improve for 20 rounds\n",
      "[100]\tvalid_0's l1: 74.6194\tvalid_1's l1: 67.4319\n",
      "[200]\tvalid_0's l1: 53.5947\tvalid_1's l1: 51.9555\n",
      "[300]\tvalid_0's l1: 42.2461\tvalid_1's l1: 44.6675\n",
      "[400]\tvalid_0's l1: 36.6075\tvalid_1's l1: 41.2942\n",
      "[500]\tvalid_0's l1: 33.7069\tvalid_1's l1: 39.6793\n",
      "[600]\tvalid_0's l1: 31.2338\tvalid_1's l1: 38.3357\n",
      "[700]\tvalid_0's l1: 29.5422\tvalid_1's l1: 37.6259\n",
      "Early stopping, best iteration is:\n",
      "[693]\tvalid_0's l1: 29.568\tvalid_1's l1: 37.5947\n"
     ]
    },
    {
     "name": "stderr",
     "output_type": "stream",
     "text": [
      "regularization_factors, val_score: 36.007083:  30%|###       | 6/20 [00:05<00:13,  1.08it/s]\u001b[32m[I 2022-12-02 14:07:29,962]\u001b[0m Trial 48 finished with value: 37.594676067253054 and parameters: {'lambda_l1': 4.137570174532633, 'lambda_l2': 0.4257089404048889}. Best is trial 43 with value: 36.055178124817814.\u001b[0m\n",
      "regularization_factors, val_score: 36.007083:  30%|###       | 6/20 [00:05<00:13,  1.08it/s]"
     ]
    },
    {
     "name": "stdout",
     "output_type": "stream",
     "text": [
      "Training until validation scores don't improve for 20 rounds\n",
      "[100]\tvalid_0's l1: 75.2629\tvalid_1's l1: 67.8364\n",
      "[200]\tvalid_0's l1: 55.5676\tvalid_1's l1: 54.0781\n",
      "[300]\tvalid_0's l1: 44.4221\tvalid_1's l1: 46.7063\n",
      "[400]\tvalid_0's l1: 38.9739\tvalid_1's l1: 43.4506\n",
      "[500]\tvalid_0's l1: 34.8206\tvalid_1's l1: 40.6254\n",
      "[600]\tvalid_0's l1: 32.373\tvalid_1's l1: 39.0632\n",
      "[700]\tvalid_0's l1: 30.567\tvalid_1's l1: 37.969\n",
      "[800]\tvalid_0's l1: 29.2092\tvalid_1's l1: 37.4834\n",
      "Early stopping, best iteration is:\n",
      "[815]\tvalid_0's l1: 29.0227\tvalid_1's l1: 37.4391\n"
     ]
    },
    {
     "name": "stderr",
     "output_type": "stream",
     "text": [
      "regularization_factors, val_score: 36.007083:  35%|###5      | 7/20 [00:06<00:12,  1.03it/s]\u001b[32m[I 2022-12-02 14:07:31,032]\u001b[0m Trial 49 finished with value: 37.439068798335946 and parameters: {'lambda_l1': 7.499638536321821, 'lambda_l2': 1.6692183012980364}. Best is trial 43 with value: 36.055178124817814.\u001b[0m\n",
      "regularization_factors, val_score: 36.007083:  35%|###5      | 7/20 [00:06<00:12,  1.03it/s]"
     ]
    },
    {
     "name": "stdout",
     "output_type": "stream",
     "text": [
      "Training until validation scores don't improve for 20 rounds\n",
      "[100]\tvalid_0's l1: 67.5924\tvalid_1's l1: 60.8786\n",
      "[200]\tvalid_0's l1: 44.9955\tvalid_1's l1: 44.8276\n",
      "[300]\tvalid_0's l1: 35.0867\tvalid_1's l1: 38.6955\n",
      "[400]\tvalid_0's l1: 30.3023\tvalid_1's l1: 36.7687\n",
      "[500]\tvalid_0's l1: 28.1634\tvalid_1's l1: 36.0818\n"
     ]
    },
    {
     "name": "stderr",
     "output_type": "stream",
     "text": [
      "regularization_factors, val_score: 35.906349:  40%|####      | 8/20 [00:07<00:11,  1.04it/s]\u001b[32m[I 2022-12-02 14:07:31,968]\u001b[0m Trial 50 finished with value: 35.9063488288379 and parameters: {'lambda_l1': 0.0002836044040572499, 'lambda_l2': 3.0973533331615914e-05}. Best is trial 50 with value: 35.9063488288379.\u001b[0m\n",
      "regularization_factors, val_score: 35.906349:  40%|####      | 8/20 [00:07<00:11,  1.04it/s]"
     ]
    },
    {
     "name": "stdout",
     "output_type": "stream",
     "text": [
      "Early stopping, best iteration is:\n",
      "[567]\tvalid_0's l1: 27.4618\tvalid_1's l1: 35.9063\n",
      "Training until validation scores don't improve for 20 rounds\n",
      "[100]\tvalid_0's l1: 67.5794\tvalid_1's l1: 61.0751\n",
      "[200]\tvalid_0's l1: 45.1537\tvalid_1's l1: 45.0673\n",
      "[300]\tvalid_0's l1: 35.1543\tvalid_1's l1: 38.8269\n",
      "[400]\tvalid_0's l1: 30.2524\tvalid_1's l1: 36.6687\n",
      "[500]\tvalid_0's l1: 28.1132\tvalid_1's l1: 36.0007\n",
      "Early stopping, best iteration is:\n",
      "[567]\tvalid_0's l1: 27.459\tvalid_1's l1: 35.7895\n"
     ]
    },
    {
     "name": "stderr",
     "output_type": "stream",
     "text": [
      "regularization_factors, val_score: 35.789527:  45%|####5     | 9/20 [00:08<00:10,  1.02it/s]\u001b[32m[I 2022-12-02 14:07:32,988]\u001b[0m Trial 51 finished with value: 35.78952664422407 and parameters: {'lambda_l1': 3.7330302898407536e-06, 'lambda_l2': 1.7163506504800987e-08}. Best is trial 51 with value: 35.78952664422407.\u001b[0m\n",
      "regularization_factors, val_score: 35.789527:  45%|####5     | 9/20 [00:08<00:10,  1.02it/s]"
     ]
    },
    {
     "name": "stdout",
     "output_type": "stream",
     "text": [
      "Training until validation scores don't improve for 20 rounds\n",
      "[100]\tvalid_0's l1: 68.9975\tvalid_1's l1: 61.9466\n",
      "[200]\tvalid_0's l1: 46.1764\tvalid_1's l1: 45.6111\n",
      "[300]\tvalid_0's l1: 35.8896\tvalid_1's l1: 39.0678\n",
      "[400]\tvalid_0's l1: 30.8737\tvalid_1's l1: 36.9532\n",
      "[500]\tvalid_0's l1: 28.6995\tvalid_1's l1: 36.3475\n",
      "[600]\tvalid_0's l1: 27.5823\tvalid_1's l1: 36.1515\n"
     ]
    },
    {
     "name": "stderr",
     "output_type": "stream",
     "text": [
      "regularization_factors, val_score: 35.789527:  50%|#####     | 10/20 [00:10<00:11,  1.18s/it]\u001b[32m[I 2022-12-02 14:07:34,620]\u001b[0m Trial 52 finished with value: 36.085001250394534 and parameters: {'lambda_l1': 0.03539820094370583, 'lambda_l2': 0.00017126151860989743}. Best is trial 51 with value: 35.78952664422407.\u001b[0m\n",
      "regularization_factors, val_score: 35.789527:  50%|#####     | 10/20 [00:10<00:11,  1.18s/it]"
     ]
    },
    {
     "name": "stdout",
     "output_type": "stream",
     "text": [
      "Early stopping, best iteration is:\n",
      "[635]\tvalid_0's l1: 27.3207\tvalid_1's l1: 36.085\n",
      "Training until validation scores don't improve for 20 rounds\n",
      "[100]\tvalid_0's l1: 67.5794\tvalid_1's l1: 61.0751\n",
      "[200]\tvalid_0's l1: 45.1537\tvalid_1's l1: 45.0673\n",
      "[300]\tvalid_0's l1: 35.1543\tvalid_1's l1: 38.8269\n",
      "[400]\tvalid_0's l1: 30.2524\tvalid_1's l1: 36.6687\n",
      "[500]\tvalid_0's l1: 28.1132\tvalid_1's l1: 36.0007\n"
     ]
    },
    {
     "name": "stderr",
     "output_type": "stream",
     "text": [
      "regularization_factors, val_score: 35.789527:  55%|#####5    | 11/20 [00:11<00:12,  1.35s/it]\u001b[32m[I 2022-12-02 14:07:36,365]\u001b[0m Trial 53 finished with value: 35.78952664422407 and parameters: {'lambda_l1': 4.84947119213577e-06, 'lambda_l2': 1.4817356634356397e-08}. Best is trial 51 with value: 35.78952664422407.\u001b[0m\n",
      "regularization_factors, val_score: 35.789527:  55%|#####5    | 11/20 [00:11<00:12,  1.35s/it]"
     ]
    },
    {
     "name": "stdout",
     "output_type": "stream",
     "text": [
      "Early stopping, best iteration is:\n",
      "[567]\tvalid_0's l1: 27.459\tvalid_1's l1: 35.7895\n",
      "Training until validation scores don't improve for 20 rounds\n",
      "[100]\tvalid_0's l1: 67.5783\tvalid_1's l1: 61.0752\n",
      "[200]\tvalid_0's l1: 45.1538\tvalid_1's l1: 45.0675\n",
      "[300]\tvalid_0's l1: 35.1912\tvalid_1's l1: 38.8341\n",
      "[400]\tvalid_0's l1: 30.364\tvalid_1's l1: 36.6595\n",
      "[500]\tvalid_0's l1: 28.2461\tvalid_1's l1: 36.1001\n"
     ]
    },
    {
     "name": "stderr",
     "output_type": "stream",
     "text": [
      "regularization_factors, val_score: 35.789527:  60%|######    | 12/20 [00:13<00:10,  1.36s/it]\u001b[32m[I 2022-12-02 14:07:37,748]\u001b[0m Trial 54 finished with value: 35.9812312156226 and parameters: {'lambda_l1': 3.9462873373199455e-06, 'lambda_l2': 1.0819425026608174e-08}. Best is trial 51 with value: 35.78952664422407.\u001b[0m\n",
      "regularization_factors, val_score: 35.789527:  60%|######    | 12/20 [00:13<00:10,  1.36s/it]"
     ]
    },
    {
     "name": "stdout",
     "output_type": "stream",
     "text": [
      "Early stopping, best iteration is:\n",
      "[567]\tvalid_0's l1: 27.5517\tvalid_1's l1: 35.9812\n",
      "Training until validation scores don't improve for 20 rounds\n",
      "[100]\tvalid_0's l1: 67.5783\tvalid_1's l1: 61.0752\n",
      "[200]\tvalid_0's l1: 45.1538\tvalid_1's l1: 45.0675\n",
      "[300]\tvalid_0's l1: 35.1912\tvalid_1's l1: 38.8341\n",
      "[400]\tvalid_0's l1: 30.364\tvalid_1's l1: 36.6595\n",
      "[500]\tvalid_0's l1: 28.2461\tvalid_1's l1: 36.1001\n",
      "Early stopping, best iteration is:\n",
      "[567]\tvalid_0's l1: 27.5517\tvalid_1's l1: 35.9812\n"
     ]
    },
    {
     "name": "stderr",
     "output_type": "stream",
     "text": [
      "regularization_factors, val_score: 35.789527:  65%|######5   | 13/20 [00:14<00:08,  1.24s/it]\u001b[32m[I 2022-12-02 14:07:38,714]\u001b[0m Trial 55 finished with value: 35.9812312156226 and parameters: {'lambda_l1': 5.114571682093755e-06, 'lambda_l2': 3.9010461276832943e-07}. Best is trial 51 with value: 35.78952664422407.\u001b[0m\n",
      "regularization_factors, val_score: 35.789527:  65%|######5   | 13/20 [00:14<00:08,  1.24s/it]"
     ]
    },
    {
     "name": "stdout",
     "output_type": "stream",
     "text": [
      "Training until validation scores don't improve for 20 rounds\n",
      "[100]\tvalid_0's l1: 67.5783\tvalid_1's l1: 61.0752\n",
      "[200]\tvalid_0's l1: 45.1538\tvalid_1's l1: 45.0675\n",
      "[300]\tvalid_0's l1: 35.1912\tvalid_1's l1: 38.8341\n",
      "[400]\tvalid_0's l1: 30.364\tvalid_1's l1: 36.6595\n",
      "[500]\tvalid_0's l1: 28.2461\tvalid_1's l1: 36.1001\n"
     ]
    },
    {
     "name": "stderr",
     "output_type": "stream",
     "text": [
      "regularization_factors, val_score: 35.789527:  70%|#######   | 14/20 [00:15<00:07,  1.17s/it]\u001b[32m[I 2022-12-02 14:07:39,715]\u001b[0m Trial 56 finished with value: 35.9812312156226 and parameters: {'lambda_l1': 5.6028559663512916e-06, 'lambda_l2': 1.077809618463679e-08}. Best is trial 51 with value: 35.78952664422407.\u001b[0m\n",
      "regularization_factors, val_score: 35.789527:  70%|#######   | 14/20 [00:15<00:07,  1.17s/it]"
     ]
    },
    {
     "name": "stdout",
     "output_type": "stream",
     "text": [
      "Early stopping, best iteration is:\n",
      "[567]\tvalid_0's l1: 27.5517\tvalid_1's l1: 35.9812\n",
      "Training until validation scores don't improve for 20 rounds\n",
      "[100]\tvalid_0's l1: 67.5783\tvalid_1's l1: 61.0752\n",
      "[200]\tvalid_0's l1: 45.1538\tvalid_1's l1: 45.0675\n",
      "[300]\tvalid_0's l1: 35.1912\tvalid_1's l1: 38.8341\n",
      "[400]\tvalid_0's l1: 30.364\tvalid_1's l1: 36.6595\n",
      "[500]\tvalid_0's l1: 28.2461\tvalid_1's l1: 36.1001\n",
      "Early stopping, best iteration is:\n",
      "[567]\tvalid_0's l1: 27.5517\tvalid_1's l1: 35.9812\n"
     ]
    },
    {
     "name": "stderr",
     "output_type": "stream",
     "text": [
      "regularization_factors, val_score: 35.789527:  75%|#######5  | 15/20 [00:16<00:05,  1.08s/it]\u001b[32m[I 2022-12-02 14:07:40,578]\u001b[0m Trial 57 finished with value: 35.9812312156226 and parameters: {'lambda_l1': 7.863762415243712e-07, 'lambda_l2': 3.5038228236276753e-06}. Best is trial 51 with value: 35.78952664422407.\u001b[0m\n",
      "regularization_factors, val_score: 35.789527:  75%|#######5  | 15/20 [00:16<00:05,  1.08s/it]"
     ]
    },
    {
     "name": "stdout",
     "output_type": "stream",
     "text": [
      "Training until validation scores don't improve for 20 rounds\n",
      "[100]\tvalid_0's l1: 68.0132\tvalid_1's l1: 61.2128\n",
      "[200]\tvalid_0's l1: 45.3392\tvalid_1's l1: 45.1735\n",
      "[300]\tvalid_0's l1: 35.2876\tvalid_1's l1: 38.9695\n",
      "[400]\tvalid_0's l1: 30.3664\tvalid_1's l1: 36.8674\n"
     ]
    },
    {
     "name": "stderr",
     "output_type": "stream",
     "text": [
      "regularization_factors, val_score: 35.789527:  80%|########  | 16/20 [00:16<00:04,  1.00s/it]"
     ]
    },
    {
     "name": "stdout",
     "output_type": "stream",
     "text": [
      "[500]\tvalid_0's l1: 28.1822\tvalid_1's l1: 36.2859\n",
      "Early stopping, best iteration is:\n",
      "[567]\tvalid_0's l1: 27.4404\tvalid_1's l1: 36.0488\n"
     ]
    },
    {
     "name": "stderr",
     "output_type": "stream",
     "text": [
      "\u001b[32m[I 2022-12-02 14:07:41,412]\u001b[0m Trial 58 finished with value: 36.04875734754441 and parameters: {'lambda_l1': 1.2499263894137476e-08, 'lambda_l2': 0.004561412586106032}. Best is trial 51 with value: 35.78952664422407.\u001b[0m\n",
      "regularization_factors, val_score: 35.789527:  80%|########  | 16/20 [00:16<00:04,  1.00s/it]"
     ]
    },
    {
     "name": "stdout",
     "output_type": "stream",
     "text": [
      "Training until validation scores don't improve for 20 rounds\n",
      "[100]\tvalid_0's l1: 67.4879\tvalid_1's l1: 61.0523\n",
      "[200]\tvalid_0's l1: 45.1466\tvalid_1's l1: 45.1333\n",
      "[300]\tvalid_0's l1: 35.0543\tvalid_1's l1: 38.9008\n",
      "[400]\tvalid_0's l1: 30.1773\tvalid_1's l1: 36.7525\n"
     ]
    },
    {
     "name": "stderr",
     "output_type": "stream",
     "text": [
      "regularization_factors, val_score: 35.789527:  85%|########5 | 17/20 [00:17<00:02,  1.07it/s]\u001b[32m[I 2022-12-02 14:07:42,195]\u001b[0m Trial 59 finished with value: 35.93624327048629 and parameters: {'lambda_l1': 4.0207214295840374e-05, 'lambda_l2': 1.9480994001235022e-07}. Best is trial 51 with value: 35.78952664422407.\u001b[0m\n",
      "regularization_factors, val_score: 35.789527:  85%|########5 | 17/20 [00:17<00:02,  1.07it/s]"
     ]
    },
    {
     "name": "stdout",
     "output_type": "stream",
     "text": [
      "[500]\tvalid_0's l1: 28.0972\tvalid_1's l1: 36.07\n",
      "Early stopping, best iteration is:\n",
      "[539]\tvalid_0's l1: 27.6497\tvalid_1's l1: 35.9362\n",
      "Training until validation scores don't improve for 20 rounds\n",
      "[100]\tvalid_0's l1: 68.014\tvalid_1's l1: 61.2114\n",
      "[200]\tvalid_0's l1: 45.2659\tvalid_1's l1: 45.1204\n",
      "[300]\tvalid_0's l1: 35.3716\tvalid_1's l1: 38.9581\n",
      "[400]\tvalid_0's l1: 30.3182\tvalid_1's l1: 36.6922\n",
      "[500]\tvalid_0's l1: 28.1962\tvalid_1's l1: 36.1867\n"
     ]
    },
    {
     "name": "stderr",
     "output_type": "stream",
     "text": [
      "regularization_factors, val_score: 35.789527:  90%|######### | 18/20 [00:18<00:01,  1.10it/s]\u001b[32m[I 2022-12-02 14:07:43,042]\u001b[0m Trial 60 finished with value: 36.04822797242495 and parameters: {'lambda_l1': 4.880717497494483e-05, 'lambda_l2': 0.00551182642794851}. Best is trial 51 with value: 35.78952664422407.\u001b[0m\n",
      "regularization_factors, val_score: 35.789527:  90%|######### | 18/20 [00:18<00:01,  1.10it/s]"
     ]
    },
    {
     "name": "stdout",
     "output_type": "stream",
     "text": [
      "Early stopping, best iteration is:\n",
      "[539]\tvalid_0's l1: 27.686\tvalid_1's l1: 36.0482\n",
      "Training until validation scores don't improve for 20 rounds\n",
      "[100]\tvalid_0's l1: 68.4585\tvalid_1's l1: 61.5377\n",
      "[200]\tvalid_0's l1: 45.6634\tvalid_1's l1: 45.201\n",
      "[300]\tvalid_0's l1: 35.2917\tvalid_1's l1: 38.8317\n",
      "[400]\tvalid_0's l1: 30.3308\tvalid_1's l1: 36.8976\n",
      "[500]\tvalid_0's l1: 28.1865\tvalid_1's l1: 36.1761\n"
     ]
    },
    {
     "name": "stderr",
     "output_type": "stream",
     "text": [
      "regularization_factors, val_score: 35.789527:  95%|#########5| 19/20 [00:19<00:01,  1.03s/it]\u001b[32m[I 2022-12-02 14:07:44,346]\u001b[0m Trial 61 finished with value: 36.08490623346733 and parameters: {'lambda_l1': 0.011693224450315837, 'lambda_l2': 4.002325756300233e-06}. Best is trial 51 with value: 35.78952664422407.\u001b[0m\n",
      "regularization_factors, val_score: 35.789527:  95%|#########5| 19/20 [00:19<00:01,  1.03s/it]"
     ]
    },
    {
     "name": "stdout",
     "output_type": "stream",
     "text": [
      "Early stopping, best iteration is:\n",
      "[538]\tvalid_0's l1: 27.7269\tvalid_1's l1: 36.0849\n",
      "Training until validation scores don't improve for 20 rounds\n",
      "[100]\tvalid_0's l1: 67.5794\tvalid_1's l1: 61.0751\n",
      "[200]\tvalid_0's l1: 45.1406\tvalid_1's l1: 45.0421\n",
      "[300]\tvalid_0's l1: 35.1797\tvalid_1's l1: 38.9187\n",
      "[400]\tvalid_0's l1: 30.2429\tvalid_1's l1: 36.8718\n",
      "[500]\tvalid_0's l1: 28.1226\tvalid_1's l1: 36.3476\n",
      "Early stopping, best iteration is:\n",
      "[567]\tvalid_0's l1: 27.4684\tvalid_1's l1: 36.1159\n"
     ]
    },
    {
     "name": "stderr",
     "output_type": "stream",
     "text": [
      "regularization_factors, val_score: 35.789527: 100%|##########| 20/20 [00:21<00:00,  1.10s/it]\u001b[32m[I 2022-12-02 14:07:45,604]\u001b[0m Trial 62 finished with value: 36.11588693490897 and parameters: {'lambda_l1': 5.229307741983869e-07, 'lambda_l2': 6.455308757196873e-08}. Best is trial 51 with value: 35.78952664422407.\u001b[0m\n",
      "regularization_factors, val_score: 35.789527: 100%|##########| 20/20 [00:21<00:00,  1.05s/it]\n",
      "min_data_in_leaf, val_score: 35.789527:   0%|          | 0/5 [00:00<?, ?it/s]"
     ]
    },
    {
     "name": "stdout",
     "output_type": "stream",
     "text": [
      "Training until validation scores don't improve for 20 rounds\n",
      "[100]\tvalid_0's l1: 67.5794\tvalid_1's l1: 61.0751\n",
      "[200]\tvalid_0's l1: 45.1537\tvalid_1's l1: 45.0673\n",
      "[300]\tvalid_0's l1: 35.1543\tvalid_1's l1: 38.8269\n",
      "[400]\tvalid_0's l1: 30.2524\tvalid_1's l1: 36.6687\n",
      "[500]\tvalid_0's l1: 28.1132\tvalid_1's l1: 36.0007\n"
     ]
    },
    {
     "name": "stderr",
     "output_type": "stream",
     "text": [
      "min_data_in_leaf, val_score: 35.789527:  20%|##        | 1/5 [00:01<00:04,  1.00s/it]\u001b[32m[I 2022-12-02 14:07:46,622]\u001b[0m Trial 63 finished with value: 35.78952664422407 and parameters: {'min_child_samples': 50}. Best is trial 63 with value: 35.78952664422407.\u001b[0m\n",
      "min_data_in_leaf, val_score: 35.789527:  20%|##        | 1/5 [00:01<00:04,  1.00s/it]"
     ]
    },
    {
     "name": "stdout",
     "output_type": "stream",
     "text": [
      "Early stopping, best iteration is:\n",
      "[567]\tvalid_0's l1: 27.459\tvalid_1's l1: 35.7895\n",
      "Training until validation scores don't improve for 20 rounds\n",
      "[100]\tvalid_0's l1: 67.5794\tvalid_1's l1: 61.0751\n",
      "[200]\tvalid_0's l1: 45.1537\tvalid_1's l1: 45.0673\n",
      "[300]\tvalid_0's l1: 35.1543\tvalid_1's l1: 38.8269\n",
      "[400]\tvalid_0's l1: 30.2524\tvalid_1's l1: 36.6687\n",
      "[500]\tvalid_0's l1: 28.1132\tvalid_1's l1: 36.0007\n",
      "Early stopping, best iteration is:\n",
      "[567]\tvalid_0's l1: 27.459\tvalid_1's l1: 35.7895\n"
     ]
    },
    {
     "name": "stderr",
     "output_type": "stream",
     "text": [
      "min_data_in_leaf, val_score: 35.789527:  40%|####      | 2/5 [00:01<00:02,  1.11it/s]\u001b[32m[I 2022-12-02 14:07:47,458]\u001b[0m Trial 64 finished with value: 35.78952664422407 and parameters: {'min_child_samples': 5}. Best is trial 63 with value: 35.78952664422407.\u001b[0m\n",
      "min_data_in_leaf, val_score: 35.789527:  40%|####      | 2/5 [00:01<00:02,  1.11it/s]"
     ]
    },
    {
     "name": "stdout",
     "output_type": "stream",
     "text": [
      "Training until validation scores don't improve for 20 rounds\n",
      "[100]\tvalid_0's l1: 67.5794\tvalid_1's l1: 61.0751\n",
      "[200]\tvalid_0's l1: 45.1537\tvalid_1's l1: 45.0673\n",
      "[300]\tvalid_0's l1: 35.1543\tvalid_1's l1: 38.8269\n",
      "[400]\tvalid_0's l1: 30.2524\tvalid_1's l1: 36.6687\n",
      "[500]\tvalid_0's l1: 28.1132\tvalid_1's l1: 36.0007\n"
     ]
    },
    {
     "name": "stderr",
     "output_type": "stream",
     "text": [
      "min_data_in_leaf, val_score: 35.789527:  60%|######    | 3/5 [00:02<00:01,  1.03it/s]\u001b[32m[I 2022-12-02 14:07:48,501]\u001b[0m Trial 65 finished with value: 35.78952664422407 and parameters: {'min_child_samples': 100}. Best is trial 63 with value: 35.78952664422407.\u001b[0m\n",
      "min_data_in_leaf, val_score: 35.789527:  60%|######    | 3/5 [00:02<00:01,  1.03it/s]"
     ]
    },
    {
     "name": "stdout",
     "output_type": "stream",
     "text": [
      "Early stopping, best iteration is:\n",
      "[567]\tvalid_0's l1: 27.459\tvalid_1's l1: 35.7895\n",
      "Training until validation scores don't improve for 20 rounds\n",
      "[100]\tvalid_0's l1: 67.5794\tvalid_1's l1: 61.0751\n",
      "[200]\tvalid_0's l1: 45.1537\tvalid_1's l1: 45.0673\n",
      "[300]\tvalid_0's l1: 35.1543\tvalid_1's l1: 38.8269\n",
      "[400]\tvalid_0's l1: 30.2524\tvalid_1's l1: 36.6687\n",
      "[500]\tvalid_0's l1: 28.1132\tvalid_1's l1: 36.0007\n",
      "Early stopping, best iteration is:\n",
      "[567]\tvalid_0's l1: 27.459\tvalid_1's l1: 35.7895\n"
     ]
    },
    {
     "name": "stderr",
     "output_type": "stream",
     "text": [
      "min_data_in_leaf, val_score: 35.789527:  80%|########  | 4/5 [00:04<00:01,  1.11s/it]\u001b[32m[I 2022-12-02 14:07:49,820]\u001b[0m Trial 66 finished with value: 35.78952664422407 and parameters: {'min_child_samples': 10}. Best is trial 63 with value: 35.78952664422407.\u001b[0m\n",
      "min_data_in_leaf, val_score: 35.789527:  80%|########  | 4/5 [00:04<00:01,  1.11s/it]"
     ]
    },
    {
     "name": "stdout",
     "output_type": "stream",
     "text": [
      "Training until validation scores don't improve for 20 rounds\n",
      "[100]\tvalid_0's l1: 67.5794\tvalid_1's l1: 61.0751\n",
      "[200]\tvalid_0's l1: 45.1537\tvalid_1's l1: 45.0673\n",
      "[300]\tvalid_0's l1: 35.1543\tvalid_1's l1: 38.8269\n",
      "[400]\tvalid_0's l1: 30.2524\tvalid_1's l1: 36.6687\n",
      "[500]\tvalid_0's l1: 28.1132\tvalid_1's l1: 36.0007\n"
     ]
    },
    {
     "name": "stderr",
     "output_type": "stream",
     "text": [
      "min_data_in_leaf, val_score: 35.789527: 100%|##########| 5/5 [00:05<00:00,  1.20s/it]\u001b[32m[I 2022-12-02 14:07:51,189]\u001b[0m Trial 67 finished with value: 35.78952664422407 and parameters: {'min_child_samples': 25}. Best is trial 63 with value: 35.78952664422407.\u001b[0m\n",
      "min_data_in_leaf, val_score: 35.789527: 100%|##########| 5/5 [00:05<00:00,  1.11s/it]\n",
      "\u001b[32m[I 2022-12-02 14:07:51,238]\u001b[0m Trial 1 finished with value: 57.042631414338835 and parameters: {'num_leaves': 3126, 'feature_fraction': 0.4865931655574428, 'bagging_fraction': 0.9355982957622987, 'min_data_in_leaf': 4, 'lambda_l1': 0.510451231572153, 'lambda_l2': 2.225171653729689}. Best is trial 1 with value: 57.042631414338835.\u001b[0m\n"
     ]
    },
    {
     "name": "stdout",
     "output_type": "stream",
     "text": [
      "Early stopping, best iteration is:\n",
      "[567]\tvalid_0's l1: 27.459\tvalid_1's l1: 35.7895\n"
     ]
    },
    {
     "name": "stderr",
     "output_type": "stream",
     "text": [
      "\u001b[32m[I 2022-12-02 14:07:51,245]\u001b[0m A new study created in memory with name: no-name-355d55ba-cbfc-45be-99d6-981ee1f92d26\u001b[0m\n",
      "feature_fraction, val_score: inf:   0%|          | 0/7 [00:00<?, ?it/s]"
     ]
    },
    {
     "name": "stdout",
     "output_type": "stream",
     "text": [
      "[LightGBM] [Warning] min_data_in_leaf is set=7, min_child_samples=20 will be ignored. Current value: min_data_in_leaf=7\n",
      "Training until validation scores don't improve for 20 rounds\n",
      "[100]\tvalid_0's l1: 65.3024\tvalid_1's l1: 63.1868\n",
      "[200]\tvalid_0's l1: 39.2834\tvalid_1's l1: 46.4255\n",
      "[300]\tvalid_0's l1: 28.3161\tvalid_1's l1: 40.7659\n",
      "[400]\tvalid_0's l1: 23.8994\tvalid_1's l1: 39.4158\n",
      "Early stopping, best iteration is:\n",
      "[431]\tvalid_0's l1: 23.1374\tvalid_1's l1: 39.3067\n"
     ]
    },
    {
     "name": "stderr",
     "output_type": "stream",
     "text": [
      "feature_fraction, val_score: 39.306718:  14%|#4        | 1/7 [00:04<00:24,  4.01s/it]\u001b[32m[I 2022-12-02 14:07:55,268]\u001b[0m Trial 0 finished with value: 39.306718194865105 and parameters: {'feature_fraction': 0.8999999999999999}. Best is trial 0 with value: 39.306718194865105.\u001b[0m\n",
      "feature_fraction, val_score: 39.306718:  14%|#4        | 1/7 [00:04<00:24,  4.01s/it]"
     ]
    },
    {
     "name": "stdout",
     "output_type": "stream",
     "text": [
      "Training until validation scores don't improve for 20 rounds\n",
      "[100]\tvalid_0's l1: 71.5577\tvalid_1's l1: 65.8309\n",
      "[200]\tvalid_0's l1: 47.8017\tvalid_1's l1: 49.0809\n",
      "[300]\tvalid_0's l1: 35.3109\tvalid_1's l1: 41.4711\n",
      "[400]\tvalid_0's l1: 28.7815\tvalid_1's l1: 38.8013\n",
      "[500]\tvalid_0's l1: 25.8143\tvalid_1's l1: 37.9747\n",
      "Early stopping, best iteration is:\n",
      "[491]\tvalid_0's l1: 25.8942\tvalid_1's l1: 37.9625\n"
     ]
    },
    {
     "name": "stderr",
     "output_type": "stream",
     "text": [
      "feature_fraction, val_score: 37.962514:  29%|##8       | 2/7 [00:07<00:19,  3.84s/it]\u001b[32m[I 2022-12-02 14:07:58,991]\u001b[0m Trial 1 finished with value: 37.962513974608974 and parameters: {'feature_fraction': 0.5}. Best is trial 1 with value: 37.962513974608974.\u001b[0m\n",
      "feature_fraction, val_score: 37.962514:  29%|##8       | 2/7 [00:07<00:19,  3.84s/it]"
     ]
    },
    {
     "name": "stdout",
     "output_type": "stream",
     "text": [
      "Training until validation scores don't improve for 20 rounds\n",
      "[100]\tvalid_0's l1: 76.7323\tvalid_1's l1: 67.5556\n",
      "[200]\tvalid_0's l1: 51.2341\tvalid_1's l1: 49.5333\n",
      "[300]\tvalid_0's l1: 37.8192\tvalid_1's l1: 42.5841\n",
      "[400]\tvalid_0's l1: 30.8968\tvalid_1's l1: 40.0473\n",
      "[500]\tvalid_0's l1: 27.282\tvalid_1's l1: 39.1114\n",
      "[600]\tvalid_0's l1: 24.7275\tvalid_1's l1: 38.483\n",
      "Early stopping, best iteration is:\n",
      "[636]\tvalid_0's l1: 24.1639\tvalid_1's l1: 38.3982\n"
     ]
    },
    {
     "name": "stderr",
     "output_type": "stream",
     "text": [
      "feature_fraction, val_score: 37.962514:  43%|####2     | 3/7 [00:12<00:16,  4.09s/it]\u001b[32m[I 2022-12-02 14:08:03,388]\u001b[0m Trial 2 finished with value: 38.39818721334831 and parameters: {'feature_fraction': 0.6}. Best is trial 1 with value: 37.962513974608974.\u001b[0m\n",
      "feature_fraction, val_score: 37.962514:  43%|####2     | 3/7 [00:12<00:16,  4.09s/it]"
     ]
    },
    {
     "name": "stdout",
     "output_type": "stream",
     "text": [
      "Training until validation scores don't improve for 20 rounds\n",
      "[100]\tvalid_0's l1: 70.6321\tvalid_1's l1: 65.034\n",
      "[200]\tvalid_0's l1: 46.4159\tvalid_1's l1: 49.1144\n",
      "[300]\tvalid_0's l1: 33.9438\tvalid_1's l1: 42.7408\n",
      "[400]\tvalid_0's l1: 27.6959\tvalid_1's l1: 40.5206\n",
      "[500]\tvalid_0's l1: 24.5076\tvalid_1's l1: 39.6826\n",
      "Early stopping, best iteration is:\n",
      "[542]\tvalid_0's l1: 23.5049\tvalid_1's l1: 39.445\n"
     ]
    },
    {
     "name": "stderr",
     "output_type": "stream",
     "text": [
      "feature_fraction, val_score: 37.962514:  57%|#####7    | 4/7 [00:17<00:13,  4.53s/it]\u001b[32m[I 2022-12-02 14:08:08,579]\u001b[0m Trial 3 finished with value: 39.44497479530658 and parameters: {'feature_fraction': 0.7}. Best is trial 1 with value: 37.962513974608974.\u001b[0m\n",
      "feature_fraction, val_score: 37.962514:  57%|#####7    | 4/7 [00:17<00:13,  4.53s/it]"
     ]
    },
    {
     "name": "stdout",
     "output_type": "stream",
     "text": [
      "Training until validation scores don't improve for 20 rounds\n",
      "[100]\tvalid_0's l1: 59.1768\tvalid_1's l1: 61.8784\n",
      "[200]\tvalid_0's l1: 34.3114\tvalid_1's l1: 47.4395\n",
      "[300]\tvalid_0's l1: 25.4306\tvalid_1's l1: 42.7011\n",
      "[400]\tvalid_0's l1: 21.9878\tvalid_1's l1: 40.8855\n",
      "[500]\tvalid_0's l1: 20.5735\tvalid_1's l1: 40.3977\n",
      "Early stopping, best iteration is:\n",
      "[492]\tvalid_0's l1: 20.6552\tvalid_1's l1: 40.3852\n"
     ]
    },
    {
     "name": "stderr",
     "output_type": "stream",
     "text": [
      "feature_fraction, val_score: 37.962514:  71%|#######1  | 5/7 [00:22<00:09,  4.78s/it]\u001b[32m[I 2022-12-02 14:08:13,814]\u001b[0m Trial 4 finished with value: 40.38521927346674 and parameters: {'feature_fraction': 1.0}. Best is trial 1 with value: 37.962513974608974.\u001b[0m\n",
      "feature_fraction, val_score: 37.962514:  71%|#######1  | 5/7 [00:22<00:09,  4.78s/it]"
     ]
    },
    {
     "name": "stdout",
     "output_type": "stream",
     "text": [
      "Training until validation scores don't improve for 20 rounds\n",
      "[100]\tvalid_0's l1: 88.2964\tvalid_1's l1: 73.1885\n",
      "[200]\tvalid_0's l1: 71.8484\tvalid_1's l1: 60.2794\n",
      "[300]\tvalid_0's l1: 59.7838\tvalid_1's l1: 52.9118\n",
      "[400]\tvalid_0's l1: 51.8382\tvalid_1's l1: 49.063\n",
      "[500]\tvalid_0's l1: 45.3085\tvalid_1's l1: 45.8145\n",
      "[600]\tvalid_0's l1: 40.2135\tvalid_1's l1: 43.8845\n",
      "[700]\tvalid_0's l1: 37.2329\tvalid_1's l1: 42.5253\n",
      "[800]\tvalid_0's l1: 34.0702\tvalid_1's l1: 41.295\n",
      "[900]\tvalid_0's l1: 31.7211\tvalid_1's l1: 40.3419\n",
      "[1000]\tvalid_0's l1: 30.0786\tvalid_1's l1: 39.6111\n",
      "[1100]\tvalid_0's l1: 28.878\tvalid_1's l1: 39.1315\n",
      "Early stopping, best iteration is:\n",
      "[1135]\tvalid_0's l1: 28.2459\tvalid_1's l1: 38.9558\n"
     ]
    },
    {
     "name": "stderr",
     "output_type": "stream",
     "text": [
      "feature_fraction, val_score: 37.962514:  86%|########5 | 6/7 [00:28<00:05,  5.24s/it]\u001b[32m[I 2022-12-02 14:08:19,949]\u001b[0m Trial 5 finished with value: 38.95581634074934 and parameters: {'feature_fraction': 0.4}. Best is trial 1 with value: 37.962513974608974.\u001b[0m\n",
      "feature_fraction, val_score: 37.962514:  86%|########5 | 6/7 [00:28<00:05,  5.24s/it]"
     ]
    },
    {
     "name": "stdout",
     "output_type": "stream",
     "text": [
      "Training until validation scores don't improve for 20 rounds\n",
      "[100]\tvalid_0's l1: 70.6321\tvalid_1's l1: 65.034\n",
      "[200]\tvalid_0's l1: 46.4159\tvalid_1's l1: 49.1144\n",
      "[300]\tvalid_0's l1: 33.9438\tvalid_1's l1: 42.7408\n",
      "[400]\tvalid_0's l1: 27.6959\tvalid_1's l1: 40.5206\n",
      "[500]\tvalid_0's l1: 24.5076\tvalid_1's l1: 39.6826\n",
      "Early stopping, best iteration is:\n",
      "[542]\tvalid_0's l1: 23.5049\tvalid_1's l1: 39.445\n"
     ]
    },
    {
     "name": "stderr",
     "output_type": "stream",
     "text": [
      "feature_fraction, val_score: 37.962514: 100%|##########| 7/7 [00:34<00:00,  5.45s/it]\u001b[32m[I 2022-12-02 14:08:25,818]\u001b[0m Trial 6 finished with value: 39.44497479530658 and parameters: {'feature_fraction': 0.8}. Best is trial 1 with value: 37.962513974608974.\u001b[0m\n",
      "feature_fraction, val_score: 37.962514: 100%|##########| 7/7 [00:34<00:00,  4.94s/it]\n",
      "num_leaves, val_score: 37.962514:   0%|          | 0/20 [00:00<?, ?it/s]"
     ]
    },
    {
     "name": "stdout",
     "output_type": "stream",
     "text": [
      "Training until validation scores don't improve for 20 rounds\n",
      "[100]\tvalid_0's l1: 71.5577\tvalid_1's l1: 65.8309\n",
      "[200]\tvalid_0's l1: 47.803\tvalid_1's l1: 49.0815\n",
      "[300]\tvalid_0's l1: 35.5609\tvalid_1's l1: 41.8106\n",
      "[400]\tvalid_0's l1: 28.7343\tvalid_1's l1: 38.881\n",
      "[500]\tvalid_0's l1: 25.8174\tvalid_1's l1: 38.2078\n",
      "Early stopping, best iteration is:\n",
      "[534]\tvalid_0's l1: 25.1655\tvalid_1's l1: 38.0831\n"
     ]
    },
    {
     "name": "stderr",
     "output_type": "stream",
     "text": [
      "num_leaves, val_score: 37.962514:   5%|5         | 1/20 [00:02<00:41,  2.18s/it]\u001b[32m[I 2022-12-02 14:08:28,010]\u001b[0m Trial 7 finished with value: 38.08310652992099 and parameters: {'num_leaves': 179}. Best is trial 7 with value: 38.08310652992099.\u001b[0m\n",
      "num_leaves, val_score: 37.962514:   5%|5         | 1/20 [00:02<00:41,  2.18s/it]"
     ]
    },
    {
     "name": "stdout",
     "output_type": "stream",
     "text": [
      "Training until validation scores don't improve for 20 rounds\n",
      "[100]\tvalid_0's l1: 72.0419\tvalid_1's l1: 66.1777\n",
      "[200]\tvalid_0's l1: 48.165\tvalid_1's l1: 49.0333\n",
      "[300]\tvalid_0's l1: 36.3075\tvalid_1's l1: 41.6719\n",
      "[400]\tvalid_0's l1: 29.9167\tvalid_1's l1: 38.7494\n",
      "[500]\tvalid_0's l1: 27.3511\tvalid_1's l1: 37.9923\n",
      "[600]\tvalid_0's l1: 25.5754\tvalid_1's l1: 37.6267\n",
      "Early stopping, best iteration is:\n",
      "[637]\tvalid_0's l1: 25.1071\tvalid_1's l1: 37.5415\n"
     ]
    },
    {
     "name": "stderr",
     "output_type": "stream",
     "text": [
      "num_leaves, val_score: 37.541521:  10%|#         | 2/20 [00:03<00:33,  1.85s/it]\u001b[32m[I 2022-12-02 14:08:29,635]\u001b[0m Trial 8 finished with value: 37.541521439863644 and parameters: {'num_leaves': 75}. Best is trial 8 with value: 37.541521439863644.\u001b[0m\n",
      "num_leaves, val_score: 37.541521:  10%|#         | 2/20 [00:03<00:33,  1.85s/it]"
     ]
    },
    {
     "name": "stdout",
     "output_type": "stream",
     "text": [
      "Training until validation scores don't improve for 20 rounds\n",
      "[100]\tvalid_0's l1: 71.5577\tvalid_1's l1: 65.8309\n",
      "[200]\tvalid_0's l1: 47.8017\tvalid_1's l1: 49.0809\n",
      "[300]\tvalid_0's l1: 35.3115\tvalid_1's l1: 41.4712\n",
      "[400]\tvalid_0's l1: 28.6828\tvalid_1's l1: 38.8103\n",
      "Early stopping, best iteration is:\n",
      "[472]\tvalid_0's l1: 26.169\tvalid_1's l1: 38.0206\n"
     ]
    },
    {
     "name": "stderr",
     "output_type": "stream",
     "text": [
      "num_leaves, val_score: 37.541521:  15%|#5        | 3/20 [00:05<00:32,  1.90s/it]\u001b[32m[I 2022-12-02 14:08:31,591]\u001b[0m Trial 9 finished with value: 38.02056326868798 and parameters: {'num_leaves': 212}. Best is trial 8 with value: 37.541521439863644.\u001b[0m\n",
      "num_leaves, val_score: 37.541521:  15%|#5        | 3/20 [00:05<00:32,  1.90s/it]"
     ]
    },
    {
     "name": "stdout",
     "output_type": "stream",
     "text": [
      "Training until validation scores don't improve for 20 rounds\n",
      "[100]\tvalid_0's l1: 71.6148\tvalid_1's l1: 65.8772\n",
      "[200]\tvalid_0's l1: 47.4885\tvalid_1's l1: 48.5579\n",
      "[300]\tvalid_0's l1: 35.2692\tvalid_1's l1: 41.0158\n",
      "[400]\tvalid_0's l1: 29.0893\tvalid_1's l1: 38.3639\n",
      "Early stopping, best iteration is:\n",
      "[470]\tvalid_0's l1: 26.9532\tvalid_1's l1: 37.7891\n"
     ]
    },
    {
     "name": "stderr",
     "output_type": "stream",
     "text": [
      "num_leaves, val_score: 37.541521:  20%|##        | 4/20 [00:07<00:28,  1.80s/it]\u001b[32m[I 2022-12-02 14:08:33,241]\u001b[0m Trial 10 finished with value: 37.78908594716553 and parameters: {'num_leaves': 90}. Best is trial 8 with value: 37.541521439863644.\u001b[0m\n",
      "num_leaves, val_score: 37.541521:  20%|##        | 4/20 [00:07<00:28,  1.80s/it]"
     ]
    },
    {
     "name": "stdout",
     "output_type": "stream",
     "text": [
      "Training until validation scores don't improve for 20 rounds\n",
      "[100]\tvalid_0's l1: 71.5577\tvalid_1's l1: 65.8309\n",
      "[200]\tvalid_0's l1: 48.0794\tvalid_1's l1: 49.3537\n",
      "[300]\tvalid_0's l1: 35.5911\tvalid_1's l1: 41.6709\n",
      "[400]\tvalid_0's l1: 28.9156\tvalid_1's l1: 38.8489\n",
      "[500]\tvalid_0's l1: 25.9836\tvalid_1's l1: 38.0769\n",
      "[600]\tvalid_0's l1: 24.4045\tvalid_1's l1: 37.7922\n",
      "Early stopping, best iteration is:\n",
      "[636]\tvalid_0's l1: 23.9929\tvalid_1's l1: 37.7315\n"
     ]
    },
    {
     "name": "stderr",
     "output_type": "stream",
     "text": [
      "num_leaves, val_score: 37.541521:  25%|##5       | 5/20 [00:09<00:31,  2.08s/it]\u001b[32m[I 2022-12-02 14:08:35,812]\u001b[0m Trial 11 finished with value: 37.73149409410657 and parameters: {'num_leaves': 147}. Best is trial 8 with value: 37.541521439863644.\u001b[0m\n",
      "num_leaves, val_score: 37.541521:  25%|##5       | 5/20 [00:09<00:31,  2.08s/it]"
     ]
    },
    {
     "name": "stdout",
     "output_type": "stream",
     "text": [
      "Training until validation scores don't improve for 20 rounds\n",
      "[100]\tvalid_0's l1: 71.5577\tvalid_1's l1: 65.8309\n",
      "[200]\tvalid_0's l1: 48.1252\tvalid_1's l1: 49.3532\n",
      "[300]\tvalid_0's l1: 35.6252\tvalid_1's l1: 41.6878\n",
      "[400]\tvalid_0's l1: 28.8849\tvalid_1's l1: 38.7008\n",
      "[500]\tvalid_0's l1: 26.1459\tvalid_1's l1: 38.0263\n",
      "Early stopping, best iteration is:\n",
      "[534]\tvalid_0's l1: 25.5778\tvalid_1's l1: 37.9739\n"
     ]
    },
    {
     "name": "stderr",
     "output_type": "stream",
     "text": [
      "num_leaves, val_score: 37.541521:  30%|###       | 6/20 [00:12<00:32,  2.29s/it]\u001b[32m[I 2022-12-02 14:08:38,521]\u001b[0m Trial 12 finished with value: 37.973911172664515 and parameters: {'num_leaves': 128}. Best is trial 8 with value: 37.541521439863644.\u001b[0m\n",
      "num_leaves, val_score: 37.541521:  30%|###       | 6/20 [00:12<00:32,  2.29s/it]"
     ]
    },
    {
     "name": "stdout",
     "output_type": "stream",
     "text": [
      "Training until validation scores don't improve for 20 rounds\n",
      "[100]\tvalid_0's l1: 74.4055\tvalid_1's l1: 66.7592\n",
      "[200]\tvalid_0's l1: 51.6708\tvalid_1's l1: 49.6337\n",
      "[300]\tvalid_0's l1: 40.4736\tvalid_1's l1: 41.8185\n",
      "[400]\tvalid_0's l1: 34.7956\tvalid_1's l1: 38.6648\n",
      "[500]\tvalid_0's l1: 31.805\tvalid_1's l1: 37.6293\n",
      "[600]\tvalid_0's l1: 29.6778\tvalid_1's l1: 36.9914\n",
      "[700]\tvalid_0's l1: 28.4696\tvalid_1's l1: 36.6396\n",
      "Early stopping, best iteration is:\n",
      "[708]\tvalid_0's l1: 28.3497\tvalid_1's l1: 36.6298\n"
     ]
    },
    {
     "name": "stderr",
     "output_type": "stream",
     "text": [
      "num_leaves, val_score: 36.629767:  35%|###5      | 7/20 [00:14<00:28,  2.21s/it]\u001b[32m[I 2022-12-02 14:08:40,580]\u001b[0m Trial 13 finished with value: 36.629766686277435 and parameters: {'num_leaves': 20}. Best is trial 13 with value: 36.629766686277435.\u001b[0m\n",
      "num_leaves, val_score: 36.629767:  35%|###5      | 7/20 [00:14<00:28,  2.21s/it]"
     ]
    },
    {
     "name": "stdout",
     "output_type": "stream",
     "text": [
      "Training until validation scores don't improve for 20 rounds\n",
      "[100]\tvalid_0's l1: 71.5577\tvalid_1's l1: 65.8309\n",
      "[200]\tvalid_0's l1: 47.8017\tvalid_1's l1: 49.0809\n",
      "[300]\tvalid_0's l1: 35.3109\tvalid_1's l1: 41.4711\n",
      "[400]\tvalid_0's l1: 28.7426\tvalid_1's l1: 38.8502\n",
      "[500]\tvalid_0's l1: 25.7023\tvalid_1's l1: 38.1067\n",
      "Early stopping, best iteration is:\n",
      "[494]\tvalid_0's l1: 25.7731\tvalid_1's l1: 38.0894\n"
     ]
    },
    {
     "name": "stderr",
     "output_type": "stream",
     "text": [
      "num_leaves, val_score: 36.629767:  40%|####      | 8/20 [00:17<00:29,  2.49s/it]\u001b[32m[I 2022-12-02 14:08:43,663]\u001b[0m Trial 14 finished with value: 38.089410364388506 and parameters: {'num_leaves': 233}. Best is trial 13 with value: 36.629766686277435.\u001b[0m\n",
      "num_leaves, val_score: 36.629767:  40%|####      | 8/20 [00:17<00:29,  2.49s/it]"
     ]
    },
    {
     "name": "stdout",
     "output_type": "stream",
     "text": [
      "Training until validation scores don't improve for 20 rounds\n",
      "[100]\tvalid_0's l1: 71.5772\tvalid_1's l1: 65.8321\n",
      "[200]\tvalid_0's l1: 47.8396\tvalid_1's l1: 48.9986\n",
      "[300]\tvalid_0's l1: 35.4299\tvalid_1's l1: 41.3303\n",
      "[400]\tvalid_0's l1: 29.1178\tvalid_1's l1: 38.6029\n",
      "Early stopping, best iteration is:\n",
      "[477]\tvalid_0's l1: 26.7105\tvalid_1's l1: 37.8987\n"
     ]
    },
    {
     "name": "stderr",
     "output_type": "stream",
     "text": [
      "num_leaves, val_score: 36.629767:  45%|####5     | 9/20 [00:19<00:24,  2.23s/it]\u001b[32m[I 2022-12-02 14:08:45,315]\u001b[0m Trial 15 finished with value: 37.89865555577336 and parameters: {'num_leaves': 102}. Best is trial 13 with value: 36.629766686277435.\u001b[0m\n",
      "num_leaves, val_score: 36.629767:  45%|####5     | 9/20 [00:19<00:24,  2.23s/it]"
     ]
    },
    {
     "name": "stdout",
     "output_type": "stream",
     "text": [
      "Training until validation scores don't improve for 20 rounds\n",
      "[100]\tvalid_0's l1: 77.1163\tvalid_1's l1: 69.3243\n",
      "[200]\tvalid_0's l1: 61.3467\tvalid_1's l1: 59.1697\n",
      "[300]\tvalid_0's l1: 55.1466\tvalid_1's l1: 55.9413\n",
      "[400]\tvalid_0's l1: 50.5784\tvalid_1's l1: 54.339\n",
      "[500]\tvalid_0's l1: 47.3043\tvalid_1's l1: 53.1898\n",
      "[600]\tvalid_0's l1: 45.163\tvalid_1's l1: 52.3192\n",
      "[700]\tvalid_0's l1: 43.6036\tvalid_1's l1: 51.3298\n",
      "[800]\tvalid_0's l1: 41.2831\tvalid_1's l1: 49.45\n",
      "[900]\tvalid_0's l1: 37.8095\tvalid_1's l1: 46.9138\n",
      "[1000]\tvalid_0's l1: 34.9088\tvalid_1's l1: 45.2085\n",
      "[1100]\tvalid_0's l1: 33.0795\tvalid_1's l1: 44.0068\n",
      "[1200]\tvalid_0's l1: 31.5394\tvalid_1's l1: 43.1586\n",
      "[1300]\tvalid_0's l1: 30.5368\tvalid_1's l1: 42.7428\n",
      "Early stopping, best iteration is:\n",
      "[1369]\tvalid_0's l1: 30.1067\tvalid_1's l1: 42.3316\n"
     ]
    },
    {
     "name": "stderr",
     "output_type": "stream",
     "text": [
      "num_leaves, val_score: 36.629767:  50%|#####     | 10/20 [00:20<00:19,  1.94s/it]\u001b[32m[I 2022-12-02 14:08:46,611]\u001b[0m Trial 16 finished with value: 42.33157936380139 and parameters: {'num_leaves': 8}. Best is trial 13 with value: 36.629766686277435.\u001b[0m\n",
      "num_leaves, val_score: 36.629767:  50%|#####     | 10/20 [00:20<00:19,  1.94s/it]"
     ]
    },
    {
     "name": "stdout",
     "output_type": "stream",
     "text": [
      "Training until validation scores don't improve for 20 rounds\n",
      "[100]\tvalid_0's l1: 77.9359\tvalid_1's l1: 69.9686\n",
      "[200]\tvalid_0's l1: 62.8113\tvalid_1's l1: 60.1048\n",
      "[300]\tvalid_0's l1: 57.0178\tvalid_1's l1: 57.2699\n",
      "[400]\tvalid_0's l1: 52.7669\tvalid_1's l1: 55.868\n",
      "[500]\tvalid_0's l1: 49.9362\tvalid_1's l1: 54.9364\n",
      "[600]\tvalid_0's l1: 47.289\tvalid_1's l1: 53.7872\n",
      "[700]\tvalid_0's l1: 44.7538\tvalid_1's l1: 52.5794\n",
      "[800]\tvalid_0's l1: 42.3956\tvalid_1's l1: 51.2663\n",
      "[900]\tvalid_0's l1: 40.6527\tvalid_1's l1: 49.9439\n",
      "[1000]\tvalid_0's l1: 38.5847\tvalid_1's l1: 47.9267\n",
      "[1100]\tvalid_0's l1: 36.7916\tvalid_1's l1: 47.0004\n",
      "[1200]\tvalid_0's l1: 35.0929\tvalid_1's l1: 45.8951\n",
      "[1300]\tvalid_0's l1: 33.6268\tvalid_1's l1: 45.054\n",
      "[1400]\tvalid_0's l1: 32.7079\tvalid_1's l1: 44.3483\n",
      "[1500]\tvalid_0's l1: 31.7205\tvalid_1's l1: 43.5979\n",
      "[1600]\tvalid_0's l1: 30.8462\tvalid_1's l1: 43.0835\n",
      "[1700]\tvalid_0's l1: 30.2992\tvalid_1's l1: 42.4767\n",
      "[1800]\tvalid_0's l1: 29.7346\tvalid_1's l1: 41.956\n",
      "[1900]\tvalid_0's l1: 29.3568\tvalid_1's l1: 41.7072\n",
      "Early stopping, best iteration is:\n",
      "[1957]\tvalid_0's l1: 29.1548\tvalid_1's l1: 41.4782\n"
     ]
    },
    {
     "name": "stderr",
     "output_type": "stream",
     "text": [
      "num_leaves, val_score: 36.629767:  55%|#####5    | 11/20 [00:22<00:16,  1.87s/it]\u001b[32m[I 2022-12-02 14:08:48,315]\u001b[0m Trial 17 finished with value: 41.478205587861325 and parameters: {'num_leaves': 7}. Best is trial 13 with value: 36.629766686277435.\u001b[0m\n",
      "num_leaves, val_score: 36.629767:  55%|#####5    | 11/20 [00:22<00:16,  1.87s/it]"
     ]
    },
    {
     "name": "stdout",
     "output_type": "stream",
     "text": [
      "Training until validation scores don't improve for 20 rounds\n",
      "[100]\tvalid_0's l1: 72.5891\tvalid_1's l1: 66.5048\n",
      "[200]\tvalid_0's l1: 48.861\tvalid_1's l1: 49.2407\n",
      "[300]\tvalid_0's l1: 36.7704\tvalid_1's l1: 41.566\n",
      "[400]\tvalid_0's l1: 30.5716\tvalid_1's l1: 38.6624\n",
      "[500]\tvalid_0's l1: 27.7015\tvalid_1's l1: 37.7949\n",
      "[600]\tvalid_0's l1: 26.0304\tvalid_1's l1: 37.4466\n",
      "Early stopping, best iteration is:\n",
      "[641]\tvalid_0's l1: 25.5836\tvalid_1's l1: 37.3555\n"
     ]
    },
    {
     "name": "stderr",
     "output_type": "stream",
     "text": [
      "num_leaves, val_score: 36.629767:  60%|######    | 12/20 [00:24<00:14,  1.83s/it]\u001b[32m[I 2022-12-02 14:08:50,055]\u001b[0m Trial 18 finished with value: 37.35546434173623 and parameters: {'num_leaves': 59}. Best is trial 13 with value: 36.629766686277435.\u001b[0m\n",
      "num_leaves, val_score: 36.629767:  60%|######    | 12/20 [00:24<00:14,  1.83s/it]"
     ]
    },
    {
     "name": "stdout",
     "output_type": "stream",
     "text": [
      "Training until validation scores don't improve for 20 rounds\n",
      "[100]\tvalid_0's l1: 72.8912\tvalid_1's l1: 66.599\n",
      "[200]\tvalid_0's l1: 48.7789\tvalid_1's l1: 48.9504\n",
      "[300]\tvalid_0's l1: 36.8645\tvalid_1's l1: 41.4029\n",
      "[400]\tvalid_0's l1: 30.5952\tvalid_1's l1: 38.4335\n",
      "[500]\tvalid_0's l1: 27.8992\tvalid_1's l1: 37.6481\n"
     ]
    },
    {
     "name": "stderr",
     "output_type": "stream",
     "text": [
      "num_leaves, val_score: 36.629767:  65%|######5   | 13/20 [00:25<00:11,  1.65s/it]\u001b[32m[I 2022-12-02 14:08:51,306]\u001b[0m Trial 19 finished with value: 37.49241547391946 and parameters: {'num_leaves': 50}. Best is trial 13 with value: 36.629766686277435.\u001b[0m\n",
      "num_leaves, val_score: 36.629767:  65%|######5   | 13/20 [00:25<00:11,  1.65s/it]"
     ]
    },
    {
     "name": "stdout",
     "output_type": "stream",
     "text": [
      "Early stopping, best iteration is:\n",
      "[535]\tvalid_0's l1: 27.2112\tvalid_1's l1: 37.4924\n",
      "Training until validation scores don't improve for 20 rounds\n",
      "[100]\tvalid_0's l1: 72.8579\tvalid_1's l1: 66.2598\n",
      "[200]\tvalid_0's l1: 48.9083\tvalid_1's l1: 48.6243\n",
      "[300]\tvalid_0's l1: 37.6817\tvalid_1's l1: 41.4329\n",
      "[400]\tvalid_0's l1: 31.0397\tvalid_1's l1: 38.1788\n"
     ]
    },
    {
     "name": "stderr",
     "output_type": "stream",
     "text": [
      "num_leaves, val_score: 36.629767:  70%|#######   | 14/20 [00:26<00:08,  1.46s/it]\u001b[32m[I 2022-12-02 14:08:52,320]\u001b[0m Trial 20 finished with value: 37.40140269352376 and parameters: {'num_leaves': 42}. Best is trial 13 with value: 36.629766686277435.\u001b[0m\n",
      "num_leaves, val_score: 36.629767:  70%|#######   | 14/20 [00:26<00:08,  1.46s/it]"
     ]
    },
    {
     "name": "stdout",
     "output_type": "stream",
     "text": [
      "Early stopping, best iteration is:\n",
      "[477]\tvalid_0's l1: 28.6144\tvalid_1's l1: 37.4014\n",
      "Training until validation scores don't improve for 20 rounds\n",
      "[100]\tvalid_0's l1: 72.8308\tvalid_1's l1: 66.5903\n",
      "[200]\tvalid_0's l1: 49.1635\tvalid_1's l1: 49.2667\n",
      "[300]\tvalid_0's l1: 36.9731\tvalid_1's l1: 41.4411\n",
      "[400]\tvalid_0's l1: 31.1064\tvalid_1's l1: 38.6878\n",
      "[500]\tvalid_0's l1: 28.1532\tvalid_1's l1: 37.6642\n",
      "[600]\tvalid_0's l1: 26.4536\tvalid_1's l1: 37.273\n",
      "Early stopping, best iteration is:\n",
      "[655]\tvalid_0's l1: 25.8386\tvalid_1's l1: 37.1581\n"
     ]
    },
    {
     "name": "stderr",
     "output_type": "stream",
     "text": [
      "num_leaves, val_score: 36.629767:  75%|#######5  | 15/20 [00:28<00:08,  1.65s/it]\u001b[32m[I 2022-12-02 14:08:54,409]\u001b[0m Trial 21 finished with value: 37.158066273939895 and parameters: {'num_leaves': 51}. Best is trial 13 with value: 36.629766686277435.\u001b[0m\n",
      "num_leaves, val_score: 36.629767:  75%|#######5  | 15/20 [00:28<00:08,  1.65s/it]"
     ]
    },
    {
     "name": "stdout",
     "output_type": "stream",
     "text": [
      "Training until validation scores don't improve for 20 rounds\n",
      "[100]\tvalid_0's l1: 73.7147\tvalid_1's l1: 66.6781\n",
      "[200]\tvalid_0's l1: 50.1394\tvalid_1's l1: 49.0711\n",
      "[300]\tvalid_0's l1: 39.0056\tvalid_1's l1: 41.9395\n",
      "[400]\tvalid_0's l1: 33.226\tvalid_1's l1: 38.7954\n",
      "[500]\tvalid_0's l1: 29.7783\tvalid_1's l1: 37.2825\n",
      "[600]\tvalid_0's l1: 27.9568\tvalid_1's l1: 36.6408\n"
     ]
    },
    {
     "name": "stderr",
     "output_type": "stream",
     "text": [
      "num_leaves, val_score: 36.390972:  80%|########  | 16/20 [00:30<00:06,  1.65s/it]\u001b[32m[I 2022-12-02 14:08:56,045]\u001b[0m Trial 22 finished with value: 36.39097234191367 and parameters: {'num_leaves': 28}. Best is trial 22 with value: 36.39097234191367.\u001b[0m\n",
      "num_leaves, val_score: 36.390972:  80%|########  | 16/20 [00:30<00:06,  1.65s/it]"
     ]
    },
    {
     "name": "stdout",
     "output_type": "stream",
     "text": [
      "[700]\tvalid_0's l1: 26.8961\tvalid_1's l1: 36.3967\n",
      "Early stopping, best iteration is:\n",
      "[694]\tvalid_0's l1: 26.9313\tvalid_1's l1: 36.391\n",
      "Training until validation scores don't improve for 20 rounds\n",
      "[100]\tvalid_0's l1: 74.2226\tvalid_1's l1: 66.6919\n",
      "[200]\tvalid_0's l1: 51.3709\tvalid_1's l1: 49.5461\n",
      "[300]\tvalid_0's l1: 40.0014\tvalid_1's l1: 41.9768\n",
      "[400]\tvalid_0's l1: 34.3227\tvalid_1's l1: 38.8455\n",
      "[500]\tvalid_0's l1: 31.1914\tvalid_1's l1: 37.5553\n",
      "[600]\tvalid_0's l1: 29.3638\tvalid_1's l1: 36.9286\n",
      "[700]\tvalid_0's l1: 28.045\tvalid_1's l1: 36.5776\n",
      "Early stopping, best iteration is:\n",
      "[708]\tvalid_0's l1: 27.9558\tvalid_1's l1: 36.5627\n"
     ]
    },
    {
     "name": "stderr",
     "output_type": "stream",
     "text": [
      "num_leaves, val_score: 36.390972:  85%|########5 | 17/20 [00:31<00:04,  1.56s/it]\u001b[32m[I 2022-12-02 14:08:57,404]\u001b[0m Trial 23 finished with value: 36.56271974610392 and parameters: {'num_leaves': 22}. Best is trial 22 with value: 36.39097234191367.\u001b[0m\n",
      "num_leaves, val_score: 36.390972:  85%|########5 | 17/20 [00:31<00:04,  1.56s/it]"
     ]
    },
    {
     "name": "stdout",
     "output_type": "stream",
     "text": [
      "Training until validation scores don't improve for 20 rounds\n",
      "[100]\tvalid_0's l1: 71.5577\tvalid_1's l1: 65.8309\n",
      "[200]\tvalid_0's l1: 48.0731\tvalid_1's l1: 49.2911\n",
      "[300]\tvalid_0's l1: 35.7346\tvalid_1's l1: 41.69\n",
      "[400]\tvalid_0's l1: 29.0092\tvalid_1's l1: 38.7944\n",
      "[500]\tvalid_0's l1: 26.2415\tvalid_1's l1: 37.982\n",
      "Early stopping, best iteration is:\n",
      "[557]\tvalid_0's l1: 25.2051\tvalid_1's l1: 37.7875\n"
     ]
    },
    {
     "name": "stderr",
     "output_type": "stream",
     "text": [
      "num_leaves, val_score: 36.390972:  90%|######### | 18/20 [00:34<00:03,  1.88s/it]\u001b[32m[I 2022-12-02 14:09:00,041]\u001b[0m Trial 24 finished with value: 37.787538636017686 and parameters: {'num_leaves': 126}. Best is trial 22 with value: 36.39097234191367.\u001b[0m\n",
      "num_leaves, val_score: 36.390972:  90%|######### | 18/20 [00:34<00:03,  1.88s/it]"
     ]
    },
    {
     "name": "stdout",
     "output_type": "stream",
     "text": [
      "Training until validation scores don't improve for 20 rounds\n",
      "[100]\tvalid_0's l1: 73.5332\tvalid_1's l1: 66.5071\n",
      "[200]\tvalid_0's l1: 49.8121\tvalid_1's l1: 48.9224\n",
      "[300]\tvalid_0's l1: 38.7042\tvalid_1's l1: 41.9747\n",
      "[400]\tvalid_0's l1: 32.9297\tvalid_1's l1: 38.9094\n",
      "[500]\tvalid_0's l1: 29.9327\tvalid_1's l1: 37.708\n",
      "[600]\tvalid_0's l1: 27.9841\tvalid_1's l1: 36.9602\n",
      "[700]\tvalid_0's l1: 26.763\tvalid_1's l1: 36.6565\n",
      "Early stopping, best iteration is:\n",
      "[713]\tvalid_0's l1: 26.6193\tvalid_1's l1: 36.6252\n"
     ]
    },
    {
     "name": "stderr",
     "output_type": "stream",
     "text": [
      "num_leaves, val_score: 36.390972:  95%|#########5| 19/20 [00:35<00:01,  1.79s/it]\u001b[32m[I 2022-12-02 14:09:01,614]\u001b[0m Trial 25 finished with value: 36.625173750943425 and parameters: {'num_leaves': 31}. Best is trial 22 with value: 36.39097234191367.\u001b[0m\n",
      "num_leaves, val_score: 36.390972:  95%|#########5| 19/20 [00:35<00:01,  1.79s/it]"
     ]
    },
    {
     "name": "stdout",
     "output_type": "stream",
     "text": [
      "Training until validation scores don't improve for 20 rounds\n",
      "[100]\tvalid_0's l1: 71.5919\tvalid_1's l1: 65.8549\n",
      "[200]\tvalid_0's l1: 48.1375\tvalid_1's l1: 49.1385\n",
      "[300]\tvalid_0's l1: 35.9269\tvalid_1's l1: 41.6448\n",
      "[400]\tvalid_0's l1: 29.5327\tvalid_1's l1: 38.8792\n",
      "[500]\tvalid_0's l1: 26.6387\tvalid_1's l1: 38.0585\n",
      "Early stopping, best iteration is:\n",
      "[534]\tvalid_0's l1: 25.967\tvalid_1's l1: 37.9374\n"
     ]
    },
    {
     "name": "stderr",
     "output_type": "stream",
     "text": [
      "num_leaves, val_score: 36.390972: 100%|##########| 20/20 [00:38<00:00,  1.93s/it]\u001b[32m[I 2022-12-02 14:09:03,866]\u001b[0m Trial 26 finished with value: 37.93741304975029 and parameters: {'num_leaves': 97}. Best is trial 22 with value: 36.39097234191367.\u001b[0m\n",
      "num_leaves, val_score: 36.390972: 100%|##########| 20/20 [00:38<00:00,  1.90s/it]\n",
      "bagging, val_score: 36.390972:   0%|          | 0/10 [00:00<?, ?it/s]"
     ]
    },
    {
     "name": "stdout",
     "output_type": "stream",
     "text": [
      "Training until validation scores don't improve for 20 rounds\n",
      "[100]\tvalid_0's l1: 73.6014\tvalid_1's l1: 65.8822\n",
      "[200]\tvalid_0's l1: 50.844\tvalid_1's l1: 49.3335\n",
      "[300]\tvalid_0's l1: 38.965\tvalid_1's l1: 41.4328\n",
      "[400]\tvalid_0's l1: 33.1548\tvalid_1's l1: 38.5899\n",
      "[500]\tvalid_0's l1: 29.9274\tvalid_1's l1: 37.256\n"
     ]
    },
    {
     "name": "stderr",
     "output_type": "stream",
     "text": [
      "bagging, val_score: 36.390972:  10%|#         | 1/10 [00:00<00:08,  1.03it/s]"
     ]
    },
    {
     "name": "stdout",
     "output_type": "stream",
     "text": [
      "[600]\tvalid_0's l1: 28.1233\tvalid_1's l1: 36.5331\n",
      "Early stopping, best iteration is:\n",
      "[643]\tvalid_0's l1: 27.5843\tvalid_1's l1: 36.4033\n"
     ]
    },
    {
     "name": "stderr",
     "output_type": "stream",
     "text": [
      "\u001b[32m[I 2022-12-02 14:09:04,849]\u001b[0m Trial 27 finished with value: 36.403285234448305 and parameters: {'bagging_fraction': 0.5182054575075842, 'bagging_freq': 2}. Best is trial 27 with value: 36.403285234448305.\u001b[0m\n",
      "bagging, val_score: 36.390972:  10%|#         | 1/10 [00:00<00:08,  1.03it/s]"
     ]
    },
    {
     "name": "stdout",
     "output_type": "stream",
     "text": [
      "Training until validation scores don't improve for 20 rounds\n",
      "[100]\tvalid_0's l1: 73.499\tvalid_1's l1: 66.3213\n",
      "[200]\tvalid_0's l1: 50.4227\tvalid_1's l1: 49.1293\n",
      "[300]\tvalid_0's l1: 39.5212\tvalid_1's l1: 42.0282\n",
      "[400]\tvalid_0's l1: 33.2212\tvalid_1's l1: 38.6725\n",
      "[500]\tvalid_0's l1: 30.0497\tvalid_1's l1: 37.3872\n",
      "[600]\tvalid_0's l1: 27.965\tvalid_1's l1: 36.622\n",
      "[700]\tvalid_0's l1: 26.8794\tvalid_1's l1: 36.3616\n",
      "Early stopping, best iteration is:\n",
      "[713]\tvalid_0's l1: 26.7743\tvalid_1's l1: 36.3535\n"
     ]
    },
    {
     "name": "stderr",
     "output_type": "stream",
     "text": [
      "bagging, val_score: 36.353503:  20%|##        | 2/10 [00:02<00:08,  1.03s/it]\u001b[32m[I 2022-12-02 14:09:05,927]\u001b[0m Trial 28 finished with value: 36.35350269046859 and parameters: {'bagging_fraction': 0.7412215054636773, 'bagging_freq': 1}. Best is trial 28 with value: 36.35350269046859.\u001b[0m\n",
      "bagging, val_score: 36.353503:  20%|##        | 2/10 [00:02<00:08,  1.03s/it]"
     ]
    },
    {
     "name": "stdout",
     "output_type": "stream",
     "text": [
      "Training until validation scores don't improve for 20 rounds\n",
      "[100]\tvalid_0's l1: 72.8532\tvalid_1's l1: 65.4455\n",
      "[200]\tvalid_0's l1: 51.6587\tvalid_1's l1: 49.5503\n",
      "[300]\tvalid_0's l1: 39.4171\tvalid_1's l1: 41.7938\n",
      "[400]\tvalid_0's l1: 32.8004\tvalid_1's l1: 38.3652\n",
      "[500]\tvalid_0's l1: 29.6111\tvalid_1's l1: 36.9156\n",
      "[600]\tvalid_0's l1: 27.9739\tvalid_1's l1: 36.3486\n",
      "[700]\tvalid_0's l1: 26.9752\tvalid_1's l1: 35.9706\n"
     ]
    },
    {
     "name": "stderr",
     "output_type": "stream",
     "text": [
      "bagging, val_score: 35.933870:  30%|###       | 3/10 [00:03<00:07,  1.07s/it]\u001b[32m[I 2022-12-02 14:09:07,053]\u001b[0m Trial 29 finished with value: 35.9338699704726 and parameters: {'bagging_fraction': 0.4722326820926395, 'bagging_freq': 7}. Best is trial 29 with value: 35.9338699704726.\u001b[0m\n",
      "bagging, val_score: 35.933870:  30%|###       | 3/10 [00:03<00:07,  1.07s/it]"
     ]
    },
    {
     "name": "stdout",
     "output_type": "stream",
     "text": [
      "Early stopping, best iteration is:\n",
      "[686]\tvalid_0's l1: 27.0576\tvalid_1's l1: 35.9339\n",
      "Training until validation scores don't improve for 20 rounds\n",
      "[100]\tvalid_0's l1: 73.1804\tvalid_1's l1: 65.9186\n",
      "[200]\tvalid_0's l1: 49.844\tvalid_1's l1: 48.8051\n",
      "[300]\tvalid_0's l1: 39.5311\tvalid_1's l1: 42.0636\n",
      "[400]\tvalid_0's l1: 33.9524\tvalid_1's l1: 39.3231\n",
      "[500]\tvalid_0's l1: 30.7062\tvalid_1's l1: 37.8951\n",
      "[600]\tvalid_0's l1: 28.1786\tvalid_1's l1: 37.0973\n",
      "[700]\tvalid_0's l1: 27.1133\tvalid_1's l1: 36.9193\n",
      "[800]\tvalid_0's l1: 26.4058\tvalid_1's l1: 36.7689\n",
      "Early stopping, best iteration is:\n",
      "[807]\tvalid_0's l1: 26.3618\tvalid_1's l1: 36.757\n"
     ]
    },
    {
     "name": "stderr",
     "output_type": "stream",
     "text": [
      "bagging, val_score: 35.933870:  40%|####      | 4/10 [00:05<00:08,  1.44s/it]\u001b[32m[I 2022-12-02 14:09:09,053]\u001b[0m Trial 30 finished with value: 36.75699678921323 and parameters: {'bagging_fraction': 0.9733918384347491, 'bagging_freq': 5}. Best is trial 29 with value: 35.9338699704726.\u001b[0m\n",
      "bagging, val_score: 35.933870:  40%|####      | 4/10 [00:05<00:08,  1.44s/it]"
     ]
    },
    {
     "name": "stdout",
     "output_type": "stream",
     "text": [
      "Training until validation scores don't improve for 20 rounds\n",
      "[100]\tvalid_0's l1: 73.7681\tvalid_1's l1: 66.5894\n",
      "[200]\tvalid_0's l1: 49.7803\tvalid_1's l1: 48.7087\n",
      "[300]\tvalid_0's l1: 38.5783\tvalid_1's l1: 41.2593\n",
      "[400]\tvalid_0's l1: 32.7938\tvalid_1's l1: 38.4605\n",
      "[500]\tvalid_0's l1: 29.5716\tvalid_1's l1: 37.0265\n",
      "[600]\tvalid_0's l1: 27.8841\tvalid_1's l1: 36.6161\n",
      "Early stopping, best iteration is:\n",
      "[655]\tvalid_0's l1: 27.2277\tvalid_1's l1: 36.4604\n"
     ]
    },
    {
     "name": "stderr",
     "output_type": "stream",
     "text": [
      "bagging, val_score: 35.933870:  50%|#####     | 5/10 [00:07<00:08,  1.62s/it]\u001b[32m[I 2022-12-02 14:09:10,997]\u001b[0m Trial 31 finished with value: 36.46036264888119 and parameters: {'bagging_fraction': 0.9057557249120652, 'bagging_freq': 3}. Best is trial 29 with value: 35.9338699704726.\u001b[0m\n",
      "bagging, val_score: 35.933870:  50%|#####     | 5/10 [00:07<00:08,  1.62s/it]"
     ]
    },
    {
     "name": "stdout",
     "output_type": "stream",
     "text": [
      "Training until validation scores don't improve for 20 rounds\n",
      "[100]\tvalid_0's l1: 72.8565\tvalid_1's l1: 65.655\n",
      "[200]\tvalid_0's l1: 49.9321\tvalid_1's l1: 48.7856\n",
      "[300]\tvalid_0's l1: 38.5874\tvalid_1's l1: 41.2634\n",
      "[400]\tvalid_0's l1: 32.5281\tvalid_1's l1: 38.0349\n",
      "[500]\tvalid_0's l1: 29.6305\tvalid_1's l1: 36.8379\n",
      "[600]\tvalid_0's l1: 27.8371\tvalid_1's l1: 36.2877\n",
      "[700]\tvalid_0's l1: 26.7738\tvalid_1's l1: 36.0624\n"
     ]
    },
    {
     "name": "stderr",
     "output_type": "stream",
     "text": [
      "bagging, val_score: 35.933870:  60%|######    | 6/10 [00:08<00:06,  1.65s/it]\u001b[32m[I 2022-12-02 14:09:12,709]\u001b[0m Trial 32 finished with value: 36.01714253488728 and parameters: {'bagging_fraction': 0.6757413271263446, 'bagging_freq': 4}. Best is trial 29 with value: 35.9338699704726.\u001b[0m\n",
      "bagging, val_score: 35.933870:  60%|######    | 6/10 [00:08<00:06,  1.65s/it]"
     ]
    },
    {
     "name": "stdout",
     "output_type": "stream",
     "text": [
      "Early stopping, best iteration is:\n",
      "[714]\tvalid_0's l1: 26.6444\tvalid_1's l1: 36.0171\n",
      "Training until validation scores don't improve for 20 rounds\n",
      "[100]\tvalid_0's l1: 73.7905\tvalid_1's l1: 66.4958\n",
      "[200]\tvalid_0's l1: 50.4211\tvalid_1's l1: 49.0305\n",
      "[300]\tvalid_0's l1: 39.3005\tvalid_1's l1: 41.7422\n",
      "[400]\tvalid_0's l1: 33.8127\tvalid_1's l1: 38.891\n",
      "[500]\tvalid_0's l1: 30.2636\tvalid_1's l1: 37.2503\n",
      "[600]\tvalid_0's l1: 28.1953\tvalid_1's l1: 36.7212\n"
     ]
    },
    {
     "name": "stderr",
     "output_type": "stream",
     "text": [
      "bagging, val_score: 35.933870:  70%|#######   | 7/10 [00:10<00:04,  1.60s/it]\u001b[32m[I 2022-12-02 14:09:14,201]\u001b[0m Trial 33 finished with value: 36.46725825703652 and parameters: {'bagging_fraction': 0.9011259338736803, 'bagging_freq': 5}. Best is trial 29 with value: 35.9338699704726.\u001b[0m\n",
      "bagging, val_score: 35.933870:  70%|#######   | 7/10 [00:10<00:04,  1.60s/it]"
     ]
    },
    {
     "name": "stdout",
     "output_type": "stream",
     "text": [
      "[700]\tvalid_0's l1: 27.0443\tvalid_1's l1: 36.488\n",
      "Early stopping, best iteration is:\n",
      "[712]\tvalid_0's l1: 26.9083\tvalid_1's l1: 36.4673\n",
      "Training until validation scores don't improve for 20 rounds\n",
      "[100]\tvalid_0's l1: 72.7534\tvalid_1's l1: 65.4442\n",
      "[200]\tvalid_0's l1: 49.3069\tvalid_1's l1: 48.226\n",
      "[300]\tvalid_0's l1: 38.6599\tvalid_1's l1: 41.162\n",
      "[400]\tvalid_0's l1: 33.1886\tvalid_1's l1: 38.5572\n",
      "[500]\tvalid_0's l1: 30.0804\tvalid_1's l1: 37.292\n",
      "[600]\tvalid_0's l1: 28.2271\tvalid_1's l1: 36.6592\n",
      "[700]\tvalid_0's l1: 27.0225\tvalid_1's l1: 36.3593\n",
      "[800]\tvalid_0's l1: 26.271\tvalid_1's l1: 36.224\n",
      "Early stopping, best iteration is:\n",
      "[796]\tvalid_0's l1: 26.3001\tvalid_1's l1: 36.2122\n"
     ]
    },
    {
     "name": "stderr",
     "output_type": "stream",
     "text": [
      "bagging, val_score: 35.933870:  80%|########  | 8/10 [00:11<00:02,  1.48s/it]\u001b[32m[I 2022-12-02 14:09:15,432]\u001b[0m Trial 34 finished with value: 36.212198740009 and parameters: {'bagging_fraction': 0.8395928688149492, 'bagging_freq': 4}. Best is trial 29 with value: 35.9338699704726.\u001b[0m\n",
      "bagging, val_score: 35.933870:  80%|########  | 8/10 [00:11<00:02,  1.48s/it]"
     ]
    },
    {
     "name": "stdout",
     "output_type": "stream",
     "text": [
      "Training until validation scores don't improve for 20 rounds\n",
      "[100]\tvalid_0's l1: 73.2232\tvalid_1's l1: 65.6452\n",
      "[200]\tvalid_0's l1: 50.7884\tvalid_1's l1: 49.1761\n",
      "[300]\tvalid_0's l1: 39.1597\tvalid_1's l1: 41.3952\n",
      "[400]\tvalid_0's l1: 33.3689\tvalid_1's l1: 38.4959\n",
      "[500]\tvalid_0's l1: 30.0634\tvalid_1's l1: 37.1301\n",
      "[600]\tvalid_0's l1: 28.0605\tvalid_1's l1: 36.3614\n",
      "[700]\tvalid_0's l1: 26.9449\tvalid_1's l1: 35.971\n",
      "[800]\tvalid_0's l1: 26.2889\tvalid_1's l1: 35.7659\n",
      "Early stopping, best iteration is:\n",
      "[830]\tvalid_0's l1: 26.1278\tvalid_1's l1: 35.7236\n"
     ]
    },
    {
     "name": "stderr",
     "output_type": "stream",
     "text": [
      "bagging, val_score: 35.723616:  90%|######### | 9/10 [00:12<00:01,  1.41s/it]\u001b[32m[I 2022-12-02 14:09:16,669]\u001b[0m Trial 35 finished with value: 35.72361642373107 and parameters: {'bagging_fraction': 0.5813490109202677, 'bagging_freq': 2}. Best is trial 35 with value: 35.72361642373107.\u001b[0m\n",
      "bagging, val_score: 35.723616:  90%|######### | 9/10 [00:12<00:01,  1.41s/it]"
     ]
    },
    {
     "name": "stdout",
     "output_type": "stream",
     "text": [
      "Training until validation scores don't improve for 20 rounds\n",
      "[100]\tvalid_0's l1: 73.6834\tvalid_1's l1: 66.5279\n",
      "[200]\tvalid_0's l1: 50.055\tvalid_1's l1: 48.9737\n",
      "[300]\tvalid_0's l1: 39.348\tvalid_1's l1: 41.8719\n",
      "[400]\tvalid_0's l1: 33.5611\tvalid_1's l1: 38.8961\n",
      "[500]\tvalid_0's l1: 30.3338\tvalid_1's l1: 37.5476\n"
     ]
    },
    {
     "name": "stderr",
     "output_type": "stream",
     "text": [
      "bagging, val_score: 35.723616: 100%|##########| 10/10 [00:13<00:00,  1.27s/it]\u001b[32m[I 2022-12-02 14:09:17,648]\u001b[0m Trial 36 finished with value: 36.775638296348326 and parameters: {'bagging_fraction': 0.8877447888797969, 'bagging_freq': 2}. Best is trial 35 with value: 35.72361642373107.\u001b[0m\n",
      "bagging, val_score: 35.723616: 100%|##########| 10/10 [00:13<00:00,  1.38s/it]\n"
     ]
    },
    {
     "name": "stdout",
     "output_type": "stream",
     "text": [
      "[600]\tvalid_0's l1: 28.2374\tvalid_1's l1: 36.7994\n",
      "Early stopping, best iteration is:\n",
      "[597]\tvalid_0's l1: 28.2498\tvalid_1's l1: 36.7756\n"
     ]
    },
    {
     "name": "stderr",
     "output_type": "stream",
     "text": [
      "feature_fraction_stage2, val_score: 35.723616:   0%|          | 0/6 [00:00<?, ?it/s]"
     ]
    },
    {
     "name": "stdout",
     "output_type": "stream",
     "text": [
      "Training until validation scores don't improve for 20 rounds\n",
      "[100]\tvalid_0's l1: 73.2232\tvalid_1's l1: 65.6452\n",
      "[200]\tvalid_0's l1: 50.7884\tvalid_1's l1: 49.1761\n",
      "[300]\tvalid_0's l1: 39.1597\tvalid_1's l1: 41.3952\n",
      "[400]\tvalid_0's l1: 33.3689\tvalid_1's l1: 38.4959\n",
      "[500]\tvalid_0's l1: 30.0634\tvalid_1's l1: 37.1301\n",
      "[600]\tvalid_0's l1: 28.0605\tvalid_1's l1: 36.3614\n",
      "[700]\tvalid_0's l1: 26.9449\tvalid_1's l1: 35.971\n",
      "[800]\tvalid_0's l1: 26.2889\tvalid_1's l1: 35.7659\n",
      "Early stopping, best iteration is:\n",
      "[830]\tvalid_0's l1: 26.1278\tvalid_1's l1: 35.7236\n"
     ]
    },
    {
     "name": "stderr",
     "output_type": "stream",
     "text": [
      "feature_fraction_stage2, val_score: 35.723616:  17%|#6        | 1/6 [00:01<00:06,  1.30s/it]\u001b[32m[I 2022-12-02 14:09:18,970]\u001b[0m Trial 37 finished with value: 35.72361642373107 and parameters: {'feature_fraction': 0.5479999999999999}. Best is trial 37 with value: 35.72361642373107.\u001b[0m\n",
      "feature_fraction_stage2, val_score: 35.723616:  17%|#6        | 1/6 [00:01<00:06,  1.30s/it]"
     ]
    },
    {
     "name": "stdout",
     "output_type": "stream",
     "text": [
      "Training until validation scores don't improve for 20 rounds\n",
      "[100]\tvalid_0's l1: 77.4683\tvalid_1's l1: 66.5475\n",
      "[200]\tvalid_0's l1: 54.6786\tvalid_1's l1: 49.6357\n",
      "[300]\tvalid_0's l1: 41.6504\tvalid_1's l1: 42.3504\n",
      "[400]\tvalid_0's l1: 35.2229\tvalid_1's l1: 39.3049\n",
      "[500]\tvalid_0's l1: 31.0453\tvalid_1's l1: 37.7743\n",
      "[600]\tvalid_0's l1: 28.7113\tvalid_1's l1: 37.0999\n",
      "[700]\tvalid_0's l1: 27.3619\tvalid_1's l1: 36.8373\n",
      "Early stopping, best iteration is:\n",
      "[703]\tvalid_0's l1: 27.3123\tvalid_1's l1: 36.8114\n"
     ]
    },
    {
     "name": "stderr",
     "output_type": "stream",
     "text": [
      "feature_fraction_stage2, val_score: 35.723616:  33%|###3      | 2/6 [00:02<00:04,  1.17s/it]\u001b[32m[I 2022-12-02 14:09:20,047]\u001b[0m Trial 38 finished with value: 36.811399731727704 and parameters: {'feature_fraction': 0.58}. Best is trial 37 with value: 35.72361642373107.\u001b[0m\n",
      "feature_fraction_stage2, val_score: 35.723616:  33%|###3      | 2/6 [00:02<00:04,  1.17s/it]"
     ]
    },
    {
     "name": "stdout",
     "output_type": "stream",
     "text": [
      "Training until validation scores don't improve for 20 rounds\n",
      "[100]\tvalid_0's l1: 73.2232\tvalid_1's l1: 65.6452\n",
      "[200]\tvalid_0's l1: 50.7884\tvalid_1's l1: 49.1761\n",
      "[300]\tvalid_0's l1: 39.1597\tvalid_1's l1: 41.3952\n",
      "[400]\tvalid_0's l1: 33.3689\tvalid_1's l1: 38.4959\n",
      "[500]\tvalid_0's l1: 30.0634\tvalid_1's l1: 37.1301\n",
      "[600]\tvalid_0's l1: 28.0605\tvalid_1's l1: 36.3614\n",
      "[700]\tvalid_0's l1: 26.9449\tvalid_1's l1: 35.971\n",
      "[800]\tvalid_0's l1: 26.2889\tvalid_1's l1: 35.7659\n",
      "Early stopping, best iteration is:\n",
      "[830]\tvalid_0's l1: 26.1278\tvalid_1's l1: 35.7236\n"
     ]
    },
    {
     "name": "stderr",
     "output_type": "stream",
     "text": [
      "feature_fraction_stage2, val_score: 35.723616:  50%|#####     | 3/6 [00:03<00:03,  1.22s/it]\u001b[32m[I 2022-12-02 14:09:21,323]\u001b[0m Trial 39 finished with value: 35.72361642373107 and parameters: {'feature_fraction': 0.45199999999999996}. Best is trial 37 with value: 35.72361642373107.\u001b[0m\n",
      "feature_fraction_stage2, val_score: 35.723616:  50%|#####     | 3/6 [00:03<00:03,  1.22s/it]"
     ]
    },
    {
     "name": "stdout",
     "output_type": "stream",
     "text": [
      "Training until validation scores don't improve for 20 rounds\n",
      "[100]\tvalid_0's l1: 73.2232\tvalid_1's l1: 65.6452\n",
      "[200]\tvalid_0's l1: 50.7884\tvalid_1's l1: 49.1761\n",
      "[300]\tvalid_0's l1: 39.1597\tvalid_1's l1: 41.3952\n",
      "[400]\tvalid_0's l1: 33.3689\tvalid_1's l1: 38.4959\n",
      "[500]\tvalid_0's l1: 30.0634\tvalid_1's l1: 37.1301\n",
      "[600]\tvalid_0's l1: 28.0605\tvalid_1's l1: 36.3614\n",
      "[700]\tvalid_0's l1: 26.9449\tvalid_1's l1: 35.971\n",
      "[800]\tvalid_0's l1: 26.2889\tvalid_1's l1: 35.7659\n",
      "Early stopping, best iteration is:\n",
      "[830]\tvalid_0's l1: 26.1278\tvalid_1's l1: 35.7236\n"
     ]
    },
    {
     "name": "stderr",
     "output_type": "stream",
     "text": [
      "feature_fraction_stage2, val_score: 35.723616:  67%|######6   | 4/6 [00:04<00:02,  1.25s/it]\u001b[32m[I 2022-12-02 14:09:22,609]\u001b[0m Trial 40 finished with value: 35.72361642373107 and parameters: {'feature_fraction': 0.484}. Best is trial 37 with value: 35.72361642373107.\u001b[0m\n",
      "feature_fraction_stage2, val_score: 35.723616:  67%|######6   | 4/6 [00:04<00:02,  1.25s/it]"
     ]
    },
    {
     "name": "stdout",
     "output_type": "stream",
     "text": [
      "Training until validation scores don't improve for 20 rounds\n",
      "[100]\tvalid_0's l1: 73.2232\tvalid_1's l1: 65.6452\n",
      "[200]\tvalid_0's l1: 50.7884\tvalid_1's l1: 49.1761\n",
      "[300]\tvalid_0's l1: 39.1597\tvalid_1's l1: 41.3952\n",
      "[400]\tvalid_0's l1: 33.3689\tvalid_1's l1: 38.4959\n",
      "[500]\tvalid_0's l1: 30.0634\tvalid_1's l1: 37.1301\n",
      "[600]\tvalid_0's l1: 28.0605\tvalid_1's l1: 36.3614\n",
      "[700]\tvalid_0's l1: 26.9449\tvalid_1's l1: 35.971\n",
      "[800]\tvalid_0's l1: 26.2889\tvalid_1's l1: 35.7659\n",
      "Early stopping, best iteration is:\n",
      "[830]\tvalid_0's l1: 26.1278\tvalid_1's l1: 35.7236\n"
     ]
    },
    {
     "name": "stderr",
     "output_type": "stream",
     "text": [
      "feature_fraction_stage2, val_score: 35.723616:  83%|########3 | 5/6 [00:06<00:01,  1.26s/it]\u001b[32m[I 2022-12-02 14:09:23,891]\u001b[0m Trial 41 finished with value: 35.72361642373107 and parameters: {'feature_fraction': 0.516}. Best is trial 37 with value: 35.72361642373107.\u001b[0m\n",
      "feature_fraction_stage2, val_score: 35.723616:  83%|########3 | 5/6 [00:06<00:01,  1.26s/it]"
     ]
    },
    {
     "name": "stdout",
     "output_type": "stream",
     "text": [
      "Training until validation scores don't improve for 20 rounds\n",
      "[100]\tvalid_0's l1: 89.2191\tvalid_1's l1: 73.3616\n",
      "[200]\tvalid_0's l1: 73.2186\tvalid_1's l1: 60.2226\n",
      "[300]\tvalid_0's l1: 61.5835\tvalid_1's l1: 52.5519\n",
      "[400]\tvalid_0's l1: 54.3509\tvalid_1's l1: 48.8176\n",
      "[500]\tvalid_0's l1: 48.2833\tvalid_1's l1: 45.7314\n",
      "[600]\tvalid_0's l1: 43.2393\tvalid_1's l1: 43.3914\n",
      "[700]\tvalid_0's l1: 39.9289\tvalid_1's l1: 41.638\n",
      "[800]\tvalid_0's l1: 36.6236\tvalid_1's l1: 40.1141\n",
      "[900]\tvalid_0's l1: 33.9339\tvalid_1's l1: 38.9685\n",
      "[1000]\tvalid_0's l1: 32.2216\tvalid_1's l1: 38.3874\n",
      "[1100]\tvalid_0's l1: 31.0145\tvalid_1's l1: 38.0067\n",
      "Early stopping, best iteration is:\n",
      "[1135]\tvalid_0's l1: 30.557\tvalid_1's l1: 37.8868\n"
     ]
    },
    {
     "name": "stderr",
     "output_type": "stream",
     "text": [
      "feature_fraction_stage2, val_score: 35.723616: 100%|##########| 6/6 [00:08<00:00,  1.48s/it]\u001b[32m[I 2022-12-02 14:09:25,808]\u001b[0m Trial 42 finished with value: 37.886846633984796 and parameters: {'feature_fraction': 0.42}. Best is trial 37 with value: 35.72361642373107.\u001b[0m\n",
      "feature_fraction_stage2, val_score: 35.723616: 100%|##########| 6/6 [00:08<00:00,  1.36s/it]\n",
      "regularization_factors, val_score: 35.723616:   0%|          | 0/20 [00:00<?, ?it/s]"
     ]
    },
    {
     "name": "stdout",
     "output_type": "stream",
     "text": [
      "Training until validation scores don't improve for 20 rounds\n",
      "[100]\tvalid_0's l1: 66.5623\tvalid_1's l1: 59.6901\n",
      "[200]\tvalid_0's l1: 44.0454\tvalid_1's l1: 43.6461\n",
      "[300]\tvalid_0's l1: 34.1856\tvalid_1's l1: 37.7801\n",
      "[400]\tvalid_0's l1: 29.3883\tvalid_1's l1: 36.2569\n",
      "[500]\tvalid_0's l1: 27.5846\tvalid_1's l1: 35.8479\n",
      "[600]\tvalid_0's l1: 26.5526\tvalid_1's l1: 35.4356\n"
     ]
    },
    {
     "name": "stderr",
     "output_type": "stream",
     "text": [
      "regularization_factors, val_score: 35.368435:   5%|5         | 1/20 [00:01<00:28,  1.47s/it]\u001b[32m[I 2022-12-02 14:09:27,299]\u001b[0m Trial 43 finished with value: 35.36843521224929 and parameters: {'lambda_l1': 3.3469236177989716e-06, 'lambda_l2': 6.83051617483869e-05}. Best is trial 43 with value: 35.36843521224929.\u001b[0m\n",
      "regularization_factors, val_score: 35.368435:   5%|5         | 1/20 [00:01<00:28,  1.47s/it]"
     ]
    },
    {
     "name": "stdout",
     "output_type": "stream",
     "text": [
      "Early stopping, best iteration is:\n",
      "[616]\tvalid_0's l1: 26.4362\tvalid_1's l1: 35.3684\n",
      "Training until validation scores don't improve for 20 rounds\n",
      "[100]\tvalid_0's l1: 66.5748\tvalid_1's l1: 59.6968\n",
      "[200]\tvalid_0's l1: 43.8968\tvalid_1's l1: 43.4553\n",
      "[300]\tvalid_0's l1: 34.1252\tvalid_1's l1: 37.6773\n",
      "[400]\tvalid_0's l1: 29.3792\tvalid_1's l1: 36.3054\n"
     ]
    },
    {
     "name": "stderr",
     "output_type": "stream",
     "text": [
      "regularization_factors, val_score: 35.368435:  10%|#         | 2/20 [00:02<00:21,  1.22s/it]\u001b[32m[I 2022-12-02 14:09:28,337]\u001b[0m Trial 44 finished with value: 36.175330251105414 and parameters: {'lambda_l1': 3.9262041571773826e-05, 'lambda_l2': 2.9330642611573202e-05}. Best is trial 43 with value: 35.36843521224929.\u001b[0m\n",
      "regularization_factors, val_score: 35.368435:  10%|#         | 2/20 [00:02<00:21,  1.22s/it]"
     ]
    },
    {
     "name": "stdout",
     "output_type": "stream",
     "text": [
      "Early stopping, best iteration is:\n",
      "[421]\tvalid_0's l1: 28.8235\tvalid_1's l1: 36.1753\n",
      "Training until validation scores don't improve for 20 rounds\n",
      "[100]\tvalid_0's l1: 71.6047\tvalid_1's l1: 64.2907\n",
      "[200]\tvalid_0's l1: 49.6014\tvalid_1's l1: 48.1964\n",
      "[300]\tvalid_0's l1: 38.494\tvalid_1's l1: 40.9202\n",
      "[400]\tvalid_0's l1: 32.8194\tvalid_1's l1: 38.1228\n",
      "[500]\tvalid_0's l1: 30.0785\tvalid_1's l1: 37.0662\n",
      "[600]\tvalid_0's l1: 28.1879\tvalid_1's l1: 36.2792\n"
     ]
    },
    {
     "name": "stderr",
     "output_type": "stream",
     "text": [
      "regularization_factors, val_score: 35.368435:  15%|#5        | 3/20 [00:03<00:19,  1.17s/it]\u001b[32m[I 2022-12-02 14:09:29,444]\u001b[0m Trial 45 finished with value: 35.93072337929999 and parameters: {'lambda_l1': 0.5532165067204684, 'lambda_l2': 1.0217721402539304e-05}. Best is trial 43 with value: 35.36843521224929.\u001b[0m\n",
      "regularization_factors, val_score: 35.368435:  15%|#5        | 3/20 [00:03<00:19,  1.17s/it]"
     ]
    },
    {
     "name": "stdout",
     "output_type": "stream",
     "text": [
      "[700]\tvalid_0's l1: 27.0899\tvalid_1's l1: 35.9389\n",
      "Early stopping, best iteration is:\n",
      "[705]\tvalid_0's l1: 27.0597\tvalid_1's l1: 35.9307\n",
      "Training until validation scores don't improve for 20 rounds\n",
      "[100]\tvalid_0's l1: 66.5751\tvalid_1's l1: 59.6922\n",
      "[200]\tvalid_0's l1: 43.9207\tvalid_1's l1: 43.4974\n",
      "[300]\tvalid_0's l1: 34.1538\tvalid_1's l1: 37.7319\n",
      "[400]\tvalid_0's l1: 29.3756\tvalid_1's l1: 36.3537\n",
      "Early stopping, best iteration is:\n",
      "[445]\tvalid_0's l1: 28.3325\tvalid_1's l1: 36.23\n"
     ]
    },
    {
     "name": "stderr",
     "output_type": "stream",
     "text": [
      "regularization_factors, val_score: 35.368435:  20%|##        | 4/20 [00:04<00:16,  1.01s/it]\u001b[32m[I 2022-12-02 14:09:30,208]\u001b[0m Trial 46 finished with value: 36.22998802673361 and parameters: {'lambda_l1': 7.695179694971858e-06, 'lambda_l2': 0.00016867433317467205}. Best is trial 43 with value: 35.36843521224929.\u001b[0m\n",
      "regularization_factors, val_score: 35.368435:  20%|##        | 4/20 [00:04<00:16,  1.01s/it]"
     ]
    },
    {
     "name": "stdout",
     "output_type": "stream",
     "text": [
      "Training until validation scores don't improve for 20 rounds\n",
      "[100]\tvalid_0's l1: 72.7938\tvalid_1's l1: 65.1174\n",
      "[200]\tvalid_0's l1: 51.0375\tvalid_1's l1: 49.2319\n",
      "[300]\tvalid_0's l1: 39.9018\tvalid_1's l1: 41.7242\n",
      "[400]\tvalid_0's l1: 33.736\tvalid_1's l1: 38.7455\n",
      "[500]\tvalid_0's l1: 30.4799\tvalid_1's l1: 37.3574\n",
      "[600]\tvalid_0's l1: 28.6906\tvalid_1's l1: 36.5991\n",
      "[700]\tvalid_0's l1: 27.4496\tvalid_1's l1: 36.1386\n",
      "Early stopping, best iteration is:\n",
      "[712]\tvalid_0's l1: 27.3509\tvalid_1's l1: 36.1201\n"
     ]
    },
    {
     "name": "stderr",
     "output_type": "stream",
     "text": [
      "regularization_factors, val_score: 35.368435:  25%|##5       | 5/20 [00:05<00:15,  1.04s/it]\u001b[32m[I 2022-12-02 14:09:31,311]\u001b[0m Trial 47 finished with value: 36.12011529643776 and parameters: {'lambda_l1': 1.496524363345654, 'lambda_l2': 5.177067014277377e-08}. Best is trial 43 with value: 35.36843521224929.\u001b[0m\n",
      "regularization_factors, val_score: 35.368435:  25%|##5       | 5/20 [00:05<00:15,  1.04s/it]"
     ]
    },
    {
     "name": "stdout",
     "output_type": "stream",
     "text": [
      "Training until validation scores don't improve for 20 rounds\n",
      "[100]\tvalid_0's l1: 67.1166\tvalid_1's l1: 60.0771\n",
      "[200]\tvalid_0's l1: 44.6334\tvalid_1's l1: 43.8473\n",
      "[300]\tvalid_0's l1: 34.6489\tvalid_1's l1: 37.993\n"
     ]
    },
    {
     "name": "stderr",
     "output_type": "stream",
     "text": [
      "regularization_factors, val_score: 35.368435:  30%|###       | 6/20 [00:06<00:13,  1.06it/s]\u001b[32m[I 2022-12-02 14:09:32,050]\u001b[0m Trial 48 finished with value: 36.143716001469436 and parameters: {'lambda_l1': 0.00018448281056548767, 'lambda_l2': 0.010780088280586183}. Best is trial 43 with value: 35.36843521224929.\u001b[0m\n",
      "regularization_factors, val_score: 35.368435:  30%|###       | 6/20 [00:06<00:13,  1.06it/s]"
     ]
    },
    {
     "name": "stdout",
     "output_type": "stream",
     "text": [
      "[400]\tvalid_0's l1: 29.7946\tvalid_1's l1: 36.3615\n",
      "Early stopping, best iteration is:\n",
      "[445]\tvalid_0's l1: 28.6568\tvalid_1's l1: 36.1437\n",
      "Training until validation scores don't improve for 20 rounds\n",
      "[100]\tvalid_0's l1: 70.4373\tvalid_1's l1: 63.0458\n",
      "[200]\tvalid_0's l1: 47.4116\tvalid_1's l1: 46.1535\n",
      "[300]\tvalid_0's l1: 36.8585\tvalid_1's l1: 39.5784\n",
      "[400]\tvalid_0's l1: 31.5507\tvalid_1's l1: 37.3382\n",
      "[500]\tvalid_0's l1: 28.9575\tvalid_1's l1: 36.4511\n",
      "[600]\tvalid_0's l1: 27.4958\tvalid_1's l1: 35.9501\n"
     ]
    },
    {
     "name": "stderr",
     "output_type": "stream",
     "text": [
      "regularization_factors, val_score: 35.368435:  35%|###5      | 7/20 [00:07<00:13,  1.00s/it]\u001b[32m[I 2022-12-02 14:09:33,181]\u001b[0m Trial 49 finished with value: 35.71242079503316 and parameters: {'lambda_l1': 0.22120155038435094, 'lambda_l2': 1.851009358156173e-07}. Best is trial 43 with value: 35.36843521224929.\u001b[0m\n",
      "regularization_factors, val_score: 35.368435:  35%|###5      | 7/20 [00:07<00:13,  1.00s/it]"
     ]
    },
    {
     "name": "stdout",
     "output_type": "stream",
     "text": [
      "[700]\tvalid_0's l1: 26.5864\tvalid_1's l1: 35.7216\n",
      "Early stopping, best iteration is:\n",
      "[710]\tvalid_0's l1: 26.5026\tvalid_1's l1: 35.7124\n",
      "Training until validation scores don't improve for 20 rounds\n",
      "[100]\tvalid_0's l1: 71.7689\tvalid_1's l1: 64.4585\n",
      "[200]\tvalid_0's l1: 48.8426\tvalid_1's l1: 47.713\n",
      "[300]\tvalid_0's l1: 37.5729\tvalid_1's l1: 40.3884\n",
      "[400]\tvalid_0's l1: 31.865\tvalid_1's l1: 37.6685\n",
      "[500]\tvalid_0's l1: 29.003\tvalid_1's l1: 36.7107\n",
      "[600]\tvalid_0's l1: 27.4032\tvalid_1's l1: 36.1027\n",
      "[700]\tvalid_0's l1: 26.4875\tvalid_1's l1: 35.8721\n",
      "Early stopping, best iteration is:\n",
      "[766]\tvalid_0's l1: 26.1229\tvalid_1's l1: 35.7733\n"
     ]
    },
    {
     "name": "stderr",
     "output_type": "stream",
     "text": [
      "regularization_factors, val_score: 35.368435:  40%|####      | 8/20 [00:08<00:12,  1.06s/it]\u001b[32m[I 2022-12-02 14:09:34,377]\u001b[0m Trial 50 finished with value: 35.773332730422545 and parameters: {'lambda_l1': 1.0672502467238998e-06, 'lambda_l2': 3.3628151529639703}. Best is trial 43 with value: 35.36843521224929.\u001b[0m\n",
      "regularization_factors, val_score: 35.368435:  40%|####      | 8/20 [00:08<00:12,  1.06s/it]"
     ]
    },
    {
     "name": "stdout",
     "output_type": "stream",
     "text": [
      "Training until validation scores don't improve for 20 rounds\n",
      "[100]\tvalid_0's l1: 67.0883\tvalid_1's l1: 60.3125\n",
      "[200]\tvalid_0's l1: 44.3729\tvalid_1's l1: 43.8717\n",
      "[300]\tvalid_0's l1: 34.4817\tvalid_1's l1: 37.8948\n",
      "[400]\tvalid_0's l1: 29.6507\tvalid_1's l1: 36.2366\n",
      "[500]\tvalid_0's l1: 27.6409\tvalid_1's l1: 35.7089\n"
     ]
    },
    {
     "name": "stderr",
     "output_type": "stream",
     "text": [
      "regularization_factors, val_score: 35.368435:  45%|####5     | 9/20 [00:09<00:11,  1.04s/it]\u001b[32m[I 2022-12-02 14:09:35,354]\u001b[0m Trial 51 finished with value: 35.41030109443612 and parameters: {'lambda_l1': 0.00017769878996279841, 'lambda_l2': 0.02086914911582604}. Best is trial 43 with value: 35.36843521224929.\u001b[0m\n",
      "regularization_factors, val_score: 35.368435:  45%|####5     | 9/20 [00:09<00:11,  1.04s/it]"
     ]
    },
    {
     "name": "stdout",
     "output_type": "stream",
     "text": [
      "[600]\tvalid_0's l1: 26.6031\tvalid_1's l1: 35.4341\n",
      "Early stopping, best iteration is:\n",
      "[616]\tvalid_0's l1: 26.4903\tvalid_1's l1: 35.4103\n",
      "Training until validation scores don't improve for 20 rounds\n",
      "[100]\tvalid_0's l1: 69.5866\tvalid_1's l1: 62.341\n",
      "[200]\tvalid_0's l1: 46.9704\tvalid_1's l1: 45.8822\n",
      "[300]\tvalid_0's l1: 36.7318\tvalid_1's l1: 39.5405\n",
      "[400]\tvalid_0's l1: 31.4081\tvalid_1's l1: 37.2686\n",
      "[500]\tvalid_0's l1: 28.8572\tvalid_1's l1: 36.4693\n",
      "[600]\tvalid_0's l1: 27.393\tvalid_1's l1: 36.0662\n"
     ]
    },
    {
     "name": "stderr",
     "output_type": "stream",
     "text": [
      "regularization_factors, val_score: 35.368435:  50%|#####     | 10/20 [00:10<00:10,  1.05s/it]\u001b[32m[I 2022-12-02 14:09:36,431]\u001b[0m Trial 52 finished with value: 35.81665374449076 and parameters: {'lambda_l1': 0.13260588968216558, 'lambda_l2': 1.2516186725198796e-06}. Best is trial 43 with value: 35.36843521224929.\u001b[0m\n",
      "regularization_factors, val_score: 35.368435:  50%|#####     | 10/20 [00:10<00:10,  1.05s/it]"
     ]
    },
    {
     "name": "stdout",
     "output_type": "stream",
     "text": [
      "[700]\tvalid_0's l1: 26.48\tvalid_1's l1: 35.8167\n",
      "Early stopping, best iteration is:\n",
      "[700]\tvalid_0's l1: 26.48\tvalid_1's l1: 35.8167\n",
      "Training until validation scores don't improve for 20 rounds\n",
      "[100]\tvalid_0's l1: 66.8592\tvalid_1's l1: 59.9528\n",
      "[200]\tvalid_0's l1: 44.297\tvalid_1's l1: 43.7891\n",
      "[300]\tvalid_0's l1: 34.3786\tvalid_1's l1: 37.9301\n",
      "[400]\tvalid_0's l1: 29.4955\tvalid_1's l1: 36.2534\n",
      "[500]\tvalid_0's l1: 27.6259\tvalid_1's l1: 35.8755\n",
      "[600]\tvalid_0's l1: 26.5977\tvalid_1's l1: 35.5237\n",
      "Early stopping, best iteration is:\n",
      "[662]\tvalid_0's l1: 26.1523\tvalid_1's l1: 35.4417\n"
     ]
    },
    {
     "name": "stderr",
     "output_type": "stream",
     "text": [
      "regularization_factors, val_score: 35.368435:  55%|#####5    | 11/20 [00:11<00:09,  1.05s/it]\u001b[32m[I 2022-12-02 14:09:37,499]\u001b[0m Trial 53 finished with value: 35.441709396161286 and parameters: {'lambda_l1': 1.5387258885364507e-08, 'lambda_l2': 0.018072074923751943}. Best is trial 43 with value: 35.36843521224929.\u001b[0m\n",
      "regularization_factors, val_score: 35.368435:  55%|#####5    | 11/20 [00:11<00:09,  1.05s/it]"
     ]
    },
    {
     "name": "stdout",
     "output_type": "stream",
     "text": [
      "Training until validation scores don't improve for 20 rounds\n",
      "[100]\tvalid_0's l1: 67.4727\tvalid_1's l1: 60.5757\n",
      "[200]\tvalid_0's l1: 44.9314\tvalid_1's l1: 44.3144\n",
      "[300]\tvalid_0's l1: 34.685\tvalid_1's l1: 38.2192\n",
      "[400]\tvalid_0's l1: 29.7481\tvalid_1's l1: 36.4824\n",
      "[500]\tvalid_0's l1: 27.7586\tvalid_1's l1: 36.0428\n",
      "[600]\tvalid_0's l1: 26.674\tvalid_1's l1: 35.685\n",
      "Early stopping, best iteration is:\n",
      "[662]\tvalid_0's l1: 26.2533\tvalid_1's l1: 35.626\n"
     ]
    },
    {
     "name": "stderr",
     "output_type": "stream",
     "text": [
      "regularization_factors, val_score: 35.368435:  60%|######    | 12/20 [00:12<00:08,  1.05s/it]\u001b[32m[I 2022-12-02 14:09:38,545]\u001b[0m Trial 54 finished with value: 35.62596084309309 and parameters: {'lambda_l1': 0.005153289415480458, 'lambda_l2': 0.036604822948605335}. Best is trial 43 with value: 35.36843521224929.\u001b[0m\n",
      "regularization_factors, val_score: 35.368435:  60%|######    | 12/20 [00:12<00:08,  1.05s/it]"
     ]
    },
    {
     "name": "stdout",
     "output_type": "stream",
     "text": [
      "Training until validation scores don't improve for 20 rounds\n",
      "[100]\tvalid_0's l1: 66.8448\tvalid_1's l1: 60.0827\n",
      "[200]\tvalid_0's l1: 44.3449\tvalid_1's l1: 43.8581\n",
      "[300]\tvalid_0's l1: 34.4003\tvalid_1's l1: 37.9466\n",
      "[400]\tvalid_0's l1: 29.4621\tvalid_1's l1: 36.5341\n",
      "[500]\tvalid_0's l1: 27.5813\tvalid_1's l1: 36.2123\n",
      "[600]\tvalid_0's l1: 26.5726\tvalid_1's l1: 35.8208\n",
      "Early stopping, best iteration is:\n",
      "[667]\tvalid_0's l1: 26.1398\tvalid_1's l1: 35.6961\n"
     ]
    },
    {
     "name": "stderr",
     "output_type": "stream",
     "text": [
      "regularization_factors, val_score: 35.368435:  65%|######5   | 13/20 [00:13<00:07,  1.06s/it]\u001b[32m[I 2022-12-02 14:09:39,610]\u001b[0m Trial 55 finished with value: 35.69608082917802 and parameters: {'lambda_l1': 2.658117327040257e-07, 'lambda_l2': 0.00206746788496944}. Best is trial 43 with value: 35.36843521224929.\u001b[0m\n",
      "regularization_factors, val_score: 35.368435:  65%|######5   | 13/20 [00:13<00:07,  1.06s/it]"
     ]
    },
    {
     "name": "stdout",
     "output_type": "stream",
     "text": [
      "Training until validation scores don't improve for 20 rounds\n",
      "[100]\tvalid_0's l1: 71.3751\tvalid_1's l1: 64.01\n",
      "[200]\tvalid_0's l1: 48.2538\tvalid_1's l1: 47.1177\n",
      "[300]\tvalid_0's l1: 37.5432\tvalid_1's l1: 40.2557\n",
      "[400]\tvalid_0's l1: 31.9438\tvalid_1's l1: 37.6991\n",
      "[500]\tvalid_0's l1: 29.0127\tvalid_1's l1: 36.7077\n",
      "[600]\tvalid_0's l1: 27.46\tvalid_1's l1: 36.1214\n",
      "[700]\tvalid_0's l1: 26.5381\tvalid_1's l1: 35.916\n"
     ]
    },
    {
     "name": "stderr",
     "output_type": "stream",
     "text": [
      "regularization_factors, val_score: 35.368435:  70%|#######   | 14/20 [00:15<00:06,  1.11s/it]\u001b[32m[I 2022-12-02 14:09:40,850]\u001b[0m Trial 56 finished with value: 35.763840825248266 and parameters: {'lambda_l1': 0.0029558810642172618, 'lambda_l2': 2.5054082450950066}. Best is trial 43 with value: 35.36843521224929.\u001b[0m\n",
      "regularization_factors, val_score: 35.368435:  70%|#######   | 14/20 [00:15<00:06,  1.11s/it]"
     ]
    },
    {
     "name": "stdout",
     "output_type": "stream",
     "text": [
      "Early stopping, best iteration is:\n",
      "[777]\tvalid_0's l1: 26.1102\tvalid_1's l1: 35.7638\n",
      "Training until validation scores don't improve for 20 rounds\n",
      "[100]\tvalid_0's l1: 68.5544\tvalid_1's l1: 61.4867\n",
      "[200]\tvalid_0's l1: 45.9513\tvalid_1's l1: 45.0713\n",
      "[300]\tvalid_0's l1: 35.5703\tvalid_1's l1: 38.6935\n",
      "[400]\tvalid_0's l1: 30.3662\tvalid_1's l1: 36.6613\n",
      "[500]\tvalid_0's l1: 28.0951\tvalid_1's l1: 36.056\n",
      "[600]\tvalid_0's l1: 26.8715\tvalid_1's l1: 35.6873\n"
     ]
    },
    {
     "name": "stderr",
     "output_type": "stream",
     "text": [
      "regularization_factors, val_score: 35.368435:  75%|#######5  | 15/20 [00:16<00:06,  1.25s/it]"
     ]
    },
    {
     "name": "stdout",
     "output_type": "stream",
     "text": [
      "Early stopping, best iteration is:\n",
      "[662]\tvalid_0's l1: 26.4026\tvalid_1's l1: 35.5502\n"
     ]
    },
    {
     "name": "stderr",
     "output_type": "stream",
     "text": [
      "\u001b[32m[I 2022-12-02 14:09:42,431]\u001b[0m Trial 57 finished with value: 35.550226339078236 and parameters: {'lambda_l1': 0.0031988994029323713, 'lambda_l2': 0.20018227983639206}. Best is trial 43 with value: 35.36843521224929.\u001b[0m\n",
      "regularization_factors, val_score: 35.368435:  75%|#######5  | 15/20 [00:16<00:06,  1.25s/it]"
     ]
    },
    {
     "name": "stdout",
     "output_type": "stream",
     "text": [
      "Training until validation scores don't improve for 20 rounds\n",
      "[100]\tvalid_0's l1: 66.8448\tvalid_1's l1: 60.0827\n",
      "[200]\tvalid_0's l1: 44.3449\tvalid_1's l1: 43.8581\n",
      "[300]\tvalid_0's l1: 34.4052\tvalid_1's l1: 37.9278\n",
      "[400]\tvalid_0's l1: 29.428\tvalid_1's l1: 36.45\n"
     ]
    },
    {
     "name": "stderr",
     "output_type": "stream",
     "text": [
      "regularization_factors, val_score: 35.368435:  80%|########  | 16/20 [00:17<00:04,  1.20s/it]\u001b[32m[I 2022-12-02 14:09:43,512]\u001b[0m Trial 58 finished with value: 36.28622074021075 and parameters: {'lambda_l1': 5.51715579011623e-06, 'lambda_l2': 0.0005176116368587645}. Best is trial 43 with value: 35.36843521224929.\u001b[0m\n",
      "regularization_factors, val_score: 35.368435:  80%|########  | 16/20 [00:17<00:04,  1.20s/it]"
     ]
    },
    {
     "name": "stdout",
     "output_type": "stream",
     "text": [
      "Early stopping, best iteration is:\n",
      "[418]\tvalid_0's l1: 28.9415\tvalid_1's l1: 36.2862\n",
      "Training until validation scores don't improve for 20 rounds\n",
      "[100]\tvalid_0's l1: 66.5623\tvalid_1's l1: 59.6901\n",
      "[200]\tvalid_0's l1: 44.0454\tvalid_1's l1: 43.6461\n",
      "[300]\tvalid_0's l1: 34.1856\tvalid_1's l1: 37.7801\n",
      "[400]\tvalid_0's l1: 29.3882\tvalid_1's l1: 36.2568\n",
      "[500]\tvalid_0's l1: 27.5552\tvalid_1's l1: 35.8566\n",
      "[600]\tvalid_0's l1: 26.5429\tvalid_1's l1: 35.5004\n",
      "Early stopping, best iteration is:\n",
      "[632]\tvalid_0's l1: 26.3364\tvalid_1's l1: 35.4211\n"
     ]
    },
    {
     "name": "stderr",
     "output_type": "stream",
     "text": [
      "regularization_factors, val_score: 35.368435:  85%|########5 | 17/20 [00:18<00:03,  1.23s/it]\u001b[32m[I 2022-12-02 14:09:44,804]\u001b[0m Trial 59 finished with value: 35.42106587612768 and parameters: {'lambda_l1': 3.7802347696031713e-08, 'lambda_l2': 3.566210338804583e-05}. Best is trial 43 with value: 35.36843521224929.\u001b[0m\n",
      "regularization_factors, val_score: 35.368435:  85%|########5 | 17/20 [00:18<00:03,  1.23s/it]"
     ]
    },
    {
     "name": "stdout",
     "output_type": "stream",
     "text": [
      "Training until validation scores don't improve for 20 rounds\n",
      "[100]\tvalid_0's l1: 68.4739\tvalid_1's l1: 61.4033\n",
      "[200]\tvalid_0's l1: 45.5131\tvalid_1's l1: 44.7927\n",
      "[300]\tvalid_0's l1: 35.288\tvalid_1's l1: 38.5211\n",
      "[400]\tvalid_0's l1: 30.1851\tvalid_1's l1: 36.5686\n",
      "[500]\tvalid_0's l1: 27.9294\tvalid_1's l1: 35.9784\n",
      "[600]\tvalid_0's l1: 26.7637\tvalid_1's l1: 35.5737\n",
      "Early stopping, best iteration is:\n",
      "[662]\tvalid_0's l1: 26.3211\tvalid_1's l1: 35.4498\n"
     ]
    },
    {
     "name": "stderr",
     "output_type": "stream",
     "text": [
      "regularization_factors, val_score: 35.368435:  90%|######### | 18/20 [00:20<00:02,  1.18s/it]\u001b[32m[I 2022-12-02 14:09:45,854]\u001b[0m Trial 60 finished with value: 35.44977964157871 and parameters: {'lambda_l1': 0.00021858013622590484, 'lambda_l2': 0.1668172379109482}. Best is trial 43 with value: 35.36843521224929.\u001b[0m\n",
      "regularization_factors, val_score: 35.368435:  90%|######### | 18/20 [00:20<00:02,  1.18s/it]"
     ]
    },
    {
     "name": "stdout",
     "output_type": "stream",
     "text": [
      "Training until validation scores don't improve for 20 rounds\n",
      "[100]\tvalid_0's l1: 66.8448\tvalid_1's l1: 60.0827\n",
      "[200]\tvalid_0's l1: 44.3449\tvalid_1's l1: 43.8581\n",
      "[300]\tvalid_0's l1: 34.4003\tvalid_1's l1: 37.9466\n",
      "[400]\tvalid_0's l1: 29.5013\tvalid_1's l1: 36.4442\n",
      "[500]\tvalid_0's l1: 27.5904\tvalid_1's l1: 36.0741\n",
      "[600]\tvalid_0's l1: 26.5658\tvalid_1's l1: 35.7162\n",
      "[700]\tvalid_0's l1: 25.9688\tvalid_1's l1: 35.5664\n",
      "Early stopping, best iteration is:\n",
      "[700]\tvalid_0's l1: 25.9688\tvalid_1's l1: 35.5664\n"
     ]
    },
    {
     "name": "stderr",
     "output_type": "stream",
     "text": [
      "regularization_factors, val_score: 35.368435:  95%|#########5| 19/20 [00:21<00:01,  1.16s/it]\u001b[32m[I 2022-12-02 14:09:46,968]\u001b[0m Trial 61 finished with value: 35.566390734153885 and parameters: {'lambda_l1': 8.371336483600626e-07, 'lambda_l2': 0.0010936810764694425}. Best is trial 43 with value: 35.36843521224929.\u001b[0m\n",
      "regularization_factors, val_score: 35.368435:  95%|#########5| 19/20 [00:21<00:01,  1.16s/it]"
     ]
    },
    {
     "name": "stdout",
     "output_type": "stream",
     "text": [
      "Training until validation scores don't improve for 20 rounds\n",
      "[100]\tvalid_0's l1: 68.2058\tvalid_1's l1: 61.2176\n",
      "[200]\tvalid_0's l1: 45.4688\tvalid_1's l1: 44.7057\n",
      "[300]\tvalid_0's l1: 35.4366\tvalid_1's l1: 38.5431\n",
      "[400]\tvalid_0's l1: 30.082\tvalid_1's l1: 36.6341\n",
      "[500]\tvalid_0's l1: 27.9614\tvalid_1's l1: 36.1142\n",
      "[600]\tvalid_0's l1: 26.8031\tvalid_1's l1: 35.6978\n",
      "Early stopping, best iteration is:\n",
      "[669]\tvalid_0's l1: 26.321\tvalid_1's l1: 35.5655\n"
     ]
    },
    {
     "name": "stderr",
     "output_type": "stream",
     "text": [
      "regularization_factors, val_score: 35.368435: 100%|##########| 20/20 [00:22<00:00,  1.13s/it]\u001b[32m[I 2022-12-02 14:09:48,026]\u001b[0m Trial 62 finished with value: 35.56551162264658 and parameters: {'lambda_l1': 0.02635662148730806, 'lambda_l2': 5.241035356657713e-07}. Best is trial 43 with value: 35.36843521224929.\u001b[0m\n",
      "regularization_factors, val_score: 35.368435: 100%|##########| 20/20 [00:22<00:00,  1.11s/it]\n",
      "min_data_in_leaf, val_score: 35.368435:   0%|          | 0/5 [00:00<?, ?it/s]"
     ]
    },
    {
     "name": "stdout",
     "output_type": "stream",
     "text": [
      "Training until validation scores don't improve for 20 rounds\n",
      "[100]\tvalid_0's l1: 66.5623\tvalid_1's l1: 59.6901\n",
      "[200]\tvalid_0's l1: 44.0454\tvalid_1's l1: 43.6461\n",
      "[300]\tvalid_0's l1: 34.1856\tvalid_1's l1: 37.7801\n",
      "[400]\tvalid_0's l1: 29.3883\tvalid_1's l1: 36.2569\n",
      "[500]\tvalid_0's l1: 27.5846\tvalid_1's l1: 35.8479\n"
     ]
    },
    {
     "name": "stderr",
     "output_type": "stream",
     "text": [
      "min_data_in_leaf, val_score: 35.368435:  20%|##        | 1/5 [00:01<00:04,  1.01s/it]\u001b[32m[I 2022-12-02 14:09:49,050]\u001b[0m Trial 63 finished with value: 35.36843521224929 and parameters: {'min_child_samples': 25}. Best is trial 63 with value: 35.36843521224929.\u001b[0m\n",
      "min_data_in_leaf, val_score: 35.368435:  20%|##        | 1/5 [00:01<00:04,  1.01s/it]"
     ]
    },
    {
     "name": "stdout",
     "output_type": "stream",
     "text": [
      "[600]\tvalid_0's l1: 26.5526\tvalid_1's l1: 35.4356\n",
      "Early stopping, best iteration is:\n",
      "[616]\tvalid_0's l1: 26.4362\tvalid_1's l1: 35.3684\n",
      "Training until validation scores don't improve for 20 rounds\n",
      "[100]\tvalid_0's l1: 66.5623\tvalid_1's l1: 59.6901\n",
      "[200]\tvalid_0's l1: 44.0454\tvalid_1's l1: 43.6461\n",
      "[300]\tvalid_0's l1: 34.1856\tvalid_1's l1: 37.7801\n",
      "[400]\tvalid_0's l1: 29.3883\tvalid_1's l1: 36.2569\n",
      "[500]\tvalid_0's l1: 27.5846\tvalid_1's l1: 35.8479\n",
      "[600]\tvalid_0's l1: 26.5526\tvalid_1's l1: 35.4356\n",
      "Early stopping, best iteration is:\n",
      "[616]\tvalid_0's l1: 26.4362\tvalid_1's l1: 35.3684\n"
     ]
    },
    {
     "name": "stderr",
     "output_type": "stream",
     "text": [
      "min_data_in_leaf, val_score: 35.368435:  40%|####      | 2/5 [00:02<00:03,  1.02s/it]\u001b[32m[I 2022-12-02 14:09:50,072]\u001b[0m Trial 64 finished with value: 35.36843521224929 and parameters: {'min_child_samples': 100}. Best is trial 63 with value: 35.36843521224929.\u001b[0m\n",
      "min_data_in_leaf, val_score: 35.368435:  40%|####      | 2/5 [00:02<00:03,  1.02s/it]"
     ]
    },
    {
     "name": "stdout",
     "output_type": "stream",
     "text": [
      "Training until validation scores don't improve for 20 rounds\n",
      "[100]\tvalid_0's l1: 66.5623\tvalid_1's l1: 59.6901\n",
      "[200]\tvalid_0's l1: 44.0454\tvalid_1's l1: 43.6461\n",
      "[300]\tvalid_0's l1: 34.1856\tvalid_1's l1: 37.7801\n",
      "[400]\tvalid_0's l1: 29.3883\tvalid_1's l1: 36.2569\n",
      "[500]\tvalid_0's l1: 27.5846\tvalid_1's l1: 35.8479\n"
     ]
    },
    {
     "name": "stderr",
     "output_type": "stream",
     "text": [
      "min_data_in_leaf, val_score: 35.368435:  60%|######    | 3/5 [00:03<00:02,  1.01s/it]\u001b[32m[I 2022-12-02 14:09:51,077]\u001b[0m Trial 65 finished with value: 35.36843521224929 and parameters: {'min_child_samples': 50}. Best is trial 63 with value: 35.36843521224929.\u001b[0m\n",
      "min_data_in_leaf, val_score: 35.368435:  60%|######    | 3/5 [00:03<00:02,  1.01s/it]"
     ]
    },
    {
     "name": "stdout",
     "output_type": "stream",
     "text": [
      "[600]\tvalid_0's l1: 26.5526\tvalid_1's l1: 35.4356\n",
      "Early stopping, best iteration is:\n",
      "[616]\tvalid_0's l1: 26.4362\tvalid_1's l1: 35.3684\n",
      "Training until validation scores don't improve for 20 rounds\n",
      "[100]\tvalid_0's l1: 66.5623\tvalid_1's l1: 59.6901\n",
      "[200]\tvalid_0's l1: 44.0454\tvalid_1's l1: 43.6461\n",
      "[300]\tvalid_0's l1: 34.1856\tvalid_1's l1: 37.7801\n",
      "[400]\tvalid_0's l1: 29.3883\tvalid_1's l1: 36.2569\n",
      "[500]\tvalid_0's l1: 27.5846\tvalid_1's l1: 35.8479\n",
      "[600]\tvalid_0's l1: 26.5526\tvalid_1's l1: 35.4356\n",
      "Early stopping, best iteration is:\n",
      "[616]\tvalid_0's l1: 26.4362\tvalid_1's l1: 35.3684\n"
     ]
    },
    {
     "name": "stderr",
     "output_type": "stream",
     "text": [
      "min_data_in_leaf, val_score: 35.368435:  80%|########  | 4/5 [00:04<00:01,  1.02s/it]\u001b[32m[I 2022-12-02 14:09:52,109]\u001b[0m Trial 66 finished with value: 35.36843521224929 and parameters: {'min_child_samples': 10}. Best is trial 63 with value: 35.36843521224929.\u001b[0m\n",
      "min_data_in_leaf, val_score: 35.368435:  80%|########  | 4/5 [00:04<00:01,  1.02s/it]"
     ]
    },
    {
     "name": "stdout",
     "output_type": "stream",
     "text": [
      "Training until validation scores don't improve for 20 rounds\n",
      "[100]\tvalid_0's l1: 66.5623\tvalid_1's l1: 59.6901\n",
      "[200]\tvalid_0's l1: 44.0454\tvalid_1's l1: 43.6461\n",
      "[300]\tvalid_0's l1: 34.1856\tvalid_1's l1: 37.7801\n",
      "[400]\tvalid_0's l1: 29.3883\tvalid_1's l1: 36.2569\n",
      "[500]\tvalid_0's l1: 27.5846\tvalid_1's l1: 35.8479\n"
     ]
    },
    {
     "name": "stderr",
     "output_type": "stream",
     "text": [
      "min_data_in_leaf, val_score: 35.368435: 100%|##########| 5/5 [00:05<00:00,  1.01s/it]\u001b[32m[I 2022-12-02 14:09:53,112]\u001b[0m Trial 67 finished with value: 35.36843521224929 and parameters: {'min_child_samples': 5}. Best is trial 63 with value: 35.36843521224929.\u001b[0m\n",
      "min_data_in_leaf, val_score: 35.368435: 100%|##########| 5/5 [00:05<00:00,  1.02s/it]"
     ]
    },
    {
     "name": "stdout",
     "output_type": "stream",
     "text": [
      "[600]\tvalid_0's l1: 26.5526\tvalid_1's l1: 35.4356\n",
      "Early stopping, best iteration is:\n",
      "[616]\tvalid_0's l1: 26.4362\tvalid_1's l1: 35.3684\n"
     ]
    },
    {
     "name": "stderr",
     "output_type": "stream",
     "text": [
      "\n",
      "\u001b[32m[I 2022-12-02 14:09:53,172]\u001b[0m Trial 2 finished with value: 57.33360682339081 and parameters: {'num_leaves': 2721, 'feature_fraction': 0.6193005390341393, 'bagging_fraction': 0.8856824028024856, 'min_data_in_leaf': 7, 'lambda_l1': 0.121029121719081, 'lambda_l2': 6.1452017356500654}. Best is trial 1 with value: 57.042631414338835.\u001b[0m\n"
     ]
    },
    {
     "name": "stdout",
     "output_type": "stream",
     "text": [
      "RMSE : 59.105\n"
     ]
    }
   ],
   "source": [
    "def objective(trial):\n",
    "    param = {\n",
    "        'objective': 'regression_l1',\n",
    "        \"metric\": \"mae\",\n",
    "        \"max_depth\":-1,\n",
    "        'num_leaves': trial.suggest_int('num_leaves', 2500, 3500),\n",
    "        \"feature_fraction\": trial.suggest_loguniform('feature_fraction', 0.4, 0.95),\n",
    "        'subsample_freq': 1,\n",
    "        \"bagging_fraction\":trial.suggest_loguniform('bagging_fraction', 0.8, 0.98),\n",
    "        'min_data_in_leaf': trial.suggest_int('min_data_in_leaf', 2, 20),\n",
    "        'learning_rate': 0.01,\n",
    "        \"boosting\": \"gbdt\",\n",
    "        \"lambda_l1\":trial.suggest_loguniform(\"lambda_l1\", 0.1, 0.8),\n",
    "        \"lambda_l2\": trial.suggest_loguniform(\"lambda_l2\", 1, 15),\n",
    "        \"verbosity\": -1,\n",
    "        \"random_state\": 42\n",
    "    }\n",
    "\n",
    "    \n",
    "    trains = lgb.Dataset(train_X, train_y)\n",
    "    valids = lgb.Dataset(test_X, test_y,reference=trains)\n",
    "\n",
    "    model = lgb.train(\n",
    "    param,\n",
    "    trains,\n",
    "    valid_sets=[trains, valids],\n",
    "    num_boost_round=3000,\n",
    "    early_stopping_rounds=20,\n",
    "    verbose_eval =100,\n",
    "   )\n",
    "\n",
    "    eval_pred = model.predict(test_X, num_iteration=model.best_iteration)\n",
    "    rmse = np.sqrt(mean_squared_error(test_y, eval_pred))\n",
    "    return rmse\n",
    "\n",
    "study = optuna.create_study(direction=\"minimize\")\n",
    "study.optimize(objective, n_trials=3)\n",
    "\n",
    "# 訓練データ予測のRMSE計算\n",
    "\n",
    "print('RMSE : {:.3f}'.format(rmse))\n"
   ]
  },
  {
   "cell_type": "code",
   "execution_count": 46,
   "id": "aa40b8f8-7ad1-45c0-b4f8-8df9246a2911",
   "metadata": {},
   "outputs": [
    {
     "data": {
      "text/plain": [
       "57.042631414338835"
      ]
     },
     "execution_count": 46,
     "metadata": {},
     "output_type": "execute_result"
    }
   ],
   "source": [
    "study.best_value"
   ]
  },
  {
   "cell_type": "code",
   "execution_count": 47,
   "id": "90ff7358-e8a3-4501-9612-ab3d01352778",
   "metadata": {},
   "outputs": [
    {
     "data": {
      "text/plain": [
       "{'num_leaves': 3126,\n",
       " 'feature_fraction': 0.4865931655574428,\n",
       " 'bagging_fraction': 0.9355982957622987,\n",
       " 'min_data_in_leaf': 4,\n",
       " 'lambda_l1': 0.510451231572153,\n",
       " 'lambda_l2': 2.225171653729689}"
      ]
     },
     "execution_count": 47,
     "metadata": {},
     "output_type": "execute_result"
    }
   ],
   "source": [
    "study.best_params"
   ]
  },
  {
   "cell_type": "markdown",
   "id": "42cafb7a-d24f-459f-9a86-25d3d180d3ca",
   "metadata": {},
   "source": [
    "### 残差プロット、および詳細データの確認"
   ]
  },
  {
   "cell_type": "code",
   "execution_count": 49,
   "id": "a86ab8ae-54c8-46e5-8727-b68d70d16fd9",
   "metadata": {},
   "outputs": [],
   "source": [
    "pred = model.predict(test_X, num_iteration=model.best_iteration)"
   ]
  },
  {
   "cell_type": "code",
   "execution_count": 51,
   "id": "b201e6a6-6037-4197-bf13-5276d3ebc1e2",
   "metadata": {},
   "outputs": [
    {
     "data": {
      "image/png": "[encoded data removed]",
      "text/plain": [
       "<Figure size 640x480 with 1 Axes>"
      ]
     },
     "metadata": {},
     "output_type": "display_data"
    }
   ],
   "source": [
    "plt.scatter(pred, pred - test_y, color = 'blue')      # 残差をプロット \n",
    "plt.hlines(y = 0, xmin = 5, xmax = 9, color = 'black')   # x軸に沿った直線をプロット\n",
    "plt.title('Residual Plot')                                # 図のタイトル\n",
    "plt.xlabel('Predicted Values')                            # x軸のラベル\n",
    "plt.ylabel('Residuals')                                   # y軸のラベル\n",
    "plt.grid()                                                # グリッド線を表示\n",
    "\n",
    "plt.show()  "
   ]
  },
  {
   "cell_type": "code",
   "execution_count": null,
   "id": "088636ce-36e8-4fd0-8eea-006f528a851a",
   "metadata": {},
   "outputs": [],
   "source": []
  },
  {
   "cell_type": "markdown",
   "id": "ef2b6961-135f-4c2d-b8b5-3832bbfb97d0",
   "metadata": {},
   "source": [
    "## テストデータでの予測から提出ファイルの確認"
   ]
  },
  {
   "cell_type": "code",
   "execution_count": null,
   "id": "959d39bf-c276-49cd-a054-f211fe386d6d",
   "metadata": {},
   "outputs": [],
   "source": [
    "for c in test_x.columns:\n",
    "    col_type = test_x[c].dtype\n",
    "    if col_type == 'object' or col_type.name == 'category':\n",
    "        test_x[c] = test_x[c].astype('category')"
   ]
  },
  {
   "cell_type": "code",
   "execution_count": 55,
   "id": "0247be44-7a2f-4053-aa86-f6a01d43ee3e",
   "metadata": {},
   "outputs": [
    {
     "data": {
      "text/html": [
       "<div>\n",
       "<style scoped>\n",
       "    .dataframe tbody tr th:only-of-type {\n",
       "        vertical-align: middle;\n",
       "    }\n",
       "\n",
       "    .dataframe tbody tr th {\n",
       "        vertical-align: top;\n",
       "    }\n",
       "\n",
       "    .dataframe thead th {\n",
       "        text-align: right;\n",
       "    }\n",
       "</style>\n",
       "<table border=\"1\" class=\"dataframe\">\n",
       "  <thead>\n",
       "    <tr style=\"text-align: right;\">\n",
       "      <th></th>\n",
       "      <th>hr</th>\n",
       "      <th>workingday</th>\n",
       "      <th>weekday2</th>\n",
       "      <th>temp</th>\n",
       "      <th>atemp</th>\n",
       "      <th>weathersit_1</th>\n",
       "      <th>weathersit_2</th>\n",
       "      <th>weathersit_3</th>\n",
       "    </tr>\n",
       "  </thead>\n",
       "  <tbody>\n",
       "    <tr>\n",
       "      <th>0</th>\n",
       "      <td>0</td>\n",
       "      <td>0</td>\n",
       "      <td>0</td>\n",
       "      <td>0.36</td>\n",
       "      <td>0.3788</td>\n",
       "      <td>1</td>\n",
       "      <td>0</td>\n",
       "      <td>0</td>\n",
       "    </tr>\n",
       "    <tr>\n",
       "      <th>1</th>\n",
       "      <td>1</td>\n",
       "      <td>0</td>\n",
       "      <td>0</td>\n",
       "      <td>0.36</td>\n",
       "      <td>0.3485</td>\n",
       "      <td>1</td>\n",
       "      <td>0</td>\n",
       "      <td>0</td>\n",
       "    </tr>\n",
       "    <tr>\n",
       "      <th>2</th>\n",
       "      <td>2</td>\n",
       "      <td>0</td>\n",
       "      <td>0</td>\n",
       "      <td>0.32</td>\n",
       "      <td>0.3485</td>\n",
       "      <td>1</td>\n",
       "      <td>0</td>\n",
       "      <td>0</td>\n",
       "    </tr>\n",
       "    <tr>\n",
       "      <th>3</th>\n",
       "      <td>3</td>\n",
       "      <td>0</td>\n",
       "      <td>0</td>\n",
       "      <td>0.30</td>\n",
       "      <td>0.3333</td>\n",
       "      <td>1</td>\n",
       "      <td>0</td>\n",
       "      <td>0</td>\n",
       "    </tr>\n",
       "    <tr>\n",
       "      <th>4</th>\n",
       "      <td>4</td>\n",
       "      <td>0</td>\n",
       "      <td>0</td>\n",
       "      <td>0.28</td>\n",
       "      <td>0.3030</td>\n",
       "      <td>1</td>\n",
       "      <td>0</td>\n",
       "      <td>0</td>\n",
       "    </tr>\n",
       "  </tbody>\n",
       "</table>\n",
       "</div>"
      ],
      "text/plain": [
       "   hr  workingday  weekday2  temp   atemp  weathersit_1  weathersit_2  \\\n",
       "0   0           0         0  0.36  0.3788             1             0   \n",
       "1   1           0         0  0.36  0.3485             1             0   \n",
       "2   2           0         0  0.32  0.3485             1             0   \n",
       "3   3           0         0  0.30  0.3333             1             0   \n",
       "4   4           0         0  0.28  0.3030             1             0   \n",
       "\n",
       "   weathersit_3  \n",
       "0             0  \n",
       "1             0  \n",
       "2             0  \n",
       "3             0  \n",
       "4             0  "
      ]
     },
     "execution_count": 55,
     "metadata": {},
     "output_type": "execute_result"
    }
   ],
   "source": [
    "#testデータの必要な変数だけをとりだす\n",
    "test_df_x = test_df_one_hot_encoded[['hr','workingday','weekday2','temp','atemp','weathersit_1','weathersit_2','weathersit_3']]\n",
    "test_df_x.head()"
   ]
  },
  {
   "cell_type": "code",
   "execution_count": 56,
   "id": "df823e6f-3ad8-4ada-8a19-66acb64826ac",
   "metadata": {},
   "outputs": [
    {
     "name": "stdout",
     "output_type": "stream",
     "text": [
      "8734\n"
     ]
    }
   ],
   "source": [
    "test_pred = model.predict(test_df_x, num_iteration = model.best_iteration)\n",
    "test_pred\n",
    "print(len(test_pred))"
   ]
  },
  {
   "cell_type": "markdown",
   "id": "7d891b59-fa75-4c61-8913-7a0a51517d5a",
   "metadata": {},
   "source": [
    "### 提出ファイルの作成"
   ]
  },
  {
   "cell_type": "code",
   "execution_count": 57,
   "id": "e3354fd9-b330-47ea-aa9f-424c970f43e5",
   "metadata": {},
   "outputs": [
    {
     "data": {
      "text/plain": [
       "((8734,), (8734, 14))"
      ]
     },
     "execution_count": 57,
     "metadata": {},
     "output_type": "execute_result"
    }
   ],
   "source": [
    "test_pred.shape,test_df.shape"
   ]
  },
  {
   "cell_type": "code",
   "execution_count": 58,
   "id": "9a410d47-41ce-401a-86b7-24caa917ab1b",
   "metadata": {},
   "outputs": [
    {
     "data": {
      "text/html": [
       "<div>\n",
       "<style scoped>\n",
       "    .dataframe tbody tr th:only-of-type {\n",
       "        vertical-align: middle;\n",
       "    }\n",
       "\n",
       "    .dataframe tbody tr th {\n",
       "        vertical-align: top;\n",
       "    }\n",
       "\n",
       "    .dataframe thead th {\n",
       "        text-align: right;\n",
       "    }\n",
       "</style>\n",
       "<table border=\"1\" class=\"dataframe\">\n",
       "  <thead>\n",
       "    <tr style=\"text-align: right;\">\n",
       "      <th></th>\n",
       "      <th>id</th>\n",
       "      <th>dteday</th>\n",
       "      <th>season</th>\n",
       "      <th>yr</th>\n",
       "      <th>mnth</th>\n",
       "      <th>hr</th>\n",
       "      <th>holiday</th>\n",
       "      <th>weekday</th>\n",
       "      <th>workingday</th>\n",
       "      <th>weathersit</th>\n",
       "      <th>temp</th>\n",
       "      <th>atemp</th>\n",
       "      <th>hum</th>\n",
       "      <th>windspeed</th>\n",
       "      <th>cnt</th>\n",
       "    </tr>\n",
       "  </thead>\n",
       "  <tbody>\n",
       "    <tr>\n",
       "      <th>0</th>\n",
       "      <td>8646</td>\n",
       "      <td>2012-01-01</td>\n",
       "      <td>1</td>\n",
       "      <td>1</td>\n",
       "      <td>1</td>\n",
       "      <td>0</td>\n",
       "      <td>0</td>\n",
       "      <td>0</td>\n",
       "      <td>0</td>\n",
       "      <td>1</td>\n",
       "      <td>0.36</td>\n",
       "      <td>0.3788</td>\n",
       "      <td>0.66</td>\n",
       "      <td>0.0000</td>\n",
       "      <td>91.487275</td>\n",
       "    </tr>\n",
       "    <tr>\n",
       "      <th>1</th>\n",
       "      <td>8647</td>\n",
       "      <td>2012-01-01</td>\n",
       "      <td>1</td>\n",
       "      <td>1</td>\n",
       "      <td>1</td>\n",
       "      <td>1</td>\n",
       "      <td>0</td>\n",
       "      <td>0</td>\n",
       "      <td>0</td>\n",
       "      <td>1</td>\n",
       "      <td>0.36</td>\n",
       "      <td>0.3485</td>\n",
       "      <td>0.66</td>\n",
       "      <td>0.1343</td>\n",
       "      <td>61.399107</td>\n",
       "    </tr>\n",
       "    <tr>\n",
       "      <th>2</th>\n",
       "      <td>8648</td>\n",
       "      <td>2012-01-01</td>\n",
       "      <td>1</td>\n",
       "      <td>1</td>\n",
       "      <td>1</td>\n",
       "      <td>2</td>\n",
       "      <td>0</td>\n",
       "      <td>0</td>\n",
       "      <td>0</td>\n",
       "      <td>1</td>\n",
       "      <td>0.32</td>\n",
       "      <td>0.3485</td>\n",
       "      <td>0.76</td>\n",
       "      <td>0.0000</td>\n",
       "      <td>44.581873</td>\n",
       "    </tr>\n",
       "    <tr>\n",
       "      <th>3</th>\n",
       "      <td>8649</td>\n",
       "      <td>2012-01-01</td>\n",
       "      <td>1</td>\n",
       "      <td>1</td>\n",
       "      <td>1</td>\n",
       "      <td>3</td>\n",
       "      <td>0</td>\n",
       "      <td>0</td>\n",
       "      <td>0</td>\n",
       "      <td>1</td>\n",
       "      <td>0.30</td>\n",
       "      <td>0.3333</td>\n",
       "      <td>0.81</td>\n",
       "      <td>0.0000</td>\n",
       "      <td>17.957066</td>\n",
       "    </tr>\n",
       "    <tr>\n",
       "      <th>4</th>\n",
       "      <td>8650</td>\n",
       "      <td>2012-01-01</td>\n",
       "      <td>1</td>\n",
       "      <td>1</td>\n",
       "      <td>1</td>\n",
       "      <td>4</td>\n",
       "      <td>0</td>\n",
       "      <td>0</td>\n",
       "      <td>0</td>\n",
       "      <td>1</td>\n",
       "      <td>0.28</td>\n",
       "      <td>0.3030</td>\n",
       "      <td>0.81</td>\n",
       "      <td>0.0896</td>\n",
       "      <td>3.579326</td>\n",
       "    </tr>\n",
       "  </tbody>\n",
       "</table>\n",
       "</div>"
      ],
      "text/plain": [
       "     id      dteday  season  yr  mnth  hr  holiday  weekday  workingday  \\\n",
       "0  8646  2012-01-01       1   1     1   0        0        0           0   \n",
       "1  8647  2012-01-01       1   1     1   1        0        0           0   \n",
       "2  8648  2012-01-01       1   1     1   2        0        0           0   \n",
       "3  8649  2012-01-01       1   1     1   3        0        0           0   \n",
       "4  8650  2012-01-01       1   1     1   4        0        0           0   \n",
       "\n",
       "   weathersit  temp   atemp   hum  windspeed        cnt  \n",
       "0           1  0.36  0.3788  0.66     0.0000  91.487275  \n",
       "1           1  0.36  0.3485  0.66     0.1343  61.399107  \n",
       "2           1  0.32  0.3485  0.76     0.0000  44.581873  \n",
       "3           1  0.30  0.3333  0.81     0.0000  17.957066  \n",
       "4           1  0.28  0.3030  0.81     0.0896   3.579326  "
      ]
     },
     "execution_count": 58,
     "metadata": {},
     "output_type": "execute_result"
    }
   ],
   "source": [
    "sub = test_df.copy()\n",
    "sub['cnt'] = test_pred\n",
    "sub.head(5)"
   ]
  },
  {
   "cell_type": "code",
   "execution_count": 59,
   "id": "99892bd1-939a-4b66-8270-db7bf3465eaf",
   "metadata": {},
   "outputs": [],
   "source": [
    "# 提出ファイル\n",
    "sub[['id','cnt']].to_csv('sample_submit_10.csv', index=False, header = False)"
   ]
  },
  {
   "cell_type": "code",
   "execution_count": 60,
   "id": "a8f9f4e6-5e20-43ed-b58d-1edea8698c7d",
   "metadata": {},
   "outputs": [
    {
     "data": {
      "text/html": [
       "<div>\n",
       "<style scoped>\n",
       "    .dataframe tbody tr th:only-of-type {\n",
       "        vertical-align: middle;\n",
       "    }\n",
       "\n",
       "    .dataframe tbody tr th {\n",
       "        vertical-align: top;\n",
       "    }\n",
       "\n",
       "    .dataframe thead th {\n",
       "        text-align: right;\n",
       "    }\n",
       "</style>\n",
       "<table border=\"1\" class=\"dataframe\">\n",
       "  <thead>\n",
       "    <tr style=\"text-align: right;\">\n",
       "      <th></th>\n",
       "      <th>8646</th>\n",
       "      <th>91.48727464602779</th>\n",
       "    </tr>\n",
       "  </thead>\n",
       "  <tbody>\n",
       "    <tr>\n",
       "      <th>0</th>\n",
       "      <td>8647</td>\n",
       "      <td>61.399107</td>\n",
       "    </tr>\n",
       "    <tr>\n",
       "      <th>1</th>\n",
       "      <td>8648</td>\n",
       "      <td>44.581873</td>\n",
       "    </tr>\n",
       "    <tr>\n",
       "      <th>2</th>\n",
       "      <td>8649</td>\n",
       "      <td>17.957066</td>\n",
       "    </tr>\n",
       "    <tr>\n",
       "      <th>3</th>\n",
       "      <td>8650</td>\n",
       "      <td>3.579326</td>\n",
       "    </tr>\n",
       "    <tr>\n",
       "      <th>4</th>\n",
       "      <td>8651</td>\n",
       "      <td>5.858761</td>\n",
       "    </tr>\n",
       "  </tbody>\n",
       "</table>\n",
       "</div>"
      ],
      "text/plain": [
       "   8646  91.48727464602779\n",
       "0  8647          61.399107\n",
       "1  8648          44.581873\n",
       "2  8649          17.957066\n",
       "3  8650           3.579326\n",
       "4  8651           5.858761"
      ]
     },
     "execution_count": 60,
     "metadata": {},
     "output_type": "execute_result"
    }
   ],
   "source": [
    "sample_submit_10 = pd.read_csv('sample_submit_10.csv')\n",
    "sample_submit_10.head()"
   ]
  },
  {
   "cell_type": "markdown",
   "id": "92f1c74f-7089-42dc-bcf7-5df628a1cd9e",
   "metadata": {},
   "source": [
    "### 評価  \n",
    "RMSE  115.1929426(125/1246位)  \n",
    "精度は高いとは言えないが、ligbtGBM(simple)に比べると、0.4ほどRMSEが小さくなり良くはなっている。  \n"
   ]
  },
  {
   "cell_type": "code",
   "execution_count": null,
   "id": "2d59e938-79c4-489c-b6c7-0ff3766767a7",
   "metadata": {},
   "outputs": [],
   "source": []
  },
  {
   "cell_type": "code",
   "execution_count": null,
   "id": "1fd82053-3ac4-4e75-b96f-bc369627d34f",
   "metadata": {},
   "outputs": [],
   "source": []
  },
  {
   "cell_type": "code",
   "execution_count": null,
   "id": "abce8e2c-c3ea-47eb-8c19-147d58805eb4",
   "metadata": {},
   "outputs": [],
   "source": []
  },
  {
   "cell_type": "code",
   "execution_count": null,
   "id": "156ed467-29d9-49cf-8502-d8f72386400a",
   "metadata": {},
   "outputs": [],
   "source": []
  },
  {
   "cell_type": "code",
   "execution_count": null,
   "id": "6850aa90-4cfc-47db-b891-bf8fb0427faf",
   "metadata": {},
   "outputs": [],
   "source": []
  },
  {
   "cell_type": "code",
   "execution_count": null,
   "id": "0bb9d537-263d-49f5-ace9-a5fbedb78d6b",
   "metadata": {},
   "outputs": [],
   "source": []
  },
  {
   "cell_type": "code",
   "execution_count": null,
   "id": "0babd3d7-9f0a-480f-bae2-2d2fc621d932",
   "metadata": {},
   "outputs": [],
   "source": []
  },
  {
   "cell_type": "code",
   "execution_count": null,
   "id": "aa7fc2db-665b-4aa0-8e75-2d45705c1831",
   "metadata": {},
   "outputs": [],
   "source": []
  },
  {
   "cell_type": "code",
   "execution_count": null,
   "id": "63b1b13e-bf96-4a2c-8fba-20353464cf97",
   "metadata": {},
   "outputs": [],
   "source": []
  },
  {
   "cell_type": "code",
   "execution_count": null,
   "id": "fe6935d8-db5d-4a51-904c-7b208721ee65",
   "metadata": {},
   "outputs": [],
   "source": []
  },
  {
   "cell_type": "code",
   "execution_count": null,
   "id": "62a0cc98-a4e9-4f3b-96d2-a03a9c70838d",
   "metadata": {},
   "outputs": [],
   "source": []
  },
  {
   "cell_type": "code",
   "execution_count": null,
   "id": "9546770e-4ad5-4948-8b8e-6f5f1be07d24",
   "metadata": {},
   "outputs": [],
   "source": []
  },
  {
   "cell_type": "code",
   "execution_count": null,
   "id": "200e3c33-872c-4c0a-a498-50139232b5ea",
   "metadata": {},
   "outputs": [],
   "source": []
  }
 ],
 "metadata": {
  "kernelspec": {
   "display_name": "Python 3 (ipykernel)",
   "language": "python",
   "name": "python3"
  },
  "language_info": {
   "codemirror_mode": {
    "name": "ipython",
    "version": 3
   },
   "file_extension": ".py",
   "mimetype": "text/x-python",
   "name": "python",
   "nbconvert_exporter": "python",
   "pygments_lexer": "ipython3",
   "version": "3.8.15"
  }
 },
 "nbformat": 4,
 "nbformat_minor": 5
}
