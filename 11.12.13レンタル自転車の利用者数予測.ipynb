{
 "cells": [
  {
   "cell_type": "markdown",
   "id": "9e8e8943-ddff-469c-b5fd-7295d7601c59",
   "metadata": {},
   "source": [
    "ライブラリインストール"
   ]
  },
  {
   "cell_type": "code",
   "execution_count": 1,
   "id": "29dcde28-e774-48ad-a77d-8276013d23fe",
   "metadata": {},
   "outputs": [],
   "source": [
    "import pandas as pd\n",
    "import numpy as np\n",
    "\n",
    "#import pycaret\n",
    "\n",
    "#setup関数をimport\n",
    "#from pycaret.regression import setup\n",
    "\n",
    "#compare_models関数は、ライブラリ内のすべてのモデルを使って訓練を行い、スコアを評価する。\n",
    "#回帰問題なので'refression'を指定\n",
    "#from pycaret.regression import compare_models\n",
    "\n",
    "#models関数により、すべての使用可能な機械学習モデルを確認できる。\n",
    "#from pycaret.regression import models\n",
    "\n",
    "#ceate_model関数:「交差検証」を用いて個別のモデルの訓練と評価を行う。  \n",
    "#from pycaret.regression import create_model\n",
    "\n",
    "#tune_model関数を用いて、ハイパーパラメータを最適化する。\n",
    "#from pycaret.regression import tune_model\n",
    "\n",
    "#plot_model関数を使い、各特徴量の重要度をプロットする、\n",
    "#from pycaret.regression import plot_model\n",
    "\n",
    "#finalize_model関数により、すべての訓練データを使ってモデルを訓練し、本番用のモデルを作成できるようにする。\n",
    "#from pycaret.regression import finalize_model\n",
    "\n",
    "#from pycaret.regression import predict_model\n",
    "\n",
    "import lightgbm as lgb\n",
    "from sklearn import metrics\n",
    "from scipy.stats import rankdata\n",
    "from sklearn.metrics import f1_score\n",
    "from sklearn.metrics import accuracy_score\n",
    "from sklearn.preprocessing import LabelEncoder\n",
    "from sklearn.metrics import mean_absolute_error\n",
    "from sklearn.model_selection import train_test_split\n",
    "from sklearn.metrics import confusion_matrix, ConfusionMatrixDisplay\n",
    "\n",
    "import warnings\n",
    "warnings.simplefilter('ignore', FutureWarning)\n",
    "\n",
    "import re\n",
    "import pickle\n",
    "import seaborn as sns\n",
    "import lightgbm as lgb\n",
    "#import japanize_matplotlib\n",
    "import matplotlib.pyplot as plt\n",
    "\n",
    "pd.set_option('display.max_columns', 200)\n",
    "pd.set_option('display.max_rows', 200)\n",
    "\n",
    "import copy\n",
    "\n",
    "# XGBoostのライブラリのインポート\n",
    "import xgboost as xgb\n",
    "from sklearn.model_selection import GridSearchCV\n",
    "from sklearn.metrics import mean_squared_error"
   ]
  },
  {
   "cell_type": "markdown",
   "id": "895c00e9-5ec1-4ef9-a378-f70fb3a288bb",
   "metadata": {},
   "source": [
    "## 検証11  \n",
    "### XGBoostに前処理をして改めて、やってみる。"
   ]
  },
  {
   "cell_type": "code",
   "execution_count": 23,
   "id": "7b347cde-8472-4027-b2da-99bcea0deb44",
   "metadata": {},
   "outputs": [],
   "source": [
    "#前処理\n",
    "\n",
    "#trainデータ処理\n",
    "train_df = pd.read_table('train.tsv')\n",
    "#One-Hot Encoding\n",
    "train_df_one_hot_encoded = pd.get_dummies(train_df,columns=['weathersit'])\n",
    "#曜日の'weekday'を土日(0)と平日(1)の2値データする。\n",
    "#新しい変数'weekday2'を作って、全て0(zero)を入れる\n",
    "train_df_one_hot_encoded['weekday2'] = 0\n",
    "#平日を1にしたいので、1にするコードを用意する\n",
    "train_df_one_hot_encoded.loc[train_df_one_hot_encoded['weekday'].isin(list(range(1,6))),'weekday2']=1\n",
    "# 結果の件数を確認する\n",
    "#train_df_one_hot_encoded['weekday2'].value_counts()\n",
    "# id2500以前は、傾向が違うため、カット(運用開始など？)\n",
    "train_df_one_hot_encoded = train_df_one_hot_encoded[train_df_one_hot_encoded['id'] > 2500]\n",
    "\n",
    "\n",
    "#testデータ処理\n",
    "test_df = pd.read_table('test.tsv')\n",
    "#One-Hot Encoding\n",
    "test_df_one_hot_encoded = pd.get_dummies(test_df,columns=['weathersit'])\n",
    "#曜日の'weekday'を土日(0)と平日(1)の2値データする。\n",
    "#新しい変数'weekday2'を作って、全て0(zero)を入れる\n",
    "test_df_one_hot_encoded['weekday2'] = 0\n",
    "#平日を1にしたいので、1にするコードを用意する\n",
    "test_df_one_hot_encoded.loc[test_df_one_hot_encoded['weekday'].isin(list(range(1,6))),'weekday2']=1\n"
   ]
  },
  {
   "cell_type": "code",
   "execution_count": 24,
   "id": "90d7d800-c952-4a34-86ad-68932f9e5304",
   "metadata": {},
   "outputs": [
    {
     "data": {
      "text/html": [
       "<div>\n",
       "<style scoped>\n",
       "    .dataframe tbody tr th:only-of-type {\n",
       "        vertical-align: middle;\n",
       "    }\n",
       "\n",
       "    .dataframe tbody tr th {\n",
       "        vertical-align: top;\n",
       "    }\n",
       "\n",
       "    .dataframe thead th {\n",
       "        text-align: right;\n",
       "    }\n",
       "</style>\n",
       "<table border=\"1\" class=\"dataframe\">\n",
       "  <thead>\n",
       "    <tr style=\"text-align: right;\">\n",
       "      <th></th>\n",
       "      <th>id</th>\n",
       "      <th>dteday</th>\n",
       "      <th>season</th>\n",
       "      <th>yr</th>\n",
       "      <th>mnth</th>\n",
       "      <th>hr</th>\n",
       "      <th>holiday</th>\n",
       "      <th>weekday</th>\n",
       "      <th>workingday</th>\n",
       "      <th>temp</th>\n",
       "      <th>atemp</th>\n",
       "      <th>hum</th>\n",
       "      <th>windspeed</th>\n",
       "      <th>cnt</th>\n",
       "      <th>weathersit_1</th>\n",
       "      <th>weathersit_2</th>\n",
       "      <th>weathersit_3</th>\n",
       "      <th>weathersit_4</th>\n",
       "      <th>weekday2</th>\n",
       "    </tr>\n",
       "  </thead>\n",
       "  <tbody>\n",
       "    <tr>\n",
       "      <th>2500</th>\n",
       "      <td>2501</td>\n",
       "      <td>2011-04-19</td>\n",
       "      <td>2</td>\n",
       "      <td>0</td>\n",
       "      <td>4</td>\n",
       "      <td>2</td>\n",
       "      <td>0</td>\n",
       "      <td>2</td>\n",
       "      <td>1</td>\n",
       "      <td>0.46</td>\n",
       "      <td>0.4545</td>\n",
       "      <td>0.67</td>\n",
       "      <td>0.2836</td>\n",
       "      <td>13</td>\n",
       "      <td>1</td>\n",
       "      <td>0</td>\n",
       "      <td>0</td>\n",
       "      <td>0</td>\n",
       "      <td>1</td>\n",
       "    </tr>\n",
       "    <tr>\n",
       "      <th>2501</th>\n",
       "      <td>2502</td>\n",
       "      <td>2011-04-19</td>\n",
       "      <td>2</td>\n",
       "      <td>0</td>\n",
       "      <td>4</td>\n",
       "      <td>3</td>\n",
       "      <td>0</td>\n",
       "      <td>2</td>\n",
       "      <td>1</td>\n",
       "      <td>0.48</td>\n",
       "      <td>0.4697</td>\n",
       "      <td>0.63</td>\n",
       "      <td>0.2239</td>\n",
       "      <td>3</td>\n",
       "      <td>1</td>\n",
       "      <td>0</td>\n",
       "      <td>0</td>\n",
       "      <td>0</td>\n",
       "      <td>1</td>\n",
       "    </tr>\n",
       "    <tr>\n",
       "      <th>2502</th>\n",
       "      <td>2503</td>\n",
       "      <td>2011-04-19</td>\n",
       "      <td>2</td>\n",
       "      <td>0</td>\n",
       "      <td>4</td>\n",
       "      <td>4</td>\n",
       "      <td>0</td>\n",
       "      <td>2</td>\n",
       "      <td>1</td>\n",
       "      <td>0.46</td>\n",
       "      <td>0.4545</td>\n",
       "      <td>0.67</td>\n",
       "      <td>0.0896</td>\n",
       "      <td>5</td>\n",
       "      <td>1</td>\n",
       "      <td>0</td>\n",
       "      <td>0</td>\n",
       "      <td>0</td>\n",
       "      <td>1</td>\n",
       "    </tr>\n",
       "    <tr>\n",
       "      <th>2503</th>\n",
       "      <td>2504</td>\n",
       "      <td>2011-04-19</td>\n",
       "      <td>2</td>\n",
       "      <td>0</td>\n",
       "      <td>4</td>\n",
       "      <td>5</td>\n",
       "      <td>0</td>\n",
       "      <td>2</td>\n",
       "      <td>1</td>\n",
       "      <td>0.46</td>\n",
       "      <td>0.4545</td>\n",
       "      <td>0.72</td>\n",
       "      <td>0.1940</td>\n",
       "      <td>18</td>\n",
       "      <td>0</td>\n",
       "      <td>1</td>\n",
       "      <td>0</td>\n",
       "      <td>0</td>\n",
       "      <td>1</td>\n",
       "    </tr>\n",
       "    <tr>\n",
       "      <th>2504</th>\n",
       "      <td>2505</td>\n",
       "      <td>2011-04-19</td>\n",
       "      <td>2</td>\n",
       "      <td>0</td>\n",
       "      <td>4</td>\n",
       "      <td>6</td>\n",
       "      <td>0</td>\n",
       "      <td>2</td>\n",
       "      <td>1</td>\n",
       "      <td>0.48</td>\n",
       "      <td>0.4697</td>\n",
       "      <td>0.67</td>\n",
       "      <td>0.0000</td>\n",
       "      <td>65</td>\n",
       "      <td>0</td>\n",
       "      <td>1</td>\n",
       "      <td>0</td>\n",
       "      <td>0</td>\n",
       "      <td>1</td>\n",
       "    </tr>\n",
       "    <tr>\n",
       "      <th>...</th>\n",
       "      <td>...</td>\n",
       "      <td>...</td>\n",
       "      <td>...</td>\n",
       "      <td>...</td>\n",
       "      <td>...</td>\n",
       "      <td>...</td>\n",
       "      <td>...</td>\n",
       "      <td>...</td>\n",
       "      <td>...</td>\n",
       "      <td>...</td>\n",
       "      <td>...</td>\n",
       "      <td>...</td>\n",
       "      <td>...</td>\n",
       "      <td>...</td>\n",
       "      <td>...</td>\n",
       "      <td>...</td>\n",
       "      <td>...</td>\n",
       "      <td>...</td>\n",
       "      <td>...</td>\n",
       "    </tr>\n",
       "    <tr>\n",
       "      <th>8640</th>\n",
       "      <td>8641</td>\n",
       "      <td>2011-12-31</td>\n",
       "      <td>1</td>\n",
       "      <td>0</td>\n",
       "      <td>12</td>\n",
       "      <td>19</td>\n",
       "      <td>0</td>\n",
       "      <td>6</td>\n",
       "      <td>0</td>\n",
       "      <td>0.42</td>\n",
       "      <td>0.4242</td>\n",
       "      <td>0.54</td>\n",
       "      <td>0.2239</td>\n",
       "      <td>92</td>\n",
       "      <td>1</td>\n",
       "      <td>0</td>\n",
       "      <td>0</td>\n",
       "      <td>0</td>\n",
       "      <td>0</td>\n",
       "    </tr>\n",
       "    <tr>\n",
       "      <th>8641</th>\n",
       "      <td>8642</td>\n",
       "      <td>2011-12-31</td>\n",
       "      <td>1</td>\n",
       "      <td>0</td>\n",
       "      <td>12</td>\n",
       "      <td>20</td>\n",
       "      <td>0</td>\n",
       "      <td>6</td>\n",
       "      <td>0</td>\n",
       "      <td>0.42</td>\n",
       "      <td>0.4242</td>\n",
       "      <td>0.54</td>\n",
       "      <td>0.2239</td>\n",
       "      <td>71</td>\n",
       "      <td>1</td>\n",
       "      <td>0</td>\n",
       "      <td>0</td>\n",
       "      <td>0</td>\n",
       "      <td>0</td>\n",
       "    </tr>\n",
       "    <tr>\n",
       "      <th>8642</th>\n",
       "      <td>8643</td>\n",
       "      <td>2011-12-31</td>\n",
       "      <td>1</td>\n",
       "      <td>0</td>\n",
       "      <td>12</td>\n",
       "      <td>21</td>\n",
       "      <td>0</td>\n",
       "      <td>6</td>\n",
       "      <td>0</td>\n",
       "      <td>0.40</td>\n",
       "      <td>0.4091</td>\n",
       "      <td>0.58</td>\n",
       "      <td>0.1940</td>\n",
       "      <td>52</td>\n",
       "      <td>1</td>\n",
       "      <td>0</td>\n",
       "      <td>0</td>\n",
       "      <td>0</td>\n",
       "      <td>0</td>\n",
       "    </tr>\n",
       "    <tr>\n",
       "      <th>8643</th>\n",
       "      <td>8644</td>\n",
       "      <td>2011-12-31</td>\n",
       "      <td>1</td>\n",
       "      <td>0</td>\n",
       "      <td>12</td>\n",
       "      <td>22</td>\n",
       "      <td>0</td>\n",
       "      <td>6</td>\n",
       "      <td>0</td>\n",
       "      <td>0.38</td>\n",
       "      <td>0.3939</td>\n",
       "      <td>0.62</td>\n",
       "      <td>0.1343</td>\n",
       "      <td>38</td>\n",
       "      <td>1</td>\n",
       "      <td>0</td>\n",
       "      <td>0</td>\n",
       "      <td>0</td>\n",
       "      <td>0</td>\n",
       "    </tr>\n",
       "    <tr>\n",
       "      <th>8644</th>\n",
       "      <td>8645</td>\n",
       "      <td>2011-12-31</td>\n",
       "      <td>1</td>\n",
       "      <td>0</td>\n",
       "      <td>12</td>\n",
       "      <td>23</td>\n",
       "      <td>0</td>\n",
       "      <td>6</td>\n",
       "      <td>0</td>\n",
       "      <td>0.36</td>\n",
       "      <td>0.3788</td>\n",
       "      <td>0.66</td>\n",
       "      <td>0.0000</td>\n",
       "      <td>31</td>\n",
       "      <td>1</td>\n",
       "      <td>0</td>\n",
       "      <td>0</td>\n",
       "      <td>0</td>\n",
       "      <td>0</td>\n",
       "    </tr>\n",
       "  </tbody>\n",
       "</table>\n",
       "<p>6145 rows × 19 columns</p>\n",
       "</div>"
      ],
      "text/plain": [
       "        id      dteday  season  yr  mnth  hr  holiday  weekday  workingday  \\\n",
       "2500  2501  2011-04-19       2   0     4   2        0        2           1   \n",
       "2501  2502  2011-04-19       2   0     4   3        0        2           1   \n",
       "2502  2503  2011-04-19       2   0     4   4        0        2           1   \n",
       "2503  2504  2011-04-19       2   0     4   5        0        2           1   \n",
       "2504  2505  2011-04-19       2   0     4   6        0        2           1   \n",
       "...    ...         ...     ...  ..   ...  ..      ...      ...         ...   \n",
       "8640  8641  2011-12-31       1   0    12  19        0        6           0   \n",
       "8641  8642  2011-12-31       1   0    12  20        0        6           0   \n",
       "8642  8643  2011-12-31       1   0    12  21        0        6           0   \n",
       "8643  8644  2011-12-31       1   0    12  22        0        6           0   \n",
       "8644  8645  2011-12-31       1   0    12  23        0        6           0   \n",
       "\n",
       "      temp   atemp   hum  windspeed  cnt  weathersit_1  weathersit_2  \\\n",
       "2500  0.46  0.4545  0.67     0.2836   13             1             0   \n",
       "2501  0.48  0.4697  0.63     0.2239    3             1             0   \n",
       "2502  0.46  0.4545  0.67     0.0896    5             1             0   \n",
       "2503  0.46  0.4545  0.72     0.1940   18             0             1   \n",
       "2504  0.48  0.4697  0.67     0.0000   65             0             1   \n",
       "...    ...     ...   ...        ...  ...           ...           ...   \n",
       "8640  0.42  0.4242  0.54     0.2239   92             1             0   \n",
       "8641  0.42  0.4242  0.54     0.2239   71             1             0   \n",
       "8642  0.40  0.4091  0.58     0.1940   52             1             0   \n",
       "8643  0.38  0.3939  0.62     0.1343   38             1             0   \n",
       "8644  0.36  0.3788  0.66     0.0000   31             1             0   \n",
       "\n",
       "      weathersit_3  weathersit_4  weekday2  \n",
       "2500             0             0         1  \n",
       "2501             0             0         1  \n",
       "2502             0             0         1  \n",
       "2503             0             0         1  \n",
       "2504             0             0         1  \n",
       "...            ...           ...       ...  \n",
       "8640             0             0         0  \n",
       "8641             0             0         0  \n",
       "8642             0             0         0  \n",
       "8643             0             0         0  \n",
       "8644             0             0         0  \n",
       "\n",
       "[6145 rows x 19 columns]"
      ]
     },
     "execution_count": 24,
     "metadata": {},
     "output_type": "execute_result"
    }
   ],
   "source": [
    "train_df_one_hot_encoded"
   ]
  },
  {
   "cell_type": "code",
   "execution_count": 25,
   "id": "fbb90b6c-47f8-4160-8acf-1bd5bc1f7bd3",
   "metadata": {},
   "outputs": [],
   "source": [
    "# 説明変数、目的変数を格納\n",
    "X = train_df_one_hot_encoded.drop(['id','dteday','cnt'], axis=1)\n",
    "y = train_df_one_hot_encoded['cnt']\n",
    "X_test = test_df_one_hot_encoded.drop(['id','dteday'], axis=1)"
   ]
  },
  {
   "cell_type": "code",
   "execution_count": 3,
   "id": "8f6e1913-95fe-4aef-a573-878484e827f0",
   "metadata": {},
   "outputs": [],
   "source": [
    "#説明変数と目的変数を用意\n",
    "#season,yr,mmth,holiday,weekday,workingday\n",
    "#X = train_df_one_hot_encoded[['hr','temp','atemp','weathersit_1','weathersit_2','weathersit_3']]\n",
    "#y = train_df_one_hot_encoded['cnt']"
   ]
  },
  {
   "cell_type": "code",
   "execution_count": 26,
   "id": "dc66feed-15b3-40f1-baa5-f3c7f23cfea3",
   "metadata": {},
   "outputs": [],
   "source": [
    "# train dataをtrain dataとtest dataに分ける。\n",
    "train_X, test_X, train_y, test_y = train_test_split(X, y, random_state=42, shuffle=False)\n"
   ]
  },
  {
   "cell_type": "code",
   "execution_count": 27,
   "id": "30a9233a-ca36-4491-9b61-32d6b4eb4707",
   "metadata": {},
   "outputs": [],
   "source": [
    "# xgboostモデルの作成\n",
    "reg = xgb.XGBRegressor()"
   ]
  },
  {
   "cell_type": "code",
   "execution_count": 28,
   "id": "61aae81e-fe8b-4f76-8f6f-de5a477669c9",
   "metadata": {},
   "outputs": [
    {
     "name": "stdout",
     "output_type": "stream",
     "text": [
      "Fitting 5 folds for each of 9 candidates, totalling 45 fits\n"
     ]
    },
    {
     "name": "stderr",
     "output_type": "stream",
     "text": [
      "[Parallel(n_jobs=1)]: Using backend SequentialBackend with 1 concurrent workers.\n",
      "[Parallel(n_jobs=1)]: Done  45 out of  45 | elapsed:    8.7s finished\n"
     ]
    },
    {
     "name": "stdout",
     "output_type": "stream",
     "text": [
      "{'max_depth': 6, 'n_estimators': 50} 0.9037308995841448\n"
     ]
    }
   ],
   "source": [
    "# ハイパーパラメータ探索\n",
    "reg_cv = GridSearchCV(reg, {'max_depth': [2,4,6], 'n_estimators': [50,100,200]}, verbose=1)\n",
    "reg_cv.fit(train_X, train_y)\n",
    "print(reg_cv.best_params_, reg_cv.best_score_)"
   ]
  },
  {
   "cell_type": "code",
   "execution_count": 29,
   "id": "23d680c5-62d9-4747-add1-24d4ec4d45fc",
   "metadata": {},
   "outputs": [
    {
     "data": {
      "text/plain": [
       "XGBRegressor(base_score=0.5, booster='gbtree', callbacks=None,\n",
       "             colsample_bylevel=1, colsample_bynode=1, colsample_bytree=1,\n",
       "             early_stopping_rounds=None, enable_categorical=False,\n",
       "             eval_metric=None, feature_types=None, gamma=0, gpu_id=-1,\n",
       "             grow_policy='depthwise', importance_type=None,\n",
       "             interaction_constraints='', learning_rate=0.300000012, max_bin=256,\n",
       "             max_cat_threshold=64, max_cat_to_onehot=4, max_delta_step=0,\n",
       "             max_depth=6, max_leaves=0, min_child_weight=1, missing=nan,\n",
       "             monotone_constraints='()', n_estimators=50, n_jobs=0,\n",
       "             num_parallel_tree=1, predictor='auto', random_state=0, ...)"
      ]
     },
     "execution_count": 29,
     "metadata": {},
     "output_type": "execute_result"
    }
   ],
   "source": [
    "# 改めて最適パラメータで学習\n",
    "reg = xgb.XGBRegressor(**reg_cv.best_params_)\n",
    "reg.fit(train_X, train_y)"
   ]
  },
  {
   "cell_type": "markdown",
   "id": "9a887282-3111-4b03-ae1d-c7eeb3f809fe",
   "metadata": {},
   "source": [
    "## モデルの確認"
   ]
  },
  {
   "cell_type": "code",
   "execution_count": 30,
   "id": "4a257b22-13b2-4a36-9483-752b7b5386b0",
   "metadata": {},
   "outputs": [],
   "source": [
    "# 学習データを使って予測\n",
    "pred_test_y = reg.predict(test_X)"
   ]
  },
  {
   "cell_type": "code",
   "execution_count": 31,
   "id": "77a2cf2e-2bfb-4187-a78b-170721fc2975",
   "metadata": {},
   "outputs": [
    {
     "data": {
      "text/plain": [
       "array([253.68558, 188.91656,  78.29206, ..., 154.02953, 111.80819,\n",
       "        72.43422], dtype=float32)"
      ]
     },
     "execution_count": 31,
     "metadata": {},
     "output_type": "execute_result"
    }
   ],
   "source": [
    "pred_test_y"
   ]
  },
  {
   "cell_type": "code",
   "execution_count": 32,
   "id": "fca18264-6bad-48ea-aa97-b71925d7fa26",
   "metadata": {},
   "outputs": [
    {
     "data": {
      "text/plain": [
       "<AxesSubplot:>"
      ]
     },
     "execution_count": 32,
     "metadata": {},
     "output_type": "execute_result"
    },
    {
     "data": {
      "image/png": "[encoded data removed]",
      "text/plain": [
       "<Figure size 1200x500 with 1 Axes>"
      ]
     },
     "metadata": {},
     "output_type": "display_data"
    }
   ],
   "source": [
    "# 予測値が妥当か確認\n",
    "train_value = train_y.values\n",
    "_df = pd.DataFrame({'actual':test_y,'pred':pred_test_y})\n",
    "_df.plot(figsize=(12,5))"
   ]
  },
  {
   "cell_type": "markdown",
   "id": "2c6bd9d2-8148-4eec-94af-92df1dc8b718",
   "metadata": {},
   "source": [
    "おおむね、正しく予測出来てそう"
   ]
  },
  {
   "cell_type": "markdown",
   "id": "46e9b429-4e8c-4460-ba6b-225a60956999",
   "metadata": {},
   "source": [
    "### 特徴量の重要度確認"
   ]
  },
  {
   "cell_type": "code",
   "execution_count": 33,
   "id": "aa9ae21e-6df1-480b-84be-266462a4aee4",
   "metadata": {},
   "outputs": [
    {
     "data": {
      "image/png": "[encoded data removed]",
      "text/plain": [
       "<Figure size 640x480 with 1 Axes>"
      ]
     },
     "metadata": {},
     "output_type": "display_data"
    }
   ],
   "source": [
    "# feature importance のプロット\n",
    "importances = pd.Series(reg.feature_importances_, index = train_X.columns)\n",
    "importances = importances.sort_values()\n",
    "importances.plot(kind = \"barh\")\n",
    "plt.title(\"imporance in the xgboost Model\")\n",
    "plt.show()"
   ]
  },
  {
   "cell_type": "markdown",
   "id": "12ce660b-d1eb-4ff7-966c-10bbc3209d34",
   "metadata": {},
   "source": [
    "時間が大きくかかわっていることがわかる。"
   ]
  },
  {
   "cell_type": "code",
   "execution_count": 34,
   "id": "29648d42-36c3-469a-a876-093936d297af",
   "metadata": {},
   "outputs": [
    {
     "name": "stdout",
     "output_type": "stream",
     "text": [
      "RMSE : 72.230\n"
     ]
    }
   ],
   "source": [
    "from sklearn.metrics import mean_squared_error\n",
    "# RMSE計算\n",
    "rmse = np.sqrt(mean_squared_error(test_y, pred_test_y))\n",
    "print('RMSE : {:.3f}'.format(rmse))\n"
   ]
  },
  {
   "cell_type": "markdown",
   "id": "506bb7d2-dab8-45ac-a539-7c0d46022166",
   "metadata": {},
   "source": [
    "わりと良さそうだが、\n",
    "前処理前のXGboostの方が良い、"
   ]
  },
  {
   "cell_type": "markdown",
   "id": "99fdaffb-2c42-47dc-a37f-5c96b88903c0",
   "metadata": {},
   "source": [
    "### 提出ファイルの作成"
   ]
  },
  {
   "cell_type": "code",
   "execution_count": 35,
   "id": "fb059e72-2640-48aa-b275-f15b6f75d56e",
   "metadata": {},
   "outputs": [],
   "source": [
    "# テストデータに対し予測値の算出\n",
    "pred_test = reg.predict(X_test)"
   ]
  },
  {
   "cell_type": "code",
   "execution_count": 36,
   "id": "dd0b53a3-9d9f-4458-9fb2-8ea264adcd76",
   "metadata": {},
   "outputs": [
    {
     "data": {
      "text/plain": [
       "array([ 76.47401 ,  54.40468 ,  36.867966, ..., 133.05652 ,  83.9906  ,\n",
       "        62.701397], dtype=float32)"
      ]
     },
     "execution_count": 36,
     "metadata": {},
     "output_type": "execute_result"
    }
   ],
   "source": [
    "pred_test"
   ]
  },
  {
   "cell_type": "code",
   "execution_count": 37,
   "id": "003cd92a-2f85-4e8e-b22b-44d33c39eb10",
   "metadata": {},
   "outputs": [
    {
     "data": {
      "text/html": [
       "<div>\n",
       "<style scoped>\n",
       "    .dataframe tbody tr th:only-of-type {\n",
       "        vertical-align: middle;\n",
       "    }\n",
       "\n",
       "    .dataframe tbody tr th {\n",
       "        vertical-align: top;\n",
       "    }\n",
       "\n",
       "    .dataframe thead th {\n",
       "        text-align: right;\n",
       "    }\n",
       "</style>\n",
       "<table border=\"1\" class=\"dataframe\">\n",
       "  <thead>\n",
       "    <tr style=\"text-align: right;\">\n",
       "      <th></th>\n",
       "      <th>id</th>\n",
       "      <th>dteday</th>\n",
       "      <th>season</th>\n",
       "      <th>yr</th>\n",
       "      <th>mnth</th>\n",
       "      <th>hr</th>\n",
       "      <th>holiday</th>\n",
       "      <th>weekday</th>\n",
       "      <th>workingday</th>\n",
       "      <th>weathersit</th>\n",
       "      <th>temp</th>\n",
       "      <th>atemp</th>\n",
       "      <th>hum</th>\n",
       "      <th>windspeed</th>\n",
       "      <th>cnt</th>\n",
       "    </tr>\n",
       "  </thead>\n",
       "  <tbody>\n",
       "    <tr>\n",
       "      <th>0</th>\n",
       "      <td>8646</td>\n",
       "      <td>2012-01-01</td>\n",
       "      <td>1</td>\n",
       "      <td>1</td>\n",
       "      <td>1</td>\n",
       "      <td>0</td>\n",
       "      <td>0</td>\n",
       "      <td>0</td>\n",
       "      <td>0</td>\n",
       "      <td>1</td>\n",
       "      <td>0.36</td>\n",
       "      <td>0.3788</td>\n",
       "      <td>0.66</td>\n",
       "      <td>0.0000</td>\n",
       "      <td>76.474007</td>\n",
       "    </tr>\n",
       "    <tr>\n",
       "      <th>1</th>\n",
       "      <td>8647</td>\n",
       "      <td>2012-01-01</td>\n",
       "      <td>1</td>\n",
       "      <td>1</td>\n",
       "      <td>1</td>\n",
       "      <td>1</td>\n",
       "      <td>0</td>\n",
       "      <td>0</td>\n",
       "      <td>0</td>\n",
       "      <td>1</td>\n",
       "      <td>0.36</td>\n",
       "      <td>0.3485</td>\n",
       "      <td>0.66</td>\n",
       "      <td>0.1343</td>\n",
       "      <td>54.404678</td>\n",
       "    </tr>\n",
       "    <tr>\n",
       "      <th>2</th>\n",
       "      <td>8648</td>\n",
       "      <td>2012-01-01</td>\n",
       "      <td>1</td>\n",
       "      <td>1</td>\n",
       "      <td>1</td>\n",
       "      <td>2</td>\n",
       "      <td>0</td>\n",
       "      <td>0</td>\n",
       "      <td>0</td>\n",
       "      <td>1</td>\n",
       "      <td>0.32</td>\n",
       "      <td>0.3485</td>\n",
       "      <td>0.76</td>\n",
       "      <td>0.0000</td>\n",
       "      <td>36.867966</td>\n",
       "    </tr>\n",
       "    <tr>\n",
       "      <th>3</th>\n",
       "      <td>8649</td>\n",
       "      <td>2012-01-01</td>\n",
       "      <td>1</td>\n",
       "      <td>1</td>\n",
       "      <td>1</td>\n",
       "      <td>3</td>\n",
       "      <td>0</td>\n",
       "      <td>0</td>\n",
       "      <td>0</td>\n",
       "      <td>1</td>\n",
       "      <td>0.30</td>\n",
       "      <td>0.3333</td>\n",
       "      <td>0.81</td>\n",
       "      <td>0.0000</td>\n",
       "      <td>27.706715</td>\n",
       "    </tr>\n",
       "    <tr>\n",
       "      <th>4</th>\n",
       "      <td>8650</td>\n",
       "      <td>2012-01-01</td>\n",
       "      <td>1</td>\n",
       "      <td>1</td>\n",
       "      <td>1</td>\n",
       "      <td>4</td>\n",
       "      <td>0</td>\n",
       "      <td>0</td>\n",
       "      <td>0</td>\n",
       "      <td>1</td>\n",
       "      <td>0.28</td>\n",
       "      <td>0.3030</td>\n",
       "      <td>0.81</td>\n",
       "      <td>0.0896</td>\n",
       "      <td>6.790998</td>\n",
       "    </tr>\n",
       "  </tbody>\n",
       "</table>\n",
       "</div>"
      ],
      "text/plain": [
       "     id      dteday  season  yr  mnth  hr  holiday  weekday  workingday  \\\n",
       "0  8646  2012-01-01       1   1     1   0        0        0           0   \n",
       "1  8647  2012-01-01       1   1     1   1        0        0           0   \n",
       "2  8648  2012-01-01       1   1     1   2        0        0           0   \n",
       "3  8649  2012-01-01       1   1     1   3        0        0           0   \n",
       "4  8650  2012-01-01       1   1     1   4        0        0           0   \n",
       "\n",
       "   weathersit  temp   atemp   hum  windspeed        cnt  \n",
       "0           1  0.36  0.3788  0.66     0.0000  76.474007  \n",
       "1           1  0.36  0.3485  0.66     0.1343  54.404678  \n",
       "2           1  0.32  0.3485  0.76     0.0000  36.867966  \n",
       "3           1  0.30  0.3333  0.81     0.0000  27.706715  \n",
       "4           1  0.28  0.3030  0.81     0.0896   6.790998  "
      ]
     },
     "execution_count": 37,
     "metadata": {},
     "output_type": "execute_result"
    }
   ],
   "source": [
    "sub = test_df.copy()\n",
    "sub['cnt'] = pred_test\n",
    "sub.head(5)"
   ]
  },
  {
   "cell_type": "code",
   "execution_count": 38,
   "id": "b929d2ac-d268-4d33-8a71-d2a672e69479",
   "metadata": {},
   "outputs": [],
   "source": [
    "# 提出ファイル\n",
    "sub[['id','cnt']].to_csv('sample_submit_11.csv', index=False, header = False)"
   ]
  },
  {
   "cell_type": "code",
   "execution_count": 39,
   "id": "55323ec5-76b4-4192-a13d-9f0f65d2b48f",
   "metadata": {},
   "outputs": [
    {
     "data": {
      "text/html": [
       "<div>\n",
       "<style scoped>\n",
       "    .dataframe tbody tr th:only-of-type {\n",
       "        vertical-align: middle;\n",
       "    }\n",
       "\n",
       "    .dataframe tbody tr th {\n",
       "        vertical-align: top;\n",
       "    }\n",
       "\n",
       "    .dataframe thead th {\n",
       "        text-align: right;\n",
       "    }\n",
       "</style>\n",
       "<table border=\"1\" class=\"dataframe\">\n",
       "  <thead>\n",
       "    <tr style=\"text-align: right;\">\n",
       "      <th></th>\n",
       "      <th>8646</th>\n",
       "      <th>76.47401</th>\n",
       "    </tr>\n",
       "  </thead>\n",
       "  <tbody>\n",
       "    <tr>\n",
       "      <th>0</th>\n",
       "      <td>8647</td>\n",
       "      <td>54.404680</td>\n",
       "    </tr>\n",
       "    <tr>\n",
       "      <th>1</th>\n",
       "      <td>8648</td>\n",
       "      <td>36.867966</td>\n",
       "    </tr>\n",
       "    <tr>\n",
       "      <th>2</th>\n",
       "      <td>8649</td>\n",
       "      <td>27.706715</td>\n",
       "    </tr>\n",
       "    <tr>\n",
       "      <th>3</th>\n",
       "      <td>8650</td>\n",
       "      <td>6.790998</td>\n",
       "    </tr>\n",
       "    <tr>\n",
       "      <th>4</th>\n",
       "      <td>8651</td>\n",
       "      <td>6.503993</td>\n",
       "    </tr>\n",
       "  </tbody>\n",
       "</table>\n",
       "</div>"
      ],
      "text/plain": [
       "   8646   76.47401\n",
       "0  8647  54.404680\n",
       "1  8648  36.867966\n",
       "2  8649  27.706715\n",
       "3  8650   6.790998\n",
       "4  8651   6.503993"
      ]
     },
     "execution_count": 39,
     "metadata": {},
     "output_type": "execute_result"
    }
   ],
   "source": [
    "sample_submit_11 = pd.read_csv('sample_submit_11.csv')\n",
    "sample_submit_11.head(5)"
   ]
  },
  {
   "cell_type": "markdown",
   "id": "459b35e0-2f74-4a9f-82bb-7cb6dd18f36f",
   "metadata": {},
   "source": [
    "### 評価  \n",
    "RMSE  112.9892893(125/1246位)  \n",
    "特徴量を整理することで、処理の前より、精度が3ほど上がった。  \n",
    "別の学習モデルやアンサンブル学習などいろいろ出来そう。"
   ]
  },
  {
   "cell_type": "code",
   "execution_count": null,
   "id": "1a15bcd9-a0bd-484a-b616-e62a404a1d6f",
   "metadata": {},
   "outputs": [],
   "source": []
  },
  {
   "cell_type": "markdown",
   "id": "ac0809fe-44d9-4d60-8b99-705a1e1b1e50",
   "metadata": {},
   "source": [
    "# 検証12"
   ]
  },
  {
   "cell_type": "markdown",
   "id": "88726921-772e-4dfc-8d0a-e5833ae45266",
   "metadata": {},
   "source": [
    "### lightBGMに検証10とおなじ前処理をしてみる。"
   ]
  },
  {
   "cell_type": "code",
   "execution_count": 2,
   "id": "3b729cd1-707b-453a-85e6-bba561a15fb2",
   "metadata": {},
   "outputs": [],
   "source": [
    "#前処理\n",
    "\n",
    "#trainデータ処理\n",
    "train_df = pd.read_table('train.tsv')\n",
    "#One-Hot Encoding\n",
    "train_df_one_hot_encoded = pd.get_dummies(train_df,columns=['weathersit'])\n",
    "#曜日の'weekday'を土日(0)と平日(1)の2値データする。\n",
    "#新しい変数'weekday2'を作って、全て0(zero)を入れる\n",
    "train_df_one_hot_encoded['weekday2'] = 0\n",
    "#平日を1にしたいので、1にするコードを用意する\n",
    "train_df_one_hot_encoded.loc[train_df_one_hot_encoded['weekday'].isin(list(range(1,6))),'weekday2']=1\n",
    "# 結果の件数を確認する\n",
    "#train_df_one_hot_encoded['weekday2'].value_counts()\n",
    "# id2500以前は、傾向が違うため、カット(運用開始など？)\n",
    "train_df_one_hot_encoded = train_df_one_hot_encoded[train_df_one_hot_encoded['id'] > 2500]\n",
    "\n",
    "\n",
    "#testデータ処理\n",
    "test_df = pd.read_table('test.tsv')\n",
    "#One-Hot Encoding\n",
    "test_df_one_hot_encoded = pd.get_dummies(test_df,columns=['weathersit'])\n",
    "#曜日の'weekday'を土日(0)と平日(1)の2値データする。\n",
    "#新しい変数'weekday2'を作って、全て0(zero)を入れる\n",
    "test_df_one_hot_encoded['weekday2'] = 0\n",
    "#平日を1にしたいので、1にするコードを用意する\n",
    "test_df_one_hot_encoded.loc[test_df_one_hot_encoded['weekday'].isin(list(range(1,6))),'weekday2']=1\n"
   ]
  },
  {
   "cell_type": "code",
   "execution_count": 3,
   "id": "78ba94fa-c87a-4d01-aa5e-5fc0967d184e",
   "metadata": {},
   "outputs": [],
   "source": [
    "# 説明変数、目的変数を格納\n",
    "X = train_df_one_hot_encoded.drop(['id','dteday','cnt'], axis=1)\n",
    "y = train_df_one_hot_encoded['cnt']\n"
   ]
  },
  {
   "cell_type": "code",
   "execution_count": 42,
   "id": "28ecbd59-2acf-40b6-8f7d-f7c14536de5e",
   "metadata": {},
   "outputs": [],
   "source": [
    "# defaultはtrain dataが75%、test dataが25%に分割\n",
    "# また時系列のデータなので、shuffleをFalseにする。\n",
    "train_X, test_X, train_y, test_y = train_test_split(X, y, random_state=42, shuffle=False)\n"
   ]
  },
  {
   "cell_type": "code",
   "execution_count": 43,
   "id": "95e2de1f-89e7-4992-986e-231a4d223224",
   "metadata": {},
   "outputs": [],
   "source": [
    "import lightgbm as lgb #LightGBM"
   ]
  },
  {
   "cell_type": "code",
   "execution_count": 44,
   "id": "2b332bf2-e4af-4d29-862d-e06ff6039b62",
   "metadata": {},
   "outputs": [],
   "source": [
    "# モデルのインスタンス\n",
    "model_lgb = lgb.LGBMRegressor()"
   ]
  },
  {
   "cell_type": "code",
   "execution_count": 45,
   "id": "5dd98395-fb09-47dc-9cf7-5f83d0d11cf2",
   "metadata": {},
   "outputs": [
    {
     "data": {
      "text/plain": [
       "LGBMRegressor()"
      ]
     },
     "execution_count": 45,
     "metadata": {},
     "output_type": "execute_result"
    }
   ],
   "source": [
    "# モデルの学習\n",
    "model_lgb.fit(train_X, train_y)"
   ]
  },
  {
   "cell_type": "code",
   "execution_count": 46,
   "id": "f23a525b-ed8f-4521-a0ea-2f281c020b1c",
   "metadata": {},
   "outputs": [],
   "source": [
    "pred_lgb = model_lgb.predict(test_X)"
   ]
  },
  {
   "cell_type": "code",
   "execution_count": 47,
   "id": "2e01ea96-1c4c-4ecb-93bb-1e5bf42548f2",
   "metadata": {},
   "outputs": [
    {
     "data": {
      "text/plain": [
       "array([253.68428858, 149.4078965 ,  63.02763389, ..., 148.29979696,\n",
       "       120.68115719,  99.81998185])"
      ]
     },
     "execution_count": 47,
     "metadata": {},
     "output_type": "execute_result"
    }
   ],
   "source": [
    "pred_lgb"
   ]
  },
  {
   "cell_type": "code",
   "execution_count": 48,
   "id": "3a1d0983-5f4c-4249-99b5-d2c7e2246847",
   "metadata": {},
   "outputs": [],
   "source": [
    "# 評価(平均２乗誤差)\n",
    "from sklearn.metrics import mean_squared_error"
   ]
  },
  {
   "cell_type": "code",
   "execution_count": 49,
   "id": "6a37e7d0-d36e-4842-947b-2583ce3b0f8d",
   "metadata": {},
   "outputs": [
    {
     "name": "stdout",
     "output_type": "stream",
     "text": [
      "RMSE : 63.998\n"
     ]
    }
   ],
   "source": [
    "# 訓練データ予測のRMSE計算\n",
    "rmse = np.sqrt(mean_squared_error(test_y, pred_lgb))\n",
    "print('RMSE : {:.3f}'.format(rmse))\n"
   ]
  },
  {
   "cell_type": "markdown",
   "id": "f303e16c-5dcb-4db9-98c9-44abd4dd39db",
   "metadata": {},
   "source": [
    "検証06のlightGBMのRMSE : 58.273より精度が悪くなってはいるが、XGBoostのときも同じ現状だったのでこのまま続ける。"
   ]
  },
  {
   "cell_type": "markdown",
   "id": "fb61c2be-ac97-430e-8c7c-3f3c1b30dbc0",
   "metadata": {},
   "source": [
    "未知のtestデータを予測する。"
   ]
  },
  {
   "cell_type": "code",
   "execution_count": 51,
   "id": "5576588b-5ded-43fb-83fc-8e485bb37364",
   "metadata": {},
   "outputs": [
    {
     "data": {
      "text/html": [
       "<div>\n",
       "<style scoped>\n",
       "    .dataframe tbody tr th:only-of-type {\n",
       "        vertical-align: middle;\n",
       "    }\n",
       "\n",
       "    .dataframe tbody tr th {\n",
       "        vertical-align: top;\n",
       "    }\n",
       "\n",
       "    .dataframe thead th {\n",
       "        text-align: right;\n",
       "    }\n",
       "</style>\n",
       "<table border=\"1\" class=\"dataframe\">\n",
       "  <thead>\n",
       "    <tr style=\"text-align: right;\">\n",
       "      <th></th>\n",
       "      <th>season</th>\n",
       "      <th>yr</th>\n",
       "      <th>mnth</th>\n",
       "      <th>hr</th>\n",
       "      <th>holiday</th>\n",
       "      <th>weekday</th>\n",
       "      <th>workingday</th>\n",
       "      <th>temp</th>\n",
       "      <th>atemp</th>\n",
       "      <th>hum</th>\n",
       "      <th>windspeed</th>\n",
       "      <th>weathersit_1</th>\n",
       "      <th>weathersit_2</th>\n",
       "      <th>weathersit_3</th>\n",
       "      <th>weathersit_4</th>\n",
       "      <th>weekday2</th>\n",
       "    </tr>\n",
       "  </thead>\n",
       "  <tbody>\n",
       "    <tr>\n",
       "      <th>0</th>\n",
       "      <td>1</td>\n",
       "      <td>1</td>\n",
       "      <td>1</td>\n",
       "      <td>0</td>\n",
       "      <td>0</td>\n",
       "      <td>0</td>\n",
       "      <td>0</td>\n",
       "      <td>0.36</td>\n",
       "      <td>0.3788</td>\n",
       "      <td>0.66</td>\n",
       "      <td>0.0000</td>\n",
       "      <td>1</td>\n",
       "      <td>0</td>\n",
       "      <td>0</td>\n",
       "      <td>0</td>\n",
       "      <td>0</td>\n",
       "    </tr>\n",
       "    <tr>\n",
       "      <th>1</th>\n",
       "      <td>1</td>\n",
       "      <td>1</td>\n",
       "      <td>1</td>\n",
       "      <td>1</td>\n",
       "      <td>0</td>\n",
       "      <td>0</td>\n",
       "      <td>0</td>\n",
       "      <td>0.36</td>\n",
       "      <td>0.3485</td>\n",
       "      <td>0.66</td>\n",
       "      <td>0.1343</td>\n",
       "      <td>1</td>\n",
       "      <td>0</td>\n",
       "      <td>0</td>\n",
       "      <td>0</td>\n",
       "      <td>0</td>\n",
       "    </tr>\n",
       "    <tr>\n",
       "      <th>2</th>\n",
       "      <td>1</td>\n",
       "      <td>1</td>\n",
       "      <td>1</td>\n",
       "      <td>2</td>\n",
       "      <td>0</td>\n",
       "      <td>0</td>\n",
       "      <td>0</td>\n",
       "      <td>0.32</td>\n",
       "      <td>0.3485</td>\n",
       "      <td>0.76</td>\n",
       "      <td>0.0000</td>\n",
       "      <td>1</td>\n",
       "      <td>0</td>\n",
       "      <td>0</td>\n",
       "      <td>0</td>\n",
       "      <td>0</td>\n",
       "    </tr>\n",
       "    <tr>\n",
       "      <th>3</th>\n",
       "      <td>1</td>\n",
       "      <td>1</td>\n",
       "      <td>1</td>\n",
       "      <td>3</td>\n",
       "      <td>0</td>\n",
       "      <td>0</td>\n",
       "      <td>0</td>\n",
       "      <td>0.30</td>\n",
       "      <td>0.3333</td>\n",
       "      <td>0.81</td>\n",
       "      <td>0.0000</td>\n",
       "      <td>1</td>\n",
       "      <td>0</td>\n",
       "      <td>0</td>\n",
       "      <td>0</td>\n",
       "      <td>0</td>\n",
       "    </tr>\n",
       "    <tr>\n",
       "      <th>4</th>\n",
       "      <td>1</td>\n",
       "      <td>1</td>\n",
       "      <td>1</td>\n",
       "      <td>4</td>\n",
       "      <td>0</td>\n",
       "      <td>0</td>\n",
       "      <td>0</td>\n",
       "      <td>0.28</td>\n",
       "      <td>0.3030</td>\n",
       "      <td>0.81</td>\n",
       "      <td>0.0896</td>\n",
       "      <td>1</td>\n",
       "      <td>0</td>\n",
       "      <td>0</td>\n",
       "      <td>0</td>\n",
       "      <td>0</td>\n",
       "    </tr>\n",
       "  </tbody>\n",
       "</table>\n",
       "</div>"
      ],
      "text/plain": [
       "   season  yr  mnth  hr  holiday  weekday  workingday  temp   atemp   hum  \\\n",
       "0       1   1     1   0        0        0           0  0.36  0.3788  0.66   \n",
       "1       1   1     1   1        0        0           0  0.36  0.3485  0.66   \n",
       "2       1   1     1   2        0        0           0  0.32  0.3485  0.76   \n",
       "3       1   1     1   3        0        0           0  0.30  0.3333  0.81   \n",
       "4       1   1     1   4        0        0           0  0.28  0.3030  0.81   \n",
       "\n",
       "   windspeed  weathersit_1  weathersit_2  weathersit_3  weathersit_4  weekday2  \n",
       "0     0.0000             1             0             0             0         0  \n",
       "1     0.1343             1             0             0             0         0  \n",
       "2     0.0000             1             0             0             0         0  \n",
       "3     0.0000             1             0             0             0         0  \n",
       "4     0.0896             1             0             0             0         0  "
      ]
     },
     "execution_count": 51,
     "metadata": {},
     "output_type": "execute_result"
    }
   ],
   "source": [
    "#testデータの必要な変数だけをとりだす\n",
    "X_test = test_df_one_hot_encoded.drop(['id','dteday'], axis=1)\n",
    "X_test.head()"
   ]
  },
  {
   "cell_type": "code",
   "execution_count": 52,
   "id": "883c5e20-3ff0-47b3-9f5b-e9169bbe15a3",
   "metadata": {},
   "outputs": [
    {
     "data": {
      "text/plain": [
       "(8734, 16)"
      ]
     },
     "execution_count": 52,
     "metadata": {},
     "output_type": "execute_result"
    }
   ],
   "source": [
    "X_test.shape"
   ]
  },
  {
   "cell_type": "code",
   "execution_count": 53,
   "id": "2aa4bfe0-3a9f-4ffd-9f32-cf2d60b54872",
   "metadata": {},
   "outputs": [],
   "source": [
    "# test dataにモデルを適用する\n",
    "Y_test_pred = model_lgb.predict(X_test) #X_testデータを使って予測する"
   ]
  },
  {
   "cell_type": "code",
   "execution_count": 54,
   "id": "3dcfdb65-57dd-420d-b0ec-6e6cc48f0141",
   "metadata": {},
   "outputs": [
    {
     "data": {
      "text/plain": [
       "array([ 93.45673579,  61.80649437,  44.25168737, ..., 129.85630294,\n",
       "        99.15942061,  53.37760746])"
      ]
     },
     "execution_count": 54,
     "metadata": {},
     "output_type": "execute_result"
    }
   ],
   "source": [
    "Y_test_pred"
   ]
  },
  {
   "cell_type": "markdown",
   "id": "c97ca119-aa20-427c-8a75-f9d5313210ed",
   "metadata": {},
   "source": [
    "### 提出ファイルの作成"
   ]
  },
  {
   "cell_type": "code",
   "execution_count": 55,
   "id": "3fd01b4c-adea-45b2-bad1-f6ac27c4c253",
   "metadata": {},
   "outputs": [
    {
     "data": {
      "text/plain": [
       "((8734,), (8734, 14))"
      ]
     },
     "execution_count": 55,
     "metadata": {},
     "output_type": "execute_result"
    }
   ],
   "source": [
    "Y_test_pred.shape,test_df.shape"
   ]
  },
  {
   "cell_type": "code",
   "execution_count": 56,
   "id": "3e3de9c6-9b69-4c64-95d4-116891c01f08",
   "metadata": {},
   "outputs": [
    {
     "data": {
      "text/html": [
       "<div>\n",
       "<style scoped>\n",
       "    .dataframe tbody tr th:only-of-type {\n",
       "        vertical-align: middle;\n",
       "    }\n",
       "\n",
       "    .dataframe tbody tr th {\n",
       "        vertical-align: top;\n",
       "    }\n",
       "\n",
       "    .dataframe thead th {\n",
       "        text-align: right;\n",
       "    }\n",
       "</style>\n",
       "<table border=\"1\" class=\"dataframe\">\n",
       "  <thead>\n",
       "    <tr style=\"text-align: right;\">\n",
       "      <th></th>\n",
       "      <th>id</th>\n",
       "      <th>dteday</th>\n",
       "      <th>season</th>\n",
       "      <th>yr</th>\n",
       "      <th>mnth</th>\n",
       "      <th>hr</th>\n",
       "      <th>holiday</th>\n",
       "      <th>weekday</th>\n",
       "      <th>workingday</th>\n",
       "      <th>weathersit</th>\n",
       "      <th>temp</th>\n",
       "      <th>atemp</th>\n",
       "      <th>hum</th>\n",
       "      <th>windspeed</th>\n",
       "      <th>cnt</th>\n",
       "    </tr>\n",
       "  </thead>\n",
       "  <tbody>\n",
       "    <tr>\n",
       "      <th>0</th>\n",
       "      <td>8646</td>\n",
       "      <td>2012-01-01</td>\n",
       "      <td>1</td>\n",
       "      <td>1</td>\n",
       "      <td>1</td>\n",
       "      <td>0</td>\n",
       "      <td>0</td>\n",
       "      <td>0</td>\n",
       "      <td>0</td>\n",
       "      <td>1</td>\n",
       "      <td>0.36</td>\n",
       "      <td>0.3788</td>\n",
       "      <td>0.66</td>\n",
       "      <td>0.0000</td>\n",
       "      <td>93.456736</td>\n",
       "    </tr>\n",
       "    <tr>\n",
       "      <th>1</th>\n",
       "      <td>8647</td>\n",
       "      <td>2012-01-01</td>\n",
       "      <td>1</td>\n",
       "      <td>1</td>\n",
       "      <td>1</td>\n",
       "      <td>1</td>\n",
       "      <td>0</td>\n",
       "      <td>0</td>\n",
       "      <td>0</td>\n",
       "      <td>1</td>\n",
       "      <td>0.36</td>\n",
       "      <td>0.3485</td>\n",
       "      <td>0.66</td>\n",
       "      <td>0.1343</td>\n",
       "      <td>61.806494</td>\n",
       "    </tr>\n",
       "    <tr>\n",
       "      <th>2</th>\n",
       "      <td>8648</td>\n",
       "      <td>2012-01-01</td>\n",
       "      <td>1</td>\n",
       "      <td>1</td>\n",
       "      <td>1</td>\n",
       "      <td>2</td>\n",
       "      <td>0</td>\n",
       "      <td>0</td>\n",
       "      <td>0</td>\n",
       "      <td>1</td>\n",
       "      <td>0.32</td>\n",
       "      <td>0.3485</td>\n",
       "      <td>0.76</td>\n",
       "      <td>0.0000</td>\n",
       "      <td>44.251687</td>\n",
       "    </tr>\n",
       "    <tr>\n",
       "      <th>3</th>\n",
       "      <td>8649</td>\n",
       "      <td>2012-01-01</td>\n",
       "      <td>1</td>\n",
       "      <td>1</td>\n",
       "      <td>1</td>\n",
       "      <td>3</td>\n",
       "      <td>0</td>\n",
       "      <td>0</td>\n",
       "      <td>0</td>\n",
       "      <td>1</td>\n",
       "      <td>0.30</td>\n",
       "      <td>0.3333</td>\n",
       "      <td>0.81</td>\n",
       "      <td>0.0000</td>\n",
       "      <td>20.991713</td>\n",
       "    </tr>\n",
       "    <tr>\n",
       "      <th>4</th>\n",
       "      <td>8650</td>\n",
       "      <td>2012-01-01</td>\n",
       "      <td>1</td>\n",
       "      <td>1</td>\n",
       "      <td>1</td>\n",
       "      <td>4</td>\n",
       "      <td>0</td>\n",
       "      <td>0</td>\n",
       "      <td>0</td>\n",
       "      <td>1</td>\n",
       "      <td>0.28</td>\n",
       "      <td>0.3030</td>\n",
       "      <td>0.81</td>\n",
       "      <td>0.0896</td>\n",
       "      <td>5.209588</td>\n",
       "    </tr>\n",
       "  </tbody>\n",
       "</table>\n",
       "</div>"
      ],
      "text/plain": [
       "     id      dteday  season  yr  mnth  hr  holiday  weekday  workingday  \\\n",
       "0  8646  2012-01-01       1   1     1   0        0        0           0   \n",
       "1  8647  2012-01-01       1   1     1   1        0        0           0   \n",
       "2  8648  2012-01-01       1   1     1   2        0        0           0   \n",
       "3  8649  2012-01-01       1   1     1   3        0        0           0   \n",
       "4  8650  2012-01-01       1   1     1   4        0        0           0   \n",
       "\n",
       "   weathersit  temp   atemp   hum  windspeed        cnt  \n",
       "0           1  0.36  0.3788  0.66     0.0000  93.456736  \n",
       "1           1  0.36  0.3485  0.66     0.1343  61.806494  \n",
       "2           1  0.32  0.3485  0.76     0.0000  44.251687  \n",
       "3           1  0.30  0.3333  0.81     0.0000  20.991713  \n",
       "4           1  0.28  0.3030  0.81     0.0896   5.209588  "
      ]
     },
     "execution_count": 56,
     "metadata": {},
     "output_type": "execute_result"
    }
   ],
   "source": [
    "sub = test_df.copy()\n",
    "sub['cnt'] = Y_test_pred\n",
    "sub.head(5)"
   ]
  },
  {
   "cell_type": "code",
   "execution_count": 57,
   "id": "9912baa7-de80-4cf4-8c19-19112f1fc753",
   "metadata": {},
   "outputs": [],
   "source": [
    "# 提出ファイル\n",
    "sub[['id','cnt']].to_csv('sample_submit_12.csv', index=False, header = False)"
   ]
  },
  {
   "cell_type": "code",
   "execution_count": 58,
   "id": "92274087-1432-431f-82dc-0f9eb17abcb7",
   "metadata": {},
   "outputs": [
    {
     "data": {
      "text/html": [
       "<div>\n",
       "<style scoped>\n",
       "    .dataframe tbody tr th:only-of-type {\n",
       "        vertical-align: middle;\n",
       "    }\n",
       "\n",
       "    .dataframe tbody tr th {\n",
       "        vertical-align: top;\n",
       "    }\n",
       "\n",
       "    .dataframe thead th {\n",
       "        text-align: right;\n",
       "    }\n",
       "</style>\n",
       "<table border=\"1\" class=\"dataframe\">\n",
       "  <thead>\n",
       "    <tr style=\"text-align: right;\">\n",
       "      <th></th>\n",
       "      <th>8646</th>\n",
       "      <th>93.45673578880918</th>\n",
       "    </tr>\n",
       "  </thead>\n",
       "  <tbody>\n",
       "    <tr>\n",
       "      <th>0</th>\n",
       "      <td>8647</td>\n",
       "      <td>61.806494</td>\n",
       "    </tr>\n",
       "    <tr>\n",
       "      <th>1</th>\n",
       "      <td>8648</td>\n",
       "      <td>44.251687</td>\n",
       "    </tr>\n",
       "    <tr>\n",
       "      <th>2</th>\n",
       "      <td>8649</td>\n",
       "      <td>20.991713</td>\n",
       "    </tr>\n",
       "    <tr>\n",
       "      <th>3</th>\n",
       "      <td>8650</td>\n",
       "      <td>5.209588</td>\n",
       "    </tr>\n",
       "    <tr>\n",
       "      <th>4</th>\n",
       "      <td>8651</td>\n",
       "      <td>5.984680</td>\n",
       "    </tr>\n",
       "  </tbody>\n",
       "</table>\n",
       "</div>"
      ],
      "text/plain": [
       "   8646  93.45673578880918\n",
       "0  8647          61.806494\n",
       "1  8648          44.251687\n",
       "2  8649          20.991713\n",
       "3  8650           5.209588\n",
       "4  8651           5.984680"
      ]
     },
     "execution_count": 58,
     "metadata": {},
     "output_type": "execute_result"
    }
   ],
   "source": [
    "sample_submit_12 = pd.read_csv('sample_submit_12.csv')\n",
    "sample_submit_12.head(5)"
   ]
  },
  {
   "cell_type": "markdown",
   "id": "36d13721-39c2-4d0f-8b07-712f0a7b4147",
   "metadata": {},
   "source": [
    "### 評価  \n",
    "RMSE  ?(125/1246位)  \n",
    "精度は高いとは言えない、  \n",
    "XGboostの方が強い。"
   ]
  },
  {
   "cell_type": "code",
   "execution_count": null,
   "id": "bb3eb0b9-4f14-4695-bf3c-833a271cf96e",
   "metadata": {},
   "outputs": [],
   "source": []
  },
  {
   "cell_type": "code",
   "execution_count": null,
   "id": "45de1a57-bc8e-49bb-b066-d61850c77532",
   "metadata": {},
   "outputs": [],
   "source": []
  },
  {
   "cell_type": "markdown",
   "id": "4ecbdfa0-1125-4bd3-a163-ee3a01305dfa",
   "metadata": {},
   "source": [
    "# 検証 13"
   ]
  },
  {
   "cell_type": "markdown",
   "id": "0c203e88-5b10-47dd-a2e4-e88d09d72f9b",
   "metadata": {},
   "source": [
    "## スタッキング(ランダムフォレスト,lightgbm,xgboostの予測値を重回帰分析にかけて最終的な予測をする。)"
   ]
  },
  {
   "cell_type": "code",
   "execution_count": 59,
   "id": "af4019dd-2c0a-479b-a8e2-1f211f38bd77",
   "metadata": {},
   "outputs": [],
   "source": [
    "#前処理\n",
    "\n",
    "#trainデータ処理\n",
    "train_df = pd.read_table('train.tsv')\n",
    "#One-Hot Encoding\n",
    "train_df_one_hot_encoded = pd.get_dummies(train_df,columns=['weathersit'])\n",
    "#曜日の'weekday'を土日(0)と平日(1)の2値データする。\n",
    "#新しい変数'weekday2'を作って、全て0(zero)を入れる\n",
    "train_df_one_hot_encoded['weekday2'] = 0\n",
    "#平日を1にしたいので、1にするコードを用意する\n",
    "train_df_one_hot_encoded.loc[train_df_one_hot_encoded['weekday'].isin(list(range(1,6))),'weekday2']=1\n",
    "# 結果の件数を確認する\n",
    "#train_df_one_hot_encoded['weekday2'].value_counts()\n",
    "# id2500以前は、傾向が違うため、カット(運用開始など？)\n",
    "train_df_one_hot_encoded = train_df_one_hot_encoded[train_df_one_hot_encoded['id'] > 2500]\n",
    "\n",
    "\n",
    "#testデータ処理\n",
    "test_df = pd.read_table('test.tsv')\n",
    "#One-Hot Encoding\n",
    "test_df_one_hot_encoded = pd.get_dummies(test_df,columns=['weathersit'])\n",
    "#曜日の'weekday'を土日(0)と平日(1)の2値データする。\n",
    "#新しい変数'weekday2'を作って、全て0(zero)を入れる\n",
    "test_df_one_hot_encoded['weekday2'] = 0\n",
    "#平日を1にしたいので、1にするコードを用意する\n",
    "test_df_one_hot_encoded.loc[test_df_one_hot_encoded['weekday'].isin(list(range(1,6))),'weekday2']=1\n"
   ]
  },
  {
   "cell_type": "code",
   "execution_count": 60,
   "id": "29f03815-cae2-410c-ba4d-3abbddee5e4f",
   "metadata": {},
   "outputs": [],
   "source": [
    "# 説明変数、目的変数を格納\n",
    "X = train_df_one_hot_encoded.drop(['id','dteday','cnt'], axis=1)\n",
    "y = train_df_one_hot_encoded['cnt']\n"
   ]
  },
  {
   "cell_type": "markdown",
   "id": "d334087a-e6a8-4184-a67f-d5f9a65a4845",
   "metadata": {},
   "source": [
    "第一段階での予測値を利用して、さらに重回帰分析をするので、データを三分割する必要がある。"
   ]
  },
  {
   "cell_type": "code",
   "execution_count": 61,
   "id": "35f0c1a1-5dc0-4b57-89cc-2829e0a7444c",
   "metadata": {},
   "outputs": [
    {
     "name": "stdout",
     "output_type": "stream",
     "text": [
      "(3932, 16)\n",
      "(984, 16)\n",
      "(1229, 16)\n",
      "(3932,)\n",
      "(984,)\n",
      "(1229,)\n"
     ]
    }
   ],
   "source": [
    "# データを3つに分割\n",
    "X_train,X_test, y_train, y_test = train_test_split(X, y, test_size=0.2, random_state=0)\n",
    "X_train, X_valid, y_train, y_valid = train_test_split(X_train, y_train, test_size=0.2, random_state=0)\n",
    "print(X_train.shape)\n",
    "print(X_valid.shape)\n",
    "print(X_test.shape)\n",
    "print(y_train.shape)\n",
    "print(y_valid.shape)\n",
    "print(y_test.shape)"
   ]
  },
  {
   "cell_type": "code",
   "execution_count": 63,
   "id": "6a1b6e8e-0914-403d-9484-9e4a5d2344c2",
   "metadata": {},
   "outputs": [],
   "source": [
    "from sklearn.ensemble import RandomForestRegressor #ランダムフォレスト "
   ]
  },
  {
   "cell_type": "code",
   "execution_count": 64,
   "id": "0ded20b7-000e-4972-bce1-1f69cec3f5e7",
   "metadata": {},
   "outputs": [],
   "source": [
    "# モデルのインスタンス\n",
    "# xgboostモデルの作成\n",
    "model_1 = xgb.XGBRegressor()\n",
    "model_2 = RandomForestRegressor()\n",
    "model_3 = lgb.LGBMRegressor()\n",
    "\n",
    "# モデルの学習\n",
    "model_1.fit(X_train, y_train)\n",
    "model_2.fit(X_train, y_train)\n",
    "model_3.fit(X_train, y_train)\n",
    "\n",
    "# 予測値の作成\n",
    "pred_1 = model_1.predict(X_test)\n",
    "pred_2 = model_2.predict(X_test)\n",
    "pred_3 = model_3.predict(X_test)\n"
   ]
  },
  {
   "cell_type": "code",
   "execution_count": 65,
   "id": "57c4773f-0a73-44b0-b598-4668b0799fe4",
   "metadata": {},
   "outputs": [
    {
     "name": "stdout",
     "output_type": "stream",
     "text": [
      "XGBoostのRMSE : 37.538\n",
      "ランダムフォレストのRMSE : 37.679\n",
      "LightGBMのRMSE : 35.451\n"
     ]
    }
   ],
   "source": [
    "#　各モデル個別の予測精度をRMSEで確認\n",
    "rmse_1 = np.sqrt(mean_squared_error(y_test, pred_1))\n",
    "print('XGBoostのRMSE : {:.3f}'.format(rmse_1))\n",
    "\n",
    "rmse_2 = np.sqrt(mean_squared_error(y_test, pred_2))\n",
    "print('ランダムフォレストのRMSE : {:.3f}'.format(rmse_2))\n",
    "\n",
    "rmse_3 = np.sqrt(mean_squared_error(y_test, pred_3))\n",
    "print('LightGBMのRMSE : {:.3f}'.format(rmse_3))\n"
   ]
  },
  {
   "cell_type": "code",
   "execution_count": 68,
   "id": "cab1bc7e-5a02-4793-90eb-4145b747650f",
   "metadata": {},
   "outputs": [],
   "source": [
    "from sklearn.linear_model import LinearRegression #重回帰分析"
   ]
  },
  {
   "cell_type": "code",
   "execution_count": 69,
   "id": "0780b1a2-1319-4f5e-8f96-6159da57a54a",
   "metadata": {},
   "outputs": [],
   "source": [
    "# 第一段階の予測値\n",
    "first_pred_1 = model_1.predict(X_valid)\n",
    "first_pred_2 = model_2.predict(X_valid)\n",
    "first_pred_3 = model_3.predict(X_valid)\n",
    "\n",
    "# 第一段階の予測値をまとめる（メタモデルの特徴量）\n",
    "stack_pred = np.column_stack((first_pred_1,first_pred_2,first_pred_3))\n",
    "\n",
    "# メタモデルの作成\n",
    "meta_model = LinearRegression()\n",
    "# 第一段階の予測値の答え = y_valid\n",
    "meta_model.fit(stack_pred, y_valid)\n",
    "\n",
    "# 事前に予測しておいた値でスタッキングの精度を確認する\n",
    "stack_test_pred = np.column_stack((pred_1, pred_2, pred_3))\n",
    "meta_test_pred = meta_model.predict(stack_test_pred)\n"
   ]
  },
  {
   "cell_type": "code",
   "execution_count": 70,
   "id": "a0334a62-9364-440f-ae1a-71f04f56ad3e",
   "metadata": {},
   "outputs": [
    {
     "name": "stdout",
     "output_type": "stream",
     "text": [
      "メタモデルのRMSE : 34.899\n"
     ]
    }
   ],
   "source": [
    "#　メタモデルの予測精度をRMSEで確認\n",
    "rmse_4 = np.sqrt(mean_squared_error(y_test, meta_test_pred))\n",
    "print('メタモデルのRMSE : {:.3f}'.format(rmse_4))\n"
   ]
  },
  {
   "cell_type": "markdown",
   "id": "2e8fbc7f-ff98-4054-8098-8b78aa89dce9",
   "metadata": {},
   "source": [
    "検証12までやってきて、一番精度は高い。"
   ]
  },
  {
   "cell_type": "markdown",
   "id": "2d608215-b3e0-4611-a698-b78b83b472de",
   "metadata": {},
   "source": [
    "未知のtestデータを予測する。"
   ]
  },
  {
   "cell_type": "code",
   "execution_count": 71,
   "id": "b0643cfc-c707-4a84-8ebc-ce01f7785534",
   "metadata": {},
   "outputs": [
    {
     "data": {
      "text/html": [
       "<div>\n",
       "<style scoped>\n",
       "    .dataframe tbody tr th:only-of-type {\n",
       "        vertical-align: middle;\n",
       "    }\n",
       "\n",
       "    .dataframe tbody tr th {\n",
       "        vertical-align: top;\n",
       "    }\n",
       "\n",
       "    .dataframe thead th {\n",
       "        text-align: right;\n",
       "    }\n",
       "</style>\n",
       "<table border=\"1\" class=\"dataframe\">\n",
       "  <thead>\n",
       "    <tr style=\"text-align: right;\">\n",
       "      <th></th>\n",
       "      <th>season</th>\n",
       "      <th>yr</th>\n",
       "      <th>mnth</th>\n",
       "      <th>hr</th>\n",
       "      <th>holiday</th>\n",
       "      <th>weekday</th>\n",
       "      <th>workingday</th>\n",
       "      <th>temp</th>\n",
       "      <th>atemp</th>\n",
       "      <th>hum</th>\n",
       "      <th>windspeed</th>\n",
       "      <th>weathersit_1</th>\n",
       "      <th>weathersit_2</th>\n",
       "      <th>weathersit_3</th>\n",
       "      <th>weathersit_4</th>\n",
       "      <th>weekday2</th>\n",
       "    </tr>\n",
       "  </thead>\n",
       "  <tbody>\n",
       "    <tr>\n",
       "      <th>0</th>\n",
       "      <td>1</td>\n",
       "      <td>1</td>\n",
       "      <td>1</td>\n",
       "      <td>0</td>\n",
       "      <td>0</td>\n",
       "      <td>0</td>\n",
       "      <td>0</td>\n",
       "      <td>0.36</td>\n",
       "      <td>0.3788</td>\n",
       "      <td>0.66</td>\n",
       "      <td>0.0000</td>\n",
       "      <td>1</td>\n",
       "      <td>0</td>\n",
       "      <td>0</td>\n",
       "      <td>0</td>\n",
       "      <td>0</td>\n",
       "    </tr>\n",
       "    <tr>\n",
       "      <th>1</th>\n",
       "      <td>1</td>\n",
       "      <td>1</td>\n",
       "      <td>1</td>\n",
       "      <td>1</td>\n",
       "      <td>0</td>\n",
       "      <td>0</td>\n",
       "      <td>0</td>\n",
       "      <td>0.36</td>\n",
       "      <td>0.3485</td>\n",
       "      <td>0.66</td>\n",
       "      <td>0.1343</td>\n",
       "      <td>1</td>\n",
       "      <td>0</td>\n",
       "      <td>0</td>\n",
       "      <td>0</td>\n",
       "      <td>0</td>\n",
       "    </tr>\n",
       "    <tr>\n",
       "      <th>2</th>\n",
       "      <td>1</td>\n",
       "      <td>1</td>\n",
       "      <td>1</td>\n",
       "      <td>2</td>\n",
       "      <td>0</td>\n",
       "      <td>0</td>\n",
       "      <td>0</td>\n",
       "      <td>0.32</td>\n",
       "      <td>0.3485</td>\n",
       "      <td>0.76</td>\n",
       "      <td>0.0000</td>\n",
       "      <td>1</td>\n",
       "      <td>0</td>\n",
       "      <td>0</td>\n",
       "      <td>0</td>\n",
       "      <td>0</td>\n",
       "    </tr>\n",
       "    <tr>\n",
       "      <th>3</th>\n",
       "      <td>1</td>\n",
       "      <td>1</td>\n",
       "      <td>1</td>\n",
       "      <td>3</td>\n",
       "      <td>0</td>\n",
       "      <td>0</td>\n",
       "      <td>0</td>\n",
       "      <td>0.30</td>\n",
       "      <td>0.3333</td>\n",
       "      <td>0.81</td>\n",
       "      <td>0.0000</td>\n",
       "      <td>1</td>\n",
       "      <td>0</td>\n",
       "      <td>0</td>\n",
       "      <td>0</td>\n",
       "      <td>0</td>\n",
       "    </tr>\n",
       "    <tr>\n",
       "      <th>4</th>\n",
       "      <td>1</td>\n",
       "      <td>1</td>\n",
       "      <td>1</td>\n",
       "      <td>4</td>\n",
       "      <td>0</td>\n",
       "      <td>0</td>\n",
       "      <td>0</td>\n",
       "      <td>0.28</td>\n",
       "      <td>0.3030</td>\n",
       "      <td>0.81</td>\n",
       "      <td>0.0896</td>\n",
       "      <td>1</td>\n",
       "      <td>0</td>\n",
       "      <td>0</td>\n",
       "      <td>0</td>\n",
       "      <td>0</td>\n",
       "    </tr>\n",
       "  </tbody>\n",
       "</table>\n",
       "</div>"
      ],
      "text/plain": [
       "   season  yr  mnth  hr  holiday  weekday  workingday  temp   atemp   hum  \\\n",
       "0       1   1     1   0        0        0           0  0.36  0.3788  0.66   \n",
       "1       1   1     1   1        0        0           0  0.36  0.3485  0.66   \n",
       "2       1   1     1   2        0        0           0  0.32  0.3485  0.76   \n",
       "3       1   1     1   3        0        0           0  0.30  0.3333  0.81   \n",
       "4       1   1     1   4        0        0           0  0.28  0.3030  0.81   \n",
       "\n",
       "   windspeed  weathersit_1  weathersit_2  weathersit_3  weathersit_4  weekday2  \n",
       "0     0.0000             1             0             0             0         0  \n",
       "1     0.1343             1             0             0             0         0  \n",
       "2     0.0000             1             0             0             0         0  \n",
       "3     0.0000             1             0             0             0         0  \n",
       "4     0.0896             1             0             0             0         0  "
      ]
     },
     "execution_count": 71,
     "metadata": {},
     "output_type": "execute_result"
    }
   ],
   "source": [
    "#testデータの必要な変数だけをとりだす\n",
    "X_test = test_df_one_hot_encoded.drop(['id','dteday'], axis=1)\n",
    "X_test.head()"
   ]
  },
  {
   "cell_type": "code",
   "execution_count": 72,
   "id": "e6e76d37-becf-4abe-9183-169fa5a9dac9",
   "metadata": {},
   "outputs": [
    {
     "data": {
      "text/plain": [
       "(8734, 16)"
      ]
     },
     "execution_count": 72,
     "metadata": {},
     "output_type": "execute_result"
    }
   ],
   "source": [
    "X_test.shape"
   ]
  },
  {
   "cell_type": "code",
   "execution_count": 73,
   "id": "bf149c28-5c6b-4368-af99-7a007ff57034",
   "metadata": {},
   "outputs": [],
   "source": [
    "# 未知データの第一予測値の作成\n",
    "pred_1 = model_1.predict(X_test)\n",
    "pred_2 = model_2.predict(X_test)\n",
    "pred_3 = model_3.predict(X_test)\n"
   ]
  },
  {
   "cell_type": "code",
   "execution_count": 74,
   "id": "3a206442-6d68-43d0-a809-c803d50e0e15",
   "metadata": {},
   "outputs": [
    {
     "data": {
      "text/plain": [
       "array([49.243916, 44.200165, 42.00649 , ..., 58.20574 , 41.734863,\n",
       "       28.121119], dtype=float32)"
      ]
     },
     "execution_count": 74,
     "metadata": {},
     "output_type": "execute_result"
    }
   ],
   "source": [
    "pred_1"
   ]
  },
  {
   "cell_type": "code",
   "execution_count": 75,
   "id": "d16f396d-5cac-459a-af62-6cf0be57f0e0",
   "metadata": {},
   "outputs": [],
   "source": [
    "\n",
    "# 事前に予測しておいた値でスタッキングの精度を確認する\n",
    "stack_test_pred = np.column_stack((pred_1, pred_2, pred_3))\n",
    "meta_test_pred = meta_model.predict(stack_test_pred)\n"
   ]
  },
  {
   "cell_type": "code",
   "execution_count": 76,
   "id": "64e1b290-665a-4db9-8e67-e02474cf599c",
   "metadata": {},
   "outputs": [
    {
     "data": {
      "text/plain": [
       "array([57.81014177, 33.74306001, 25.25039091, ..., 57.00455009,\n",
       "       45.98178703, 25.66164326])"
      ]
     },
     "execution_count": 76,
     "metadata": {},
     "output_type": "execute_result"
    }
   ],
   "source": [
    "meta_test_pred"
   ]
  },
  {
   "cell_type": "markdown",
   "id": "43992d47-b4f3-47b5-92c2-38e80ad1e175",
   "metadata": {},
   "source": [
    "### 提出ファイルの作成"
   ]
  },
  {
   "cell_type": "code",
   "execution_count": 77,
   "id": "bc8d2c96-1cd0-4638-bd03-3ad785a2110d",
   "metadata": {},
   "outputs": [
    {
     "data": {
      "text/plain": [
       "((8734,), (8734, 14))"
      ]
     },
     "execution_count": 77,
     "metadata": {},
     "output_type": "execute_result"
    }
   ],
   "source": [
    "meta_test_pred.shape,test_df.shape"
   ]
  },
  {
   "cell_type": "code",
   "execution_count": 78,
   "id": "e0c60786-d41e-4322-8562-c41aff846741",
   "metadata": {},
   "outputs": [
    {
     "data": {
      "text/html": [
       "<div>\n",
       "<style scoped>\n",
       "    .dataframe tbody tr th:only-of-type {\n",
       "        vertical-align: middle;\n",
       "    }\n",
       "\n",
       "    .dataframe tbody tr th {\n",
       "        vertical-align: top;\n",
       "    }\n",
       "\n",
       "    .dataframe thead th {\n",
       "        text-align: right;\n",
       "    }\n",
       "</style>\n",
       "<table border=\"1\" class=\"dataframe\">\n",
       "  <thead>\n",
       "    <tr style=\"text-align: right;\">\n",
       "      <th></th>\n",
       "      <th>id</th>\n",
       "      <th>dteday</th>\n",
       "      <th>season</th>\n",
       "      <th>yr</th>\n",
       "      <th>mnth</th>\n",
       "      <th>hr</th>\n",
       "      <th>holiday</th>\n",
       "      <th>weekday</th>\n",
       "      <th>workingday</th>\n",
       "      <th>weathersit</th>\n",
       "      <th>temp</th>\n",
       "      <th>atemp</th>\n",
       "      <th>hum</th>\n",
       "      <th>windspeed</th>\n",
       "      <th>cnt</th>\n",
       "    </tr>\n",
       "  </thead>\n",
       "  <tbody>\n",
       "    <tr>\n",
       "      <th>0</th>\n",
       "      <td>8646</td>\n",
       "      <td>2012-01-01</td>\n",
       "      <td>1</td>\n",
       "      <td>1</td>\n",
       "      <td>1</td>\n",
       "      <td>0</td>\n",
       "      <td>0</td>\n",
       "      <td>0</td>\n",
       "      <td>0</td>\n",
       "      <td>1</td>\n",
       "      <td>0.36</td>\n",
       "      <td>0.3788</td>\n",
       "      <td>0.66</td>\n",
       "      <td>0.0000</td>\n",
       "      <td>57.810142</td>\n",
       "    </tr>\n",
       "    <tr>\n",
       "      <th>1</th>\n",
       "      <td>8647</td>\n",
       "      <td>2012-01-01</td>\n",
       "      <td>1</td>\n",
       "      <td>1</td>\n",
       "      <td>1</td>\n",
       "      <td>1</td>\n",
       "      <td>0</td>\n",
       "      <td>0</td>\n",
       "      <td>0</td>\n",
       "      <td>1</td>\n",
       "      <td>0.36</td>\n",
       "      <td>0.3485</td>\n",
       "      <td>0.66</td>\n",
       "      <td>0.1343</td>\n",
       "      <td>33.743060</td>\n",
       "    </tr>\n",
       "    <tr>\n",
       "      <th>2</th>\n",
       "      <td>8648</td>\n",
       "      <td>2012-01-01</td>\n",
       "      <td>1</td>\n",
       "      <td>1</td>\n",
       "      <td>1</td>\n",
       "      <td>2</td>\n",
       "      <td>0</td>\n",
       "      <td>0</td>\n",
       "      <td>0</td>\n",
       "      <td>1</td>\n",
       "      <td>0.32</td>\n",
       "      <td>0.3485</td>\n",
       "      <td>0.76</td>\n",
       "      <td>0.0000</td>\n",
       "      <td>25.250391</td>\n",
       "    </tr>\n",
       "    <tr>\n",
       "      <th>3</th>\n",
       "      <td>8649</td>\n",
       "      <td>2012-01-01</td>\n",
       "      <td>1</td>\n",
       "      <td>1</td>\n",
       "      <td>1</td>\n",
       "      <td>3</td>\n",
       "      <td>0</td>\n",
       "      <td>0</td>\n",
       "      <td>0</td>\n",
       "      <td>1</td>\n",
       "      <td>0.30</td>\n",
       "      <td>0.3333</td>\n",
       "      <td>0.81</td>\n",
       "      <td>0.0000</td>\n",
       "      <td>9.031976</td>\n",
       "    </tr>\n",
       "    <tr>\n",
       "      <th>4</th>\n",
       "      <td>8650</td>\n",
       "      <td>2012-01-01</td>\n",
       "      <td>1</td>\n",
       "      <td>1</td>\n",
       "      <td>1</td>\n",
       "      <td>4</td>\n",
       "      <td>0</td>\n",
       "      <td>0</td>\n",
       "      <td>0</td>\n",
       "      <td>1</td>\n",
       "      <td>0.28</td>\n",
       "      <td>0.3030</td>\n",
       "      <td>0.81</td>\n",
       "      <td>0.0896</td>\n",
       "      <td>-6.405563</td>\n",
       "    </tr>\n",
       "  </tbody>\n",
       "</table>\n",
       "</div>"
      ],
      "text/plain": [
       "     id      dteday  season  yr  mnth  hr  holiday  weekday  workingday  \\\n",
       "0  8646  2012-01-01       1   1     1   0        0        0           0   \n",
       "1  8647  2012-01-01       1   1     1   1        0        0           0   \n",
       "2  8648  2012-01-01       1   1     1   2        0        0           0   \n",
       "3  8649  2012-01-01       1   1     1   3        0        0           0   \n",
       "4  8650  2012-01-01       1   1     1   4        0        0           0   \n",
       "\n",
       "   weathersit  temp   atemp   hum  windspeed        cnt  \n",
       "0           1  0.36  0.3788  0.66     0.0000  57.810142  \n",
       "1           1  0.36  0.3485  0.66     0.1343  33.743060  \n",
       "2           1  0.32  0.3485  0.76     0.0000  25.250391  \n",
       "3           1  0.30  0.3333  0.81     0.0000   9.031976  \n",
       "4           1  0.28  0.3030  0.81     0.0896  -6.405563  "
      ]
     },
     "execution_count": 78,
     "metadata": {},
     "output_type": "execute_result"
    }
   ],
   "source": [
    "sub = test_df.copy()\n",
    "sub['cnt'] = meta_test_pred\n",
    "sub.head(5)"
   ]
  },
  {
   "cell_type": "code",
   "execution_count": 79,
   "id": "ae46c073-67e1-4a22-9baf-d2100ec2fdc3",
   "metadata": {},
   "outputs": [],
   "source": [
    "# 提出ファイル\n",
    "sub[['id','cnt']].to_csv('sample_submit_13.csv', index=False, header = False)"
   ]
  },
  {
   "cell_type": "markdown",
   "id": "0ed3739e-1396-48d7-a75d-abb31739608c",
   "metadata": {},
   "source": [
    "これはまだ提出せずに、lightGBMのチューニング  \n",
    "XGBoostのチューニングをしてからやる。"
   ]
  },
  {
   "cell_type": "code",
   "execution_count": 81,
   "id": "eabc56c8-52e4-43cd-bb45-378dbc6ffdf7",
   "metadata": {},
   "outputs": [
    {
     "data": {
      "text/html": [
       "<div>\n",
       "<style scoped>\n",
       "    .dataframe tbody tr th:only-of-type {\n",
       "        vertical-align: middle;\n",
       "    }\n",
       "\n",
       "    .dataframe tbody tr th {\n",
       "        vertical-align: top;\n",
       "    }\n",
       "\n",
       "    .dataframe thead th {\n",
       "        text-align: right;\n",
       "    }\n",
       "</style>\n",
       "<table border=\"1\" class=\"dataframe\">\n",
       "  <thead>\n",
       "    <tr style=\"text-align: right;\">\n",
       "      <th></th>\n",
       "      <th>8646</th>\n",
       "      <th>57.810141765151826</th>\n",
       "    </tr>\n",
       "  </thead>\n",
       "  <tbody>\n",
       "    <tr>\n",
       "      <th>0</th>\n",
       "      <td>8647</td>\n",
       "      <td>33.743060</td>\n",
       "    </tr>\n",
       "    <tr>\n",
       "      <th>1</th>\n",
       "      <td>8648</td>\n",
       "      <td>25.250391</td>\n",
       "    </tr>\n",
       "    <tr>\n",
       "      <th>2</th>\n",
       "      <td>8649</td>\n",
       "      <td>9.031976</td>\n",
       "    </tr>\n",
       "    <tr>\n",
       "      <th>3</th>\n",
       "      <td>8650</td>\n",
       "      <td>-6.405563</td>\n",
       "    </tr>\n",
       "    <tr>\n",
       "      <th>4</th>\n",
       "      <td>8651</td>\n",
       "      <td>-6.057014</td>\n",
       "    </tr>\n",
       "  </tbody>\n",
       "</table>\n",
       "</div>"
      ],
      "text/plain": [
       "   8646  57.810141765151826\n",
       "0  8647           33.743060\n",
       "1  8648           25.250391\n",
       "2  8649            9.031976\n",
       "3  8650           -6.405563\n",
       "4  8651           -6.057014"
      ]
     },
     "execution_count": 81,
     "metadata": {},
     "output_type": "execute_result"
    }
   ],
   "source": [
    "sample_submit_13 = pd.read_csv('sample_submit_13.csv')\n",
    "sample_submit_13.head()"
   ]
  },
  {
   "cell_type": "markdown",
   "id": "1d12f97b-5a9f-44ce-a528-585dec6d3012",
   "metadata": {},
   "source": [
    "### 評価  \n",
    "RMSE  118.1831976(125/1246位)  \n",
    "XGBoost単体の方が精度が良い。"
   ]
  },
  {
   "cell_type": "markdown",
   "id": "aacd3203-a4ab-4a9f-a39b-c3b517f31d66",
   "metadata": {},
   "source": [
    "# 検証14"
   ]
  },
  {
   "cell_type": "markdown",
   "id": "dec1306d-d6f4-4f2f-9636-8d0e2e1d6c85",
   "metadata": {},
   "source": [
    "XGBoostを検証11モデルで、パラメータのチューニングをする。"
   ]
  },
  {
   "cell_type": "markdown",
   "id": "1da9dddb-6be9-47e9-95d4-65ddc1e69081",
   "metadata": {},
   "source": [
    "### 最大化したい評価指標の定義"
   ]
  },
  {
   "cell_type": "code",
   "execution_count": 4,
   "id": "4472fc16-f042-4bff-a2e8-2a5dfc4caf50",
   "metadata": {},
   "outputs": [],
   "source": [
    "#前処理\n",
    "\n",
    "#trainデータ処理\n",
    "train_df = pd.read_table('train.tsv')\n",
    "#One-Hot Encoding\n",
    "train_df_one_hot_encoded = pd.get_dummies(train_df,columns=['weathersit'])\n",
    "#曜日の'weekday'を土日(0)と平日(1)の2値データする。\n",
    "#新しい変数'weekday2'を作って、全て0(zero)を入れる\n",
    "train_df_one_hot_encoded['weekday2'] = 0\n",
    "#平日を1にしたいので、1にするコードを用意する\n",
    "train_df_one_hot_encoded.loc[train_df_one_hot_encoded['weekday'].isin(list(range(1,6))),'weekday2']=1\n",
    "# 結果の件数を確認する\n",
    "#train_df_one_hot_encoded['weekday2'].value_counts()\n",
    "# id2500以前は、傾向が違うため、カット(運用開始など？)\n",
    "train_df_one_hot_encoded = train_df_one_hot_encoded[train_df_one_hot_encoded['id'] > 2500]\n",
    "\n",
    "\n",
    "#testデータ処理\n",
    "test_df = pd.read_table('test.tsv')\n",
    "#One-Hot Encoding\n",
    "test_df_one_hot_encoded = pd.get_dummies(test_df,columns=['weathersit'])\n",
    "#曜日の'weekday'を土日(0)と平日(1)の2値データする。\n",
    "#新しい変数'weekday2'を作って、全て0(zero)を入れる\n",
    "test_df_one_hot_encoded['weekday2'] = 0\n",
    "#平日を1にしたいので、1にするコードを用意する\n",
    "test_df_one_hot_encoded.loc[test_df_one_hot_encoded['weekday'].isin(list(range(1,6))),'weekday2']=1\n"
   ]
  },
  {
   "cell_type": "markdown",
   "id": "acaaa219-b89d-42f4-b263-a6cdf2b26b14",
   "metadata": {},
   "source": [
    "### チューニング前のモデル確認"
   ]
  },
  {
   "cell_type": "code",
   "execution_count": 5,
   "id": "8641375d-e077-4357-aa74-8739069a6020",
   "metadata": {},
   "outputs": [],
   "source": [
    "from xgboost import XGBRegressor"
   ]
  },
  {
   "cell_type": "code",
   "execution_count": 6,
   "id": "1b2d3b19-f06e-4bd2-8d56-5767132c8c7c",
   "metadata": {},
   "outputs": [],
   "source": [
    "from sklearn.model_selection import KFold"
   ]
  },
  {
   "cell_type": "code",
   "execution_count": 7,
   "id": "a2ce4c41-734a-4a58-aec9-5f6520015c7d",
   "metadata": {},
   "outputs": [],
   "source": [
    "\n",
    "# 乱数シード\n",
    "seed = 42\n",
    "# モデル作成\n",
    "model = XGBRegressor(booster='gbtree', objective='reg:squarederror',\n",
    "                     random_state=seed, n_estimators=10000)  # チューニング前のモデル\n",
    "# 学習時fitパラメータ指定\n",
    "fit_params = {'verbose': 0,  # 学習中のコマンドライン出力\n",
    "              'early_stopping_rounds': 10,  # 学習時、評価指標がこの回数連続で改善しなくなった時点でストップ\n",
    "              'eval_metric': 'rmse',  # early_stopping_roundsの評価指標\n",
    "              'eval_set': [(X, y)]  # early_stopping_roundsの評価指標算出用データ\n",
    "              }\n"
   ]
  },
  {
   "cell_type": "code",
   "execution_count": 8,
   "id": "3890b3e1-1751-4a03-8d89-10d59840fe42",
   "metadata": {},
   "outputs": [],
   "source": [
    "import time"
   ]
  },
  {
   "cell_type": "code",
   "execution_count": 9,
   "id": "06b80b50-c89a-4d9e-b676-b2a11d6c1753",
   "metadata": {},
   "outputs": [],
   "source": [
    "# 説明変数、目的変数を格納\n",
    "X = train_df_one_hot_encoded.drop(['id','dteday','cnt'], axis=1)\n",
    "y = train_df_one_hot_encoded['cnt']\n",
    "X_test = test_df_one_hot_encoded.drop(['id','dteday'], axis=1)"
   ]
  },
  {
   "cell_type": "code",
   "execution_count": 12,
   "id": "1e6ac4f1-64e8-414f-b143-e80c66eaa228",
   "metadata": {},
   "outputs": [],
   "source": [
    "from sklearn.model_selection import cross_val_score"
   ]
  },
  {
   "cell_type": "code",
   "execution_count": 10,
   "id": "31861eff-7f85-4042-a639-ca5cac82d19d",
   "metadata": {},
   "outputs": [
    {
     "ename": "NameError",
     "evalue": "name 'cv' is not defined",
     "output_type": "error",
     "traceback": [
      "\u001b[1;31m---------------------------------------------------------------------------\u001b[0m",
      "\u001b[1;31mNameError\u001b[0m                                 Traceback (most recent call last)",
      "Cell \u001b[1;32mIn [10], line 11\u001b[0m\n\u001b[0;32m      4\u001b[0m cv_params \u001b[38;5;241m=\u001b[39m {\u001b[38;5;124m'\u001b[39m\u001b[38;5;124mlearning_rate\u001b[39m\u001b[38;5;124m'\u001b[39m: [\u001b[38;5;241m0.01\u001b[39m, \u001b[38;5;241m0.03\u001b[39m, \u001b[38;5;241m0.1\u001b[39m, \u001b[38;5;241m0.3\u001b[39m],\n\u001b[0;32m      5\u001b[0m              \u001b[38;5;124m'\u001b[39m\u001b[38;5;124mmin_child_weight\u001b[39m\u001b[38;5;124m'\u001b[39m: [\u001b[38;5;241m2\u001b[39m, \u001b[38;5;241m4\u001b[39m, \u001b[38;5;241m6\u001b[39m, \u001b[38;5;241m8\u001b[39m],\n\u001b[0;32m      6\u001b[0m              \u001b[38;5;124m'\u001b[39m\u001b[38;5;124mmax_depth\u001b[39m\u001b[38;5;124m'\u001b[39m: [\u001b[38;5;241m1\u001b[39m, \u001b[38;5;241m2\u001b[39m, \u001b[38;5;241m3\u001b[39m, \u001b[38;5;241m4\u001b[39m],\n\u001b[0;32m      7\u001b[0m              \u001b[38;5;124m'\u001b[39m\u001b[38;5;124mcolsample_bytree\u001b[39m\u001b[38;5;124m'\u001b[39m: [\u001b[38;5;241m0.2\u001b[39m, \u001b[38;5;241m0.5\u001b[39m, \u001b[38;5;241m0.8\u001b[39m, \u001b[38;5;241m1.0\u001b[39m],\n\u001b[0;32m      8\u001b[0m              \u001b[38;5;124m'\u001b[39m\u001b[38;5;124msubsample\u001b[39m\u001b[38;5;124m'\u001b[39m: [\u001b[38;5;241m0.2\u001b[39m, \u001b[38;5;241m0.5\u001b[39m, \u001b[38;5;241m0.8\u001b[39m, \u001b[38;5;241m1.0\u001b[39m]\n\u001b[0;32m      9\u001b[0m              }\n\u001b[0;32m     10\u001b[0m \u001b[38;5;66;03m# グリッドサーチのインスタンス作成\u001b[39;00m\n\u001b[1;32m---> 11\u001b[0m gridcv \u001b[38;5;241m=\u001b[39m GridSearchCV(model, cv_params, cv\u001b[38;5;241m=\u001b[39m\u001b[43mcv\u001b[49m,\n\u001b[0;32m     12\u001b[0m                       scoring\u001b[38;5;241m=\u001b[39mscoring, n_jobs\u001b[38;5;241m=\u001b[39m\u001b[38;5;241m-\u001b[39m\u001b[38;5;241m1\u001b[39m)\n\u001b[0;32m     13\u001b[0m \u001b[38;5;66;03m# グリッドサーチ実行（学習実行）\u001b[39;00m\n\u001b[0;32m     14\u001b[0m gridcv\u001b[38;5;241m.\u001b[39mfit(X, y, \u001b[38;5;241m*\u001b[39m\u001b[38;5;241m*\u001b[39mfit_params)\n",
      "\u001b[1;31mNameError\u001b[0m: name 'cv' is not defined"
     ]
    }
   ],
   "source": [
    "from sklearn.model_selection import GridSearchCV\n",
    "start = time.time()\n",
    "# 最終的なパラメータ範囲\n",
    "cv_params = {'learning_rate': [0.01, 0.03, 0.1, 0.3],\n",
    "             'min_child_weight': [2, 4, 6, 8],\n",
    "             'max_depth': [1, 2, 3, 4],\n",
    "             'colsample_bytree': [0.2, 0.5, 0.8, 1.0],\n",
    "             'subsample': [0.2, 0.5, 0.8, 1.0]\n",
    "             }\n",
    "# グリッドサーチのインスタンス作成\n",
    "gridcv = GridSearchCV(model, cv_params, cv=cv,\n",
    "                      scoring=scoring, n_jobs=-1)\n",
    "# グリッドサーチ実行（学習実行）\n",
    "gridcv.fit(X, y, **fit_params)\n",
    "# 最適パラメータの表示と保持\n",
    "best_params = gridcv.best_params_\n",
    "best_score = gridcv.best_score_\n",
    "print(f'最適パラメータ {best_params}\\nスコア {best_score}')\n",
    "print(f'所要時間{time.time() - start}秒')"
   ]
  },
  {
   "cell_type": "code",
   "execution_count": null,
   "id": "094e9ec1-1a9a-4877-bd11-d7814f0a8056",
   "metadata": {},
   "outputs": [],
   "source": []
  },
  {
   "cell_type": "markdown",
   "id": "98ac000e-f64b-4c6d-b592-33109692cedf",
   "metadata": {},
   "source": [
    "XGBoostのチューニング"
   ]
  },
  {
   "cell_type": "code",
   "execution_count": null,
   "id": "5cfec8be-93dc-488e-a36f-074dd430edba",
   "metadata": {},
   "outputs": [],
   "source": []
  },
  {
   "cell_type": "code",
   "execution_count": null,
   "id": "d36176d0-c0e0-444a-9f84-c134b9f08402",
   "metadata": {},
   "outputs": [],
   "source": []
  },
  {
   "cell_type": "code",
   "execution_count": null,
   "id": "2d6a21d2-c962-4b58-9a5e-497aca789908",
   "metadata": {},
   "outputs": [],
   "source": []
  },
  {
   "cell_type": "code",
   "execution_count": null,
   "id": "e8a9c990-fc21-4267-8970-d00681b5e450",
   "metadata": {},
   "outputs": [],
   "source": []
  },
  {
   "cell_type": "code",
   "execution_count": null,
   "id": "58e39aef-b729-4785-9a08-d419e2d8653c",
   "metadata": {},
   "outputs": [],
   "source": []
  },
  {
   "cell_type": "code",
   "execution_count": null,
   "id": "5ad529bc-f237-47ac-a297-39820b63d0b5",
   "metadata": {},
   "outputs": [],
   "source": []
  }
 ],
 "metadata": {
  "kernelspec": {
   "display_name": "Python 3 (ipykernel)",
   "language": "python",
   "name": "python3"
  },
  "language_info": {
   "codemirror_mode": {
    "name": "ipython",
    "version": 3
   },
   "file_extension": ".py",
   "mimetype": "text/x-python",
   "name": "python",
   "nbconvert_exporter": "python",
   "pygments_lexer": "ipython3",
   "version": "3.8.15"
  }
 },
 "nbformat": 4,
 "nbformat_minor": 5
}
