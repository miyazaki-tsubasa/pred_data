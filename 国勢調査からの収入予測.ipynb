{
 "cells": [
  {
   "cell_type": "markdown",
   "id": "f41c8880-094f-4792-bc16-54800d20a763",
   "metadata": {},
   "source": [
    "# 国勢調査からの収入予測  \n",
    "## 目的  \n",
    "教育年数や職業等の国勢調査データから年収が$50,000ドルを超えるかどうかを予測"
   ]
  },
  {
   "cell_type": "code",
   "execution_count": null,
   "id": "f84051e4-3198-4e1d-8aeb-343c6e72a2fd",
   "metadata": {},
   "outputs": [],
   "source": []
  }
 ],
 "metadata": {
  "kernelspec": {
   "display_name": "Python 3 (ipykernel)",
   "language": "python",
   "name": "python3"
  },
  "language_info": {
   "codemirror_mode": {
    "name": "ipython",
    "version": 3
   },
   "file_extension": ".py",
   "mimetype": "text/x-python",
   "name": "python",
   "nbconvert_exporter": "python",
   "pygments_lexer": "ipython3",
   "version": "3.8.13"
  }
 },
 "nbformat": 4,
 "nbformat_minor": 5
}
